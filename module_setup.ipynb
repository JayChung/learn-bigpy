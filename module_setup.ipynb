{
 "cells": [
  {
   "cell_type": "code",
   "execution_count": 1,
   "metadata": {
    "collapsed": false
   },
   "outputs": [],
   "source": [
    "import sys\n",
    "import os\n",
    "import importlib"
   ]
  },
  {
   "cell_type": "markdown",
   "metadata": {},
   "source": [
    "현재 모듈 탐색 경로"
   ]
  },
  {
   "cell_type": "code",
   "execution_count": 2,
   "metadata": {
    "collapsed": false,
    "scrolled": true
   },
   "outputs": [
    {
     "data": {
      "text/plain": [
       "['',\n",
       " '/Users/seongjoo/anaconda/lib/python35.zip',\n",
       " '/Users/seongjoo/anaconda/lib/python3.5',\n",
       " '/Users/seongjoo/anaconda/lib/python3.5/plat-darwin',\n",
       " '/Users/seongjoo/anaconda/lib/python3.5/lib-dynload',\n",
       " '/Users/seongjoo/anaconda/lib/python3.5/site-packages/Sphinx-1.3.5-py3.5.egg',\n",
       " '/Users/seongjoo/anaconda/lib/python3.5/site-packages/setuptools-20.3-py3.5.egg',\n",
       " '/Users/seongjoo/anaconda/lib/python3.5/site-packages',\n",
       " '/Users/seongjoo/anaconda/lib/python3.5/site-packages/aeosa',\n",
       " '/Users/seongjoo/anaconda/lib/python3.5/site-packages/IPython/extensions',\n",
       " '/Users/seongjoo/.ipython']"
      ]
     },
     "execution_count": 2,
     "metadata": {},
     "output_type": "execute_result"
    }
   ],
   "source": [
    "sys.path"
   ]
  },
  {
   "cell_type": "markdown",
   "metadata": {},
   "source": [
    "모듈이 포함된 경로 추가\n",
    "\n",
    "* 경로는 절대경로로 설정"
   ]
  },
  {
   "cell_type": "code",
   "execution_count": 3,
   "metadata": {
    "collapsed": false
   },
   "outputs": [
    {
     "data": {
      "text/plain": [
       "['',\n",
       " '/Users/seongjoo/anaconda/lib/python35.zip',\n",
       " '/Users/seongjoo/anaconda/lib/python3.5',\n",
       " '/Users/seongjoo/anaconda/lib/python3.5/plat-darwin',\n",
       " '/Users/seongjoo/anaconda/lib/python3.5/lib-dynload',\n",
       " '/Users/seongjoo/anaconda/lib/python3.5/site-packages/Sphinx-1.3.5-py3.5.egg',\n",
       " '/Users/seongjoo/anaconda/lib/python3.5/site-packages/setuptools-20.3-py3.5.egg',\n",
       " '/Users/seongjoo/anaconda/lib/python3.5/site-packages',\n",
       " '/Users/seongjoo/anaconda/lib/python3.5/site-packages/aeosa',\n",
       " '/Users/seongjoo/anaconda/lib/python3.5/site-packages/IPython/extensions',\n",
       " '/Users/seongjoo/.ipython',\n",
       " '/Users/seongjoo/development/learn-bigpy/modules']"
      ]
     },
     "execution_count": 3,
     "metadata": {},
     "output_type": "execute_result"
    }
   ],
   "source": [
    "sys.path.append(os.path.abspath('modules'))\n",
    "sys.path"
   ]
  },
  {
   "cell_type": "markdown",
   "metadata": {},
   "source": [
    "모듈 경로에서 모듈을 찾아서 가져오기가 정상적으로 수행된다."
   ]
  },
  {
   "cell_type": "code",
   "execution_count": 4,
   "metadata": {
    "collapsed": false
   },
   "outputs": [],
   "source": [
    "try:\n",
    "    import koreaexim\n",
    "except ImportError:\n",
    "    print('모듈 찾기 실패')"
   ]
  },
  {
   "cell_type": "code",
   "execution_count": null,
   "metadata": {
    "collapsed": true
   },
   "outputs": [],
   "source": []
  }
 ],
 "metadata": {
  "kernelspec": {
   "display_name": "Python 3",
   "language": "python",
   "name": "python3"
  },
  "language_info": {
   "codemirror_mode": {
    "name": "ipython",
    "version": 3
   },
   "file_extension": ".py",
   "mimetype": "text/x-python",
   "name": "python",
   "nbconvert_exporter": "python",
   "pygments_lexer": "ipython3",
   "version": "3.5.1"
  }
 },
 "nbformat": 4,
 "nbformat_minor": 0
}
