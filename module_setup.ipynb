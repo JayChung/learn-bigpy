{
 "cells": [
  {
   "cell_type": "code",
   "execution_count": 1,
   "metadata": {
    "collapsed": false
   },
   "outputs": [],
   "source": [
    "import sys\n",
    "import os\n",
    "import importlib"
   ]
  },
  {
   "cell_type": "markdown",
   "metadata": {},
   "source": [
    "현재 모듈 탐색 경로"
   ]
  },
  {
   "cell_type": "code",
   "execution_count": 2,
   "metadata": {
    "collapsed": false,
    "scrolled": true
   },
   "outputs": [
    {
     "data": {
      "text/plain": [
       "['',\n",
       " '/Users/seongjoo/anaconda/lib/python35.zip',\n",
       " '/Users/seongjoo/anaconda/lib/python3.5',\n",
       " '/Users/seongjoo/anaconda/lib/python3.5/plat-darwin',\n",
       " '/Users/seongjoo/anaconda/lib/python3.5/lib-dynload',\n",
       " '/Users/seongjoo/anaconda/lib/python3.5/site-packages/Sphinx-1.3.5-py3.5.egg',\n",
       " '/Users/seongjoo/anaconda/lib/python3.5/site-packages/setuptools-20.3-py3.5.egg',\n",
       " '/Users/seongjoo/anaconda/lib/python3.5/site-packages',\n",
       " '/Users/seongjoo/anaconda/lib/python3.5/site-packages/aeosa',\n",
       " '/Users/seongjoo/anaconda/lib/python3.5/site-packages/IPython/extensions',\n",
       " '/Users/seongjoo/.ipython']"
      ]
     },
     "execution_count": 2,
     "metadata": {},
     "output_type": "execute_result"
    }
   ],
   "source": [
    "sys.path"
   ]
  },
  {
   "cell_type": "markdown",
   "metadata": {},
   "source": [
    "모듈이 포함된 경로 추가\n",
    "\n",
    "* 경로는 절대경로로 설정"
   ]
  },
  {
   "cell_type": "code",
   "execution_count": 3,
   "metadata": {
    "collapsed": false
   },
   "outputs": [
    {
     "data": {
      "text/plain": [
       "['',\n",
       " '/Users/seongjoo/anaconda/lib/python35.zip',\n",
       " '/Users/seongjoo/anaconda/lib/python3.5',\n",
       " '/Users/seongjoo/anaconda/lib/python3.5/plat-darwin',\n",
       " '/Users/seongjoo/anaconda/lib/python3.5/lib-dynload',\n",
       " '/Users/seongjoo/anaconda/lib/python3.5/site-packages/Sphinx-1.3.5-py3.5.egg',\n",
       " '/Users/seongjoo/anaconda/lib/python3.5/site-packages/setuptools-20.3-py3.5.egg',\n",
       " '/Users/seongjoo/anaconda/lib/python3.5/site-packages',\n",
       " '/Users/seongjoo/anaconda/lib/python3.5/site-packages/aeosa',\n",
       " '/Users/seongjoo/anaconda/lib/python3.5/site-packages/IPython/extensions',\n",
       " '/Users/seongjoo/.ipython',\n",
       " '/Users/seongjoo/development/learn-bigpy/modules']"
      ]
     },
     "execution_count": 3,
     "metadata": {},
     "output_type": "execute_result"
    }
   ],
   "source": [
    "sys.path.append(os.path.abspath('modules'))\n",
    "sys.path"
   ]
  },
  {
   "cell_type": "markdown",
   "metadata": {},
   "source": [
    "모듈 경로에서 모듈을 찾아서 가져오기가 정상적으로 수행된다."
   ]
  },
  {
   "cell_type": "code",
   "execution_count": 4,
   "metadata": {
    "collapsed": false
   },
   "outputs": [],
   "source": [
    "try:\n",
    "    import koreaexim\n",
    "except ImportError:\n",
    "    print('모듈 찾기 실패')"
   ]
  },
  {
   "cell_type": "markdown",
   "metadata": {
    "collapsed": true
   },
   "source": [
    "# 외부 모듈 "
   ]
  },
  {
   "cell_type": "code",
   "execution_count": 5,
   "metadata": {
    "collapsed": true
   },
   "outputs": [
    {
     "name": "stdout",
     "output_type": "stream",
     "text": [
      "\r\n",
      "Usage:   \r\n",
      "  pip <command> [options]\r\n",
      "\r\n",
      "Commands:\r\n",
      "  install                     Install packages.\r\n",
      "  download                    Download packages.\r\n",
      "  uninstall                   Uninstall packages.\r\n",
      "  freeze                      Output installed packages in requirements format.\r\n",
      "  list                        List installed packages.\r\n",
      "  show                        Show information about installed packages.\r\n",
      "  search                      Search PyPI for packages.\r\n",
      "  wheel                       Build wheels from your requirements.\r\n",
      "  hash                        Compute hashes of package archives.\r\n",
      "  completion                  A helper command used for command completion\r\n",
      "  help                        Show help for commands.\r\n",
      "\r\n",
      "General Options:\r\n",
      "  -h, --help                  Show help.\r\n",
      "  --isolated                  Run pip in an isolated mode, ignoring\r\n",
      "                              environment variables and user configuration.\r\n",
      "  -v, --verbose               Give more output. Option is additive, and can be\r",
      "\r\n",
      "                              used up to 3 times.\r\n",
      "  -V, --version               Show version and exit.\r\n",
      "  -q, --quiet                 Give less output.\r\n",
      "  --log <path>                Path to a verbose appending log.\r\n",
      "  --proxy <proxy>             Specify a proxy in the form\r\n",
      "                              [user:passwd@]proxy.server:port.\r\n",
      "  --retries <retries>         Maximum number of retries each connection should\r\n",
      "                              attempt (default 5 times).\r\n",
      "  --timeout <sec>             Set the socket timeout (default 15 seconds).\r\n",
      "  --exists-action <action>    Default action when a path already exists:\r\n",
      "                              (s)witch, (i)gnore, (w)ipe, (b)ackup.\r\n",
      "  --trusted-host <hostname>   Mark this host as trusted, even though it does\r\n",
      "                              not have valid or any HTTPS.\r\n",
      "  --cert <path>               Path to alternate CA bundle.\r\n",
      "  --client-cert <path>        Path to SSL client certificate, a single file\r\n",
      "                              containing the private key and the certificate\r\n",
      "                              in PEM format.\r\n",
      "  --cache-dir <dir>           Store the cache data in <dir>.\r\n",
      "  --no-cache-dir              Disable the cache.\r\n",
      "  --disable-pip-version-check\r\n",
      "                              Don't periodically check PyPI to determine\r\n",
      "                              whether a new version of pip is available for\r\n",
      "                              download. Implied with --no-index.\r\n"
     ]
    }
   ],
   "source": [
    "!pip"
   ]
  },
  {
   "cell_type": "code",
   "execution_count": 6,
   "metadata": {
    "collapsed": false
   },
   "outputs": [
    {
     "name": "stdout",
     "output_type": "stream",
     "text": [
      "Send2Trash3k (1.2.0)  - Send file to trash natively under Mac OS X, Windows\n",
      "                        and Linux.\n",
      "Send2Trash (1.3.0)    - Send file to trash natively under Mac OS X, Windows\n",
      "                        and Linux.\n",
      "\u001b[33mYou are using pip version 8.1.1, however version 8.1.2 is available.\n",
      "You should consider upgrading via the 'pip install --upgrade pip' command.\u001b[0m\n"
     ]
    }
   ],
   "source": [
    "!pip search send2trash"
   ]
  },
  {
   "cell_type": "code",
   "execution_count": 7,
   "metadata": {
    "collapsed": false
   },
   "outputs": [
    {
     "name": "stdout",
     "output_type": "stream",
     "text": [
      "Collecting send2trash\n",
      "  Downloading Send2Trash-1.3.0.tar.gz\n",
      "Building wheels for collected packages: send2trash\n",
      "  Running setup.py bdist_wheel for send2trash ... \u001b[?25l-\b \bdone\n",
      "\u001b[?25h  Stored in directory: /Users/seongjoo/Library/Caches/pip/wheels/15/76/b3/a81bb5d0bfc6157d1e5df52d34cbea6ffe8a0fc6fea83bddb0\n",
      "Successfully built send2trash\n",
      "Installing collected packages: send2trash\n",
      "Successfully installed send2trash-1.3.0\n",
      "\u001b[33mYou are using pip version 8.1.1, however version 8.1.2 is available.\n",
      "You should consider upgrading via the 'pip install --upgrade pip' command.\u001b[0m\n"
     ]
    }
   ],
   "source": [
    "!pip install send2trash"
   ]
  },
  {
   "cell_type": "markdown",
   "metadata": {},
   "source": [
    "## pandas 수동 설치 \n",
    "\n",
    "http://pandas.pydata.org/pandas-docs/stable/install.html\n",
    "\n",
    "유의사항\n",
    "\n",
    "* NumPy를 비롯해 수십 가지 의존 패키지 설치도 수동으로 설치해야 한다.\n",
    "* 설치 후 테스트를 수행해서 확인 필요"
   ]
  },
  {
   "cell_type": "code",
   "execution_count": 8,
   "metadata": {
    "collapsed": false
   },
   "outputs": [
    {
     "name": "stdout",
     "output_type": "stream",
     "text": [
      "cili (0.5.3)                           - Eyetracking data tools based on\r\n",
      "                                         pandas\r\n",
      "nsepy (0.3)                            - Library to download financial data in\r\n",
      "                                         pandas dataframe\r\n",
      "BioPandas (0.1.4)                      - Molecular Structures in Pandas\r\n",
      "                                         DataFrames\r\n",
      "vigilance (0.0.1)                      - A schema definition and validation\r\n",
      "                                         framework for pandas DataFrames\r\n",
      "ConcurrentPandas (0.1.2)               - Download data using pandas with\r\n",
      "                                         multi-threading and multi-processing.\r\n",
      "django-pandas (0.3.1)                  - Tools for working with pydata.pandas\r\n",
      "                                         in your Django projects\r\n",
      "cufflinks (0.7.1)                      - Productivity Tools for Plotly +\r\n",
      "                                         Pandas\r\n",
      "pysqldf (1.2.3)                        - sqldf for pandas\r\n",
      "ironeagle (0.4)                        - Helper library for working with\r\n",
      "                                         Pandas and the Cassandra Native\r\n",
      "                                         Driver\r\n",
      "k-means-plus-plus (0.1.0)              - K-Means++ Clustering for Pandas\r\n",
      "                                         DataFrames\r\n",
      "mca (1.0)                              - Multiple correspondence analysis with\r\n",
      "                                         pandas DataFrames\r\n",
      "dummipy (0.0.1)                        - Categorical variable friendly pandas\r\n",
      "                                         data frames\r\n",
      "pandas_datareaders_unofficial (0.0.4)  - Pandas DataReaders with requests and\r\n",
      "                                         requests-cache\r\n",
      "rosbag_pandas (0.4.0.0)                - Create a Python pandas data frame\r\n",
      "                                         from a ros bag file\r\n",
      "pandas_degreedays (0.0.6)              - Pandas degree days\r\n",
      "germanholidays (0.1.0)                 - German holidays in pandas\r\n",
      "grigri (0.07)                          - Extra tools and utilities for doing\r\n",
      "                                         data analysis with numpy, pandas,\r\n",
      "                                         etc.\r\n",
      "handsontablesjs (0.0.1)                - Integrate handsontables with pandas\r\n",
      "                                         for jupyter\r\n",
      "pandasjsonfield (1.0)                  - Django model field for pandas objects\r\n",
      "                                         (Series and DataFrame)\r\n",
      "Flask-Authorization-Panda (0.3)        - Flask Authorization for Pandas!\r\n",
      "pandas_talib (0.0.1)                   - Pandas trading technical analysis\r\n",
      "stutils (0.0.8)                        - Utils for fast work with Pandas\r\n",
      "scikit-spectra (0.3.2.2)               - Spectroscopy in Python built on\r\n",
      "                                         Pandas.\r\n",
      "sandals (0.0.1)                        - SQL + Pandas\r\n",
      "pandashells (0.1.7)                    - Command line data tools\r\n",
      "mview (0.1.3)                          - Package to show graphic view of\r\n",
      "                                         pandas.DataFrame.\r\n",
      "pandas_validator (0.4.0)               - Validate the pandas objects such as\r\n",
      "                                         DataFrame and Series.\r\n",
      "qualisys (0.2.0)                       - Import data from Qualisys Track\r\n",
      "                                         Manager into pandas.\r\n",
      "ppsqlviz (1.0.1)                       - A command line visualization utility\r\n",
      "                                         for SQL using Pandas library in\r\n",
      "                                         Python.\r\n",
      "ddpy (0.2.0)                           - Compose music with pandas\r\n",
      "quickD3map (0.1.4)                     - Generate quick d3 maps from location\r\n",
      "                                         data in pandas\r\n",
      "ezvis3d (0.1)                          - easy vis.js Graph3d js library\r\n",
      "                                         wrapper, accessible from pandas\r\n",
      "                                         dataframes in the IPython notebook\r\n",
      "japandas (0.2.1)                       - pandas japanese extension\r\n",
      "pandas-bamboo (0.1.5)                  - Data manipulation for python using\r\n",
      "                                         Pandas\r\n",
      "kungfu (1.6.8)                         - A Pandas Enhancement\r\n",
      "PyUvVis (0.1.1-2)                      - Pandas-based toolkit for spectral\r\n",
      "                                         data analysis, primarily UVVis\r\n",
      "                                         spectra for now.\r\n",
      "sympa (0.1.0)                          - Symbolic math for pandas\r\n",
      "StyleFrame (0.1.3.5)                   - A library that wraps pandas and\r\n",
      "                                         openpyxl and allows easy styling of\r\n",
      "                                         dataframes in excel. Documentation\r\n",
      "                                         can be found at\r\n",
      "                                         http://styleframe.readthedocs.org\r\n",
      "root_pandas (0.1.0)                    - Read and save DataFrames from and to\r\n",
      "                                         ROOT files\r\n",
      "pandaSDMX (0.3.1)                      - A Python- and pandas-powered client\r\n",
      "                                         for Statistical Data and Metadata\r\n",
      "                                         eXchange\r\n",
      "pandas-qt (0.2.0)                      - Utilities to use pandas (the data\r\n",
      "                                         analysis / manipulation library for\r\n",
      "                                         Python) with Qt.\r\n",
      "tstables (0.0.15)                      - Handles large time series using\r\n",
      "                                         PyTables and Pandas\r\n",
      "motionchart (0.3)                      - A wrapper to make interactive motion\r\n",
      "                                         chart visualizations from pandas\r\n",
      "                                         dataframes\r\n",
      "pandastable (0.7.1)                    - Library for embedding tables in\r\n",
      "                                         Tkinter using pandas DataFrames\r\n",
      "pyjstat (0.3.2)                        - Library to handle JSON-stat data in\r\n",
      "                                         python using pandas DataFrames.\r\n",
      "prettypandas (0.0.1.post1)             - Pandas Styler for Report Quality\r\n",
      "                                         Tables.\r\n",
      "geocoon (0.2.0)                        - GIS data analysis library based on\r\n",
      "                                         Pandas and Shapely\r\n",
      "pyoptionchain (1.0)                    - Google Option Chain + Tk + Pandas\r\n",
      "                                         DataFrame\r\n",
      "pandas_confusion (0.0.6)               - Pandas matrix confusion with plot\r\n",
      "                                         features (matplotlib, seaborn...)\r\n",
      "reframe (1.0.0)                        - Relational algebra on top of Pandas\r\n",
      "                                         DataFrames\r\n",
      "treasuryio (0.0.3)                     - Query treasury.io through Python,\r\n",
      "                                         returning Pandas DataFrames\r\n",
      "geopandas (0.1.1)                      - Geographic pandas extensions\r\n",
      "EasyFrames (0.1.7)                     - Classes and methods for executing\r\n",
      "                                         stata-like commands easily for pandas\r\n",
      "                                         dataframes.\r\n",
      "flyingrhino (0.1.2)                    - Tools for working with unmanned\r\n",
      "                                         aerial vechicle data using python-\r\n",
      "                                         pandas\r\n",
      "subframe (0.0.1)                       - Jupyter-Pandas DataFrame integration\r\n",
      "                                         and visualisation\r\n",
      "tempodb-pandas (0.1.1)                 - Pandas functions for converting\r\n",
      "                                         between Tempo data types\r\n",
      "goenrich (1.2.1)                       - GO enrichment with python -- pandas\r\n",
      "                                         meets networkx\r\n",
      "pandas-rs (0.1.6)                      - pandas extension for PostgreSQL and\r\n",
      "                                         AWS RedShift (Not Officail library)\r\n",
      "qgrid (0.2.0)                          - A Pandas DataFrame viewer for IPython\r\n",
      "                                         Notebook.\r\n",
      "csvpandas (0.0.4)                      - Interface to manipulate csv files as\r\n",
      "                                         Pandas DataFrames.\r\n",
      "livepandas (0.1.7)                     - Give a little life to your data.\r\n",
      "python-qualisys (0.2.0)                - Import data from Qualisys Track\r\n",
      "                                         Manager into pandas.\r\n",
      "pandas-highcharts (0.5.2)              - pandas-highcharts is a Python package\r\n",
      "                                         which allows you to easily build\r\n",
      "                                         Highcharts plots with\r\n",
      "                                         pandas.DataFrame objects.\r\n",
      "pgsheets (0.0.1)                       - Manipulate Google Sheets Using Pandas\r\n",
      "                                         DataFrames\r\n",
      "factory_pandas (0.0.0)                 - Factory Pandas is an alternative to\r\n",
      "                                         fixtures for pandas.\r\n",
      "groupbytime (0.1)                      - Convenience functions for grouping\r\n",
      "                                         datetimes in pandas\r\n",
      "pandas-redistrict (0.0.3)              - Redistricting of pandas dataframes\r\n",
      "masks (0.1.3)                          - Syntactic sugar for data filtering\r\n",
      "                                         with pandas.\r\n",
      "pandas (0.17.1)                        - Powerful data structures for data\r\n",
      "                                         analysis, time series,and statistics\r\n",
      "  INSTALLED: 0.18.0\r\n",
      "  LATEST:    0.17.1\r\n",
      "ipython-cypher (0.2.3)                 - Neo4j Cypher cell and line magic for\r\n",
      "                                         IPython, Pandas, NetworkX and\r\n",
      "                                         matplotlib\r\n",
      "redpanda (0.1.4)                       - Pandas-ORM Integration.\r\n",
      "ezhc (0.5.12)                          - easy Highcharts & Highstock, dynamic\r\n",
      "                                         plots from pandas dataframes in the\r\n",
      "                                         Jupyter notebook\r\n",
      "pdhbase (0.1.0)                        - Read and write pandas dataframes to\r\n",
      "                                         hbase.\r\n",
      "openweathermap_requests (0.0.5)        - openweathermap requests fetch weather\r\n",
      "                                         history Pandas DataFrame\r\n",
      "oracle-db-query (1.0.0)                - Execute an Oracle SQL query and\r\n",
      "                                         return result as Pandas data frame\r\n",
      "pandasql (0.7.1)                       - sqldf for pandas\r\n",
      "PandaSurvey (0.111)                    - Survey weighting utility for the\r\n",
      "                                         Pandas DataFrame\r\n",
      "pandas-datareader (0.2.1)              - Data readers extracted from the\r\n",
      "                                         pandas codebase,should be compatible\r\n",
      "                                         with recent pandas versions\r\n",
      "pandas_ml (0.3.0)                      - pandas, scikit-learn and xgboost\r\n",
      "                                         integration\r\n",
      "encode-dataframe (0.1)                 - Convert UCSC's ENCODE metadata into\r\n",
      "                                         pandas DataFrames\r\n",
      "pyspark-pandas (0.0.7)                 - Tools and algorithms for pandas\r\n",
      "                                         Dataframes distributed on pyspark.\r\n",
      "                                         Please consider the SparklingPandas\r\n",
      "                                         project before this one\r\n",
      "pysemantic (v0.1.1)                    - A traits based data validation module\r\n",
      "                                         for pandas data structures.\r\n",
      "biomartpy (0.1.2)                      - Simple interface for accessing\r\n",
      "                                         biomaRt from Python (via rpy2 and\r\n",
      "                                         pandas)\r\n",
      "sparklingpandas (0.0.6)                - Enable a Pandas like API on PySpark\r\n",
      "pandas-ply (0.2.1)                     - functional data manipulation for\r\n",
      "                                         pandas\r\n",
      "ibmdbpy (0.1.0b22)                     - A Pandas-like SQL-wrapper for in-\r\n",
      "                                         database analytics with IBM\r\n",
      "                                         dashDB/DB2.\r\n",
      "pandas-profiling (1.0.0a2)             - Generate profile report for pandas\r\n",
      "                                         DataFrame\r\n",
      "simple-ranker (1.0.1)                  - An extremely simple, multi-value\r\n",
      "                                         ranking module for pandas DataFrames\r\n",
      "wrds (0.0.5)                           - Read SAS datasets remotely (from\r\n",
      "                                         wrds-cloud) into a Pandas dataframe.\r\n",
      "pandas-finance (0.1.1)                 - Libary of finance related tools using\r\n",
      "                                         pandas and pandas-datareader.\r\n",
      "pandas2sklearn (0.0.3)                 - An integration of pandas dataframes\r\n",
      "                                         with scikit learn.\r\n",
      "calmap (0.0.1)                         - Calendar heatmaps from Pandas time\r\n",
      "                                         series data\r\n",
      "PXL (0.0.8)                            - Extra functions built on NumPy,\r\n",
      "                                         SciPy, pandas, matplotlib, etc.\r\n",
      "orca (1.3.0)                           - A pipeline orchestration tool with\r\n",
      "                                         Pandas support\r\n",
      "pandas-td (0.8.8)                      - Pandas extension for Treasure Data\r\n",
      "git-pandas (1.0.0)                     - A utility for interacting with data\r\n",
      "                                         from git repositories as Pandas\r\n",
      "                                         dataframes\r\n",
      "sklearn-pandas (1.1.0)                 - Pandas integration with sklearn\r\n",
      "pandas-helpers (0.1)                   - Helper functions for working with\r\n",
      "                                         pandas\r\n",
      "rest-pandas (0.4.0)                    - Serves up pandas dataframes via the\r\n",
      "                                         Django REST Framework for client-side\r\n",
      "                                         (i.e. d3.js) visualizations\r\n",
      "bearcart (0.1.3)                       - Python Pandas + Rickshaw.js =\r\n",
      "                                         BearCart\r\n",
      "pandana (0.2.0)                        - Pandas Network Analysis - dataframes\r\n",
      "                                         of network queries, quickly\r\n",
      "\u001b[33mYou are using pip version 8.1.1, however version 8.1.2 is available.\r\n",
      "You should consider upgrading via the 'pip install --upgrade pip' command.\u001b[0m\r\n"
     ]
    }
   ],
   "source": [
    "!pip search pandas"
   ]
  },
  {
   "cell_type": "code",
   "execution_count": null,
   "metadata": {
    "collapsed": false
   },
   "outputs": [
    {
     "name": "stdout",
     "output_type": "stream",
     "text": [
      "Running unit tests for pandas\n",
      "pandas version 0.18.0\n",
      "numpy version 1.10.4\n",
      "pandas is installed in /Users/seongjoo/anaconda/lib/python3.5/site-packages/pandas\n",
      "Python version 3.5.1 |Anaconda 4.0.0 (x86_64)| (default, Dec  7 2015, 11:24:55) [GCC 4.2.1 (Apple Inc. build 5577)]\n",
      "nose version 1.3.7\n"
     ]
    },
    {
     "name": "stderr",
     "output_type": "stream",
     "text": [
      "/Users/seongjoo/anaconda/lib/python3.5/imp.py:216: FutureWarning: The pandas.rpy module is deprecated and will be removed in a future version. We refer to external packages like rpy2. \n",
      "See here for a guide on how to port your code to rpy2: http://pandas.pydata.org/pandas-docs/stable/r_interface.html\n",
      "  return _load(spec)\n",
      "..................................................................................................S.......S.......S.......S.............................................................................................................................................................................................................................S........S......SS................................SS.....................S.......................................................................................................................................SS..............................................................SS............................................................SSSSSSSSSSSSSSSSSSSSSSSSSSSSSSSSSSS.SSS.....S.S......................................................................................................................................................S...............................S..SS.................................................................................................................................................................S......F.........................................S.....................................................................................................................F....................................................................................S.........................................................................F..........................................................................S.......................................................................................SSSSS................................................................................S....................................S.........................S....................................................S...................................................................................................................................................."
     ]
    }
   ],
   "source": [
    "import pandas as pd\n",
    "pd.test()"
   ]
  },
  {
   "cell_type": "code",
   "execution_count": null,
   "metadata": {
    "collapsed": true
   },
   "outputs": [],
   "source": []
  }
 ],
 "metadata": {
  "kernelspec": {
   "display_name": "Python 3",
   "language": "python",
   "name": "python3"
  },
  "language_info": {
   "codemirror_mode": {
    "name": "ipython",
    "version": 3
   },
   "file_extension": ".py",
   "mimetype": "text/x-python",
   "name": "python",
   "nbconvert_exporter": "python",
   "pygments_lexer": "ipython3",
   "version": "3.5.1"
  }
 },
 "nbformat": 4,
 "nbformat_minor": 0
}
