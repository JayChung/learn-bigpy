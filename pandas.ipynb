{
 "cells": [
  {
   "cell_type": "code",
   "execution_count": 2,
   "metadata": {
    "collapsed": false
   },
   "outputs": [],
   "source": [
    "from pandas import Series, DataFrame\n",
    "import pandas as pd\n",
    "import numpy as np"
   ]
  },
  {
   "cell_type": "markdown",
   "metadata": {},
   "source": [
    "# Series"
   ]
  },
  {
   "cell_type": "code",
   "execution_count": 2,
   "metadata": {
    "collapsed": false
   },
   "outputs": [
    {
     "data": {
      "text/plain": [
       "0    4\n",
       "1    7\n",
       "2   -5\n",
       "3    3\n",
       "dtype: int64"
      ]
     },
     "execution_count": 2,
     "metadata": {},
     "output_type": "execute_result"
    }
   ],
   "source": [
    "obj = Series([4,7,-5,3])\n",
    "obj"
   ]
  },
  {
   "cell_type": "code",
   "execution_count": 3,
   "metadata": {
    "collapsed": false
   },
   "outputs": [
    {
     "data": {
      "text/plain": [
       "array([ 4,  7, -5,  3])"
      ]
     },
     "execution_count": 3,
     "metadata": {},
     "output_type": "execute_result"
    }
   ],
   "source": [
    "obj.values"
   ]
  },
  {
   "cell_type": "code",
   "execution_count": 7,
   "metadata": {
    "collapsed": false
   },
   "outputs": [
    {
     "data": {
      "text/plain": [
       "numpy.ndarray"
      ]
     },
     "execution_count": 7,
     "metadata": {},
     "output_type": "execute_result"
    }
   ],
   "source": [
    "type(obj.values)"
   ]
  },
  {
   "cell_type": "code",
   "execution_count": 8,
   "metadata": {
    "collapsed": false
   },
   "outputs": [
    {
     "data": {
      "text/plain": [
       "Int64Index([0, 1, 2, 3], dtype='int64')"
      ]
     },
     "execution_count": 8,
     "metadata": {},
     "output_type": "execute_result"
    }
   ],
   "source": [
    "obj.index"
   ]
  },
  {
   "cell_type": "code",
   "execution_count": 5,
   "metadata": {
    "collapsed": false
   },
   "outputs": [
    {
     "data": {
      "text/plain": [
       "pandas.core.index.Int64Index"
      ]
     },
     "execution_count": 5,
     "metadata": {},
     "output_type": "execute_result"
    }
   ],
   "source": [
    "type(obj.index)"
   ]
  },
  {
   "cell_type": "code",
   "execution_count": 12,
   "metadata": {
    "collapsed": false
   },
   "outputs": [
    {
     "data": {
      "text/plain": [
       "d    4\n",
       "b    7\n",
       "a   -5\n",
       "c    3\n",
       "dtype: int64"
      ]
     },
     "execution_count": 12,
     "metadata": {},
     "output_type": "execute_result"
    }
   ],
   "source": [
    "obj2 = Series([4,7,-5,3], \n",
    "              index=['d', 'b', 'a', 'c'])\n",
    "obj2"
   ]
  },
  {
   "cell_type": "code",
   "execution_count": 15,
   "metadata": {
    "collapsed": false
   },
   "outputs": [
    {
     "data": {
      "text/plain": [
       "4"
      ]
     },
     "execution_count": 15,
     "metadata": {},
     "output_type": "execute_result"
    }
   ],
   "source": [
    "obj2['d']"
   ]
  },
  {
   "cell_type": "markdown",
   "metadata": {},
   "source": [
    "인덱스가 부여되어도 0 기반 인덱스가 기본적으로 계속 적용된다."
   ]
  },
  {
   "cell_type": "code",
   "execution_count": 17,
   "metadata": {
    "collapsed": false,
    "scrolled": true
   },
   "outputs": [
    {
     "data": {
      "text/plain": [
       "4"
      ]
     },
     "execution_count": 17,
     "metadata": {},
     "output_type": "execute_result"
    }
   ],
   "source": [
    "obj2[0]"
   ]
  },
  {
   "cell_type": "code",
   "execution_count": 18,
   "metadata": {
    "collapsed": false
   },
   "outputs": [
    {
     "data": {
      "text/plain": [
       "d    4\n",
       "b    3\n",
       "a   -5\n",
       "c    3\n",
       "dtype: int64"
      ]
     },
     "execution_count": 18,
     "metadata": {},
     "output_type": "execute_result"
    }
   ],
   "source": [
    "obj2['b']= 3\n",
    "obj2"
   ]
  },
  {
   "cell_type": "markdown",
   "metadata": {},
   "source": [
    "값 선택: 지정한 순서대로 표시"
   ]
  },
  {
   "cell_type": "code",
   "execution_count": 19,
   "metadata": {
    "collapsed": false,
    "scrolled": true
   },
   "outputs": [
    {
     "data": {
      "text/plain": [
       "c    3\n",
       "a   -5\n",
       "d    4\n",
       "dtype: int64"
      ]
     },
     "execution_count": 19,
     "metadata": {},
     "output_type": "execute_result"
    }
   ],
   "source": [
    "obj2[['c','a','d']]"
   ]
  },
  {
   "cell_type": "code",
   "execution_count": 11,
   "metadata": {
    "collapsed": false
   },
   "outputs": [
    {
     "data": {
      "text/plain": [
       "d    4\n",
       "b    7\n",
       "c    3\n",
       "dtype: int64"
      ]
     },
     "execution_count": 11,
     "metadata": {},
     "output_type": "execute_result"
    }
   ],
   "source": [
    "# 값이 0보다 큰 항목만 선택\n",
    "obj2[obj2>0]"
   ]
  },
  {
   "cell_type": "code",
   "execution_count": 4,
   "metadata": {
    "collapsed": false
   },
   "outputs": [
    {
     "data": {
      "text/plain": [
       "[1, 2, 3, 1, 2, 3]"
      ]
     },
     "execution_count": 4,
     "metadata": {},
     "output_type": "execute_result"
    }
   ],
   "source": [
    "[1,2,3]*2"
   ]
  },
  {
   "cell_type": "code",
   "execution_count": 12,
   "metadata": {
    "collapsed": false
   },
   "outputs": [
    {
     "data": {
      "text/plain": [
       "d     8\n",
       "b    14\n",
       "a   -10\n",
       "c     6\n",
       "dtype: int64"
      ]
     },
     "execution_count": 12,
     "metadata": {},
     "output_type": "execute_result"
    }
   ],
   "source": [
    "obj2 * 2"
   ]
  },
  {
   "cell_type": "code",
   "execution_count": 13,
   "metadata": {
    "collapsed": false,
    "scrolled": true
   },
   "outputs": [
    {
     "data": {
      "text/plain": [
       "d      54.598150\n",
       "b    1096.633158\n",
       "a       0.006738\n",
       "c      20.085537\n",
       "dtype: float64"
      ]
     },
     "execution_count": 13,
     "metadata": {},
     "output_type": "execute_result"
    }
   ],
   "source": [
    "np.exp(obj2)"
   ]
  },
  {
   "cell_type": "markdown",
   "metadata": {},
   "source": [
    "인덱스 포함 확인"
   ]
  },
  {
   "cell_type": "code",
   "execution_count": 24,
   "metadata": {
    "collapsed": false
   },
   "outputs": [
    {
     "data": {
      "text/plain": [
       "True"
      ]
     },
     "execution_count": 24,
     "metadata": {},
     "output_type": "execute_result"
    }
   ],
   "source": [
    "'b' in obj2"
   ]
  },
  {
   "cell_type": "code",
   "execution_count": 25,
   "metadata": {
    "collapsed": false,
    "scrolled": true
   },
   "outputs": [
    {
     "data": {
      "text/plain": [
       "False"
      ]
     },
     "execution_count": 25,
     "metadata": {},
     "output_type": "execute_result"
    }
   ],
   "source": [
    "'e' in obj2"
   ]
  },
  {
   "cell_type": "markdown",
   "metadata": {},
   "source": [
    "값의 존재 여부 확인"
   ]
  },
  {
   "cell_type": "code",
   "execution_count": 14,
   "metadata": {
    "collapsed": false,
    "scrolled": true
   },
   "outputs": [
    {
     "data": {
      "text/plain": [
       "True"
      ]
     },
     "execution_count": 14,
     "metadata": {},
     "output_type": "execute_result"
    }
   ],
   "source": [
    "4 in obj2.values"
   ]
  },
  {
   "cell_type": "markdown",
   "metadata": {},
   "source": [
    "#### 연습문제\n",
    "\n",
    "학생 세 명의 점수를 각각 Series 형식으로 저장한다. 점수는 국어, 영어, 수학 세 가지 점수를 가질 수 있다.\n",
    "\n",
    "\n",
    "1. 각 학생의 점수를 수학, 국어 두 과목만 표시하되, 순서를 지켜 표시하시오.\n",
    "\n",
    "2. 각 학생의 점수 중 70점 이상인 과목의 점수만을 출력하시오."
   ]
  },
  {
   "cell_type": "code",
   "execution_count": 5,
   "metadata": {
    "collapsed": false
   },
   "outputs": [
    {
     "data": {
      "text/plain": [
       "영    80\n",
       "수    90\n",
       "dtype: int64"
      ]
     },
     "execution_count": 5,
     "metadata": {},
     "output_type": "execute_result"
    }
   ],
   "source": [
    "s1 = Series([60, 80, 90], index=['국', '영', '수'])\n",
    "s1[s1>=70]"
   ]
  },
  {
   "cell_type": "markdown",
   "metadata": {},
   "source": [
    "dict --> Series"
   ]
  },
  {
   "cell_type": "code",
   "execution_count": 8,
   "metadata": {
    "collapsed": false
   },
   "outputs": [
    {
     "data": {
      "text/plain": [
       "Ohio      35000\n",
       "Oregon    16000\n",
       "Texas     71000\n",
       "Utah       5000\n",
       "dtype: int64"
      ]
     },
     "execution_count": 8,
     "metadata": {},
     "output_type": "execute_result"
    }
   ],
   "source": [
    "sdata = {'Ohio' : 35000, \n",
    "         'Texas': 71000, \n",
    "         'Oregon': 16000, \n",
    "         'Utah': 5000}\n",
    "obj3 = Series(sdata)\n",
    "obj3"
   ]
  },
  {
   "cell_type": "markdown",
   "metadata": {},
   "source": [
    "Series --> dict"
   ]
  },
  {
   "cell_type": "code",
   "execution_count": 6,
   "metadata": {
    "collapsed": false
   },
   "outputs": [
    {
     "data": {
      "text/plain": [
       "{'Ohio': 35000, 'Oregon': 16000, 'Texas': 71000, 'Utah': 5000}"
      ]
     },
     "execution_count": 6,
     "metadata": {},
     "output_type": "execute_result"
    }
   ],
   "source": [
    "dict(obj3)"
   ]
  },
  {
   "cell_type": "code",
   "execution_count": 29,
   "metadata": {
    "collapsed": false
   },
   "outputs": [
    {
     "data": {
      "text/plain": [
       "Index([u'Ohio', u'Oregon', u'Texas', u'Utah'], dtype='object')"
      ]
     },
     "execution_count": 29,
     "metadata": {},
     "output_type": "execute_result"
    }
   ],
   "source": [
    "obj3.index"
   ]
  },
  {
   "cell_type": "code",
   "execution_count": 30,
   "metadata": {
    "collapsed": false
   },
   "outputs": [
    {
     "data": {
      "text/plain": [
       "array([35000, 16000, 71000,  5000])"
      ]
     },
     "execution_count": 30,
     "metadata": {},
     "output_type": "execute_result"
    }
   ],
   "source": [
    "obj3.values"
   ]
  },
  {
   "cell_type": "code",
   "execution_count": 9,
   "metadata": {
    "collapsed": false
   },
   "outputs": [
    {
     "data": {
      "text/plain": [
       "California      NaN\n",
       "Ohio          35000\n",
       "Oregon        16000\n",
       "Texas         71000\n",
       "dtype: float64"
      ]
     },
     "execution_count": 9,
     "metadata": {},
     "output_type": "execute_result"
    }
   ],
   "source": [
    "# 원래 데이터에는 값이 없는 인덱스를 지정하는 경우\n",
    "states = ['California', 'Ohio', 'Oregon', 'Texas']\n",
    "obj4 = Series(sdata, index=states)\n",
    "obj4"
   ]
  },
  {
   "cell_type": "code",
   "execution_count": 9,
   "metadata": {
    "collapsed": false
   },
   "outputs": [
    {
     "data": {
      "text/plain": [
       "California   NaN\n",
       "dtype: float64"
      ]
     },
     "execution_count": 9,
     "metadata": {},
     "output_type": "execute_result"
    }
   ],
   "source": [
    "pd.isnull(obj4)"
   ]
  },
  {
   "cell_type": "code",
   "execution_count": 10,
   "metadata": {
    "collapsed": false
   },
   "outputs": [
    {
     "data": {
      "text/plain": [
       "Ohio      35000\n",
       "Oregon    16000\n",
       "Texas     71000\n",
       "dtype: float64"
      ]
     },
     "execution_count": 10,
     "metadata": {},
     "output_type": "execute_result"
    }
   ],
   "source": [
    "obj4[pd.notnull(obj4)]"
   ]
  },
  {
   "cell_type": "code",
   "execution_count": 37,
   "metadata": {
    "collapsed": false
   },
   "outputs": [
    {
     "data": {
      "text/plain": [
       "CA         True\n",
       "Ohio      False\n",
       "Oregon    False\n",
       "Texas     False\n",
       "dtype: bool"
      ]
     },
     "execution_count": 37,
     "metadata": {},
     "output_type": "execute_result"
    }
   ],
   "source": [
    "obj4.isnull()"
   ]
  },
  {
   "cell_type": "code",
   "execution_count": 11,
   "metadata": {
    "collapsed": false
   },
   "outputs": [
    {
     "data": {
      "text/plain": [
       "Ohio      35000\n",
       "Oregon    16000\n",
       "Texas     71000\n",
       "Utah       5000\n",
       "dtype: int64"
      ]
     },
     "execution_count": 11,
     "metadata": {},
     "output_type": "execute_result"
    }
   ],
   "source": [
    "obj3"
   ]
  },
  {
   "cell_type": "code",
   "execution_count": 12,
   "metadata": {
    "collapsed": false
   },
   "outputs": [
    {
     "data": {
      "text/plain": [
       "California      NaN\n",
       "Ohio          35000\n",
       "Oregon        16000\n",
       "Texas         71000\n",
       "dtype: float64"
      ]
     },
     "execution_count": 12,
     "metadata": {},
     "output_type": "execute_result"
    }
   ],
   "source": [
    "obj4"
   ]
  },
  {
   "cell_type": "markdown",
   "metadata": {},
   "source": [
    "서로 인덱스가 어긋나기도 하는 두 Series의 연산"
   ]
  },
  {
   "cell_type": "code",
   "execution_count": 13,
   "metadata": {
    "collapsed": false
   },
   "outputs": [
    {
     "data": {
      "text/plain": [
       "California       NaN\n",
       "Ohio           70000\n",
       "Oregon         32000\n",
       "Texas         142000\n",
       "Utah             NaN\n",
       "dtype: float64"
      ]
     },
     "execution_count": 13,
     "metadata": {},
     "output_type": "execute_result"
    }
   ],
   "source": [
    "obj3+obj4"
   ]
  },
  {
   "cell_type": "markdown",
   "metadata": {},
   "source": [
    "#### 연습문제\n",
    "\n",
    "obj3와 obj4의 원소를 더하고, 값이 있는 것만 선택해 결과를 저장하시오."
   ]
  },
  {
   "cell_type": "code",
   "execution_count": 10,
   "metadata": {
    "collapsed": false
   },
   "outputs": [
    {
     "data": {
      "text/plain": [
       "Ohio       70000\n",
       "Oregon     32000\n",
       "Texas     142000\n",
       "dtype: float64"
      ]
     },
     "execution_count": 10,
     "metadata": {},
     "output_type": "execute_result"
    }
   ],
   "source": [
    "obj = obj3 + obj4\n",
    "obj[obj.notnull()]"
   ]
  },
  {
   "cell_type": "code",
   "execution_count": 26,
   "metadata": {
    "collapsed": false
   },
   "outputs": [
    {
     "data": {
      "text/plain": [
       "California      NaN\n",
       "Ohio          35000\n",
       "Oregon        16000\n",
       "Texas         71000\n",
       "Name: population, dtype: float64"
      ]
     },
     "execution_count": 26,
     "metadata": {},
     "output_type": "execute_result"
    }
   ],
   "source": [
    "obj4.name = 'population'\n",
    "obj4"
   ]
  },
  {
   "cell_type": "code",
   "execution_count": 29,
   "metadata": {
    "collapsed": false
   },
   "outputs": [
    {
     "data": {
      "text/plain": [
       "True"
      ]
     },
     "execution_count": 29,
     "metadata": {},
     "output_type": "execute_result"
    }
   ],
   "source": [
    "obj4.name is 'population'"
   ]
  },
  {
   "cell_type": "code",
   "execution_count": 28,
   "metadata": {
    "collapsed": false
   },
   "outputs": [
    {
     "data": {
      "text/plain": [
       "state\n",
       "California      NaN\n",
       "Ohio          35000\n",
       "Oregon        16000\n",
       "Texas         71000\n",
       "Name: population, dtype: float64"
      ]
     },
     "execution_count": 28,
     "metadata": {},
     "output_type": "execute_result"
    }
   ],
   "source": [
    "obj4.index.name = 'state'\n",
    "obj4"
   ]
  },
  {
   "cell_type": "code",
   "execution_count": 16,
   "metadata": {
    "collapsed": false
   },
   "outputs": [
    {
     "data": {
      "text/plain": [
       "0    4\n",
       "1    7\n",
       "2   -5\n",
       "3    3\n",
       "dtype: int64"
      ]
     },
     "execution_count": 16,
     "metadata": {},
     "output_type": "execute_result"
    }
   ],
   "source": [
    "obj = Series([4,7,-5,3])\n",
    "obj"
   ]
  },
  {
   "cell_type": "code",
   "execution_count": 48,
   "metadata": {
    "collapsed": false
   },
   "outputs": [
    {
     "data": {
      "text/plain": [
       "Bob      4\n",
       "Steve    7\n",
       "Jeff    -5\n",
       "Ryan     3\n",
       "dtype: int64"
      ]
     },
     "execution_count": 48,
     "metadata": {},
     "output_type": "execute_result"
    }
   ],
   "source": [
    "obj.index = ['Bob', 'Steve', 'Jeff', 'Ryan']\n",
    "obj"
   ]
  },
  {
   "cell_type": "markdown",
   "metadata": {},
   "source": [
    "## 연습문제\n",
    "\n",
    "학생1은 국어, 영어, 수학 점수가 있고, 학생2는 영어, 수학, 과학 점수가 있다. 점수는 [0,100]의 범위로, 임의의 값이다. 다음을 1) 일반 파이썬 자료구조로 프로그래밍한 것과 2) pandas.Series를 사용해 해결한 것을 비교해 보시오.\n",
    "\n",
    "1. 각 학생의 공통 과목 점수를 출력하시오.\n",
    "\n",
    "2. 학생2의 점수 중 학생1은 없는 점수만을 출력하시오.\n",
    "\n",
    "3. 과목 점수가 같은 것을 찾아, 동점이 있는 과목을 출력하시오."
   ]
  },
  {
   "cell_type": "code",
   "execution_count": 33,
   "metadata": {
    "collapsed": false
   },
   "outputs": [
    {
     "name": "stdout",
     "output_type": "stream",
     "text": [
      "4365960368\n",
      "수학: 95\n",
      "영어: 85\n",
      "4406405392\n",
      "수학: 84\n",
      "영어: 75\n"
     ]
    }
   ],
   "source": [
    "# 일반 파이썬으로 수행하기\n",
    "s1 = {u'국어':90, u'수학': 95, u'영어':85}\n",
    "s2 = {u'영어':75, u'수학': 84, u'과학':50}\n",
    "\n",
    "# 각 학생의 과목 목록 가져오기\n",
    "s1_subjects = s1.keys()\n",
    "s2_subjects = s2.keys()\n",
    "\n",
    "# 공통 과목 알아내기 \n",
    "# set 형으로 바꿔 교집합을 구한다.(교재 p.564 세트 참조)\n",
    "common_sub = set(s1_subjects) & set(s2_subjects)\n",
    "# 교집합을 구하고 나면 결과는 다시 list로 변환\n",
    "common_sub = list(common_sub)\n",
    "\n",
    "# 각 학생의 점수에서, 공통 과목 점수 출력\n",
    "for s in [s1, s2]:\n",
    "    print(id(s))\n",
    "    # 공통 과목 출력\n",
    "    for subject in common_sub:\n",
    "        if subject in s:\n",
    "            print(u'{}: {}'.format(subject, s[subject]))"
   ]
  },
  {
   "cell_type": "code",
   "execution_count": 45,
   "metadata": {
    "collapsed": false
   },
   "outputs": [
    {
     "name": "stdout",
     "output_type": "stream",
     "text": [
      "Index([u'수학', u'영어'], dtype='object')\n",
      "수학    95\n",
      "영어    85\n",
      "dtype: int64\n",
      "수학    84\n",
      "영어    75\n",
      "dtype: int64\n"
     ]
    }
   ],
   "source": [
    "# pandas로 수행하기\n",
    "s1 = Series({u'국어':90, u'수학': 95, u'영어':85})\n",
    "s2 = Series({u'영어':75, u'수학': 84, u'과학':50})\n",
    "\n",
    "# 공통 과목만 표시\n",
    "common_idx = s1.index & s2.index\n",
    "\n",
    "print(common_idx)\n",
    "print(s1[common_idx])\n",
    "print(s2[common_idx])"
   ]
  },
  {
   "cell_type": "markdown",
   "metadata": {},
   "source": [
    "점수가 같은 과목만 추출"
   ]
  },
  {
   "cell_type": "code",
   "execution_count": 46,
   "metadata": {
    "collapsed": false
   },
   "outputs": [],
   "source": [
    "s1 = Series({u'국어':90, u'수학': 95, u'영어':85})\n",
    "s2 = Series({u'영어':85, u'과학':50, u'수학': 95,})\n",
    "\n",
    "# 동점 과목명 구하기\n",
    "# 불리언 필터 사용 고려 (p.143-145)"
   ]
  },
  {
   "cell_type": "code",
   "execution_count": 47,
   "metadata": {
    "collapsed": false
   },
   "outputs": [
    {
     "data": {
      "text/plain": [
       "국어    False\n",
       "수학     True\n",
       "영어     True\n",
       "dtype: bool"
      ]
     },
     "execution_count": 47,
     "metadata": {},
     "output_type": "execute_result"
    }
   ],
   "source": [
    "s1 == s2"
   ]
  },
  {
   "cell_type": "code",
   "execution_count": 39,
   "metadata": {
    "collapsed": false
   },
   "outputs": [
    {
     "data": {
      "text/plain": [
       "Index([u'국어', u'수학', u'영어'], dtype='object')"
      ]
     },
     "execution_count": 39,
     "metadata": {},
     "output_type": "execute_result"
    }
   ],
   "source": [
    "s1.index"
   ]
  },
  {
   "cell_type": "code",
   "execution_count": 32,
   "metadata": {
    "collapsed": false
   },
   "outputs": [
    {
     "data": {
      "text/plain": [
       "과학    False\n",
       "수학     True\n",
       "영어     True\n",
       "dtype: bool"
      ]
     },
     "execution_count": 32,
     "metadata": {},
     "output_type": "execute_result"
    }
   ],
   "source": [
    "s2 == s1"
   ]
  },
  {
   "cell_type": "code",
   "execution_count": 40,
   "metadata": {
    "collapsed": false
   },
   "outputs": [
    {
     "data": {
      "text/plain": [
       "Index([u'과학', u'수학', u'영어'], dtype='object')"
      ]
     },
     "execution_count": 40,
     "metadata": {},
     "output_type": "execute_result"
    }
   ],
   "source": [
    "s2.index"
   ]
  },
  {
   "cell_type": "markdown",
   "metadata": {},
   "source": [
    "## ISSUE?"
   ]
  },
  {
   "cell_type": "code",
   "execution_count": 52,
   "metadata": {
    "collapsed": true
   },
   "outputs": [],
   "source": [
    "ss1 = Series([90, 95, 85], index=[u'국어', u'수학', u'영어'])\n",
    "ss2 = Series([85, 50, 95], index=[u'영어', u'과학', u'수학'])"
   ]
  },
  {
   "cell_type": "code",
   "execution_count": 53,
   "metadata": {
    "collapsed": false
   },
   "outputs": [
    {
     "data": {
      "text/plain": [
       "국어    False\n",
       "수학    False\n",
       "영어    False\n",
       "dtype: bool"
      ]
     },
     "execution_count": 53,
     "metadata": {},
     "output_type": "execute_result"
    }
   ],
   "source": [
    "ss1 == ss2"
   ]
  },
  {
   "cell_type": "code",
   "execution_count": 54,
   "metadata": {
    "collapsed": false
   },
   "outputs": [
    {
     "data": {
      "text/plain": [
       "True"
      ]
     },
     "execution_count": 54,
     "metadata": {},
     "output_type": "execute_result"
    }
   ],
   "source": [
    "ss1[u'수학'] == ss2[u'수학']"
   ]
  },
  {
   "cell_type": "code",
   "execution_count": 37,
   "metadata": {
    "collapsed": false
   },
   "outputs": [
    {
     "data": {
      "text/plain": [
       "Index([u'국어', u'수학', u'영어'], dtype='object')"
      ]
     },
     "execution_count": 37,
     "metadata": {},
     "output_type": "execute_result"
    }
   ],
   "source": [
    "ss1.index"
   ]
  },
  {
   "cell_type": "code",
   "execution_count": 38,
   "metadata": {
    "collapsed": false
   },
   "outputs": [
    {
     "data": {
      "text/plain": [
       "Index([u'영어', u'과학', u'수학'], dtype='object')"
      ]
     },
     "execution_count": 38,
     "metadata": {},
     "output_type": "execute_result"
    }
   ],
   "source": [
    "ss2.index"
   ]
  },
  {
   "cell_type": "markdown",
   "metadata": {},
   "source": [
    "# DataFrame"
   ]
  },
  {
   "cell_type": "code",
   "execution_count": 22,
   "metadata": {
    "collapsed": false
   },
   "outputs": [
    {
     "data": {
      "text/plain": [
       "pandas.core.frame.DataFrame"
      ]
     },
     "execution_count": 22,
     "metadata": {},
     "output_type": "execute_result"
    }
   ],
   "source": [
    "from pandas import Series, DataFrame\n",
    "DataFrame"
   ]
  },
  {
   "cell_type": "code",
   "execution_count": 12,
   "metadata": {
    "collapsed": false
   },
   "outputs": [
    {
     "data": {
      "text/html": [
       "<div style=\"max-height:1000px;max-width:1500px;overflow:auto;\">\n",
       "<table border=\"1\" class=\"dataframe\">\n",
       "  <thead>\n",
       "    <tr style=\"text-align: right;\">\n",
       "      <th></th>\n",
       "      <th>pop</th>\n",
       "      <th>state</th>\n",
       "      <th>year</th>\n",
       "    </tr>\n",
       "  </thead>\n",
       "  <tbody>\n",
       "    <tr>\n",
       "      <th>0</th>\n",
       "      <td>1.5</td>\n",
       "      <td>Ohio</td>\n",
       "      <td>2000</td>\n",
       "    </tr>\n",
       "    <tr>\n",
       "      <th>1</th>\n",
       "      <td>1.7</td>\n",
       "      <td>Ohio</td>\n",
       "      <td>2001</td>\n",
       "    </tr>\n",
       "    <tr>\n",
       "      <th>2</th>\n",
       "      <td>3.6</td>\n",
       "      <td>Ohio</td>\n",
       "      <td>2002</td>\n",
       "    </tr>\n",
       "    <tr>\n",
       "      <th>3</th>\n",
       "      <td>2.4</td>\n",
       "      <td>Nevada</td>\n",
       "      <td>2001</td>\n",
       "    </tr>\n",
       "    <tr>\n",
       "      <th>4</th>\n",
       "      <td>2.9</td>\n",
       "      <td>Nevada</td>\n",
       "      <td>2002</td>\n",
       "    </tr>\n",
       "  </tbody>\n",
       "</table>\n",
       "</div>"
      ],
      "text/plain": [
       "   pop   state  year\n",
       "0  1.5    Ohio  2000\n",
       "1  1.7    Ohio  2001\n",
       "2  3.6    Ohio  2002\n",
       "3  2.4  Nevada  2001\n",
       "4  2.9  Nevada  2002"
      ]
     },
     "execution_count": 12,
     "metadata": {},
     "output_type": "execute_result"
    }
   ],
   "source": [
    "data = {u'state': \n",
    "        ['Ohio', 'Ohio', 'Ohio', 'Nevada', 'Nevada'],\n",
    "       'year': [2000, 2001, 2002, 2001, 2002],\n",
    "       'pop': [1.5, 1.7, 3.6, 2.4, 2.9]}\n",
    "frame = DataFrame(data)\n",
    "frame"
   ]
  },
  {
   "cell_type": "markdown",
   "metadata": {},
   "source": [
    "열을 특정한 방식으로 구성하고 싶으면, columns를 설정하면 된다."
   ]
  },
  {
   "cell_type": "code",
   "execution_count": 303,
   "metadata": {
    "collapsed": false
   },
   "outputs": [
    {
     "data": {
      "text/html": [
       "<div style=\"max-height:1000px;max-width:1500px;overflow:auto;\">\n",
       "<table border=\"1\" class=\"dataframe\">\n",
       "  <thead>\n",
       "    <tr style=\"text-align: right;\">\n",
       "      <th></th>\n",
       "      <th>year</th>\n",
       "      <th>state</th>\n",
       "      <th>pop</th>\n",
       "    </tr>\n",
       "  </thead>\n",
       "  <tbody>\n",
       "    <tr>\n",
       "      <th>0</th>\n",
       "      <td>2000</td>\n",
       "      <td>Ohio</td>\n",
       "      <td>1.5</td>\n",
       "    </tr>\n",
       "    <tr>\n",
       "      <th>1</th>\n",
       "      <td>2001</td>\n",
       "      <td>Ohio</td>\n",
       "      <td>1.7</td>\n",
       "    </tr>\n",
       "    <tr>\n",
       "      <th>2</th>\n",
       "      <td>2002</td>\n",
       "      <td>Ohio</td>\n",
       "      <td>3.6</td>\n",
       "    </tr>\n",
       "    <tr>\n",
       "      <th>3</th>\n",
       "      <td>2001</td>\n",
       "      <td>Nevada</td>\n",
       "      <td>2.4</td>\n",
       "    </tr>\n",
       "    <tr>\n",
       "      <th>4</th>\n",
       "      <td>2002</td>\n",
       "      <td>Nevada</td>\n",
       "      <td>2.9</td>\n",
       "    </tr>\n",
       "  </tbody>\n",
       "</table>\n",
       "</div>"
      ],
      "text/plain": [
       "   year   state  pop\n",
       "0  2000    Ohio  1.5\n",
       "1  2001    Ohio  1.7\n",
       "2  2002    Ohio  3.6\n",
       "3  2001  Nevada  2.4\n",
       "4  2002  Nevada  2.9"
      ]
     },
     "execution_count": 303,
     "metadata": {},
     "output_type": "execute_result"
    }
   ],
   "source": [
    "frame = DataFrame(data, \n",
    "                  columns=['year', 'state', 'pop'])\n",
    "frame"
   ]
  },
  {
   "cell_type": "code",
   "execution_count": 13,
   "metadata": {
    "collapsed": false
   },
   "outputs": [
    {
     "data": {
      "text/html": [
       "<div style=\"max-height:1000px;max-width:1500px;overflow:auto;\">\n",
       "<table border=\"1\" class=\"dataframe\">\n",
       "  <thead>\n",
       "    <tr style=\"text-align: right;\">\n",
       "      <th></th>\n",
       "      <th>year</th>\n",
       "      <th>state</th>\n",
       "      <th>pop</th>\n",
       "      <th>debt</th>\n",
       "    </tr>\n",
       "  </thead>\n",
       "  <tbody>\n",
       "    <tr>\n",
       "      <th>하나</th>\n",
       "      <td>2000</td>\n",
       "      <td>Ohio</td>\n",
       "      <td>1.5</td>\n",
       "      <td>NaN</td>\n",
       "    </tr>\n",
       "    <tr>\n",
       "      <th>둘</th>\n",
       "      <td>2001</td>\n",
       "      <td>Ohio</td>\n",
       "      <td>1.7</td>\n",
       "      <td>NaN</td>\n",
       "    </tr>\n",
       "    <tr>\n",
       "      <th>셋</th>\n",
       "      <td>2002</td>\n",
       "      <td>Ohio</td>\n",
       "      <td>3.6</td>\n",
       "      <td>NaN</td>\n",
       "    </tr>\n",
       "    <tr>\n",
       "      <th>넷</th>\n",
       "      <td>2001</td>\n",
       "      <td>Nevada</td>\n",
       "      <td>2.4</td>\n",
       "      <td>NaN</td>\n",
       "    </tr>\n",
       "    <tr>\n",
       "      <th>다섯</th>\n",
       "      <td>2002</td>\n",
       "      <td>Nevada</td>\n",
       "      <td>2.9</td>\n",
       "      <td>NaN</td>\n",
       "    </tr>\n",
       "  </tbody>\n",
       "</table>\n",
       "</div>"
      ],
      "text/plain": [
       "    year   state  pop debt\n",
       "하나  2000    Ohio  1.5  NaN\n",
       "둘   2001    Ohio  1.7  NaN\n",
       "셋   2002    Ohio  3.6  NaN\n",
       "넷   2001  Nevada  2.4  NaN\n",
       "다섯  2002  Nevada  2.9  NaN"
      ]
     },
     "execution_count": 13,
     "metadata": {},
     "output_type": "execute_result"
    }
   ],
   "source": [
    "frame2 = DataFrame(data, \n",
    "                   columns=['year', 'state', 'pop', 'debt'],\n",
    "                  index=['하나', '둘', '셋', '넷', '다섯'])\n",
    "frame2"
   ]
  },
  {
   "cell_type": "markdown",
   "metadata": {},
   "source": [
    "열(columns)은 추가할 수 있지만, 인덱스는 다른 방식으로 추가해야 한다."
   ]
  },
  {
   "cell_type": "code",
   "execution_count": 14,
   "metadata": {
    "collapsed": true
   },
   "outputs": [
    {
     "ename": "ValueError",
     "evalue": "Shape of passed values is (4, 5), indices imply (4, 6)",
     "output_type": "error",
     "traceback": [
      "\u001b[0;31m---------------------------------------------------------------------------\u001b[0m",
      "\u001b[0;31mValueError\u001b[0m                                Traceback (most recent call last)",
      "\u001b[0;32m<ipython-input-14-887bd8537687>\u001b[0m in \u001b[0;36m<module>\u001b[0;34m()\u001b[0m\n\u001b[1;32m      1\u001b[0m DataFrame(data, columns=['year', 'state', 'pop', 'debt'],\n\u001b[0;32m----> 2\u001b[0;31m     index=['하나', '둘', '셋', '넷', '다섯', 'SIX'])\n\u001b[0m",
      "\u001b[0;32m/Users/seongjoo/anaconda/lib/python2.7/site-packages/pandas/core/frame.pyc\u001b[0m in \u001b[0;36m__init__\u001b[0;34m(self, data, index, columns, dtype, copy)\u001b[0m\n\u001b[1;32m    206\u001b[0m                                  dtype=dtype, copy=copy)\n\u001b[1;32m    207\u001b[0m         \u001b[0;32melif\u001b[0m \u001b[0misinstance\u001b[0m\u001b[0;34m(\u001b[0m\u001b[0mdata\u001b[0m\u001b[0;34m,\u001b[0m \u001b[0mdict\u001b[0m\u001b[0;34m)\u001b[0m\u001b[0;34m:\u001b[0m\u001b[0;34m\u001b[0m\u001b[0m\n\u001b[0;32m--> 208\u001b[0;31m             \u001b[0mmgr\u001b[0m \u001b[0;34m=\u001b[0m \u001b[0mself\u001b[0m\u001b[0;34m.\u001b[0m\u001b[0m_init_dict\u001b[0m\u001b[0;34m(\u001b[0m\u001b[0mdata\u001b[0m\u001b[0;34m,\u001b[0m \u001b[0mindex\u001b[0m\u001b[0;34m,\u001b[0m \u001b[0mcolumns\u001b[0m\u001b[0;34m,\u001b[0m \u001b[0mdtype\u001b[0m\u001b[0;34m=\u001b[0m\u001b[0mdtype\u001b[0m\u001b[0;34m)\u001b[0m\u001b[0;34m\u001b[0m\u001b[0m\n\u001b[0m\u001b[1;32m    209\u001b[0m         \u001b[0;32melif\u001b[0m \u001b[0misinstance\u001b[0m\u001b[0;34m(\u001b[0m\u001b[0mdata\u001b[0m\u001b[0;34m,\u001b[0m \u001b[0mma\u001b[0m\u001b[0;34m.\u001b[0m\u001b[0mMaskedArray\u001b[0m\u001b[0;34m)\u001b[0m\u001b[0;34m:\u001b[0m\u001b[0;34m\u001b[0m\u001b[0m\n\u001b[1;32m    210\u001b[0m             \u001b[0;32mimport\u001b[0m \u001b[0mnumpy\u001b[0m\u001b[0;34m.\u001b[0m\u001b[0mma\u001b[0m\u001b[0;34m.\u001b[0m\u001b[0mmrecords\u001b[0m \u001b[0;32mas\u001b[0m \u001b[0mmrecords\u001b[0m\u001b[0;34m\u001b[0m\u001b[0m\n",
      "\u001b[0;32m/Users/seongjoo/anaconda/lib/python2.7/site-packages/pandas/core/frame.pyc\u001b[0m in \u001b[0;36m_init_dict\u001b[0;34m(self, data, index, columns, dtype)\u001b[0m\n\u001b[1;32m    334\u001b[0m \u001b[0;34m\u001b[0m\u001b[0m\n\u001b[1;32m    335\u001b[0m         return _arrays_to_mgr(arrays, data_names, index, columns,\n\u001b[0;32m--> 336\u001b[0;31m                               dtype=dtype)\n\u001b[0m\u001b[1;32m    337\u001b[0m \u001b[0;34m\u001b[0m\u001b[0m\n\u001b[1;32m    338\u001b[0m     def _init_ndarray(self, values, index, columns, dtype=None,\n",
      "\u001b[0;32m/Users/seongjoo/anaconda/lib/python2.7/site-packages/pandas/core/frame.pyc\u001b[0m in \u001b[0;36m_arrays_to_mgr\u001b[0;34m(arrays, arr_names, index, columns, dtype)\u001b[0m\n\u001b[1;32m   4759\u001b[0m     \u001b[0maxes\u001b[0m \u001b[0;34m=\u001b[0m \u001b[0;34m[\u001b[0m\u001b[0m_ensure_index\u001b[0m\u001b[0;34m(\u001b[0m\u001b[0mcolumns\u001b[0m\u001b[0;34m)\u001b[0m\u001b[0;34m,\u001b[0m \u001b[0m_ensure_index\u001b[0m\u001b[0;34m(\u001b[0m\u001b[0mindex\u001b[0m\u001b[0;34m)\u001b[0m\u001b[0;34m]\u001b[0m\u001b[0;34m\u001b[0m\u001b[0m\n\u001b[1;32m   4760\u001b[0m \u001b[0;34m\u001b[0m\u001b[0m\n\u001b[0;32m-> 4761\u001b[0;31m     \u001b[0;32mreturn\u001b[0m \u001b[0mcreate_block_manager_from_arrays\u001b[0m\u001b[0;34m(\u001b[0m\u001b[0marrays\u001b[0m\u001b[0;34m,\u001b[0m \u001b[0marr_names\u001b[0m\u001b[0;34m,\u001b[0m \u001b[0maxes\u001b[0m\u001b[0;34m)\u001b[0m\u001b[0;34m\u001b[0m\u001b[0m\n\u001b[0m\u001b[1;32m   4762\u001b[0m \u001b[0;34m\u001b[0m\u001b[0m\n\u001b[1;32m   4763\u001b[0m \u001b[0;34m\u001b[0m\u001b[0m\n",
      "\u001b[0;32m/Users/seongjoo/anaconda/lib/python2.7/site-packages/pandas/core/internals.pyc\u001b[0m in \u001b[0;36mcreate_block_manager_from_arrays\u001b[0;34m(arrays, names, axes)\u001b[0m\n\u001b[1;32m   3536\u001b[0m         \u001b[0;32mreturn\u001b[0m \u001b[0mmgr\u001b[0m\u001b[0;34m\u001b[0m\u001b[0m\n\u001b[1;32m   3537\u001b[0m     \u001b[0;32mexcept\u001b[0m \u001b[0;34m(\u001b[0m\u001b[0mValueError\u001b[0m\u001b[0;34m)\u001b[0m \u001b[0;32mas\u001b[0m \u001b[0me\u001b[0m\u001b[0;34m:\u001b[0m\u001b[0;34m\u001b[0m\u001b[0m\n\u001b[0;32m-> 3538\u001b[0;31m         \u001b[0mconstruction_error\u001b[0m\u001b[0;34m(\u001b[0m\u001b[0mlen\u001b[0m\u001b[0;34m(\u001b[0m\u001b[0marrays\u001b[0m\u001b[0;34m)\u001b[0m\u001b[0;34m,\u001b[0m \u001b[0marrays\u001b[0m\u001b[0;34m[\u001b[0m\u001b[0;36m0\u001b[0m\u001b[0;34m]\u001b[0m\u001b[0;34m.\u001b[0m\u001b[0mshape\u001b[0m\u001b[0;34m,\u001b[0m \u001b[0maxes\u001b[0m\u001b[0;34m,\u001b[0m \u001b[0me\u001b[0m\u001b[0;34m)\u001b[0m\u001b[0;34m\u001b[0m\u001b[0m\n\u001b[0m\u001b[1;32m   3539\u001b[0m \u001b[0;34m\u001b[0m\u001b[0m\n\u001b[1;32m   3540\u001b[0m \u001b[0;34m\u001b[0m\u001b[0m\n",
      "\u001b[0;32m/Users/seongjoo/anaconda/lib/python2.7/site-packages/pandas/core/internals.pyc\u001b[0m in \u001b[0;36mconstruction_error\u001b[0;34m(tot_items, block_shape, axes, e)\u001b[0m\n\u001b[1;32m   3507\u001b[0m         \u001b[0;32mraise\u001b[0m \u001b[0me\u001b[0m\u001b[0;34m\u001b[0m\u001b[0m\n\u001b[1;32m   3508\u001b[0m     raise ValueError(\"Shape of passed values is {0}, indices imply {1}\".format(\n\u001b[0;32m-> 3509\u001b[0;31m         passed,implied))\n\u001b[0m\u001b[1;32m   3510\u001b[0m \u001b[0;34m\u001b[0m\u001b[0m\n\u001b[1;32m   3511\u001b[0m \u001b[0;34m\u001b[0m\u001b[0m\n",
      "\u001b[0;31mValueError\u001b[0m: Shape of passed values is (4, 5), indices imply (4, 6)"
     ]
    }
   ],
   "source": [
    "DataFrame(data, columns=['year', 'state', 'pop', 'debt'],\n",
    "    index=['하나', '둘', '셋', '넷', '다섯', 'SIX'])"
   ]
  },
  {
   "cell_type": "code",
   "execution_count": 72,
   "metadata": {
    "collapsed": false
   },
   "outputs": [
    {
     "data": {
      "text/plain": [
       "Index([u'하나', u'둘', u'셋', u'넷', u'다섯'], dtype='object')"
      ]
     },
     "execution_count": 72,
     "metadata": {},
     "output_type": "execute_result"
    }
   ],
   "source": [
    "frame2.index"
   ]
  },
  {
   "cell_type": "code",
   "execution_count": 63,
   "metadata": {
    "collapsed": false
   },
   "outputs": [
    {
     "data": {
      "text/plain": [
       "Index([u'year', u'state', u'pop', u'debt'], dtype='object')"
      ]
     },
     "execution_count": 63,
     "metadata": {},
     "output_type": "execute_result"
    }
   ],
   "source": [
    "frame2.columns"
   ]
  },
  {
   "cell_type": "markdown",
   "metadata": {},
   "source": [
    "특정 열 선택"
   ]
  },
  {
   "cell_type": "code",
   "execution_count": 78,
   "metadata": {
    "collapsed": false,
    "scrolled": true
   },
   "outputs": [
    {
     "data": {
      "text/plain": [
       "하나      Ohio\n",
       "둘       Ohio\n",
       "셋       Ohio\n",
       "넷     Nevada\n",
       "다섯    Nevada\n",
       "Name: state, dtype: object"
      ]
     },
     "execution_count": 78,
     "metadata": {},
     "output_type": "execute_result"
    }
   ],
   "source": [
    "frame2['state']"
   ]
  },
  {
   "cell_type": "code",
   "execution_count": 77,
   "metadata": {
    "collapsed": false
   },
   "outputs": [
    {
     "data": {
      "text/plain": [
       "하나      Ohio\n",
       "둘       Ohio\n",
       "셋       Ohio\n",
       "넷     Nevada\n",
       "다섯    Nevada\n",
       "Name: state, dtype: object"
      ]
     },
     "execution_count": 77,
     "metadata": {},
     "output_type": "execute_result"
    }
   ],
   "source": [
    "frame2.state"
   ]
  },
  {
   "cell_type": "code",
   "execution_count": 65,
   "metadata": {
    "collapsed": false
   },
   "outputs": [
    {
     "data": {
      "text/plain": [
       "pandas.core.series.Series"
      ]
     },
     "execution_count": 65,
     "metadata": {},
     "output_type": "execute_result"
    }
   ],
   "source": [
    "type(frame2['state'])"
   ]
  },
  {
   "cell_type": "markdown",
   "metadata": {},
   "source": [
    "행 선택"
   ]
  },
  {
   "cell_type": "code",
   "execution_count": 16,
   "metadata": {
    "collapsed": false
   },
   "outputs": [
    {
     "data": {
      "text/plain": [
       "year     2002\n",
       "state    Ohio\n",
       "pop       3.6\n",
       "debt      NaN\n",
       "Name: 셋, dtype: object"
      ]
     },
     "execution_count": 16,
     "metadata": {},
     "output_type": "execute_result"
    }
   ],
   "source": [
    "frame2.ix['셋']"
   ]
  },
  {
   "cell_type": "code",
   "execution_count": 78,
   "metadata": {
    "collapsed": false,
    "scrolled": true
   },
   "outputs": [
    {
     "data": {
      "text/plain": [
       "pandas.core.series.Series"
      ]
     },
     "execution_count": 78,
     "metadata": {},
     "output_type": "execute_result"
    }
   ],
   "source": [
    "type(frame2.ix['셋'])"
   ]
  },
  {
   "cell_type": "markdown",
   "metadata": {},
   "source": [
    "주의! 유니코드와 일반 문자열은 다르게 취급된다."
   ]
  },
  {
   "cell_type": "code",
   "execution_count": 15,
   "metadata": {
    "collapsed": true
   },
   "outputs": [
    {
     "ename": "KeyError",
     "evalue": "u'\\uc14b'",
     "output_type": "error",
     "traceback": [
      "\u001b[0;31m---------------------------------------------------------------------------\u001b[0m",
      "\u001b[0;31mKeyError\u001b[0m                                  Traceback (most recent call last)",
      "\u001b[0;32m<ipython-input-15-08ccfed5f11a>\u001b[0m in \u001b[0;36m<module>\u001b[0;34m()\u001b[0m\n\u001b[0;32m----> 1\u001b[0;31m \u001b[0mframe\u001b[0m\u001b[0;34m.\u001b[0m\u001b[0mix\u001b[0m\u001b[0;34m[\u001b[0m\u001b[0;34mu'셋'\u001b[0m\u001b[0;34m]\u001b[0m\u001b[0;34m\u001b[0m\u001b[0m\n\u001b[0m",
      "\u001b[0;32m/Users/seongjoo/anaconda/lib/python2.7/site-packages/pandas/core/indexing.pyc\u001b[0m in \u001b[0;36m__getitem__\u001b[0;34m(self, key)\u001b[0m\n\u001b[1;32m     71\u001b[0m             \u001b[0;32mreturn\u001b[0m \u001b[0mself\u001b[0m\u001b[0;34m.\u001b[0m\u001b[0m_getitem_tuple\u001b[0m\u001b[0;34m(\u001b[0m\u001b[0mkey\u001b[0m\u001b[0;34m)\u001b[0m\u001b[0;34m\u001b[0m\u001b[0m\n\u001b[1;32m     72\u001b[0m         \u001b[0;32melse\u001b[0m\u001b[0;34m:\u001b[0m\u001b[0;34m\u001b[0m\u001b[0m\n\u001b[0;32m---> 73\u001b[0;31m             \u001b[0;32mreturn\u001b[0m \u001b[0mself\u001b[0m\u001b[0;34m.\u001b[0m\u001b[0m_getitem_axis\u001b[0m\u001b[0;34m(\u001b[0m\u001b[0mkey\u001b[0m\u001b[0;34m,\u001b[0m \u001b[0maxis\u001b[0m\u001b[0;34m=\u001b[0m\u001b[0;36m0\u001b[0m\u001b[0;34m)\u001b[0m\u001b[0;34m\u001b[0m\u001b[0m\n\u001b[0m\u001b[1;32m     74\u001b[0m \u001b[0;34m\u001b[0m\u001b[0m\n\u001b[1;32m     75\u001b[0m     \u001b[0;32mdef\u001b[0m \u001b[0m_get_label\u001b[0m\u001b[0;34m(\u001b[0m\u001b[0mself\u001b[0m\u001b[0;34m,\u001b[0m \u001b[0mlabel\u001b[0m\u001b[0;34m,\u001b[0m \u001b[0maxis\u001b[0m\u001b[0;34m=\u001b[0m\u001b[0;36m0\u001b[0m\u001b[0;34m)\u001b[0m\u001b[0;34m:\u001b[0m\u001b[0;34m\u001b[0m\u001b[0m\n",
      "\u001b[0;32m/Users/seongjoo/anaconda/lib/python2.7/site-packages/pandas/core/indexing.pyc\u001b[0m in \u001b[0;36m_getitem_axis\u001b[0;34m(self, key, axis)\u001b[0m\n\u001b[1;32m    922\u001b[0m                     \u001b[0;32mreturn\u001b[0m \u001b[0mself\u001b[0m\u001b[0;34m.\u001b[0m\u001b[0m_get_loc\u001b[0m\u001b[0;34m(\u001b[0m\u001b[0mkey\u001b[0m\u001b[0;34m,\u001b[0m \u001b[0maxis\u001b[0m\u001b[0;34m=\u001b[0m\u001b[0maxis\u001b[0m\u001b[0;34m)\u001b[0m\u001b[0;34m\u001b[0m\u001b[0m\n\u001b[1;32m    923\u001b[0m \u001b[0;34m\u001b[0m\u001b[0m\n\u001b[0;32m--> 924\u001b[0;31m             \u001b[0;32mreturn\u001b[0m \u001b[0mself\u001b[0m\u001b[0;34m.\u001b[0m\u001b[0m_get_label\u001b[0m\u001b[0;34m(\u001b[0m\u001b[0mkey\u001b[0m\u001b[0;34m,\u001b[0m \u001b[0maxis\u001b[0m\u001b[0;34m=\u001b[0m\u001b[0maxis\u001b[0m\u001b[0;34m)\u001b[0m\u001b[0;34m\u001b[0m\u001b[0m\n\u001b[0m\u001b[1;32m    925\u001b[0m \u001b[0;34m\u001b[0m\u001b[0m\n\u001b[1;32m    926\u001b[0m     \u001b[0;32mdef\u001b[0m \u001b[0m_getitem_iterable\u001b[0m\u001b[0;34m(\u001b[0m\u001b[0mself\u001b[0m\u001b[0;34m,\u001b[0m \u001b[0mkey\u001b[0m\u001b[0;34m,\u001b[0m \u001b[0maxis\u001b[0m\u001b[0;34m=\u001b[0m\u001b[0;36m0\u001b[0m\u001b[0;34m)\u001b[0m\u001b[0;34m:\u001b[0m\u001b[0;34m\u001b[0m\u001b[0m\n",
      "\u001b[0;32m/Users/seongjoo/anaconda/lib/python2.7/site-packages/pandas/core/indexing.pyc\u001b[0m in \u001b[0;36m_get_label\u001b[0;34m(self, label, axis)\u001b[0m\n\u001b[1;32m     87\u001b[0m             \u001b[0;32mraise\u001b[0m \u001b[0mIndexingError\u001b[0m\u001b[0;34m(\u001b[0m\u001b[0;34m'no slices here, handle elsewhere'\u001b[0m\u001b[0;34m)\u001b[0m\u001b[0;34m\u001b[0m\u001b[0m\n\u001b[1;32m     88\u001b[0m \u001b[0;34m\u001b[0m\u001b[0m\n\u001b[0;32m---> 89\u001b[0;31m         \u001b[0;32mreturn\u001b[0m \u001b[0mself\u001b[0m\u001b[0;34m.\u001b[0m\u001b[0mobj\u001b[0m\u001b[0;34m.\u001b[0m\u001b[0m_xs\u001b[0m\u001b[0;34m(\u001b[0m\u001b[0mlabel\u001b[0m\u001b[0;34m,\u001b[0m \u001b[0maxis\u001b[0m\u001b[0;34m=\u001b[0m\u001b[0maxis\u001b[0m\u001b[0;34m)\u001b[0m\u001b[0;34m\u001b[0m\u001b[0m\n\u001b[0m\u001b[1;32m     90\u001b[0m \u001b[0;34m\u001b[0m\u001b[0m\n\u001b[1;32m     91\u001b[0m     \u001b[0;32mdef\u001b[0m \u001b[0m_get_loc\u001b[0m\u001b[0;34m(\u001b[0m\u001b[0mself\u001b[0m\u001b[0;34m,\u001b[0m \u001b[0mkey\u001b[0m\u001b[0;34m,\u001b[0m \u001b[0maxis\u001b[0m\u001b[0;34m=\u001b[0m\u001b[0;36m0\u001b[0m\u001b[0;34m)\u001b[0m\u001b[0;34m:\u001b[0m\u001b[0;34m\u001b[0m\u001b[0m\n",
      "\u001b[0;32m/Users/seongjoo/anaconda/lib/python2.7/site-packages/pandas/core/generic.pyc\u001b[0m in \u001b[0;36mxs\u001b[0;34m(self, key, axis, level, copy, drop_level)\u001b[0m\n\u001b[1;32m   1464\u001b[0m                                                       drop_level=drop_level)\n\u001b[1;32m   1465\u001b[0m         \u001b[0;32melse\u001b[0m\u001b[0;34m:\u001b[0m\u001b[0;34m\u001b[0m\u001b[0m\n\u001b[0;32m-> 1466\u001b[0;31m             \u001b[0mloc\u001b[0m \u001b[0;34m=\u001b[0m \u001b[0mself\u001b[0m\u001b[0;34m.\u001b[0m\u001b[0mindex\u001b[0m\u001b[0;34m.\u001b[0m\u001b[0mget_loc\u001b[0m\u001b[0;34m(\u001b[0m\u001b[0mkey\u001b[0m\u001b[0;34m)\u001b[0m\u001b[0;34m\u001b[0m\u001b[0m\n\u001b[0m\u001b[1;32m   1467\u001b[0m \u001b[0;34m\u001b[0m\u001b[0m\n\u001b[1;32m   1468\u001b[0m             \u001b[0;32mif\u001b[0m \u001b[0misinstance\u001b[0m\u001b[0;34m(\u001b[0m\u001b[0mloc\u001b[0m\u001b[0;34m,\u001b[0m \u001b[0mnp\u001b[0m\u001b[0;34m.\u001b[0m\u001b[0mndarray\u001b[0m\u001b[0;34m)\u001b[0m\u001b[0;34m:\u001b[0m\u001b[0;34m\u001b[0m\u001b[0m\n",
      "\u001b[0;32m/Users/seongjoo/anaconda/lib/python2.7/site-packages/pandas/core/index.pyc\u001b[0m in \u001b[0;36mget_loc\u001b[0;34m(self, key, method)\u001b[0m\n\u001b[1;32m   1435\u001b[0m         \"\"\"\n\u001b[1;32m   1436\u001b[0m         \u001b[0;32mif\u001b[0m \u001b[0mmethod\u001b[0m \u001b[0;32mis\u001b[0m \u001b[0mNone\u001b[0m\u001b[0;34m:\u001b[0m\u001b[0;34m\u001b[0m\u001b[0m\n\u001b[0;32m-> 1437\u001b[0;31m             \u001b[0;32mreturn\u001b[0m \u001b[0mself\u001b[0m\u001b[0;34m.\u001b[0m\u001b[0m_engine\u001b[0m\u001b[0;34m.\u001b[0m\u001b[0mget_loc\u001b[0m\u001b[0;34m(\u001b[0m\u001b[0m_values_from_object\u001b[0m\u001b[0;34m(\u001b[0m\u001b[0mkey\u001b[0m\u001b[0;34m)\u001b[0m\u001b[0;34m)\u001b[0m\u001b[0;34m\u001b[0m\u001b[0m\n\u001b[0m\u001b[1;32m   1438\u001b[0m \u001b[0;34m\u001b[0m\u001b[0m\n\u001b[1;32m   1439\u001b[0m         \u001b[0mindexer\u001b[0m \u001b[0;34m=\u001b[0m \u001b[0mself\u001b[0m\u001b[0;34m.\u001b[0m\u001b[0mget_indexer\u001b[0m\u001b[0;34m(\u001b[0m\u001b[0;34m[\u001b[0m\u001b[0mkey\u001b[0m\u001b[0;34m]\u001b[0m\u001b[0;34m,\u001b[0m \u001b[0mmethod\u001b[0m\u001b[0;34m=\u001b[0m\u001b[0mmethod\u001b[0m\u001b[0;34m)\u001b[0m\u001b[0;34m\u001b[0m\u001b[0m\n",
      "\u001b[0;32mpandas/index.pyx\u001b[0m in \u001b[0;36mpandas.index.IndexEngine.get_loc (pandas/index.c:3824)\u001b[0;34m()\u001b[0m\n",
      "\u001b[0;32mpandas/index.pyx\u001b[0m in \u001b[0;36mpandas.index.IndexEngine.get_loc (pandas/index.c:3761)\u001b[0;34m()\u001b[0m\n",
      "\u001b[0;31mKeyError\u001b[0m: u'\\uc14b'"
     ]
    }
   ],
   "source": [
    "frame.ix[u'셋']"
   ]
  },
  {
   "cell_type": "markdown",
   "metadata": {},
   "source": [
    "### 브로드캐스팅\n",
    "반복문으로 각 행을 반복하며 값을 설정하지 않아도 된다."
   ]
  },
  {
   "cell_type": "code",
   "execution_count": 81,
   "metadata": {
    "collapsed": true
   },
   "outputs": [
    {
     "data": {
      "text/html": [
       "<div style=\"max-height:1000px;max-width:1500px;overflow:auto;\">\n",
       "<table border=\"1\" class=\"dataframe\">\n",
       "  <thead>\n",
       "    <tr style=\"text-align: right;\">\n",
       "      <th></th>\n",
       "      <th>year</th>\n",
       "      <th>state</th>\n",
       "      <th>pop</th>\n",
       "      <th>debt</th>\n",
       "    </tr>\n",
       "  </thead>\n",
       "  <tbody>\n",
       "    <tr>\n",
       "      <th>하나</th>\n",
       "      <td>2000</td>\n",
       "      <td>Ohio</td>\n",
       "      <td>1.5</td>\n",
       "      <td>16.5</td>\n",
       "    </tr>\n",
       "    <tr>\n",
       "      <th>둘</th>\n",
       "      <td>2001</td>\n",
       "      <td>Ohio</td>\n",
       "      <td>1.7</td>\n",
       "      <td>16.5</td>\n",
       "    </tr>\n",
       "    <tr>\n",
       "      <th>셋</th>\n",
       "      <td>2002</td>\n",
       "      <td>Ohio</td>\n",
       "      <td>3.6</td>\n",
       "      <td>16.5</td>\n",
       "    </tr>\n",
       "    <tr>\n",
       "      <th>넷</th>\n",
       "      <td>2001</td>\n",
       "      <td>Nevada</td>\n",
       "      <td>2.4</td>\n",
       "      <td>16.5</td>\n",
       "    </tr>\n",
       "    <tr>\n",
       "      <th>다섯</th>\n",
       "      <td>2002</td>\n",
       "      <td>Nevada</td>\n",
       "      <td>2.9</td>\n",
       "      <td>16.5</td>\n",
       "    </tr>\n",
       "  </tbody>\n",
       "</table>\n",
       "</div>"
      ],
      "text/plain": [
       "    year   state  pop  debt\n",
       "하나  2000    Ohio  1.5  16.5\n",
       "둘   2001    Ohio  1.7  16.5\n",
       "셋   2002    Ohio  3.6  16.5\n",
       "넷   2001  Nevada  2.4  16.5\n",
       "다섯  2002  Nevada  2.9  16.5"
      ]
     },
     "execution_count": 81,
     "metadata": {},
     "output_type": "execute_result"
    }
   ],
   "source": [
    "frame2.debt = 16.5\n",
    "frame2"
   ]
  },
  {
   "cell_type": "code",
   "execution_count": 28,
   "metadata": {
    "collapsed": false
   },
   "outputs": [
    {
     "data": {
      "text/html": [
       "<div style=\"max-height:1000px;max-width:1500px;overflow:auto;\">\n",
       "<table border=\"1\" class=\"dataframe\">\n",
       "  <thead>\n",
       "    <tr style=\"text-align: right;\">\n",
       "      <th></th>\n",
       "      <th>year</th>\n",
       "      <th>state</th>\n",
       "      <th>pop</th>\n",
       "      <th>debt</th>\n",
       "    </tr>\n",
       "  </thead>\n",
       "  <tbody>\n",
       "    <tr>\n",
       "      <th>하나</th>\n",
       "      <td>2000</td>\n",
       "      <td>Ohio</td>\n",
       "      <td>1.5</td>\n",
       "      <td>0</td>\n",
       "    </tr>\n",
       "    <tr>\n",
       "      <th>둘</th>\n",
       "      <td>2001</td>\n",
       "      <td>Ohio</td>\n",
       "      <td>1.7</td>\n",
       "      <td>1</td>\n",
       "    </tr>\n",
       "    <tr>\n",
       "      <th>셋</th>\n",
       "      <td>2002</td>\n",
       "      <td>Ohio</td>\n",
       "      <td>3.6</td>\n",
       "      <td>2</td>\n",
       "    </tr>\n",
       "    <tr>\n",
       "      <th>넷</th>\n",
       "      <td>2001</td>\n",
       "      <td>Nevada</td>\n",
       "      <td>2.4</td>\n",
       "      <td>3</td>\n",
       "    </tr>\n",
       "    <tr>\n",
       "      <th>다섯</th>\n",
       "      <td>2002</td>\n",
       "      <td>Nevada</td>\n",
       "      <td>2.9</td>\n",
       "      <td>4</td>\n",
       "    </tr>\n",
       "  </tbody>\n",
       "</table>\n",
       "</div>"
      ],
      "text/plain": [
       "    year   state  pop  debt\n",
       "하나  2000    Ohio  1.5     0\n",
       "둘   2001    Ohio  1.7     1\n",
       "셋   2002    Ohio  3.6     2\n",
       "넷   2001  Nevada  2.4     3\n",
       "다섯  2002  Nevada  2.9     4"
      ]
     },
     "execution_count": 28,
     "metadata": {},
     "output_type": "execute_result"
    }
   ],
   "source": [
    "frame2['debt'] = range(5)\n",
    "frame2"
   ]
  },
  {
   "cell_type": "code",
   "execution_count": 119,
   "metadata": {
    "collapsed": false,
    "scrolled": false
   },
   "outputs": [
    {
     "data": {
      "text/html": [
       "<div style=\"max-height:1000px;max-width:1500px;overflow:auto;\">\n",
       "<table border=\"1\" class=\"dataframe\">\n",
       "  <thead>\n",
       "    <tr style=\"text-align: right;\">\n",
       "      <th></th>\n",
       "      <th>year</th>\n",
       "      <th>state</th>\n",
       "      <th>pop</th>\n",
       "      <th>debt</th>\n",
       "    </tr>\n",
       "  </thead>\n",
       "  <tbody>\n",
       "    <tr>\n",
       "      <th>하나</th>\n",
       "      <td>2000</td>\n",
       "      <td>Ohio</td>\n",
       "      <td>1.5</td>\n",
       "      <td>NaN</td>\n",
       "    </tr>\n",
       "    <tr>\n",
       "      <th>둘</th>\n",
       "      <td>2001</td>\n",
       "      <td>Ohio</td>\n",
       "      <td>1.7</td>\n",
       "      <td>-1.2</td>\n",
       "    </tr>\n",
       "    <tr>\n",
       "      <th>셋</th>\n",
       "      <td>2002</td>\n",
       "      <td>Ohio</td>\n",
       "      <td>3.6</td>\n",
       "      <td>NaN</td>\n",
       "    </tr>\n",
       "    <tr>\n",
       "      <th>넷</th>\n",
       "      <td>2001</td>\n",
       "      <td>Nevada</td>\n",
       "      <td>2.4</td>\n",
       "      <td>-1.5</td>\n",
       "    </tr>\n",
       "    <tr>\n",
       "      <th>다섯</th>\n",
       "      <td>2002</td>\n",
       "      <td>Nevada</td>\n",
       "      <td>2.9</td>\n",
       "      <td>-1.7</td>\n",
       "    </tr>\n",
       "  </tbody>\n",
       "</table>\n",
       "</div>"
      ],
      "text/plain": [
       "    year   state  pop  debt\n",
       "하나  2000    Ohio  1.5   NaN\n",
       "둘   2001    Ohio  1.7  -1.2\n",
       "셋   2002    Ohio  3.6   NaN\n",
       "넷   2001  Nevada  2.4  -1.5\n",
       "다섯  2002  Nevada  2.9  -1.7"
      ]
     },
     "execution_count": 119,
     "metadata": {},
     "output_type": "execute_result"
    }
   ],
   "source": [
    "val = Series([-1.2, -1.5, -1.7, -1.8], \n",
    "             index=['둘', '넷', '다섯', '여섯'])\n",
    "frame2['debt'] = val\n",
    "frame2"
   ]
  },
  {
   "cell_type": "markdown",
   "metadata": {},
   "source": [
    "칼럼 추가는 값 할당으로 가능"
   ]
  },
  {
   "cell_type": "code",
   "execution_count": 29,
   "metadata": {
    "collapsed": false
   },
   "outputs": [
    {
     "data": {
      "text/plain": [
       "하나     True\n",
       "둘      True\n",
       "셋      True\n",
       "넷     False\n",
       "다섯    False\n",
       "Name: state, dtype: bool"
      ]
     },
     "execution_count": 29,
     "metadata": {},
     "output_type": "execute_result"
    }
   ],
   "source": [
    "frame2.state == 'Ohio'"
   ]
  },
  {
   "cell_type": "code",
   "execution_count": 120,
   "metadata": {
    "collapsed": false
   },
   "outputs": [
    {
     "data": {
      "text/html": [
       "<div style=\"max-height:1000px;max-width:1500px;overflow:auto;\">\n",
       "<table border=\"1\" class=\"dataframe\">\n",
       "  <thead>\n",
       "    <tr style=\"text-align: right;\">\n",
       "      <th></th>\n",
       "      <th>year</th>\n",
       "      <th>state</th>\n",
       "      <th>pop</th>\n",
       "      <th>debt</th>\n",
       "      <th>동부</th>\n",
       "    </tr>\n",
       "  </thead>\n",
       "  <tbody>\n",
       "    <tr>\n",
       "      <th>하나</th>\n",
       "      <td>2000</td>\n",
       "      <td>Ohio</td>\n",
       "      <td>1.5</td>\n",
       "      <td>NaN</td>\n",
       "      <td>True</td>\n",
       "    </tr>\n",
       "    <tr>\n",
       "      <th>둘</th>\n",
       "      <td>2001</td>\n",
       "      <td>Ohio</td>\n",
       "      <td>1.7</td>\n",
       "      <td>-1.2</td>\n",
       "      <td>True</td>\n",
       "    </tr>\n",
       "    <tr>\n",
       "      <th>셋</th>\n",
       "      <td>2002</td>\n",
       "      <td>Ohio</td>\n",
       "      <td>3.6</td>\n",
       "      <td>NaN</td>\n",
       "      <td>True</td>\n",
       "    </tr>\n",
       "    <tr>\n",
       "      <th>넷</th>\n",
       "      <td>2001</td>\n",
       "      <td>Nevada</td>\n",
       "      <td>2.4</td>\n",
       "      <td>-1.5</td>\n",
       "      <td>False</td>\n",
       "    </tr>\n",
       "    <tr>\n",
       "      <th>다섯</th>\n",
       "      <td>2002</td>\n",
       "      <td>Nevada</td>\n",
       "      <td>2.9</td>\n",
       "      <td>-1.7</td>\n",
       "      <td>False</td>\n",
       "    </tr>\n",
       "  </tbody>\n",
       "</table>\n",
       "</div>"
      ],
      "text/plain": [
       "    year   state  pop  debt     동부\n",
       "하나  2000    Ohio  1.5   NaN   True\n",
       "둘   2001    Ohio  1.7  -1.2   True\n",
       "셋   2002    Ohio  3.6   NaN   True\n",
       "넷   2001  Nevada  2.4  -1.5  False\n",
       "다섯  2002  Nevada  2.9  -1.7  False"
      ]
     },
     "execution_count": 120,
     "metadata": {},
     "output_type": "execute_result"
    }
   ],
   "source": [
    "frame2[u'동부'] = frame2.state == 'Ohio'\n",
    "frame2"
   ]
  },
  {
   "cell_type": "markdown",
   "metadata": {},
   "source": [
    "열 삭제. 간단한 방식. 그러나 이후에 더 나은 방식이 있음."
   ]
  },
  {
   "cell_type": "code",
   "execution_count": 121,
   "metadata": {
    "collapsed": false
   },
   "outputs": [
    {
     "data": {
      "text/html": [
       "<div style=\"max-height:1000px;max-width:1500px;overflow:auto;\">\n",
       "<table border=\"1\" class=\"dataframe\">\n",
       "  <thead>\n",
       "    <tr style=\"text-align: right;\">\n",
       "      <th></th>\n",
       "      <th>year</th>\n",
       "      <th>state</th>\n",
       "      <th>pop</th>\n",
       "      <th>debt</th>\n",
       "    </tr>\n",
       "  </thead>\n",
       "  <tbody>\n",
       "    <tr>\n",
       "      <th>하나</th>\n",
       "      <td>2000</td>\n",
       "      <td>Ohio</td>\n",
       "      <td>1.5</td>\n",
       "      <td>NaN</td>\n",
       "    </tr>\n",
       "    <tr>\n",
       "      <th>둘</th>\n",
       "      <td>2001</td>\n",
       "      <td>Ohio</td>\n",
       "      <td>1.7</td>\n",
       "      <td>-1.2</td>\n",
       "    </tr>\n",
       "    <tr>\n",
       "      <th>셋</th>\n",
       "      <td>2002</td>\n",
       "      <td>Ohio</td>\n",
       "      <td>3.6</td>\n",
       "      <td>NaN</td>\n",
       "    </tr>\n",
       "    <tr>\n",
       "      <th>넷</th>\n",
       "      <td>2001</td>\n",
       "      <td>Nevada</td>\n",
       "      <td>2.4</td>\n",
       "      <td>-1.5</td>\n",
       "    </tr>\n",
       "    <tr>\n",
       "      <th>다섯</th>\n",
       "      <td>2002</td>\n",
       "      <td>Nevada</td>\n",
       "      <td>2.9</td>\n",
       "      <td>-1.7</td>\n",
       "    </tr>\n",
       "  </tbody>\n",
       "</table>\n",
       "</div>"
      ],
      "text/plain": [
       "    year   state  pop  debt\n",
       "하나  2000    Ohio  1.5   NaN\n",
       "둘   2001    Ohio  1.7  -1.2\n",
       "셋   2002    Ohio  3.6   NaN\n",
       "넷   2001  Nevada  2.4  -1.5\n",
       "다섯  2002  Nevada  2.9  -1.7"
      ]
     },
     "execution_count": 121,
     "metadata": {},
     "output_type": "execute_result"
    }
   ],
   "source": [
    "del frame2[u'동부']\n",
    "frame2"
   ]
  },
  {
   "cell_type": "markdown",
   "metadata": {},
   "source": [
    "그런데, 인덱스는 다음의 방식으로 삭제 불가"
   ]
  },
  {
   "cell_type": "code",
   "execution_count": 149,
   "metadata": {
    "collapsed": false,
    "scrolled": true
   },
   "outputs": [
    {
     "ename": "AttributeError",
     "evalue": "__delitem__",
     "output_type": "error",
     "traceback": [
      "\u001b[0;31m---------------------------------------------------------------------------\u001b[0m",
      "\u001b[0;31mAttributeError\u001b[0m                            Traceback (most recent call last)",
      "\u001b[0;32m<ipython-input-149-9e80971eaf17>\u001b[0m in \u001b[0;36m<module>\u001b[0;34m()\u001b[0m\n\u001b[0;32m----> 1\u001b[0;31m \u001b[0;32mdel\u001b[0m \u001b[0mframe2\u001b[0m\u001b[0;34m.\u001b[0m\u001b[0mix\u001b[0m\u001b[0;34m[\u001b[0m\u001b[0;34m'다섯'\u001b[0m\u001b[0;34m]\u001b[0m\u001b[0;34m\u001b[0m\u001b[0m\n\u001b[0m",
      "\u001b[0;31mAttributeError\u001b[0m: __delitem__"
     ]
    }
   ],
   "source": [
    "del frame2.ix['다섯']"
   ]
  },
  {
   "cell_type": "code",
   "execution_count": 151,
   "metadata": {
    "collapsed": false,
    "scrolled": true
   },
   "outputs": [
    {
     "data": {
      "text/html": [
       "<div style=\"max-height:1000px;max-width:1500px;overflow:auto;\">\n",
       "<table border=\"1\" class=\"dataframe\">\n",
       "  <thead>\n",
       "    <tr style=\"text-align: right;\">\n",
       "      <th></th>\n",
       "      <th>Nevada</th>\n",
       "      <th>Ohio</th>\n",
       "    </tr>\n",
       "  </thead>\n",
       "  <tbody>\n",
       "    <tr>\n",
       "      <th>2000</th>\n",
       "      <td>NaN</td>\n",
       "      <td>1.5</td>\n",
       "    </tr>\n",
       "    <tr>\n",
       "      <th>2001</th>\n",
       "      <td>2.4</td>\n",
       "      <td>1.7</td>\n",
       "    </tr>\n",
       "    <tr>\n",
       "      <th>2002</th>\n",
       "      <td>2.9</td>\n",
       "      <td>3.6</td>\n",
       "    </tr>\n",
       "  </tbody>\n",
       "</table>\n",
       "</div>"
      ],
      "text/plain": [
       "      Nevada  Ohio\n",
       "2000     NaN   1.5\n",
       "2001     2.4   1.7\n",
       "2002     2.9   3.6"
      ]
     },
     "execution_count": 151,
     "metadata": {},
     "output_type": "execute_result"
    }
   ],
   "source": [
    "pop = {'Nevada': {2001: 2.4, 2002: 2.9},\n",
    "      'Ohio':{2000:1.5, 2001:1.7, 2002: 3.6}}\n",
    "frame3 = DataFrame(pop)\n",
    "frame3"
   ]
  },
  {
   "cell_type": "code",
   "execution_count": 152,
   "metadata": {
    "collapsed": false
   },
   "outputs": [
    {
     "data": {
      "text/html": [
       "<div style=\"max-height:1000px;max-width:1500px;overflow:auto;\">\n",
       "<table border=\"1\" class=\"dataframe\">\n",
       "  <thead>\n",
       "    <tr style=\"text-align: right;\">\n",
       "      <th></th>\n",
       "      <th>2000</th>\n",
       "      <th>2001</th>\n",
       "      <th>2002</th>\n",
       "    </tr>\n",
       "  </thead>\n",
       "  <tbody>\n",
       "    <tr>\n",
       "      <th>Nevada</th>\n",
       "      <td>NaN</td>\n",
       "      <td>2.4</td>\n",
       "      <td>2.9</td>\n",
       "    </tr>\n",
       "    <tr>\n",
       "      <th>Ohio</th>\n",
       "      <td>1.5</td>\n",
       "      <td>1.7</td>\n",
       "      <td>3.6</td>\n",
       "    </tr>\n",
       "  </tbody>\n",
       "</table>\n",
       "</div>"
      ],
      "text/plain": [
       "        2000  2001  2002\n",
       "Nevada   NaN   2.4   2.9\n",
       "Ohio     1.5   1.7   3.6"
      ]
     },
     "execution_count": 152,
     "metadata": {},
     "output_type": "execute_result"
    }
   ],
   "source": [
    "frame3.T"
   ]
  },
  {
   "cell_type": "markdown",
   "metadata": {},
   "source": [
    "없는 인덱스를 추가하면, NaN이 설정된다."
   ]
  },
  {
   "cell_type": "code",
   "execution_count": 153,
   "metadata": {
    "collapsed": false,
    "scrolled": false
   },
   "outputs": [
    {
     "data": {
      "text/html": [
       "<div style=\"max-height:1000px;max-width:1500px;overflow:auto;\">\n",
       "<table border=\"1\" class=\"dataframe\">\n",
       "  <thead>\n",
       "    <tr style=\"text-align: right;\">\n",
       "      <th></th>\n",
       "      <th>Nevada</th>\n",
       "      <th>Ohio</th>\n",
       "    </tr>\n",
       "  </thead>\n",
       "  <tbody>\n",
       "    <tr>\n",
       "      <th>2001</th>\n",
       "      <td>2.4</td>\n",
       "      <td>1.7</td>\n",
       "    </tr>\n",
       "    <tr>\n",
       "      <th>2002</th>\n",
       "      <td>2.9</td>\n",
       "      <td>3.6</td>\n",
       "    </tr>\n",
       "    <tr>\n",
       "      <th>2003</th>\n",
       "      <td>NaN</td>\n",
       "      <td>NaN</td>\n",
       "    </tr>\n",
       "  </tbody>\n",
       "</table>\n",
       "</div>"
      ],
      "text/plain": [
       "      Nevada  Ohio\n",
       "2001     2.4   1.7\n",
       "2002     2.9   3.6\n",
       "2003     NaN   NaN"
      ]
     },
     "execution_count": 153,
     "metadata": {},
     "output_type": "execute_result"
    }
   ],
   "source": [
    "DataFrame(pop, index=[2001,2002,2003])"
   ]
  },
  {
   "cell_type": "code",
   "execution_count": 157,
   "metadata": {
    "collapsed": false
   },
   "outputs": [
    {
     "data": {
      "text/html": [
       "<div style=\"max-height:1000px;max-width:1500px;overflow:auto;\">\n",
       "<table border=\"1\" class=\"dataframe\">\n",
       "  <thead>\n",
       "    <tr style=\"text-align: right;\">\n",
       "      <th></th>\n",
       "      <th>Nevada</th>\n",
       "      <th>Ohio</th>\n",
       "    </tr>\n",
       "  </thead>\n",
       "  <tbody>\n",
       "    <tr>\n",
       "      <th>2000</th>\n",
       "      <td>NaN</td>\n",
       "      <td>1.5</td>\n",
       "    </tr>\n",
       "    <tr>\n",
       "      <th>2001</th>\n",
       "      <td>2.4</td>\n",
       "      <td>1.7</td>\n",
       "    </tr>\n",
       "  </tbody>\n",
       "</table>\n",
       "</div>"
      ],
      "text/plain": [
       "      Nevada  Ohio\n",
       "2000     NaN   1.5\n",
       "2001     2.4   1.7"
      ]
     },
     "execution_count": 157,
     "metadata": {},
     "output_type": "execute_result"
    }
   ],
   "source": [
    "pdata = {'Ohio': frame3['Ohio'][:-1],\n",
    "        'Nevada': frame3['Nevada'][:2]}\n",
    "DataFrame(pdata)"
   ]
  },
  {
   "cell_type": "markdown",
   "metadata": {},
   "source": [
    "#### 도전과제\n",
    "\n",
    "학생은 각각 국어, 수학, 과학의 점수를 갖는다. 학생 세 명의 점수를 DataFrame으로 표현하시오.\n",
    "\n",
    "1. 모든 학생의 수학 점수를 출력하시오.\n",
    "\n",
    "2. 각 학생의 과목 평균 입력을 위해 '평균' 열을 추가하시오. 평균값은 아직 계산하지 않아서, 초기값을 0이 되도록 한다.\n",
    "\n",
    "3. 과목 점수는 국어, 수학, 과학의 순으로 표시하시오.\n",
    "\n",
    "4. 각 학생의 성별 정보를 '남자' 또는 '여자'로 지정한다. 성별 정보를 활용해 새 열 '여성'을 추가하고, 성별 정보에 따라 True 또는 False의 값을 갖도록 한다. 그리고 문자열로 지정된 원래의 '성별' 열은 삭제한다."
   ]
  },
  {
   "cell_type": "code",
   "execution_count": 18,
   "metadata": {
    "collapsed": false
   },
   "outputs": [
    {
     "data": {
      "text/html": [
       "<div style=\"max-height:1000px;max-width:1500px;overflow:auto;\">\n",
       "<table border=\"1\" class=\"dataframe\">\n",
       "  <thead>\n",
       "    <tr style=\"text-align: right;\">\n",
       "      <th></th>\n",
       "      <th>학생1</th>\n",
       "      <th>학생2</th>\n",
       "      <th>학생3</th>\n",
       "    </tr>\n",
       "  </thead>\n",
       "  <tbody>\n",
       "    <tr>\n",
       "      <th>국어</th>\n",
       "      <td>70</td>\n",
       "      <td>80</td>\n",
       "      <td>90</td>\n",
       "    </tr>\n",
       "    <tr>\n",
       "      <th>수학</th>\n",
       "      <td>80</td>\n",
       "      <td>90</td>\n",
       "      <td>80</td>\n",
       "    </tr>\n",
       "    <tr>\n",
       "      <th>과학</th>\n",
       "      <td>90</td>\n",
       "      <td>100</td>\n",
       "      <td>70</td>\n",
       "    </tr>\n",
       "  </tbody>\n",
       "</table>\n",
       "</div>"
      ],
      "text/plain": [
       "    학생1  학생2  학생3\n",
       "국어   70   80   90\n",
       "수학   80   90   80\n",
       "과학   90  100   70"
      ]
     },
     "execution_count": 18,
     "metadata": {},
     "output_type": "execute_result"
    }
   ],
   "source": [
    "scores = {u'학생1': {u'국어': 70, u'수학': 80, u'과학': 90} , \n",
    "          u'학생2': {u'수학': 90, u'국어': 80, u'과학': 100}, \n",
    "          u'학생3': {u'과학': 70,u'국어': 90, u'수학': 80}}\n",
    "\n",
    "frame = DataFrame(scores, index=[u'국어', u'수학', u'과학'])\n",
    "frame"
   ]
  },
  {
   "cell_type": "code",
   "execution_count": 21,
   "metadata": {
    "collapsed": false
   },
   "outputs": [
    {
     "name": "stderr",
     "output_type": "stream",
     "text": [
      "/Users/seongjoo/anaconda/lib/python2.7/site-packages/pandas/core/index.py:914: UnicodeWarning: Unicode equal comparison failed to convert both arguments to Unicode - interpreting them as being unequal\n",
      "  return key in self._engine\n",
      "/Users/seongjoo/anaconda/lib/python2.7/site-packages/pandas/core/index.py:1437: UnicodeWarning: Unicode equal comparison failed to convert both arguments to Unicode - interpreting them as being unequal\n",
      "  return self._engine.get_loc(_values_from_object(key))\n"
     ]
    },
    {
     "data": {
      "text/html": [
       "<div style=\"max-height:1000px;max-width:1500px;overflow:auto;\">\n",
       "<table border=\"1\" class=\"dataframe\">\n",
       "  <thead>\n",
       "    <tr style=\"text-align: right;\">\n",
       "      <th></th>\n",
       "      <th>국어</th>\n",
       "      <th>수학</th>\n",
       "      <th>과학</th>\n",
       "      <th>평균</th>\n",
       "      <th>성별</th>\n",
       "    </tr>\n",
       "  </thead>\n",
       "  <tbody>\n",
       "    <tr>\n",
       "      <th>학생1</th>\n",
       "      <td>70</td>\n",
       "      <td>80</td>\n",
       "      <td>90</td>\n",
       "      <td>0</td>\n",
       "      <td>True</td>\n",
       "    </tr>\n",
       "    <tr>\n",
       "      <th>학생2</th>\n",
       "      <td>80</td>\n",
       "      <td>90</td>\n",
       "      <td>100</td>\n",
       "      <td>0</td>\n",
       "      <td>False</td>\n",
       "    </tr>\n",
       "    <tr>\n",
       "      <th>학생3</th>\n",
       "      <td>90</td>\n",
       "      <td>80</td>\n",
       "      <td>70</td>\n",
       "      <td>0</td>\n",
       "      <td>True</td>\n",
       "    </tr>\n",
       "    <tr>\n",
       "      <th>평균</th>\n",
       "      <td>0</td>\n",
       "      <td>0</td>\n",
       "      <td>0</td>\n",
       "      <td>0</td>\n",
       "      <td>0</td>\n",
       "    </tr>\n",
       "  </tbody>\n",
       "</table>\n",
       "</div>"
      ],
      "text/plain": [
       "     국어  수학   과학 평균     성별\n",
       "학생1  70  80   90  0   True\n",
       "학생2  80  90  100  0  False\n",
       "학생3  90  80   70  0   True\n",
       "평균    0   0    0  0      0"
      ]
     },
     "execution_count": 21,
     "metadata": {},
     "output_type": "execute_result"
    }
   ],
   "source": [
    "scores = {u'학생1': {u'국어': 70, u'수학': 80, u'과학': 90, u'성별': u'남'} , \n",
    "          u'학생2': {u'수학': 90, u'국어': 80, u'과학': 100, u'성별': u'여'}, \n",
    "          u'학생3': {u'과학': 70,u'국어': 90, u'수학': 80, u'성별': u'여'}}\n",
    "\n",
    "frame = frame.T # 행-열 바꾸기 (p.137 참조)\n",
    "frame['평균'] = 0\n",
    "frame.T"
   ]
  },
  {
   "cell_type": "code",
   "execution_count": 20,
   "metadata": {
    "collapsed": true
   },
   "outputs": [
    {
     "ename": "TypeError",
     "evalue": "invalid type comparison",
     "output_type": "error",
     "traceback": [
      "\u001b[0;31m---------------------------------------------------------------------------\u001b[0m",
      "\u001b[0;31mTypeError\u001b[0m                                 Traceback (most recent call last)",
      "\u001b[0;32m<ipython-input-20-46e0ff86983f>\u001b[0m in \u001b[0;36m<module>\u001b[0;34m()\u001b[0m\n\u001b[1;32m      1\u001b[0m \u001b[0mframe\u001b[0m\u001b[0;34m[\u001b[0m\u001b[0;34mu'성별'\u001b[0m\u001b[0;34m]\u001b[0m \u001b[0;34m=\u001b[0m \u001b[0;34m[\u001b[0m\u001b[0mTrue\u001b[0m\u001b[0;34m,\u001b[0m \u001b[0mFalse\u001b[0m\u001b[0;34m,\u001b[0m \u001b[0mTrue\u001b[0m\u001b[0;34m]\u001b[0m\u001b[0;34m\u001b[0m\u001b[0m\n\u001b[0;32m----> 2\u001b[0;31m \u001b[0mframe\u001b[0m\u001b[0;34m[\u001b[0m\u001b[0;34mu'여성'\u001b[0m\u001b[0;34m]\u001b[0m \u001b[0;34m=\u001b[0m \u001b[0mframe\u001b[0m\u001b[0;34m[\u001b[0m\u001b[0;34mu'성별'\u001b[0m\u001b[0;34m]\u001b[0m \u001b[0;34m==\u001b[0m \u001b[0;34mu'여'\u001b[0m\u001b[0;34m\u001b[0m\u001b[0m\n\u001b[0m\u001b[1;32m      3\u001b[0m \u001b[0;32mdel\u001b[0m \u001b[0mframe\u001b[0m\u001b[0;34m[\u001b[0m\u001b[0;34mu'성별'\u001b[0m\u001b[0;34m]\u001b[0m\u001b[0;34m\u001b[0m\u001b[0m\n\u001b[1;32m      4\u001b[0m \u001b[0;31m#frame = frame.T\u001b[0m\u001b[0;34m\u001b[0m\u001b[0;34m\u001b[0m\u001b[0m\n\u001b[1;32m      5\u001b[0m \u001b[0mframe\u001b[0m\u001b[0;34m\u001b[0m\u001b[0m\n",
      "\u001b[0;32m/Users/seongjoo/anaconda/lib/python2.7/site-packages/pandas/core/ops.pyc\u001b[0m in \u001b[0;36mwrapper\u001b[0;34m(self, other)\u001b[0m\n\u001b[1;32m    602\u001b[0m \u001b[0;34m\u001b[0m\u001b[0m\n\u001b[1;32m    603\u001b[0m         \u001b[0;31m# scalars\u001b[0m\u001b[0;34m\u001b[0m\u001b[0;34m\u001b[0m\u001b[0m\n\u001b[0;32m--> 604\u001b[0;31m         \u001b[0mres\u001b[0m \u001b[0;34m=\u001b[0m \u001b[0mna_op\u001b[0m\u001b[0;34m(\u001b[0m\u001b[0mvalues\u001b[0m\u001b[0;34m,\u001b[0m \u001b[0mother\u001b[0m\u001b[0;34m)\u001b[0m\u001b[0;34m\u001b[0m\u001b[0m\n\u001b[0m\u001b[1;32m    605\u001b[0m         \u001b[0;32mif\u001b[0m \u001b[0mnp\u001b[0m\u001b[0;34m.\u001b[0m\u001b[0misscalar\u001b[0m\u001b[0;34m(\u001b[0m\u001b[0mres\u001b[0m\u001b[0;34m)\u001b[0m\u001b[0;34m:\u001b[0m\u001b[0;34m\u001b[0m\u001b[0m\n\u001b[1;32m    606\u001b[0m             raise TypeError('Could not compare %s type with Series'\n",
      "\u001b[0;32m/Users/seongjoo/anaconda/lib/python2.7/site-packages/pandas/core/ops.pyc\u001b[0m in \u001b[0;36mna_op\u001b[0;34m(x, y)\u001b[0m\n\u001b[1;32m    566\u001b[0m                 \u001b[0mresult\u001b[0m \u001b[0;34m=\u001b[0m \u001b[0mgetattr\u001b[0m\u001b[0;34m(\u001b[0m\u001b[0mx\u001b[0m\u001b[0;34m,\u001b[0m \u001b[0mname\u001b[0m\u001b[0;34m)\u001b[0m\u001b[0;34m(\u001b[0m\u001b[0my\u001b[0m\u001b[0;34m)\u001b[0m\u001b[0;34m\u001b[0m\u001b[0m\n\u001b[1;32m    567\u001b[0m                 \u001b[0;32mif\u001b[0m \u001b[0mresult\u001b[0m \u001b[0;32mis\u001b[0m \u001b[0mNotImplemented\u001b[0m\u001b[0;34m:\u001b[0m\u001b[0;34m\u001b[0m\u001b[0m\n\u001b[0;32m--> 568\u001b[0;31m                     \u001b[0;32mraise\u001b[0m \u001b[0mTypeError\u001b[0m\u001b[0;34m(\u001b[0m\u001b[0;34m\"invalid type comparison\"\u001b[0m\u001b[0;34m)\u001b[0m\u001b[0;34m\u001b[0m\u001b[0m\n\u001b[0m\u001b[1;32m    569\u001b[0m             \u001b[0;32mexcept\u001b[0m \u001b[0;34m(\u001b[0m\u001b[0mAttributeError\u001b[0m\u001b[0;34m)\u001b[0m\u001b[0;34m:\u001b[0m\u001b[0;34m\u001b[0m\u001b[0m\n\u001b[1;32m    570\u001b[0m                 \u001b[0mresult\u001b[0m \u001b[0;34m=\u001b[0m \u001b[0mop\u001b[0m\u001b[0;34m(\u001b[0m\u001b[0mx\u001b[0m\u001b[0;34m,\u001b[0m \u001b[0my\u001b[0m\u001b[0;34m)\u001b[0m\u001b[0;34m\u001b[0m\u001b[0m\n",
      "\u001b[0;31mTypeError\u001b[0m: invalid type comparison"
     ]
    }
   ],
   "source": [
    "frame[u'성별'] = [True, False, True]\n",
    "frame[u'여성'] = frame[u'성별'] == u'여'\n",
    "del frame[u'성별']\n",
    "#frame = frame.T\n",
    "frame"
   ]
  },
  {
   "cell_type": "code",
   "execution_count": 112,
   "metadata": {
    "collapsed": false
   },
   "outputs": [
    {
     "data": {
      "text/html": [
       "<div style=\"max-height:1000px;max-width:1500px;overflow:auto;\">\n",
       "<table border=\"1\" class=\"dataframe\">\n",
       "  <thead>\n",
       "    <tr style=\"text-align: right;\">\n",
       "      <th></th>\n",
       "      <th>과학</th>\n",
       "      <th>국어</th>\n",
       "      <th>수학</th>\n",
       "    </tr>\n",
       "  </thead>\n",
       "  <tbody>\n",
       "    <tr>\n",
       "      <th>학생1</th>\n",
       "      <td>90</td>\n",
       "      <td>70</td>\n",
       "      <td>80</td>\n",
       "    </tr>\n",
       "    <tr>\n",
       "      <th>학생2</th>\n",
       "      <td>100</td>\n",
       "      <td>80</td>\n",
       "      <td>90</td>\n",
       "    </tr>\n",
       "    <tr>\n",
       "      <th>학생3</th>\n",
       "      <td>70</td>\n",
       "      <td>90</td>\n",
       "      <td>80</td>\n",
       "    </tr>\n",
       "  </tbody>\n",
       "</table>\n",
       "</div>"
      ],
      "text/plain": [
       "      과학  국어  수학\n",
       "학생1   90  70  80\n",
       "학생2  100  80  90\n",
       "학생3   70  90  80"
      ]
     },
     "execution_count": 112,
     "metadata": {},
     "output_type": "execute_result"
    }
   ],
   "source": [
    "scores2 = {u'국어': {u'학생1': 70, u'학생2': 80, u'학생3': 90},\n",
    "          u'수학': {u'학생1': 80, u'학생2':90, u'학생3': 80},\n",
    "          u'과학': {u'학생1': 90, u'학생2':100, u'학생3': 70}}\n",
    "frame2 = DataFrame(scores2)\n",
    "frame2"
   ]
  },
  {
   "cell_type": "code",
   "execution_count": 115,
   "metadata": {
    "collapsed": true
   },
   "outputs": [
    {
     "ename": "ValueError",
     "evalue": "could not broadcast input array from shape (2) into shape (3)",
     "output_type": "error",
     "traceback": [
      "\u001b[0;31m---------------------------------------------------------------------------\u001b[0m",
      "\u001b[0;31mValueError\u001b[0m                                Traceback (most recent call last)",
      "\u001b[0;32m<ipython-input-115-2bbd0dd8ea0b>\u001b[0m in \u001b[0;36m<module>\u001b[0;34m()\u001b[0m\n\u001b[1;32m      2\u001b[0m          \u001b[0;34mu'학생2'\u001b[0m\u001b[0;34m:\u001b[0m \u001b[0;34m[\u001b[0m\u001b[0;36m80\u001b[0m\u001b[0;34m,\u001b[0m \u001b[0;36m90\u001b[0m\u001b[0;34m,\u001b[0m \u001b[0;36m100\u001b[0m\u001b[0;34m]\u001b[0m\u001b[0;34m,\u001b[0m\u001b[0;34m\u001b[0m\u001b[0m\n\u001b[1;32m      3\u001b[0m          u'학생3': [90, 80]}\n\u001b[0;32m----> 4\u001b[0;31m \u001b[0mframe\u001b[0m \u001b[0;34m=\u001b[0m \u001b[0mDataFrame\u001b[0m\u001b[0;34m(\u001b[0m\u001b[0mscores\u001b[0m\u001b[0;34m,\u001b[0m \u001b[0mindex\u001b[0m\u001b[0;34m=\u001b[0m\u001b[0;34m[\u001b[0m\u001b[0;34mu'국어'\u001b[0m\u001b[0;34m,\u001b[0m \u001b[0;34mu'수학'\u001b[0m\u001b[0;34m,\u001b[0m \u001b[0;34mu'과학'\u001b[0m\u001b[0;34m]\u001b[0m\u001b[0;34m)\u001b[0m\u001b[0;34m\u001b[0m\u001b[0m\n\u001b[0m\u001b[1;32m      5\u001b[0m \u001b[0mframe\u001b[0m\u001b[0;34m\u001b[0m\u001b[0m\n",
      "\u001b[0;32m/Users/seongjoo/anaconda/lib/python2.7/site-packages/pandas/core/frame.pyc\u001b[0m in \u001b[0;36m__init__\u001b[0;34m(self, data, index, columns, dtype, copy)\u001b[0m\n\u001b[1;32m    206\u001b[0m                                  dtype=dtype, copy=copy)\n\u001b[1;32m    207\u001b[0m         \u001b[0;32melif\u001b[0m \u001b[0misinstance\u001b[0m\u001b[0;34m(\u001b[0m\u001b[0mdata\u001b[0m\u001b[0;34m,\u001b[0m \u001b[0mdict\u001b[0m\u001b[0;34m)\u001b[0m\u001b[0;34m:\u001b[0m\u001b[0;34m\u001b[0m\u001b[0m\n\u001b[0;32m--> 208\u001b[0;31m             \u001b[0mmgr\u001b[0m \u001b[0;34m=\u001b[0m \u001b[0mself\u001b[0m\u001b[0;34m.\u001b[0m\u001b[0m_init_dict\u001b[0m\u001b[0;34m(\u001b[0m\u001b[0mdata\u001b[0m\u001b[0;34m,\u001b[0m \u001b[0mindex\u001b[0m\u001b[0;34m,\u001b[0m \u001b[0mcolumns\u001b[0m\u001b[0;34m,\u001b[0m \u001b[0mdtype\u001b[0m\u001b[0;34m=\u001b[0m\u001b[0mdtype\u001b[0m\u001b[0;34m)\u001b[0m\u001b[0;34m\u001b[0m\u001b[0m\n\u001b[0m\u001b[1;32m    209\u001b[0m         \u001b[0;32melif\u001b[0m \u001b[0misinstance\u001b[0m\u001b[0;34m(\u001b[0m\u001b[0mdata\u001b[0m\u001b[0;34m,\u001b[0m \u001b[0mma\u001b[0m\u001b[0;34m.\u001b[0m\u001b[0mMaskedArray\u001b[0m\u001b[0;34m)\u001b[0m\u001b[0;34m:\u001b[0m\u001b[0;34m\u001b[0m\u001b[0m\n\u001b[1;32m    210\u001b[0m             \u001b[0;32mimport\u001b[0m \u001b[0mnumpy\u001b[0m\u001b[0;34m.\u001b[0m\u001b[0mma\u001b[0m\u001b[0;34m.\u001b[0m\u001b[0mmrecords\u001b[0m \u001b[0;32mas\u001b[0m \u001b[0mmrecords\u001b[0m\u001b[0;34m\u001b[0m\u001b[0m\n",
      "\u001b[0;32m/Users/seongjoo/anaconda/lib/python2.7/site-packages/pandas/core/frame.pyc\u001b[0m in \u001b[0;36m_init_dict\u001b[0;34m(self, data, index, columns, dtype)\u001b[0m\n\u001b[1;32m    334\u001b[0m \u001b[0;34m\u001b[0m\u001b[0m\n\u001b[1;32m    335\u001b[0m         return _arrays_to_mgr(arrays, data_names, index, columns,\n\u001b[0;32m--> 336\u001b[0;31m                               dtype=dtype)\n\u001b[0m\u001b[1;32m    337\u001b[0m \u001b[0;34m\u001b[0m\u001b[0m\n\u001b[1;32m    338\u001b[0m     def _init_ndarray(self, values, index, columns, dtype=None,\n",
      "\u001b[0;32m/Users/seongjoo/anaconda/lib/python2.7/site-packages/pandas/core/frame.pyc\u001b[0m in \u001b[0;36m_arrays_to_mgr\u001b[0;34m(arrays, arr_names, index, columns, dtype)\u001b[0m\n\u001b[1;32m   4759\u001b[0m     \u001b[0maxes\u001b[0m \u001b[0;34m=\u001b[0m \u001b[0;34m[\u001b[0m\u001b[0m_ensure_index\u001b[0m\u001b[0;34m(\u001b[0m\u001b[0mcolumns\u001b[0m\u001b[0;34m)\u001b[0m\u001b[0;34m,\u001b[0m \u001b[0m_ensure_index\u001b[0m\u001b[0;34m(\u001b[0m\u001b[0mindex\u001b[0m\u001b[0;34m)\u001b[0m\u001b[0;34m]\u001b[0m\u001b[0;34m\u001b[0m\u001b[0m\n\u001b[1;32m   4760\u001b[0m \u001b[0;34m\u001b[0m\u001b[0m\n\u001b[0;32m-> 4761\u001b[0;31m     \u001b[0;32mreturn\u001b[0m \u001b[0mcreate_block_manager_from_arrays\u001b[0m\u001b[0;34m(\u001b[0m\u001b[0marrays\u001b[0m\u001b[0;34m,\u001b[0m \u001b[0marr_names\u001b[0m\u001b[0;34m,\u001b[0m \u001b[0maxes\u001b[0m\u001b[0;34m)\u001b[0m\u001b[0;34m\u001b[0m\u001b[0m\n\u001b[0m\u001b[1;32m   4762\u001b[0m \u001b[0;34m\u001b[0m\u001b[0m\n\u001b[1;32m   4763\u001b[0m \u001b[0;34m\u001b[0m\u001b[0m\n",
      "\u001b[0;32m/Users/seongjoo/anaconda/lib/python2.7/site-packages/pandas/core/internals.pyc\u001b[0m in \u001b[0;36mcreate_block_manager_from_arrays\u001b[0;34m(arrays, names, axes)\u001b[0m\n\u001b[1;32m   3536\u001b[0m         \u001b[0;32mreturn\u001b[0m \u001b[0mmgr\u001b[0m\u001b[0;34m\u001b[0m\u001b[0m\n\u001b[1;32m   3537\u001b[0m     \u001b[0;32mexcept\u001b[0m \u001b[0;34m(\u001b[0m\u001b[0mValueError\u001b[0m\u001b[0;34m)\u001b[0m \u001b[0;32mas\u001b[0m \u001b[0me\u001b[0m\u001b[0;34m:\u001b[0m\u001b[0;34m\u001b[0m\u001b[0m\n\u001b[0;32m-> 3538\u001b[0;31m         \u001b[0mconstruction_error\u001b[0m\u001b[0;34m(\u001b[0m\u001b[0mlen\u001b[0m\u001b[0;34m(\u001b[0m\u001b[0marrays\u001b[0m\u001b[0;34m)\u001b[0m\u001b[0;34m,\u001b[0m \u001b[0marrays\u001b[0m\u001b[0;34m[\u001b[0m\u001b[0;36m0\u001b[0m\u001b[0;34m]\u001b[0m\u001b[0;34m.\u001b[0m\u001b[0mshape\u001b[0m\u001b[0;34m,\u001b[0m \u001b[0maxes\u001b[0m\u001b[0;34m,\u001b[0m \u001b[0me\u001b[0m\u001b[0;34m)\u001b[0m\u001b[0;34m\u001b[0m\u001b[0m\n\u001b[0m\u001b[1;32m   3539\u001b[0m \u001b[0;34m\u001b[0m\u001b[0m\n\u001b[1;32m   3540\u001b[0m \u001b[0;34m\u001b[0m\u001b[0m\n",
      "\u001b[0;32m/Users/seongjoo/anaconda/lib/python2.7/site-packages/pandas/core/internals.pyc\u001b[0m in \u001b[0;36mconstruction_error\u001b[0;34m(tot_items, block_shape, axes, e)\u001b[0m\n\u001b[1;32m   3505\u001b[0m     \u001b[0mimplied\u001b[0m \u001b[0;34m=\u001b[0m \u001b[0mtuple\u001b[0m\u001b[0;34m(\u001b[0m\u001b[0mmap\u001b[0m\u001b[0;34m(\u001b[0m\u001b[0mint\u001b[0m\u001b[0;34m,\u001b[0m \u001b[0;34m[\u001b[0m\u001b[0mlen\u001b[0m\u001b[0;34m(\u001b[0m\u001b[0max\u001b[0m\u001b[0;34m)\u001b[0m \u001b[0;32mfor\u001b[0m \u001b[0max\u001b[0m \u001b[0;32min\u001b[0m \u001b[0maxes\u001b[0m\u001b[0;34m]\u001b[0m\u001b[0;34m)\u001b[0m\u001b[0;34m)\u001b[0m\u001b[0;34m\u001b[0m\u001b[0m\n\u001b[1;32m   3506\u001b[0m     \u001b[0;32mif\u001b[0m \u001b[0mpassed\u001b[0m \u001b[0;34m==\u001b[0m \u001b[0mimplied\u001b[0m \u001b[0;32mand\u001b[0m \u001b[0me\u001b[0m \u001b[0;32mis\u001b[0m \u001b[0;32mnot\u001b[0m \u001b[0mNone\u001b[0m\u001b[0;34m:\u001b[0m\u001b[0;34m\u001b[0m\u001b[0m\n\u001b[0;32m-> 3507\u001b[0;31m         \u001b[0;32mraise\u001b[0m \u001b[0me\u001b[0m\u001b[0;34m\u001b[0m\u001b[0m\n\u001b[0m\u001b[1;32m   3508\u001b[0m     raise ValueError(\"Shape of passed values is {0}, indices imply {1}\".format(\n\u001b[1;32m   3509\u001b[0m         passed,implied))\n",
      "\u001b[0;31mValueError\u001b[0m: could not broadcast input array from shape (2) into shape (3)"
     ]
    }
   ],
   "source": [
    "scores = {u'학생1': [70, 80, 90],\n",
    "         u'학생2': [80, 90, 100],\n",
    "         u'학생3': [90, 80]} # 오류! 개수가 맞아야 함.\n",
    "frame = DataFrame(scores, index=[u'국어', u'수학', u'과학'])\n",
    "frame"
   ]
  },
  {
   "cell_type": "markdown",
   "metadata": {},
   "source": [
    "## 도전과제\n",
    "\n",
    "시험 대상 과목 전체는 국어, 수학, 과학, 영어, 프로그래밍이다. 학생들은 세 과목 이상의 점수가 필요하지만 전체 과목을 다 시험볼 필요는 없다. 시험 기준을 충족하는 학생 3명의 정보를 DataFrame으로 구성한다. 이 때, DataFrame에는 모든 과목의 열이 포함되어야 한다."
   ]
  },
  {
   "cell_type": "code",
   "execution_count": null,
   "metadata": {
    "collapsed": true
   },
   "outputs": [],
   "source": []
  },
  {
   "cell_type": "markdown",
   "metadata": {},
   "source": [
    "## 색인 객체"
   ]
  },
  {
   "cell_type": "code",
   "execution_count": 159,
   "metadata": {
    "collapsed": false
   },
   "outputs": [
    {
     "data": {
      "text/plain": [
       "a    0\n",
       "b    1\n",
       "c    2\n",
       "dtype: int64"
      ]
     },
     "execution_count": 159,
     "metadata": {},
     "output_type": "execute_result"
    }
   ],
   "source": [
    "obj = Series(range(3), index=['a', 'b', 'c'])\n",
    "obj"
   ]
  },
  {
   "cell_type": "code",
   "execution_count": 160,
   "metadata": {
    "collapsed": false
   },
   "outputs": [
    {
     "data": {
      "text/plain": [
       "Index([u'a', u'b', u'c'], dtype='object')"
      ]
     },
     "execution_count": 160,
     "metadata": {},
     "output_type": "execute_result"
    }
   ],
   "source": [
    "index = obj.index\n",
    "index"
   ]
  },
  {
   "cell_type": "code",
   "execution_count": 91,
   "metadata": {
    "collapsed": false
   },
   "outputs": [
    {
     "data": {
      "text/plain": [
       "'a'"
      ]
     },
     "execution_count": 91,
     "metadata": {},
     "output_type": "execute_result"
    }
   ],
   "source": [
    "index[0]"
   ]
  },
  {
   "cell_type": "code",
   "execution_count": 90,
   "metadata": {
    "collapsed": false
   },
   "outputs": [
    {
     "data": {
      "text/plain": [
       "Index([u'b', u'c'], dtype='object')"
      ]
     },
     "execution_count": 90,
     "metadata": {},
     "output_type": "execute_result"
    }
   ],
   "source": [
    "index[1:]"
   ]
  },
  {
   "cell_type": "code",
   "execution_count": 93,
   "metadata": {
    "collapsed": true
   },
   "outputs": [
    {
     "ename": "TypeError",
     "evalue": "Indexes does not support mutable operations",
     "output_type": "error",
     "traceback": [
      "\u001b[0;31m---------------------------------------------------------------------------\u001b[0m",
      "\u001b[0;31mTypeError\u001b[0m                                 Traceback (most recent call last)",
      "\u001b[0;32m<ipython-input-93-0d9a9222e3a0>\u001b[0m in \u001b[0;36m<module>\u001b[0;34m()\u001b[0m\n\u001b[0;32m----> 1\u001b[0;31m \u001b[0mindex\u001b[0m\u001b[0;34m[\u001b[0m\u001b[0;36m1\u001b[0m\u001b[0;34m]\u001b[0m \u001b[0;34m=\u001b[0m \u001b[0;34m'a'\u001b[0m\u001b[0;34m\u001b[0m\u001b[0m\n\u001b[0m",
      "\u001b[0;32m/Users/seongjoo/anaconda/lib/python2.7/site-packages/pandas/core/index.pyc\u001b[0m in \u001b[0;36m__setitem__\u001b[0;34m(self, key, value)\u001b[0m\n\u001b[1;32m    920\u001b[0m \u001b[0;34m\u001b[0m\u001b[0m\n\u001b[1;32m    921\u001b[0m     \u001b[0;32mdef\u001b[0m \u001b[0m__setitem__\u001b[0m\u001b[0;34m(\u001b[0m\u001b[0mself\u001b[0m\u001b[0;34m,\u001b[0m \u001b[0mkey\u001b[0m\u001b[0;34m,\u001b[0m \u001b[0mvalue\u001b[0m\u001b[0;34m)\u001b[0m\u001b[0;34m:\u001b[0m\u001b[0;34m\u001b[0m\u001b[0m\n\u001b[0;32m--> 922\u001b[0;31m         \u001b[0;32mraise\u001b[0m \u001b[0mTypeError\u001b[0m\u001b[0;34m(\u001b[0m\u001b[0;34m\"Indexes does not support mutable operations\"\u001b[0m\u001b[0;34m)\u001b[0m\u001b[0;34m\u001b[0m\u001b[0m\n\u001b[0m\u001b[1;32m    923\u001b[0m \u001b[0;34m\u001b[0m\u001b[0m\n\u001b[1;32m    924\u001b[0m     \u001b[0;32mdef\u001b[0m \u001b[0m__getitem__\u001b[0m\u001b[0;34m(\u001b[0m\u001b[0mself\u001b[0m\u001b[0;34m,\u001b[0m \u001b[0mkey\u001b[0m\u001b[0;34m)\u001b[0m\u001b[0;34m:\u001b[0m\u001b[0;34m\u001b[0m\u001b[0m\n",
      "\u001b[0;31mTypeError\u001b[0m: Indexes does not support mutable operations"
     ]
    }
   ],
   "source": [
    "index[1] = 'a' # 오류!"
   ]
  },
  {
   "cell_type": "code",
   "execution_count": 161,
   "metadata": {
    "collapsed": false
   },
   "outputs": [
    {
     "data": {
      "text/plain": [
       "a    1.5\n",
       "b   -2.5\n",
       "c    0.0\n",
       "dtype: float64"
      ]
     },
     "execution_count": 161,
     "metadata": {},
     "output_type": "execute_result"
    }
   ],
   "source": [
    "obj2 = Series([1.5, -2.5, 0], index=index)\n",
    "obj2"
   ]
  },
  {
   "cell_type": "code",
   "execution_count": 162,
   "metadata": {
    "collapsed": false
   },
   "outputs": [
    {
     "data": {
      "text/plain": [
       "True"
      ]
     },
     "execution_count": 162,
     "metadata": {},
     "output_type": "execute_result"
    }
   ],
   "source": [
    "obj.index is obj2.index"
   ]
  },
  {
   "cell_type": "markdown",
   "metadata": {},
   "source": [
    "## 재색인"
   ]
  },
  {
   "cell_type": "code",
   "execution_count": 30,
   "metadata": {
    "collapsed": false
   },
   "outputs": [
    {
     "data": {
      "text/plain": [
       "d    4.5\n",
       "b    7.2\n",
       "a   -5.3\n",
       "c    3.6\n",
       "dtype: float64"
      ]
     },
     "execution_count": 30,
     "metadata": {},
     "output_type": "execute_result"
    }
   ],
   "source": [
    "obj = Series([4.5, 7.2, -5.3, 3.6], \n",
    "             index=['d', 'b', 'a', 'c'])\n",
    "obj"
   ]
  },
  {
   "cell_type": "markdown",
   "metadata": {},
   "source": [
    "객체가 생성된 이후 인덱스 조작"
   ]
  },
  {
   "cell_type": "code",
   "execution_count": 31,
   "metadata": {
    "collapsed": false
   },
   "outputs": [
    {
     "data": {
      "text/plain": [
       "a   -5.3\n",
       "b    7.2\n",
       "c    3.6\n",
       "d    4.5\n",
       "e    NaN\n",
       "dtype: float64"
      ]
     },
     "execution_count": 31,
     "metadata": {},
     "output_type": "execute_result"
    }
   ],
   "source": [
    "obj2 = obj.reindex(['a','b','c','d','e'])\n",
    "obj2 # 인덱스 e 추가"
   ]
  },
  {
   "cell_type": "markdown",
   "metadata": {},
   "source": [
    ".reindex() --> 새로운 객체가 반환된다."
   ]
  },
  {
   "cell_type": "code",
   "execution_count": 163,
   "metadata": {
    "collapsed": false
   },
   "outputs": [
    {
     "data": {
      "text/plain": [
       "False"
      ]
     },
     "execution_count": 163,
     "metadata": {},
     "output_type": "execute_result"
    }
   ],
   "source": [
    "obj is obj2"
   ]
  },
  {
   "cell_type": "code",
   "execution_count": 98,
   "metadata": {
    "collapsed": false
   },
   "outputs": [
    {
     "data": {
      "text/plain": [
       "a   -5.3\n",
       "b    7.2\n",
       "c    3.6\n",
       "d    4.5\n",
       "e    0.0\n",
       "dtype: float64"
      ]
     },
     "execution_count": 98,
     "metadata": {},
     "output_type": "execute_result"
    }
   ],
   "source": [
    "obj.reindex(['a','b','c','d','e'], fill_value=0)"
   ]
  },
  {
   "cell_type": "code",
   "execution_count": 22,
   "metadata": {
    "collapsed": false
   },
   "outputs": [
    {
     "data": {
      "text/plain": [
       "0      blue\n",
       "2    purple\n",
       "4    yellow\n",
       "dtype: object"
      ]
     },
     "execution_count": 22,
     "metadata": {},
     "output_type": "execute_result"
    }
   ],
   "source": [
    "obj3 = Series(['blue', 'purple', 'yellow'], \n",
    "              index=[0,2,4])\n",
    "obj3"
   ]
  },
  {
   "cell_type": "markdown",
   "metadata": {},
   "source": [
    "중간을 채워주는 보간(interpolation)"
   ]
  },
  {
   "cell_type": "code",
   "execution_count": 24,
   "metadata": {
    "collapsed": false
   },
   "outputs": [
    {
     "data": {
      "text/plain": [
       "0      blue\n",
       "1      blue\n",
       "2    purple\n",
       "3    purple\n",
       "4    yellow\n",
       "5    yellow\n",
       "dtype: object"
      ]
     },
     "execution_count": 24,
     "metadata": {},
     "output_type": "execute_result"
    }
   ],
   "source": [
    "obj3.reindex(range(6), method='ffill')"
   ]
  },
  {
   "cell_type": "code",
   "execution_count": 167,
   "metadata": {
    "collapsed": false
   },
   "outputs": [
    {
     "data": {
      "text/plain": [
       "0      blue\n",
       "1    purple\n",
       "2    purple\n",
       "3    yellow\n",
       "4    yellow\n",
       "5       NaN\n",
       "dtype: object"
      ]
     },
     "execution_count": 167,
     "metadata": {},
     "output_type": "execute_result"
    }
   ],
   "source": [
    "obj3.reindex(range(6), \n",
    "             method='bfill')"
   ]
  },
  {
   "cell_type": "markdown",
   "metadata": {},
   "source": [
    "DataFrame 재색인"
   ]
  },
  {
   "cell_type": "code",
   "execution_count": 36,
   "metadata": {
    "collapsed": false
   },
   "outputs": [
    {
     "data": {
      "text/html": [
       "<div style=\"max-height:1000px;max-width:1500px;overflow:auto;\">\n",
       "<table border=\"1\" class=\"dataframe\">\n",
       "  <thead>\n",
       "    <tr style=\"text-align: right;\">\n",
       "      <th></th>\n",
       "      <th>Ohio</th>\n",
       "      <th>Texas</th>\n",
       "      <th>California</th>\n",
       "    </tr>\n",
       "  </thead>\n",
       "  <tbody>\n",
       "    <tr>\n",
       "      <th>a</th>\n",
       "      <td>0</td>\n",
       "      <td>1</td>\n",
       "      <td>2</td>\n",
       "    </tr>\n",
       "    <tr>\n",
       "      <th>c</th>\n",
       "      <td>3</td>\n",
       "      <td>4</td>\n",
       "      <td>5</td>\n",
       "    </tr>\n",
       "    <tr>\n",
       "      <th>d</th>\n",
       "      <td>6</td>\n",
       "      <td>7</td>\n",
       "      <td>8</td>\n",
       "    </tr>\n",
       "  </tbody>\n",
       "</table>\n",
       "</div>"
      ],
      "text/plain": [
       "   Ohio  Texas  California\n",
       "a     0      1           2\n",
       "c     3      4           5\n",
       "d     6      7           8"
      ]
     },
     "execution_count": 36,
     "metadata": {},
     "output_type": "execute_result"
    }
   ],
   "source": [
    "import numpy as np\n",
    "\n",
    "data = np.arange(9).reshape((3,3))\n",
    "frame = DataFrame(data, index=['a', 'c', 'd'], \n",
    "                  columns=['Ohio', 'Texas', 'California'])\n",
    "frame"
   ]
  },
  {
   "cell_type": "markdown",
   "metadata": {},
   "source": [
    "재색인을 통해 인덱스 추가"
   ]
  },
  {
   "cell_type": "code",
   "execution_count": 172,
   "metadata": {
    "collapsed": false
   },
   "outputs": [
    {
     "data": {
      "text/html": [
       "<div style=\"max-height:1000px;max-width:1500px;overflow:auto;\">\n",
       "<table border=\"1\" class=\"dataframe\">\n",
       "  <thead>\n",
       "    <tr style=\"text-align: right;\">\n",
       "      <th></th>\n",
       "      <th>Ohio</th>\n",
       "      <th>Texas</th>\n",
       "      <th>California</th>\n",
       "    </tr>\n",
       "  </thead>\n",
       "  <tbody>\n",
       "    <tr>\n",
       "      <th>a</th>\n",
       "      <td>0</td>\n",
       "      <td>1</td>\n",
       "      <td>2</td>\n",
       "    </tr>\n",
       "    <tr>\n",
       "      <th>b</th>\n",
       "      <td>NaN</td>\n",
       "      <td>NaN</td>\n",
       "      <td>NaN</td>\n",
       "    </tr>\n",
       "    <tr>\n",
       "      <th>c</th>\n",
       "      <td>3</td>\n",
       "      <td>4</td>\n",
       "      <td>5</td>\n",
       "    </tr>\n",
       "    <tr>\n",
       "      <th>d</th>\n",
       "      <td>6</td>\n",
       "      <td>7</td>\n",
       "      <td>8</td>\n",
       "    </tr>\n",
       "  </tbody>\n",
       "</table>\n",
       "</div>"
      ],
      "text/plain": [
       "   Ohio  Texas  California\n",
       "a     0      1           2\n",
       "b   NaN    NaN         NaN\n",
       "c     3      4           5\n",
       "d     6      7           8"
      ]
     },
     "execution_count": 172,
     "metadata": {},
     "output_type": "execute_result"
    }
   ],
   "source": [
    "frame2 = frame.reindex(['a','b','c','d'])\n",
    "frame2"
   ]
  },
  {
   "cell_type": "markdown",
   "metadata": {},
   "source": [
    "인덱스 뿐만 아니라 열을 재색인할 수도 있다."
   ]
  },
  {
   "cell_type": "code",
   "execution_count": 174,
   "metadata": {
    "collapsed": false
   },
   "outputs": [
    {
     "data": {
      "text/html": [
       "<div style=\"max-height:1000px;max-width:1500px;overflow:auto;\">\n",
       "<table border=\"1\" class=\"dataframe\">\n",
       "  <thead>\n",
       "    <tr style=\"text-align: right;\">\n",
       "      <th></th>\n",
       "      <th>Texas</th>\n",
       "      <th>Utah</th>\n",
       "      <th>California</th>\n",
       "    </tr>\n",
       "  </thead>\n",
       "  <tbody>\n",
       "    <tr>\n",
       "      <th>a</th>\n",
       "      <td>1</td>\n",
       "      <td>NaN</td>\n",
       "      <td>2</td>\n",
       "    </tr>\n",
       "    <tr>\n",
       "      <th>c</th>\n",
       "      <td>4</td>\n",
       "      <td>NaN</td>\n",
       "      <td>5</td>\n",
       "    </tr>\n",
       "    <tr>\n",
       "      <th>d</th>\n",
       "      <td>7</td>\n",
       "      <td>NaN</td>\n",
       "      <td>8</td>\n",
       "    </tr>\n",
       "  </tbody>\n",
       "</table>\n",
       "</div>"
      ],
      "text/plain": [
       "   Texas  Utah  California\n",
       "a      1   NaN           2\n",
       "c      4   NaN           5\n",
       "d      7   NaN           8"
      ]
     },
     "execution_count": 174,
     "metadata": {},
     "output_type": "execute_result"
    }
   ],
   "source": [
    "states = ['Texas', 'Utah', 'California']\n",
    "frame.reindex(columns=states)"
   ]
  },
  {
   "cell_type": "code",
   "execution_count": 175,
   "metadata": {
    "collapsed": false
   },
   "outputs": [
    {
     "data": {
      "text/html": [
       "<div style=\"max-height:1000px;max-width:1500px;overflow:auto;\">\n",
       "<table border=\"1\" class=\"dataframe\">\n",
       "  <thead>\n",
       "    <tr style=\"text-align: right;\">\n",
       "      <th></th>\n",
       "      <th>Texas</th>\n",
       "      <th>Utah</th>\n",
       "      <th>California</th>\n",
       "    </tr>\n",
       "  </thead>\n",
       "  <tbody>\n",
       "    <tr>\n",
       "      <th>a</th>\n",
       "      <td>1</td>\n",
       "      <td>NaN</td>\n",
       "      <td>2</td>\n",
       "    </tr>\n",
       "    <tr>\n",
       "      <th>b</th>\n",
       "      <td>1</td>\n",
       "      <td>NaN</td>\n",
       "      <td>2</td>\n",
       "    </tr>\n",
       "    <tr>\n",
       "      <th>c</th>\n",
       "      <td>4</td>\n",
       "      <td>NaN</td>\n",
       "      <td>5</td>\n",
       "    </tr>\n",
       "    <tr>\n",
       "      <th>d</th>\n",
       "      <td>7</td>\n",
       "      <td>NaN</td>\n",
       "      <td>8</td>\n",
       "    </tr>\n",
       "  </tbody>\n",
       "</table>\n",
       "</div>"
      ],
      "text/plain": [
       "   Texas  Utah  California\n",
       "a      1   NaN           2\n",
       "b      1   NaN           2\n",
       "c      4   NaN           5\n",
       "d      7   NaN           8"
      ]
     },
     "execution_count": 175,
     "metadata": {},
     "output_type": "execute_result"
    }
   ],
   "source": [
    "frame.reindex(index=['a', 'b', 'c', 'd'], method='ffill', columns=states)"
   ]
  },
  {
   "cell_type": "code",
   "execution_count": 176,
   "metadata": {
    "collapsed": false,
    "scrolled": true
   },
   "outputs": [
    {
     "data": {
      "text/html": [
       "<div style=\"max-height:1000px;max-width:1500px;overflow:auto;\">\n",
       "<table border=\"1\" class=\"dataframe\">\n",
       "  <thead>\n",
       "    <tr style=\"text-align: right;\">\n",
       "      <th></th>\n",
       "      <th>Texas</th>\n",
       "      <th>Utah</th>\n",
       "      <th>California</th>\n",
       "    </tr>\n",
       "  </thead>\n",
       "  <tbody>\n",
       "    <tr>\n",
       "      <th>a</th>\n",
       "      <td>1</td>\n",
       "      <td>NaN</td>\n",
       "      <td>2</td>\n",
       "    </tr>\n",
       "    <tr>\n",
       "      <th>b</th>\n",
       "      <td>NaN</td>\n",
       "      <td>NaN</td>\n",
       "      <td>NaN</td>\n",
       "    </tr>\n",
       "    <tr>\n",
       "      <th>c</th>\n",
       "      <td>4</td>\n",
       "      <td>NaN</td>\n",
       "      <td>5</td>\n",
       "    </tr>\n",
       "    <tr>\n",
       "      <th>d</th>\n",
       "      <td>7</td>\n",
       "      <td>NaN</td>\n",
       "      <td>8</td>\n",
       "    </tr>\n",
       "  </tbody>\n",
       "</table>\n",
       "</div>"
      ],
      "text/plain": [
       "   Texas  Utah  California\n",
       "a      1   NaN           2\n",
       "b    NaN   NaN         NaN\n",
       "c      4   NaN           5\n",
       "d      7   NaN           8"
      ]
     },
     "execution_count": 176,
     "metadata": {},
     "output_type": "execute_result"
    }
   ],
   "source": [
    "frame.ix[['a', 'b', 'c', 'd'], states]"
   ]
  },
  {
   "cell_type": "markdown",
   "metadata": {},
   "source": [
    "#### 도전과제\n",
    "\n",
    "성주는 SJ전자와 매크로소프트 사의 주식을 가지고 있다. \n",
    "\n",
    "1. 각 주식의 10일 간의 가격을 DataFrame으로 표현하시오. 가격 정보는 임의로 설정하시오.\n",
    "\n",
    "2. 메론 사의 주식 정보를 DataFrame에 추가하시오.\n",
    "\n",
    "3. 매크로소프트, 메론, SJ전자 순으로 회사명이 행 방향으로 표시되도록 하시오.\n",
    "\n",
    "4. 코드베이직 사는 5일 전에 새로 상장되었다. 그래서 지난 5일 간의 가격만 있고, 이전 가격은 없다. 코드베이직 사의 가격을 DataFrame에 추가하시오. (참조: p.170, In[50])\n",
    "\n",
    "5. 모든 주식에 대해 가격 정보가 있는 구간만을 선택하시오. (참조: p.181-182)\n",
    "\n",
    "6. 코드베이직과 SJ 전자의 6일부터 8일까지의 가격만을 선택하시오. (참조: p.182-183)"
   ]
  },
  {
   "cell_type": "code",
   "execution_count": 55,
   "metadata": {
    "collapsed": true
   },
   "outputs": [
    {
     "data": {
      "text/html": [
       "<div style=\"max-height:1000px;max-width:1500px;overflow:auto;\">\n",
       "<table border=\"1\" class=\"dataframe\">\n",
       "  <thead>\n",
       "    <tr style=\"text-align: right;\">\n",
       "      <th></th>\n",
       "      <th>SJ전자</th>\n",
       "      <th>매크로소프트</th>\n",
       "    </tr>\n",
       "  </thead>\n",
       "  <tbody>\n",
       "    <tr>\n",
       "      <th>0</th>\n",
       "      <td>163</td>\n",
       "      <td>120</td>\n",
       "    </tr>\n",
       "    <tr>\n",
       "      <th>1</th>\n",
       "      <td>119</td>\n",
       "      <td>128</td>\n",
       "    </tr>\n",
       "    <tr>\n",
       "      <th>2</th>\n",
       "      <td>132</td>\n",
       "      <td>129</td>\n",
       "    </tr>\n",
       "    <tr>\n",
       "      <th>3</th>\n",
       "      <td>101</td>\n",
       "      <td>183</td>\n",
       "    </tr>\n",
       "    <tr>\n",
       "      <th>4</th>\n",
       "      <td>177</td>\n",
       "      <td>171</td>\n",
       "    </tr>\n",
       "    <tr>\n",
       "      <th>5</th>\n",
       "      <td>145</td>\n",
       "      <td>106</td>\n",
       "    </tr>\n",
       "    <tr>\n",
       "      <th>6</th>\n",
       "      <td>104</td>\n",
       "      <td>127</td>\n",
       "    </tr>\n",
       "    <tr>\n",
       "      <th>7</th>\n",
       "      <td>119</td>\n",
       "      <td>167</td>\n",
       "    </tr>\n",
       "    <tr>\n",
       "      <th>8</th>\n",
       "      <td>137</td>\n",
       "      <td>181</td>\n",
       "    </tr>\n",
       "    <tr>\n",
       "      <th>9</th>\n",
       "      <td>118</td>\n",
       "      <td>184</td>\n",
       "    </tr>\n",
       "  </tbody>\n",
       "</table>\n",
       "</div>"
      ],
      "text/plain": [
       "   SJ전자  매크로소프트\n",
       "0   163     120\n",
       "1   119     128\n",
       "2   132     129\n",
       "3   101     183\n",
       "4   177     171\n",
       "5   145     106\n",
       "6   104     127\n",
       "7   119     167\n",
       "8   137     181\n",
       "9   118     184"
      ]
     },
     "execution_count": 55,
     "metadata": {},
     "output_type": "execute_result"
    }
   ],
   "source": [
    "# 문제 1\n",
    "stock_prices = np.random.randint(100,200, \n",
    "                                 size=(10,2))\n",
    "frame = DataFrame(stock_prices, \n",
    "                  columns=['SJ전자', '매크로소프트'])\n",
    "frame"
   ]
  },
  {
   "cell_type": "code",
   "execution_count": 226,
   "metadata": {
    "collapsed": true
   },
   "outputs": [
    {
     "data": {
      "text/html": [
       "<div style=\"max-height:1000px;max-width:1500px;overflow:auto;\">\n",
       "<table border=\"1\" class=\"dataframe\">\n",
       "  <thead>\n",
       "    <tr style=\"text-align: right;\">\n",
       "      <th></th>\n",
       "      <th>SJ전자</th>\n",
       "      <th>매크로소프트</th>\n",
       "      <th>메론</th>\n",
       "    </tr>\n",
       "  </thead>\n",
       "  <tbody>\n",
       "    <tr>\n",
       "      <th>0</th>\n",
       "      <td>116</td>\n",
       "      <td>125</td>\n",
       "      <td>150</td>\n",
       "    </tr>\n",
       "    <tr>\n",
       "      <th>1</th>\n",
       "      <td>107</td>\n",
       "      <td>142</td>\n",
       "      <td>120</td>\n",
       "    </tr>\n",
       "    <tr>\n",
       "      <th>2</th>\n",
       "      <td>156</td>\n",
       "      <td>150</td>\n",
       "      <td>186</td>\n",
       "    </tr>\n",
       "    <tr>\n",
       "      <th>3</th>\n",
       "      <td>147</td>\n",
       "      <td>110</td>\n",
       "      <td>100</td>\n",
       "    </tr>\n",
       "    <tr>\n",
       "      <th>4</th>\n",
       "      <td>154</td>\n",
       "      <td>145</td>\n",
       "      <td>129</td>\n",
       "    </tr>\n",
       "    <tr>\n",
       "      <th>5</th>\n",
       "      <td>158</td>\n",
       "      <td>198</td>\n",
       "      <td>165</td>\n",
       "    </tr>\n",
       "    <tr>\n",
       "      <th>6</th>\n",
       "      <td>177</td>\n",
       "      <td>148</td>\n",
       "      <td>137</td>\n",
       "    </tr>\n",
       "    <tr>\n",
       "      <th>7</th>\n",
       "      <td>102</td>\n",
       "      <td>128</td>\n",
       "      <td>180</td>\n",
       "    </tr>\n",
       "    <tr>\n",
       "      <th>8</th>\n",
       "      <td>188</td>\n",
       "      <td>138</td>\n",
       "      <td>114</td>\n",
       "    </tr>\n",
       "    <tr>\n",
       "      <th>9</th>\n",
       "      <td>132</td>\n",
       "      <td>110</td>\n",
       "      <td>108</td>\n",
       "    </tr>\n",
       "  </tbody>\n",
       "</table>\n",
       "</div>"
      ],
      "text/plain": [
       "   SJ전자  매크로소프트   메론\n",
       "0   116     125  150\n",
       "1   107     142  120\n",
       "2   156     150  186\n",
       "3   147     110  100\n",
       "4   154     145  129\n",
       "5   158     198  165\n",
       "6   177     148  137\n",
       "7   102     128  180\n",
       "8   188     138  114\n",
       "9   132     110  108"
      ]
     },
     "execution_count": 226,
     "metadata": {},
     "output_type": "execute_result"
    }
   ],
   "source": [
    "# 문제 2\n",
    "frame[u'메론'] = np.random.randint(100,200, \n",
    "                                 size=10)\n",
    "frame"
   ]
  },
  {
   "cell_type": "code",
   "execution_count": 200,
   "metadata": {
    "collapsed": false,
    "scrolled": true
   },
   "outputs": [
    {
     "data": {
      "text/html": [
       "<div style=\"max-height:1000px;max-width:1500px;overflow:auto;\">\n",
       "<table border=\"1\" class=\"dataframe\">\n",
       "  <thead>\n",
       "    <tr style=\"text-align: right;\">\n",
       "      <th></th>\n",
       "      <th>0</th>\n",
       "      <th>1</th>\n",
       "      <th>2</th>\n",
       "      <th>3</th>\n",
       "      <th>4</th>\n",
       "      <th>5</th>\n",
       "      <th>6</th>\n",
       "      <th>7</th>\n",
       "      <th>8</th>\n",
       "      <th>9</th>\n",
       "    </tr>\n",
       "  </thead>\n",
       "  <tbody>\n",
       "    <tr>\n",
       "      <th>매크로소프트</th>\n",
       "      <td>104</td>\n",
       "      <td>193</td>\n",
       "      <td>194</td>\n",
       "      <td>146</td>\n",
       "      <td>168</td>\n",
       "      <td>197</td>\n",
       "      <td>135</td>\n",
       "      <td>144</td>\n",
       "      <td>197</td>\n",
       "      <td>192</td>\n",
       "    </tr>\n",
       "    <tr>\n",
       "      <th>메론</th>\n",
       "      <td>149</td>\n",
       "      <td>161</td>\n",
       "      <td>100</td>\n",
       "      <td>140</td>\n",
       "      <td>177</td>\n",
       "      <td>186</td>\n",
       "      <td>148</td>\n",
       "      <td>139</td>\n",
       "      <td>192</td>\n",
       "      <td>105</td>\n",
       "    </tr>\n",
       "    <tr>\n",
       "      <th>SJ전자</th>\n",
       "      <td>137</td>\n",
       "      <td>192</td>\n",
       "      <td>139</td>\n",
       "      <td>138</td>\n",
       "      <td>133</td>\n",
       "      <td>157</td>\n",
       "      <td>178</td>\n",
       "      <td>140</td>\n",
       "      <td>134</td>\n",
       "      <td>101</td>\n",
       "    </tr>\n",
       "  </tbody>\n",
       "</table>\n",
       "</div>"
      ],
      "text/plain": [
       "          0    1    2    3    4    5    6    7    8    9\n",
       "매크로소프트  104  193  194  146  168  197  135  144  197  192\n",
       "메론      149  161  100  140  177  186  148  139  192  105\n",
       "SJ전자    137  192  139  138  133  157  178  140  134  101"
      ]
     },
     "execution_count": 200,
     "metadata": {},
     "output_type": "execute_result"
    }
   ],
   "source": [
    "# 문제 c\n",
    "frame.reindex(columns=[u'매크로소프트', u'메론', u'SJ전자']).T"
   ]
  },
  {
   "cell_type": "code",
   "execution_count": null,
   "metadata": {
    "collapsed": true
   },
   "outputs": [],
   "source": []
  },
  {
   "cell_type": "markdown",
   "metadata": {},
   "source": [
    "문제 4"
   ]
  },
  {
   "cell_type": "code",
   "execution_count": 57,
   "metadata": {
    "collapsed": true
   },
   "outputs": [
    {
     "data": {
      "text/html": [
       "<div style=\"max-height:1000px;max-width:1500px;overflow:auto;\">\n",
       "<table border=\"1\" class=\"dataframe\">\n",
       "  <thead>\n",
       "    <tr style=\"text-align: right;\">\n",
       "      <th></th>\n",
       "      <th>SJ전자</th>\n",
       "      <th>매크로소프트</th>\n",
       "      <th>코드베이직</th>\n",
       "    </tr>\n",
       "  </thead>\n",
       "  <tbody>\n",
       "    <tr>\n",
       "      <th>0</th>\n",
       "      <td>163</td>\n",
       "      <td>120</td>\n",
       "      <td>NaN</td>\n",
       "    </tr>\n",
       "    <tr>\n",
       "      <th>1</th>\n",
       "      <td>119</td>\n",
       "      <td>128</td>\n",
       "      <td>NaN</td>\n",
       "    </tr>\n",
       "    <tr>\n",
       "      <th>2</th>\n",
       "      <td>132</td>\n",
       "      <td>129</td>\n",
       "      <td>NaN</td>\n",
       "    </tr>\n",
       "    <tr>\n",
       "      <th>3</th>\n",
       "      <td>101</td>\n",
       "      <td>183</td>\n",
       "      <td>NaN</td>\n",
       "    </tr>\n",
       "    <tr>\n",
       "      <th>4</th>\n",
       "      <td>177</td>\n",
       "      <td>171</td>\n",
       "      <td>NaN</td>\n",
       "    </tr>\n",
       "    <tr>\n",
       "      <th>5</th>\n",
       "      <td>145</td>\n",
       "      <td>106</td>\n",
       "      <td>114</td>\n",
       "    </tr>\n",
       "    <tr>\n",
       "      <th>6</th>\n",
       "      <td>104</td>\n",
       "      <td>127</td>\n",
       "      <td>140</td>\n",
       "    </tr>\n",
       "    <tr>\n",
       "      <th>7</th>\n",
       "      <td>119</td>\n",
       "      <td>167</td>\n",
       "      <td>124</td>\n",
       "    </tr>\n",
       "    <tr>\n",
       "      <th>8</th>\n",
       "      <td>137</td>\n",
       "      <td>181</td>\n",
       "      <td>119</td>\n",
       "    </tr>\n",
       "    <tr>\n",
       "      <th>9</th>\n",
       "      <td>118</td>\n",
       "      <td>184</td>\n",
       "      <td>130</td>\n",
       "    </tr>\n",
       "  </tbody>\n",
       "</table>\n",
       "</div>"
      ],
      "text/plain": [
       "   SJ전자  매크로소프트  코드베이직\n",
       "0   163     120    NaN\n",
       "1   119     128    NaN\n",
       "2   132     129    NaN\n",
       "3   101     183    NaN\n",
       "4   177     171    NaN\n",
       "5   145     106    114\n",
       "6   104     127    140\n",
       "7   119     167    124\n",
       "8   137     181    119\n",
       "9   118     184    130"
      ]
     },
     "execution_count": 57,
     "metadata": {},
     "output_type": "execute_result"
    }
   ],
   "source": [
    "frame[u'코드베이직'] = Series(np.random.randint(100,200, size=5)\n",
    "                        ,index=[5,6,7,8,9])\n",
    "frame"
   ]
  },
  {
   "cell_type": "code",
   "execution_count": 243,
   "metadata": {
    "collapsed": true
   },
   "outputs": [
    {
     "data": {
      "text/html": [
       "<div style=\"max-height:1000px;max-width:1500px;overflow:auto;\">\n",
       "<table border=\"1\" class=\"dataframe\">\n",
       "  <thead>\n",
       "    <tr style=\"text-align: right;\">\n",
       "      <th></th>\n",
       "      <th>SJ전자</th>\n",
       "      <th>매크로소프트</th>\n",
       "      <th>메론</th>\n",
       "      <th>코드베이직</th>\n",
       "    </tr>\n",
       "  </thead>\n",
       "  <tbody>\n",
       "    <tr>\n",
       "      <th>0</th>\n",
       "      <td>True</td>\n",
       "      <td>True</td>\n",
       "      <td>True</td>\n",
       "      <td>False</td>\n",
       "    </tr>\n",
       "    <tr>\n",
       "      <th>1</th>\n",
       "      <td>True</td>\n",
       "      <td>True</td>\n",
       "      <td>True</td>\n",
       "      <td>False</td>\n",
       "    </tr>\n",
       "    <tr>\n",
       "      <th>2</th>\n",
       "      <td>True</td>\n",
       "      <td>True</td>\n",
       "      <td>True</td>\n",
       "      <td>False</td>\n",
       "    </tr>\n",
       "    <tr>\n",
       "      <th>3</th>\n",
       "      <td>True</td>\n",
       "      <td>True</td>\n",
       "      <td>True</td>\n",
       "      <td>False</td>\n",
       "    </tr>\n",
       "    <tr>\n",
       "      <th>4</th>\n",
       "      <td>True</td>\n",
       "      <td>True</td>\n",
       "      <td>True</td>\n",
       "      <td>False</td>\n",
       "    </tr>\n",
       "    <tr>\n",
       "      <th>5</th>\n",
       "      <td>True</td>\n",
       "      <td>True</td>\n",
       "      <td>True</td>\n",
       "      <td>True</td>\n",
       "    </tr>\n",
       "    <tr>\n",
       "      <th>6</th>\n",
       "      <td>True</td>\n",
       "      <td>True</td>\n",
       "      <td>True</td>\n",
       "      <td>True</td>\n",
       "    </tr>\n",
       "    <tr>\n",
       "      <th>7</th>\n",
       "      <td>True</td>\n",
       "      <td>True</td>\n",
       "      <td>True</td>\n",
       "      <td>True</td>\n",
       "    </tr>\n",
       "    <tr>\n",
       "      <th>8</th>\n",
       "      <td>True</td>\n",
       "      <td>True</td>\n",
       "      <td>True</td>\n",
       "      <td>True</td>\n",
       "    </tr>\n",
       "    <tr>\n",
       "      <th>9</th>\n",
       "      <td>True</td>\n",
       "      <td>True</td>\n",
       "      <td>True</td>\n",
       "      <td>True</td>\n",
       "    </tr>\n",
       "  </tbody>\n",
       "</table>\n",
       "</div>"
      ],
      "text/plain": [
       "   SJ전자 매크로소프트    메론  코드베이직\n",
       "0  True   True  True  False\n",
       "1  True   True  True  False\n",
       "2  True   True  True  False\n",
       "3  True   True  True  False\n",
       "4  True   True  True  False\n",
       "5  True   True  True   True\n",
       "6  True   True  True   True\n",
       "7  True   True  True   True\n",
       "8  True   True  True   True\n",
       "9  True   True  True   True"
      ]
     },
     "execution_count": 243,
     "metadata": {},
     "output_type": "execute_result"
    }
   ],
   "source": [
    "frame.notnull()"
   ]
  },
  {
   "cell_type": "code",
   "execution_count": 244,
   "metadata": {
    "collapsed": false
   },
   "outputs": [
    {
     "data": {
      "text/plain": [
       "SJ전자       True\n",
       "매크로소프트     True\n",
       "메론         True\n",
       "코드베이직     False\n",
       "dtype: bool"
      ]
     },
     "execution_count": 244,
     "metadata": {},
     "output_type": "execute_result"
    }
   ],
   "source": [
    "frame.notnull().all()"
   ]
  },
  {
   "cell_type": "code",
   "execution_count": 242,
   "metadata": {
    "collapsed": false
   },
   "outputs": [
    {
     "data": {
      "text/html": [
       "<div style=\"max-height:1000px;max-width:1500px;overflow:auto;\">\n",
       "<table border=\"1\" class=\"dataframe\">\n",
       "  <thead>\n",
       "    <tr style=\"text-align: right;\">\n",
       "      <th></th>\n",
       "      <th>코드베이직</th>\n",
       "      <th>SJ전자</th>\n",
       "    </tr>\n",
       "  </thead>\n",
       "  <tbody>\n",
       "    <tr>\n",
       "      <th>5</th>\n",
       "      <td>169</td>\n",
       "      <td>158</td>\n",
       "    </tr>\n",
       "    <tr>\n",
       "      <th>6</th>\n",
       "      <td>100</td>\n",
       "      <td>177</td>\n",
       "    </tr>\n",
       "    <tr>\n",
       "      <th>7</th>\n",
       "      <td>158</td>\n",
       "      <td>102</td>\n",
       "    </tr>\n",
       "    <tr>\n",
       "      <th>8</th>\n",
       "      <td>192</td>\n",
       "      <td>188</td>\n",
       "    </tr>\n",
       "  </tbody>\n",
       "</table>\n",
       "</div>"
      ],
      "text/plain": [
       "   코드베이직  SJ전자\n",
       "5    169   158\n",
       "6    100   177\n",
       "7    158   102\n",
       "8    192   188"
      ]
     },
     "execution_count": 242,
     "metadata": {},
     "output_type": "execute_result"
    }
   ],
   "source": [
    "frame.ix[5:8, [u'코드베이직', u'SJ전자']]"
   ]
  },
  {
   "cell_type": "markdown",
   "metadata": {},
   "source": [
    "행열 삭제"
   ]
  },
  {
   "cell_type": "code",
   "execution_count": 58,
   "metadata": {
    "collapsed": false
   },
   "outputs": [
    {
     "data": {
      "text/plain": [
       "a    0\n",
       "b    1\n",
       "c    2\n",
       "d    3\n",
       "e    4\n",
       "dtype: float64"
      ]
     },
     "execution_count": 58,
     "metadata": {},
     "output_type": "execute_result"
    }
   ],
   "source": [
    "obj=Series(np.arange(5.), index=['a','b','c','d','e'])\n",
    "obj"
   ]
  },
  {
   "cell_type": "code",
   "execution_count": 59,
   "metadata": {
    "collapsed": false
   },
   "outputs": [
    {
     "data": {
      "text/plain": [
       "a    0\n",
       "b    1\n",
       "d    3\n",
       "e    4\n",
       "dtype: float64"
      ]
     },
     "execution_count": 59,
     "metadata": {},
     "output_type": "execute_result"
    }
   ],
   "source": [
    "obj.drop('c')"
   ]
  },
  {
   "cell_type": "code",
   "execution_count": 115,
   "metadata": {
    "collapsed": false
   },
   "outputs": [
    {
     "data": {
      "text/plain": [
       "a    0\n",
       "b    1\n",
       "e    4\n",
       "dtype: float64"
      ]
     },
     "execution_count": 115,
     "metadata": {},
     "output_type": "execute_result"
    }
   ],
   "source": [
    "obj.drop(['d', 'c'])"
   ]
  },
  {
   "cell_type": "code",
   "execution_count": 60,
   "metadata": {
    "collapsed": false
   },
   "outputs": [
    {
     "data": {
      "text/plain": [
       "array([[ 0,  1,  2,  3],\n",
       "       [ 4,  5,  6,  7],\n",
       "       [ 8,  9, 10, 11],\n",
       "       [12, 13, 14, 15]])"
      ]
     },
     "execution_count": 60,
     "metadata": {},
     "output_type": "execute_result"
    }
   ],
   "source": [
    "data = np.arange(16).reshape((4,4)) # 4x4 행렬\n",
    "data"
   ]
  },
  {
   "cell_type": "code",
   "execution_count": 61,
   "metadata": {
    "collapsed": false,
    "scrolled": true
   },
   "outputs": [
    {
     "data": {
      "text/html": [
       "<div style=\"max-height:1000px;max-width:1500px;overflow:auto;\">\n",
       "<table border=\"1\" class=\"dataframe\">\n",
       "  <thead>\n",
       "    <tr style=\"text-align: right;\">\n",
       "      <th></th>\n",
       "      <th>one</th>\n",
       "      <th>two</th>\n",
       "      <th>trois</th>\n",
       "      <th>quatre</th>\n",
       "    </tr>\n",
       "  </thead>\n",
       "  <tbody>\n",
       "    <tr>\n",
       "      <th>Ohio</th>\n",
       "      <td>0</td>\n",
       "      <td>1</td>\n",
       "      <td>2</td>\n",
       "      <td>3</td>\n",
       "    </tr>\n",
       "    <tr>\n",
       "      <th>Colorado</th>\n",
       "      <td>4</td>\n",
       "      <td>5</td>\n",
       "      <td>6</td>\n",
       "      <td>7</td>\n",
       "    </tr>\n",
       "    <tr>\n",
       "      <th>Utah</th>\n",
       "      <td>8</td>\n",
       "      <td>9</td>\n",
       "      <td>10</td>\n",
       "      <td>11</td>\n",
       "    </tr>\n",
       "    <tr>\n",
       "      <th>New York</th>\n",
       "      <td>12</td>\n",
       "      <td>13</td>\n",
       "      <td>14</td>\n",
       "      <td>15</td>\n",
       "    </tr>\n",
       "  </tbody>\n",
       "</table>\n",
       "</div>"
      ],
      "text/plain": [
       "          one  two  trois  quatre\n",
       "Ohio        0    1      2       3\n",
       "Colorado    4    5      6       7\n",
       "Utah        8    9     10      11\n",
       "New York   12   13     14      15"
      ]
     },
     "execution_count": 61,
     "metadata": {},
     "output_type": "execute_result"
    }
   ],
   "source": [
    "frame = DataFrame(data, \n",
    "                  index=['Ohio', 'Colorado', 'Utah', 'New York'],\n",
    "                 columns=['one','two', 'trois', 'quatre'])\n",
    "frame"
   ]
  },
  {
   "cell_type": "code",
   "execution_count": 62,
   "metadata": {
    "collapsed": false
   },
   "outputs": [
    {
     "data": {
      "text/html": [
       "<div style=\"max-height:1000px;max-width:1500px;overflow:auto;\">\n",
       "<table border=\"1\" class=\"dataframe\">\n",
       "  <thead>\n",
       "    <tr style=\"text-align: right;\">\n",
       "      <th></th>\n",
       "      <th>one</th>\n",
       "      <th>two</th>\n",
       "      <th>trois</th>\n",
       "      <th>quatre</th>\n",
       "    </tr>\n",
       "  </thead>\n",
       "  <tbody>\n",
       "    <tr>\n",
       "      <th>Utah</th>\n",
       "      <td>8</td>\n",
       "      <td>9</td>\n",
       "      <td>10</td>\n",
       "      <td>11</td>\n",
       "    </tr>\n",
       "    <tr>\n",
       "      <th>New York</th>\n",
       "      <td>12</td>\n",
       "      <td>13</td>\n",
       "      <td>14</td>\n",
       "      <td>15</td>\n",
       "    </tr>\n",
       "  </tbody>\n",
       "</table>\n",
       "</div>"
      ],
      "text/plain": [
       "          one  two  trois  quatre\n",
       "Utah        8    9     10      11\n",
       "New York   12   13     14      15"
      ]
     },
     "execution_count": 62,
     "metadata": {},
     "output_type": "execute_result"
    }
   ],
   "source": [
    "frame.drop(['Colorado', 'Ohio'])"
   ]
  },
  {
   "cell_type": "markdown",
   "metadata": {},
   "source": [
    "열 삭제"
   ]
  },
  {
   "cell_type": "code",
   "execution_count": 123,
   "metadata": {
    "collapsed": false,
    "scrolled": true
   },
   "outputs": [
    {
     "data": {
      "text/html": [
       "<div style=\"max-height:1000px;max-width:1500px;overflow:auto;\">\n",
       "<table border=\"1\" class=\"dataframe\">\n",
       "  <thead>\n",
       "    <tr style=\"text-align: right;\">\n",
       "      <th></th>\n",
       "      <th>trois</th>\n",
       "      <th>quatre</th>\n",
       "    </tr>\n",
       "  </thead>\n",
       "  <tbody>\n",
       "    <tr>\n",
       "      <th>Ohio</th>\n",
       "      <td>2</td>\n",
       "      <td>3</td>\n",
       "    </tr>\n",
       "    <tr>\n",
       "      <th>Colorado</th>\n",
       "      <td>6</td>\n",
       "      <td>7</td>\n",
       "    </tr>\n",
       "    <tr>\n",
       "      <th>Utah</th>\n",
       "      <td>10</td>\n",
       "      <td>11</td>\n",
       "    </tr>\n",
       "    <tr>\n",
       "      <th>New York</th>\n",
       "      <td>14</td>\n",
       "      <td>15</td>\n",
       "    </tr>\n",
       "  </tbody>\n",
       "</table>\n",
       "</div>"
      ],
      "text/plain": [
       "          trois  quatre\n",
       "Ohio          2       3\n",
       "Colorado      6       7\n",
       "Utah         10      11\n",
       "New York     14      15"
      ]
     },
     "execution_count": 123,
     "metadata": {},
     "output_type": "execute_result"
    }
   ],
   "source": [
    "frame.drop(['one','two'], axis=1)"
   ]
  },
  {
   "cell_type": "markdown",
   "metadata": {},
   "source": [
    "원판, ... 아니 원본은 불변"
   ]
  },
  {
   "cell_type": "code",
   "execution_count": 63,
   "metadata": {
    "collapsed": false
   },
   "outputs": [
    {
     "data": {
      "text/html": [
       "<div style=\"max-height:1000px;max-width:1500px;overflow:auto;\">\n",
       "<table border=\"1\" class=\"dataframe\">\n",
       "  <thead>\n",
       "    <tr style=\"text-align: right;\">\n",
       "      <th></th>\n",
       "      <th>one</th>\n",
       "      <th>two</th>\n",
       "      <th>trois</th>\n",
       "      <th>quatre</th>\n",
       "    </tr>\n",
       "  </thead>\n",
       "  <tbody>\n",
       "    <tr>\n",
       "      <th>Ohio</th>\n",
       "      <td>0</td>\n",
       "      <td>1</td>\n",
       "      <td>2</td>\n",
       "      <td>3</td>\n",
       "    </tr>\n",
       "    <tr>\n",
       "      <th>Colorado</th>\n",
       "      <td>4</td>\n",
       "      <td>5</td>\n",
       "      <td>6</td>\n",
       "      <td>7</td>\n",
       "    </tr>\n",
       "    <tr>\n",
       "      <th>Utah</th>\n",
       "      <td>8</td>\n",
       "      <td>9</td>\n",
       "      <td>10</td>\n",
       "      <td>11</td>\n",
       "    </tr>\n",
       "    <tr>\n",
       "      <th>New York</th>\n",
       "      <td>12</td>\n",
       "      <td>13</td>\n",
       "      <td>14</td>\n",
       "      <td>15</td>\n",
       "    </tr>\n",
       "  </tbody>\n",
       "</table>\n",
       "</div>"
      ],
      "text/plain": [
       "          one  two  trois  quatre\n",
       "Ohio        0    1      2       3\n",
       "Colorado    4    5      6       7\n",
       "Utah        8    9     10      11\n",
       "New York   12   13     14      15"
      ]
     },
     "execution_count": 63,
     "metadata": {},
     "output_type": "execute_result"
    }
   ],
   "source": [
    "frame"
   ]
  },
  {
   "cell_type": "markdown",
   "metadata": {},
   "source": [
    "### 색인, 선택, 필터\n",
    "\n",
    "obj[<선택조건>]"
   ]
  },
  {
   "cell_type": "code",
   "execution_count": 204,
   "metadata": {
    "collapsed": false,
    "scrolled": true
   },
   "outputs": [
    {
     "data": {
      "text/plain": [
       "a    0\n",
       "b    1\n",
       "c    2\n",
       "d    3\n",
       "dtype: float64"
      ]
     },
     "execution_count": 204,
     "metadata": {},
     "output_type": "execute_result"
    }
   ],
   "source": [
    "obj = Series(np.arange(4.0), index=list('abcd'))\n",
    "obj"
   ]
  },
  {
   "cell_type": "code",
   "execution_count": 203,
   "metadata": {
    "collapsed": false
   },
   "outputs": [
    {
     "data": {
      "text/plain": [
       "1.0"
      ]
     },
     "execution_count": 203,
     "metadata": {},
     "output_type": "execute_result"
    }
   ],
   "source": [
    "obj['b']"
   ]
  },
  {
   "cell_type": "code",
   "execution_count": 205,
   "metadata": {
    "collapsed": false
   },
   "outputs": [
    {
     "data": {
      "text/plain": [
       "1.0"
      ]
     },
     "execution_count": 205,
     "metadata": {},
     "output_type": "execute_result"
    }
   ],
   "source": [
    "obj[1]"
   ]
  },
  {
   "cell_type": "code",
   "execution_count": 206,
   "metadata": {
    "collapsed": false
   },
   "outputs": [
    {
     "data": {
      "text/plain": [
       "c    2\n",
       "d    3\n",
       "dtype: float64"
      ]
     },
     "execution_count": 206,
     "metadata": {},
     "output_type": "execute_result"
    }
   ],
   "source": [
    "obj[2:4]"
   ]
  },
  {
   "cell_type": "code",
   "execution_count": 207,
   "metadata": {
    "collapsed": false
   },
   "outputs": [
    {
     "data": {
      "text/plain": [
       "b    1\n",
       "a    0\n",
       "d    3\n",
       "dtype: float64"
      ]
     },
     "execution_count": 207,
     "metadata": {},
     "output_type": "execute_result"
    }
   ],
   "source": [
    "obj[['b','a','d']]"
   ]
  },
  {
   "cell_type": "code",
   "execution_count": 208,
   "metadata": {
    "collapsed": false
   },
   "outputs": [
    {
     "data": {
      "text/plain": [
       "b    1\n",
       "d    3\n",
       "dtype: float64"
      ]
     },
     "execution_count": 208,
     "metadata": {},
     "output_type": "execute_result"
    }
   ],
   "source": [
    "obj[[1,3]]"
   ]
  },
  {
   "cell_type": "code",
   "execution_count": 209,
   "metadata": {
    "collapsed": false
   },
   "outputs": [
    {
     "data": {
      "text/plain": [
       "a    0\n",
       "b    1\n",
       "dtype: float64"
      ]
     },
     "execution_count": 209,
     "metadata": {},
     "output_type": "execute_result"
    }
   ],
   "source": [
    "obj[obj<2]"
   ]
  },
  {
   "cell_type": "markdown",
   "metadata": {},
   "source": [
    "문자 라벨 슬라이싱"
   ]
  },
  {
   "cell_type": "code",
   "execution_count": 64,
   "metadata": {
    "collapsed": false
   },
   "outputs": [
    {
     "data": {
      "text/plain": [
       "d    0\n",
       "e    1\n",
       "b    2\n",
       "a    3\n",
       "c    4\n",
       "dtype: int64"
      ]
     },
     "execution_count": 64,
     "metadata": {},
     "output_type": "execute_result"
    }
   ],
   "source": [
    "obj = Series(range(5), index=['d','e','b','a','c'])\n",
    "obj"
   ]
  },
  {
   "cell_type": "code",
   "execution_count": 65,
   "metadata": {
    "collapsed": false
   },
   "outputs": [
    {
     "data": {
      "text/plain": [
       "b    2\n",
       "a    3\n",
       "dtype: int64"
      ]
     },
     "execution_count": 65,
     "metadata": {},
     "output_type": "execute_result"
    }
   ],
   "source": [
    "obj['b':'a']"
   ]
  },
  {
   "cell_type": "code",
   "execution_count": 67,
   "metadata": {
    "collapsed": false
   },
   "outputs": [
    {
     "data": {
      "text/plain": [
       "b    2\n",
       "a    3\n",
       "c    4\n",
       "dtype: int64"
      ]
     },
     "execution_count": 67,
     "metadata": {},
     "output_type": "execute_result"
    }
   ],
   "source": [
    "obj['b' : 'c']"
   ]
  },
  {
   "cell_type": "code",
   "execution_count": 68,
   "metadata": {
    "collapsed": false
   },
   "outputs": [
    {
     "data": {
      "text/plain": [
       "Series([], dtype: int64)"
      ]
     },
     "execution_count": 68,
     "metadata": {},
     "output_type": "execute_result"
    }
   ],
   "source": [
    "obj['b':'d']"
   ]
  },
  {
   "cell_type": "code",
   "execution_count": 16,
   "metadata": {
    "collapsed": false
   },
   "outputs": [
    {
     "name": "stdout",
     "output_type": "stream",
     "text": [
      "d    0\n",
      "e    1\n",
      "b    2\n",
      "a    3\n",
      "c    4\n",
      "dtype: int64\n",
      "b    2\n",
      "a    3\n",
      "dtype: int64\n",
      "b    2\n",
      "a    3\n",
      "dtype: int64\n"
     ]
    }
   ],
   "source": [
    "obj[2:4]"
   ]
  },
  {
   "cell_type": "code",
   "execution_count": 212,
   "metadata": {
    "collapsed": false
   },
   "outputs": [
    {
     "data": {
      "text/plain": [
       "array([[ 0,  1,  2,  3],\n",
       "       [ 4,  5,  6,  7],\n",
       "       [ 8,  9, 10, 11],\n",
       "       [12, 13, 14, 15]])"
      ]
     },
     "execution_count": 212,
     "metadata": {},
     "output_type": "execute_result"
    }
   ],
   "source": [
    "np.arange(16).reshape((4,4))"
   ]
  },
  {
   "cell_type": "code",
   "execution_count": 70,
   "metadata": {
    "collapsed": false
   },
   "outputs": [
    {
     "data": {
      "text/html": [
       "<div style=\"max-height:1000px;max-width:1500px;overflow:auto;\">\n",
       "<table border=\"1\" class=\"dataframe\">\n",
       "  <thead>\n",
       "    <tr style=\"text-align: right;\">\n",
       "      <th></th>\n",
       "      <th>one</th>\n",
       "      <th>two</th>\n",
       "      <th>three</th>\n",
       "      <th>four</th>\n",
       "    </tr>\n",
       "  </thead>\n",
       "  <tbody>\n",
       "    <tr>\n",
       "      <th>Ohio</th>\n",
       "      <td>0</td>\n",
       "      <td>1</td>\n",
       "      <td>2</td>\n",
       "      <td>3</td>\n",
       "    </tr>\n",
       "    <tr>\n",
       "      <th>Colorado</th>\n",
       "      <td>4</td>\n",
       "      <td>5</td>\n",
       "      <td>6</td>\n",
       "      <td>7</td>\n",
       "    </tr>\n",
       "    <tr>\n",
       "      <th>Utah</th>\n",
       "      <td>8</td>\n",
       "      <td>9</td>\n",
       "      <td>10</td>\n",
       "      <td>11</td>\n",
       "    </tr>\n",
       "    <tr>\n",
       "      <th>New York</th>\n",
       "      <td>12</td>\n",
       "      <td>13</td>\n",
       "      <td>14</td>\n",
       "      <td>15</td>\n",
       "    </tr>\n",
       "  </tbody>\n",
       "</table>\n",
       "</div>"
      ],
      "text/plain": [
       "          one  two  three  four\n",
       "Ohio        0    1      2     3\n",
       "Colorado    4    5      6     7\n",
       "Utah        8    9     10    11\n",
       "New York   12   13     14    15"
      ]
     },
     "execution_count": 70,
     "metadata": {},
     "output_type": "execute_result"
    }
   ],
   "source": [
    "data = DataFrame(np.arange(16).reshape((4,4)),\n",
    "                index=['Ohio', 'Colorado', 'Utah', 'New York'],\n",
    "                columns=['one', 'two', 'three', 'four'])\n",
    "data"
   ]
  },
  {
   "cell_type": "code",
   "execution_count": 214,
   "metadata": {
    "collapsed": false
   },
   "outputs": [
    {
     "data": {
      "text/plain": [
       "Ohio         1\n",
       "Colorado     5\n",
       "Utah         9\n",
       "New York    13\n",
       "Name: two, dtype: int64"
      ]
     },
     "execution_count": 214,
     "metadata": {},
     "output_type": "execute_result"
    }
   ],
   "source": [
    "data['two']"
   ]
  },
  {
   "cell_type": "code",
   "execution_count": 215,
   "metadata": {
    "collapsed": false
   },
   "outputs": [
    {
     "data": {
      "text/html": [
       "<div style=\"max-height:1000px;max-width:1500px;overflow:auto;\">\n",
       "<table border=\"1\" class=\"dataframe\">\n",
       "  <thead>\n",
       "    <tr style=\"text-align: right;\">\n",
       "      <th></th>\n",
       "      <th>three</th>\n",
       "      <th>one</th>\n",
       "    </tr>\n",
       "  </thead>\n",
       "  <tbody>\n",
       "    <tr>\n",
       "      <th>Ohio</th>\n",
       "      <td>2</td>\n",
       "      <td>0</td>\n",
       "    </tr>\n",
       "    <tr>\n",
       "      <th>Colorado</th>\n",
       "      <td>6</td>\n",
       "      <td>4</td>\n",
       "    </tr>\n",
       "    <tr>\n",
       "      <th>Utah</th>\n",
       "      <td>10</td>\n",
       "      <td>8</td>\n",
       "    </tr>\n",
       "    <tr>\n",
       "      <th>New York</th>\n",
       "      <td>14</td>\n",
       "      <td>12</td>\n",
       "    </tr>\n",
       "  </tbody>\n",
       "</table>\n",
       "</div>"
      ],
      "text/plain": [
       "          three  one\n",
       "Ohio          2    0\n",
       "Colorado      6    4\n",
       "Utah         10    8\n",
       "New York     14   12"
      ]
     },
     "execution_count": 215,
     "metadata": {},
     "output_type": "execute_result"
    }
   ],
   "source": [
    "data[['three', 'one']]"
   ]
  },
  {
   "cell_type": "markdown",
   "metadata": {},
   "source": [
    "질문: 열 방향으로 선택되어야 하는 거 아냐?"
   ]
  },
  {
   "cell_type": "code",
   "execution_count": 71,
   "metadata": {
    "collapsed": false
   },
   "outputs": [
    {
     "data": {
      "text/html": [
       "<div style=\"max-height:1000px;max-width:1500px;overflow:auto;\">\n",
       "<table border=\"1\" class=\"dataframe\">\n",
       "  <thead>\n",
       "    <tr style=\"text-align: right;\">\n",
       "      <th></th>\n",
       "      <th>one</th>\n",
       "      <th>two</th>\n",
       "      <th>three</th>\n",
       "      <th>four</th>\n",
       "    </tr>\n",
       "  </thead>\n",
       "  <tbody>\n",
       "    <tr>\n",
       "      <th>Ohio</th>\n",
       "      <td>0</td>\n",
       "      <td>1</td>\n",
       "      <td>2</td>\n",
       "      <td>3</td>\n",
       "    </tr>\n",
       "    <tr>\n",
       "      <th>Colorado</th>\n",
       "      <td>4</td>\n",
       "      <td>5</td>\n",
       "      <td>6</td>\n",
       "      <td>7</td>\n",
       "    </tr>\n",
       "  </tbody>\n",
       "</table>\n",
       "</div>"
      ],
      "text/plain": [
       "          one  two  three  four\n",
       "Ohio        0    1      2     3\n",
       "Colorado    4    5      6     7"
      ]
     },
     "execution_count": 71,
     "metadata": {},
     "output_type": "execute_result"
    }
   ],
   "source": [
    "data[:2]"
   ]
  },
  {
   "cell_type": "code",
   "execution_count": 217,
   "metadata": {
    "collapsed": false
   },
   "outputs": [
    {
     "data": {
      "text/html": [
       "<div style=\"max-height:1000px;max-width:1500px;overflow:auto;\">\n",
       "<table border=\"1\" class=\"dataframe\">\n",
       "  <thead>\n",
       "    <tr style=\"text-align: right;\">\n",
       "      <th></th>\n",
       "      <th>one</th>\n",
       "      <th>two</th>\n",
       "      <th>three</th>\n",
       "      <th>four</th>\n",
       "    </tr>\n",
       "  </thead>\n",
       "  <tbody>\n",
       "    <tr>\n",
       "      <th>Colorado</th>\n",
       "      <td>4</td>\n",
       "      <td>5</td>\n",
       "      <td>6</td>\n",
       "      <td>7</td>\n",
       "    </tr>\n",
       "    <tr>\n",
       "      <th>Utah</th>\n",
       "      <td>8</td>\n",
       "      <td>9</td>\n",
       "      <td>10</td>\n",
       "      <td>11</td>\n",
       "    </tr>\n",
       "    <tr>\n",
       "      <th>New York</th>\n",
       "      <td>12</td>\n",
       "      <td>13</td>\n",
       "      <td>14</td>\n",
       "      <td>15</td>\n",
       "    </tr>\n",
       "  </tbody>\n",
       "</table>\n",
       "</div>"
      ],
      "text/plain": [
       "          one  two  three  four\n",
       "Colorado    4    5      6     7\n",
       "Utah        8    9     10    11\n",
       "New York   12   13     14    15"
      ]
     },
     "execution_count": 217,
     "metadata": {},
     "output_type": "execute_result"
    }
   ],
   "source": [
    "data[data['three'] > 5]"
   ]
  },
  {
   "cell_type": "markdown",
   "metadata": {},
   "source": [
    "행열 방향 색인과 슬라이싱"
   ]
  },
  {
   "cell_type": "code",
   "execution_count": 218,
   "metadata": {
    "collapsed": false
   },
   "outputs": [
    {
     "data": {
      "text/plain": [
       "two      5\n",
       "three    6\n",
       "Name: Colorado, dtype: int64"
      ]
     },
     "execution_count": 218,
     "metadata": {},
     "output_type": "execute_result"
    }
   ],
   "source": [
    "data.ix['Colorado', ['two', 'three']]"
   ]
  },
  {
   "cell_type": "code",
   "execution_count": 219,
   "metadata": {
    "collapsed": false
   },
   "outputs": [
    {
     "data": {
      "text/html": [
       "<div style=\"max-height:1000px;max-width:1500px;overflow:auto;\">\n",
       "<table border=\"1\" class=\"dataframe\">\n",
       "  <thead>\n",
       "    <tr style=\"text-align: right;\">\n",
       "      <th></th>\n",
       "      <th>four</th>\n",
       "      <th>one</th>\n",
       "      <th>two</th>\n",
       "    </tr>\n",
       "  </thead>\n",
       "  <tbody>\n",
       "    <tr>\n",
       "      <th>Colorado</th>\n",
       "      <td>7</td>\n",
       "      <td>4</td>\n",
       "      <td>5</td>\n",
       "    </tr>\n",
       "    <tr>\n",
       "      <th>Utah</th>\n",
       "      <td>11</td>\n",
       "      <td>8</td>\n",
       "      <td>9</td>\n",
       "    </tr>\n",
       "  </tbody>\n",
       "</table>\n",
       "</div>"
      ],
      "text/plain": [
       "          four  one  two\n",
       "Colorado     7    4    5\n",
       "Utah        11    8    9"
      ]
     },
     "execution_count": 219,
     "metadata": {},
     "output_type": "execute_result"
    }
   ],
   "source": [
    "data.ix[['Colorado', 'Utah'], [3,0,1]]"
   ]
  },
  {
   "cell_type": "code",
   "execution_count": 220,
   "metadata": {
    "collapsed": false
   },
   "outputs": [
    {
     "data": {
      "text/plain": [
       "one       8\n",
       "two       9\n",
       "three    10\n",
       "four     11\n",
       "Name: Utah, dtype: int64"
      ]
     },
     "execution_count": 220,
     "metadata": {},
     "output_type": "execute_result"
    }
   ],
   "source": [
    "data.ix[2]"
   ]
  },
  {
   "cell_type": "code",
   "execution_count": 221,
   "metadata": {
    "collapsed": false
   },
   "outputs": [
    {
     "data": {
      "text/plain": [
       "Ohio        1\n",
       "Colorado    5\n",
       "Utah        9\n",
       "Name: two, dtype: int64"
      ]
     },
     "execution_count": 221,
     "metadata": {},
     "output_type": "execute_result"
    }
   ],
   "source": [
    "data.ix[:'Utah', 'two']"
   ]
  },
  {
   "cell_type": "code",
   "execution_count": 73,
   "metadata": {
    "collapsed": false
   },
   "outputs": [
    {
     "data": {
      "text/html": [
       "<div style=\"max-height:1000px;max-width:1500px;overflow:auto;\">\n",
       "<table border=\"1\" class=\"dataframe\">\n",
       "  <thead>\n",
       "    <tr style=\"text-align: right;\">\n",
       "      <th></th>\n",
       "      <th>one</th>\n",
       "      <th>two</th>\n",
       "      <th>three</th>\n",
       "      <th>four</th>\n",
       "    </tr>\n",
       "  </thead>\n",
       "  <tbody>\n",
       "    <tr>\n",
       "      <th>Ohio</th>\n",
       "      <td>0</td>\n",
       "      <td>1</td>\n",
       "      <td>2</td>\n",
       "      <td>3</td>\n",
       "    </tr>\n",
       "    <tr>\n",
       "      <th>Colorado</th>\n",
       "      <td>4</td>\n",
       "      <td>5</td>\n",
       "      <td>6</td>\n",
       "      <td>7</td>\n",
       "    </tr>\n",
       "  </tbody>\n",
       "</table>\n",
       "</div>"
      ],
      "text/plain": [
       "          one  two  three  four\n",
       "Ohio        0    1      2     3\n",
       "Colorado    4    5      6     7"
      ]
     },
     "execution_count": 73,
     "metadata": {},
     "output_type": "execute_result"
    }
   ],
   "source": [
    "data[:2]"
   ]
  },
  {
   "cell_type": "code",
   "execution_count": 74,
   "metadata": {
    "collapsed": false
   },
   "outputs": [
    {
     "data": {
      "text/html": [
       "<div style=\"max-height:1000px;max-width:1500px;overflow:auto;\">\n",
       "<table border=\"1\" class=\"dataframe\">\n",
       "  <thead>\n",
       "    <tr style=\"text-align: right;\">\n",
       "      <th></th>\n",
       "      <th>one</th>\n",
       "      <th>two</th>\n",
       "      <th>three</th>\n",
       "      <th>four</th>\n",
       "    </tr>\n",
       "  </thead>\n",
       "  <tbody>\n",
       "    <tr>\n",
       "      <th>Ohio</th>\n",
       "      <td>0</td>\n",
       "      <td>1</td>\n",
       "      <td>2</td>\n",
       "      <td>3</td>\n",
       "    </tr>\n",
       "    <tr>\n",
       "      <th>Colorado</th>\n",
       "      <td>4</td>\n",
       "      <td>5</td>\n",
       "      <td>6</td>\n",
       "      <td>7</td>\n",
       "    </tr>\n",
       "  </tbody>\n",
       "</table>\n",
       "</div>"
      ],
      "text/plain": [
       "          one  two  three  four\n",
       "Ohio        0    1      2     3\n",
       "Colorado    4    5      6     7"
      ]
     },
     "execution_count": 74,
     "metadata": {},
     "output_type": "execute_result"
    }
   ],
   "source": [
    "data.ix[:2, :]"
   ]
  },
  {
   "cell_type": "code",
   "execution_count": 72,
   "metadata": {
    "collapsed": false
   },
   "outputs": [
    {
     "data": {
      "text/html": [
       "<div style=\"max-height:1000px;max-width:1500px;overflow:auto;\">\n",
       "<table border=\"1\" class=\"dataframe\">\n",
       "  <thead>\n",
       "    <tr style=\"text-align: right;\">\n",
       "      <th></th>\n",
       "      <th>one</th>\n",
       "      <th>two</th>\n",
       "    </tr>\n",
       "  </thead>\n",
       "  <tbody>\n",
       "    <tr>\n",
       "      <th>Ohio</th>\n",
       "      <td>0</td>\n",
       "      <td>1</td>\n",
       "    </tr>\n",
       "    <tr>\n",
       "      <th>Colorado</th>\n",
       "      <td>4</td>\n",
       "      <td>5</td>\n",
       "    </tr>\n",
       "    <tr>\n",
       "      <th>Utah</th>\n",
       "      <td>8</td>\n",
       "      <td>9</td>\n",
       "    </tr>\n",
       "    <tr>\n",
       "      <th>New York</th>\n",
       "      <td>12</td>\n",
       "      <td>13</td>\n",
       "    </tr>\n",
       "  </tbody>\n",
       "</table>\n",
       "</div>"
      ],
      "text/plain": [
       "          one  two\n",
       "Ohio        0    1\n",
       "Colorado    4    5\n",
       "Utah        8    9\n",
       "New York   12   13"
      ]
     },
     "execution_count": 72,
     "metadata": {},
     "output_type": "execute_result"
    }
   ],
   "source": [
    "data.ix[:, :2]"
   ]
  },
  {
   "cell_type": "code",
   "execution_count": 222,
   "metadata": {
    "collapsed": false,
    "scrolled": true
   },
   "outputs": [
    {
     "data": {
      "text/html": [
       "<div style=\"max-height:1000px;max-width:1500px;overflow:auto;\">\n",
       "<table border=\"1\" class=\"dataframe\">\n",
       "  <thead>\n",
       "    <tr style=\"text-align: right;\">\n",
       "      <th></th>\n",
       "      <th>one</th>\n",
       "      <th>two</th>\n",
       "      <th>three</th>\n",
       "    </tr>\n",
       "  </thead>\n",
       "  <tbody>\n",
       "    <tr>\n",
       "      <th>Colorado</th>\n",
       "      <td>4</td>\n",
       "      <td>5</td>\n",
       "      <td>6</td>\n",
       "    </tr>\n",
       "    <tr>\n",
       "      <th>Utah</th>\n",
       "      <td>8</td>\n",
       "      <td>9</td>\n",
       "      <td>10</td>\n",
       "    </tr>\n",
       "    <tr>\n",
       "      <th>New York</th>\n",
       "      <td>12</td>\n",
       "      <td>13</td>\n",
       "      <td>14</td>\n",
       "    </tr>\n",
       "  </tbody>\n",
       "</table>\n",
       "</div>"
      ],
      "text/plain": [
       "          one  two  three\n",
       "Colorado    4    5      6\n",
       "Utah        8    9     10\n",
       "New York   12   13     14"
      ]
     },
     "execution_count": 222,
     "metadata": {},
     "output_type": "execute_result"
    }
   ],
   "source": [
    "data.ix[data.three > 5, :3]"
   ]
  },
  {
   "cell_type": "markdown",
   "metadata": {},
   "source": [
    "#### 도전과제\n",
    "\n",
    "학생은 각각 국어, 수학, 과학의 점수를 갖는다. 학생 세 명의 점수를 DataFrame으로 표현하시오.\n",
    "\n",
    "1. 학생1과 학생3의 수학, 과학 점수만을 선택하시오.\n",
    "\n",
    "2. 수학 점수가 80점 이상인 학생들만 표시하시오."
   ]
  },
  {
   "cell_type": "code",
   "execution_count": 89,
   "metadata": {
    "collapsed": false
   },
   "outputs": [
    {
     "data": {
      "text/html": [
       "<div style=\"max-height:1000px;max-width:1500px;overflow:auto;\">\n",
       "<table border=\"1\" class=\"dataframe\">\n",
       "  <thead>\n",
       "    <tr style=\"text-align: right;\">\n",
       "      <th></th>\n",
       "      <th>학생1</th>\n",
       "      <th>학생2</th>\n",
       "      <th>학생3</th>\n",
       "    </tr>\n",
       "  </thead>\n",
       "  <tbody>\n",
       "    <tr>\n",
       "      <th>국어</th>\n",
       "      <td>29</td>\n",
       "      <td>69</td>\n",
       "      <td>71</td>\n",
       "    </tr>\n",
       "    <tr>\n",
       "      <th>수학</th>\n",
       "      <td>57</td>\n",
       "      <td>88</td>\n",
       "      <td>47</td>\n",
       "    </tr>\n",
       "    <tr>\n",
       "      <th>과학</th>\n",
       "      <td>83</td>\n",
       "      <td>2</td>\n",
       "      <td>83</td>\n",
       "    </tr>\n",
       "  </tbody>\n",
       "</table>\n",
       "</div>"
      ],
      "text/plain": [
       "    학생1  학생2  학생3\n",
       "국어   29   69   71\n",
       "수학   57   88   47\n",
       "과학   83    2   83"
      ]
     },
     "execution_count": 89,
     "metadata": {},
     "output_type": "execute_result"
    }
   ],
   "source": [
    "scores = DataFrame(np.random.randint(0,101, size=(3,3)),\n",
    "                  index=[u'국어',u'수학',u'과학'],\n",
    "                  columns=[u'학생1', u'학생2', u'학생3'])\n",
    "scores"
   ]
  },
  {
   "cell_type": "code",
   "execution_count": 97,
   "metadata": {
    "collapsed": false
   },
   "outputs": [
    {
     "data": {
      "text/plain": [
       "학생1    False\n",
       "학생2     True\n",
       "학생3    False\n",
       "Name: 수학, dtype: bool"
      ]
     },
     "execution_count": 97,
     "metadata": {},
     "output_type": "execute_result"
    }
   ],
   "source": [
    "selection = scores.ix[u'수학']>=80\n",
    "selection"
   ]
  },
  {
   "cell_type": "code",
   "execution_count": 98,
   "metadata": {
    "collapsed": true
   },
   "outputs": [
    {
     "ename": "IndexingError",
     "evalue": "Unalignable boolean Series key provided",
     "output_type": "error",
     "traceback": [
      "\u001b[0;31m---------------------------------------------------------------------------\u001b[0m",
      "\u001b[0;31mIndexingError\u001b[0m                             Traceback (most recent call last)",
      "\u001b[0;32m<ipython-input-98-5856d86e1f70>\u001b[0m in \u001b[0;36m<module>\u001b[0;34m()\u001b[0m\n\u001b[0;32m----> 1\u001b[0;31m \u001b[0mscores\u001b[0m\u001b[0;34m[\u001b[0m\u001b[0mselection\u001b[0m\u001b[0;34m]\u001b[0m\u001b[0;34m\u001b[0m\u001b[0m\n\u001b[0m",
      "\u001b[0;32m/Users/seongjoo/anaconda/lib/python2.7/site-packages/pandas/core/frame.pyc\u001b[0m in \u001b[0;36m__getitem__\u001b[0;34m(self, key)\u001b[0m\n\u001b[1;32m   1779\u001b[0m         \u001b[0;32mif\u001b[0m \u001b[0misinstance\u001b[0m\u001b[0;34m(\u001b[0m\u001b[0mkey\u001b[0m\u001b[0;34m,\u001b[0m \u001b[0;34m(\u001b[0m\u001b[0mSeries\u001b[0m\u001b[0;34m,\u001b[0m \u001b[0mnp\u001b[0m\u001b[0;34m.\u001b[0m\u001b[0mndarray\u001b[0m\u001b[0;34m,\u001b[0m \u001b[0mIndex\u001b[0m\u001b[0;34m,\u001b[0m \u001b[0mlist\u001b[0m\u001b[0;34m)\u001b[0m\u001b[0;34m)\u001b[0m\u001b[0;34m:\u001b[0m\u001b[0;34m\u001b[0m\u001b[0m\n\u001b[1;32m   1780\u001b[0m             \u001b[0;31m# either boolean or fancy integer index\u001b[0m\u001b[0;34m\u001b[0m\u001b[0;34m\u001b[0m\u001b[0m\n\u001b[0;32m-> 1781\u001b[0;31m             \u001b[0;32mreturn\u001b[0m \u001b[0mself\u001b[0m\u001b[0;34m.\u001b[0m\u001b[0m_getitem_array\u001b[0m\u001b[0;34m(\u001b[0m\u001b[0mkey\u001b[0m\u001b[0;34m)\u001b[0m\u001b[0;34m\u001b[0m\u001b[0m\n\u001b[0m\u001b[1;32m   1782\u001b[0m         \u001b[0;32melif\u001b[0m \u001b[0misinstance\u001b[0m\u001b[0;34m(\u001b[0m\u001b[0mkey\u001b[0m\u001b[0;34m,\u001b[0m \u001b[0mDataFrame\u001b[0m\u001b[0;34m)\u001b[0m\u001b[0;34m:\u001b[0m\u001b[0;34m\u001b[0m\u001b[0m\n\u001b[1;32m   1783\u001b[0m             \u001b[0;32mreturn\u001b[0m \u001b[0mself\u001b[0m\u001b[0;34m.\u001b[0m\u001b[0m_getitem_frame\u001b[0m\u001b[0;34m(\u001b[0m\u001b[0mkey\u001b[0m\u001b[0;34m)\u001b[0m\u001b[0;34m\u001b[0m\u001b[0m\n",
      "\u001b[0;32m/Users/seongjoo/anaconda/lib/python2.7/site-packages/pandas/core/frame.pyc\u001b[0m in \u001b[0;36m_getitem_array\u001b[0;34m(self, key)\u001b[0m\n\u001b[1;32m   1819\u001b[0m             \u001b[0;31m# check_bool_indexer will throw exception if Series key cannot\u001b[0m\u001b[0;34m\u001b[0m\u001b[0;34m\u001b[0m\u001b[0m\n\u001b[1;32m   1820\u001b[0m             \u001b[0;31m# be reindexed to match DataFrame rows\u001b[0m\u001b[0;34m\u001b[0m\u001b[0;34m\u001b[0m\u001b[0m\n\u001b[0;32m-> 1821\u001b[0;31m             \u001b[0mkey\u001b[0m \u001b[0;34m=\u001b[0m \u001b[0mcheck_bool_indexer\u001b[0m\u001b[0;34m(\u001b[0m\u001b[0mself\u001b[0m\u001b[0;34m.\u001b[0m\u001b[0mindex\u001b[0m\u001b[0;34m,\u001b[0m \u001b[0mkey\u001b[0m\u001b[0;34m)\u001b[0m\u001b[0;34m\u001b[0m\u001b[0m\n\u001b[0m\u001b[1;32m   1822\u001b[0m             \u001b[0mindexer\u001b[0m \u001b[0;34m=\u001b[0m \u001b[0mkey\u001b[0m\u001b[0;34m.\u001b[0m\u001b[0mnonzero\u001b[0m\u001b[0;34m(\u001b[0m\u001b[0;34m)\u001b[0m\u001b[0;34m[\u001b[0m\u001b[0;36m0\u001b[0m\u001b[0;34m]\u001b[0m\u001b[0;34m\u001b[0m\u001b[0m\n\u001b[1;32m   1823\u001b[0m             \u001b[0;32mreturn\u001b[0m \u001b[0mself\u001b[0m\u001b[0;34m.\u001b[0m\u001b[0mtake\u001b[0m\u001b[0;34m(\u001b[0m\u001b[0mindexer\u001b[0m\u001b[0;34m,\u001b[0m \u001b[0maxis\u001b[0m\u001b[0;34m=\u001b[0m\u001b[0;36m0\u001b[0m\u001b[0;34m,\u001b[0m \u001b[0mconvert\u001b[0m\u001b[0;34m=\u001b[0m\u001b[0mFalse\u001b[0m\u001b[0;34m)\u001b[0m\u001b[0;34m\u001b[0m\u001b[0m\n",
      "\u001b[0;32m/Users/seongjoo/anaconda/lib/python2.7/site-packages/pandas/core/indexing.pyc\u001b[0m in \u001b[0;36mcheck_bool_indexer\u001b[0;34m(ax, key)\u001b[0m\n\u001b[1;32m   1685\u001b[0m         \u001b[0mmask\u001b[0m \u001b[0;34m=\u001b[0m \u001b[0mcom\u001b[0m\u001b[0;34m.\u001b[0m\u001b[0misnull\u001b[0m\u001b[0;34m(\u001b[0m\u001b[0mresult\u001b[0m\u001b[0;34m.\u001b[0m\u001b[0mvalues\u001b[0m\u001b[0;34m)\u001b[0m\u001b[0;34m\u001b[0m\u001b[0m\n\u001b[1;32m   1686\u001b[0m         \u001b[0;32mif\u001b[0m \u001b[0mmask\u001b[0m\u001b[0;34m.\u001b[0m\u001b[0many\u001b[0m\u001b[0;34m(\u001b[0m\u001b[0;34m)\u001b[0m\u001b[0;34m:\u001b[0m\u001b[0;34m\u001b[0m\u001b[0m\n\u001b[0;32m-> 1687\u001b[0;31m             \u001b[0;32mraise\u001b[0m \u001b[0mIndexingError\u001b[0m\u001b[0;34m(\u001b[0m\u001b[0;34m'Unalignable boolean Series key provided'\u001b[0m\u001b[0;34m)\u001b[0m\u001b[0;34m\u001b[0m\u001b[0m\n\u001b[0m\u001b[1;32m   1688\u001b[0m \u001b[0;34m\u001b[0m\u001b[0m\n\u001b[1;32m   1689\u001b[0m         \u001b[0mresult\u001b[0m \u001b[0;34m=\u001b[0m \u001b[0mresult\u001b[0m\u001b[0;34m.\u001b[0m\u001b[0mastype\u001b[0m\u001b[0;34m(\u001b[0m\u001b[0mbool\u001b[0m\u001b[0;34m)\u001b[0m\u001b[0;34m.\u001b[0m\u001b[0mvalues\u001b[0m\u001b[0;34m\u001b[0m\u001b[0m\n",
      "\u001b[0;31mIndexingError\u001b[0m: Unalignable boolean Series key provided"
     ]
    }
   ],
   "source": [
    "scores[selection]"
   ]
  },
  {
   "cell_type": "code",
   "execution_count": 91,
   "metadata": {
    "collapsed": false
   },
   "outputs": [
    {
     "data": {
      "text/html": [
       "<div style=\"max-height:1000px;max-width:1500px;overflow:auto;\">\n",
       "<table border=\"1\" class=\"dataframe\">\n",
       "  <thead>\n",
       "    <tr style=\"text-align: right;\">\n",
       "      <th></th>\n",
       "      <th>학생1</th>\n",
       "      <th>학생2</th>\n",
       "      <th>학생3</th>\n",
       "    </tr>\n",
       "  </thead>\n",
       "  <tbody>\n",
       "    <tr>\n",
       "      <th>국어</th>\n",
       "      <td>29</td>\n",
       "      <td>69</td>\n",
       "      <td>71</td>\n",
       "    </tr>\n",
       "    <tr>\n",
       "      <th>수학</th>\n",
       "      <td>57</td>\n",
       "      <td>88</td>\n",
       "      <td>47</td>\n",
       "    </tr>\n",
       "    <tr>\n",
       "      <th>과학</th>\n",
       "      <td>83</td>\n",
       "      <td>2</td>\n",
       "      <td>83</td>\n",
       "    </tr>\n",
       "  </tbody>\n",
       "</table>\n",
       "</div>"
      ],
      "text/plain": [
       "    학생1  학생2  학생3\n",
       "국어   29   69   71\n",
       "수학   57   88   47\n",
       "과학   83    2   83"
      ]
     },
     "execution_count": 91,
     "metadata": {},
     "output_type": "execute_result"
    }
   ],
   "source": [
    "selection = scores.ix[u'수학']>=80\n",
    "scores[selection.index]"
   ]
  },
  {
   "cell_type": "code",
   "execution_count": 94,
   "metadata": {
    "collapsed": false
   },
   "outputs": [
    {
     "data": {
      "text/plain": [
       "array([False,  True, False], dtype=bool)"
      ]
     },
     "execution_count": 94,
     "metadata": {},
     "output_type": "execute_result"
    }
   ],
   "source": [
    "selection.values"
   ]
  },
  {
   "cell_type": "code",
   "execution_count": 99,
   "metadata": {
    "collapsed": false
   },
   "outputs": [
    {
     "data": {
      "text/html": [
       "<div style=\"max-height:1000px;max-width:1500px;overflow:auto;\">\n",
       "<table border=\"1\" class=\"dataframe\">\n",
       "  <thead>\n",
       "    <tr style=\"text-align: right;\">\n",
       "      <th></th>\n",
       "      <th>학생1</th>\n",
       "      <th>학생2</th>\n",
       "      <th>학생3</th>\n",
       "    </tr>\n",
       "  </thead>\n",
       "  <tbody>\n",
       "    <tr>\n",
       "      <th>수학</th>\n",
       "      <td>57</td>\n",
       "      <td>88</td>\n",
       "      <td>47</td>\n",
       "    </tr>\n",
       "  </tbody>\n",
       "</table>\n",
       "</div>"
      ],
      "text/plain": [
       "    학생1  학생2  학생3\n",
       "수학   57   88   47"
      ]
     },
     "execution_count": 99,
     "metadata": {},
     "output_type": "execute_result"
    }
   ],
   "source": [
    "scores[selection.values]"
   ]
  },
  {
   "cell_type": "markdown",
   "metadata": {},
   "source": [
    "수학 점수를 기준으로 누가 기준을 넘는지 확인"
   ]
  },
  {
   "cell_type": "code",
   "execution_count": 96,
   "metadata": {
    "collapsed": false,
    "scrolled": true
   },
   "outputs": [
    {
     "data": {
      "text/html": [
       "<div style=\"max-height:1000px;max-width:1500px;overflow:auto;\">\n",
       "<table border=\"1\" class=\"dataframe\">\n",
       "  <thead>\n",
       "    <tr style=\"text-align: right;\">\n",
       "      <th></th>\n",
       "      <th>학생2</th>\n",
       "    </tr>\n",
       "  </thead>\n",
       "  <tbody>\n",
       "    <tr>\n",
       "      <th>국어</th>\n",
       "      <td>69</td>\n",
       "    </tr>\n",
       "    <tr>\n",
       "      <th>수학</th>\n",
       "      <td>88</td>\n",
       "    </tr>\n",
       "    <tr>\n",
       "      <th>과학</th>\n",
       "      <td>2</td>\n",
       "    </tr>\n",
       "  </tbody>\n",
       "</table>\n",
       "</div>"
      ],
      "text/plain": [
       "    학생2\n",
       "국어   69\n",
       "수학   88\n",
       "과학    2"
      ]
     },
     "execution_count": 96,
     "metadata": {},
     "output_type": "execute_result"
    }
   ],
   "source": [
    "scores.ix[:, [False, True, False]]"
   ]
  },
  {
   "cell_type": "code",
   "execution_count": 101,
   "metadata": {
    "collapsed": false
   },
   "outputs": [
    {
     "data": {
      "text/html": [
       "<div style=\"max-height:1000px;max-width:1500px;overflow:auto;\">\n",
       "<table border=\"1\" class=\"dataframe\">\n",
       "  <thead>\n",
       "    <tr style=\"text-align: right;\">\n",
       "      <th></th>\n",
       "      <th>학생2</th>\n",
       "    </tr>\n",
       "  </thead>\n",
       "  <tbody>\n",
       "    <tr>\n",
       "      <th>국어</th>\n",
       "      <td>69</td>\n",
       "    </tr>\n",
       "    <tr>\n",
       "      <th>수학</th>\n",
       "      <td>88</td>\n",
       "    </tr>\n",
       "    <tr>\n",
       "      <th>과학</th>\n",
       "      <td>2</td>\n",
       "    </tr>\n",
       "  </tbody>\n",
       "</table>\n",
       "</div>"
      ],
      "text/plain": [
       "    학생2\n",
       "국어   69\n",
       "수학   88\n",
       "과학    2"
      ]
     },
     "execution_count": 101,
     "metadata": {},
     "output_type": "execute_result"
    }
   ],
   "source": [
    "scores.ix[:, scores.ix[u'수학']>=80]"
   ]
  },
  {
   "cell_type": "markdown",
   "metadata": {},
   "source": [
    "## 산술연산"
   ]
  },
  {
   "cell_type": "code",
   "execution_count": 102,
   "metadata": {
    "collapsed": true
   },
   "outputs": [],
   "source": [
    "s1 = Series([7.3, -2.5, 3.4, 1.5], \n",
    "            index=['a','c','d','e'])\n",
    "s2 = Series([-2.1, 3.6, -1.5, 4, 3.1], \n",
    "            index=['a','c','e','f','g'])"
   ]
  },
  {
   "cell_type": "code",
   "execution_count": 103,
   "metadata": {
    "collapsed": false
   },
   "outputs": [
    {
     "data": {
      "text/plain": [
       "a    7.3\n",
       "c   -2.5\n",
       "d    3.4\n",
       "e    1.5\n",
       "dtype: float64"
      ]
     },
     "execution_count": 103,
     "metadata": {},
     "output_type": "execute_result"
    }
   ],
   "source": [
    "s1"
   ]
  },
  {
   "cell_type": "code",
   "execution_count": 104,
   "metadata": {
    "collapsed": false
   },
   "outputs": [
    {
     "data": {
      "text/plain": [
       "a   -2.1\n",
       "c    3.6\n",
       "e   -1.5\n",
       "f    4.0\n",
       "g    3.1\n",
       "dtype: float64"
      ]
     },
     "execution_count": 104,
     "metadata": {},
     "output_type": "execute_result"
    }
   ],
   "source": [
    "s2"
   ]
  },
  {
   "cell_type": "code",
   "execution_count": 105,
   "metadata": {
    "collapsed": false
   },
   "outputs": [
    {
     "data": {
      "text/plain": [
       "a    5.2\n",
       "c    1.1\n",
       "d    NaN\n",
       "e    0.0\n",
       "f    NaN\n",
       "g    NaN\n",
       "dtype: float64"
      ]
     },
     "execution_count": 105,
     "metadata": {},
     "output_type": "execute_result"
    }
   ],
   "source": [
    "s1+s2"
   ]
  },
  {
   "cell_type": "code",
   "execution_count": 106,
   "metadata": {
    "collapsed": false
   },
   "outputs": [],
   "source": [
    "df1 = DataFrame(np.arange(12.).reshape((3,4)),\n",
    "              columns=list('abcd'))\n",
    "df2 = DataFrame(np.arange(20.).reshape((4,5)), \n",
    "               columns=list('abcde'))"
   ]
  },
  {
   "cell_type": "code",
   "execution_count": 107,
   "metadata": {
    "collapsed": false
   },
   "outputs": [
    {
     "data": {
      "text/html": [
       "<div style=\"max-height:1000px;max-width:1500px;overflow:auto;\">\n",
       "<table border=\"1\" class=\"dataframe\">\n",
       "  <thead>\n",
       "    <tr style=\"text-align: right;\">\n",
       "      <th></th>\n",
       "      <th>a</th>\n",
       "      <th>b</th>\n",
       "      <th>c</th>\n",
       "      <th>d</th>\n",
       "    </tr>\n",
       "  </thead>\n",
       "  <tbody>\n",
       "    <tr>\n",
       "      <th>0</th>\n",
       "      <td>0</td>\n",
       "      <td>1</td>\n",
       "      <td>2</td>\n",
       "      <td>3</td>\n",
       "    </tr>\n",
       "    <tr>\n",
       "      <th>1</th>\n",
       "      <td>4</td>\n",
       "      <td>5</td>\n",
       "      <td>6</td>\n",
       "      <td>7</td>\n",
       "    </tr>\n",
       "    <tr>\n",
       "      <th>2</th>\n",
       "      <td>8</td>\n",
       "      <td>9</td>\n",
       "      <td>10</td>\n",
       "      <td>11</td>\n",
       "    </tr>\n",
       "  </tbody>\n",
       "</table>\n",
       "</div>"
      ],
      "text/plain": [
       "   a  b   c   d\n",
       "0  0  1   2   3\n",
       "1  4  5   6   7\n",
       "2  8  9  10  11"
      ]
     },
     "execution_count": 107,
     "metadata": {},
     "output_type": "execute_result"
    }
   ],
   "source": [
    "df1"
   ]
  },
  {
   "cell_type": "code",
   "execution_count": 108,
   "metadata": {
    "collapsed": false
   },
   "outputs": [
    {
     "data": {
      "text/html": [
       "<div style=\"max-height:1000px;max-width:1500px;overflow:auto;\">\n",
       "<table border=\"1\" class=\"dataframe\">\n",
       "  <thead>\n",
       "    <tr style=\"text-align: right;\">\n",
       "      <th></th>\n",
       "      <th>a</th>\n",
       "      <th>b</th>\n",
       "      <th>c</th>\n",
       "      <th>d</th>\n",
       "      <th>e</th>\n",
       "    </tr>\n",
       "  </thead>\n",
       "  <tbody>\n",
       "    <tr>\n",
       "      <th>0</th>\n",
       "      <td>0</td>\n",
       "      <td>1</td>\n",
       "      <td>2</td>\n",
       "      <td>3</td>\n",
       "      <td>4</td>\n",
       "    </tr>\n",
       "    <tr>\n",
       "      <th>1</th>\n",
       "      <td>5</td>\n",
       "      <td>6</td>\n",
       "      <td>7</td>\n",
       "      <td>8</td>\n",
       "      <td>9</td>\n",
       "    </tr>\n",
       "    <tr>\n",
       "      <th>2</th>\n",
       "      <td>10</td>\n",
       "      <td>11</td>\n",
       "      <td>12</td>\n",
       "      <td>13</td>\n",
       "      <td>14</td>\n",
       "    </tr>\n",
       "    <tr>\n",
       "      <th>3</th>\n",
       "      <td>15</td>\n",
       "      <td>16</td>\n",
       "      <td>17</td>\n",
       "      <td>18</td>\n",
       "      <td>19</td>\n",
       "    </tr>\n",
       "  </tbody>\n",
       "</table>\n",
       "</div>"
      ],
      "text/plain": [
       "    a   b   c   d   e\n",
       "0   0   1   2   3   4\n",
       "1   5   6   7   8   9\n",
       "2  10  11  12  13  14\n",
       "3  15  16  17  18  19"
      ]
     },
     "execution_count": 108,
     "metadata": {},
     "output_type": "execute_result"
    }
   ],
   "source": [
    "df2"
   ]
  },
  {
   "cell_type": "code",
   "execution_count": 109,
   "metadata": {
    "collapsed": false
   },
   "outputs": [
    {
     "data": {
      "text/html": [
       "<div style=\"max-height:1000px;max-width:1500px;overflow:auto;\">\n",
       "<table border=\"1\" class=\"dataframe\">\n",
       "  <thead>\n",
       "    <tr style=\"text-align: right;\">\n",
       "      <th></th>\n",
       "      <th>a</th>\n",
       "      <th>b</th>\n",
       "      <th>c</th>\n",
       "      <th>d</th>\n",
       "      <th>e</th>\n",
       "    </tr>\n",
       "  </thead>\n",
       "  <tbody>\n",
       "    <tr>\n",
       "      <th>0</th>\n",
       "      <td>0</td>\n",
       "      <td>2</td>\n",
       "      <td>4</td>\n",
       "      <td>6</td>\n",
       "      <td>NaN</td>\n",
       "    </tr>\n",
       "    <tr>\n",
       "      <th>1</th>\n",
       "      <td>9</td>\n",
       "      <td>11</td>\n",
       "      <td>13</td>\n",
       "      <td>15</td>\n",
       "      <td>NaN</td>\n",
       "    </tr>\n",
       "    <tr>\n",
       "      <th>2</th>\n",
       "      <td>18</td>\n",
       "      <td>20</td>\n",
       "      <td>22</td>\n",
       "      <td>24</td>\n",
       "      <td>NaN</td>\n",
       "    </tr>\n",
       "    <tr>\n",
       "      <th>3</th>\n",
       "      <td>NaN</td>\n",
       "      <td>NaN</td>\n",
       "      <td>NaN</td>\n",
       "      <td>NaN</td>\n",
       "      <td>NaN</td>\n",
       "    </tr>\n",
       "  </tbody>\n",
       "</table>\n",
       "</div>"
      ],
      "text/plain": [
       "    a   b   c   d   e\n",
       "0   0   2   4   6 NaN\n",
       "1   9  11  13  15 NaN\n",
       "2  18  20  22  24 NaN\n",
       "3 NaN NaN NaN NaN NaN"
      ]
     },
     "execution_count": 109,
     "metadata": {},
     "output_type": "execute_result"
    }
   ],
   "source": [
    "df1+df2"
   ]
  },
  {
   "cell_type": "markdown",
   "metadata": {},
   "source": [
    "NaN 대신 기본값 설정하기"
   ]
  },
  {
   "cell_type": "code",
   "execution_count": 28,
   "metadata": {
    "collapsed": false
   },
   "outputs": [
    {
     "data": {
      "text/html": [
       "<div style=\"max-height:1000px;max-width:1500px;overflow:auto;\">\n",
       "<table border=\"1\" class=\"dataframe\">\n",
       "  <thead>\n",
       "    <tr style=\"text-align: right;\">\n",
       "      <th></th>\n",
       "      <th>a</th>\n",
       "      <th>b</th>\n",
       "      <th>c</th>\n",
       "      <th>d</th>\n",
       "      <th>e</th>\n",
       "    </tr>\n",
       "  </thead>\n",
       "  <tbody>\n",
       "    <tr>\n",
       "      <th>0</th>\n",
       "      <td>0</td>\n",
       "      <td>2</td>\n",
       "      <td>4</td>\n",
       "      <td>6</td>\n",
       "      <td>4</td>\n",
       "    </tr>\n",
       "    <tr>\n",
       "      <th>1</th>\n",
       "      <td>9</td>\n",
       "      <td>11</td>\n",
       "      <td>13</td>\n",
       "      <td>15</td>\n",
       "      <td>9</td>\n",
       "    </tr>\n",
       "    <tr>\n",
       "      <th>2</th>\n",
       "      <td>18</td>\n",
       "      <td>20</td>\n",
       "      <td>22</td>\n",
       "      <td>24</td>\n",
       "      <td>14</td>\n",
       "    </tr>\n",
       "    <tr>\n",
       "      <th>3</th>\n",
       "      <td>15</td>\n",
       "      <td>16</td>\n",
       "      <td>17</td>\n",
       "      <td>18</td>\n",
       "      <td>19</td>\n",
       "    </tr>\n",
       "  </tbody>\n",
       "</table>\n",
       "</div>"
      ],
      "text/plain": [
       "    a   b   c   d   e\n",
       "0   0   2   4   6   4\n",
       "1   9  11  13  15   9\n",
       "2  18  20  22  24  14\n",
       "3  15  16  17  18  19"
      ]
     },
     "execution_count": 28,
     "metadata": {},
     "output_type": "execute_result"
    }
   ],
   "source": [
    "df1.add(df2, fill_value=0)"
   ]
  },
  {
   "cell_type": "markdown",
   "metadata": {},
   "source": [
    "DataFrame과 Series 연산"
   ]
  },
  {
   "cell_type": "code",
   "execution_count": 111,
   "metadata": {
    "collapsed": true
   },
   "outputs": [
    {
     "name": "stdout",
     "output_type": "stream",
     "text": [
      "               b         d         e\n",
      "Utah    0.231691 -0.329679  1.264903\n",
      "Ohio    1.664624 -0.137734  0.996886\n",
      "Texas  -0.026082  0.795804  0.700870\n",
      "Oregon  1.669533  0.058905  1.351678\n",
      "b    0.231691\n",
      "d   -0.329679\n",
      "e    1.264903\n",
      "Name: Utah, dtype: float64\n",
      "               b         d         e\n",
      "Utah    0.000000  0.000000  0.000000\n",
      "Ohio    1.432933  0.191945 -0.268017\n",
      "Texas  -0.257772  1.125483 -0.564033\n",
      "Oregon  1.437842  0.388584  0.086776\n"
     ]
    }
   ],
   "source": [
    "frame = DataFrame(np.random.randn(4,3), \n",
    "               columns=list('bde'),\n",
    "              index=['Utah', 'Ohio', 'Texas', 'Oregon'])\n",
    "\n",
    "series = frame.ix[0]\n",
    "\n",
    "print(frame)\n",
    "print(frame - series)"
   ]
  },
  {
   "cell_type": "code",
   "execution_count": 113,
   "metadata": {
    "collapsed": false,
    "scrolled": true
   },
   "outputs": [
    {
     "data": {
      "text/plain": [
       "b    1\n",
       "e    2\n",
       "f    3\n",
       "dtype: int64"
      ]
     },
     "execution_count": 113,
     "metadata": {},
     "output_type": "execute_result"
    }
   ],
   "source": [
    "series2 = Series(range(1,4), index=['b','e','f'])\n",
    "series2"
   ]
  },
  {
   "cell_type": "code",
   "execution_count": 114,
   "metadata": {
    "collapsed": false
   },
   "outputs": [
    {
     "data": {
      "text/html": [
       "<div style=\"max-height:1000px;max-width:1500px;overflow:auto;\">\n",
       "<table border=\"1\" class=\"dataframe\">\n",
       "  <thead>\n",
       "    <tr style=\"text-align: right;\">\n",
       "      <th></th>\n",
       "      <th>b</th>\n",
       "      <th>d</th>\n",
       "      <th>e</th>\n",
       "      <th>f</th>\n",
       "    </tr>\n",
       "  </thead>\n",
       "  <tbody>\n",
       "    <tr>\n",
       "      <th>Utah</th>\n",
       "      <td>1.231691</td>\n",
       "      <td>NaN</td>\n",
       "      <td>3.264903</td>\n",
       "      <td>NaN</td>\n",
       "    </tr>\n",
       "    <tr>\n",
       "      <th>Ohio</th>\n",
       "      <td>2.664624</td>\n",
       "      <td>NaN</td>\n",
       "      <td>2.996886</td>\n",
       "      <td>NaN</td>\n",
       "    </tr>\n",
       "    <tr>\n",
       "      <th>Texas</th>\n",
       "      <td>0.973918</td>\n",
       "      <td>NaN</td>\n",
       "      <td>2.700870</td>\n",
       "      <td>NaN</td>\n",
       "    </tr>\n",
       "    <tr>\n",
       "      <th>Oregon</th>\n",
       "      <td>2.669533</td>\n",
       "      <td>NaN</td>\n",
       "      <td>3.351678</td>\n",
       "      <td>NaN</td>\n",
       "    </tr>\n",
       "  </tbody>\n",
       "</table>\n",
       "</div>"
      ],
      "text/plain": [
       "               b   d         e   f\n",
       "Utah    1.231691 NaN  3.264903 NaN\n",
       "Ohio    2.664624 NaN  2.996886 NaN\n",
       "Texas   0.973918 NaN  2.700870 NaN\n",
       "Oregon  2.669533 NaN  3.351678 NaN"
      ]
     },
     "execution_count": 114,
     "metadata": {},
     "output_type": "execute_result"
    }
   ],
   "source": [
    "frame+series2"
   ]
  },
  {
   "cell_type": "code",
   "execution_count": 115,
   "metadata": {
    "collapsed": false
   },
   "outputs": [
    {
     "data": {
      "text/plain": [
       "Utah     -0.329679\n",
       "Ohio     -0.137734\n",
       "Texas     0.795804\n",
       "Oregon    0.058905\n",
       "Name: d, dtype: float64"
      ]
     },
     "execution_count": 115,
     "metadata": {},
     "output_type": "execute_result"
    }
   ],
   "source": [
    "series3 = frame['d']\n",
    "series3"
   ]
  },
  {
   "cell_type": "markdown",
   "metadata": {},
   "source": [
    "series의 인덱스는 frame의 columns로 간주하고 연산 수행 (기본)"
   ]
  },
  {
   "cell_type": "code",
   "execution_count": 39,
   "metadata": {
    "collapsed": false
   },
   "outputs": [
    {
     "data": {
      "text/html": [
       "<div style=\"max-height:1000px;max-width:1500px;overflow:auto;\">\n",
       "<table border=\"1\" class=\"dataframe\">\n",
       "  <thead>\n",
       "    <tr style=\"text-align: right;\">\n",
       "      <th></th>\n",
       "      <th>Ohio</th>\n",
       "      <th>Oregon</th>\n",
       "      <th>Texas</th>\n",
       "      <th>Utah</th>\n",
       "      <th>b</th>\n",
       "      <th>d</th>\n",
       "      <th>e</th>\n",
       "    </tr>\n",
       "  </thead>\n",
       "  <tbody>\n",
       "    <tr>\n",
       "      <th>Utah</th>\n",
       "      <td>NaN</td>\n",
       "      <td>NaN</td>\n",
       "      <td>NaN</td>\n",
       "      <td>NaN</td>\n",
       "      <td>NaN</td>\n",
       "      <td>NaN</td>\n",
       "      <td>NaN</td>\n",
       "    </tr>\n",
       "    <tr>\n",
       "      <th>Ohio</th>\n",
       "      <td>NaN</td>\n",
       "      <td>NaN</td>\n",
       "      <td>NaN</td>\n",
       "      <td>NaN</td>\n",
       "      <td>NaN</td>\n",
       "      <td>NaN</td>\n",
       "      <td>NaN</td>\n",
       "    </tr>\n",
       "    <tr>\n",
       "      <th>Texas</th>\n",
       "      <td>NaN</td>\n",
       "      <td>NaN</td>\n",
       "      <td>NaN</td>\n",
       "      <td>NaN</td>\n",
       "      <td>NaN</td>\n",
       "      <td>NaN</td>\n",
       "      <td>NaN</td>\n",
       "    </tr>\n",
       "    <tr>\n",
       "      <th>Oregon</th>\n",
       "      <td>NaN</td>\n",
       "      <td>NaN</td>\n",
       "      <td>NaN</td>\n",
       "      <td>NaN</td>\n",
       "      <td>NaN</td>\n",
       "      <td>NaN</td>\n",
       "      <td>NaN</td>\n",
       "    </tr>\n",
       "  </tbody>\n",
       "</table>\n",
       "</div>"
      ],
      "text/plain": [
       "        Ohio  Oregon  Texas  Utah   b   d   e\n",
       "Utah     NaN     NaN    NaN   NaN NaN NaN NaN\n",
       "Ohio     NaN     NaN    NaN   NaN NaN NaN NaN\n",
       "Texas    NaN     NaN    NaN   NaN NaN NaN NaN\n",
       "Oregon   NaN     NaN    NaN   NaN NaN NaN NaN"
      ]
     },
     "execution_count": 39,
     "metadata": {},
     "output_type": "execute_result"
    }
   ],
   "source": [
    "frame - series3"
   ]
  },
  {
   "cell_type": "markdown",
   "metadata": {},
   "source": [
    "series의 인덱스를 frame의 인덱스로 간주하고 연산 수행"
   ]
  },
  {
   "cell_type": "code",
   "execution_count": 119,
   "metadata": {
    "collapsed": false
   },
   "outputs": [
    {
     "data": {
      "text/plain": [
       "Utah     -0.329679\n",
       "Ohio     -0.137734\n",
       "Texas     0.795804\n",
       "Oregon    0.058905\n",
       "Name: d, dtype: float64"
      ]
     },
     "execution_count": 119,
     "metadata": {},
     "output_type": "execute_result"
    }
   ],
   "source": [
    "series3 = frame['d']\n",
    "series3"
   ]
  },
  {
   "cell_type": "code",
   "execution_count": 121,
   "metadata": {
    "collapsed": false,
    "scrolled": true
   },
   "outputs": [
    {
     "data": {
      "text/html": [
       "<div style=\"max-height:1000px;max-width:1500px;overflow:auto;\">\n",
       "<table border=\"1\" class=\"dataframe\">\n",
       "  <thead>\n",
       "    <tr style=\"text-align: right;\">\n",
       "      <th></th>\n",
       "      <th>Ohio</th>\n",
       "      <th>Oregon</th>\n",
       "      <th>Texas</th>\n",
       "      <th>Utah</th>\n",
       "      <th>b</th>\n",
       "      <th>d</th>\n",
       "      <th>e</th>\n",
       "    </tr>\n",
       "  </thead>\n",
       "  <tbody>\n",
       "    <tr>\n",
       "      <th>Utah</th>\n",
       "      <td>NaN</td>\n",
       "      <td>NaN</td>\n",
       "      <td>NaN</td>\n",
       "      <td>NaN</td>\n",
       "      <td>NaN</td>\n",
       "      <td>NaN</td>\n",
       "      <td>NaN</td>\n",
       "    </tr>\n",
       "    <tr>\n",
       "      <th>Ohio</th>\n",
       "      <td>NaN</td>\n",
       "      <td>NaN</td>\n",
       "      <td>NaN</td>\n",
       "      <td>NaN</td>\n",
       "      <td>NaN</td>\n",
       "      <td>NaN</td>\n",
       "      <td>NaN</td>\n",
       "    </tr>\n",
       "    <tr>\n",
       "      <th>Texas</th>\n",
       "      <td>NaN</td>\n",
       "      <td>NaN</td>\n",
       "      <td>NaN</td>\n",
       "      <td>NaN</td>\n",
       "      <td>NaN</td>\n",
       "      <td>NaN</td>\n",
       "      <td>NaN</td>\n",
       "    </tr>\n",
       "    <tr>\n",
       "      <th>Oregon</th>\n",
       "      <td>NaN</td>\n",
       "      <td>NaN</td>\n",
       "      <td>NaN</td>\n",
       "      <td>NaN</td>\n",
       "      <td>NaN</td>\n",
       "      <td>NaN</td>\n",
       "      <td>NaN</td>\n",
       "    </tr>\n",
       "  </tbody>\n",
       "</table>\n",
       "</div>"
      ],
      "text/plain": [
       "        Ohio  Oregon  Texas  Utah   b   d   e\n",
       "Utah     NaN     NaN    NaN   NaN NaN NaN NaN\n",
       "Ohio     NaN     NaN    NaN   NaN NaN NaN NaN\n",
       "Texas    NaN     NaN    NaN   NaN NaN NaN NaN\n",
       "Oregon   NaN     NaN    NaN   NaN NaN NaN NaN"
      ]
     },
     "execution_count": 121,
     "metadata": {},
     "output_type": "execute_result"
    }
   ],
   "source": [
    "frame.sub(series3, axis=1)"
   ]
  },
  {
   "cell_type": "markdown",
   "metadata": {},
   "source": [
    "## 도전과제\n",
    "\n",
    "10명의 학생이 5개의 과목 점수를 갖는다. 과목 점수는 [0,100] 범위이다. 과목명은 숫자 코드로 되어 있으며, 숫자코드는 [101, 105] 구간의 값이다. \n",
    "\n",
    "1. 과목코드 102의 성적이 잘못 매겨졌다. 전체 10명의 학생은 재채점 결과에 따라 각각 [-10,10] 범위의 임의 점수가 현재 점수에 반영되도록 한다.\n",
    "\n",
    "2. 과목 점수 재조정 시, 점수가 음수가 되거나, 100을 초과하지 않도록 하시오."
   ]
  },
  {
   "cell_type": "code",
   "execution_count": 128,
   "metadata": {
    "collapsed": true
   },
   "outputs": [
    {
     "data": {
      "text/html": [
       "<div style=\"max-height:1000px;max-width:1500px;overflow:auto;\">\n",
       "<table border=\"1\" class=\"dataframe\">\n",
       "  <thead>\n",
       "    <tr style=\"text-align: right;\">\n",
       "      <th></th>\n",
       "      <th>101</th>\n",
       "      <th>102</th>\n",
       "      <th>103</th>\n",
       "      <th>104</th>\n",
       "      <th>105</th>\n",
       "    </tr>\n",
       "  </thead>\n",
       "  <tbody>\n",
       "    <tr>\n",
       "      <th>1</th>\n",
       "      <td>14</td>\n",
       "      <td>25</td>\n",
       "      <td>87</td>\n",
       "      <td>85</td>\n",
       "      <td>39</td>\n",
       "    </tr>\n",
       "    <tr>\n",
       "      <th>2</th>\n",
       "      <td>61</td>\n",
       "      <td>89</td>\n",
       "      <td>32</td>\n",
       "      <td>38</td>\n",
       "      <td>92</td>\n",
       "    </tr>\n",
       "    <tr>\n",
       "      <th>3</th>\n",
       "      <td>59</td>\n",
       "      <td>73</td>\n",
       "      <td>42</td>\n",
       "      <td>28</td>\n",
       "      <td>57</td>\n",
       "    </tr>\n",
       "    <tr>\n",
       "      <th>4</th>\n",
       "      <td>41</td>\n",
       "      <td>40</td>\n",
       "      <td>90</td>\n",
       "      <td>27</td>\n",
       "      <td>33</td>\n",
       "    </tr>\n",
       "    <tr>\n",
       "      <th>5</th>\n",
       "      <td>31</td>\n",
       "      <td>35</td>\n",
       "      <td>10</td>\n",
       "      <td>68</td>\n",
       "      <td>19</td>\n",
       "    </tr>\n",
       "    <tr>\n",
       "      <th>6</th>\n",
       "      <td>63</td>\n",
       "      <td>3</td>\n",
       "      <td>63</td>\n",
       "      <td>59</td>\n",
       "      <td>3</td>\n",
       "    </tr>\n",
       "    <tr>\n",
       "      <th>7</th>\n",
       "      <td>35</td>\n",
       "      <td>46</td>\n",
       "      <td>11</td>\n",
       "      <td>25</td>\n",
       "      <td>3</td>\n",
       "    </tr>\n",
       "    <tr>\n",
       "      <th>8</th>\n",
       "      <td>71</td>\n",
       "      <td>12</td>\n",
       "      <td>31</td>\n",
       "      <td>60</td>\n",
       "      <td>2</td>\n",
       "    </tr>\n",
       "    <tr>\n",
       "      <th>9</th>\n",
       "      <td>18</td>\n",
       "      <td>22</td>\n",
       "      <td>11</td>\n",
       "      <td>89</td>\n",
       "      <td>17</td>\n",
       "    </tr>\n",
       "    <tr>\n",
       "      <th>10</th>\n",
       "      <td>26</td>\n",
       "      <td>84</td>\n",
       "      <td>98</td>\n",
       "      <td>23</td>\n",
       "      <td>71</td>\n",
       "    </tr>\n",
       "  </tbody>\n",
       "</table>\n",
       "</div>"
      ],
      "text/plain": [
       "    101  102  103  104  105\n",
       "1    14   25   87   85   39\n",
       "2    61   89   32   38   92\n",
       "3    59   73   42   28   57\n",
       "4    41   40   90   27   33\n",
       "5    31   35   10   68   19\n",
       "6    63    3   63   59    3\n",
       "7    35   46   11   25    3\n",
       "8    71   12   31   60    2\n",
       "9    18   22   11   89   17\n",
       "10   26   84   98   23   71"
      ]
     },
     "execution_count": 128,
     "metadata": {},
     "output_type": "execute_result"
    }
   ],
   "source": [
    "scores = np.random.randint(0,101, size=(10,5)) # 10x5\n",
    "frame_scores = DataFrame(scores, \n",
    "                         index=range(1,11),\n",
    "                         columns=range(101, 106))\n",
    "frame_scores"
   ]
  },
  {
   "cell_type": "code",
   "execution_count": 129,
   "metadata": {
    "collapsed": false
   },
   "outputs": [
    {
     "data": {
      "text/plain": [
       "1    -7\n",
       "2     7\n",
       "3    -3\n",
       "4    -7\n",
       "5    -1\n",
       "6     6\n",
       "7    -1\n",
       "8     8\n",
       "9    -7\n",
       "10   -2\n",
       "dtype: int64"
      ]
     },
     "execution_count": 129,
     "metadata": {},
     "output_type": "execute_result"
    }
   ],
   "source": [
    "# a\n",
    "deltas = np.random.randint(-10, 10, size=10)\n",
    "score_delta = Series(deltas, index=frame_scores.index)\n",
    "score_delta"
   ]
  },
  {
   "cell_type": "markdown",
   "metadata": {},
   "source": [
    "방법 1. 특정 열을 선택해서 연산을 수행한 다음, 해당 열을 갱신"
   ]
  },
  {
   "cell_type": "code",
   "execution_count": 130,
   "metadata": {
    "collapsed": true
   },
   "outputs": [
    {
     "data": {
      "text/html": [
       "<div style=\"max-height:1000px;max-width:1500px;overflow:auto;\">\n",
       "<table border=\"1\" class=\"dataframe\">\n",
       "  <thead>\n",
       "    <tr style=\"text-align: right;\">\n",
       "      <th></th>\n",
       "      <th>101</th>\n",
       "      <th>102</th>\n",
       "      <th>103</th>\n",
       "      <th>104</th>\n",
       "      <th>105</th>\n",
       "    </tr>\n",
       "  </thead>\n",
       "  <tbody>\n",
       "    <tr>\n",
       "      <th>1</th>\n",
       "      <td>14</td>\n",
       "      <td>18</td>\n",
       "      <td>87</td>\n",
       "      <td>85</td>\n",
       "      <td>39</td>\n",
       "    </tr>\n",
       "    <tr>\n",
       "      <th>2</th>\n",
       "      <td>61</td>\n",
       "      <td>96</td>\n",
       "      <td>32</td>\n",
       "      <td>38</td>\n",
       "      <td>92</td>\n",
       "    </tr>\n",
       "    <tr>\n",
       "      <th>3</th>\n",
       "      <td>59</td>\n",
       "      <td>70</td>\n",
       "      <td>42</td>\n",
       "      <td>28</td>\n",
       "      <td>57</td>\n",
       "    </tr>\n",
       "    <tr>\n",
       "      <th>4</th>\n",
       "      <td>41</td>\n",
       "      <td>33</td>\n",
       "      <td>90</td>\n",
       "      <td>27</td>\n",
       "      <td>33</td>\n",
       "    </tr>\n",
       "    <tr>\n",
       "      <th>5</th>\n",
       "      <td>31</td>\n",
       "      <td>34</td>\n",
       "      <td>10</td>\n",
       "      <td>68</td>\n",
       "      <td>19</td>\n",
       "    </tr>\n",
       "    <tr>\n",
       "      <th>6</th>\n",
       "      <td>63</td>\n",
       "      <td>9</td>\n",
       "      <td>63</td>\n",
       "      <td>59</td>\n",
       "      <td>3</td>\n",
       "    </tr>\n",
       "    <tr>\n",
       "      <th>7</th>\n",
       "      <td>35</td>\n",
       "      <td>45</td>\n",
       "      <td>11</td>\n",
       "      <td>25</td>\n",
       "      <td>3</td>\n",
       "    </tr>\n",
       "    <tr>\n",
       "      <th>8</th>\n",
       "      <td>71</td>\n",
       "      <td>20</td>\n",
       "      <td>31</td>\n",
       "      <td>60</td>\n",
       "      <td>2</td>\n",
       "    </tr>\n",
       "    <tr>\n",
       "      <th>9</th>\n",
       "      <td>18</td>\n",
       "      <td>15</td>\n",
       "      <td>11</td>\n",
       "      <td>89</td>\n",
       "      <td>17</td>\n",
       "    </tr>\n",
       "    <tr>\n",
       "      <th>10</th>\n",
       "      <td>26</td>\n",
       "      <td>82</td>\n",
       "      <td>98</td>\n",
       "      <td>23</td>\n",
       "      <td>71</td>\n",
       "    </tr>\n",
       "  </tbody>\n",
       "</table>\n",
       "</div>"
      ],
      "text/plain": [
       "    101  102  103  104  105\n",
       "1    14   18   87   85   39\n",
       "2    61   96   32   38   92\n",
       "3    59   70   42   28   57\n",
       "4    41   33   90   27   33\n",
       "5    31   34   10   68   19\n",
       "6    63    9   63   59    3\n",
       "7    35   45   11   25    3\n",
       "8    71   20   31   60    2\n",
       "9    18   15   11   89   17\n",
       "10   26   82   98   23   71"
      ]
     },
     "execution_count": 130,
     "metadata": {},
     "output_type": "execute_result"
    }
   ],
   "source": [
    "frame_scores[102] = frame_scores[102] + score_delta\n",
    "frame_scores"
   ]
  },
  {
   "cell_type": "markdown",
   "metadata": {},
   "source": [
    "방법 2. DataFrame 간의 연산으로 변환해서 수행"
   ]
  },
  {
   "cell_type": "code",
   "execution_count": 138,
   "metadata": {
    "collapsed": true
   },
   "outputs": [],
   "source": [
    "new_frame_scores = frame_scores.sub(\n",
    "    DataFrame(score_delta, columns=[102]), fill_value=0)"
   ]
  },
  {
   "cell_type": "markdown",
   "metadata": {},
   "source": [
    "문제 2 해결"
   ]
  },
  {
   "cell_type": "code",
   "execution_count": 142,
   "metadata": {
    "collapsed": true
   },
   "outputs": [
    {
     "data": {
      "text/html": [
       "<div style=\"max-height:1000px;max-width:1500px;overflow:auto;\">\n",
       "<table border=\"1\" class=\"dataframe\">\n",
       "  <thead>\n",
       "    <tr style=\"text-align: right;\">\n",
       "      <th></th>\n",
       "      <th>101</th>\n",
       "      <th>102</th>\n",
       "      <th>103</th>\n",
       "      <th>104</th>\n",
       "      <th>105</th>\n",
       "    </tr>\n",
       "  </thead>\n",
       "  <tbody>\n",
       "    <tr>\n",
       "      <th>1</th>\n",
       "      <td>14</td>\n",
       "      <td>25</td>\n",
       "      <td>87</td>\n",
       "      <td>85</td>\n",
       "      <td>39</td>\n",
       "    </tr>\n",
       "    <tr>\n",
       "      <th>2</th>\n",
       "      <td>61</td>\n",
       "      <td>89</td>\n",
       "      <td>32</td>\n",
       "      <td>38</td>\n",
       "      <td>92</td>\n",
       "    </tr>\n",
       "    <tr>\n",
       "      <th>3</th>\n",
       "      <td>59</td>\n",
       "      <td>73</td>\n",
       "      <td>42</td>\n",
       "      <td>28</td>\n",
       "      <td>57</td>\n",
       "    </tr>\n",
       "    <tr>\n",
       "      <th>4</th>\n",
       "      <td>41</td>\n",
       "      <td>40</td>\n",
       "      <td>90</td>\n",
       "      <td>27</td>\n",
       "      <td>33</td>\n",
       "    </tr>\n",
       "    <tr>\n",
       "      <th>5</th>\n",
       "      <td>31</td>\n",
       "      <td>35</td>\n",
       "      <td>10</td>\n",
       "      <td>68</td>\n",
       "      <td>19</td>\n",
       "    </tr>\n",
       "    <tr>\n",
       "      <th>6</th>\n",
       "      <td>63</td>\n",
       "      <td>3</td>\n",
       "      <td>63</td>\n",
       "      <td>59</td>\n",
       "      <td>3</td>\n",
       "    </tr>\n",
       "    <tr>\n",
       "      <th>7</th>\n",
       "      <td>35</td>\n",
       "      <td>46</td>\n",
       "      <td>11</td>\n",
       "      <td>25</td>\n",
       "      <td>3</td>\n",
       "    </tr>\n",
       "    <tr>\n",
       "      <th>8</th>\n",
       "      <td>71</td>\n",
       "      <td>12</td>\n",
       "      <td>31</td>\n",
       "      <td>60</td>\n",
       "      <td>2</td>\n",
       "    </tr>\n",
       "    <tr>\n",
       "      <th>9</th>\n",
       "      <td>18</td>\n",
       "      <td>22</td>\n",
       "      <td>11</td>\n",
       "      <td>89</td>\n",
       "      <td>17</td>\n",
       "    </tr>\n",
       "    <tr>\n",
       "      <th>10</th>\n",
       "      <td>26</td>\n",
       "      <td>84</td>\n",
       "      <td>98</td>\n",
       "      <td>23</td>\n",
       "      <td>71</td>\n",
       "    </tr>\n",
       "  </tbody>\n",
       "</table>\n",
       "</div>"
      ],
      "text/plain": [
       "    101  102  103  104  105\n",
       "1    14   25   87   85   39\n",
       "2    61   89   32   38   92\n",
       "3    59   73   42   28   57\n",
       "4    41   40   90   27   33\n",
       "5    31   35   10   68   19\n",
       "6    63    3   63   59    3\n",
       "7    35   46   11   25    3\n",
       "8    71   12   31   60    2\n",
       "9    18   22   11   89   17\n",
       "10   26   84   98   23   71"
      ]
     },
     "execution_count": 142,
     "metadata": {},
     "output_type": "execute_result"
    }
   ],
   "source": [
    "DataFrame(np.where(new_frame_scores < 0 , 0, \n",
    "                  np.where(new_frame_scores>100, 100, new_frame_scores)),\n",
    "         index = new_frame_scores.index,\n",
    "         columns = new_frame_scores.columns)"
   ]
  },
  {
   "cell_type": "markdown",
   "metadata": {},
   "source": [
    "##  함수 적용과 매핑"
   ]
  },
  {
   "cell_type": "code",
   "execution_count": 307,
   "metadata": {
    "collapsed": true
   },
   "outputs": [],
   "source": [
    "import numpy as np\n",
    "frame = DataFrame(np.random.randn(4,3), \n",
    "                 columns=list('bde'),\n",
    "                 index=['Utah', 'Ohio', 'Texas', 'Oregon'])"
   ]
  },
  {
   "cell_type": "code",
   "execution_count": 144,
   "metadata": {
    "collapsed": false
   },
   "outputs": [
    {
     "data": {
      "text/html": [
       "<div style=\"max-height:1000px;max-width:1500px;overflow:auto;\">\n",
       "<table border=\"1\" class=\"dataframe\">\n",
       "  <thead>\n",
       "    <tr style=\"text-align: right;\">\n",
       "      <th></th>\n",
       "      <th>b</th>\n",
       "      <th>d</th>\n",
       "      <th>e</th>\n",
       "    </tr>\n",
       "  </thead>\n",
       "  <tbody>\n",
       "    <tr>\n",
       "      <th>Utah</th>\n",
       "      <td>0.443940</td>\n",
       "      <td>0.226324</td>\n",
       "      <td>0.186033</td>\n",
       "    </tr>\n",
       "    <tr>\n",
       "      <th>Ohio</th>\n",
       "      <td>1.548336</td>\n",
       "      <td>1.358102</td>\n",
       "      <td>1.053157</td>\n",
       "    </tr>\n",
       "    <tr>\n",
       "      <th>Texas</th>\n",
       "      <td>0.342912</td>\n",
       "      <td>1.610758</td>\n",
       "      <td>0.259303</td>\n",
       "    </tr>\n",
       "    <tr>\n",
       "      <th>Oregon</th>\n",
       "      <td>0.287597</td>\n",
       "      <td>0.506503</td>\n",
       "      <td>0.311234</td>\n",
       "    </tr>\n",
       "  </tbody>\n",
       "</table>\n",
       "</div>"
      ],
      "text/plain": [
       "               b         d         e\n",
       "Utah    0.443940  0.226324  0.186033\n",
       "Ohio    1.548336  1.358102  1.053157\n",
       "Texas   0.342912  1.610758  0.259303\n",
       "Oregon  0.287597  0.506503  0.311234"
      ]
     },
     "execution_count": 144,
     "metadata": {},
     "output_type": "execute_result"
    }
   ],
   "source": [
    "np.abs(frame)"
   ]
  },
  {
   "cell_type": "code",
   "execution_count": 145,
   "metadata": {
    "collapsed": false
   },
   "outputs": [
    {
     "data": {
      "text/html": [
       "<div style=\"max-height:1000px;max-width:1500px;overflow:auto;\">\n",
       "<table border=\"1\" class=\"dataframe\">\n",
       "  <thead>\n",
       "    <tr style=\"text-align: right;\">\n",
       "      <th></th>\n",
       "      <th>b</th>\n",
       "      <th>d</th>\n",
       "      <th>e</th>\n",
       "    </tr>\n",
       "  </thead>\n",
       "  <tbody>\n",
       "    <tr>\n",
       "      <th>Utah</th>\n",
       "      <td>0.443940</td>\n",
       "      <td>0.226324</td>\n",
       "      <td>0.186033</td>\n",
       "    </tr>\n",
       "    <tr>\n",
       "      <th>Ohio</th>\n",
       "      <td>1.548336</td>\n",
       "      <td>1.358102</td>\n",
       "      <td>1.053157</td>\n",
       "    </tr>\n",
       "    <tr>\n",
       "      <th>Texas</th>\n",
       "      <td>0.342912</td>\n",
       "      <td>1.610758</td>\n",
       "      <td>0.259303</td>\n",
       "    </tr>\n",
       "    <tr>\n",
       "      <th>Oregon</th>\n",
       "      <td>0.287597</td>\n",
       "      <td>0.506503</td>\n",
       "      <td>0.311234</td>\n",
       "    </tr>\n",
       "  </tbody>\n",
       "</table>\n",
       "</div>"
      ],
      "text/plain": [
       "               b         d         e\n",
       "Utah    0.443940  0.226324  0.186033\n",
       "Ohio    1.548336  1.358102  1.053157\n",
       "Texas   0.342912  1.610758  0.259303\n",
       "Oregon  0.287597  0.506503  0.311234"
      ]
     },
     "execution_count": 145,
     "metadata": {},
     "output_type": "execute_result"
    }
   ],
   "source": [
    "frame.apply(np.abs)"
   ]
  },
  {
   "cell_type": "code",
   "execution_count": 308,
   "metadata": {
    "collapsed": true
   },
   "outputs": [],
   "source": [
    "def maxmindiff(x):\n",
    "    return x.max() - x.min()"
   ]
  },
  {
   "cell_type": "code",
   "execution_count": 309,
   "metadata": {
    "collapsed": false,
    "scrolled": true
   },
   "outputs": [
    {
     "data": {
      "text/plain": [
       "b    2.896893\n",
       "d    1.895672\n",
       "e    4.626412\n",
       "dtype: float64"
      ]
     },
     "execution_count": 309,
     "metadata": {},
     "output_type": "execute_result"
    }
   ],
   "source": [
    "frame.apply(maxmindiff)"
   ]
  },
  {
   "cell_type": "code",
   "execution_count": 310,
   "metadata": {
    "collapsed": false
   },
   "outputs": [
    {
     "data": {
      "text/plain": [
       "b    2.896893\n",
       "d    1.895672\n",
       "e    4.626412\n",
       "dtype: float64"
      ]
     },
     "execution_count": 310,
     "metadata": {},
     "output_type": "execute_result"
    }
   ],
   "source": [
    "frame.apply(lambda x : x.max()- x.min())"
   ]
  },
  {
   "cell_type": "code",
   "execution_count": 149,
   "metadata": {
    "collapsed": false
   },
   "outputs": [
    {
     "data": {
      "text/plain": [
       "Utah      0.670263\n",
       "Ohio      2.601493\n",
       "Texas     1.351455\n",
       "Oregon    0.817737\n",
       "dtype: float64"
      ]
     },
     "execution_count": 149,
     "metadata": {},
     "output_type": "execute_result"
    }
   ],
   "source": [
    "frame.apply(maxmindiff, axis=1)"
   ]
  },
  {
   "cell_type": "code",
   "execution_count": 311,
   "metadata": {
    "collapsed": true
   },
   "outputs": [],
   "source": [
    "def get_max_min(x):\n",
    "    return Series([x.min(), x.max()], index=['min', 'max'])"
   ]
  },
  {
   "cell_type": "code",
   "execution_count": 312,
   "metadata": {
    "collapsed": false
   },
   "outputs": [
    {
     "data": {
      "text/html": [
       "<div style=\"max-height:1000px;max-width:1500px;overflow:auto;\">\n",
       "<table border=\"1\" class=\"dataframe\">\n",
       "  <thead>\n",
       "    <tr style=\"text-align: right;\">\n",
       "      <th></th>\n",
       "      <th>b</th>\n",
       "      <th>d</th>\n",
       "      <th>e</th>\n",
       "    </tr>\n",
       "  </thead>\n",
       "  <tbody>\n",
       "    <tr>\n",
       "      <th>min</th>\n",
       "      <td>-2.430589</td>\n",
       "      <td>-1.271455</td>\n",
       "      <td>-2.480493</td>\n",
       "    </tr>\n",
       "    <tr>\n",
       "      <th>max</th>\n",
       "      <td>0.466304</td>\n",
       "      <td>0.624217</td>\n",
       "      <td>2.145918</td>\n",
       "    </tr>\n",
       "  </tbody>\n",
       "</table>\n",
       "</div>"
      ],
      "text/plain": [
       "            b         d         e\n",
       "min -2.430589 -1.271455 -2.480493\n",
       "max  0.466304  0.624217  2.145918"
      ]
     },
     "execution_count": 312,
     "metadata": {},
     "output_type": "execute_result"
    }
   ],
   "source": [
    "frame.apply(get_max_min)"
   ]
  },
  {
   "cell_type": "code",
   "execution_count": 152,
   "metadata": {
    "collapsed": false,
    "scrolled": false
   },
   "outputs": [
    {
     "data": {
      "text/html": [
       "<div style=\"max-height:1000px;max-width:1500px;overflow:auto;\">\n",
       "<table border=\"1\" class=\"dataframe\">\n",
       "  <thead>\n",
       "    <tr style=\"text-align: right;\">\n",
       "      <th></th>\n",
       "      <th>min</th>\n",
       "      <th>max</th>\n",
       "    </tr>\n",
       "  </thead>\n",
       "  <tbody>\n",
       "    <tr>\n",
       "      <th>Utah</th>\n",
       "      <td>-0.443940</td>\n",
       "      <td>0.226324</td>\n",
       "    </tr>\n",
       "    <tr>\n",
       "      <th>Ohio</th>\n",
       "      <td>-1.053157</td>\n",
       "      <td>1.548336</td>\n",
       "    </tr>\n",
       "    <tr>\n",
       "      <th>Texas</th>\n",
       "      <td>-1.610758</td>\n",
       "      <td>-0.259303</td>\n",
       "    </tr>\n",
       "    <tr>\n",
       "      <th>Oregon</th>\n",
       "      <td>-0.506503</td>\n",
       "      <td>0.311234</td>\n",
       "    </tr>\n",
       "  </tbody>\n",
       "</table>\n",
       "</div>"
      ],
      "text/plain": [
       "             min       max\n",
       "Utah   -0.443940  0.226324\n",
       "Ohio   -1.053157  1.548336\n",
       "Texas  -1.610758 -0.259303\n",
       "Oregon -0.506503  0.311234"
      ]
     },
     "execution_count": 152,
     "metadata": {},
     "output_type": "execute_result"
    }
   ],
   "source": [
    "frame.apply(f, axis=1)"
   ]
  },
  {
   "cell_type": "code",
   "execution_count": 314,
   "metadata": {
    "collapsed": false
   },
   "outputs": [
    {
     "data": {
      "text/html": [
       "<div style=\"max-height:1000px;max-width:1500px;overflow:auto;\">\n",
       "<table border=\"1\" class=\"dataframe\">\n",
       "  <thead>\n",
       "    <tr style=\"text-align: right;\">\n",
       "      <th></th>\n",
       "      <th>b</th>\n",
       "      <th>d</th>\n",
       "      <th>e</th>\n",
       "    </tr>\n",
       "  </thead>\n",
       "  <tbody>\n",
       "    <tr>\n",
       "      <th>Utah</th>\n",
       "      <td>-2.43</td>\n",
       "      <td>0.48</td>\n",
       "      <td>-0.51</td>\n",
       "    </tr>\n",
       "    <tr>\n",
       "      <th>Ohio</th>\n",
       "      <td>-0.36</td>\n",
       "      <td>-1.27</td>\n",
       "      <td>2.15</td>\n",
       "    </tr>\n",
       "    <tr>\n",
       "      <th>Texas</th>\n",
       "      <td>0.25</td>\n",
       "      <td>-0.49</td>\n",
       "      <td>-2.48</td>\n",
       "    </tr>\n",
       "    <tr>\n",
       "      <th>Oregon</th>\n",
       "      <td>0.47</td>\n",
       "      <td>0.62</td>\n",
       "      <td>0.02</td>\n",
       "    </tr>\n",
       "  </tbody>\n",
       "</table>\n",
       "</div>"
      ],
      "text/plain": [
       "            b      d      e\n",
       "Utah    -2.43   0.48  -0.51\n",
       "Ohio    -0.36  -1.27   2.15\n",
       "Texas    0.25  -0.49  -2.48\n",
       "Oregon   0.47   0.62   0.02"
      ]
     },
     "execution_count": 314,
     "metadata": {},
     "output_type": "execute_result"
    }
   ],
   "source": [
    "frame.applymap(lambda x: '{:.2f}'.format(x))"
   ]
  },
  {
   "cell_type": "markdown",
   "metadata": {},
   "source": [
    "## 도전과제\n",
    "\n",
    "주식 종목 5개 코드베이직, SJ전자, 매크로소프트, 메론, 성주모직의 90일간의 가격 정보에 대해 다음을 수행한다. 각 주식의 가격은 천원 단위로 기록되어 있다.\n",
    "\n",
    "1. 각 종목의 평균 가격 산출\n",
    "\n",
    "2. 각 종목의 최고가, 최저가 산출\n",
    "\n",
    "3. 모든 종목의 당일 평균 가격 산출\n",
    "\n",
    "4. 천원 단위로 기록된 수치값을 원 단위로 변경해 단위 구분자(,)를 포함해 표시한다. 예: 15 --> 15,000\n",
    "\n",
    "5. 종목 가격 정보를 문자의 오름차순으로 정렬해 표시한다.\n",
    "\n",
    "6. 각 주식의 최고값과 최저값의 차이를 구하고, 차이가 큰 종목 순으로 내림차순으로 정렬해 표시한다.\n",
    "\n",
    "7. 90일간 가격의 편차가 큰 순으로 순위를 매긴다.\n",
    "\n",
    "8. 각 종목 간 가격 변화량 상관도 (correlation)을 구한다. \n",
    "\n",
    "9. 코드베이직과 가장 상관도가 높은 종목을 순서대로 두 개 표시한다."
   ]
  },
  {
   "cell_type": "code",
   "execution_count": 144,
   "metadata": {
    "collapsed": false
   },
   "outputs": [
    {
     "name": "stdout",
     "output_type": "stream",
     "text": [
      "1,234,567,890\n"
     ]
    }
   ],
   "source": [
    "print('{:,}'.format(1234567890))"
   ]
  },
  {
   "cell_type": "code",
   "execution_count": 143,
   "metadata": {
    "collapsed": false
   },
   "outputs": [
    {
     "data": {
      "text/html": [
       "<div style=\"max-height:1000px;max-width:1500px;overflow:auto;\">\n",
       "<table border=\"1\" class=\"dataframe\">\n",
       "  <thead>\n",
       "    <tr style=\"text-align: right;\">\n",
       "      <th></th>\n",
       "      <th>코드베이직</th>\n",
       "      <th>SJ전자</th>\n",
       "      <th>매크로소프트</th>\n",
       "      <th>메론</th>\n",
       "      <th>성주모직</th>\n",
       "    </tr>\n",
       "  </thead>\n",
       "  <tbody>\n",
       "    <tr>\n",
       "      <th>0</th>\n",
       "      <td>40.772264</td>\n",
       "      <td>1137.567283</td>\n",
       "      <td>38.567574</td>\n",
       "      <td>916.032626</td>\n",
       "      <td>330.057412</td>\n",
       "    </tr>\n",
       "    <tr>\n",
       "      <th>1</th>\n",
       "      <td>36.265453</td>\n",
       "      <td>1160.236864</td>\n",
       "      <td>37.334749</td>\n",
       "      <td>1042.277046</td>\n",
       "      <td>264.196470</td>\n",
       "    </tr>\n",
       "    <tr>\n",
       "      <th>2</th>\n",
       "      <td>31.290528</td>\n",
       "      <td>973.582639</td>\n",
       "      <td>27.145672</td>\n",
       "      <td>805.160861</td>\n",
       "      <td>233.021844</td>\n",
       "    </tr>\n",
       "    <tr>\n",
       "      <th>3</th>\n",
       "      <td>40.386841</td>\n",
       "      <td>1069.696779</td>\n",
       "      <td>19.113824</td>\n",
       "      <td>853.205257</td>\n",
       "      <td>293.966419</td>\n",
       "    </tr>\n",
       "    <tr>\n",
       "      <th>4</th>\n",
       "      <td>45.566729</td>\n",
       "      <td>762.815341</td>\n",
       "      <td>15.105072</td>\n",
       "      <td>935.009369</td>\n",
       "      <td>253.566603</td>\n",
       "    </tr>\n",
       "    <tr>\n",
       "      <th>5</th>\n",
       "      <td>58.581456</td>\n",
       "      <td>624.773357</td>\n",
       "      <td>13.379328</td>\n",
       "      <td>1203.061379</td>\n",
       "      <td>306.486700</td>\n",
       "    </tr>\n",
       "    <tr>\n",
       "      <th>6</th>\n",
       "      <td>65.357062</td>\n",
       "      <td>498.925705</td>\n",
       "      <td>9.402117</td>\n",
       "      <td>1093.106242</td>\n",
       "      <td>341.917008</td>\n",
       "    </tr>\n",
       "    <tr>\n",
       "      <th>7</th>\n",
       "      <td>79.198429</td>\n",
       "      <td>583.471045</td>\n",
       "      <td>10.155532</td>\n",
       "      <td>1106.151972</td>\n",
       "      <td>258.235495</td>\n",
       "    </tr>\n",
       "    <tr>\n",
       "      <th>8</th>\n",
       "      <td>72.470239</td>\n",
       "      <td>470.581131</td>\n",
       "      <td>9.782670</td>\n",
       "      <td>1423.551258</td>\n",
       "      <td>214.839002</td>\n",
       "    </tr>\n",
       "    <tr>\n",
       "      <th>9</th>\n",
       "      <td>53.305959</td>\n",
       "      <td>562.680954</td>\n",
       "      <td>12.539343</td>\n",
       "      <td>1066.057610</td>\n",
       "      <td>213.852970</td>\n",
       "    </tr>\n",
       "    <tr>\n",
       "      <th>10</th>\n",
       "      <td>51.241655</td>\n",
       "      <td>490.991859</td>\n",
       "      <td>10.123904</td>\n",
       "      <td>986.325130</td>\n",
       "      <td>214.501398</td>\n",
       "    </tr>\n",
       "    <tr>\n",
       "      <th>11</th>\n",
       "      <td>40.743620</td>\n",
       "      <td>486.855549</td>\n",
       "      <td>10.755345</td>\n",
       "      <td>913.587077</td>\n",
       "      <td>167.167196</td>\n",
       "    </tr>\n",
       "    <tr>\n",
       "      <th>12</th>\n",
       "      <td>44.166414</td>\n",
       "      <td>518.869882</td>\n",
       "      <td>10.223529</td>\n",
       "      <td>872.023135</td>\n",
       "      <td>163.798869</td>\n",
       "    </tr>\n",
       "    <tr>\n",
       "      <th>13</th>\n",
       "      <td>48.416910</td>\n",
       "      <td>417.232910</td>\n",
       "      <td>10.161343</td>\n",
       "      <td>815.228473</td>\n",
       "      <td>116.280727</td>\n",
       "    </tr>\n",
       "    <tr>\n",
       "      <th>14</th>\n",
       "      <td>56.083500</td>\n",
       "      <td>333.567627</td>\n",
       "      <td>9.963379</td>\n",
       "      <td>911.863977</td>\n",
       "      <td>137.290767</td>\n",
       "    </tr>\n",
       "    <tr>\n",
       "      <th>15</th>\n",
       "      <td>59.243399</td>\n",
       "      <td>272.976505</td>\n",
       "      <td>9.669228</td>\n",
       "      <td>818.551682</td>\n",
       "      <td>103.208626</td>\n",
       "    </tr>\n",
       "    <tr>\n",
       "      <th>16</th>\n",
       "      <td>64.041175</td>\n",
       "      <td>256.087943</td>\n",
       "      <td>6.955028</td>\n",
       "      <td>1014.539806</td>\n",
       "      <td>116.635226</td>\n",
       "    </tr>\n",
       "    <tr>\n",
       "      <th>17</th>\n",
       "      <td>67.513519</td>\n",
       "      <td>205.952544</td>\n",
       "      <td>8.245207</td>\n",
       "      <td>1022.389078</td>\n",
       "      <td>142.679212</td>\n",
       "    </tr>\n",
       "    <tr>\n",
       "      <th>18</th>\n",
       "      <td>70.646894</td>\n",
       "      <td>256.855793</td>\n",
       "      <td>6.087057</td>\n",
       "      <td>1254.892050</td>\n",
       "      <td>150.847938</td>\n",
       "    </tr>\n",
       "    <tr>\n",
       "      <th>19</th>\n",
       "      <td>66.982525</td>\n",
       "      <td>220.274710</td>\n",
       "      <td>4.602781</td>\n",
       "      <td>960.081002</td>\n",
       "      <td>191.900610</td>\n",
       "    </tr>\n",
       "    <tr>\n",
       "      <th>20</th>\n",
       "      <td>64.148421</td>\n",
       "      <td>198.223814</td>\n",
       "      <td>3.285512</td>\n",
       "      <td>1153.744864</td>\n",
       "      <td>230.242928</td>\n",
       "    </tr>\n",
       "    <tr>\n",
       "      <th>21</th>\n",
       "      <td>75.745803</td>\n",
       "      <td>230.044549</td>\n",
       "      <td>4.172996</td>\n",
       "      <td>1089.079427</td>\n",
       "      <td>281.528132</td>\n",
       "    </tr>\n",
       "    <tr>\n",
       "      <th>22</th>\n",
       "      <td>92.384601</td>\n",
       "      <td>262.899934</td>\n",
       "      <td>5.419655</td>\n",
       "      <td>1349.051978</td>\n",
       "      <td>362.341492</td>\n",
       "    </tr>\n",
       "    <tr>\n",
       "      <th>23</th>\n",
       "      <td>74.747906</td>\n",
       "      <td>215.412352</td>\n",
       "      <td>6.590344</td>\n",
       "      <td>1316.066179</td>\n",
       "      <td>302.259655</td>\n",
       "    </tr>\n",
       "    <tr>\n",
       "      <th>24</th>\n",
       "      <td>74.620222</td>\n",
       "      <td>164.127665</td>\n",
       "      <td>7.238685</td>\n",
       "      <td>1184.304512</td>\n",
       "      <td>260.760708</td>\n",
       "    </tr>\n",
       "    <tr>\n",
       "      <th>25</th>\n",
       "      <td>62.337775</td>\n",
       "      <td>210.014574</td>\n",
       "      <td>9.357892</td>\n",
       "      <td>1310.058944</td>\n",
       "      <td>332.003547</td>\n",
       "    </tr>\n",
       "    <tr>\n",
       "      <th>26</th>\n",
       "      <td>59.149157</td>\n",
       "      <td>262.447479</td>\n",
       "      <td>8.480521</td>\n",
       "      <td>1416.162435</td>\n",
       "      <td>271.104795</td>\n",
       "    </tr>\n",
       "    <tr>\n",
       "      <th>27</th>\n",
       "      <td>48.828476</td>\n",
       "      <td>263.568055</td>\n",
       "      <td>6.135224</td>\n",
       "      <td>1104.400037</td>\n",
       "      <td>213.754197</td>\n",
       "    </tr>\n",
       "    <tr>\n",
       "      <th>28</th>\n",
       "      <td>60.851628</td>\n",
       "      <td>209.417847</td>\n",
       "      <td>5.552597</td>\n",
       "      <td>1016.946630</td>\n",
       "      <td>183.819062</td>\n",
       "    </tr>\n",
       "    <tr>\n",
       "      <th>29</th>\n",
       "      <td>77.212343</td>\n",
       "      <td>225.878091</td>\n",
       "      <td>5.506449</td>\n",
       "      <td>1092.544840</td>\n",
       "      <td>175.419692</td>\n",
       "    </tr>\n",
       "    <tr>\n",
       "      <th>...</th>\n",
       "      <td>...</td>\n",
       "      <td>...</td>\n",
       "      <td>...</td>\n",
       "      <td>...</td>\n",
       "      <td>...</td>\n",
       "    </tr>\n",
       "    <tr>\n",
       "      <th>60</th>\n",
       "      <td>37.018527</td>\n",
       "      <td>269.288241</td>\n",
       "      <td>3.114258</td>\n",
       "      <td>1453.002954</td>\n",
       "      <td>97.200768</td>\n",
       "    </tr>\n",
       "    <tr>\n",
       "      <th>61</th>\n",
       "      <td>33.372594</td>\n",
       "      <td>279.835412</td>\n",
       "      <td>2.956046</td>\n",
       "      <td>1754.812498</td>\n",
       "      <td>102.085888</td>\n",
       "    </tr>\n",
       "    <tr>\n",
       "      <th>62</th>\n",
       "      <td>31.150173</td>\n",
       "      <td>304.413452</td>\n",
       "      <td>2.675593</td>\n",
       "      <td>1729.993433</td>\n",
       "      <td>103.869287</td>\n",
       "    </tr>\n",
       "    <tr>\n",
       "      <th>63</th>\n",
       "      <td>37.668114</td>\n",
       "      <td>321.071220</td>\n",
       "      <td>3.406275</td>\n",
       "      <td>1457.996289</td>\n",
       "      <td>127.608214</td>\n",
       "    </tr>\n",
       "    <tr>\n",
       "      <th>64</th>\n",
       "      <td>39.650258</td>\n",
       "      <td>292.584375</td>\n",
       "      <td>2.407836</td>\n",
       "      <td>1672.721051</td>\n",
       "      <td>91.604993</td>\n",
       "    </tr>\n",
       "    <tr>\n",
       "      <th>65</th>\n",
       "      <td>40.808004</td>\n",
       "      <td>232.069492</td>\n",
       "      <td>2.754303</td>\n",
       "      <td>1693.838408</td>\n",
       "      <td>101.435146</td>\n",
       "    </tr>\n",
       "    <tr>\n",
       "      <th>66</th>\n",
       "      <td>30.314623</td>\n",
       "      <td>284.558644</td>\n",
       "      <td>3.172315</td>\n",
       "      <td>1667.335756</td>\n",
       "      <td>101.760911</td>\n",
       "    </tr>\n",
       "    <tr>\n",
       "      <th>67</th>\n",
       "      <td>26.162360</td>\n",
       "      <td>288.739934</td>\n",
       "      <td>2.846685</td>\n",
       "      <td>1192.424871</td>\n",
       "      <td>123.805803</td>\n",
       "    </tr>\n",
       "    <tr>\n",
       "      <th>68</th>\n",
       "      <td>26.470834</td>\n",
       "      <td>294.283488</td>\n",
       "      <td>2.123599</td>\n",
       "      <td>1394.315682</td>\n",
       "      <td>127.226238</td>\n",
       "    </tr>\n",
       "    <tr>\n",
       "      <th>69</th>\n",
       "      <td>29.077149</td>\n",
       "      <td>232.279524</td>\n",
       "      <td>2.178158</td>\n",
       "      <td>1363.764870</td>\n",
       "      <td>115.423679</td>\n",
       "    </tr>\n",
       "    <tr>\n",
       "      <th>70</th>\n",
       "      <td>27.678049</td>\n",
       "      <td>290.881618</td>\n",
       "      <td>1.787127</td>\n",
       "      <td>1333.683209</td>\n",
       "      <td>142.626817</td>\n",
       "    </tr>\n",
       "    <tr>\n",
       "      <th>71</th>\n",
       "      <td>30.472794</td>\n",
       "      <td>357.388323</td>\n",
       "      <td>1.721579</td>\n",
       "      <td>1576.655935</td>\n",
       "      <td>123.182636</td>\n",
       "    </tr>\n",
       "    <tr>\n",
       "      <th>72</th>\n",
       "      <td>25.865093</td>\n",
       "      <td>411.652747</td>\n",
       "      <td>1.351082</td>\n",
       "      <td>1931.344338</td>\n",
       "      <td>121.623934</td>\n",
       "    </tr>\n",
       "    <tr>\n",
       "      <th>73</th>\n",
       "      <td>19.453197</td>\n",
       "      <td>425.275663</td>\n",
       "      <td>1.013039</td>\n",
       "      <td>2392.984969</td>\n",
       "      <td>146.172729</td>\n",
       "    </tr>\n",
       "    <tr>\n",
       "      <th>74</th>\n",
       "      <td>17.283220</td>\n",
       "      <td>373.639051</td>\n",
       "      <td>0.827453</td>\n",
       "      <td>2325.566312</td>\n",
       "      <td>102.385559</td>\n",
       "    </tr>\n",
       "    <tr>\n",
       "      <th>75</th>\n",
       "      <td>14.752751</td>\n",
       "      <td>282.394202</td>\n",
       "      <td>0.814962</td>\n",
       "      <td>1653.907148</td>\n",
       "      <td>118.942283</td>\n",
       "    </tr>\n",
       "    <tr>\n",
       "      <th>76</th>\n",
       "      <td>19.168514</td>\n",
       "      <td>264.992539</td>\n",
       "      <td>0.613250</td>\n",
       "      <td>1362.740279</td>\n",
       "      <td>103.477070</td>\n",
       "    </tr>\n",
       "    <tr>\n",
       "      <th>77</th>\n",
       "      <td>13.498341</td>\n",
       "      <td>342.677845</td>\n",
       "      <td>0.666915</td>\n",
       "      <td>1011.116702</td>\n",
       "      <td>86.708973</td>\n",
       "    </tr>\n",
       "    <tr>\n",
       "      <th>78</th>\n",
       "      <td>11.574696</td>\n",
       "      <td>280.560530</td>\n",
       "      <td>0.520410</td>\n",
       "      <td>991.188738</td>\n",
       "      <td>101.863360</td>\n",
       "    </tr>\n",
       "    <tr>\n",
       "      <th>79</th>\n",
       "      <td>12.015599</td>\n",
       "      <td>274.193181</td>\n",
       "      <td>0.622222</td>\n",
       "      <td>1208.204705</td>\n",
       "      <td>122.616887</td>\n",
       "    </tr>\n",
       "    <tr>\n",
       "      <th>80</th>\n",
       "      <td>13.490588</td>\n",
       "      <td>297.343334</td>\n",
       "      <td>0.722365</td>\n",
       "      <td>1232.456951</td>\n",
       "      <td>141.699580</td>\n",
       "    </tr>\n",
       "    <tr>\n",
       "      <th>81</th>\n",
       "      <td>11.459370</td>\n",
       "      <td>226.498284</td>\n",
       "      <td>0.738072</td>\n",
       "      <td>1274.778008</td>\n",
       "      <td>136.036251</td>\n",
       "    </tr>\n",
       "    <tr>\n",
       "      <th>82</th>\n",
       "      <td>10.005651</td>\n",
       "      <td>234.393873</td>\n",
       "      <td>0.918351</td>\n",
       "      <td>1085.308089</td>\n",
       "      <td>124.177271</td>\n",
       "    </tr>\n",
       "    <tr>\n",
       "      <th>83</th>\n",
       "      <td>8.708612</td>\n",
       "      <td>202.075735</td>\n",
       "      <td>0.763790</td>\n",
       "      <td>972.439775</td>\n",
       "      <td>109.256701</td>\n",
       "    </tr>\n",
       "    <tr>\n",
       "      <th>84</th>\n",
       "      <td>9.317444</td>\n",
       "      <td>187.142190</td>\n",
       "      <td>0.713027</td>\n",
       "      <td>1000.710236</td>\n",
       "      <td>116.907845</td>\n",
       "    </tr>\n",
       "    <tr>\n",
       "      <th>85</th>\n",
       "      <td>11.361603</td>\n",
       "      <td>229.226666</td>\n",
       "      <td>0.788922</td>\n",
       "      <td>1106.249334</td>\n",
       "      <td>120.860039</td>\n",
       "    </tr>\n",
       "    <tr>\n",
       "      <th>86</th>\n",
       "      <td>11.652398</td>\n",
       "      <td>185.757031</td>\n",
       "      <td>0.815907</td>\n",
       "      <td>1016.049022</td>\n",
       "      <td>93.894793</td>\n",
       "    </tr>\n",
       "    <tr>\n",
       "      <th>87</th>\n",
       "      <td>13.074571</td>\n",
       "      <td>230.037866</td>\n",
       "      <td>0.993182</td>\n",
       "      <td>1284.302871</td>\n",
       "      <td>104.407476</td>\n",
       "    </tr>\n",
       "    <tr>\n",
       "      <th>88</th>\n",
       "      <td>11.284322</td>\n",
       "      <td>181.791322</td>\n",
       "      <td>1.193138</td>\n",
       "      <td>1440.051953</td>\n",
       "      <td>87.840473</td>\n",
       "    </tr>\n",
       "    <tr>\n",
       "      <th>89</th>\n",
       "      <td>11.442998</td>\n",
       "      <td>156.534287</td>\n",
       "      <td>1.439301</td>\n",
       "      <td>1699.897886</td>\n",
       "      <td>103.326621</td>\n",
       "    </tr>\n",
       "  </tbody>\n",
       "</table>\n",
       "<p>90 rows × 5 columns</p>\n",
       "</div>"
      ],
      "text/plain": [
       "        코드베이직         SJ전자     매크로소프트           메론        성주모직\n",
       "0   40.772264  1137.567283  38.567574   916.032626  330.057412\n",
       "1   36.265453  1160.236864  37.334749  1042.277046  264.196470\n",
       "2   31.290528   973.582639  27.145672   805.160861  233.021844\n",
       "3   40.386841  1069.696779  19.113824   853.205257  293.966419\n",
       "4   45.566729   762.815341  15.105072   935.009369  253.566603\n",
       "5   58.581456   624.773357  13.379328  1203.061379  306.486700\n",
       "6   65.357062   498.925705   9.402117  1093.106242  341.917008\n",
       "7   79.198429   583.471045  10.155532  1106.151972  258.235495\n",
       "8   72.470239   470.581131   9.782670  1423.551258  214.839002\n",
       "9   53.305959   562.680954  12.539343  1066.057610  213.852970\n",
       "10  51.241655   490.991859  10.123904   986.325130  214.501398\n",
       "11  40.743620   486.855549  10.755345   913.587077  167.167196\n",
       "12  44.166414   518.869882  10.223529   872.023135  163.798869\n",
       "13  48.416910   417.232910  10.161343   815.228473  116.280727\n",
       "14  56.083500   333.567627   9.963379   911.863977  137.290767\n",
       "15  59.243399   272.976505   9.669228   818.551682  103.208626\n",
       "16  64.041175   256.087943   6.955028  1014.539806  116.635226\n",
       "17  67.513519   205.952544   8.245207  1022.389078  142.679212\n",
       "18  70.646894   256.855793   6.087057  1254.892050  150.847938\n",
       "19  66.982525   220.274710   4.602781   960.081002  191.900610\n",
       "20  64.148421   198.223814   3.285512  1153.744864  230.242928\n",
       "21  75.745803   230.044549   4.172996  1089.079427  281.528132\n",
       "22  92.384601   262.899934   5.419655  1349.051978  362.341492\n",
       "23  74.747906   215.412352   6.590344  1316.066179  302.259655\n",
       "24  74.620222   164.127665   7.238685  1184.304512  260.760708\n",
       "25  62.337775   210.014574   9.357892  1310.058944  332.003547\n",
       "26  59.149157   262.447479   8.480521  1416.162435  271.104795\n",
       "27  48.828476   263.568055   6.135224  1104.400037  213.754197\n",
       "28  60.851628   209.417847   5.552597  1016.946630  183.819062\n",
       "29  77.212343   225.878091   5.506449  1092.544840  175.419692\n",
       "..        ...          ...        ...          ...         ...\n",
       "60  37.018527   269.288241   3.114258  1453.002954   97.200768\n",
       "61  33.372594   279.835412   2.956046  1754.812498  102.085888\n",
       "62  31.150173   304.413452   2.675593  1729.993433  103.869287\n",
       "63  37.668114   321.071220   3.406275  1457.996289  127.608214\n",
       "64  39.650258   292.584375   2.407836  1672.721051   91.604993\n",
       "65  40.808004   232.069492   2.754303  1693.838408  101.435146\n",
       "66  30.314623   284.558644   3.172315  1667.335756  101.760911\n",
       "67  26.162360   288.739934   2.846685  1192.424871  123.805803\n",
       "68  26.470834   294.283488   2.123599  1394.315682  127.226238\n",
       "69  29.077149   232.279524   2.178158  1363.764870  115.423679\n",
       "70  27.678049   290.881618   1.787127  1333.683209  142.626817\n",
       "71  30.472794   357.388323   1.721579  1576.655935  123.182636\n",
       "72  25.865093   411.652747   1.351082  1931.344338  121.623934\n",
       "73  19.453197   425.275663   1.013039  2392.984969  146.172729\n",
       "74  17.283220   373.639051   0.827453  2325.566312  102.385559\n",
       "75  14.752751   282.394202   0.814962  1653.907148  118.942283\n",
       "76  19.168514   264.992539   0.613250  1362.740279  103.477070\n",
       "77  13.498341   342.677845   0.666915  1011.116702   86.708973\n",
       "78  11.574696   280.560530   0.520410   991.188738  101.863360\n",
       "79  12.015599   274.193181   0.622222  1208.204705  122.616887\n",
       "80  13.490588   297.343334   0.722365  1232.456951  141.699580\n",
       "81  11.459370   226.498284   0.738072  1274.778008  136.036251\n",
       "82  10.005651   234.393873   0.918351  1085.308089  124.177271\n",
       "83   8.708612   202.075735   0.763790   972.439775  109.256701\n",
       "84   9.317444   187.142190   0.713027  1000.710236  116.907845\n",
       "85  11.361603   229.226666   0.788922  1106.249334  120.860039\n",
       "86  11.652398   185.757031   0.815907  1016.049022   93.894793\n",
       "87  13.074571   230.037866   0.993182  1284.302871  104.407476\n",
       "88  11.284322   181.791322   1.193138  1440.051953   87.840473\n",
       "89  11.442998   156.534287   1.439301  1699.897886  103.326621\n",
       "\n",
       "[90 rows x 5 columns]"
      ]
     },
     "execution_count": 143,
     "metadata": {},
     "output_type": "execute_result"
    }
   ],
   "source": [
    "def gen_sim_price(num_stocks=10, num_days=90):\n",
    "    \"\"\"주식 종목 가격 시뮬레이션. \n",
    "    지정된 종목 개수에 대한 지정된 일수만큼의 모의 가격 생성\"\"\"\n",
    "    prices = np.random.randint(5,1000, size=num_stocks)\n",
    "    changes = 1+np.random.uniform(low=-0.3, high=0.3, \n",
    "                                  size=(num_days, num_stocks))\n",
    "    prices =  prices * changes.cumprod(0)\n",
    "\n",
    "    return prices\n",
    "\n",
    "prices = gen_sim_price(5) # 5개 종목 90일 가격 생성\n",
    "stock_names = [u'코드베이직', u'SJ전자', u'매크로소프트', u'메론', u'성주모직']\n",
    "price_frame = DataFrame(prices,\n",
    "                       columns=stock_names)\n",
    "price_frame"
   ]
  },
  {
   "cell_type": "code",
   "execution_count": 361,
   "metadata": {
    "collapsed": false
   },
   "outputs": [
    {
     "data": {
      "text/plain": [
       "코드베이직     100.799240\n",
       "SJ전자       87.655959\n",
       "매크로소프트    115.634427\n",
       "메론        240.975945\n",
       "성주모직      713.977382\n",
       "dtype: float64"
      ]
     },
     "execution_count": 361,
     "metadata": {},
     "output_type": "execute_result"
    }
   ],
   "source": [
    "# 각 종목의 평균\n",
    "price_frame.apply(np.mean)"
   ]
  },
  {
   "cell_type": "code",
   "execution_count": 362,
   "metadata": {
    "collapsed": false
   },
   "outputs": [
    {
     "data": {
      "text/html": [
       "<div style=\"max-height:1000px;max-width:1500px;overflow:auto;\">\n",
       "<table border=\"1\" class=\"dataframe\">\n",
       "  <thead>\n",
       "    <tr style=\"text-align: right;\">\n",
       "      <th></th>\n",
       "      <th>코드베이직</th>\n",
       "      <th>SJ전자</th>\n",
       "      <th>매크로소프트</th>\n",
       "      <th>메론</th>\n",
       "      <th>성주모직</th>\n",
       "    </tr>\n",
       "  </thead>\n",
       "  <tbody>\n",
       "    <tr>\n",
       "      <th>최소</th>\n",
       "      <td>9.735483</td>\n",
       "      <td>9.052450</td>\n",
       "      <td>23.097862</td>\n",
       "      <td>39.708412</td>\n",
       "      <td>226.341596</td>\n",
       "    </tr>\n",
       "    <tr>\n",
       "      <th>최대</th>\n",
       "      <td>541.590510</td>\n",
       "      <td>483.236142</td>\n",
       "      <td>323.579386</td>\n",
       "      <td>1092.455677</td>\n",
       "      <td>1404.141261</td>\n",
       "    </tr>\n",
       "  </tbody>\n",
       "</table>\n",
       "</div>"
      ],
      "text/plain": [
       "         코드베이직        SJ전자      매크로소프트           메론         성주모직\n",
       "최소    9.735483    9.052450   23.097862    39.708412   226.341596\n",
       "최대  541.590510  483.236142  323.579386  1092.455677  1404.141261"
      ]
     },
     "execution_count": 362,
     "metadata": {},
     "output_type": "execute_result"
    }
   ],
   "source": [
    "# 각 종목의 최소, 최대값\n",
    "price_frame.apply(lambda x: Series([x.min(), x.max()], \n",
    "                                   index=[u'최소', u'최대']))"
   ]
  },
  {
   "cell_type": "code",
   "execution_count": 363,
   "metadata": {
    "collapsed": true
   },
   "outputs": [
    {
     "data": {
      "text/plain": [
       "0     531.452063\n",
       "1     524.366050\n",
       "2     534.760620\n",
       "3     507.869819\n",
       "4     452.882953\n",
       "5     499.808172\n",
       "6     492.450456\n",
       "7     483.012034\n",
       "8     422.288022\n",
       "9     423.084028\n",
       "10    407.851319\n",
       "11    380.519480\n",
       "12    349.640397\n",
       "13    370.124287\n",
       "14    387.101247\n",
       "15    329.070431\n",
       "16    334.227295\n",
       "17    382.705393\n",
       "18    324.330995\n",
       "19    330.144582\n",
       "20    297.725144\n",
       "21    266.026084\n",
       "22    256.799235\n",
       "23    257.643812\n",
       "24    227.322978\n",
       "25    219.816188\n",
       "26    230.598961\n",
       "27    264.351872\n",
       "28    314.850983\n",
       "29    290.530870\n",
       "         ...    \n",
       "60    114.361000\n",
       "61    102.091048\n",
       "62    109.461595\n",
       "63    113.276930\n",
       "64    127.172267\n",
       "65    117.137542\n",
       "66    113.673275\n",
       "67    115.520197\n",
       "68    111.344968\n",
       "69     97.073207\n",
       "70     99.037702\n",
       "71    110.806108\n",
       "72    131.858295\n",
       "73    139.070688\n",
       "74    151.687857\n",
       "75    170.693087\n",
       "76    129.141332\n",
       "77    127.564773\n",
       "78    139.003045\n",
       "79    157.772172\n",
       "80    166.622858\n",
       "81    205.509489\n",
       "82    193.405715\n",
       "83    217.067095\n",
       "84    241.351202\n",
       "85    219.898025\n",
       "86    243.350004\n",
       "87    284.365578\n",
       "88    306.109761\n",
       "89    361.863948\n",
       "dtype: float64"
      ]
     },
     "execution_count": 363,
     "metadata": {},
     "output_type": "execute_result"
    }
   ],
   "source": [
    "# 일자별 종목 가격 평균\n",
    "price_frame.apply(np.mean, axis=1)"
   ]
  },
  {
   "cell_type": "code",
   "execution_count": 364,
   "metadata": {
    "collapsed": true
   },
   "outputs": [
    {
     "data": {
      "text/html": [
       "<div style=\"max-height:1000px;max-width:1500px;overflow:auto;\">\n",
       "<table border=\"1\" class=\"dataframe\">\n",
       "  <thead>\n",
       "    <tr style=\"text-align: right;\">\n",
       "      <th></th>\n",
       "      <th>코드베이직</th>\n",
       "      <th>SJ전자</th>\n",
       "      <th>매크로소프트</th>\n",
       "      <th>메론</th>\n",
       "      <th>성주모직</th>\n",
       "    </tr>\n",
       "  </thead>\n",
       "  <tbody>\n",
       "    <tr>\n",
       "      <th>0</th>\n",
       "      <td>450,603.18408</td>\n",
       "      <td>461,501.14213</td>\n",
       "      <td>72,455.6332916</td>\n",
       "      <td>639,593.107162</td>\n",
       "      <td>1,033,107.24735</td>\n",
       "    </tr>\n",
       "    <tr>\n",
       "      <th>1</th>\n",
       "      <td>501,038.677125</td>\n",
       "      <td>483,236.142292</td>\n",
       "      <td>88,281.3777392</td>\n",
       "      <td>640,925.93916</td>\n",
       "      <td>908,348.115315</td>\n",
       "    </tr>\n",
       "    <tr>\n",
       "      <th>2</th>\n",
       "      <td>533,969.958633</td>\n",
       "      <td>393,733.728378</td>\n",
       "      <td>108,115.293246</td>\n",
       "      <td>790,353.234855</td>\n",
       "      <td>847,630.886011</td>\n",
       "    </tr>\n",
       "    <tr>\n",
       "      <th>3</th>\n",
       "      <td>472,558.069889</td>\n",
       "      <td>376,394.126782</td>\n",
       "      <td>88,259.3640367</td>\n",
       "      <td>812,189.282906</td>\n",
       "      <td>789,948.253169</td>\n",
       "    </tr>\n",
       "    <tr>\n",
       "      <th>4</th>\n",
       "      <td>541,590.510078</td>\n",
       "      <td>318,198.190404</td>\n",
       "      <td>104,568.602954</td>\n",
       "      <td>730,878.014515</td>\n",
       "      <td>569,179.448195</td>\n",
       "    </tr>\n",
       "    <tr>\n",
       "      <th>5</th>\n",
       "      <td>482,745.448166</td>\n",
       "      <td>295,398.028904</td>\n",
       "      <td>84,806.129898</td>\n",
       "      <td>915,168.974091</td>\n",
       "      <td>720,922.277199</td>\n",
       "    </tr>\n",
       "    <tr>\n",
       "      <th>6</th>\n",
       "      <td>458,519.424988</td>\n",
       "      <td>245,762.577151</td>\n",
       "      <td>110,146.335324</td>\n",
       "      <td>924,807.059386</td>\n",
       "      <td>723,016.880831</td>\n",
       "    </tr>\n",
       "    <tr>\n",
       "      <th>7</th>\n",
       "      <td>352,606.152954</td>\n",
       "      <td>256,781.980286</td>\n",
       "      <td>102,340.098169</td>\n",
       "      <td>1,092,455.67662</td>\n",
       "      <td>610,876.263754</td>\n",
       "    </tr>\n",
       "    <tr>\n",
       "      <th>8</th>\n",
       "      <td>394,105.191225</td>\n",
       "      <td>239,477.820933</td>\n",
       "      <td>91,990.6363843</td>\n",
       "      <td>777,606.258061</td>\n",
       "      <td>608,260.200921</td>\n",
       "    </tr>\n",
       "    <tr>\n",
       "      <th>9</th>\n",
       "      <td>345,109.369301</td>\n",
       "      <td>299,711.909338</td>\n",
       "      <td>113,170.122572</td>\n",
       "      <td>671,081.905563</td>\n",
       "      <td>686,346.83406</td>\n",
       "    </tr>\n",
       "    <tr>\n",
       "      <th>10</th>\n",
       "      <td>264,794.251256</td>\n",
       "      <td>242,453.361242</td>\n",
       "      <td>145,343.990303</td>\n",
       "      <td>591,994.691862</td>\n",
       "      <td>794,670.299561</td>\n",
       "    </tr>\n",
       "    <tr>\n",
       "      <th>11</th>\n",
       "      <td>246,314.960821</td>\n",
       "      <td>240,300.393605</td>\n",
       "      <td>125,522.995084</td>\n",
       "      <td>474,636.275726</td>\n",
       "      <td>815,822.774264</td>\n",
       "    </tr>\n",
       "    <tr>\n",
       "      <th>12</th>\n",
       "      <td>236,982.412152</td>\n",
       "      <td>194,368.991142</td>\n",
       "      <td>161,555.164073</td>\n",
       "      <td>377,684.702629</td>\n",
       "      <td>777,610.713525</td>\n",
       "    </tr>\n",
       "    <tr>\n",
       "      <th>13</th>\n",
       "      <td>197,129.157235</td>\n",
       "      <td>246,919.023885</td>\n",
       "      <td>147,052.684678</td>\n",
       "      <td>266,493.529287</td>\n",
       "      <td>993,027.038175</td>\n",
       "    </tr>\n",
       "    <tr>\n",
       "      <th>14</th>\n",
       "      <td>154,916.820016</td>\n",
       "      <td>317,007.737657</td>\n",
       "      <td>150,247.388451</td>\n",
       "      <td>278,457.208668</td>\n",
       "      <td>1,034,877.08114</td>\n",
       "    </tr>\n",
       "    <tr>\n",
       "      <th>15</th>\n",
       "      <td>162,511.822817</td>\n",
       "      <td>360,550.223079</td>\n",
       "      <td>113,398.122196</td>\n",
       "      <td>237,021.033317</td>\n",
       "      <td>771,870.954274</td>\n",
       "    </tr>\n",
       "    <tr>\n",
       "      <th>16</th>\n",
       "      <td>168,317.98921</td>\n",
       "      <td>256,793.870803</td>\n",
       "      <td>92,421.8933072</td>\n",
       "      <td>209,241.730483</td>\n",
       "      <td>944,360.993339</td>\n",
       "    </tr>\n",
       "    <tr>\n",
       "      <th>17</th>\n",
       "      <td>126,469.488354</td>\n",
       "      <td>229,013.3501</td>\n",
       "      <td>88,247.7005464</td>\n",
       "      <td>244,551.677026</td>\n",
       "      <td>1,225,244.74882</td>\n",
       "    </tr>\n",
       "    <tr>\n",
       "      <th>18</th>\n",
       "      <td>118,887.914321</td>\n",
       "      <td>161,509.426543</td>\n",
       "      <td>105,681.525368</td>\n",
       "      <td>185,839.545509</td>\n",
       "      <td>1,049,736.56321</td>\n",
       "    </tr>\n",
       "    <tr>\n",
       "      <th>19</th>\n",
       "      <td>92,080.4387395</td>\n",
       "      <td>151,323.789479</td>\n",
       "      <td>81,812.4543834</td>\n",
       "      <td>216,989.268182</td>\n",
       "      <td>1,108,516.96006</td>\n",
       "    </tr>\n",
       "    <tr>\n",
       "      <th>20</th>\n",
       "      <td>101,249.842393</td>\n",
       "      <td>152,092.411378</td>\n",
       "      <td>65,645.0435923</td>\n",
       "      <td>271,023.948794</td>\n",
       "      <td>898,614.473364</td>\n",
       "    </tr>\n",
       "    <tr>\n",
       "      <th>21</th>\n",
       "      <td>127,280.978387</td>\n",
       "      <td>171,372.882124</td>\n",
       "      <td>47,669.6911638</td>\n",
       "      <td>287,745.240009</td>\n",
       "      <td>696,061.628845</td>\n",
       "    </tr>\n",
       "    <tr>\n",
       "      <th>22</th>\n",
       "      <td>91,287.5435286</td>\n",
       "      <td>149,709.202709</td>\n",
       "      <td>54,793.330116</td>\n",
       "      <td>205,743.754575</td>\n",
       "      <td>782,462.344548</td>\n",
       "    </tr>\n",
       "    <tr>\n",
       "      <th>23</th>\n",
       "      <td>81,157.9709028</td>\n",
       "      <td>113,683.943497</td>\n",
       "      <td>40,948.2064684</td>\n",
       "      <td>252,652.472586</td>\n",
       "      <td>799,776.464211</td>\n",
       "    </tr>\n",
       "    <tr>\n",
       "      <th>24</th>\n",
       "      <td>87,790.2238975</td>\n",
       "      <td>97,935.8094383</td>\n",
       "      <td>34,198.3628699</td>\n",
       "      <td>244,655.705511</td>\n",
       "      <td>672,034.789939</td>\n",
       "    </tr>\n",
       "    <tr>\n",
       "      <th>25</th>\n",
       "      <td>98,789.2013472</td>\n",
       "      <td>69,279.5828078</td>\n",
       "      <td>41,465.6753557</td>\n",
       "      <td>175,343.445741</td>\n",
       "      <td>714,203.035515</td>\n",
       "    </tr>\n",
       "    <tr>\n",
       "      <th>26</th>\n",
       "      <td>117,857.092075</td>\n",
       "      <td>55,523.0194075</td>\n",
       "      <td>49,200.9830013</td>\n",
       "      <td>128,601.410265</td>\n",
       "      <td>801,812.301893</td>\n",
       "    </tr>\n",
       "    <tr>\n",
       "      <th>27</th>\n",
       "      <td>83,698.6105844</td>\n",
       "      <td>43,075.6922117</td>\n",
       "      <td>43,117.626636</td>\n",
       "      <td>151,920.99313</td>\n",
       "      <td>999,946.438298</td>\n",
       "    </tr>\n",
       "    <tr>\n",
       "      <th>28</th>\n",
       "      <td>93,077.986193</td>\n",
       "      <td>37,458.9393501</td>\n",
       "      <td>42,849.1057797</td>\n",
       "      <td>182,588.872362</td>\n",
       "      <td>1,218,280.00956</td>\n",
       "    </tr>\n",
       "    <tr>\n",
       "      <th>29</th>\n",
       "      <td>94,629.0986262</td>\n",
       "      <td>32,643.0352769</td>\n",
       "      <td>36,407.4674804</td>\n",
       "      <td>196,302.078439</td>\n",
       "      <td>1,092,672.66958</td>\n",
       "    </tr>\n",
       "    <tr>\n",
       "      <th>...</th>\n",
       "      <td>...</td>\n",
       "      <td>...</td>\n",
       "      <td>...</td>\n",
       "      <td>...</td>\n",
       "      <td>...</td>\n",
       "    </tr>\n",
       "    <tr>\n",
       "      <th>60</th>\n",
       "      <td>19,564.611991</td>\n",
       "      <td>9,125.49789284</td>\n",
       "      <td>94,511.8686973</td>\n",
       "      <td>58,434.3134721</td>\n",
       "      <td>390,168.709715</td>\n",
       "    </tr>\n",
       "    <tr>\n",
       "      <th>61</th>\n",
       "      <td>18,251.3793552</td>\n",
       "      <td>10,010.7400757</td>\n",
       "      <td>121,176.351692</td>\n",
       "      <td>65,811.7317883</td>\n",
       "      <td>295,205.037411</td>\n",
       "    </tr>\n",
       "    <tr>\n",
       "      <th>62</th>\n",
       "      <td>18,461.5714135</td>\n",
       "      <td>12,025.6073817</td>\n",
       "      <td>125,516.495832</td>\n",
       "      <td>65,154.8989905</td>\n",
       "      <td>326,149.401376</td>\n",
       "    </tr>\n",
       "    <tr>\n",
       "      <th>63</th>\n",
       "      <td>21,917.186914</td>\n",
       "      <td>15,309.2441771</td>\n",
       "      <td>141,574.668699</td>\n",
       "      <td>73,921.0840905</td>\n",
       "      <td>313,662.466386</td>\n",
       "    </tr>\n",
       "    <tr>\n",
       "      <th>64</th>\n",
       "      <td>25,655.1398257</td>\n",
       "      <td>11,919.3863679</td>\n",
       "      <td>165,159.68574</td>\n",
       "      <td>55,233.4363515</td>\n",
       "      <td>377,893.686658</td>\n",
       "    </tr>\n",
       "    <tr>\n",
       "      <th>65</th>\n",
       "      <td>30,305.7485991</td>\n",
       "      <td>13,710.8509845</td>\n",
       "      <td>117,325.462691</td>\n",
       "      <td>49,324.8653796</td>\n",
       "      <td>375,020.784751</td>\n",
       "    </tr>\n",
       "    <tr>\n",
       "      <th>66</th>\n",
       "      <td>30,197.1131389</td>\n",
       "      <td>14,447.8828603</td>\n",
       "      <td>141,180.240171</td>\n",
       "      <td>47,874.4664465</td>\n",
       "      <td>334,666.673462</td>\n",
       "    </tr>\n",
       "    <tr>\n",
       "      <th>67</th>\n",
       "      <td>37,342.3802097</td>\n",
       "      <td>11,213.386498</td>\n",
       "      <td>113,898.289389</td>\n",
       "      <td>39,708.4121962</td>\n",
       "      <td>375,438.516762</td>\n",
       "    </tr>\n",
       "    <tr>\n",
       "      <th>68</th>\n",
       "      <td>35,682.302834</td>\n",
       "      <td>12,358.4134257</td>\n",
       "      <td>145,632.68853</td>\n",
       "      <td>44,605.3541043</td>\n",
       "      <td>318,446.08295</td>\n",
       "    </tr>\n",
       "    <tr>\n",
       "      <th>69</th>\n",
       "      <td>28,379.5892607</td>\n",
       "      <td>13,662.6615276</td>\n",
       "      <td>154,509.401215</td>\n",
       "      <td>44,547.2142894</td>\n",
       "      <td>244,267.17103</td>\n",
       "    </tr>\n",
       "    <tr>\n",
       "      <th>70</th>\n",
       "      <td>21,193.8093736</td>\n",
       "      <td>10,877.7943168</td>\n",
       "      <td>192,457.946563</td>\n",
       "      <td>44,317.3626597</td>\n",
       "      <td>226,341.595512</td>\n",
       "    </tr>\n",
       "    <tr>\n",
       "      <th>71</th>\n",
       "      <td>19,188.7060483</td>\n",
       "      <td>10,291.7953303</td>\n",
       "      <td>238,285.398066</td>\n",
       "      <td>54,403.6467643</td>\n",
       "      <td>231,860.994259</td>\n",
       "    </tr>\n",
       "    <tr>\n",
       "      <th>72</th>\n",
       "      <td>22,140.2431915</td>\n",
       "      <td>12,074.7012845</td>\n",
       "      <td>273,127.60723</td>\n",
       "      <td>70,402.2769992</td>\n",
       "      <td>281,546.646337</td>\n",
       "    </tr>\n",
       "    <tr>\n",
       "      <th>73</th>\n",
       "      <td>22,901.2796046</td>\n",
       "      <td>13,569.1165435</td>\n",
       "      <td>222,860.656948</td>\n",
       "      <td>76,060.8452093</td>\n",
       "      <td>359,961.541379</td>\n",
       "    </tr>\n",
       "    <tr>\n",
       "      <th>74</th>\n",
       "      <td>26,939.8517738</td>\n",
       "      <td>16,982.8483272</td>\n",
       "      <td>200,457.988292</td>\n",
       "      <td>92,384.0637526</td>\n",
       "      <td>421,674.53515</td>\n",
       "    </tr>\n",
       "    <tr>\n",
       "      <th>75</th>\n",
       "      <td>23,581.2903998</td>\n",
       "      <td>21,276.0739207</td>\n",
       "      <td>233,023.546696</td>\n",
       "      <td>86,190.0400307</td>\n",
       "      <td>489,394.484269</td>\n",
       "    </tr>\n",
       "    <tr>\n",
       "      <th>76</th>\n",
       "      <td>26,719.8349255</td>\n",
       "      <td>17,937.0487197</td>\n",
       "      <td>170,288.203246</td>\n",
       "      <td>73,044.4636526</td>\n",
       "      <td>357,717.108319</td>\n",
       "    </tr>\n",
       "    <tr>\n",
       "      <th>77</th>\n",
       "      <td>20,234.7662874</td>\n",
       "      <td>19,732.3352464</td>\n",
       "      <td>173,425.022485</td>\n",
       "      <td>52,302.6848348</td>\n",
       "      <td>372,129.054176</td>\n",
       "    </tr>\n",
       "    <tr>\n",
       "      <th>78</th>\n",
       "      <td>14,631.8024761</td>\n",
       "      <td>24,288.0517346</td>\n",
       "      <td>211,627.767053</td>\n",
       "      <td>59,252.1756786</td>\n",
       "      <td>385,215.42623</td>\n",
       "    </tr>\n",
       "    <tr>\n",
       "      <th>79</th>\n",
       "      <td>15,663.5777962</td>\n",
       "      <td>30,617.3578111</td>\n",
       "      <td>194,948.359718</td>\n",
       "      <td>72,414.3817481</td>\n",
       "      <td>475,217.182043</td>\n",
       "    </tr>\n",
       "    <tr>\n",
       "      <th>80</th>\n",
       "      <td>13,803.5820226</td>\n",
       "      <td>35,593.4250035</td>\n",
       "      <td>249,149.156252</td>\n",
       "      <td>52,969.3622081</td>\n",
       "      <td>481,598.766642</td>\n",
       "    </tr>\n",
       "    <tr>\n",
       "      <th>81</th>\n",
       "      <td>12,467.4400277</td>\n",
       "      <td>32,775.2732776</td>\n",
       "      <td>323,579.385518</td>\n",
       "      <td>64,377.1925483</td>\n",
       "      <td>594,348.154089</td>\n",
       "    </tr>\n",
       "    <tr>\n",
       "      <th>82</th>\n",
       "      <td>9,735.48293173</td>\n",
       "      <td>32,311.4707002</td>\n",
       "      <td>282,930.750862</td>\n",
       "      <td>83,662.6466476</td>\n",
       "      <td>558,388.224466</td>\n",
       "    </tr>\n",
       "    <tr>\n",
       "      <th>83</th>\n",
       "      <td>12,181.89135</td>\n",
       "      <td>33,157.5566768</td>\n",
       "      <td>306,568.407085</td>\n",
       "      <td>68,317.7758765</td>\n",
       "      <td>665,109.845486</td>\n",
       "    </tr>\n",
       "    <tr>\n",
       "      <th>84</th>\n",
       "      <td>13,859.9833656</td>\n",
       "      <td>27,573.6455113</td>\n",
       "      <td>258,946.198086</td>\n",
       "      <td>74,387.7595951</td>\n",
       "      <td>831,988.42186</td>\n",
       "    </tr>\n",
       "    <tr>\n",
       "      <th>85</th>\n",
       "      <td>9,848.62620219</td>\n",
       "      <td>28,911.3559645</td>\n",
       "      <td>255,893.868574</td>\n",
       "      <td>78,102.4798523</td>\n",
       "      <td>726,733.793103</td>\n",
       "    </tr>\n",
       "    <tr>\n",
       "      <th>86</th>\n",
       "      <td>10,172.0801011</td>\n",
       "      <td>30,814.7134127</td>\n",
       "      <td>261,431.610488</td>\n",
       "      <td>98,752.2561948</td>\n",
       "      <td>815,579.358739</td>\n",
       "    </tr>\n",
       "    <tr>\n",
       "      <th>87</th>\n",
       "      <td>12,983.3346157</td>\n",
       "      <td>32,514.8191978</td>\n",
       "      <td>286,014.400782</td>\n",
       "      <td>74,316.3024402</td>\n",
       "      <td>1,015,999.0305</td>\n",
       "    </tr>\n",
       "    <tr>\n",
       "      <th>88</th>\n",
       "      <td>9,985.46858039</td>\n",
       "      <td>31,947.1732966</td>\n",
       "      <td>227,222.638111</td>\n",
       "      <td>90,965.6096375</td>\n",
       "      <td>1,170,427.91599</td>\n",
       "    </tr>\n",
       "    <tr>\n",
       "      <th>89</th>\n",
       "      <td>10,642.6361741</td>\n",
       "      <td>23,650.1072392</td>\n",
       "      <td>292,388.043596</td>\n",
       "      <td>78,497.6915961</td>\n",
       "      <td>1,404,141.26115</td>\n",
       "    </tr>\n",
       "  </tbody>\n",
       "</table>\n",
       "<p>90 rows × 5 columns</p>\n",
       "</div>"
      ],
      "text/plain": [
       "             코드베이직            SJ전자          매크로소프트               메론  \\\n",
       "0    450,603.18408   461,501.14213  72,455.6332916   639,593.107162   \n",
       "1   501,038.677125  483,236.142292  88,281.3777392    640,925.93916   \n",
       "2   533,969.958633  393,733.728378  108,115.293246   790,353.234855   \n",
       "3   472,558.069889  376,394.126782  88,259.3640367   812,189.282906   \n",
       "4   541,590.510078  318,198.190404  104,568.602954   730,878.014515   \n",
       "5   482,745.448166  295,398.028904   84,806.129898   915,168.974091   \n",
       "6   458,519.424988  245,762.577151  110,146.335324   924,807.059386   \n",
       "7   352,606.152954  256,781.980286  102,340.098169  1,092,455.67662   \n",
       "8   394,105.191225  239,477.820933  91,990.6363843   777,606.258061   \n",
       "9   345,109.369301  299,711.909338  113,170.122572   671,081.905563   \n",
       "10  264,794.251256  242,453.361242  145,343.990303   591,994.691862   \n",
       "11  246,314.960821  240,300.393605  125,522.995084   474,636.275726   \n",
       "12  236,982.412152  194,368.991142  161,555.164073   377,684.702629   \n",
       "13  197,129.157235  246,919.023885  147,052.684678   266,493.529287   \n",
       "14  154,916.820016  317,007.737657  150,247.388451   278,457.208668   \n",
       "15  162,511.822817  360,550.223079  113,398.122196   237,021.033317   \n",
       "16   168,317.98921  256,793.870803  92,421.8933072   209,241.730483   \n",
       "17  126,469.488354    229,013.3501  88,247.7005464   244,551.677026   \n",
       "18  118,887.914321  161,509.426543  105,681.525368   185,839.545509   \n",
       "19  92,080.4387395  151,323.789479  81,812.4543834   216,989.268182   \n",
       "20  101,249.842393  152,092.411378  65,645.0435923   271,023.948794   \n",
       "21  127,280.978387  171,372.882124  47,669.6911638   287,745.240009   \n",
       "22  91,287.5435286  149,709.202709   54,793.330116   205,743.754575   \n",
       "23  81,157.9709028  113,683.943497  40,948.2064684   252,652.472586   \n",
       "24  87,790.2238975  97,935.8094383  34,198.3628699   244,655.705511   \n",
       "25  98,789.2013472  69,279.5828078  41,465.6753557   175,343.445741   \n",
       "26  117,857.092075  55,523.0194075  49,200.9830013   128,601.410265   \n",
       "27  83,698.6105844  43,075.6922117   43,117.626636    151,920.99313   \n",
       "28   93,077.986193  37,458.9393501  42,849.1057797   182,588.872362   \n",
       "29  94,629.0986262  32,643.0352769  36,407.4674804   196,302.078439   \n",
       "..             ...             ...             ...              ...   \n",
       "60   19,564.611991  9,125.49789284  94,511.8686973   58,434.3134721   \n",
       "61  18,251.3793552  10,010.7400757  121,176.351692   65,811.7317883   \n",
       "62  18,461.5714135  12,025.6073817  125,516.495832   65,154.8989905   \n",
       "63   21,917.186914  15,309.2441771  141,574.668699   73,921.0840905   \n",
       "64  25,655.1398257  11,919.3863679   165,159.68574   55,233.4363515   \n",
       "65  30,305.7485991  13,710.8509845  117,325.462691   49,324.8653796   \n",
       "66  30,197.1131389  14,447.8828603  141,180.240171   47,874.4664465   \n",
       "67  37,342.3802097   11,213.386498  113,898.289389   39,708.4121962   \n",
       "68   35,682.302834  12,358.4134257   145,632.68853   44,605.3541043   \n",
       "69  28,379.5892607  13,662.6615276  154,509.401215   44,547.2142894   \n",
       "70  21,193.8093736  10,877.7943168  192,457.946563   44,317.3626597   \n",
       "71  19,188.7060483  10,291.7953303  238,285.398066   54,403.6467643   \n",
       "72  22,140.2431915  12,074.7012845   273,127.60723   70,402.2769992   \n",
       "73  22,901.2796046  13,569.1165435  222,860.656948   76,060.8452093   \n",
       "74  26,939.8517738  16,982.8483272  200,457.988292   92,384.0637526   \n",
       "75  23,581.2903998  21,276.0739207  233,023.546696   86,190.0400307   \n",
       "76  26,719.8349255  17,937.0487197  170,288.203246   73,044.4636526   \n",
       "77  20,234.7662874  19,732.3352464  173,425.022485   52,302.6848348   \n",
       "78  14,631.8024761  24,288.0517346  211,627.767053   59,252.1756786   \n",
       "79  15,663.5777962  30,617.3578111  194,948.359718   72,414.3817481   \n",
       "80  13,803.5820226  35,593.4250035  249,149.156252   52,969.3622081   \n",
       "81  12,467.4400277  32,775.2732776  323,579.385518   64,377.1925483   \n",
       "82  9,735.48293173  32,311.4707002  282,930.750862   83,662.6466476   \n",
       "83    12,181.89135  33,157.5566768  306,568.407085   68,317.7758765   \n",
       "84  13,859.9833656  27,573.6455113  258,946.198086   74,387.7595951   \n",
       "85  9,848.62620219  28,911.3559645  255,893.868574   78,102.4798523   \n",
       "86  10,172.0801011  30,814.7134127  261,431.610488   98,752.2561948   \n",
       "87  12,983.3346157  32,514.8191978  286,014.400782   74,316.3024402   \n",
       "88  9,985.46858039  31,947.1732966  227,222.638111   90,965.6096375   \n",
       "89  10,642.6361741  23,650.1072392  292,388.043596   78,497.6915961   \n",
       "\n",
       "               성주모직  \n",
       "0   1,033,107.24735  \n",
       "1    908,348.115315  \n",
       "2    847,630.886011  \n",
       "3    789,948.253169  \n",
       "4    569,179.448195  \n",
       "5    720,922.277199  \n",
       "6    723,016.880831  \n",
       "7    610,876.263754  \n",
       "8    608,260.200921  \n",
       "9     686,346.83406  \n",
       "10   794,670.299561  \n",
       "11   815,822.774264  \n",
       "12   777,610.713525  \n",
       "13   993,027.038175  \n",
       "14  1,034,877.08114  \n",
       "15   771,870.954274  \n",
       "16   944,360.993339  \n",
       "17  1,225,244.74882  \n",
       "18  1,049,736.56321  \n",
       "19  1,108,516.96006  \n",
       "20   898,614.473364  \n",
       "21   696,061.628845  \n",
       "22   782,462.344548  \n",
       "23   799,776.464211  \n",
       "24   672,034.789939  \n",
       "25   714,203.035515  \n",
       "26   801,812.301893  \n",
       "27   999,946.438298  \n",
       "28  1,218,280.00956  \n",
       "29  1,092,672.66958  \n",
       "..              ...  \n",
       "60   390,168.709715  \n",
       "61   295,205.037411  \n",
       "62   326,149.401376  \n",
       "63   313,662.466386  \n",
       "64   377,893.686658  \n",
       "65   375,020.784751  \n",
       "66   334,666.673462  \n",
       "67   375,438.516762  \n",
       "68    318,446.08295  \n",
       "69    244,267.17103  \n",
       "70   226,341.595512  \n",
       "71   231,860.994259  \n",
       "72   281,546.646337  \n",
       "73   359,961.541379  \n",
       "74    421,674.53515  \n",
       "75   489,394.484269  \n",
       "76   357,717.108319  \n",
       "77   372,129.054176  \n",
       "78    385,215.42623  \n",
       "79   475,217.182043  \n",
       "80   481,598.766642  \n",
       "81   594,348.154089  \n",
       "82   558,388.224466  \n",
       "83   665,109.845486  \n",
       "84    831,988.42186  \n",
       "85   726,733.793103  \n",
       "86   815,579.358739  \n",
       "87   1,015,999.0305  \n",
       "88  1,170,427.91599  \n",
       "89  1,404,141.26115  \n",
       "\n",
       "[90 rows x 5 columns]"
      ]
     },
     "execution_count": 364,
     "metadata": {},
     "output_type": "execute_result"
    }
   ],
   "source": [
    "# 가격 표시를 원으로 변경\n",
    "price_frame.applymap(lambda x: '{:,}'.format(x*1000))"
   ]
  },
  {
   "cell_type": "code",
   "execution_count": 365,
   "metadata": {
    "collapsed": true
   },
   "outputs": [
    {
     "data": {
      "text/html": [
       "<div style=\"max-height:1000px;max-width:1500px;overflow:auto;\">\n",
       "<table border=\"1\" class=\"dataframe\">\n",
       "  <thead>\n",
       "    <tr style=\"text-align: right;\">\n",
       "      <th></th>\n",
       "      <th>SJ전자</th>\n",
       "      <th>매크로소프트</th>\n",
       "      <th>메론</th>\n",
       "      <th>성주모직</th>\n",
       "      <th>코드베이직</th>\n",
       "    </tr>\n",
       "  </thead>\n",
       "  <tbody>\n",
       "    <tr>\n",
       "      <th>0</th>\n",
       "      <td>461.501142</td>\n",
       "      <td>72.455633</td>\n",
       "      <td>639.593107</td>\n",
       "      <td>1033.107247</td>\n",
       "      <td>450.603184</td>\n",
       "    </tr>\n",
       "    <tr>\n",
       "      <th>1</th>\n",
       "      <td>483.236142</td>\n",
       "      <td>88.281378</td>\n",
       "      <td>640.925939</td>\n",
       "      <td>908.348115</td>\n",
       "      <td>501.038677</td>\n",
       "    </tr>\n",
       "    <tr>\n",
       "      <th>2</th>\n",
       "      <td>393.733728</td>\n",
       "      <td>108.115293</td>\n",
       "      <td>790.353235</td>\n",
       "      <td>847.630886</td>\n",
       "      <td>533.969959</td>\n",
       "    </tr>\n",
       "    <tr>\n",
       "      <th>3</th>\n",
       "      <td>376.394127</td>\n",
       "      <td>88.259364</td>\n",
       "      <td>812.189283</td>\n",
       "      <td>789.948253</td>\n",
       "      <td>472.558070</td>\n",
       "    </tr>\n",
       "    <tr>\n",
       "      <th>4</th>\n",
       "      <td>318.198190</td>\n",
       "      <td>104.568603</td>\n",
       "      <td>730.878015</td>\n",
       "      <td>569.179448</td>\n",
       "      <td>541.590510</td>\n",
       "    </tr>\n",
       "    <tr>\n",
       "      <th>5</th>\n",
       "      <td>295.398029</td>\n",
       "      <td>84.806130</td>\n",
       "      <td>915.168974</td>\n",
       "      <td>720.922277</td>\n",
       "      <td>482.745448</td>\n",
       "    </tr>\n",
       "    <tr>\n",
       "      <th>6</th>\n",
       "      <td>245.762577</td>\n",
       "      <td>110.146335</td>\n",
       "      <td>924.807059</td>\n",
       "      <td>723.016881</td>\n",
       "      <td>458.519425</td>\n",
       "    </tr>\n",
       "    <tr>\n",
       "      <th>7</th>\n",
       "      <td>256.781980</td>\n",
       "      <td>102.340098</td>\n",
       "      <td>1092.455677</td>\n",
       "      <td>610.876264</td>\n",
       "      <td>352.606153</td>\n",
       "    </tr>\n",
       "    <tr>\n",
       "      <th>8</th>\n",
       "      <td>239.477821</td>\n",
       "      <td>91.990636</td>\n",
       "      <td>777.606258</td>\n",
       "      <td>608.260201</td>\n",
       "      <td>394.105191</td>\n",
       "    </tr>\n",
       "    <tr>\n",
       "      <th>9</th>\n",
       "      <td>299.711909</td>\n",
       "      <td>113.170123</td>\n",
       "      <td>671.081906</td>\n",
       "      <td>686.346834</td>\n",
       "      <td>345.109369</td>\n",
       "    </tr>\n",
       "    <tr>\n",
       "      <th>10</th>\n",
       "      <td>242.453361</td>\n",
       "      <td>145.343990</td>\n",
       "      <td>591.994692</td>\n",
       "      <td>794.670300</td>\n",
       "      <td>264.794251</td>\n",
       "    </tr>\n",
       "    <tr>\n",
       "      <th>11</th>\n",
       "      <td>240.300394</td>\n",
       "      <td>125.522995</td>\n",
       "      <td>474.636276</td>\n",
       "      <td>815.822774</td>\n",
       "      <td>246.314961</td>\n",
       "    </tr>\n",
       "    <tr>\n",
       "      <th>12</th>\n",
       "      <td>194.368991</td>\n",
       "      <td>161.555164</td>\n",
       "      <td>377.684703</td>\n",
       "      <td>777.610714</td>\n",
       "      <td>236.982412</td>\n",
       "    </tr>\n",
       "    <tr>\n",
       "      <th>13</th>\n",
       "      <td>246.919024</td>\n",
       "      <td>147.052685</td>\n",
       "      <td>266.493529</td>\n",
       "      <td>993.027038</td>\n",
       "      <td>197.129157</td>\n",
       "    </tr>\n",
       "    <tr>\n",
       "      <th>14</th>\n",
       "      <td>317.007738</td>\n",
       "      <td>150.247388</td>\n",
       "      <td>278.457209</td>\n",
       "      <td>1034.877081</td>\n",
       "      <td>154.916820</td>\n",
       "    </tr>\n",
       "    <tr>\n",
       "      <th>15</th>\n",
       "      <td>360.550223</td>\n",
       "      <td>113.398122</td>\n",
       "      <td>237.021033</td>\n",
       "      <td>771.870954</td>\n",
       "      <td>162.511823</td>\n",
       "    </tr>\n",
       "    <tr>\n",
       "      <th>16</th>\n",
       "      <td>256.793871</td>\n",
       "      <td>92.421893</td>\n",
       "      <td>209.241730</td>\n",
       "      <td>944.360993</td>\n",
       "      <td>168.317989</td>\n",
       "    </tr>\n",
       "    <tr>\n",
       "      <th>17</th>\n",
       "      <td>229.013350</td>\n",
       "      <td>88.247701</td>\n",
       "      <td>244.551677</td>\n",
       "      <td>1225.244749</td>\n",
       "      <td>126.469488</td>\n",
       "    </tr>\n",
       "    <tr>\n",
       "      <th>18</th>\n",
       "      <td>161.509427</td>\n",
       "      <td>105.681525</td>\n",
       "      <td>185.839546</td>\n",
       "      <td>1049.736563</td>\n",
       "      <td>118.887914</td>\n",
       "    </tr>\n",
       "    <tr>\n",
       "      <th>19</th>\n",
       "      <td>151.323789</td>\n",
       "      <td>81.812454</td>\n",
       "      <td>216.989268</td>\n",
       "      <td>1108.516960</td>\n",
       "      <td>92.080439</td>\n",
       "    </tr>\n",
       "    <tr>\n",
       "      <th>20</th>\n",
       "      <td>152.092411</td>\n",
       "      <td>65.645044</td>\n",
       "      <td>271.023949</td>\n",
       "      <td>898.614473</td>\n",
       "      <td>101.249842</td>\n",
       "    </tr>\n",
       "    <tr>\n",
       "      <th>21</th>\n",
       "      <td>171.372882</td>\n",
       "      <td>47.669691</td>\n",
       "      <td>287.745240</td>\n",
       "      <td>696.061629</td>\n",
       "      <td>127.280978</td>\n",
       "    </tr>\n",
       "    <tr>\n",
       "      <th>22</th>\n",
       "      <td>149.709203</td>\n",
       "      <td>54.793330</td>\n",
       "      <td>205.743755</td>\n",
       "      <td>782.462345</td>\n",
       "      <td>91.287544</td>\n",
       "    </tr>\n",
       "    <tr>\n",
       "      <th>23</th>\n",
       "      <td>113.683943</td>\n",
       "      <td>40.948206</td>\n",
       "      <td>252.652473</td>\n",
       "      <td>799.776464</td>\n",
       "      <td>81.157971</td>\n",
       "    </tr>\n",
       "    <tr>\n",
       "      <th>24</th>\n",
       "      <td>97.935809</td>\n",
       "      <td>34.198363</td>\n",
       "      <td>244.655706</td>\n",
       "      <td>672.034790</td>\n",
       "      <td>87.790224</td>\n",
       "    </tr>\n",
       "    <tr>\n",
       "      <th>25</th>\n",
       "      <td>69.279583</td>\n",
       "      <td>41.465675</td>\n",
       "      <td>175.343446</td>\n",
       "      <td>714.203036</td>\n",
       "      <td>98.789201</td>\n",
       "    </tr>\n",
       "    <tr>\n",
       "      <th>26</th>\n",
       "      <td>55.523019</td>\n",
       "      <td>49.200983</td>\n",
       "      <td>128.601410</td>\n",
       "      <td>801.812302</td>\n",
       "      <td>117.857092</td>\n",
       "    </tr>\n",
       "    <tr>\n",
       "      <th>27</th>\n",
       "      <td>43.075692</td>\n",
       "      <td>43.117627</td>\n",
       "      <td>151.920993</td>\n",
       "      <td>999.946438</td>\n",
       "      <td>83.698611</td>\n",
       "    </tr>\n",
       "    <tr>\n",
       "      <th>28</th>\n",
       "      <td>37.458939</td>\n",
       "      <td>42.849106</td>\n",
       "      <td>182.588872</td>\n",
       "      <td>1218.280010</td>\n",
       "      <td>93.077986</td>\n",
       "    </tr>\n",
       "    <tr>\n",
       "      <th>29</th>\n",
       "      <td>32.643035</td>\n",
       "      <td>36.407467</td>\n",
       "      <td>196.302078</td>\n",
       "      <td>1092.672670</td>\n",
       "      <td>94.629099</td>\n",
       "    </tr>\n",
       "    <tr>\n",
       "      <th>...</th>\n",
       "      <td>...</td>\n",
       "      <td>...</td>\n",
       "      <td>...</td>\n",
       "      <td>...</td>\n",
       "      <td>...</td>\n",
       "    </tr>\n",
       "    <tr>\n",
       "      <th>60</th>\n",
       "      <td>9.125498</td>\n",
       "      <td>94.511869</td>\n",
       "      <td>58.434313</td>\n",
       "      <td>390.168710</td>\n",
       "      <td>19.564612</td>\n",
       "    </tr>\n",
       "    <tr>\n",
       "      <th>61</th>\n",
       "      <td>10.010740</td>\n",
       "      <td>121.176352</td>\n",
       "      <td>65.811732</td>\n",
       "      <td>295.205037</td>\n",
       "      <td>18.251379</td>\n",
       "    </tr>\n",
       "    <tr>\n",
       "      <th>62</th>\n",
       "      <td>12.025607</td>\n",
       "      <td>125.516496</td>\n",
       "      <td>65.154899</td>\n",
       "      <td>326.149401</td>\n",
       "      <td>18.461571</td>\n",
       "    </tr>\n",
       "    <tr>\n",
       "      <th>63</th>\n",
       "      <td>15.309244</td>\n",
       "      <td>141.574669</td>\n",
       "      <td>73.921084</td>\n",
       "      <td>313.662466</td>\n",
       "      <td>21.917187</td>\n",
       "    </tr>\n",
       "    <tr>\n",
       "      <th>64</th>\n",
       "      <td>11.919386</td>\n",
       "      <td>165.159686</td>\n",
       "      <td>55.233436</td>\n",
       "      <td>377.893687</td>\n",
       "      <td>25.655140</td>\n",
       "    </tr>\n",
       "    <tr>\n",
       "      <th>65</th>\n",
       "      <td>13.710851</td>\n",
       "      <td>117.325463</td>\n",
       "      <td>49.324865</td>\n",
       "      <td>375.020785</td>\n",
       "      <td>30.305749</td>\n",
       "    </tr>\n",
       "    <tr>\n",
       "      <th>66</th>\n",
       "      <td>14.447883</td>\n",
       "      <td>141.180240</td>\n",
       "      <td>47.874466</td>\n",
       "      <td>334.666673</td>\n",
       "      <td>30.197113</td>\n",
       "    </tr>\n",
       "    <tr>\n",
       "      <th>67</th>\n",
       "      <td>11.213386</td>\n",
       "      <td>113.898289</td>\n",
       "      <td>39.708412</td>\n",
       "      <td>375.438517</td>\n",
       "      <td>37.342380</td>\n",
       "    </tr>\n",
       "    <tr>\n",
       "      <th>68</th>\n",
       "      <td>12.358413</td>\n",
       "      <td>145.632689</td>\n",
       "      <td>44.605354</td>\n",
       "      <td>318.446083</td>\n",
       "      <td>35.682303</td>\n",
       "    </tr>\n",
       "    <tr>\n",
       "      <th>69</th>\n",
       "      <td>13.662662</td>\n",
       "      <td>154.509401</td>\n",
       "      <td>44.547214</td>\n",
       "      <td>244.267171</td>\n",
       "      <td>28.379589</td>\n",
       "    </tr>\n",
       "    <tr>\n",
       "      <th>70</th>\n",
       "      <td>10.877794</td>\n",
       "      <td>192.457947</td>\n",
       "      <td>44.317363</td>\n",
       "      <td>226.341596</td>\n",
       "      <td>21.193809</td>\n",
       "    </tr>\n",
       "    <tr>\n",
       "      <th>71</th>\n",
       "      <td>10.291795</td>\n",
       "      <td>238.285398</td>\n",
       "      <td>54.403647</td>\n",
       "      <td>231.860994</td>\n",
       "      <td>19.188706</td>\n",
       "    </tr>\n",
       "    <tr>\n",
       "      <th>72</th>\n",
       "      <td>12.074701</td>\n",
       "      <td>273.127607</td>\n",
       "      <td>70.402277</td>\n",
       "      <td>281.546646</td>\n",
       "      <td>22.140243</td>\n",
       "    </tr>\n",
       "    <tr>\n",
       "      <th>73</th>\n",
       "      <td>13.569117</td>\n",
       "      <td>222.860657</td>\n",
       "      <td>76.060845</td>\n",
       "      <td>359.961541</td>\n",
       "      <td>22.901280</td>\n",
       "    </tr>\n",
       "    <tr>\n",
       "      <th>74</th>\n",
       "      <td>16.982848</td>\n",
       "      <td>200.457988</td>\n",
       "      <td>92.384064</td>\n",
       "      <td>421.674535</td>\n",
       "      <td>26.939852</td>\n",
       "    </tr>\n",
       "    <tr>\n",
       "      <th>75</th>\n",
       "      <td>21.276074</td>\n",
       "      <td>233.023547</td>\n",
       "      <td>86.190040</td>\n",
       "      <td>489.394484</td>\n",
       "      <td>23.581290</td>\n",
       "    </tr>\n",
       "    <tr>\n",
       "      <th>76</th>\n",
       "      <td>17.937049</td>\n",
       "      <td>170.288203</td>\n",
       "      <td>73.044464</td>\n",
       "      <td>357.717108</td>\n",
       "      <td>26.719835</td>\n",
       "    </tr>\n",
       "    <tr>\n",
       "      <th>77</th>\n",
       "      <td>19.732335</td>\n",
       "      <td>173.425022</td>\n",
       "      <td>52.302685</td>\n",
       "      <td>372.129054</td>\n",
       "      <td>20.234766</td>\n",
       "    </tr>\n",
       "    <tr>\n",
       "      <th>78</th>\n",
       "      <td>24.288052</td>\n",
       "      <td>211.627767</td>\n",
       "      <td>59.252176</td>\n",
       "      <td>385.215426</td>\n",
       "      <td>14.631802</td>\n",
       "    </tr>\n",
       "    <tr>\n",
       "      <th>79</th>\n",
       "      <td>30.617358</td>\n",
       "      <td>194.948360</td>\n",
       "      <td>72.414382</td>\n",
       "      <td>475.217182</td>\n",
       "      <td>15.663578</td>\n",
       "    </tr>\n",
       "    <tr>\n",
       "      <th>80</th>\n",
       "      <td>35.593425</td>\n",
       "      <td>249.149156</td>\n",
       "      <td>52.969362</td>\n",
       "      <td>481.598767</td>\n",
       "      <td>13.803582</td>\n",
       "    </tr>\n",
       "    <tr>\n",
       "      <th>81</th>\n",
       "      <td>32.775273</td>\n",
       "      <td>323.579386</td>\n",
       "      <td>64.377193</td>\n",
       "      <td>594.348154</td>\n",
       "      <td>12.467440</td>\n",
       "    </tr>\n",
       "    <tr>\n",
       "      <th>82</th>\n",
       "      <td>32.311471</td>\n",
       "      <td>282.930751</td>\n",
       "      <td>83.662647</td>\n",
       "      <td>558.388224</td>\n",
       "      <td>9.735483</td>\n",
       "    </tr>\n",
       "    <tr>\n",
       "      <th>83</th>\n",
       "      <td>33.157557</td>\n",
       "      <td>306.568407</td>\n",
       "      <td>68.317776</td>\n",
       "      <td>665.109845</td>\n",
       "      <td>12.181891</td>\n",
       "    </tr>\n",
       "    <tr>\n",
       "      <th>84</th>\n",
       "      <td>27.573646</td>\n",
       "      <td>258.946198</td>\n",
       "      <td>74.387760</td>\n",
       "      <td>831.988422</td>\n",
       "      <td>13.859983</td>\n",
       "    </tr>\n",
       "    <tr>\n",
       "      <th>85</th>\n",
       "      <td>28.911356</td>\n",
       "      <td>255.893869</td>\n",
       "      <td>78.102480</td>\n",
       "      <td>726.733793</td>\n",
       "      <td>9.848626</td>\n",
       "    </tr>\n",
       "    <tr>\n",
       "      <th>86</th>\n",
       "      <td>30.814713</td>\n",
       "      <td>261.431610</td>\n",
       "      <td>98.752256</td>\n",
       "      <td>815.579359</td>\n",
       "      <td>10.172080</td>\n",
       "    </tr>\n",
       "    <tr>\n",
       "      <th>87</th>\n",
       "      <td>32.514819</td>\n",
       "      <td>286.014401</td>\n",
       "      <td>74.316302</td>\n",
       "      <td>1015.999030</td>\n",
       "      <td>12.983335</td>\n",
       "    </tr>\n",
       "    <tr>\n",
       "      <th>88</th>\n",
       "      <td>31.947173</td>\n",
       "      <td>227.222638</td>\n",
       "      <td>90.965610</td>\n",
       "      <td>1170.427916</td>\n",
       "      <td>9.985469</td>\n",
       "    </tr>\n",
       "    <tr>\n",
       "      <th>89</th>\n",
       "      <td>23.650107</td>\n",
       "      <td>292.388044</td>\n",
       "      <td>78.497692</td>\n",
       "      <td>1404.141261</td>\n",
       "      <td>10.642636</td>\n",
       "    </tr>\n",
       "  </tbody>\n",
       "</table>\n",
       "<p>90 rows × 5 columns</p>\n",
       "</div>"
      ],
      "text/plain": [
       "          SJ전자      매크로소프트           메론         성주모직       코드베이직\n",
       "0   461.501142   72.455633   639.593107  1033.107247  450.603184\n",
       "1   483.236142   88.281378   640.925939   908.348115  501.038677\n",
       "2   393.733728  108.115293   790.353235   847.630886  533.969959\n",
       "3   376.394127   88.259364   812.189283   789.948253  472.558070\n",
       "4   318.198190  104.568603   730.878015   569.179448  541.590510\n",
       "5   295.398029   84.806130   915.168974   720.922277  482.745448\n",
       "6   245.762577  110.146335   924.807059   723.016881  458.519425\n",
       "7   256.781980  102.340098  1092.455677   610.876264  352.606153\n",
       "8   239.477821   91.990636   777.606258   608.260201  394.105191\n",
       "9   299.711909  113.170123   671.081906   686.346834  345.109369\n",
       "10  242.453361  145.343990   591.994692   794.670300  264.794251\n",
       "11  240.300394  125.522995   474.636276   815.822774  246.314961\n",
       "12  194.368991  161.555164   377.684703   777.610714  236.982412\n",
       "13  246.919024  147.052685   266.493529   993.027038  197.129157\n",
       "14  317.007738  150.247388   278.457209  1034.877081  154.916820\n",
       "15  360.550223  113.398122   237.021033   771.870954  162.511823\n",
       "16  256.793871   92.421893   209.241730   944.360993  168.317989\n",
       "17  229.013350   88.247701   244.551677  1225.244749  126.469488\n",
       "18  161.509427  105.681525   185.839546  1049.736563  118.887914\n",
       "19  151.323789   81.812454   216.989268  1108.516960   92.080439\n",
       "20  152.092411   65.645044   271.023949   898.614473  101.249842\n",
       "21  171.372882   47.669691   287.745240   696.061629  127.280978\n",
       "22  149.709203   54.793330   205.743755   782.462345   91.287544\n",
       "23  113.683943   40.948206   252.652473   799.776464   81.157971\n",
       "24   97.935809   34.198363   244.655706   672.034790   87.790224\n",
       "25   69.279583   41.465675   175.343446   714.203036   98.789201\n",
       "26   55.523019   49.200983   128.601410   801.812302  117.857092\n",
       "27   43.075692   43.117627   151.920993   999.946438   83.698611\n",
       "28   37.458939   42.849106   182.588872  1218.280010   93.077986\n",
       "29   32.643035   36.407467   196.302078  1092.672670   94.629099\n",
       "..         ...         ...          ...          ...         ...\n",
       "60    9.125498   94.511869    58.434313   390.168710   19.564612\n",
       "61   10.010740  121.176352    65.811732   295.205037   18.251379\n",
       "62   12.025607  125.516496    65.154899   326.149401   18.461571\n",
       "63   15.309244  141.574669    73.921084   313.662466   21.917187\n",
       "64   11.919386  165.159686    55.233436   377.893687   25.655140\n",
       "65   13.710851  117.325463    49.324865   375.020785   30.305749\n",
       "66   14.447883  141.180240    47.874466   334.666673   30.197113\n",
       "67   11.213386  113.898289    39.708412   375.438517   37.342380\n",
       "68   12.358413  145.632689    44.605354   318.446083   35.682303\n",
       "69   13.662662  154.509401    44.547214   244.267171   28.379589\n",
       "70   10.877794  192.457947    44.317363   226.341596   21.193809\n",
       "71   10.291795  238.285398    54.403647   231.860994   19.188706\n",
       "72   12.074701  273.127607    70.402277   281.546646   22.140243\n",
       "73   13.569117  222.860657    76.060845   359.961541   22.901280\n",
       "74   16.982848  200.457988    92.384064   421.674535   26.939852\n",
       "75   21.276074  233.023547    86.190040   489.394484   23.581290\n",
       "76   17.937049  170.288203    73.044464   357.717108   26.719835\n",
       "77   19.732335  173.425022    52.302685   372.129054   20.234766\n",
       "78   24.288052  211.627767    59.252176   385.215426   14.631802\n",
       "79   30.617358  194.948360    72.414382   475.217182   15.663578\n",
       "80   35.593425  249.149156    52.969362   481.598767   13.803582\n",
       "81   32.775273  323.579386    64.377193   594.348154   12.467440\n",
       "82   32.311471  282.930751    83.662647   558.388224    9.735483\n",
       "83   33.157557  306.568407    68.317776   665.109845   12.181891\n",
       "84   27.573646  258.946198    74.387760   831.988422   13.859983\n",
       "85   28.911356  255.893869    78.102480   726.733793    9.848626\n",
       "86   30.814713  261.431610    98.752256   815.579359   10.172080\n",
       "87   32.514819  286.014401    74.316302  1015.999030   12.983335\n",
       "88   31.947173  227.222638    90.965610  1170.427916    9.985469\n",
       "89   23.650107  292.388044    78.497692  1404.141261   10.642636\n",
       "\n",
       "[90 rows x 5 columns]"
      ]
     },
     "execution_count": 365,
     "metadata": {},
     "output_type": "execute_result"
    }
   ],
   "source": [
    "# 종목 정보를 문자 순으로 정렬\n",
    "price_frame.sort_index(axis=1)"
   ]
  },
  {
   "cell_type": "code",
   "execution_count": 367,
   "metadata": {
    "collapsed": false
   },
   "outputs": [
    {
     "data": {
      "text/plain": [
       "매크로소프트     300.481523\n",
       "SJ전자       474.183692\n",
       "코드베이직      531.855027\n",
       "메론        1052.747264\n",
       "성주모직      1177.799666\n",
       "dtype: float64"
      ]
     },
     "execution_count": 367,
     "metadata": {},
     "output_type": "execute_result"
    }
   ],
   "source": [
    "\"\"\"각 주식의 최고값과 최저값의 차이를 구하고, \n",
    "차이가 큰 종목 순으로 내림차순으로 정렬해 표시한다.\"\"\"\n",
    "price_frame.apply(lambda x: x.max()-x.min()).order()"
   ]
  },
  {
   "cell_type": "code",
   "execution_count": 371,
   "metadata": {
    "collapsed": false
   },
   "outputs": [
    {
     "data": {
      "text/plain": [
       "매크로소프트    1\n",
       "SJ전자      2\n",
       "코드베이직     3\n",
       "메론        4\n",
       "성주모직      5\n",
       "dtype: float64"
      ]
     },
     "execution_count": 371,
     "metadata": {},
     "output_type": "execute_result"
    }
   ],
   "source": [
    "\"\"\"90일간 가격의 편차가 큰 순으로 순위를 매긴다.\"\"\"\n",
    "price_frame.apply(np.std).rank().order()"
   ]
  },
  {
   "cell_type": "code",
   "execution_count": 408,
   "metadata": {
    "collapsed": false
   },
   "outputs": [
    {
     "data": {
      "text/html": [
       "<div style=\"max-height:1000px;max-width:1500px;overflow:auto;\">\n",
       "<table border=\"1\" class=\"dataframe\">\n",
       "  <thead>\n",
       "    <tr style=\"text-align: right;\">\n",
       "      <th></th>\n",
       "      <th>코드베이직</th>\n",
       "      <th>SJ전자</th>\n",
       "      <th>매크로소프트</th>\n",
       "      <th>메론</th>\n",
       "      <th>성주모직</th>\n",
       "    </tr>\n",
       "  </thead>\n",
       "  <tbody>\n",
       "    <tr>\n",
       "      <th>코드베이직</th>\n",
       "      <td>1.000000</td>\n",
       "      <td>0.091779</td>\n",
       "      <td>-0.048563</td>\n",
       "      <td>-0.067439</td>\n",
       "      <td>-0.052294</td>\n",
       "    </tr>\n",
       "    <tr>\n",
       "      <th>SJ전자</th>\n",
       "      <td>0.091779</td>\n",
       "      <td>1.000000</td>\n",
       "      <td>-0.001532</td>\n",
       "      <td>0.253515</td>\n",
       "      <td>0.092174</td>\n",
       "    </tr>\n",
       "    <tr>\n",
       "      <th>매크로소프트</th>\n",
       "      <td>-0.048563</td>\n",
       "      <td>-0.001532</td>\n",
       "      <td>1.000000</td>\n",
       "      <td>-0.055054</td>\n",
       "      <td>-0.039458</td>\n",
       "    </tr>\n",
       "    <tr>\n",
       "      <th>메론</th>\n",
       "      <td>-0.067439</td>\n",
       "      <td>0.253515</td>\n",
       "      <td>-0.055054</td>\n",
       "      <td>1.000000</td>\n",
       "      <td>0.172104</td>\n",
       "    </tr>\n",
       "    <tr>\n",
       "      <th>성주모직</th>\n",
       "      <td>-0.052294</td>\n",
       "      <td>0.092174</td>\n",
       "      <td>-0.039458</td>\n",
       "      <td>0.172104</td>\n",
       "      <td>1.000000</td>\n",
       "    </tr>\n",
       "  </tbody>\n",
       "</table>\n",
       "</div>"
      ],
      "text/plain": [
       "           코드베이직      SJ전자    매크로소프트        메론      성주모직\n",
       "코드베이직   1.000000  0.091779 -0.048563 -0.067439 -0.052294\n",
       "SJ전자    0.091779  1.000000 -0.001532  0.253515  0.092174\n",
       "매크로소프트 -0.048563 -0.001532  1.000000 -0.055054 -0.039458\n",
       "메론     -0.067439  0.253515 -0.055054  1.000000  0.172104\n",
       "성주모직   -0.052294  0.092174 -0.039458  0.172104  1.000000"
      ]
     },
     "execution_count": 408,
     "metadata": {},
     "output_type": "execute_result"
    }
   ],
   "source": [
    "# 종목별 가격 변화량 상관관계\n",
    "price_frame.pct_change().corr()"
   ]
  },
  {
   "cell_type": "code",
   "execution_count": 406,
   "metadata": {
    "collapsed": true
   },
   "outputs": [],
   "source": [
    "# TODO: 코드베이직과 가장 상관도가 높은 종목을 순서대로 두 개 표시한다."
   ]
  },
  {
   "cell_type": "markdown",
   "metadata": {},
   "source": [
    "## 정렬과 순위"
   ]
  },
  {
   "cell_type": "code",
   "execution_count": 323,
   "metadata": {
    "collapsed": false
   },
   "outputs": [
    {
     "data": {
      "text/plain": [
       "a    1\n",
       "b    2\n",
       "c    3\n",
       "d    0\n",
       "dtype: int64"
      ]
     },
     "execution_count": 323,
     "metadata": {},
     "output_type": "execute_result"
    }
   ],
   "source": [
    "Series(range(4), index=['d','a','b','c']).sort_index()"
   ]
  },
  {
   "cell_type": "code",
   "execution_count": 328,
   "metadata": {
    "collapsed": true
   },
   "outputs": [],
   "source": [
    "frame = DataFrame(np.arange(8).reshape(2,4),\n",
    "                 index=[u'다', u'가'],\n",
    "                 columns=['d','a','b','c'])"
   ]
  },
  {
   "cell_type": "code",
   "execution_count": 329,
   "metadata": {
    "collapsed": false
   },
   "outputs": [
    {
     "data": {
      "text/html": [
       "<div style=\"max-height:1000px;max-width:1500px;overflow:auto;\">\n",
       "<table border=\"1\" class=\"dataframe\">\n",
       "  <thead>\n",
       "    <tr style=\"text-align: right;\">\n",
       "      <th></th>\n",
       "      <th>d</th>\n",
       "      <th>a</th>\n",
       "      <th>b</th>\n",
       "      <th>c</th>\n",
       "    </tr>\n",
       "  </thead>\n",
       "  <tbody>\n",
       "    <tr>\n",
       "      <th>가</th>\n",
       "      <td>4</td>\n",
       "      <td>5</td>\n",
       "      <td>6</td>\n",
       "      <td>7</td>\n",
       "    </tr>\n",
       "    <tr>\n",
       "      <th>다</th>\n",
       "      <td>0</td>\n",
       "      <td>1</td>\n",
       "      <td>2</td>\n",
       "      <td>3</td>\n",
       "    </tr>\n",
       "  </tbody>\n",
       "</table>\n",
       "</div>"
      ],
      "text/plain": [
       "   d  a  b  c\n",
       "가  4  5  6  7\n",
       "다  0  1  2  3"
      ]
     },
     "execution_count": 329,
     "metadata": {},
     "output_type": "execute_result"
    }
   ],
   "source": [
    "frame.sort_index()"
   ]
  },
  {
   "cell_type": "code",
   "execution_count": 330,
   "metadata": {
    "collapsed": false
   },
   "outputs": [
    {
     "data": {
      "text/html": [
       "<div style=\"max-height:1000px;max-width:1500px;overflow:auto;\">\n",
       "<table border=\"1\" class=\"dataframe\">\n",
       "  <thead>\n",
       "    <tr style=\"text-align: right;\">\n",
       "      <th></th>\n",
       "      <th>a</th>\n",
       "      <th>b</th>\n",
       "      <th>c</th>\n",
       "      <th>d</th>\n",
       "    </tr>\n",
       "  </thead>\n",
       "  <tbody>\n",
       "    <tr>\n",
       "      <th>다</th>\n",
       "      <td>1</td>\n",
       "      <td>2</td>\n",
       "      <td>3</td>\n",
       "      <td>0</td>\n",
       "    </tr>\n",
       "    <tr>\n",
       "      <th>가</th>\n",
       "      <td>5</td>\n",
       "      <td>6</td>\n",
       "      <td>7</td>\n",
       "      <td>4</td>\n",
       "    </tr>\n",
       "  </tbody>\n",
       "</table>\n",
       "</div>"
      ],
      "text/plain": [
       "   a  b  c  d\n",
       "다  1  2  3  0\n",
       "가  5  6  7  4"
      ]
     },
     "execution_count": 330,
     "metadata": {},
     "output_type": "execute_result"
    }
   ],
   "source": [
    "frame.sort_index(axis=1)"
   ]
  },
  {
   "cell_type": "markdown",
   "metadata": {},
   "source": [
    "행열을 동시에 (사실은 순차적으로) 정렬"
   ]
  },
  {
   "cell_type": "code",
   "execution_count": 327,
   "metadata": {
    "collapsed": false
   },
   "outputs": [
    {
     "data": {
      "text/html": [
       "<div style=\"max-height:1000px;max-width:1500px;overflow:auto;\">\n",
       "<table border=\"1\" class=\"dataframe\">\n",
       "  <thead>\n",
       "    <tr style=\"text-align: right;\">\n",
       "      <th></th>\n",
       "      <th>a</th>\n",
       "      <th>b</th>\n",
       "      <th>c</th>\n",
       "      <th>d</th>\n",
       "    </tr>\n",
       "  </thead>\n",
       "  <tbody>\n",
       "    <tr>\n",
       "      <th>가</th>\n",
       "      <td>5</td>\n",
       "      <td>6</td>\n",
       "      <td>7</td>\n",
       "      <td>4</td>\n",
       "    </tr>\n",
       "    <tr>\n",
       "      <th>다</th>\n",
       "      <td>1</td>\n",
       "      <td>2</td>\n",
       "      <td>3</td>\n",
       "      <td>0</td>\n",
       "    </tr>\n",
       "  </tbody>\n",
       "</table>\n",
       "</div>"
      ],
      "text/plain": [
       "   a  b  c  d\n",
       "가  5  6  7  4\n",
       "다  1  2  3  0"
      ]
     },
     "execution_count": 327,
     "metadata": {},
     "output_type": "execute_result"
    }
   ],
   "source": [
    "frame.sort_index().sort_index(axis=1)"
   ]
  },
  {
   "cell_type": "code",
   "execution_count": 331,
   "metadata": {
    "collapsed": false
   },
   "outputs": [
    {
     "data": {
      "text/html": [
       "<div style=\"max-height:1000px;max-width:1500px;overflow:auto;\">\n",
       "<table border=\"1\" class=\"dataframe\">\n",
       "  <thead>\n",
       "    <tr style=\"text-align: right;\">\n",
       "      <th></th>\n",
       "      <th>d</th>\n",
       "      <th>c</th>\n",
       "      <th>b</th>\n",
       "      <th>a</th>\n",
       "    </tr>\n",
       "  </thead>\n",
       "  <tbody>\n",
       "    <tr>\n",
       "      <th>다</th>\n",
       "      <td>0</td>\n",
       "      <td>3</td>\n",
       "      <td>2</td>\n",
       "      <td>1</td>\n",
       "    </tr>\n",
       "    <tr>\n",
       "      <th>가</th>\n",
       "      <td>4</td>\n",
       "      <td>7</td>\n",
       "      <td>6</td>\n",
       "      <td>5</td>\n",
       "    </tr>\n",
       "  </tbody>\n",
       "</table>\n",
       "</div>"
      ],
      "text/plain": [
       "   d  c  b  a\n",
       "다  0  3  2  1\n",
       "가  4  7  6  5"
      ]
     },
     "execution_count": 331,
     "metadata": {},
     "output_type": "execute_result"
    }
   ],
   "source": [
    "frame.sort_index(axis=1, ascending=False)"
   ]
  },
  {
   "cell_type": "code",
   "execution_count": 334,
   "metadata": {
    "collapsed": false
   },
   "outputs": [
    {
     "data": {
      "text/plain": [
       "1    0\n",
       "4    1\n",
       "3    3\n",
       "0    8\n",
       "2    8\n",
       "dtype: int64"
      ]
     },
     "execution_count": 334,
     "metadata": {},
     "output_type": "execute_result"
    }
   ],
   "source": [
    "Series(np.random.randint(10, size=5)).order()"
   ]
  },
  {
   "cell_type": "code",
   "execution_count": 335,
   "metadata": {
    "collapsed": false
   },
   "outputs": [
    {
     "data": {
      "text/plain": [
       "4    -3\n",
       "5     2\n",
       "0     4\n",
       "2     7\n",
       "1   NaN\n",
       "3   NaN\n",
       "dtype: float64"
      ]
     },
     "execution_count": 335,
     "metadata": {},
     "output_type": "execute_result"
    }
   ],
   "source": [
    "Series([4, np.nan, 7, np.nan, -3, 2]).order()"
   ]
  },
  {
   "cell_type": "code",
   "execution_count": 336,
   "metadata": {
    "collapsed": false
   },
   "outputs": [
    {
     "data": {
      "text/html": [
       "<div style=\"max-height:1000px;max-width:1500px;overflow:auto;\">\n",
       "<table border=\"1\" class=\"dataframe\">\n",
       "  <thead>\n",
       "    <tr style=\"text-align: right;\">\n",
       "      <th></th>\n",
       "      <th>a</th>\n",
       "      <th>b</th>\n",
       "    </tr>\n",
       "  </thead>\n",
       "  <tbody>\n",
       "    <tr>\n",
       "      <th>0</th>\n",
       "      <td>0</td>\n",
       "      <td>4</td>\n",
       "    </tr>\n",
       "    <tr>\n",
       "      <th>1</th>\n",
       "      <td>1</td>\n",
       "      <td>-7</td>\n",
       "    </tr>\n",
       "    <tr>\n",
       "      <th>2</th>\n",
       "      <td>0</td>\n",
       "      <td>-3</td>\n",
       "    </tr>\n",
       "    <tr>\n",
       "      <th>3</th>\n",
       "      <td>1</td>\n",
       "      <td>2</td>\n",
       "    </tr>\n",
       "  </tbody>\n",
       "</table>\n",
       "</div>"
      ],
      "text/plain": [
       "   a  b\n",
       "0  0  4\n",
       "1  1 -7\n",
       "2  0 -3\n",
       "3  1  2"
      ]
     },
     "execution_count": 336,
     "metadata": {},
     "output_type": "execute_result"
    }
   ],
   "source": [
    "frame = DataFrame({'b': [4,-7,-3,2], 'a':[0,1,0,1]})\n",
    "frame"
   ]
  },
  {
   "cell_type": "code",
   "execution_count": 337,
   "metadata": {
    "collapsed": false
   },
   "outputs": [
    {
     "data": {
      "text/html": [
       "<div style=\"max-height:1000px;max-width:1500px;overflow:auto;\">\n",
       "<table border=\"1\" class=\"dataframe\">\n",
       "  <thead>\n",
       "    <tr style=\"text-align: right;\">\n",
       "      <th></th>\n",
       "      <th>a</th>\n",
       "      <th>b</th>\n",
       "    </tr>\n",
       "  </thead>\n",
       "  <tbody>\n",
       "    <tr>\n",
       "      <th>1</th>\n",
       "      <td>1</td>\n",
       "      <td>-7</td>\n",
       "    </tr>\n",
       "    <tr>\n",
       "      <th>2</th>\n",
       "      <td>0</td>\n",
       "      <td>-3</td>\n",
       "    </tr>\n",
       "    <tr>\n",
       "      <th>3</th>\n",
       "      <td>1</td>\n",
       "      <td>2</td>\n",
       "    </tr>\n",
       "    <tr>\n",
       "      <th>0</th>\n",
       "      <td>0</td>\n",
       "      <td>4</td>\n",
       "    </tr>\n",
       "  </tbody>\n",
       "</table>\n",
       "</div>"
      ],
      "text/plain": [
       "   a  b\n",
       "1  1 -7\n",
       "2  0 -3\n",
       "3  1  2\n",
       "0  0  4"
      ]
     },
     "execution_count": 337,
     "metadata": {},
     "output_type": "execute_result"
    }
   ],
   "source": [
    "frame.sort_index(by='b')"
   ]
  },
  {
   "cell_type": "code",
   "execution_count": 339,
   "metadata": {
    "collapsed": false
   },
   "outputs": [
    {
     "data": {
      "text/html": [
       "<div style=\"max-height:1000px;max-width:1500px;overflow:auto;\">\n",
       "<table border=\"1\" class=\"dataframe\">\n",
       "  <thead>\n",
       "    <tr style=\"text-align: right;\">\n",
       "      <th></th>\n",
       "      <th>a</th>\n",
       "      <th>b</th>\n",
       "    </tr>\n",
       "  </thead>\n",
       "  <tbody>\n",
       "    <tr>\n",
       "      <th>1</th>\n",
       "      <td>1</td>\n",
       "      <td>-7</td>\n",
       "    </tr>\n",
       "    <tr>\n",
       "      <th>2</th>\n",
       "      <td>0</td>\n",
       "      <td>-3</td>\n",
       "    </tr>\n",
       "    <tr>\n",
       "      <th>3</th>\n",
       "      <td>1</td>\n",
       "      <td>2</td>\n",
       "    </tr>\n",
       "    <tr>\n",
       "      <th>0</th>\n",
       "      <td>0</td>\n",
       "      <td>4</td>\n",
       "    </tr>\n",
       "  </tbody>\n",
       "</table>\n",
       "</div>"
      ],
      "text/plain": [
       "   a  b\n",
       "1  1 -7\n",
       "2  0 -3\n",
       "3  1  2\n",
       "0  0  4"
      ]
     },
     "execution_count": 339,
     "metadata": {},
     "output_type": "execute_result"
    }
   ],
   "source": [
    "frame.sort_index(by=['b', 'a'])"
   ]
  },
  {
   "cell_type": "code",
   "execution_count": 349,
   "metadata": {
    "collapsed": false
   },
   "outputs": [
    {
     "data": {
      "text/plain": [
       "0    7\n",
       "1   -5\n",
       "2    7\n",
       "3    4\n",
       "4    2\n",
       "5    0\n",
       "6    4\n",
       "7    7\n",
       "dtype: int64"
      ]
     },
     "execution_count": 349,
     "metadata": {},
     "output_type": "execute_result"
    }
   ],
   "source": [
    "sr = Series([7, -5, 7, 4, 2, 0, 4, 7])\n",
    "sr"
   ]
  },
  {
   "cell_type": "code",
   "execution_count": 348,
   "metadata": {
    "collapsed": false
   },
   "outputs": [
    {
     "data": {
      "text/plain": [
       "0    7.0\n",
       "1    1.0\n",
       "2    7.0\n",
       "3    4.5\n",
       "4    3.0\n",
       "5    2.0\n",
       "6    4.5\n",
       "7    7.0\n",
       "dtype: float64"
      ]
     },
     "execution_count": 348,
     "metadata": {},
     "output_type": "execute_result"
    }
   ],
   "source": [
    "sr.rank()"
   ]
  },
  {
   "cell_type": "code",
   "execution_count": 350,
   "metadata": {
    "collapsed": false
   },
   "outputs": [
    {
     "data": {
      "text/plain": [
       "0    6\n",
       "1    1\n",
       "2    7\n",
       "3    4\n",
       "4    3\n",
       "5    2\n",
       "6    5\n",
       "7    8\n",
       "dtype: float64"
      ]
     },
     "execution_count": 350,
     "metadata": {},
     "output_type": "execute_result"
    }
   ],
   "source": [
    "sr.rank(method='first')"
   ]
  },
  {
   "cell_type": "code",
   "execution_count": 351,
   "metadata": {
    "collapsed": false
   },
   "outputs": [
    {
     "data": {
      "text/plain": [
       "0    3\n",
       "1    8\n",
       "2    3\n",
       "3    5\n",
       "4    6\n",
       "5    7\n",
       "6    5\n",
       "7    3\n",
       "dtype: float64"
      ]
     },
     "execution_count": 351,
     "metadata": {},
     "output_type": "execute_result"
    }
   ],
   "source": [
    "sr.rank(ascending=False, method='max')"
   ]
  },
  {
   "cell_type": "code",
   "execution_count": 344,
   "metadata": {
    "collapsed": false
   },
   "outputs": [
    {
     "data": {
      "text/html": [
       "<div style=\"max-height:1000px;max-width:1500px;overflow:auto;\">\n",
       "<table border=\"1\" class=\"dataframe\">\n",
       "  <thead>\n",
       "    <tr style=\"text-align: right;\">\n",
       "      <th></th>\n",
       "      <th>a</th>\n",
       "      <th>b</th>\n",
       "      <th>c</th>\n",
       "    </tr>\n",
       "  </thead>\n",
       "  <tbody>\n",
       "    <tr>\n",
       "      <th>0</th>\n",
       "      <td>0</td>\n",
       "      <td>4.3</td>\n",
       "      <td>-2.0</td>\n",
       "    </tr>\n",
       "    <tr>\n",
       "      <th>1</th>\n",
       "      <td>1</td>\n",
       "      <td>7.0</td>\n",
       "      <td>5.0</td>\n",
       "    </tr>\n",
       "    <tr>\n",
       "      <th>2</th>\n",
       "      <td>0</td>\n",
       "      <td>-3.0</td>\n",
       "      <td>8.0</td>\n",
       "    </tr>\n",
       "    <tr>\n",
       "      <th>3</th>\n",
       "      <td>1</td>\n",
       "      <td>2.0</td>\n",
       "      <td>-2.5</td>\n",
       "    </tr>\n",
       "  </tbody>\n",
       "</table>\n",
       "</div>"
      ],
      "text/plain": [
       "   a    b    c\n",
       "0  0  4.3 -2.0\n",
       "1  1  7.0  5.0\n",
       "2  0 -3.0  8.0\n",
       "3  1  2.0 -2.5"
      ]
     },
     "execution_count": 344,
     "metadata": {},
     "output_type": "execute_result"
    }
   ],
   "source": [
    "frame = DataFrame({'b': [4.3, 7, -3, 2],\n",
    "                  'a': [0,1,0,1],\n",
    "                  'c': [-2,5,8,-2.5]})\n",
    "frame"
   ]
  },
  {
   "cell_type": "code",
   "execution_count": 345,
   "metadata": {
    "collapsed": false,
    "scrolled": true
   },
   "outputs": [
    {
     "data": {
      "text/html": [
       "<div style=\"max-height:1000px;max-width:1500px;overflow:auto;\">\n",
       "<table border=\"1\" class=\"dataframe\">\n",
       "  <thead>\n",
       "    <tr style=\"text-align: right;\">\n",
       "      <th></th>\n",
       "      <th>a</th>\n",
       "      <th>b</th>\n",
       "      <th>c</th>\n",
       "    </tr>\n",
       "  </thead>\n",
       "  <tbody>\n",
       "    <tr>\n",
       "      <th>0</th>\n",
       "      <td>2</td>\n",
       "      <td>3</td>\n",
       "      <td>1</td>\n",
       "    </tr>\n",
       "    <tr>\n",
       "      <th>1</th>\n",
       "      <td>1</td>\n",
       "      <td>3</td>\n",
       "      <td>2</td>\n",
       "    </tr>\n",
       "    <tr>\n",
       "      <th>2</th>\n",
       "      <td>2</td>\n",
       "      <td>1</td>\n",
       "      <td>3</td>\n",
       "    </tr>\n",
       "    <tr>\n",
       "      <th>3</th>\n",
       "      <td>2</td>\n",
       "      <td>3</td>\n",
       "      <td>1</td>\n",
       "    </tr>\n",
       "  </tbody>\n",
       "</table>\n",
       "</div>"
      ],
      "text/plain": [
       "   a  b  c\n",
       "0  2  3  1\n",
       "1  1  3  2\n",
       "2  2  1  3\n",
       "3  2  3  1"
      ]
     },
     "execution_count": 345,
     "metadata": {},
     "output_type": "execute_result"
    }
   ],
   "source": [
    "frame.rank(axis=1)"
   ]
  },
  {
   "cell_type": "markdown",
   "metadata": {},
   "source": [
    "## 중복 색인"
   ]
  },
  {
   "cell_type": "code",
   "execution_count": 372,
   "metadata": {
    "collapsed": false
   },
   "outputs": [
    {
     "data": {
      "text/plain": [
       "a    0\n",
       "a    1\n",
       "b    2\n",
       "b    3\n",
       "c    4\n",
       "dtype: int64"
      ]
     },
     "execution_count": 372,
     "metadata": {},
     "output_type": "execute_result"
    }
   ],
   "source": [
    "obj = Series(range(5), index=['a','a','b','b','c'])\n",
    "obj"
   ]
  },
  {
   "cell_type": "code",
   "execution_count": 373,
   "metadata": {
    "collapsed": false
   },
   "outputs": [
    {
     "data": {
      "text/plain": [
       "False"
      ]
     },
     "execution_count": 373,
     "metadata": {},
     "output_type": "execute_result"
    }
   ],
   "source": [
    "obj.index.is_unique"
   ]
  },
  {
   "cell_type": "code",
   "execution_count": 374,
   "metadata": {
    "collapsed": false
   },
   "outputs": [
    {
     "data": {
      "text/plain": [
       "a    0\n",
       "a    1\n",
       "dtype: int64"
      ]
     },
     "execution_count": 374,
     "metadata": {},
     "output_type": "execute_result"
    }
   ],
   "source": [
    "obj['a']"
   ]
  },
  {
   "cell_type": "code",
   "execution_count": 375,
   "metadata": {
    "collapsed": false
   },
   "outputs": [
    {
     "data": {
      "text/plain": [
       "4"
      ]
     },
     "execution_count": 375,
     "metadata": {},
     "output_type": "execute_result"
    }
   ],
   "source": [
    "obj['c']"
   ]
  },
  {
   "cell_type": "code",
   "execution_count": 376,
   "metadata": {
    "collapsed": false
   },
   "outputs": [
    {
     "data": {
      "text/html": [
       "<div style=\"max-height:1000px;max-width:1500px;overflow:auto;\">\n",
       "<table border=\"1\" class=\"dataframe\">\n",
       "  <thead>\n",
       "    <tr style=\"text-align: right;\">\n",
       "      <th></th>\n",
       "      <th>0</th>\n",
       "      <th>1</th>\n",
       "      <th>2</th>\n",
       "    </tr>\n",
       "  </thead>\n",
       "  <tbody>\n",
       "    <tr>\n",
       "      <th>a</th>\n",
       "      <td>-0.882303</td>\n",
       "      <td>-1.711796</td>\n",
       "      <td>-0.020002</td>\n",
       "    </tr>\n",
       "    <tr>\n",
       "      <th>a</th>\n",
       "      <td>-1.530863</td>\n",
       "      <td>0.446040</td>\n",
       "      <td>-0.221814</td>\n",
       "    </tr>\n",
       "    <tr>\n",
       "      <th>b</th>\n",
       "      <td>-0.101324</td>\n",
       "      <td>1.749098</td>\n",
       "      <td>1.102842</td>\n",
       "    </tr>\n",
       "    <tr>\n",
       "      <th>b</th>\n",
       "      <td>-0.129260</td>\n",
       "      <td>0.232342</td>\n",
       "      <td>0.925445</td>\n",
       "    </tr>\n",
       "  </tbody>\n",
       "</table>\n",
       "</div>"
      ],
      "text/plain": [
       "          0         1         2\n",
       "a -0.882303 -1.711796 -0.020002\n",
       "a -1.530863  0.446040 -0.221814\n",
       "b -0.101324  1.749098  1.102842\n",
       "b -0.129260  0.232342  0.925445"
      ]
     },
     "execution_count": 376,
     "metadata": {},
     "output_type": "execute_result"
    }
   ],
   "source": [
    "df = DataFrame(np.random.randn(4,3), index=['a','a','b','b'])\n",
    "df"
   ]
  },
  {
   "cell_type": "code",
   "execution_count": 378,
   "metadata": {
    "collapsed": false
   },
   "outputs": [
    {
     "data": {
      "text/plain": [
       "False"
      ]
     },
     "execution_count": 378,
     "metadata": {},
     "output_type": "execute_result"
    }
   ],
   "source": [
    "df.index.is_unique"
   ]
  },
  {
   "cell_type": "code",
   "execution_count": 379,
   "metadata": {
    "collapsed": false
   },
   "outputs": [
    {
     "data": {
      "text/plain": [
       "True"
      ]
     },
     "execution_count": 379,
     "metadata": {},
     "output_type": "execute_result"
    }
   ],
   "source": [
    "df.columns.is_unique"
   ]
  },
  {
   "cell_type": "code",
   "execution_count": 377,
   "metadata": {
    "collapsed": false
   },
   "outputs": [
    {
     "data": {
      "text/html": [
       "<div style=\"max-height:1000px;max-width:1500px;overflow:auto;\">\n",
       "<table border=\"1\" class=\"dataframe\">\n",
       "  <thead>\n",
       "    <tr style=\"text-align: right;\">\n",
       "      <th></th>\n",
       "      <th>0</th>\n",
       "      <th>1</th>\n",
       "      <th>2</th>\n",
       "    </tr>\n",
       "  </thead>\n",
       "  <tbody>\n",
       "    <tr>\n",
       "      <th>b</th>\n",
       "      <td>-0.101324</td>\n",
       "      <td>1.749098</td>\n",
       "      <td>1.102842</td>\n",
       "    </tr>\n",
       "    <tr>\n",
       "      <th>b</th>\n",
       "      <td>-0.129260</td>\n",
       "      <td>0.232342</td>\n",
       "      <td>0.925445</td>\n",
       "    </tr>\n",
       "  </tbody>\n",
       "</table>\n",
       "</div>"
      ],
      "text/plain": [
       "          0         1         2\n",
       "b -0.101324  1.749098  1.102842\n",
       "b -0.129260  0.232342  0.925445"
      ]
     },
     "execution_count": 377,
     "metadata": {},
     "output_type": "execute_result"
    }
   ],
   "source": [
    "df.ix['b']"
   ]
  },
  {
   "cell_type": "markdown",
   "metadata": {},
   "source": [
    "## 기술통계 계산과 요약"
   ]
  },
  {
   "cell_type": "code",
   "execution_count": 380,
   "metadata": {
    "collapsed": false
   },
   "outputs": [
    {
     "data": {
      "text/html": [
       "<div style=\"max-height:1000px;max-width:1500px;overflow:auto;\">\n",
       "<table border=\"1\" class=\"dataframe\">\n",
       "  <thead>\n",
       "    <tr style=\"text-align: right;\">\n",
       "      <th></th>\n",
       "      <th>one</th>\n",
       "      <th>two</th>\n",
       "    </tr>\n",
       "  </thead>\n",
       "  <tbody>\n",
       "    <tr>\n",
       "      <th>a</th>\n",
       "      <td>1.40</td>\n",
       "      <td>NaN</td>\n",
       "    </tr>\n",
       "    <tr>\n",
       "      <th>b</th>\n",
       "      <td>7.10</td>\n",
       "      <td>-4.5</td>\n",
       "    </tr>\n",
       "    <tr>\n",
       "      <th>c</th>\n",
       "      <td>NaN</td>\n",
       "      <td>NaN</td>\n",
       "    </tr>\n",
       "    <tr>\n",
       "      <th>d</th>\n",
       "      <td>0.75</td>\n",
       "      <td>-1.3</td>\n",
       "    </tr>\n",
       "  </tbody>\n",
       "</table>\n",
       "</div>"
      ],
      "text/plain": [
       "    one  two\n",
       "a  1.40  NaN\n",
       "b  7.10 -4.5\n",
       "c   NaN  NaN\n",
       "d  0.75 -1.3"
      ]
     },
     "execution_count": 380,
     "metadata": {},
     "output_type": "execute_result"
    }
   ],
   "source": [
    "df = DataFrame([[1.4, np.nan],[7.1, -4.5],\n",
    "               [np.nan, np.nan], [0.75, -1.3]],\n",
    "              index=list('abcd'),\n",
    "              columns=['one', 'two'])\n",
    "df"
   ]
  },
  {
   "cell_type": "code",
   "execution_count": 381,
   "metadata": {
    "collapsed": false
   },
   "outputs": [
    {
     "data": {
      "text/plain": [
       "one    9.25\n",
       "two   -5.80\n",
       "dtype: float64"
      ]
     },
     "execution_count": 381,
     "metadata": {},
     "output_type": "execute_result"
    }
   ],
   "source": [
    "df.sum()"
   ]
  },
  {
   "cell_type": "code",
   "execution_count": 382,
   "metadata": {
    "collapsed": false
   },
   "outputs": [
    {
     "data": {
      "text/plain": [
       "a    1.40\n",
       "b    2.60\n",
       "c     NaN\n",
       "d   -0.55\n",
       "dtype: float64"
      ]
     },
     "execution_count": 382,
     "metadata": {},
     "output_type": "execute_result"
    }
   ],
   "source": [
    "df.sum(axis=1)"
   ]
  },
  {
   "cell_type": "code",
   "execution_count": 385,
   "metadata": {
    "collapsed": false
   },
   "outputs": [
    {
     "data": {
      "text/plain": [
       "a    1.400\n",
       "b    1.300\n",
       "c      NaN\n",
       "d   -0.275\n",
       "dtype: float64"
      ]
     },
     "execution_count": 385,
     "metadata": {},
     "output_type": "execute_result"
    }
   ],
   "source": [
    "df.mean(axis=1)"
   ]
  },
  {
   "cell_type": "code",
   "execution_count": 383,
   "metadata": {
    "collapsed": false
   },
   "outputs": [
    {
     "data": {
      "text/plain": [
       "a      NaN\n",
       "b    1.300\n",
       "c      NaN\n",
       "d   -0.275\n",
       "dtype: float64"
      ]
     },
     "execution_count": 383,
     "metadata": {},
     "output_type": "execute_result"
    }
   ],
   "source": [
    "df.mean(axis=1, skipna=False)"
   ]
  },
  {
   "cell_type": "code",
   "execution_count": 386,
   "metadata": {
    "collapsed": false
   },
   "outputs": [
    {
     "data": {
      "text/plain": [
       "one    b\n",
       "two    d\n",
       "dtype: object"
      ]
     },
     "execution_count": 386,
     "metadata": {},
     "output_type": "execute_result"
    }
   ],
   "source": [
    "df.idxmax()"
   ]
  },
  {
   "cell_type": "code",
   "execution_count": 387,
   "metadata": {
    "collapsed": false
   },
   "outputs": [
    {
     "data": {
      "text/html": [
       "<div style=\"max-height:1000px;max-width:1500px;overflow:auto;\">\n",
       "<table border=\"1\" class=\"dataframe\">\n",
       "  <thead>\n",
       "    <tr style=\"text-align: right;\">\n",
       "      <th></th>\n",
       "      <th>one</th>\n",
       "      <th>two</th>\n",
       "    </tr>\n",
       "  </thead>\n",
       "  <tbody>\n",
       "    <tr>\n",
       "      <th>a</th>\n",
       "      <td>1.40</td>\n",
       "      <td>NaN</td>\n",
       "    </tr>\n",
       "    <tr>\n",
       "      <th>b</th>\n",
       "      <td>8.50</td>\n",
       "      <td>-4.5</td>\n",
       "    </tr>\n",
       "    <tr>\n",
       "      <th>c</th>\n",
       "      <td>NaN</td>\n",
       "      <td>NaN</td>\n",
       "    </tr>\n",
       "    <tr>\n",
       "      <th>d</th>\n",
       "      <td>9.25</td>\n",
       "      <td>-5.8</td>\n",
       "    </tr>\n",
       "  </tbody>\n",
       "</table>\n",
       "</div>"
      ],
      "text/plain": [
       "    one  two\n",
       "a  1.40  NaN\n",
       "b  8.50 -4.5\n",
       "c   NaN  NaN\n",
       "d  9.25 -5.8"
      ]
     },
     "execution_count": 387,
     "metadata": {},
     "output_type": "execute_result"
    }
   ],
   "source": [
    "df.cumsum()"
   ]
  },
  {
   "cell_type": "code",
   "execution_count": 390,
   "metadata": {
    "collapsed": false
   },
   "outputs": [
    {
     "data": {
      "text/html": [
       "<div style=\"max-height:1000px;max-width:1500px;overflow:auto;\">\n",
       "<table border=\"1\" class=\"dataframe\">\n",
       "  <thead>\n",
       "    <tr style=\"text-align: right;\">\n",
       "      <th></th>\n",
       "      <th>one</th>\n",
       "      <th>two</th>\n",
       "    </tr>\n",
       "  </thead>\n",
       "  <tbody>\n",
       "    <tr>\n",
       "      <th>a</th>\n",
       "      <td>1.400</td>\n",
       "      <td>NaN</td>\n",
       "    </tr>\n",
       "    <tr>\n",
       "      <th>b</th>\n",
       "      <td>9.940</td>\n",
       "      <td>-4.50</td>\n",
       "    </tr>\n",
       "    <tr>\n",
       "      <th>c</th>\n",
       "      <td>NaN</td>\n",
       "      <td>NaN</td>\n",
       "    </tr>\n",
       "    <tr>\n",
       "      <th>d</th>\n",
       "      <td>7.455</td>\n",
       "      <td>5.85</td>\n",
       "    </tr>\n",
       "  </tbody>\n",
       "</table>\n",
       "</div>"
      ],
      "text/plain": [
       "     one   two\n",
       "a  1.400   NaN\n",
       "b  9.940 -4.50\n",
       "c    NaN   NaN\n",
       "d  7.455  5.85"
      ]
     },
     "execution_count": 390,
     "metadata": {},
     "output_type": "execute_result"
    }
   ],
   "source": [
    "df.cumprod()"
   ]
  },
  {
   "cell_type": "code",
   "execution_count": 388,
   "metadata": {
    "collapsed": false
   },
   "outputs": [
    {
     "data": {
      "text/html": [
       "<div style=\"max-height:1000px;max-width:1500px;overflow:auto;\">\n",
       "<table border=\"1\" class=\"dataframe\">\n",
       "  <thead>\n",
       "    <tr style=\"text-align: right;\">\n",
       "      <th></th>\n",
       "      <th>one</th>\n",
       "      <th>two</th>\n",
       "    </tr>\n",
       "  </thead>\n",
       "  <tbody>\n",
       "    <tr>\n",
       "      <th>count</th>\n",
       "      <td>3.000000</td>\n",
       "      <td>2.000000</td>\n",
       "    </tr>\n",
       "    <tr>\n",
       "      <th>mean</th>\n",
       "      <td>3.083333</td>\n",
       "      <td>-2.900000</td>\n",
       "    </tr>\n",
       "    <tr>\n",
       "      <th>std</th>\n",
       "      <td>3.493685</td>\n",
       "      <td>2.262742</td>\n",
       "    </tr>\n",
       "    <tr>\n",
       "      <th>min</th>\n",
       "      <td>0.750000</td>\n",
       "      <td>-4.500000</td>\n",
       "    </tr>\n",
       "    <tr>\n",
       "      <th>25%</th>\n",
       "      <td>1.075000</td>\n",
       "      <td>-3.700000</td>\n",
       "    </tr>\n",
       "    <tr>\n",
       "      <th>50%</th>\n",
       "      <td>1.400000</td>\n",
       "      <td>-2.900000</td>\n",
       "    </tr>\n",
       "    <tr>\n",
       "      <th>75%</th>\n",
       "      <td>4.250000</td>\n",
       "      <td>-2.100000</td>\n",
       "    </tr>\n",
       "    <tr>\n",
       "      <th>max</th>\n",
       "      <td>7.100000</td>\n",
       "      <td>-1.300000</td>\n",
       "    </tr>\n",
       "  </tbody>\n",
       "</table>\n",
       "</div>"
      ],
      "text/plain": [
       "            one       two\n",
       "count  3.000000  2.000000\n",
       "mean   3.083333 -2.900000\n",
       "std    3.493685  2.262742\n",
       "min    0.750000 -4.500000\n",
       "25%    1.075000 -3.700000\n",
       "50%    1.400000 -2.900000\n",
       "75%    4.250000 -2.100000\n",
       "max    7.100000 -1.300000"
      ]
     },
     "execution_count": 388,
     "metadata": {},
     "output_type": "execute_result"
    }
   ],
   "source": [
    "df.describe()"
   ]
  },
  {
   "cell_type": "code",
   "execution_count": 389,
   "metadata": {
    "collapsed": false
   },
   "outputs": [
    {
     "data": {
      "text/plain": [
       "count     16\n",
       "unique     3\n",
       "top        a\n",
       "freq       8\n",
       "dtype: object"
      ]
     },
     "execution_count": 389,
     "metadata": {},
     "output_type": "execute_result"
    }
   ],
   "source": [
    "obj = Series(['a','a', 'b', 'c']*4)\n",
    "obj.describe()"
   ]
  },
  {
   "cell_type": "markdown",
   "metadata": {},
   "source": [
    "## 상관관계와 공분산"
   ]
  },
  {
   "cell_type": "code",
   "execution_count": 391,
   "metadata": {
    "collapsed": true
   },
   "outputs": [
    {
     "data": {
      "text/html": [
       "<div style=\"max-height:1000px;max-width:1500px;overflow:auto;\">\n",
       "<table border=\"1\" class=\"dataframe\">\n",
       "  <thead>\n",
       "    <tr style=\"text-align: right;\">\n",
       "      <th></th>\n",
       "      <th>Open</th>\n",
       "      <th>High</th>\n",
       "      <th>Low</th>\n",
       "      <th>Close</th>\n",
       "      <th>Volume</th>\n",
       "    </tr>\n",
       "    <tr>\n",
       "      <th>Date</th>\n",
       "      <th></th>\n",
       "      <th></th>\n",
       "      <th></th>\n",
       "      <th></th>\n",
       "      <th></th>\n",
       "    </tr>\n",
       "  </thead>\n",
       "  <tbody>\n",
       "    <tr>\n",
       "      <th>2004-08-19</th>\n",
       "      <td>49.96</td>\n",
       "      <td>51.98</td>\n",
       "      <td>47.93</td>\n",
       "      <td>50.12</td>\n",
       "      <td>NaN</td>\n",
       "    </tr>\n",
       "    <tr>\n",
       "      <th>2004-08-20</th>\n",
       "      <td>50.69</td>\n",
       "      <td>54.49</td>\n",
       "      <td>50.20</td>\n",
       "      <td>54.10</td>\n",
       "      <td>NaN</td>\n",
       "    </tr>\n",
       "    <tr>\n",
       "      <th>2004-08-23</th>\n",
       "      <td>55.32</td>\n",
       "      <td>56.68</td>\n",
       "      <td>54.47</td>\n",
       "      <td>54.65</td>\n",
       "      <td>NaN</td>\n",
       "    </tr>\n",
       "    <tr>\n",
       "      <th>2004-08-24</th>\n",
       "      <td>55.56</td>\n",
       "      <td>55.74</td>\n",
       "      <td>51.73</td>\n",
       "      <td>52.38</td>\n",
       "      <td>NaN</td>\n",
       "    </tr>\n",
       "    <tr>\n",
       "      <th>2004-08-25</th>\n",
       "      <td>52.43</td>\n",
       "      <td>53.95</td>\n",
       "      <td>51.89</td>\n",
       "      <td>52.95</td>\n",
       "      <td>NaN</td>\n",
       "    </tr>\n",
       "    <tr>\n",
       "      <th>2004-08-26</th>\n",
       "      <td>52.42</td>\n",
       "      <td>53.92</td>\n",
       "      <td>52.28</td>\n",
       "      <td>53.90</td>\n",
       "      <td>NaN</td>\n",
       "    </tr>\n",
       "    <tr>\n",
       "      <th>2004-08-27</th>\n",
       "      <td>54.00</td>\n",
       "      <td>54.26</td>\n",
       "      <td>52.79</td>\n",
       "      <td>53.02</td>\n",
       "      <td>NaN</td>\n",
       "    </tr>\n",
       "    <tr>\n",
       "      <th>2004-08-30</th>\n",
       "      <td>52.69</td>\n",
       "      <td>52.69</td>\n",
       "      <td>50.95</td>\n",
       "      <td>50.95</td>\n",
       "      <td>NaN</td>\n",
       "    </tr>\n",
       "    <tr>\n",
       "      <th>2004-08-31</th>\n",
       "      <td>51.11</td>\n",
       "      <td>51.80</td>\n",
       "      <td>51.03</td>\n",
       "      <td>51.13</td>\n",
       "      <td>NaN</td>\n",
       "    </tr>\n",
       "    <tr>\n",
       "      <th>2004-09-01</th>\n",
       "      <td>51.30</td>\n",
       "      <td>51.43</td>\n",
       "      <td>49.79</td>\n",
       "      <td>50.07</td>\n",
       "      <td>NaN</td>\n",
       "    </tr>\n",
       "    <tr>\n",
       "      <th>2004-09-02</th>\n",
       "      <td>49.50</td>\n",
       "      <td>51.13</td>\n",
       "      <td>49.42</td>\n",
       "      <td>50.70</td>\n",
       "      <td>NaN</td>\n",
       "    </tr>\n",
       "    <tr>\n",
       "      <th>2004-09-03</th>\n",
       "      <td>50.42</td>\n",
       "      <td>50.82</td>\n",
       "      <td>49.61</td>\n",
       "      <td>49.95</td>\n",
       "      <td>NaN</td>\n",
       "    </tr>\n",
       "    <tr>\n",
       "      <th>2004-09-07</th>\n",
       "      <td>50.45</td>\n",
       "      <td>50.95</td>\n",
       "      <td>49.76</td>\n",
       "      <td>50.74</td>\n",
       "      <td>NaN</td>\n",
       "    </tr>\n",
       "    <tr>\n",
       "      <th>2004-09-08</th>\n",
       "      <td>50.32</td>\n",
       "      <td>51.46</td>\n",
       "      <td>50.20</td>\n",
       "      <td>51.10</td>\n",
       "      <td>NaN</td>\n",
       "    </tr>\n",
       "    <tr>\n",
       "      <th>2004-09-09</th>\n",
       "      <td>51.20</td>\n",
       "      <td>51.30</td>\n",
       "      <td>50.45</td>\n",
       "      <td>51.10</td>\n",
       "      <td>NaN</td>\n",
       "    </tr>\n",
       "    <tr>\n",
       "      <th>2004-09-10</th>\n",
       "      <td>50.75</td>\n",
       "      <td>53.23</td>\n",
       "      <td>50.60</td>\n",
       "      <td>52.61</td>\n",
       "      <td>NaN</td>\n",
       "    </tr>\n",
       "    <tr>\n",
       "      <th>2004-09-13</th>\n",
       "      <td>53.26</td>\n",
       "      <td>54.15</td>\n",
       "      <td>53.18</td>\n",
       "      <td>53.70</td>\n",
       "      <td>NaN</td>\n",
       "    </tr>\n",
       "    <tr>\n",
       "      <th>2004-09-14</th>\n",
       "      <td>53.67</td>\n",
       "      <td>55.94</td>\n",
       "      <td>53.34</td>\n",
       "      <td>55.69</td>\n",
       "      <td>NaN</td>\n",
       "    </tr>\n",
       "    <tr>\n",
       "      <th>2004-09-15</th>\n",
       "      <td>55.22</td>\n",
       "      <td>57.06</td>\n",
       "      <td>55.04</td>\n",
       "      <td>55.94</td>\n",
       "      <td>NaN</td>\n",
       "    </tr>\n",
       "    <tr>\n",
       "      <th>2004-09-16</th>\n",
       "      <td>56.11</td>\n",
       "      <td>57.84</td>\n",
       "      <td>55.77</td>\n",
       "      <td>56.93</td>\n",
       "      <td>NaN</td>\n",
       "    </tr>\n",
       "    <tr>\n",
       "      <th>2004-09-17</th>\n",
       "      <td>57.15</td>\n",
       "      <td>58.69</td>\n",
       "      <td>56.72</td>\n",
       "      <td>58.69</td>\n",
       "      <td>NaN</td>\n",
       "    </tr>\n",
       "    <tr>\n",
       "      <th>2004-09-20</th>\n",
       "      <td>58.42</td>\n",
       "      <td>60.74</td>\n",
       "      <td>58.33</td>\n",
       "      <td>59.62</td>\n",
       "      <td>NaN</td>\n",
       "    </tr>\n",
       "    <tr>\n",
       "      <th>2004-09-21</th>\n",
       "      <td>60.04</td>\n",
       "      <td>60.15</td>\n",
       "      <td>58.70</td>\n",
       "      <td>58.86</td>\n",
       "      <td>NaN</td>\n",
       "    </tr>\n",
       "    <tr>\n",
       "      <th>2004-09-22</th>\n",
       "      <td>58.67</td>\n",
       "      <td>59.78</td>\n",
       "      <td>58.35</td>\n",
       "      <td>59.13</td>\n",
       "      <td>NaN</td>\n",
       "    </tr>\n",
       "    <tr>\n",
       "      <th>2004-09-23</th>\n",
       "      <td>59.36</td>\n",
       "      <td>61.25</td>\n",
       "      <td>58.45</td>\n",
       "      <td>60.35</td>\n",
       "      <td>NaN</td>\n",
       "    </tr>\n",
       "    <tr>\n",
       "      <th>2004-09-24</th>\n",
       "      <td>60.42</td>\n",
       "      <td>61.99</td>\n",
       "      <td>59.82</td>\n",
       "      <td>59.86</td>\n",
       "      <td>NaN</td>\n",
       "    </tr>\n",
       "    <tr>\n",
       "      <th>2004-09-27</th>\n",
       "      <td>59.72</td>\n",
       "      <td>60.38</td>\n",
       "      <td>58.84</td>\n",
       "      <td>59.07</td>\n",
       "      <td>NaN</td>\n",
       "    </tr>\n",
       "    <tr>\n",
       "      <th>2004-09-28</th>\n",
       "      <td>60.51</td>\n",
       "      <td>63.64</td>\n",
       "      <td>60.04</td>\n",
       "      <td>63.37</td>\n",
       "      <td>NaN</td>\n",
       "    </tr>\n",
       "    <tr>\n",
       "      <th>2004-09-29</th>\n",
       "      <td>63.20</td>\n",
       "      <td>67.44</td>\n",
       "      <td>63.05</td>\n",
       "      <td>65.47</td>\n",
       "      <td>NaN</td>\n",
       "    </tr>\n",
       "    <tr>\n",
       "      <th>2004-09-30</th>\n",
       "      <td>64.88</td>\n",
       "      <td>66.08</td>\n",
       "      <td>64.44</td>\n",
       "      <td>64.74</td>\n",
       "      <td>NaN</td>\n",
       "    </tr>\n",
       "    <tr>\n",
       "      <th>...</th>\n",
       "      <td>...</td>\n",
       "      <td>...</td>\n",
       "      <td>...</td>\n",
       "      <td>...</td>\n",
       "      <td>...</td>\n",
       "    </tr>\n",
       "    <tr>\n",
       "      <th>2009-11-18</th>\n",
       "      <td>288.04</td>\n",
       "      <td>289.10</td>\n",
       "      <td>285.75</td>\n",
       "      <td>288.04</td>\n",
       "      <td>NaN</td>\n",
       "    </tr>\n",
       "    <tr>\n",
       "      <th>2009-11-19</th>\n",
       "      <td>286.60</td>\n",
       "      <td>286.71</td>\n",
       "      <td>284.72</td>\n",
       "      <td>286.21</td>\n",
       "      <td>NaN</td>\n",
       "    </tr>\n",
       "    <tr>\n",
       "      <th>2009-11-20</th>\n",
       "      <td>284.46</td>\n",
       "      <td>285.51</td>\n",
       "      <td>284.42</td>\n",
       "      <td>284.70</td>\n",
       "      <td>NaN</td>\n",
       "    </tr>\n",
       "    <tr>\n",
       "      <th>2009-11-23</th>\n",
       "      <td>287.96</td>\n",
       "      <td>293.01</td>\n",
       "      <td>287.64</td>\n",
       "      <td>290.88</td>\n",
       "      <td>NaN</td>\n",
       "    </tr>\n",
       "    <tr>\n",
       "      <th>2009-11-24</th>\n",
       "      <td>290.96</td>\n",
       "      <td>291.85</td>\n",
       "      <td>287.98</td>\n",
       "      <td>291.25</td>\n",
       "      <td>NaN</td>\n",
       "    </tr>\n",
       "    <tr>\n",
       "      <th>2009-11-25</th>\n",
       "      <td>292.91</td>\n",
       "      <td>293.24</td>\n",
       "      <td>291.05</td>\n",
       "      <td>292.58</td>\n",
       "      <td>NaN</td>\n",
       "    </tr>\n",
       "    <tr>\n",
       "      <th>2009-11-27</th>\n",
       "      <td>285.71</td>\n",
       "      <td>290.94</td>\n",
       "      <td>285.20</td>\n",
       "      <td>289.59</td>\n",
       "      <td>NaN</td>\n",
       "    </tr>\n",
       "    <tr>\n",
       "      <th>2009-11-30</th>\n",
       "      <td>290.02</td>\n",
       "      <td>291.54</td>\n",
       "      <td>288.27</td>\n",
       "      <td>291.21</td>\n",
       "      <td>NaN</td>\n",
       "    </tr>\n",
       "    <tr>\n",
       "      <th>2009-12-01</th>\n",
       "      <td>293.77</td>\n",
       "      <td>295.31</td>\n",
       "      <td>291.21</td>\n",
       "      <td>294.64</td>\n",
       "      <td>NaN</td>\n",
       "    </tr>\n",
       "    <tr>\n",
       "      <th>2009-12-02</th>\n",
       "      <td>295.19</td>\n",
       "      <td>296.21</td>\n",
       "      <td>292.82</td>\n",
       "      <td>293.46</td>\n",
       "      <td>NaN</td>\n",
       "    </tr>\n",
       "    <tr>\n",
       "      <th>2009-12-03</th>\n",
       "      <td>294.23</td>\n",
       "      <td>295.43</td>\n",
       "      <td>292.21</td>\n",
       "      <td>292.58</td>\n",
       "      <td>NaN</td>\n",
       "    </tr>\n",
       "    <tr>\n",
       "      <th>2009-12-04</th>\n",
       "      <td>296.21</td>\n",
       "      <td>297.12</td>\n",
       "      <td>289.30</td>\n",
       "      <td>292.21</td>\n",
       "      <td>NaN</td>\n",
       "    </tr>\n",
       "    <tr>\n",
       "      <th>2009-12-07</th>\n",
       "      <td>291.82</td>\n",
       "      <td>294.05</td>\n",
       "      <td>290.21</td>\n",
       "      <td>292.83</td>\n",
       "      <td>NaN</td>\n",
       "    </tr>\n",
       "    <tr>\n",
       "      <th>2009-12-08</th>\n",
       "      <td>291.46</td>\n",
       "      <td>295.03</td>\n",
       "      <td>290.71</td>\n",
       "      <td>293.23</td>\n",
       "      <td>NaN</td>\n",
       "    </tr>\n",
       "    <tr>\n",
       "      <th>2009-12-09</th>\n",
       "      <td>293.46</td>\n",
       "      <td>294.37</td>\n",
       "      <td>291.50</td>\n",
       "      <td>294.22</td>\n",
       "      <td>NaN</td>\n",
       "    </tr>\n",
       "    <tr>\n",
       "      <th>2009-12-10</th>\n",
       "      <td>294.92</td>\n",
       "      <td>297.06</td>\n",
       "      <td>294.91</td>\n",
       "      <td>295.45</td>\n",
       "      <td>NaN</td>\n",
       "    </tr>\n",
       "    <tr>\n",
       "      <th>2009-12-11</th>\n",
       "      <td>297.04</td>\n",
       "      <td>297.08</td>\n",
       "      <td>293.57</td>\n",
       "      <td>294.96</td>\n",
       "      <td>NaN</td>\n",
       "    </tr>\n",
       "    <tr>\n",
       "      <th>2009-12-14</th>\n",
       "      <td>297.32</td>\n",
       "      <td>298.36</td>\n",
       "      <td>296.01</td>\n",
       "      <td>297.57</td>\n",
       "      <td>NaN</td>\n",
       "    </tr>\n",
       "    <tr>\n",
       "      <th>2009-12-15</th>\n",
       "      <td>296.35</td>\n",
       "      <td>297.89</td>\n",
       "      <td>295.20</td>\n",
       "      <td>296.27</td>\n",
       "      <td>NaN</td>\n",
       "    </tr>\n",
       "    <tr>\n",
       "      <th>2009-12-16</th>\n",
       "      <td>299.16</td>\n",
       "      <td>299.88</td>\n",
       "      <td>298.02</td>\n",
       "      <td>298.58</td>\n",
       "      <td>NaN</td>\n",
       "    </tr>\n",
       "    <tr>\n",
       "      <th>2009-12-17</th>\n",
       "      <td>297.92</td>\n",
       "      <td>298.52</td>\n",
       "      <td>296.58</td>\n",
       "      <td>296.67</td>\n",
       "      <td>NaN</td>\n",
       "    </tr>\n",
       "    <tr>\n",
       "      <th>2009-12-18</th>\n",
       "      <td>297.72</td>\n",
       "      <td>299.17</td>\n",
       "      <td>297.20</td>\n",
       "      <td>297.91</td>\n",
       "      <td>NaN</td>\n",
       "    </tr>\n",
       "    <tr>\n",
       "      <th>2009-12-21</th>\n",
       "      <td>298.68</td>\n",
       "      <td>299.62</td>\n",
       "      <td>297.54</td>\n",
       "      <td>299.04</td>\n",
       "      <td>NaN</td>\n",
       "    </tr>\n",
       "    <tr>\n",
       "      <th>2009-12-22</th>\n",
       "      <td>300.37</td>\n",
       "      <td>300.45</td>\n",
       "      <td>299.13</td>\n",
       "      <td>300.26</td>\n",
       "      <td>NaN</td>\n",
       "    </tr>\n",
       "    <tr>\n",
       "      <th>2009-12-23</th>\n",
       "      <td>301.45</td>\n",
       "      <td>306.13</td>\n",
       "      <td>301.12</td>\n",
       "      <td>305.53</td>\n",
       "      <td>NaN</td>\n",
       "    </tr>\n",
       "    <tr>\n",
       "      <th>2009-12-24</th>\n",
       "      <td>306.16</td>\n",
       "      <td>309.45</td>\n",
       "      <td>305.83</td>\n",
       "      <td>308.93</td>\n",
       "      <td>NaN</td>\n",
       "    </tr>\n",
       "    <tr>\n",
       "      <th>2009-12-28</th>\n",
       "      <td>310.52</td>\n",
       "      <td>312.68</td>\n",
       "      <td>308.93</td>\n",
       "      <td>311.12</td>\n",
       "      <td>NaN</td>\n",
       "    </tr>\n",
       "    <tr>\n",
       "      <th>2009-12-29</th>\n",
       "      <td>312.06</td>\n",
       "      <td>312.11</td>\n",
       "      <td>308.84</td>\n",
       "      <td>309.39</td>\n",
       "      <td>NaN</td>\n",
       "    </tr>\n",
       "    <tr>\n",
       "      <th>2009-12-30</th>\n",
       "      <td>308.94</td>\n",
       "      <td>311.05</td>\n",
       "      <td>308.70</td>\n",
       "      <td>311.05</td>\n",
       "      <td>NaN</td>\n",
       "    </tr>\n",
       "    <tr>\n",
       "      <th>2009-12-31</th>\n",
       "      <td>312.06</td>\n",
       "      <td>312.39</td>\n",
       "      <td>309.68</td>\n",
       "      <td>309.68</td>\n",
       "      <td>NaN</td>\n",
       "    </tr>\n",
       "  </tbody>\n",
       "</table>\n",
       "<p>1353 rows × 5 columns</p>\n",
       "</div>"
      ],
      "text/plain": [
       "              Open    High     Low   Close  Volume\n",
       "Date                                              \n",
       "2004-08-19   49.96   51.98   47.93   50.12     NaN\n",
       "2004-08-20   50.69   54.49   50.20   54.10     NaN\n",
       "2004-08-23   55.32   56.68   54.47   54.65     NaN\n",
       "2004-08-24   55.56   55.74   51.73   52.38     NaN\n",
       "2004-08-25   52.43   53.95   51.89   52.95     NaN\n",
       "2004-08-26   52.42   53.92   52.28   53.90     NaN\n",
       "2004-08-27   54.00   54.26   52.79   53.02     NaN\n",
       "2004-08-30   52.69   52.69   50.95   50.95     NaN\n",
       "2004-08-31   51.11   51.80   51.03   51.13     NaN\n",
       "2004-09-01   51.30   51.43   49.79   50.07     NaN\n",
       "2004-09-02   49.50   51.13   49.42   50.70     NaN\n",
       "2004-09-03   50.42   50.82   49.61   49.95     NaN\n",
       "2004-09-07   50.45   50.95   49.76   50.74     NaN\n",
       "2004-09-08   50.32   51.46   50.20   51.10     NaN\n",
       "2004-09-09   51.20   51.30   50.45   51.10     NaN\n",
       "2004-09-10   50.75   53.23   50.60   52.61     NaN\n",
       "2004-09-13   53.26   54.15   53.18   53.70     NaN\n",
       "2004-09-14   53.67   55.94   53.34   55.69     NaN\n",
       "2004-09-15   55.22   57.06   55.04   55.94     NaN\n",
       "2004-09-16   56.11   57.84   55.77   56.93     NaN\n",
       "2004-09-17   57.15   58.69   56.72   58.69     NaN\n",
       "2004-09-20   58.42   60.74   58.33   59.62     NaN\n",
       "2004-09-21   60.04   60.15   58.70   58.86     NaN\n",
       "2004-09-22   58.67   59.78   58.35   59.13     NaN\n",
       "2004-09-23   59.36   61.25   58.45   60.35     NaN\n",
       "2004-09-24   60.42   61.99   59.82   59.86     NaN\n",
       "2004-09-27   59.72   60.38   58.84   59.07     NaN\n",
       "2004-09-28   60.51   63.64   60.04   63.37     NaN\n",
       "2004-09-29   63.20   67.44   63.05   65.47     NaN\n",
       "2004-09-30   64.88   66.08   64.44   64.74     NaN\n",
       "...            ...     ...     ...     ...     ...\n",
       "2009-11-18  288.04  289.10  285.75  288.04     NaN\n",
       "2009-11-19  286.60  286.71  284.72  286.21     NaN\n",
       "2009-11-20  284.46  285.51  284.42  284.70     NaN\n",
       "2009-11-23  287.96  293.01  287.64  290.88     NaN\n",
       "2009-11-24  290.96  291.85  287.98  291.25     NaN\n",
       "2009-11-25  292.91  293.24  291.05  292.58     NaN\n",
       "2009-11-27  285.71  290.94  285.20  289.59     NaN\n",
       "2009-11-30  290.02  291.54  288.27  291.21     NaN\n",
       "2009-12-01  293.77  295.31  291.21  294.64     NaN\n",
       "2009-12-02  295.19  296.21  292.82  293.46     NaN\n",
       "2009-12-03  294.23  295.43  292.21  292.58     NaN\n",
       "2009-12-04  296.21  297.12  289.30  292.21     NaN\n",
       "2009-12-07  291.82  294.05  290.21  292.83     NaN\n",
       "2009-12-08  291.46  295.03  290.71  293.23     NaN\n",
       "2009-12-09  293.46  294.37  291.50  294.22     NaN\n",
       "2009-12-10  294.92  297.06  294.91  295.45     NaN\n",
       "2009-12-11  297.04  297.08  293.57  294.96     NaN\n",
       "2009-12-14  297.32  298.36  296.01  297.57     NaN\n",
       "2009-12-15  296.35  297.89  295.20  296.27     NaN\n",
       "2009-12-16  299.16  299.88  298.02  298.58     NaN\n",
       "2009-12-17  297.92  298.52  296.58  296.67     NaN\n",
       "2009-12-18  297.72  299.17  297.20  297.91     NaN\n",
       "2009-12-21  298.68  299.62  297.54  299.04     NaN\n",
       "2009-12-22  300.37  300.45  299.13  300.26     NaN\n",
       "2009-12-23  301.45  306.13  301.12  305.53     NaN\n",
       "2009-12-24  306.16  309.45  305.83  308.93     NaN\n",
       "2009-12-28  310.52  312.68  308.93  311.12     NaN\n",
       "2009-12-29  312.06  312.11  308.84  309.39     NaN\n",
       "2009-12-30  308.94  311.05  308.70  311.05     NaN\n",
       "2009-12-31  312.06  312.39  309.68  309.68     NaN\n",
       "\n",
       "[1353 rows x 5 columns]"
      ]
     },
     "execution_count": 391,
     "metadata": {},
     "output_type": "execute_result"
    }
   ],
   "source": [
    "web.get_data_yahoo('GOOG', '1/1/2000', '1/1/2010') # 버그?"
   ]
  },
  {
   "cell_type": "code",
   "execution_count": 394,
   "metadata": {
    "collapsed": true
   },
   "outputs": [
    {
     "data": {
      "text/html": [
       "<div style=\"max-height:1000px;max-width:1500px;overflow:auto;\">\n",
       "<table border=\"1\" class=\"dataframe\">\n",
       "  <thead>\n",
       "    <tr style=\"text-align: right;\">\n",
       "      <th></th>\n",
       "      <th>Open</th>\n",
       "      <th>High</th>\n",
       "      <th>Low</th>\n",
       "      <th>Close</th>\n",
       "      <th>Volume</th>\n",
       "    </tr>\n",
       "    <tr>\n",
       "      <th>Date</th>\n",
       "      <th></th>\n",
       "      <th></th>\n",
       "      <th></th>\n",
       "      <th></th>\n",
       "      <th></th>\n",
       "    </tr>\n",
       "  </thead>\n",
       "  <tbody>\n",
       "    <tr>\n",
       "      <th>2004-08-19</th>\n",
       "      <td>49.96</td>\n",
       "      <td>51.98</td>\n",
       "      <td>47.93</td>\n",
       "      <td>50.12</td>\n",
       "      <td>NaN</td>\n",
       "    </tr>\n",
       "    <tr>\n",
       "      <th>2004-08-20</th>\n",
       "      <td>50.69</td>\n",
       "      <td>54.49</td>\n",
       "      <td>50.20</td>\n",
       "      <td>54.10</td>\n",
       "      <td>NaN</td>\n",
       "    </tr>\n",
       "    <tr>\n",
       "      <th>2004-08-23</th>\n",
       "      <td>55.32</td>\n",
       "      <td>56.68</td>\n",
       "      <td>54.47</td>\n",
       "      <td>54.65</td>\n",
       "      <td>NaN</td>\n",
       "    </tr>\n",
       "    <tr>\n",
       "      <th>2004-08-24</th>\n",
       "      <td>55.56</td>\n",
       "      <td>55.74</td>\n",
       "      <td>51.73</td>\n",
       "      <td>52.38</td>\n",
       "      <td>NaN</td>\n",
       "    </tr>\n",
       "    <tr>\n",
       "      <th>2004-08-25</th>\n",
       "      <td>52.43</td>\n",
       "      <td>53.95</td>\n",
       "      <td>51.89</td>\n",
       "      <td>52.95</td>\n",
       "      <td>NaN</td>\n",
       "    </tr>\n",
       "    <tr>\n",
       "      <th>2004-08-26</th>\n",
       "      <td>52.42</td>\n",
       "      <td>53.92</td>\n",
       "      <td>52.28</td>\n",
       "      <td>53.90</td>\n",
       "      <td>NaN</td>\n",
       "    </tr>\n",
       "    <tr>\n",
       "      <th>2004-08-27</th>\n",
       "      <td>54.00</td>\n",
       "      <td>54.26</td>\n",
       "      <td>52.79</td>\n",
       "      <td>53.02</td>\n",
       "      <td>NaN</td>\n",
       "    </tr>\n",
       "    <tr>\n",
       "      <th>2004-08-30</th>\n",
       "      <td>52.69</td>\n",
       "      <td>52.69</td>\n",
       "      <td>50.95</td>\n",
       "      <td>50.95</td>\n",
       "      <td>NaN</td>\n",
       "    </tr>\n",
       "    <tr>\n",
       "      <th>2004-08-31</th>\n",
       "      <td>51.11</td>\n",
       "      <td>51.80</td>\n",
       "      <td>51.03</td>\n",
       "      <td>51.13</td>\n",
       "      <td>NaN</td>\n",
       "    </tr>\n",
       "    <tr>\n",
       "      <th>2004-09-01</th>\n",
       "      <td>51.30</td>\n",
       "      <td>51.43</td>\n",
       "      <td>49.79</td>\n",
       "      <td>50.07</td>\n",
       "      <td>NaN</td>\n",
       "    </tr>\n",
       "    <tr>\n",
       "      <th>2004-09-02</th>\n",
       "      <td>49.50</td>\n",
       "      <td>51.13</td>\n",
       "      <td>49.42</td>\n",
       "      <td>50.70</td>\n",
       "      <td>NaN</td>\n",
       "    </tr>\n",
       "    <tr>\n",
       "      <th>2004-09-03</th>\n",
       "      <td>50.42</td>\n",
       "      <td>50.82</td>\n",
       "      <td>49.61</td>\n",
       "      <td>49.95</td>\n",
       "      <td>NaN</td>\n",
       "    </tr>\n",
       "    <tr>\n",
       "      <th>2004-09-07</th>\n",
       "      <td>50.45</td>\n",
       "      <td>50.95</td>\n",
       "      <td>49.76</td>\n",
       "      <td>50.74</td>\n",
       "      <td>NaN</td>\n",
       "    </tr>\n",
       "    <tr>\n",
       "      <th>2004-09-08</th>\n",
       "      <td>50.32</td>\n",
       "      <td>51.46</td>\n",
       "      <td>50.20</td>\n",
       "      <td>51.10</td>\n",
       "      <td>NaN</td>\n",
       "    </tr>\n",
       "    <tr>\n",
       "      <th>2004-09-09</th>\n",
       "      <td>51.20</td>\n",
       "      <td>51.30</td>\n",
       "      <td>50.45</td>\n",
       "      <td>51.10</td>\n",
       "      <td>NaN</td>\n",
       "    </tr>\n",
       "    <tr>\n",
       "      <th>2004-09-10</th>\n",
       "      <td>50.75</td>\n",
       "      <td>53.23</td>\n",
       "      <td>50.60</td>\n",
       "      <td>52.61</td>\n",
       "      <td>NaN</td>\n",
       "    </tr>\n",
       "    <tr>\n",
       "      <th>2004-09-13</th>\n",
       "      <td>53.26</td>\n",
       "      <td>54.15</td>\n",
       "      <td>53.18</td>\n",
       "      <td>53.70</td>\n",
       "      <td>NaN</td>\n",
       "    </tr>\n",
       "    <tr>\n",
       "      <th>2004-09-14</th>\n",
       "      <td>53.67</td>\n",
       "      <td>55.94</td>\n",
       "      <td>53.34</td>\n",
       "      <td>55.69</td>\n",
       "      <td>NaN</td>\n",
       "    </tr>\n",
       "    <tr>\n",
       "      <th>2004-09-15</th>\n",
       "      <td>55.22</td>\n",
       "      <td>57.06</td>\n",
       "      <td>55.04</td>\n",
       "      <td>55.94</td>\n",
       "      <td>NaN</td>\n",
       "    </tr>\n",
       "    <tr>\n",
       "      <th>2004-09-16</th>\n",
       "      <td>56.11</td>\n",
       "      <td>57.84</td>\n",
       "      <td>55.77</td>\n",
       "      <td>56.93</td>\n",
       "      <td>NaN</td>\n",
       "    </tr>\n",
       "    <tr>\n",
       "      <th>2004-09-17</th>\n",
       "      <td>57.15</td>\n",
       "      <td>58.69</td>\n",
       "      <td>56.72</td>\n",
       "      <td>58.69</td>\n",
       "      <td>NaN</td>\n",
       "    </tr>\n",
       "    <tr>\n",
       "      <th>2004-09-20</th>\n",
       "      <td>58.42</td>\n",
       "      <td>60.74</td>\n",
       "      <td>58.33</td>\n",
       "      <td>59.62</td>\n",
       "      <td>NaN</td>\n",
       "    </tr>\n",
       "    <tr>\n",
       "      <th>2004-09-21</th>\n",
       "      <td>60.04</td>\n",
       "      <td>60.15</td>\n",
       "      <td>58.70</td>\n",
       "      <td>58.86</td>\n",
       "      <td>NaN</td>\n",
       "    </tr>\n",
       "    <tr>\n",
       "      <th>2004-09-22</th>\n",
       "      <td>58.67</td>\n",
       "      <td>59.78</td>\n",
       "      <td>58.35</td>\n",
       "      <td>59.13</td>\n",
       "      <td>NaN</td>\n",
       "    </tr>\n",
       "    <tr>\n",
       "      <th>2004-09-23</th>\n",
       "      <td>59.36</td>\n",
       "      <td>61.25</td>\n",
       "      <td>58.45</td>\n",
       "      <td>60.35</td>\n",
       "      <td>NaN</td>\n",
       "    </tr>\n",
       "    <tr>\n",
       "      <th>2004-09-24</th>\n",
       "      <td>60.42</td>\n",
       "      <td>61.99</td>\n",
       "      <td>59.82</td>\n",
       "      <td>59.86</td>\n",
       "      <td>NaN</td>\n",
       "    </tr>\n",
       "    <tr>\n",
       "      <th>2004-09-27</th>\n",
       "      <td>59.72</td>\n",
       "      <td>60.38</td>\n",
       "      <td>58.84</td>\n",
       "      <td>59.07</td>\n",
       "      <td>NaN</td>\n",
       "    </tr>\n",
       "    <tr>\n",
       "      <th>2004-09-28</th>\n",
       "      <td>60.51</td>\n",
       "      <td>63.64</td>\n",
       "      <td>60.04</td>\n",
       "      <td>63.37</td>\n",
       "      <td>NaN</td>\n",
       "    </tr>\n",
       "    <tr>\n",
       "      <th>2004-09-29</th>\n",
       "      <td>63.20</td>\n",
       "      <td>67.44</td>\n",
       "      <td>63.05</td>\n",
       "      <td>65.47</td>\n",
       "      <td>NaN</td>\n",
       "    </tr>\n",
       "    <tr>\n",
       "      <th>2004-09-30</th>\n",
       "      <td>64.88</td>\n",
       "      <td>66.08</td>\n",
       "      <td>64.44</td>\n",
       "      <td>64.74</td>\n",
       "      <td>NaN</td>\n",
       "    </tr>\n",
       "    <tr>\n",
       "      <th>...</th>\n",
       "      <td>...</td>\n",
       "      <td>...</td>\n",
       "      <td>...</td>\n",
       "      <td>...</td>\n",
       "      <td>...</td>\n",
       "    </tr>\n",
       "    <tr>\n",
       "      <th>2009-11-18</th>\n",
       "      <td>288.04</td>\n",
       "      <td>289.10</td>\n",
       "      <td>285.75</td>\n",
       "      <td>288.04</td>\n",
       "      <td>NaN</td>\n",
       "    </tr>\n",
       "    <tr>\n",
       "      <th>2009-11-19</th>\n",
       "      <td>286.60</td>\n",
       "      <td>286.71</td>\n",
       "      <td>284.72</td>\n",
       "      <td>286.21</td>\n",
       "      <td>NaN</td>\n",
       "    </tr>\n",
       "    <tr>\n",
       "      <th>2009-11-20</th>\n",
       "      <td>284.46</td>\n",
       "      <td>285.51</td>\n",
       "      <td>284.42</td>\n",
       "      <td>284.70</td>\n",
       "      <td>NaN</td>\n",
       "    </tr>\n",
       "    <tr>\n",
       "      <th>2009-11-23</th>\n",
       "      <td>287.96</td>\n",
       "      <td>293.01</td>\n",
       "      <td>287.64</td>\n",
       "      <td>290.88</td>\n",
       "      <td>NaN</td>\n",
       "    </tr>\n",
       "    <tr>\n",
       "      <th>2009-11-24</th>\n",
       "      <td>290.96</td>\n",
       "      <td>291.85</td>\n",
       "      <td>287.98</td>\n",
       "      <td>291.25</td>\n",
       "      <td>NaN</td>\n",
       "    </tr>\n",
       "    <tr>\n",
       "      <th>2009-11-25</th>\n",
       "      <td>292.91</td>\n",
       "      <td>293.24</td>\n",
       "      <td>291.05</td>\n",
       "      <td>292.58</td>\n",
       "      <td>NaN</td>\n",
       "    </tr>\n",
       "    <tr>\n",
       "      <th>2009-11-27</th>\n",
       "      <td>285.71</td>\n",
       "      <td>290.94</td>\n",
       "      <td>285.20</td>\n",
       "      <td>289.59</td>\n",
       "      <td>NaN</td>\n",
       "    </tr>\n",
       "    <tr>\n",
       "      <th>2009-11-30</th>\n",
       "      <td>290.02</td>\n",
       "      <td>291.54</td>\n",
       "      <td>288.27</td>\n",
       "      <td>291.21</td>\n",
       "      <td>NaN</td>\n",
       "    </tr>\n",
       "    <tr>\n",
       "      <th>2009-12-01</th>\n",
       "      <td>293.77</td>\n",
       "      <td>295.31</td>\n",
       "      <td>291.21</td>\n",
       "      <td>294.64</td>\n",
       "      <td>NaN</td>\n",
       "    </tr>\n",
       "    <tr>\n",
       "      <th>2009-12-02</th>\n",
       "      <td>295.19</td>\n",
       "      <td>296.21</td>\n",
       "      <td>292.82</td>\n",
       "      <td>293.46</td>\n",
       "      <td>NaN</td>\n",
       "    </tr>\n",
       "    <tr>\n",
       "      <th>2009-12-03</th>\n",
       "      <td>294.23</td>\n",
       "      <td>295.43</td>\n",
       "      <td>292.21</td>\n",
       "      <td>292.58</td>\n",
       "      <td>NaN</td>\n",
       "    </tr>\n",
       "    <tr>\n",
       "      <th>2009-12-04</th>\n",
       "      <td>296.21</td>\n",
       "      <td>297.12</td>\n",
       "      <td>289.30</td>\n",
       "      <td>292.21</td>\n",
       "      <td>NaN</td>\n",
       "    </tr>\n",
       "    <tr>\n",
       "      <th>2009-12-07</th>\n",
       "      <td>291.82</td>\n",
       "      <td>294.05</td>\n",
       "      <td>290.21</td>\n",
       "      <td>292.83</td>\n",
       "      <td>NaN</td>\n",
       "    </tr>\n",
       "    <tr>\n",
       "      <th>2009-12-08</th>\n",
       "      <td>291.46</td>\n",
       "      <td>295.03</td>\n",
       "      <td>290.71</td>\n",
       "      <td>293.23</td>\n",
       "      <td>NaN</td>\n",
       "    </tr>\n",
       "    <tr>\n",
       "      <th>2009-12-09</th>\n",
       "      <td>293.46</td>\n",
       "      <td>294.37</td>\n",
       "      <td>291.50</td>\n",
       "      <td>294.22</td>\n",
       "      <td>NaN</td>\n",
       "    </tr>\n",
       "    <tr>\n",
       "      <th>2009-12-10</th>\n",
       "      <td>294.92</td>\n",
       "      <td>297.06</td>\n",
       "      <td>294.91</td>\n",
       "      <td>295.45</td>\n",
       "      <td>NaN</td>\n",
       "    </tr>\n",
       "    <tr>\n",
       "      <th>2009-12-11</th>\n",
       "      <td>297.04</td>\n",
       "      <td>297.08</td>\n",
       "      <td>293.57</td>\n",
       "      <td>294.96</td>\n",
       "      <td>NaN</td>\n",
       "    </tr>\n",
       "    <tr>\n",
       "      <th>2009-12-14</th>\n",
       "      <td>297.32</td>\n",
       "      <td>298.36</td>\n",
       "      <td>296.01</td>\n",
       "      <td>297.57</td>\n",
       "      <td>NaN</td>\n",
       "    </tr>\n",
       "    <tr>\n",
       "      <th>2009-12-15</th>\n",
       "      <td>296.35</td>\n",
       "      <td>297.89</td>\n",
       "      <td>295.20</td>\n",
       "      <td>296.27</td>\n",
       "      <td>NaN</td>\n",
       "    </tr>\n",
       "    <tr>\n",
       "      <th>2009-12-16</th>\n",
       "      <td>299.16</td>\n",
       "      <td>299.88</td>\n",
       "      <td>298.02</td>\n",
       "      <td>298.58</td>\n",
       "      <td>NaN</td>\n",
       "    </tr>\n",
       "    <tr>\n",
       "      <th>2009-12-17</th>\n",
       "      <td>297.92</td>\n",
       "      <td>298.52</td>\n",
       "      <td>296.58</td>\n",
       "      <td>296.67</td>\n",
       "      <td>NaN</td>\n",
       "    </tr>\n",
       "    <tr>\n",
       "      <th>2009-12-18</th>\n",
       "      <td>297.72</td>\n",
       "      <td>299.17</td>\n",
       "      <td>297.20</td>\n",
       "      <td>297.91</td>\n",
       "      <td>NaN</td>\n",
       "    </tr>\n",
       "    <tr>\n",
       "      <th>2009-12-21</th>\n",
       "      <td>298.68</td>\n",
       "      <td>299.62</td>\n",
       "      <td>297.54</td>\n",
       "      <td>299.04</td>\n",
       "      <td>NaN</td>\n",
       "    </tr>\n",
       "    <tr>\n",
       "      <th>2009-12-22</th>\n",
       "      <td>300.37</td>\n",
       "      <td>300.45</td>\n",
       "      <td>299.13</td>\n",
       "      <td>300.26</td>\n",
       "      <td>NaN</td>\n",
       "    </tr>\n",
       "    <tr>\n",
       "      <th>2009-12-23</th>\n",
       "      <td>301.45</td>\n",
       "      <td>306.13</td>\n",
       "      <td>301.12</td>\n",
       "      <td>305.53</td>\n",
       "      <td>NaN</td>\n",
       "    </tr>\n",
       "    <tr>\n",
       "      <th>2009-12-24</th>\n",
       "      <td>306.16</td>\n",
       "      <td>309.45</td>\n",
       "      <td>305.83</td>\n",
       "      <td>308.93</td>\n",
       "      <td>NaN</td>\n",
       "    </tr>\n",
       "    <tr>\n",
       "      <th>2009-12-28</th>\n",
       "      <td>310.52</td>\n",
       "      <td>312.68</td>\n",
       "      <td>308.93</td>\n",
       "      <td>311.12</td>\n",
       "      <td>NaN</td>\n",
       "    </tr>\n",
       "    <tr>\n",
       "      <th>2009-12-29</th>\n",
       "      <td>312.06</td>\n",
       "      <td>312.11</td>\n",
       "      <td>308.84</td>\n",
       "      <td>309.39</td>\n",
       "      <td>NaN</td>\n",
       "    </tr>\n",
       "    <tr>\n",
       "      <th>2009-12-30</th>\n",
       "      <td>308.94</td>\n",
       "      <td>311.05</td>\n",
       "      <td>308.70</td>\n",
       "      <td>311.05</td>\n",
       "      <td>NaN</td>\n",
       "    </tr>\n",
       "    <tr>\n",
       "      <th>2009-12-31</th>\n",
       "      <td>312.06</td>\n",
       "      <td>312.39</td>\n",
       "      <td>309.68</td>\n",
       "      <td>309.68</td>\n",
       "      <td>NaN</td>\n",
       "    </tr>\n",
       "  </tbody>\n",
       "</table>\n",
       "<p>1353 rows × 5 columns</p>\n",
       "</div>"
      ],
      "text/plain": [
       "              Open    High     Low   Close  Volume\n",
       "Date                                              \n",
       "2004-08-19   49.96   51.98   47.93   50.12     NaN\n",
       "2004-08-20   50.69   54.49   50.20   54.10     NaN\n",
       "2004-08-23   55.32   56.68   54.47   54.65     NaN\n",
       "2004-08-24   55.56   55.74   51.73   52.38     NaN\n",
       "2004-08-25   52.43   53.95   51.89   52.95     NaN\n",
       "2004-08-26   52.42   53.92   52.28   53.90     NaN\n",
       "2004-08-27   54.00   54.26   52.79   53.02     NaN\n",
       "2004-08-30   52.69   52.69   50.95   50.95     NaN\n",
       "2004-08-31   51.11   51.80   51.03   51.13     NaN\n",
       "2004-09-01   51.30   51.43   49.79   50.07     NaN\n",
       "2004-09-02   49.50   51.13   49.42   50.70     NaN\n",
       "2004-09-03   50.42   50.82   49.61   49.95     NaN\n",
       "2004-09-07   50.45   50.95   49.76   50.74     NaN\n",
       "2004-09-08   50.32   51.46   50.20   51.10     NaN\n",
       "2004-09-09   51.20   51.30   50.45   51.10     NaN\n",
       "2004-09-10   50.75   53.23   50.60   52.61     NaN\n",
       "2004-09-13   53.26   54.15   53.18   53.70     NaN\n",
       "2004-09-14   53.67   55.94   53.34   55.69     NaN\n",
       "2004-09-15   55.22   57.06   55.04   55.94     NaN\n",
       "2004-09-16   56.11   57.84   55.77   56.93     NaN\n",
       "2004-09-17   57.15   58.69   56.72   58.69     NaN\n",
       "2004-09-20   58.42   60.74   58.33   59.62     NaN\n",
       "2004-09-21   60.04   60.15   58.70   58.86     NaN\n",
       "2004-09-22   58.67   59.78   58.35   59.13     NaN\n",
       "2004-09-23   59.36   61.25   58.45   60.35     NaN\n",
       "2004-09-24   60.42   61.99   59.82   59.86     NaN\n",
       "2004-09-27   59.72   60.38   58.84   59.07     NaN\n",
       "2004-09-28   60.51   63.64   60.04   63.37     NaN\n",
       "2004-09-29   63.20   67.44   63.05   65.47     NaN\n",
       "2004-09-30   64.88   66.08   64.44   64.74     NaN\n",
       "...            ...     ...     ...     ...     ...\n",
       "2009-11-18  288.04  289.10  285.75  288.04     NaN\n",
       "2009-11-19  286.60  286.71  284.72  286.21     NaN\n",
       "2009-11-20  284.46  285.51  284.42  284.70     NaN\n",
       "2009-11-23  287.96  293.01  287.64  290.88     NaN\n",
       "2009-11-24  290.96  291.85  287.98  291.25     NaN\n",
       "2009-11-25  292.91  293.24  291.05  292.58     NaN\n",
       "2009-11-27  285.71  290.94  285.20  289.59     NaN\n",
       "2009-11-30  290.02  291.54  288.27  291.21     NaN\n",
       "2009-12-01  293.77  295.31  291.21  294.64     NaN\n",
       "2009-12-02  295.19  296.21  292.82  293.46     NaN\n",
       "2009-12-03  294.23  295.43  292.21  292.58     NaN\n",
       "2009-12-04  296.21  297.12  289.30  292.21     NaN\n",
       "2009-12-07  291.82  294.05  290.21  292.83     NaN\n",
       "2009-12-08  291.46  295.03  290.71  293.23     NaN\n",
       "2009-12-09  293.46  294.37  291.50  294.22     NaN\n",
       "2009-12-10  294.92  297.06  294.91  295.45     NaN\n",
       "2009-12-11  297.04  297.08  293.57  294.96     NaN\n",
       "2009-12-14  297.32  298.36  296.01  297.57     NaN\n",
       "2009-12-15  296.35  297.89  295.20  296.27     NaN\n",
       "2009-12-16  299.16  299.88  298.02  298.58     NaN\n",
       "2009-12-17  297.92  298.52  296.58  296.67     NaN\n",
       "2009-12-18  297.72  299.17  297.20  297.91     NaN\n",
       "2009-12-21  298.68  299.62  297.54  299.04     NaN\n",
       "2009-12-22  300.37  300.45  299.13  300.26     NaN\n",
       "2009-12-23  301.45  306.13  301.12  305.53     NaN\n",
       "2009-12-24  306.16  309.45  305.83  308.93     NaN\n",
       "2009-12-28  310.52  312.68  308.93  311.12     NaN\n",
       "2009-12-29  312.06  312.11  308.84  309.39     NaN\n",
       "2009-12-30  308.94  311.05  308.70  311.05     NaN\n",
       "2009-12-31  312.06  312.39  309.68  309.68     NaN\n",
       "\n",
       "[1353 rows x 5 columns]"
      ]
     },
     "execution_count": 394,
     "metadata": {},
     "output_type": "execute_result"
    }
   ],
   "source": [
    "web.get_data_google('GOOG', '1/1/2000', '1/1/2010') # Google Fiance로 변경"
   ]
  },
  {
   "cell_type": "code",
   "execution_count": 397,
   "metadata": {
    "collapsed": false
   },
   "outputs": [],
   "source": [
    "import pandas.io.data as web\n",
    "\n",
    "all_data = {}\n",
    "for ticker in ['AAPL', 'IBM', 'MSFT', 'GOOG']:\n",
    "    all_data[ticker]=web.get_data_google(ticker, '1/1/2005', '1/1/2010')\n",
    "    \n",
    "price = DataFrame({tic: data['Close'] for tic, data in all_data.iteritems()})\n",
    "volume = DataFrame({tic: data['Volume'] for tic, data in all_data.iteritems()})"
   ]
  },
  {
   "cell_type": "code",
   "execution_count": 398,
   "metadata": {
    "collapsed": false
   },
   "outputs": [
    {
     "data": {
      "text/html": [
       "<div style=\"max-height:1000px;max-width:1500px;overflow:auto;\">\n",
       "<table border=\"1\" class=\"dataframe\">\n",
       "  <thead>\n",
       "    <tr style=\"text-align: right;\">\n",
       "      <th></th>\n",
       "      <th>AAPL</th>\n",
       "      <th>GOOG</th>\n",
       "      <th>IBM</th>\n",
       "      <th>MSFT</th>\n",
       "    </tr>\n",
       "    <tr>\n",
       "      <th>Date</th>\n",
       "      <th></th>\n",
       "      <th></th>\n",
       "      <th></th>\n",
       "      <th></th>\n",
       "    </tr>\n",
       "  </thead>\n",
       "  <tbody>\n",
       "    <tr>\n",
       "      <th>2009-12-24</th>\n",
       "      <td>0.034292</td>\n",
       "      <td>0.011128</td>\n",
       "      <td>0.004385</td>\n",
       "      <td>0.002587</td>\n",
       "    </tr>\n",
       "    <tr>\n",
       "      <th>2009-12-28</th>\n",
       "      <td>0.012391</td>\n",
       "      <td>0.007089</td>\n",
       "      <td>0.013326</td>\n",
       "      <td>0.005484</td>\n",
       "    </tr>\n",
       "    <tr>\n",
       "      <th>2009-12-29</th>\n",
       "      <td>-0.011909</td>\n",
       "      <td>-0.005561</td>\n",
       "      <td>-0.003477</td>\n",
       "      <td>0.007058</td>\n",
       "    </tr>\n",
       "    <tr>\n",
       "      <th>2009-12-30</th>\n",
       "      <td>0.012052</td>\n",
       "      <td>0.005365</td>\n",
       "      <td>0.005461</td>\n",
       "      <td>-0.013699</td>\n",
       "    </tr>\n",
       "    <tr>\n",
       "      <th>2009-12-31</th>\n",
       "      <td>-0.004300</td>\n",
       "      <td>-0.004404</td>\n",
       "      <td>-0.012597</td>\n",
       "      <td>-0.015504</td>\n",
       "    </tr>\n",
       "  </tbody>\n",
       "</table>\n",
       "</div>"
      ],
      "text/plain": [
       "                AAPL      GOOG       IBM      MSFT\n",
       "Date                                              \n",
       "2009-12-24  0.034292  0.011128  0.004385  0.002587\n",
       "2009-12-28  0.012391  0.007089  0.013326  0.005484\n",
       "2009-12-29 -0.011909 -0.005561 -0.003477  0.007058\n",
       "2009-12-30  0.012052  0.005365  0.005461 -0.013699\n",
       "2009-12-31 -0.004300 -0.004404 -0.012597 -0.015504"
      ]
     },
     "execution_count": 398,
     "metadata": {},
     "output_type": "execute_result"
    }
   ],
   "source": [
    "returns = price.pct_change()\n",
    "returns[-5:]"
   ]
  },
  {
   "cell_type": "code",
   "execution_count": 400,
   "metadata": {
    "collapsed": false
   },
   "outputs": [
    {
     "data": {
      "text/plain": [
       "0.39730546887475782"
      ]
     },
     "execution_count": 400,
     "metadata": {},
     "output_type": "execute_result"
    }
   ],
   "source": [
    "returns.AAPL.corr(returns.MSFT)"
   ]
  },
  {
   "cell_type": "code",
   "execution_count": 295,
   "metadata": {
    "collapsed": false
   },
   "outputs": [
    {
     "data": {
      "text/plain": [
       "0.00017109113552596703"
      ]
     },
     "execution_count": 295,
     "metadata": {},
     "output_type": "execute_result"
    }
   ],
   "source": [
    "returns.MSFT.cov(returns.IBM)"
   ]
  },
  {
   "cell_type": "code",
   "execution_count": 401,
   "metadata": {
    "collapsed": false
   },
   "outputs": [
    {
     "data": {
      "text/html": [
       "<div style=\"max-height:1000px;max-width:1500px;overflow:auto;\">\n",
       "<table border=\"1\" class=\"dataframe\">\n",
       "  <thead>\n",
       "    <tr style=\"text-align: right;\">\n",
       "      <th></th>\n",
       "      <th>AAPL</th>\n",
       "      <th>GOOG</th>\n",
       "      <th>IBM</th>\n",
       "      <th>MSFT</th>\n",
       "    </tr>\n",
       "  </thead>\n",
       "  <tbody>\n",
       "    <tr>\n",
       "      <th>AAPL</th>\n",
       "      <td>1.000000</td>\n",
       "      <td>0.455271</td>\n",
       "      <td>0.443480</td>\n",
       "      <td>0.397305</td>\n",
       "    </tr>\n",
       "    <tr>\n",
       "      <th>GOOG</th>\n",
       "      <td>0.455271</td>\n",
       "      <td>1.000000</td>\n",
       "      <td>0.421986</td>\n",
       "      <td>0.486849</td>\n",
       "    </tr>\n",
       "    <tr>\n",
       "      <th>IBM</th>\n",
       "      <td>0.443480</td>\n",
       "      <td>0.421986</td>\n",
       "      <td>1.000000</td>\n",
       "      <td>0.558613</td>\n",
       "    </tr>\n",
       "    <tr>\n",
       "      <th>MSFT</th>\n",
       "      <td>0.397305</td>\n",
       "      <td>0.486849</td>\n",
       "      <td>0.558613</td>\n",
       "      <td>1.000000</td>\n",
       "    </tr>\n",
       "  </tbody>\n",
       "</table>\n",
       "</div>"
      ],
      "text/plain": [
       "          AAPL      GOOG       IBM      MSFT\n",
       "AAPL  1.000000  0.455271  0.443480  0.397305\n",
       "GOOG  0.455271  1.000000  0.421986  0.486849\n",
       "IBM   0.443480  0.421986  1.000000  0.558613\n",
       "MSFT  0.397305  0.486849  0.558613  1.000000"
      ]
     },
     "execution_count": 401,
     "metadata": {},
     "output_type": "execute_result"
    }
   ],
   "source": [
    "returns.corr()"
   ]
  },
  {
   "cell_type": "code",
   "execution_count": 402,
   "metadata": {
    "collapsed": false
   },
   "outputs": [
    {
     "data": {
      "text/html": [
       "<div style=\"max-height:1000px;max-width:1500px;overflow:auto;\">\n",
       "<table border=\"1\" class=\"dataframe\">\n",
       "  <thead>\n",
       "    <tr style=\"text-align: right;\">\n",
       "      <th></th>\n",
       "      <th>AAPL</th>\n",
       "      <th>GOOG</th>\n",
       "      <th>IBM</th>\n",
       "      <th>MSFT</th>\n",
       "    </tr>\n",
       "  </thead>\n",
       "  <tbody>\n",
       "    <tr>\n",
       "      <th>AAPL</th>\n",
       "      <td>0.000912</td>\n",
       "      <td>0.000320</td>\n",
       "      <td>0.000208</td>\n",
       "      <td>0.000237</td>\n",
       "    </tr>\n",
       "    <tr>\n",
       "      <th>GOOG</th>\n",
       "      <td>0.000320</td>\n",
       "      <td>0.000540</td>\n",
       "      <td>0.000152</td>\n",
       "      <td>0.000223</td>\n",
       "    </tr>\n",
       "    <tr>\n",
       "      <th>IBM</th>\n",
       "      <td>0.000208</td>\n",
       "      <td>0.000152</td>\n",
       "      <td>0.000240</td>\n",
       "      <td>0.000171</td>\n",
       "    </tr>\n",
       "    <tr>\n",
       "      <th>MSFT</th>\n",
       "      <td>0.000237</td>\n",
       "      <td>0.000223</td>\n",
       "      <td>0.000171</td>\n",
       "      <td>0.000390</td>\n",
       "    </tr>\n",
       "  </tbody>\n",
       "</table>\n",
       "</div>"
      ],
      "text/plain": [
       "          AAPL      GOOG       IBM      MSFT\n",
       "AAPL  0.000912  0.000320  0.000208  0.000237\n",
       "GOOG  0.000320  0.000540  0.000152  0.000223\n",
       "IBM   0.000208  0.000152  0.000240  0.000171\n",
       "MSFT  0.000237  0.000223  0.000171  0.000390"
      ]
     },
     "execution_count": 402,
     "metadata": {},
     "output_type": "execute_result"
    }
   ],
   "source": [
    "returns.cov()"
   ]
  },
  {
   "cell_type": "code",
   "execution_count": 298,
   "metadata": {
    "collapsed": false
   },
   "outputs": [
    {
     "data": {
      "text/plain": [
       "AAPL    0.496871\n",
       "IBM     1.000000\n",
       "MSFT    0.559671\n",
       "dtype: float64"
      ]
     },
     "execution_count": 298,
     "metadata": {},
     "output_type": "execute_result"
    }
   ],
   "source": [
    "returns.corrwith(returns.IBM)"
   ]
  },
  {
   "cell_type": "code",
   "execution_count": 299,
   "metadata": {
    "collapsed": false
   },
   "outputs": [
    {
     "data": {
      "text/plain": [
       "AAPL   -0.009899\n",
       "IBM     0.031369\n",
       "MSFT   -0.056570\n",
       "dtype: float64"
      ]
     },
     "execution_count": 299,
     "metadata": {},
     "output_type": "execute_result"
    }
   ],
   "source": [
    "returns.corrwith(volume)"
   ]
  },
  {
   "cell_type": "markdown",
   "metadata": {},
   "source": [
    "## 유일값, 값 세기, 멤버십"
   ]
  },
  {
   "cell_type": "code",
   "execution_count": 411,
   "metadata": {
    "collapsed": false
   },
   "outputs": [
    {
     "data": {
      "text/plain": [
       "0    c\n",
       "1    a\n",
       "2    d\n",
       "3    a\n",
       "4    a\n",
       "5    b\n",
       "6    b\n",
       "7    c\n",
       "8    c\n",
       "dtype: object"
      ]
     },
     "execution_count": 411,
     "metadata": {},
     "output_type": "execute_result"
    }
   ],
   "source": [
    "sr = Series(['c','a','d','a','a','b','b','c','c'])\n",
    "sr"
   ]
  },
  {
   "cell_type": "code",
   "execution_count": 415,
   "metadata": {
    "collapsed": false
   },
   "outputs": [
    {
     "data": {
      "text/plain": [
       "array(['c', 'a', 'd', 'b'], dtype=object)"
      ]
     },
     "execution_count": 415,
     "metadata": {},
     "output_type": "execute_result"
    }
   ],
   "source": [
    "unique = sr.unique()\n",
    "unique"
   ]
  },
  {
   "cell_type": "code",
   "execution_count": 416,
   "metadata": {
    "collapsed": false
   },
   "outputs": [
    {
     "data": {
      "text/plain": [
       "c    3\n",
       "a    3\n",
       "b    2\n",
       "d    1\n",
       "dtype: int64"
      ]
     },
     "execution_count": 416,
     "metadata": {},
     "output_type": "execute_result"
    }
   ],
   "source": [
    "sr.value_counts()"
   ]
  },
  {
   "cell_type": "code",
   "execution_count": 417,
   "metadata": {
    "collapsed": false
   },
   "outputs": [
    {
     "data": {
      "text/plain": [
       "c    3\n",
       "a    3\n",
       "b    2\n",
       "d    1\n",
       "dtype: int64"
      ]
     },
     "execution_count": 417,
     "metadata": {},
     "output_type": "execute_result"
    }
   ],
   "source": [
    "pd.value_counts(sr)"
   ]
  },
  {
   "cell_type": "code",
   "execution_count": 419,
   "metadata": {
    "collapsed": false
   },
   "outputs": [
    {
     "data": {
      "text/plain": [
       "0     True\n",
       "1    False\n",
       "2    False\n",
       "3    False\n",
       "4    False\n",
       "5     True\n",
       "6     True\n",
       "7     True\n",
       "8     True\n",
       "dtype: bool"
      ]
     },
     "execution_count": 419,
     "metadata": {},
     "output_type": "execute_result"
    }
   ],
   "source": [
    "mask = sr.isin(['b','c'])\n",
    "mask"
   ]
  },
  {
   "cell_type": "code",
   "execution_count": 420,
   "metadata": {
    "collapsed": false
   },
   "outputs": [
    {
     "data": {
      "text/plain": [
       "0    c\n",
       "5    b\n",
       "6    b\n",
       "7    c\n",
       "8    c\n",
       "dtype: object"
      ]
     },
     "execution_count": 420,
     "metadata": {},
     "output_type": "execute_result"
    }
   ],
   "source": [
    "sr[mask] # b 또는 c 인 데이터만 선택"
   ]
  },
  {
   "cell_type": "code",
   "execution_count": 421,
   "metadata": {
    "collapsed": false
   },
   "outputs": [
    {
     "data": {
      "text/html": [
       "<div style=\"max-height:1000px;max-width:1500px;overflow:auto;\">\n",
       "<table border=\"1\" class=\"dataframe\">\n",
       "  <thead>\n",
       "    <tr style=\"text-align: right;\">\n",
       "      <th></th>\n",
       "      <th>Qu1</th>\n",
       "      <th>Qu2</th>\n",
       "      <th>Qu3</th>\n",
       "    </tr>\n",
       "  </thead>\n",
       "  <tbody>\n",
       "    <tr>\n",
       "      <th>0</th>\n",
       "      <td>1</td>\n",
       "      <td>2</td>\n",
       "      <td>1</td>\n",
       "    </tr>\n",
       "    <tr>\n",
       "      <th>1</th>\n",
       "      <td>3</td>\n",
       "      <td>3</td>\n",
       "      <td>5</td>\n",
       "    </tr>\n",
       "    <tr>\n",
       "      <th>2</th>\n",
       "      <td>4</td>\n",
       "      <td>1</td>\n",
       "      <td>2</td>\n",
       "    </tr>\n",
       "    <tr>\n",
       "      <th>3</th>\n",
       "      <td>3</td>\n",
       "      <td>2</td>\n",
       "      <td>4</td>\n",
       "    </tr>\n",
       "    <tr>\n",
       "      <th>4</th>\n",
       "      <td>4</td>\n",
       "      <td>3</td>\n",
       "      <td>4</td>\n",
       "    </tr>\n",
       "  </tbody>\n",
       "</table>\n",
       "</div>"
      ],
      "text/plain": [
       "   Qu1  Qu2  Qu3\n",
       "0    1    2    1\n",
       "1    3    3    5\n",
       "2    4    1    2\n",
       "3    3    2    4\n",
       "4    4    3    4"
      ]
     },
     "execution_count": 421,
     "metadata": {},
     "output_type": "execute_result"
    }
   ],
   "source": [
    "data = DataFrame({'Qu1': [1,3,4,3,4],\n",
    "                 'Qu2': [2,3,1,2,3],\n",
    "                 'Qu3': [1,5,2,4,4]})\n",
    "data"
   ]
  },
  {
   "cell_type": "code",
   "execution_count": 422,
   "metadata": {
    "collapsed": false
   },
   "outputs": [
    {
     "data": {
      "text/html": [
       "<div style=\"max-height:1000px;max-width:1500px;overflow:auto;\">\n",
       "<table border=\"1\" class=\"dataframe\">\n",
       "  <thead>\n",
       "    <tr style=\"text-align: right;\">\n",
       "      <th></th>\n",
       "      <th>Qu1</th>\n",
       "      <th>Qu2</th>\n",
       "      <th>Qu3</th>\n",
       "    </tr>\n",
       "  </thead>\n",
       "  <tbody>\n",
       "    <tr>\n",
       "      <th>1</th>\n",
       "      <td>1</td>\n",
       "      <td>1</td>\n",
       "      <td>1</td>\n",
       "    </tr>\n",
       "    <tr>\n",
       "      <th>2</th>\n",
       "      <td>0</td>\n",
       "      <td>2</td>\n",
       "      <td>1</td>\n",
       "    </tr>\n",
       "    <tr>\n",
       "      <th>3</th>\n",
       "      <td>2</td>\n",
       "      <td>2</td>\n",
       "      <td>0</td>\n",
       "    </tr>\n",
       "    <tr>\n",
       "      <th>4</th>\n",
       "      <td>2</td>\n",
       "      <td>0</td>\n",
       "      <td>2</td>\n",
       "    </tr>\n",
       "    <tr>\n",
       "      <th>5</th>\n",
       "      <td>0</td>\n",
       "      <td>0</td>\n",
       "      <td>1</td>\n",
       "    </tr>\n",
       "  </tbody>\n",
       "</table>\n",
       "</div>"
      ],
      "text/plain": [
       "   Qu1  Qu2  Qu3\n",
       "1    1    1    1\n",
       "2    0    2    1\n",
       "3    2    2    0\n",
       "4    2    0    2\n",
       "5    0    0    1"
      ]
     },
     "execution_count": 422,
     "metadata": {},
     "output_type": "execute_result"
    }
   ],
   "source": [
    "result = data.apply(pd.value_counts).fillna(0)\n",
    "result"
   ]
  },
  {
   "cell_type": "markdown",
   "metadata": {},
   "source": [
    "# 누락 데이터 처리"
   ]
  },
  {
   "cell_type": "code",
   "execution_count": 426,
   "metadata": {
    "collapsed": false
   },
   "outputs": [
    {
     "data": {
      "text/plain": [
       "0    aadfasdba\n",
       "1    artichoke\n",
       "2          NaN\n",
       "3      avocado\n",
       "dtype: object"
      ]
     },
     "execution_count": 426,
     "metadata": {},
     "output_type": "execute_result"
    }
   ],
   "source": [
    "string_data = Series(['aadfasdba', 'artichoke', np.nan, 'avocado'])\n",
    "string_data"
   ]
  },
  {
   "cell_type": "code",
   "execution_count": 430,
   "metadata": {
    "collapsed": false
   },
   "outputs": [
    {
     "data": {
      "text/plain": [
       "0    False\n",
       "1    False\n",
       "2     True\n",
       "3    False\n",
       "dtype: bool"
      ]
     },
     "execution_count": 430,
     "metadata": {},
     "output_type": "execute_result"
    }
   ],
   "source": [
    "string_data.isnull()"
   ]
  },
  {
   "cell_type": "code",
   "execution_count": 431,
   "metadata": {
    "collapsed": false
   },
   "outputs": [
    {
     "data": {
      "text/plain": [
       "True"
      ]
     },
     "execution_count": 431,
     "metadata": {},
     "output_type": "execute_result"
    }
   ],
   "source": [
    "string_data.isnull().any()"
   ]
  },
  {
   "cell_type": "markdown",
   "metadata": {},
   "source": [
    "### 누락데이터 선별"
   ]
  },
  {
   "cell_type": "code",
   "execution_count": 435,
   "metadata": {
    "collapsed": true
   },
   "outputs": [],
   "source": [
    "from numpy import nan"
   ]
  },
  {
   "cell_type": "code",
   "execution_count": 436,
   "metadata": {
    "collapsed": false
   },
   "outputs": [
    {
     "data": {
      "text/plain": [
       "0    1.0\n",
       "2    3.5\n",
       "4    7.0\n",
       "dtype: float64"
      ]
     },
     "execution_count": 436,
     "metadata": {},
     "output_type": "execute_result"
    }
   ],
   "source": [
    "data = Series([1, nan, 3.5, nan, 7])\n",
    "data.dropna()"
   ]
  },
  {
   "cell_type": "code",
   "execution_count": 434,
   "metadata": {
    "collapsed": false,
    "scrolled": true
   },
   "outputs": [
    {
     "data": {
      "text/plain": [
       "0    1.0\n",
       "2    3.5\n",
       "4    7.0\n",
       "dtype: float64"
      ]
     },
     "execution_count": 434,
     "metadata": {},
     "output_type": "execute_result"
    }
   ],
   "source": [
    "# 불리언 색인으로 직접 선별\n",
    "data[data.notnull()]"
   ]
  },
  {
   "cell_type": "code",
   "execution_count": 445,
   "metadata": {
    "collapsed": false
   },
   "outputs": [
    {
     "data": {
      "text/html": [
       "<div style=\"max-height:1000px;max-width:1500px;overflow:auto;\">\n",
       "<table border=\"1\" class=\"dataframe\">\n",
       "  <thead>\n",
       "    <tr style=\"text-align: right;\">\n",
       "      <th></th>\n",
       "      <th>0</th>\n",
       "      <th>1</th>\n",
       "      <th>2</th>\n",
       "    </tr>\n",
       "  </thead>\n",
       "  <tbody>\n",
       "    <tr>\n",
       "      <th>0</th>\n",
       "      <td>1</td>\n",
       "      <td>6.5</td>\n",
       "      <td>3</td>\n",
       "    </tr>\n",
       "    <tr>\n",
       "      <th>1</th>\n",
       "      <td>1</td>\n",
       "      <td>NaN</td>\n",
       "      <td>NaN</td>\n",
       "    </tr>\n",
       "    <tr>\n",
       "      <th>2</th>\n",
       "      <td>NaN</td>\n",
       "      <td>NaN</td>\n",
       "      <td>NaN</td>\n",
       "    </tr>\n",
       "    <tr>\n",
       "      <th>3</th>\n",
       "      <td>NaN</td>\n",
       "      <td>6.5</td>\n",
       "      <td>3</td>\n",
       "    </tr>\n",
       "  </tbody>\n",
       "</table>\n",
       "</div>"
      ],
      "text/plain": [
       "    0    1   2\n",
       "0   1  6.5   3\n",
       "1   1  NaN NaN\n",
       "2 NaN  NaN NaN\n",
       "3 NaN  6.5   3"
      ]
     },
     "execution_count": 445,
     "metadata": {},
     "output_type": "execute_result"
    }
   ],
   "source": [
    "data = DataFrame([[1., 6.5, 3.], [1., nan, nan],\n",
    "                 [nan, nan, nan],[nan, 6.5, 3.]])\n",
    "data"
   ]
  },
  {
   "cell_type": "code",
   "execution_count": 450,
   "metadata": {
    "collapsed": false
   },
   "outputs": [],
   "source": [
    "data.dropna?"
   ]
  },
  {
   "cell_type": "code",
   "execution_count": 439,
   "metadata": {
    "collapsed": false
   },
   "outputs": [
    {
     "data": {
      "text/html": [
       "<div style=\"max-height:1000px;max-width:1500px;overflow:auto;\">\n",
       "<table border=\"1\" class=\"dataframe\">\n",
       "  <thead>\n",
       "    <tr style=\"text-align: right;\">\n",
       "      <th></th>\n",
       "      <th>0</th>\n",
       "      <th>1</th>\n",
       "      <th>2</th>\n",
       "    </tr>\n",
       "  </thead>\n",
       "  <tbody>\n",
       "    <tr>\n",
       "      <th>0</th>\n",
       "      <td>1</td>\n",
       "      <td>6.5</td>\n",
       "      <td>3</td>\n",
       "    </tr>\n",
       "    <tr>\n",
       "      <th>1</th>\n",
       "      <td>1</td>\n",
       "      <td>NaN</td>\n",
       "      <td>NaN</td>\n",
       "    </tr>\n",
       "    <tr>\n",
       "      <th>3</th>\n",
       "      <td>NaN</td>\n",
       "      <td>6.5</td>\n",
       "      <td>3</td>\n",
       "    </tr>\n",
       "  </tbody>\n",
       "</table>\n",
       "</div>"
      ],
      "text/plain": [
       "    0    1   2\n",
       "0   1  6.5   3\n",
       "1   1  NaN NaN\n",
       "3 NaN  6.5   3"
      ]
     },
     "execution_count": 439,
     "metadata": {},
     "output_type": "execute_result"
    }
   ],
   "source": [
    "data.dropna(how='all')"
   ]
  },
  {
   "cell_type": "code",
   "execution_count": 441,
   "metadata": {
    "collapsed": false,
    "scrolled": true
   },
   "outputs": [
    {
     "data": {
      "text/html": [
       "<div style=\"max-height:1000px;max-width:1500px;overflow:auto;\">\n",
       "<table border=\"1\" class=\"dataframe\">\n",
       "  <thead>\n",
       "    <tr style=\"text-align: right;\">\n",
       "      <th></th>\n",
       "      <th>0</th>\n",
       "      <th>1</th>\n",
       "      <th>2</th>\n",
       "    </tr>\n",
       "  </thead>\n",
       "  <tbody>\n",
       "    <tr>\n",
       "      <th>0</th>\n",
       "      <td>1</td>\n",
       "      <td>6.5</td>\n",
       "      <td>3</td>\n",
       "    </tr>\n",
       "    <tr>\n",
       "      <th>1</th>\n",
       "      <td>1</td>\n",
       "      <td>NaN</td>\n",
       "      <td>NaN</td>\n",
       "    </tr>\n",
       "    <tr>\n",
       "      <th>2</th>\n",
       "      <td>NaN</td>\n",
       "      <td>NaN</td>\n",
       "      <td>NaN</td>\n",
       "    </tr>\n",
       "    <tr>\n",
       "      <th>3</th>\n",
       "      <td>NaN</td>\n",
       "      <td>6.5</td>\n",
       "      <td>3</td>\n",
       "    </tr>\n",
       "  </tbody>\n",
       "</table>\n",
       "</div>"
      ],
      "text/plain": [
       "    0    1   2\n",
       "0   1  6.5   3\n",
       "1   1  NaN NaN\n",
       "2 NaN  NaN NaN\n",
       "3 NaN  6.5   3"
      ]
     },
     "execution_count": 441,
     "metadata": {},
     "output_type": "execute_result"
    }
   ],
   "source": [
    "data.dropna(axis=1, how='all')"
   ]
  },
  {
   "cell_type": "code",
   "execution_count": 447,
   "metadata": {
    "collapsed": false
   },
   "outputs": [
    {
     "data": {
      "text/html": [
       "<div style=\"max-height:1000px;max-width:1500px;overflow:auto;\">\n",
       "<table border=\"1\" class=\"dataframe\">\n",
       "  <thead>\n",
       "    <tr style=\"text-align: right;\">\n",
       "      <th></th>\n",
       "      <th>0</th>\n",
       "      <th>1</th>\n",
       "      <th>2</th>\n",
       "    </tr>\n",
       "  </thead>\n",
       "  <tbody>\n",
       "    <tr>\n",
       "      <th>0</th>\n",
       "      <td>0.625784</td>\n",
       "      <td>NaN</td>\n",
       "      <td>NaN</td>\n",
       "    </tr>\n",
       "    <tr>\n",
       "      <th>1</th>\n",
       "      <td>-0.143543</td>\n",
       "      <td>NaN</td>\n",
       "      <td>NaN</td>\n",
       "    </tr>\n",
       "    <tr>\n",
       "      <th>2</th>\n",
       "      <td>-0.628510</td>\n",
       "      <td>NaN</td>\n",
       "      <td>NaN</td>\n",
       "    </tr>\n",
       "    <tr>\n",
       "      <th>3</th>\n",
       "      <td>1.633658</td>\n",
       "      <td>NaN</td>\n",
       "      <td>-1.548192</td>\n",
       "    </tr>\n",
       "    <tr>\n",
       "      <th>4</th>\n",
       "      <td>-0.302301</td>\n",
       "      <td>NaN</td>\n",
       "      <td>-0.465363</td>\n",
       "    </tr>\n",
       "    <tr>\n",
       "      <th>5</th>\n",
       "      <td>0.964609</td>\n",
       "      <td>1.215261</td>\n",
       "      <td>-1.016997</td>\n",
       "    </tr>\n",
       "    <tr>\n",
       "      <th>6</th>\n",
       "      <td>-0.182277</td>\n",
       "      <td>0.490251</td>\n",
       "      <td>-0.028373</td>\n",
       "    </tr>\n",
       "  </tbody>\n",
       "</table>\n",
       "</div>"
      ],
      "text/plain": [
       "          0         1         2\n",
       "0  0.625784       NaN       NaN\n",
       "1 -0.143543       NaN       NaN\n",
       "2 -0.628510       NaN       NaN\n",
       "3  1.633658       NaN -1.548192\n",
       "4 -0.302301       NaN -0.465363\n",
       "5  0.964609  1.215261 -1.016997\n",
       "6 -0.182277  0.490251 -0.028373"
      ]
     },
     "execution_count": 447,
     "metadata": {},
     "output_type": "execute_result"
    }
   ],
   "source": [
    "df = DataFrame(np.random.randn(7,3))\n",
    "df.ix[:4, 1] = nan\n",
    "df.ix[:2, 2] = nan\n",
    "df"
   ]
  },
  {
   "cell_type": "code",
   "execution_count": 449,
   "metadata": {
    "collapsed": false
   },
   "outputs": [
    {
     "data": {
      "text/html": [
       "<div style=\"max-height:1000px;max-width:1500px;overflow:auto;\">\n",
       "<table border=\"1\" class=\"dataframe\">\n",
       "  <thead>\n",
       "    <tr style=\"text-align: right;\">\n",
       "      <th></th>\n",
       "      <th>0</th>\n",
       "      <th>1</th>\n",
       "      <th>2</th>\n",
       "    </tr>\n",
       "  </thead>\n",
       "  <tbody>\n",
       "    <tr>\n",
       "      <th>5</th>\n",
       "      <td>0.964609</td>\n",
       "      <td>1.215261</td>\n",
       "      <td>-1.016997</td>\n",
       "    </tr>\n",
       "    <tr>\n",
       "      <th>6</th>\n",
       "      <td>-0.182277</td>\n",
       "      <td>0.490251</td>\n",
       "      <td>-0.028373</td>\n",
       "    </tr>\n",
       "  </tbody>\n",
       "</table>\n",
       "</div>"
      ],
      "text/plain": [
       "          0         1         2\n",
       "5  0.964609  1.215261 -1.016997\n",
       "6 -0.182277  0.490251 -0.028373"
      ]
     },
     "execution_count": 449,
     "metadata": {},
     "output_type": "execute_result"
    }
   ],
   "source": [
    "df.dropna(thresh=3)"
   ]
  },
  {
   "cell_type": "markdown",
   "metadata": {},
   "source": [
    "### 누락 값 채우기"
   ]
  },
  {
   "cell_type": "code",
   "execution_count": 451,
   "metadata": {
    "collapsed": false
   },
   "outputs": [
    {
     "data": {
      "text/html": [
       "<div style=\"max-height:1000px;max-width:1500px;overflow:auto;\">\n",
       "<table border=\"1\" class=\"dataframe\">\n",
       "  <thead>\n",
       "    <tr style=\"text-align: right;\">\n",
       "      <th></th>\n",
       "      <th>0</th>\n",
       "      <th>1</th>\n",
       "      <th>2</th>\n",
       "    </tr>\n",
       "  </thead>\n",
       "  <tbody>\n",
       "    <tr>\n",
       "      <th>0</th>\n",
       "      <td>0.625784</td>\n",
       "      <td>0.000000</td>\n",
       "      <td>0.000000</td>\n",
       "    </tr>\n",
       "    <tr>\n",
       "      <th>1</th>\n",
       "      <td>-0.143543</td>\n",
       "      <td>0.000000</td>\n",
       "      <td>0.000000</td>\n",
       "    </tr>\n",
       "    <tr>\n",
       "      <th>2</th>\n",
       "      <td>-0.628510</td>\n",
       "      <td>0.000000</td>\n",
       "      <td>0.000000</td>\n",
       "    </tr>\n",
       "    <tr>\n",
       "      <th>3</th>\n",
       "      <td>1.633658</td>\n",
       "      <td>0.000000</td>\n",
       "      <td>-1.548192</td>\n",
       "    </tr>\n",
       "    <tr>\n",
       "      <th>4</th>\n",
       "      <td>-0.302301</td>\n",
       "      <td>0.000000</td>\n",
       "      <td>-0.465363</td>\n",
       "    </tr>\n",
       "    <tr>\n",
       "      <th>5</th>\n",
       "      <td>0.964609</td>\n",
       "      <td>1.215261</td>\n",
       "      <td>-1.016997</td>\n",
       "    </tr>\n",
       "    <tr>\n",
       "      <th>6</th>\n",
       "      <td>-0.182277</td>\n",
       "      <td>0.490251</td>\n",
       "      <td>-0.028373</td>\n",
       "    </tr>\n",
       "  </tbody>\n",
       "</table>\n",
       "</div>"
      ],
      "text/plain": [
       "          0         1         2\n",
       "0  0.625784  0.000000  0.000000\n",
       "1 -0.143543  0.000000  0.000000\n",
       "2 -0.628510  0.000000  0.000000\n",
       "3  1.633658  0.000000 -1.548192\n",
       "4 -0.302301  0.000000 -0.465363\n",
       "5  0.964609  1.215261 -1.016997\n",
       "6 -0.182277  0.490251 -0.028373"
      ]
     },
     "execution_count": 451,
     "metadata": {},
     "output_type": "execute_result"
    }
   ],
   "source": [
    "df.fillna(0)"
   ]
  },
  {
   "cell_type": "code",
   "execution_count": 452,
   "metadata": {
    "collapsed": false
   },
   "outputs": [
    {
     "data": {
      "text/html": [
       "<div style=\"max-height:1000px;max-width:1500px;overflow:auto;\">\n",
       "<table border=\"1\" class=\"dataframe\">\n",
       "  <thead>\n",
       "    <tr style=\"text-align: right;\">\n",
       "      <th></th>\n",
       "      <th>0</th>\n",
       "      <th>1</th>\n",
       "      <th>2</th>\n",
       "    </tr>\n",
       "  </thead>\n",
       "  <tbody>\n",
       "    <tr>\n",
       "      <th>0</th>\n",
       "      <td>0.625784</td>\n",
       "      <td>0.500000</td>\n",
       "      <td>NaN</td>\n",
       "    </tr>\n",
       "    <tr>\n",
       "      <th>1</th>\n",
       "      <td>-0.143543</td>\n",
       "      <td>0.500000</td>\n",
       "      <td>NaN</td>\n",
       "    </tr>\n",
       "    <tr>\n",
       "      <th>2</th>\n",
       "      <td>-0.628510</td>\n",
       "      <td>0.500000</td>\n",
       "      <td>NaN</td>\n",
       "    </tr>\n",
       "    <tr>\n",
       "      <th>3</th>\n",
       "      <td>1.633658</td>\n",
       "      <td>0.500000</td>\n",
       "      <td>-1.548192</td>\n",
       "    </tr>\n",
       "    <tr>\n",
       "      <th>4</th>\n",
       "      <td>-0.302301</td>\n",
       "      <td>0.500000</td>\n",
       "      <td>-0.465363</td>\n",
       "    </tr>\n",
       "    <tr>\n",
       "      <th>5</th>\n",
       "      <td>0.964609</td>\n",
       "      <td>1.215261</td>\n",
       "      <td>-1.016997</td>\n",
       "    </tr>\n",
       "    <tr>\n",
       "      <th>6</th>\n",
       "      <td>-0.182277</td>\n",
       "      <td>0.490251</td>\n",
       "      <td>-0.028373</td>\n",
       "    </tr>\n",
       "  </tbody>\n",
       "</table>\n",
       "</div>"
      ],
      "text/plain": [
       "          0         1         2\n",
       "0  0.625784  0.500000       NaN\n",
       "1 -0.143543  0.500000       NaN\n",
       "2 -0.628510  0.500000       NaN\n",
       "3  1.633658  0.500000 -1.548192\n",
       "4 -0.302301  0.500000 -0.465363\n",
       "5  0.964609  1.215261 -1.016997\n",
       "6 -0.182277  0.490251 -0.028373"
      ]
     },
     "execution_count": 452,
     "metadata": {},
     "output_type": "execute_result"
    }
   ],
   "source": [
    "df.fillna({1:0.5, 3:-1})"
   ]
  },
  {
   "cell_type": "code",
   "execution_count": 455,
   "metadata": {
    "collapsed": false
   },
   "outputs": [
    {
     "data": {
      "text/plain": [
       "False"
      ]
     },
     "execution_count": 455,
     "metadata": {},
     "output_type": "execute_result"
    }
   ],
   "source": [
    "df is df.fillna(0) # [drop/fill]na()는 기본적으로 새로운 객체 반환"
   ]
  },
  {
   "cell_type": "code",
   "execution_count": 453,
   "metadata": {
    "collapsed": false,
    "scrolled": true
   },
   "outputs": [
    {
     "data": {
      "text/html": [
       "<div style=\"max-height:1000px;max-width:1500px;overflow:auto;\">\n",
       "<table border=\"1\" class=\"dataframe\">\n",
       "  <thead>\n",
       "    <tr style=\"text-align: right;\">\n",
       "      <th></th>\n",
       "      <th>0</th>\n",
       "      <th>1</th>\n",
       "      <th>2</th>\n",
       "    </tr>\n",
       "  </thead>\n",
       "  <tbody>\n",
       "    <tr>\n",
       "      <th>0</th>\n",
       "      <td>0.625784</td>\n",
       "      <td>0.000000</td>\n",
       "      <td>0.000000</td>\n",
       "    </tr>\n",
       "    <tr>\n",
       "      <th>1</th>\n",
       "      <td>-0.143543</td>\n",
       "      <td>0.000000</td>\n",
       "      <td>0.000000</td>\n",
       "    </tr>\n",
       "    <tr>\n",
       "      <th>2</th>\n",
       "      <td>-0.628510</td>\n",
       "      <td>0.000000</td>\n",
       "      <td>0.000000</td>\n",
       "    </tr>\n",
       "    <tr>\n",
       "      <th>3</th>\n",
       "      <td>1.633658</td>\n",
       "      <td>0.000000</td>\n",
       "      <td>-1.548192</td>\n",
       "    </tr>\n",
       "    <tr>\n",
       "      <th>4</th>\n",
       "      <td>-0.302301</td>\n",
       "      <td>0.000000</td>\n",
       "      <td>-0.465363</td>\n",
       "    </tr>\n",
       "    <tr>\n",
       "      <th>5</th>\n",
       "      <td>0.964609</td>\n",
       "      <td>1.215261</td>\n",
       "      <td>-1.016997</td>\n",
       "    </tr>\n",
       "    <tr>\n",
       "      <th>6</th>\n",
       "      <td>-0.182277</td>\n",
       "      <td>0.490251</td>\n",
       "      <td>-0.028373</td>\n",
       "    </tr>\n",
       "  </tbody>\n",
       "</table>\n",
       "</div>"
      ],
      "text/plain": [
       "          0         1         2\n",
       "0  0.625784  0.000000  0.000000\n",
       "1 -0.143543  0.000000  0.000000\n",
       "2 -0.628510  0.000000  0.000000\n",
       "3  1.633658  0.000000 -1.548192\n",
       "4 -0.302301  0.000000 -0.465363\n",
       "5  0.964609  1.215261 -1.016997\n",
       "6 -0.182277  0.490251 -0.028373"
      ]
     },
     "execution_count": 453,
     "metadata": {},
     "output_type": "execute_result"
    }
   ],
   "source": [
    "df.fillna(0, inplace=True)\n",
    "df"
   ]
  },
  {
   "cell_type": "code",
   "execution_count": 456,
   "metadata": {
    "collapsed": false
   },
   "outputs": [
    {
     "data": {
      "text/html": [
       "<div style=\"max-height:1000px;max-width:1500px;overflow:auto;\">\n",
       "<table border=\"1\" class=\"dataframe\">\n",
       "  <thead>\n",
       "    <tr style=\"text-align: right;\">\n",
       "      <th></th>\n",
       "      <th>0</th>\n",
       "      <th>1</th>\n",
       "      <th>2</th>\n",
       "    </tr>\n",
       "  </thead>\n",
       "  <tbody>\n",
       "    <tr>\n",
       "      <th>0</th>\n",
       "      <td>-0.273364</td>\n",
       "      <td>0.721317</td>\n",
       "      <td>-0.000989</td>\n",
       "    </tr>\n",
       "    <tr>\n",
       "      <th>1</th>\n",
       "      <td>-0.036537</td>\n",
       "      <td>0.494105</td>\n",
       "      <td>0.266310</td>\n",
       "    </tr>\n",
       "    <tr>\n",
       "      <th>2</th>\n",
       "      <td>-1.863969</td>\n",
       "      <td>NaN</td>\n",
       "      <td>1.203902</td>\n",
       "    </tr>\n",
       "    <tr>\n",
       "      <th>3</th>\n",
       "      <td>0.494615</td>\n",
       "      <td>NaN</td>\n",
       "      <td>0.848738</td>\n",
       "    </tr>\n",
       "    <tr>\n",
       "      <th>4</th>\n",
       "      <td>0.175175</td>\n",
       "      <td>NaN</td>\n",
       "      <td>NaN</td>\n",
       "    </tr>\n",
       "    <tr>\n",
       "      <th>5</th>\n",
       "      <td>-0.004667</td>\n",
       "      <td>NaN</td>\n",
       "      <td>NaN</td>\n",
       "    </tr>\n",
       "  </tbody>\n",
       "</table>\n",
       "</div>"
      ],
      "text/plain": [
       "          0         1         2\n",
       "0 -0.273364  0.721317 -0.000989\n",
       "1 -0.036537  0.494105  0.266310\n",
       "2 -1.863969       NaN  1.203902\n",
       "3  0.494615       NaN  0.848738\n",
       "4  0.175175       NaN       NaN\n",
       "5 -0.004667       NaN       NaN"
      ]
     },
     "execution_count": 456,
     "metadata": {},
     "output_type": "execute_result"
    }
   ],
   "source": [
    "df = DataFrame(np.random.randn(6,3))\n",
    "df.ix[2:,1]= nan\n",
    "df.ix[4:, 2] = nan\n",
    "df"
   ]
  },
  {
   "cell_type": "code",
   "execution_count": 457,
   "metadata": {
    "collapsed": false
   },
   "outputs": [
    {
     "data": {
      "text/html": [
       "<div style=\"max-height:1000px;max-width:1500px;overflow:auto;\">\n",
       "<table border=\"1\" class=\"dataframe\">\n",
       "  <thead>\n",
       "    <tr style=\"text-align: right;\">\n",
       "      <th></th>\n",
       "      <th>0</th>\n",
       "      <th>1</th>\n",
       "      <th>2</th>\n",
       "    </tr>\n",
       "  </thead>\n",
       "  <tbody>\n",
       "    <tr>\n",
       "      <th>0</th>\n",
       "      <td>-0.273364</td>\n",
       "      <td>0.721317</td>\n",
       "      <td>-0.000989</td>\n",
       "    </tr>\n",
       "    <tr>\n",
       "      <th>1</th>\n",
       "      <td>-0.036537</td>\n",
       "      <td>0.494105</td>\n",
       "      <td>0.266310</td>\n",
       "    </tr>\n",
       "    <tr>\n",
       "      <th>2</th>\n",
       "      <td>-1.863969</td>\n",
       "      <td>0.494105</td>\n",
       "      <td>1.203902</td>\n",
       "    </tr>\n",
       "    <tr>\n",
       "      <th>3</th>\n",
       "      <td>0.494615</td>\n",
       "      <td>0.494105</td>\n",
       "      <td>0.848738</td>\n",
       "    </tr>\n",
       "    <tr>\n",
       "      <th>4</th>\n",
       "      <td>0.175175</td>\n",
       "      <td>0.494105</td>\n",
       "      <td>0.848738</td>\n",
       "    </tr>\n",
       "    <tr>\n",
       "      <th>5</th>\n",
       "      <td>-0.004667</td>\n",
       "      <td>0.494105</td>\n",
       "      <td>0.848738</td>\n",
       "    </tr>\n",
       "  </tbody>\n",
       "</table>\n",
       "</div>"
      ],
      "text/plain": [
       "          0         1         2\n",
       "0 -0.273364  0.721317 -0.000989\n",
       "1 -0.036537  0.494105  0.266310\n",
       "2 -1.863969  0.494105  1.203902\n",
       "3  0.494615  0.494105  0.848738\n",
       "4  0.175175  0.494105  0.848738\n",
       "5 -0.004667  0.494105  0.848738"
      ]
     },
     "execution_count": 457,
     "metadata": {},
     "output_type": "execute_result"
    }
   ],
   "source": [
    "df.fillna(method='ffill')"
   ]
  },
  {
   "cell_type": "code",
   "execution_count": 458,
   "metadata": {
    "collapsed": false
   },
   "outputs": [
    {
     "data": {
      "text/html": [
       "<div style=\"max-height:1000px;max-width:1500px;overflow:auto;\">\n",
       "<table border=\"1\" class=\"dataframe\">\n",
       "  <thead>\n",
       "    <tr style=\"text-align: right;\">\n",
       "      <th></th>\n",
       "      <th>0</th>\n",
       "      <th>1</th>\n",
       "      <th>2</th>\n",
       "    </tr>\n",
       "  </thead>\n",
       "  <tbody>\n",
       "    <tr>\n",
       "      <th>0</th>\n",
       "      <td>-0.273364</td>\n",
       "      <td>0.721317</td>\n",
       "      <td>-0.000989</td>\n",
       "    </tr>\n",
       "    <tr>\n",
       "      <th>1</th>\n",
       "      <td>-0.036537</td>\n",
       "      <td>0.494105</td>\n",
       "      <td>0.266310</td>\n",
       "    </tr>\n",
       "    <tr>\n",
       "      <th>2</th>\n",
       "      <td>-1.863969</td>\n",
       "      <td>0.494105</td>\n",
       "      <td>1.203902</td>\n",
       "    </tr>\n",
       "    <tr>\n",
       "      <th>3</th>\n",
       "      <td>0.494615</td>\n",
       "      <td>0.494105</td>\n",
       "      <td>0.848738</td>\n",
       "    </tr>\n",
       "    <tr>\n",
       "      <th>4</th>\n",
       "      <td>0.175175</td>\n",
       "      <td>NaN</td>\n",
       "      <td>0.848738</td>\n",
       "    </tr>\n",
       "    <tr>\n",
       "      <th>5</th>\n",
       "      <td>-0.004667</td>\n",
       "      <td>NaN</td>\n",
       "      <td>0.848738</td>\n",
       "    </tr>\n",
       "  </tbody>\n",
       "</table>\n",
       "</div>"
      ],
      "text/plain": [
       "          0         1         2\n",
       "0 -0.273364  0.721317 -0.000989\n",
       "1 -0.036537  0.494105  0.266310\n",
       "2 -1.863969  0.494105  1.203902\n",
       "3  0.494615  0.494105  0.848738\n",
       "4  0.175175       NaN  0.848738\n",
       "5 -0.004667       NaN  0.848738"
      ]
     },
     "execution_count": 458,
     "metadata": {},
     "output_type": "execute_result"
    }
   ],
   "source": [
    "df.fillna(method='ffill', limit=2)"
   ]
  },
  {
   "cell_type": "code",
   "execution_count": 459,
   "metadata": {
    "collapsed": false
   },
   "outputs": [
    {
     "data": {
      "text/plain": [
       "0    1.000000\n",
       "1    3.833333\n",
       "2    3.500000\n",
       "3    3.833333\n",
       "4    7.000000\n",
       "dtype: float64"
      ]
     },
     "execution_count": 459,
     "metadata": {},
     "output_type": "execute_result"
    }
   ],
   "source": [
    "data = Series([1., nan, 3.5, nan, 7])\n",
    "data.fillna(data.mean())"
   ]
  },
  {
   "cell_type": "markdown",
   "metadata": {},
   "source": [
    "# 도전과제"
   ]
  },
  {
   "cell_type": "markdown",
   "metadata": {},
   "source": [
    "공공데이터 활용\n",
    "\n",
    "다음 코드저장소에서 제주도 관광객 유동인구 데이터를 다운로드 받는다.\n",
    "https://github.com/lseongjoo/py_data_go_kr\n",
    "\n",
    "1. 각 데이터 파일을 DataFrame으로 읽어들인다. (p.222-227)\n",
    "2. 각 DataFrame의 STD_YM 열 제목을 '기준연월'로 변경 (p.170-172)\n",
    "3. FLOW_ ...로 시작하는 컬럼 중, 값이 150 이상인 것만 선택 (p.180-183, 문자열 처리 관련: p.291-298)\n",
    "4. 모든 DataFrame을 합쳐서 단일한 DataFrame으로 생성 (p.253-269)\n",
    "5. 해당 셀의 유동인구 평균을 구하기 (p.195-198)"
   ]
  },
  {
   "cell_type": "code",
   "execution_count": 169,
   "metadata": {
    "collapsed": true
   },
   "outputs": [],
   "source": [
    "path='py_data_go_kr/data/jeju/'"
   ]
  },
  {
   "cell_type": "code",
   "execution_count": 170,
   "metadata": {
    "collapsed": false
   },
   "outputs": [],
   "source": [
    "path += 'cell_300m_201406/'\n",
    "path += '3-2-1-2. 시간대별_관광객_300그리드단위_유동인구_비율포함_201406.txt'"
   ]
  },
  {
   "cell_type": "code",
   "execution_count": 171,
   "metadata": {
    "collapsed": true
   },
   "outputs": [
    {
     "data": {
      "text/plain": [
       "<open file 'py_data_go_kr/data/jeju/cell_300m_201406/3-2-1-2. \\xe1\\x84\\x89\\xe1\\x85\\xb5\\xe1\\x84\\x80\\xe1\\x85\\xa1\\xe1\\x86\\xab\\xe1\\x84\\x83\\xe1\\x85\\xa2\\xe1\\x84\\x87\\xe1\\x85\\xa7\\xe1\\x86\\xaf_\\xe1\\x84\\x80\\xe1\\x85\\xaa\\xe1\\x86\\xab\\xe1\\x84\\x80\\xe1\\x85\\xaa\\xe1\\x86\\xbc\\xe1\\x84\\x80\\xe1\\x85\\xa2\\xe1\\x86\\xa8_300\\xe1\\x84\\x80\\xe1\\x85\\xb3\\xe1\\x84\\x85\\xe1\\x85\\xb5\\xe1\\x84\\x83\\xe1\\x85\\xb3\\xe1\\x84\\x83\\xe1\\x85\\xa1\\xe1\\x86\\xab\\xe1\\x84\\x8b\\xe1\\x85\\xb1_\\xe1\\x84\\x8b\\xe1\\x85\\xb2\\xe1\\x84\\x83\\xe1\\x85\\xa9\\xe1\\x86\\xbc\\xe1\\x84\\x8b\\xe1\\x85\\xb5\\xe1\\x86\\xab\\xe1\\x84\\x80\\xe1\\x85\\xae_\\xe1\\x84\\x87\\xe1\\x85\\xb5\\xe1\\x84\\x8b\\xe1\\x85\\xb2\\xe1\\x86\\xaf\\xe1\\x84\\x91\\xe1\\x85\\xa9\\xe1\\x84\\x92\\xe1\\x85\\xa1\\xe1\\x86\\xb7_201406.txt', mode 'r' at 0x106afaae0>"
      ]
     },
     "execution_count": 171,
     "metadata": {},
     "output_type": "execute_result"
    }
   ],
   "source": [
    "open(path)"
   ]
  },
  {
   "cell_type": "code",
   "execution_count": 185,
   "metadata": {
    "collapsed": true
   },
   "outputs": [],
   "source": [
    "df = pd.read_csv(path, sep='|')"
   ]
  },
  {
   "cell_type": "code",
   "execution_count": 198,
   "metadata": {
    "collapsed": false
   },
   "outputs": [
    {
     "data": {
      "text/plain": [
       "4409061968"
      ]
     },
     "execution_count": 198,
     "metadata": {},
     "output_type": "execute_result"
    }
   ],
   "source": [
    "id(df.rename(columns={'STD_YM': u'기준연월'}))"
   ]
  },
  {
   "cell_type": "code",
   "execution_count": 199,
   "metadata": {
    "collapsed": false
   },
   "outputs": [
    {
     "data": {
      "text/plain": [
       "4409219984"
      ]
     },
     "execution_count": 199,
     "metadata": {},
     "output_type": "execute_result"
    }
   ],
   "source": [
    "id(df)"
   ]
  },
  {
   "cell_type": "code",
   "execution_count": 200,
   "metadata": {
    "collapsed": true
   },
   "outputs": [
    {
     "data": {
      "text/html": [
       "<div style=\"max-height:1000px;max-width:1500px;overflow:auto;\">\n",
       "<table border=\"1\" class=\"dataframe\">\n",
       "  <thead>\n",
       "    <tr style=\"text-align: right;\">\n",
       "      <th></th>\n",
       "      <th>STD_YM</th>\n",
       "      <th>ID_300</th>\n",
       "      <th>FLOW_POP_CNT_00TMST</th>\n",
       "      <th>FLOW_POP_CNT_01TMST</th>\n",
       "      <th>FLOW_POP_CNT_02TMST</th>\n",
       "      <th>FLOW_POP_CNT_03TMST</th>\n",
       "      <th>FLOW_POP_CNT_04TMST</th>\n",
       "      <th>FLOW_POP_CNT_05TMST</th>\n",
       "      <th>FLOW_POP_CNT_06TMST</th>\n",
       "      <th>FLOW_POP_CNT_07TMST</th>\n",
       "      <th>...</th>\n",
       "      <th>TMST14_PROP</th>\n",
       "      <th>TMST15_PROP</th>\n",
       "      <th>TMST16_PROP</th>\n",
       "      <th>TMST17_PROP</th>\n",
       "      <th>TMST18_PROP</th>\n",
       "      <th>TMST19_PROP</th>\n",
       "      <th>TMST20_PROP</th>\n",
       "      <th>TMST21_PROP</th>\n",
       "      <th>TMST22_PROP</th>\n",
       "      <th>TMST23_PROP</th>\n",
       "    </tr>\n",
       "  </thead>\n",
       "  <tbody>\n",
       "    <tr>\n",
       "      <th>0</th>\n",
       "      <td>201406</td>\n",
       "      <td>1000031709</td>\n",
       "      <td>312.947980</td>\n",
       "      <td>263.972057</td>\n",
       "      <td>227.917759</td>\n",
       "      <td>205.601048</td>\n",
       "      <td>185.977212</td>\n",
       "      <td>191.715499</td>\n",
       "      <td>247.301449</td>\n",
       "      <td>442.487208</td>\n",
       "      <td>...</td>\n",
       "      <td>NaN</td>\n",
       "      <td>NaN</td>\n",
       "      <td>NaN</td>\n",
       "      <td>NaN</td>\n",
       "      <td>NaN</td>\n",
       "      <td>NaN</td>\n",
       "      <td>NaN</td>\n",
       "      <td>NaN</td>\n",
       "      <td>NaN</td>\n",
       "      <td>NaN</td>\n",
       "    </tr>\n",
       "    <tr>\n",
       "      <th>1</th>\n",
       "      <td>201406</td>\n",
       "      <td>1000030747</td>\n",
       "      <td>NaN</td>\n",
       "      <td>NaN</td>\n",
       "      <td>NaN</td>\n",
       "      <td>NaN</td>\n",
       "      <td>NaN</td>\n",
       "      <td>NaN</td>\n",
       "      <td>NaN</td>\n",
       "      <td>NaN</td>\n",
       "      <td>...</td>\n",
       "      <td>NaN</td>\n",
       "      <td>NaN</td>\n",
       "      <td>NaN</td>\n",
       "      <td>NaN</td>\n",
       "      <td>NaN</td>\n",
       "      <td>NaN</td>\n",
       "      <td>NaN</td>\n",
       "      <td>NaN</td>\n",
       "      <td>NaN</td>\n",
       "      <td>NaN</td>\n",
       "    </tr>\n",
       "    <tr>\n",
       "      <th>2</th>\n",
       "      <td>201406</td>\n",
       "      <td>1000031707</td>\n",
       "      <td>229.957330</td>\n",
       "      <td>194.422903</td>\n",
       "      <td>171.347177</td>\n",
       "      <td>156.791958</td>\n",
       "      <td>NaN</td>\n",
       "      <td>152.302163</td>\n",
       "      <td>179.773830</td>\n",
       "      <td>246.357064</td>\n",
       "      <td>...</td>\n",
       "      <td>NaN</td>\n",
       "      <td>NaN</td>\n",
       "      <td>NaN</td>\n",
       "      <td>NaN</td>\n",
       "      <td>NaN</td>\n",
       "      <td>NaN</td>\n",
       "      <td>NaN</td>\n",
       "      <td>NaN</td>\n",
       "      <td>NaN</td>\n",
       "      <td>NaN</td>\n",
       "    </tr>\n",
       "    <tr>\n",
       "      <th>3</th>\n",
       "      <td>201406</td>\n",
       "      <td>1000031388</td>\n",
       "      <td>NaN</td>\n",
       "      <td>NaN</td>\n",
       "      <td>NaN</td>\n",
       "      <td>NaN</td>\n",
       "      <td>NaN</td>\n",
       "      <td>NaN</td>\n",
       "      <td>NaN</td>\n",
       "      <td>183.529660</td>\n",
       "      <td>...</td>\n",
       "      <td>NaN</td>\n",
       "      <td>NaN</td>\n",
       "      <td>NaN</td>\n",
       "      <td>NaN</td>\n",
       "      <td>NaN</td>\n",
       "      <td>NaN</td>\n",
       "      <td>NaN</td>\n",
       "      <td>NaN</td>\n",
       "      <td>NaN</td>\n",
       "      <td>NaN</td>\n",
       "    </tr>\n",
       "    <tr>\n",
       "      <th>4</th>\n",
       "      <td>201406</td>\n",
       "      <td>1000031708</td>\n",
       "      <td>384.201369</td>\n",
       "      <td>320.784622</td>\n",
       "      <td>278.623635</td>\n",
       "      <td>248.432039</td>\n",
       "      <td>224.149070</td>\n",
       "      <td>222.451515</td>\n",
       "      <td>258.032368</td>\n",
       "      <td>347.026334</td>\n",
       "      <td>...</td>\n",
       "      <td>NaN</td>\n",
       "      <td>NaN</td>\n",
       "      <td>NaN</td>\n",
       "      <td>NaN</td>\n",
       "      <td>NaN</td>\n",
       "      <td>NaN</td>\n",
       "      <td>NaN</td>\n",
       "      <td>NaN</td>\n",
       "      <td>NaN</td>\n",
       "      <td>NaN</td>\n",
       "    </tr>\n",
       "    <tr>\n",
       "      <th>5</th>\n",
       "      <td>201406</td>\n",
       "      <td>1000030741</td>\n",
       "      <td>NaN</td>\n",
       "      <td>NaN</td>\n",
       "      <td>NaN</td>\n",
       "      <td>NaN</td>\n",
       "      <td>NaN</td>\n",
       "      <td>NaN</td>\n",
       "      <td>NaN</td>\n",
       "      <td>NaN</td>\n",
       "      <td>...</td>\n",
       "      <td>NaN</td>\n",
       "      <td>NaN</td>\n",
       "      <td>NaN</td>\n",
       "      <td>NaN</td>\n",
       "      <td>NaN</td>\n",
       "      <td>NaN</td>\n",
       "      <td>NaN</td>\n",
       "      <td>NaN</td>\n",
       "      <td>NaN</td>\n",
       "      <td>NaN</td>\n",
       "    </tr>\n",
       "    <tr>\n",
       "      <th>6</th>\n",
       "      <td>201406</td>\n",
       "      <td>1000032349</td>\n",
       "      <td>203.903159</td>\n",
       "      <td>164.497839</td>\n",
       "      <td>NaN</td>\n",
       "      <td>NaN</td>\n",
       "      <td>NaN</td>\n",
       "      <td>NaN</td>\n",
       "      <td>NaN</td>\n",
       "      <td>194.413885</td>\n",
       "      <td>...</td>\n",
       "      <td>NaN</td>\n",
       "      <td>NaN</td>\n",
       "      <td>NaN</td>\n",
       "      <td>NaN</td>\n",
       "      <td>NaN</td>\n",
       "      <td>NaN</td>\n",
       "      <td>NaN</td>\n",
       "      <td>NaN</td>\n",
       "      <td>NaN</td>\n",
       "      <td>NaN</td>\n",
       "    </tr>\n",
       "    <tr>\n",
       "      <th>7</th>\n",
       "      <td>201406</td>\n",
       "      <td>1000032027</td>\n",
       "      <td>236.215989</td>\n",
       "      <td>193.343749</td>\n",
       "      <td>166.153644</td>\n",
       "      <td>NaN</td>\n",
       "      <td>NaN</td>\n",
       "      <td>NaN</td>\n",
       "      <td>185.725042</td>\n",
       "      <td>264.442162</td>\n",
       "      <td>...</td>\n",
       "      <td>NaN</td>\n",
       "      <td>NaN</td>\n",
       "      <td>NaN</td>\n",
       "      <td>NaN</td>\n",
       "      <td>NaN</td>\n",
       "      <td>NaN</td>\n",
       "      <td>NaN</td>\n",
       "      <td>NaN</td>\n",
       "      <td>NaN</td>\n",
       "      <td>NaN</td>\n",
       "    </tr>\n",
       "    <tr>\n",
       "      <th>8</th>\n",
       "      <td>201406</td>\n",
       "      <td>1000031390</td>\n",
       "      <td>NaN</td>\n",
       "      <td>NaN</td>\n",
       "      <td>NaN</td>\n",
       "      <td>NaN</td>\n",
       "      <td>NaN</td>\n",
       "      <td>NaN</td>\n",
       "      <td>NaN</td>\n",
       "      <td>NaN</td>\n",
       "      <td>...</td>\n",
       "      <td>NaN</td>\n",
       "      <td>NaN</td>\n",
       "      <td>NaN</td>\n",
       "      <td>NaN</td>\n",
       "      <td>NaN</td>\n",
       "      <td>NaN</td>\n",
       "      <td>NaN</td>\n",
       "      <td>NaN</td>\n",
       "      <td>NaN</td>\n",
       "      <td>NaN</td>\n",
       "    </tr>\n",
       "    <tr>\n",
       "      <th>9</th>\n",
       "      <td>201406</td>\n",
       "      <td>1000029783</td>\n",
       "      <td>NaN</td>\n",
       "      <td>NaN</td>\n",
       "      <td>NaN</td>\n",
       "      <td>NaN</td>\n",
       "      <td>NaN</td>\n",
       "      <td>NaN</td>\n",
       "      <td>NaN</td>\n",
       "      <td>NaN</td>\n",
       "      <td>...</td>\n",
       "      <td>NaN</td>\n",
       "      <td>NaN</td>\n",
       "      <td>NaN</td>\n",
       "      <td>NaN</td>\n",
       "      <td>NaN</td>\n",
       "      <td>NaN</td>\n",
       "      <td>NaN</td>\n",
       "      <td>NaN</td>\n",
       "      <td>NaN</td>\n",
       "      <td>NaN</td>\n",
       "    </tr>\n",
       "    <tr>\n",
       "      <th>10</th>\n",
       "      <td>201406</td>\n",
       "      <td>1000031384</td>\n",
       "      <td>NaN</td>\n",
       "      <td>NaN</td>\n",
       "      <td>NaN</td>\n",
       "      <td>NaN</td>\n",
       "      <td>NaN</td>\n",
       "      <td>NaN</td>\n",
       "      <td>NaN</td>\n",
       "      <td>NaN</td>\n",
       "      <td>...</td>\n",
       "      <td>NaN</td>\n",
       "      <td>NaN</td>\n",
       "      <td>NaN</td>\n",
       "      <td>NaN</td>\n",
       "      <td>NaN</td>\n",
       "      <td>NaN</td>\n",
       "      <td>NaN</td>\n",
       "      <td>NaN</td>\n",
       "      <td>NaN</td>\n",
       "      <td>NaN</td>\n",
       "    </tr>\n",
       "    <tr>\n",
       "      <th>11</th>\n",
       "      <td>201406</td>\n",
       "      <td>1000032028</td>\n",
       "      <td>290.680033</td>\n",
       "      <td>239.531440</td>\n",
       "      <td>205.811635</td>\n",
       "      <td>179.965713</td>\n",
       "      <td>163.688223</td>\n",
       "      <td>164.270719</td>\n",
       "      <td>190.419078</td>\n",
       "      <td>248.770715</td>\n",
       "      <td>...</td>\n",
       "      <td>NaN</td>\n",
       "      <td>NaN</td>\n",
       "      <td>NaN</td>\n",
       "      <td>NaN</td>\n",
       "      <td>NaN</td>\n",
       "      <td>NaN</td>\n",
       "      <td>NaN</td>\n",
       "      <td>NaN</td>\n",
       "      <td>NaN</td>\n",
       "      <td>NaN</td>\n",
       "    </tr>\n",
       "    <tr>\n",
       "      <th>12</th>\n",
       "      <td>201406</td>\n",
       "      <td>1000031706</td>\n",
       "      <td>198.493194</td>\n",
       "      <td>167.362223</td>\n",
       "      <td>NaN</td>\n",
       "      <td>NaN</td>\n",
       "      <td>NaN</td>\n",
       "      <td>NaN</td>\n",
       "      <td>158.997026</td>\n",
       "      <td>227.081256</td>\n",
       "      <td>...</td>\n",
       "      <td>NaN</td>\n",
       "      <td>NaN</td>\n",
       "      <td>NaN</td>\n",
       "      <td>NaN</td>\n",
       "      <td>NaN</td>\n",
       "      <td>NaN</td>\n",
       "      <td>NaN</td>\n",
       "      <td>NaN</td>\n",
       "      <td>NaN</td>\n",
       "      <td>NaN</td>\n",
       "    </tr>\n",
       "    <tr>\n",
       "      <th>13</th>\n",
       "      <td>201406</td>\n",
       "      <td>1000031705</td>\n",
       "      <td>NaN</td>\n",
       "      <td>NaN</td>\n",
       "      <td>NaN</td>\n",
       "      <td>NaN</td>\n",
       "      <td>NaN</td>\n",
       "      <td>NaN</td>\n",
       "      <td>NaN</td>\n",
       "      <td>NaN</td>\n",
       "      <td>...</td>\n",
       "      <td>NaN</td>\n",
       "      <td>NaN</td>\n",
       "      <td>NaN</td>\n",
       "      <td>NaN</td>\n",
       "      <td>NaN</td>\n",
       "      <td>NaN</td>\n",
       "      <td>NaN</td>\n",
       "      <td>NaN</td>\n",
       "      <td>NaN</td>\n",
       "      <td>NaN</td>\n",
       "    </tr>\n",
       "    <tr>\n",
       "      <th>14</th>\n",
       "      <td>201406</td>\n",
       "      <td>1000031387</td>\n",
       "      <td>NaN</td>\n",
       "      <td>NaN</td>\n",
       "      <td>NaN</td>\n",
       "      <td>NaN</td>\n",
       "      <td>NaN</td>\n",
       "      <td>NaN</td>\n",
       "      <td>NaN</td>\n",
       "      <td>NaN</td>\n",
       "      <td>...</td>\n",
       "      <td>NaN</td>\n",
       "      <td>NaN</td>\n",
       "      <td>NaN</td>\n",
       "      <td>NaN</td>\n",
       "      <td>NaN</td>\n",
       "      <td>NaN</td>\n",
       "      <td>NaN</td>\n",
       "      <td>NaN</td>\n",
       "      <td>NaN</td>\n",
       "      <td>NaN</td>\n",
       "    </tr>\n",
       "    <tr>\n",
       "      <th>15</th>\n",
       "      <td>201406</td>\n",
       "      <td>1000031389</td>\n",
       "      <td>NaN</td>\n",
       "      <td>NaN</td>\n",
       "      <td>NaN</td>\n",
       "      <td>NaN</td>\n",
       "      <td>NaN</td>\n",
       "      <td>NaN</td>\n",
       "      <td>NaN</td>\n",
       "      <td>NaN</td>\n",
       "      <td>...</td>\n",
       "      <td>NaN</td>\n",
       "      <td>NaN</td>\n",
       "      <td>NaN</td>\n",
       "      <td>NaN</td>\n",
       "      <td>NaN</td>\n",
       "      <td>NaN</td>\n",
       "      <td>NaN</td>\n",
       "      <td>NaN</td>\n",
       "      <td>NaN</td>\n",
       "      <td>NaN</td>\n",
       "    </tr>\n",
       "    <tr>\n",
       "      <th>16</th>\n",
       "      <td>201406</td>\n",
       "      <td>1000031067</td>\n",
       "      <td>NaN</td>\n",
       "      <td>NaN</td>\n",
       "      <td>NaN</td>\n",
       "      <td>NaN</td>\n",
       "      <td>NaN</td>\n",
       "      <td>NaN</td>\n",
       "      <td>NaN</td>\n",
       "      <td>NaN</td>\n",
       "      <td>...</td>\n",
       "      <td>NaN</td>\n",
       "      <td>NaN</td>\n",
       "      <td>NaN</td>\n",
       "      <td>NaN</td>\n",
       "      <td>NaN</td>\n",
       "      <td>NaN</td>\n",
       "      <td>NaN</td>\n",
       "      <td>NaN</td>\n",
       "      <td>NaN</td>\n",
       "      <td>NaN</td>\n",
       "    </tr>\n",
       "    <tr>\n",
       "      <th>17</th>\n",
       "      <td>201406</td>\n",
       "      <td>1000032026</td>\n",
       "      <td>NaN</td>\n",
       "      <td>NaN</td>\n",
       "      <td>NaN</td>\n",
       "      <td>NaN</td>\n",
       "      <td>NaN</td>\n",
       "      <td>NaN</td>\n",
       "      <td>NaN</td>\n",
       "      <td>NaN</td>\n",
       "      <td>...</td>\n",
       "      <td>NaN</td>\n",
       "      <td>NaN</td>\n",
       "      <td>NaN</td>\n",
       "      <td>NaN</td>\n",
       "      <td>NaN</td>\n",
       "      <td>NaN</td>\n",
       "      <td>NaN</td>\n",
       "      <td>NaN</td>\n",
       "      <td>NaN</td>\n",
       "      <td>NaN</td>\n",
       "    </tr>\n",
       "    <tr>\n",
       "      <th>18</th>\n",
       "      <td>201406</td>\n",
       "      <td>1000031064</td>\n",
       "      <td>NaN</td>\n",
       "      <td>NaN</td>\n",
       "      <td>NaN</td>\n",
       "      <td>NaN</td>\n",
       "      <td>NaN</td>\n",
       "      <td>NaN</td>\n",
       "      <td>NaN</td>\n",
       "      <td>NaN</td>\n",
       "      <td>...</td>\n",
       "      <td>NaN</td>\n",
       "      <td>NaN</td>\n",
       "      <td>NaN</td>\n",
       "      <td>NaN</td>\n",
       "      <td>NaN</td>\n",
       "      <td>NaN</td>\n",
       "      <td>NaN</td>\n",
       "      <td>NaN</td>\n",
       "      <td>NaN</td>\n",
       "      <td>NaN</td>\n",
       "    </tr>\n",
       "    <tr>\n",
       "      <th>19</th>\n",
       "      <td>201406</td>\n",
       "      <td>1000031386</td>\n",
       "      <td>NaN</td>\n",
       "      <td>NaN</td>\n",
       "      <td>NaN</td>\n",
       "      <td>NaN</td>\n",
       "      <td>NaN</td>\n",
       "      <td>NaN</td>\n",
       "      <td>NaN</td>\n",
       "      <td>NaN</td>\n",
       "      <td>...</td>\n",
       "      <td>NaN</td>\n",
       "      <td>NaN</td>\n",
       "      <td>NaN</td>\n",
       "      <td>NaN</td>\n",
       "      <td>NaN</td>\n",
       "      <td>NaN</td>\n",
       "      <td>NaN</td>\n",
       "      <td>NaN</td>\n",
       "      <td>NaN</td>\n",
       "      <td>NaN</td>\n",
       "    </tr>\n",
       "    <tr>\n",
       "      <th>20</th>\n",
       "      <td>201406</td>\n",
       "      <td>1000031068</td>\n",
       "      <td>NaN</td>\n",
       "      <td>NaN</td>\n",
       "      <td>NaN</td>\n",
       "      <td>NaN</td>\n",
       "      <td>NaN</td>\n",
       "      <td>NaN</td>\n",
       "      <td>NaN</td>\n",
       "      <td>NaN</td>\n",
       "      <td>...</td>\n",
       "      <td>NaN</td>\n",
       "      <td>NaN</td>\n",
       "      <td>NaN</td>\n",
       "      <td>NaN</td>\n",
       "      <td>NaN</td>\n",
       "      <td>NaN</td>\n",
       "      <td>NaN</td>\n",
       "      <td>NaN</td>\n",
       "      <td>NaN</td>\n",
       "      <td>NaN</td>\n",
       "    </tr>\n",
       "    <tr>\n",
       "      <th>21</th>\n",
       "      <td>201406</td>\n",
       "      <td>1000031062</td>\n",
       "      <td>NaN</td>\n",
       "      <td>NaN</td>\n",
       "      <td>NaN</td>\n",
       "      <td>NaN</td>\n",
       "      <td>NaN</td>\n",
       "      <td>NaN</td>\n",
       "      <td>NaN</td>\n",
       "      <td>NaN</td>\n",
       "      <td>...</td>\n",
       "      <td>NaN</td>\n",
       "      <td>NaN</td>\n",
       "      <td>NaN</td>\n",
       "      <td>NaN</td>\n",
       "      <td>NaN</td>\n",
       "      <td>NaN</td>\n",
       "      <td>NaN</td>\n",
       "      <td>NaN</td>\n",
       "      <td>NaN</td>\n",
       "      <td>NaN</td>\n",
       "    </tr>\n",
       "    <tr>\n",
       "      <th>22</th>\n",
       "      <td>201406</td>\n",
       "      <td>1000030426</td>\n",
       "      <td>NaN</td>\n",
       "      <td>NaN</td>\n",
       "      <td>NaN</td>\n",
       "      <td>NaN</td>\n",
       "      <td>NaN</td>\n",
       "      <td>NaN</td>\n",
       "      <td>NaN</td>\n",
       "      <td>NaN</td>\n",
       "      <td>...</td>\n",
       "      <td>NaN</td>\n",
       "      <td>NaN</td>\n",
       "      <td>NaN</td>\n",
       "      <td>NaN</td>\n",
       "      <td>NaN</td>\n",
       "      <td>NaN</td>\n",
       "      <td>NaN</td>\n",
       "      <td>NaN</td>\n",
       "      <td>NaN</td>\n",
       "      <td>NaN</td>\n",
       "    </tr>\n",
       "    <tr>\n",
       "      <th>23</th>\n",
       "      <td>201406</td>\n",
       "      <td>1000032668</td>\n",
       "      <td>NaN</td>\n",
       "      <td>NaN</td>\n",
       "      <td>NaN</td>\n",
       "      <td>NaN</td>\n",
       "      <td>NaN</td>\n",
       "      <td>NaN</td>\n",
       "      <td>NaN</td>\n",
       "      <td>NaN</td>\n",
       "      <td>...</td>\n",
       "      <td>NaN</td>\n",
       "      <td>NaN</td>\n",
       "      <td>NaN</td>\n",
       "      <td>NaN</td>\n",
       "      <td>NaN</td>\n",
       "      <td>NaN</td>\n",
       "      <td>NaN</td>\n",
       "      <td>NaN</td>\n",
       "      <td>NaN</td>\n",
       "      <td>NaN</td>\n",
       "    </tr>\n",
       "    <tr>\n",
       "      <th>24</th>\n",
       "      <td>201406</td>\n",
       "      <td>1000030740</td>\n",
       "      <td>NaN</td>\n",
       "      <td>NaN</td>\n",
       "      <td>NaN</td>\n",
       "      <td>NaN</td>\n",
       "      <td>NaN</td>\n",
       "      <td>NaN</td>\n",
       "      <td>NaN</td>\n",
       "      <td>NaN</td>\n",
       "      <td>...</td>\n",
       "      <td>NaN</td>\n",
       "      <td>NaN</td>\n",
       "      <td>NaN</td>\n",
       "      <td>NaN</td>\n",
       "      <td>NaN</td>\n",
       "      <td>NaN</td>\n",
       "      <td>NaN</td>\n",
       "      <td>NaN</td>\n",
       "      <td>NaN</td>\n",
       "      <td>NaN</td>\n",
       "    </tr>\n",
       "    <tr>\n",
       "      <th>25</th>\n",
       "      <td>201406</td>\n",
       "      <td>1000030748</td>\n",
       "      <td>NaN</td>\n",
       "      <td>NaN</td>\n",
       "      <td>NaN</td>\n",
       "      <td>NaN</td>\n",
       "      <td>NaN</td>\n",
       "      <td>NaN</td>\n",
       "      <td>NaN</td>\n",
       "      <td>NaN</td>\n",
       "      <td>...</td>\n",
       "      <td>NaN</td>\n",
       "      <td>NaN</td>\n",
       "      <td>NaN</td>\n",
       "      <td>NaN</td>\n",
       "      <td>NaN</td>\n",
       "      <td>NaN</td>\n",
       "      <td>NaN</td>\n",
       "      <td>NaN</td>\n",
       "      <td>NaN</td>\n",
       "      <td>NaN</td>\n",
       "    </tr>\n",
       "    <tr>\n",
       "      <th>26</th>\n",
       "      <td>201406</td>\n",
       "      <td>1000030743</td>\n",
       "      <td>NaN</td>\n",
       "      <td>NaN</td>\n",
       "      <td>NaN</td>\n",
       "      <td>NaN</td>\n",
       "      <td>NaN</td>\n",
       "      <td>NaN</td>\n",
       "      <td>NaN</td>\n",
       "      <td>NaN</td>\n",
       "      <td>...</td>\n",
       "      <td>NaN</td>\n",
       "      <td>NaN</td>\n",
       "      <td>NaN</td>\n",
       "      <td>NaN</td>\n",
       "      <td>NaN</td>\n",
       "      <td>NaN</td>\n",
       "      <td>NaN</td>\n",
       "      <td>NaN</td>\n",
       "      <td>NaN</td>\n",
       "      <td>NaN</td>\n",
       "    </tr>\n",
       "    <tr>\n",
       "      <th>27</th>\n",
       "      <td>201406</td>\n",
       "      <td>1000029776</td>\n",
       "      <td>NaN</td>\n",
       "      <td>NaN</td>\n",
       "      <td>NaN</td>\n",
       "      <td>NaN</td>\n",
       "      <td>NaN</td>\n",
       "      <td>NaN</td>\n",
       "      <td>NaN</td>\n",
       "      <td>NaN</td>\n",
       "      <td>...</td>\n",
       "      <td>NaN</td>\n",
       "      <td>NaN</td>\n",
       "      <td>NaN</td>\n",
       "      <td>NaN</td>\n",
       "      <td>NaN</td>\n",
       "      <td>NaN</td>\n",
       "      <td>NaN</td>\n",
       "      <td>NaN</td>\n",
       "      <td>NaN</td>\n",
       "      <td>NaN</td>\n",
       "    </tr>\n",
       "    <tr>\n",
       "      <th>28</th>\n",
       "      <td>201406</td>\n",
       "      <td>1000031385</td>\n",
       "      <td>NaN</td>\n",
       "      <td>NaN</td>\n",
       "      <td>NaN</td>\n",
       "      <td>NaN</td>\n",
       "      <td>NaN</td>\n",
       "      <td>NaN</td>\n",
       "      <td>NaN</td>\n",
       "      <td>NaN</td>\n",
       "      <td>...</td>\n",
       "      <td>NaN</td>\n",
       "      <td>NaN</td>\n",
       "      <td>NaN</td>\n",
       "      <td>NaN</td>\n",
       "      <td>NaN</td>\n",
       "      <td>NaN</td>\n",
       "      <td>NaN</td>\n",
       "      <td>NaN</td>\n",
       "      <td>NaN</td>\n",
       "      <td>NaN</td>\n",
       "    </tr>\n",
       "    <tr>\n",
       "      <th>29</th>\n",
       "      <td>201406</td>\n",
       "      <td>1000032029</td>\n",
       "      <td>330.171191</td>\n",
       "      <td>270.769124</td>\n",
       "      <td>230.724194</td>\n",
       "      <td>198.578698</td>\n",
       "      <td>172.605522</td>\n",
       "      <td>168.776379</td>\n",
       "      <td>193.338238</td>\n",
       "      <td>247.989489</td>\n",
       "      <td>...</td>\n",
       "      <td>NaN</td>\n",
       "      <td>NaN</td>\n",
       "      <td>NaN</td>\n",
       "      <td>NaN</td>\n",
       "      <td>NaN</td>\n",
       "      <td>NaN</td>\n",
       "      <td>NaN</td>\n",
       "      <td>NaN</td>\n",
       "      <td>NaN</td>\n",
       "      <td>NaN</td>\n",
       "    </tr>\n",
       "    <tr>\n",
       "      <th>...</th>\n",
       "      <td>...</td>\n",
       "      <td>...</td>\n",
       "      <td>...</td>\n",
       "      <td>...</td>\n",
       "      <td>...</td>\n",
       "      <td>...</td>\n",
       "      <td>...</td>\n",
       "      <td>...</td>\n",
       "      <td>...</td>\n",
       "      <td>...</td>\n",
       "      <td>...</td>\n",
       "      <td>...</td>\n",
       "      <td>...</td>\n",
       "      <td>...</td>\n",
       "      <td>...</td>\n",
       "      <td>...</td>\n",
       "      <td>...</td>\n",
       "      <td>...</td>\n",
       "      <td>...</td>\n",
       "      <td>...</td>\n",
       "      <td>...</td>\n",
       "    </tr>\n",
       "    <tr>\n",
       "      <th>10080</th>\n",
       "      <td>201406</td>\n",
       "      <td>1000044802</td>\n",
       "      <td>NaN</td>\n",
       "      <td>NaN</td>\n",
       "      <td>NaN</td>\n",
       "      <td>NaN</td>\n",
       "      <td>NaN</td>\n",
       "      <td>NaN</td>\n",
       "      <td>NaN</td>\n",
       "      <td>NaN</td>\n",
       "      <td>...</td>\n",
       "      <td>NaN</td>\n",
       "      <td>NaN</td>\n",
       "      <td>NaN</td>\n",
       "      <td>NaN</td>\n",
       "      <td>NaN</td>\n",
       "      <td>NaN</td>\n",
       "      <td>NaN</td>\n",
       "      <td>NaN</td>\n",
       "      <td>NaN</td>\n",
       "      <td>NaN</td>\n",
       "    </tr>\n",
       "    <tr>\n",
       "      <th>10081</th>\n",
       "      <td>201406</td>\n",
       "      <td>1000028297</td>\n",
       "      <td>NaN</td>\n",
       "      <td>NaN</td>\n",
       "      <td>NaN</td>\n",
       "      <td>NaN</td>\n",
       "      <td>NaN</td>\n",
       "      <td>NaN</td>\n",
       "      <td>NaN</td>\n",
       "      <td>NaN</td>\n",
       "      <td>...</td>\n",
       "      <td>NaN</td>\n",
       "      <td>NaN</td>\n",
       "      <td>NaN</td>\n",
       "      <td>NaN</td>\n",
       "      <td>NaN</td>\n",
       "      <td>NaN</td>\n",
       "      <td>NaN</td>\n",
       "      <td>NaN</td>\n",
       "      <td>NaN</td>\n",
       "      <td>NaN</td>\n",
       "    </tr>\n",
       "    <tr>\n",
       "      <th>10082</th>\n",
       "      <td>201406</td>\n",
       "      <td>1000041147</td>\n",
       "      <td>NaN</td>\n",
       "      <td>NaN</td>\n",
       "      <td>NaN</td>\n",
       "      <td>NaN</td>\n",
       "      <td>NaN</td>\n",
       "      <td>NaN</td>\n",
       "      <td>NaN</td>\n",
       "      <td>NaN</td>\n",
       "      <td>...</td>\n",
       "      <td>NaN</td>\n",
       "      <td>NaN</td>\n",
       "      <td>NaN</td>\n",
       "      <td>NaN</td>\n",
       "      <td>NaN</td>\n",
       "      <td>NaN</td>\n",
       "      <td>NaN</td>\n",
       "      <td>NaN</td>\n",
       "      <td>NaN</td>\n",
       "      <td>NaN</td>\n",
       "    </tr>\n",
       "    <tr>\n",
       "      <th>10083</th>\n",
       "      <td>201406</td>\n",
       "      <td>1000051371</td>\n",
       "      <td>NaN</td>\n",
       "      <td>NaN</td>\n",
       "      <td>NaN</td>\n",
       "      <td>NaN</td>\n",
       "      <td>NaN</td>\n",
       "      <td>NaN</td>\n",
       "      <td>NaN</td>\n",
       "      <td>NaN</td>\n",
       "      <td>...</td>\n",
       "      <td>NaN</td>\n",
       "      <td>NaN</td>\n",
       "      <td>NaN</td>\n",
       "      <td>NaN</td>\n",
       "      <td>NaN</td>\n",
       "      <td>NaN</td>\n",
       "      <td>NaN</td>\n",
       "      <td>NaN</td>\n",
       "      <td>NaN</td>\n",
       "      <td>NaN</td>\n",
       "    </tr>\n",
       "    <tr>\n",
       "      <th>10084</th>\n",
       "      <td>201406</td>\n",
       "      <td>1000050408</td>\n",
       "      <td>NaN</td>\n",
       "      <td>NaN</td>\n",
       "      <td>NaN</td>\n",
       "      <td>NaN</td>\n",
       "      <td>NaN</td>\n",
       "      <td>NaN</td>\n",
       "      <td>NaN</td>\n",
       "      <td>NaN</td>\n",
       "      <td>...</td>\n",
       "      <td>NaN</td>\n",
       "      <td>NaN</td>\n",
       "      <td>NaN</td>\n",
       "      <td>NaN</td>\n",
       "      <td>NaN</td>\n",
       "      <td>NaN</td>\n",
       "      <td>NaN</td>\n",
       "      <td>NaN</td>\n",
       "      <td>NaN</td>\n",
       "      <td>NaN</td>\n",
       "    </tr>\n",
       "    <tr>\n",
       "      <th>10085</th>\n",
       "      <td>201406</td>\n",
       "      <td>1000034250</td>\n",
       "      <td>NaN</td>\n",
       "      <td>NaN</td>\n",
       "      <td>NaN</td>\n",
       "      <td>NaN</td>\n",
       "      <td>NaN</td>\n",
       "      <td>NaN</td>\n",
       "      <td>NaN</td>\n",
       "      <td>NaN</td>\n",
       "      <td>...</td>\n",
       "      <td>NaN</td>\n",
       "      <td>NaN</td>\n",
       "      <td>NaN</td>\n",
       "      <td>NaN</td>\n",
       "      <td>NaN</td>\n",
       "      <td>NaN</td>\n",
       "      <td>NaN</td>\n",
       "      <td>NaN</td>\n",
       "      <td>NaN</td>\n",
       "      <td>NaN</td>\n",
       "    </tr>\n",
       "    <tr>\n",
       "      <th>10086</th>\n",
       "      <td>201406</td>\n",
       "      <td>1000062137</td>\n",
       "      <td>NaN</td>\n",
       "      <td>NaN</td>\n",
       "      <td>NaN</td>\n",
       "      <td>NaN</td>\n",
       "      <td>NaN</td>\n",
       "      <td>NaN</td>\n",
       "      <td>NaN</td>\n",
       "      <td>NaN</td>\n",
       "      <td>...</td>\n",
       "      <td>NaN</td>\n",
       "      <td>NaN</td>\n",
       "      <td>NaN</td>\n",
       "      <td>NaN</td>\n",
       "      <td>NaN</td>\n",
       "      <td>NaN</td>\n",
       "      <td>NaN</td>\n",
       "      <td>NaN</td>\n",
       "      <td>NaN</td>\n",
       "      <td>NaN</td>\n",
       "    </tr>\n",
       "    <tr>\n",
       "      <th>10087</th>\n",
       "      <td>201406</td>\n",
       "      <td>1000048195</td>\n",
       "      <td>NaN</td>\n",
       "      <td>NaN</td>\n",
       "      <td>NaN</td>\n",
       "      <td>NaN</td>\n",
       "      <td>NaN</td>\n",
       "      <td>NaN</td>\n",
       "      <td>NaN</td>\n",
       "      <td>NaN</td>\n",
       "      <td>...</td>\n",
       "      <td>NaN</td>\n",
       "      <td>NaN</td>\n",
       "      <td>NaN</td>\n",
       "      <td>NaN</td>\n",
       "      <td>NaN</td>\n",
       "      <td>NaN</td>\n",
       "      <td>NaN</td>\n",
       "      <td>NaN</td>\n",
       "      <td>NaN</td>\n",
       "      <td>NaN</td>\n",
       "    </tr>\n",
       "    <tr>\n",
       "      <th>10088</th>\n",
       "      <td>201406</td>\n",
       "      <td>1000042731</td>\n",
       "      <td>NaN</td>\n",
       "      <td>NaN</td>\n",
       "      <td>NaN</td>\n",
       "      <td>NaN</td>\n",
       "      <td>NaN</td>\n",
       "      <td>NaN</td>\n",
       "      <td>NaN</td>\n",
       "      <td>NaN</td>\n",
       "      <td>...</td>\n",
       "      <td>NaN</td>\n",
       "      <td>NaN</td>\n",
       "      <td>NaN</td>\n",
       "      <td>NaN</td>\n",
       "      <td>NaN</td>\n",
       "      <td>NaN</td>\n",
       "      <td>NaN</td>\n",
       "      <td>NaN</td>\n",
       "      <td>NaN</td>\n",
       "      <td>NaN</td>\n",
       "    </tr>\n",
       "    <tr>\n",
       "      <th>10089</th>\n",
       "      <td>201406</td>\n",
       "      <td>1000041773</td>\n",
       "      <td>NaN</td>\n",
       "      <td>NaN</td>\n",
       "      <td>NaN</td>\n",
       "      <td>NaN</td>\n",
       "      <td>NaN</td>\n",
       "      <td>NaN</td>\n",
       "      <td>NaN</td>\n",
       "      <td>NaN</td>\n",
       "      <td>...</td>\n",
       "      <td>NaN</td>\n",
       "      <td>NaN</td>\n",
       "      <td>NaN</td>\n",
       "      <td>NaN</td>\n",
       "      <td>NaN</td>\n",
       "      <td>NaN</td>\n",
       "      <td>NaN</td>\n",
       "      <td>NaN</td>\n",
       "      <td>NaN</td>\n",
       "      <td>NaN</td>\n",
       "    </tr>\n",
       "    <tr>\n",
       "      <th>10090</th>\n",
       "      <td>201406</td>\n",
       "      <td>1000036177</td>\n",
       "      <td>NaN</td>\n",
       "      <td>NaN</td>\n",
       "      <td>NaN</td>\n",
       "      <td>NaN</td>\n",
       "      <td>NaN</td>\n",
       "      <td>NaN</td>\n",
       "      <td>NaN</td>\n",
       "      <td>NaN</td>\n",
       "      <td>...</td>\n",
       "      <td>NaN</td>\n",
       "      <td>NaN</td>\n",
       "      <td>NaN</td>\n",
       "      <td>NaN</td>\n",
       "      <td>NaN</td>\n",
       "      <td>NaN</td>\n",
       "      <td>NaN</td>\n",
       "      <td>NaN</td>\n",
       "      <td>NaN</td>\n",
       "      <td>NaN</td>\n",
       "    </tr>\n",
       "    <tr>\n",
       "      <th>10091</th>\n",
       "      <td>201406</td>\n",
       "      <td>1000033936</td>\n",
       "      <td>NaN</td>\n",
       "      <td>NaN</td>\n",
       "      <td>NaN</td>\n",
       "      <td>NaN</td>\n",
       "      <td>NaN</td>\n",
       "      <td>NaN</td>\n",
       "      <td>NaN</td>\n",
       "      <td>NaN</td>\n",
       "      <td>...</td>\n",
       "      <td>NaN</td>\n",
       "      <td>NaN</td>\n",
       "      <td>NaN</td>\n",
       "      <td>NaN</td>\n",
       "      <td>NaN</td>\n",
       "      <td>NaN</td>\n",
       "      <td>NaN</td>\n",
       "      <td>NaN</td>\n",
       "      <td>NaN</td>\n",
       "      <td>NaN</td>\n",
       "    </tr>\n",
       "    <tr>\n",
       "      <th>10092</th>\n",
       "      <td>201406</td>\n",
       "      <td>1000057351</td>\n",
       "      <td>NaN</td>\n",
       "      <td>NaN</td>\n",
       "      <td>NaN</td>\n",
       "      <td>NaN</td>\n",
       "      <td>NaN</td>\n",
       "      <td>NaN</td>\n",
       "      <td>NaN</td>\n",
       "      <td>NaN</td>\n",
       "      <td>...</td>\n",
       "      <td>NaN</td>\n",
       "      <td>NaN</td>\n",
       "      <td>NaN</td>\n",
       "      <td>NaN</td>\n",
       "      <td>NaN</td>\n",
       "      <td>NaN</td>\n",
       "      <td>NaN</td>\n",
       "      <td>NaN</td>\n",
       "      <td>NaN</td>\n",
       "      <td>NaN</td>\n",
       "    </tr>\n",
       "    <tr>\n",
       "      <th>10093</th>\n",
       "      <td>201406</td>\n",
       "      <td>1000051692</td>\n",
       "      <td>NaN</td>\n",
       "      <td>NaN</td>\n",
       "      <td>NaN</td>\n",
       "      <td>NaN</td>\n",
       "      <td>NaN</td>\n",
       "      <td>NaN</td>\n",
       "      <td>NaN</td>\n",
       "      <td>NaN</td>\n",
       "      <td>...</td>\n",
       "      <td>NaN</td>\n",
       "      <td>NaN</td>\n",
       "      <td>NaN</td>\n",
       "      <td>NaN</td>\n",
       "      <td>NaN</td>\n",
       "      <td>NaN</td>\n",
       "      <td>NaN</td>\n",
       "      <td>NaN</td>\n",
       "      <td>NaN</td>\n",
       "      <td>NaN</td>\n",
       "    </tr>\n",
       "    <tr>\n",
       "      <th>10094</th>\n",
       "      <td>201406</td>\n",
       "      <td>1000058706</td>\n",
       "      <td>NaN</td>\n",
       "      <td>NaN</td>\n",
       "      <td>NaN</td>\n",
       "      <td>NaN</td>\n",
       "      <td>NaN</td>\n",
       "      <td>NaN</td>\n",
       "      <td>NaN</td>\n",
       "      <td>NaN</td>\n",
       "      <td>...</td>\n",
       "      <td>NaN</td>\n",
       "      <td>NaN</td>\n",
       "      <td>NaN</td>\n",
       "      <td>NaN</td>\n",
       "      <td>NaN</td>\n",
       "      <td>NaN</td>\n",
       "      <td>NaN</td>\n",
       "      <td>NaN</td>\n",
       "      <td>NaN</td>\n",
       "      <td>NaN</td>\n",
       "    </tr>\n",
       "    <tr>\n",
       "      <th>10095</th>\n",
       "      <td>201406</td>\n",
       "      <td>1000033619</td>\n",
       "      <td>NaN</td>\n",
       "      <td>NaN</td>\n",
       "      <td>NaN</td>\n",
       "      <td>NaN</td>\n",
       "      <td>NaN</td>\n",
       "      <td>NaN</td>\n",
       "      <td>NaN</td>\n",
       "      <td>NaN</td>\n",
       "      <td>...</td>\n",
       "      <td>NaN</td>\n",
       "      <td>NaN</td>\n",
       "      <td>NaN</td>\n",
       "      <td>NaN</td>\n",
       "      <td>NaN</td>\n",
       "      <td>NaN</td>\n",
       "      <td>NaN</td>\n",
       "      <td>NaN</td>\n",
       "      <td>NaN</td>\n",
       "      <td>NaN</td>\n",
       "    </tr>\n",
       "    <tr>\n",
       "      <th>10096</th>\n",
       "      <td>201406</td>\n",
       "      <td>1000034248</td>\n",
       "      <td>NaN</td>\n",
       "      <td>NaN</td>\n",
       "      <td>NaN</td>\n",
       "      <td>NaN</td>\n",
       "      <td>NaN</td>\n",
       "      <td>NaN</td>\n",
       "      <td>NaN</td>\n",
       "      <td>NaN</td>\n",
       "      <td>...</td>\n",
       "      <td>NaN</td>\n",
       "      <td>NaN</td>\n",
       "      <td>NaN</td>\n",
       "      <td>NaN</td>\n",
       "      <td>NaN</td>\n",
       "      <td>NaN</td>\n",
       "      <td>NaN</td>\n",
       "      <td>NaN</td>\n",
       "      <td>NaN</td>\n",
       "      <td>NaN</td>\n",
       "    </tr>\n",
       "    <tr>\n",
       "      <th>10097</th>\n",
       "      <td>201406</td>\n",
       "      <td>1000033927</td>\n",
       "      <td>NaN</td>\n",
       "      <td>NaN</td>\n",
       "      <td>NaN</td>\n",
       "      <td>NaN</td>\n",
       "      <td>NaN</td>\n",
       "      <td>NaN</td>\n",
       "      <td>NaN</td>\n",
       "      <td>NaN</td>\n",
       "      <td>...</td>\n",
       "      <td>NaN</td>\n",
       "      <td>NaN</td>\n",
       "      <td>NaN</td>\n",
       "      <td>NaN</td>\n",
       "      <td>NaN</td>\n",
       "      <td>NaN</td>\n",
       "      <td>NaN</td>\n",
       "      <td>NaN</td>\n",
       "      <td>NaN</td>\n",
       "      <td>NaN</td>\n",
       "    </tr>\n",
       "    <tr>\n",
       "      <th>10098</th>\n",
       "      <td>201406</td>\n",
       "      <td>1000042411</td>\n",
       "      <td>NaN</td>\n",
       "      <td>NaN</td>\n",
       "      <td>NaN</td>\n",
       "      <td>NaN</td>\n",
       "      <td>NaN</td>\n",
       "      <td>NaN</td>\n",
       "      <td>NaN</td>\n",
       "      <td>NaN</td>\n",
       "      <td>...</td>\n",
       "      <td>NaN</td>\n",
       "      <td>NaN</td>\n",
       "      <td>NaN</td>\n",
       "      <td>NaN</td>\n",
       "      <td>NaN</td>\n",
       "      <td>NaN</td>\n",
       "      <td>NaN</td>\n",
       "      <td>NaN</td>\n",
       "      <td>NaN</td>\n",
       "      <td>NaN</td>\n",
       "    </tr>\n",
       "    <tr>\n",
       "      <th>10099</th>\n",
       "      <td>201406</td>\n",
       "      <td>1000041466</td>\n",
       "      <td>NaN</td>\n",
       "      <td>NaN</td>\n",
       "      <td>NaN</td>\n",
       "      <td>NaN</td>\n",
       "      <td>NaN</td>\n",
       "      <td>NaN</td>\n",
       "      <td>NaN</td>\n",
       "      <td>NaN</td>\n",
       "      <td>...</td>\n",
       "      <td>NaN</td>\n",
       "      <td>NaN</td>\n",
       "      <td>NaN</td>\n",
       "      <td>NaN</td>\n",
       "      <td>NaN</td>\n",
       "      <td>NaN</td>\n",
       "      <td>NaN</td>\n",
       "      <td>NaN</td>\n",
       "      <td>NaN</td>\n",
       "      <td>NaN</td>\n",
       "    </tr>\n",
       "    <tr>\n",
       "      <th>10100</th>\n",
       "      <td>201406</td>\n",
       "      <td>1000060237</td>\n",
       "      <td>NaN</td>\n",
       "      <td>NaN</td>\n",
       "      <td>NaN</td>\n",
       "      <td>NaN</td>\n",
       "      <td>NaN</td>\n",
       "      <td>NaN</td>\n",
       "      <td>NaN</td>\n",
       "      <td>NaN</td>\n",
       "      <td>...</td>\n",
       "      <td>NaN</td>\n",
       "      <td>NaN</td>\n",
       "      <td>NaN</td>\n",
       "      <td>NaN</td>\n",
       "      <td>NaN</td>\n",
       "      <td>NaN</td>\n",
       "      <td>NaN</td>\n",
       "      <td>NaN</td>\n",
       "      <td>NaN</td>\n",
       "      <td>NaN</td>\n",
       "    </tr>\n",
       "    <tr>\n",
       "      <th>10101</th>\n",
       "      <td>201406</td>\n",
       "      <td>1000027975</td>\n",
       "      <td>NaN</td>\n",
       "      <td>NaN</td>\n",
       "      <td>NaN</td>\n",
       "      <td>NaN</td>\n",
       "      <td>NaN</td>\n",
       "      <td>NaN</td>\n",
       "      <td>NaN</td>\n",
       "      <td>NaN</td>\n",
       "      <td>...</td>\n",
       "      <td>NaN</td>\n",
       "      <td>NaN</td>\n",
       "      <td>NaN</td>\n",
       "      <td>NaN</td>\n",
       "      <td>NaN</td>\n",
       "      <td>NaN</td>\n",
       "      <td>NaN</td>\n",
       "      <td>NaN</td>\n",
       "      <td>NaN</td>\n",
       "      <td>NaN</td>\n",
       "    </tr>\n",
       "    <tr>\n",
       "      <th>10102</th>\n",
       "      <td>201406</td>\n",
       "      <td>1000052670</td>\n",
       "      <td>NaN</td>\n",
       "      <td>NaN</td>\n",
       "      <td>NaN</td>\n",
       "      <td>NaN</td>\n",
       "      <td>NaN</td>\n",
       "      <td>NaN</td>\n",
       "      <td>NaN</td>\n",
       "      <td>NaN</td>\n",
       "      <td>...</td>\n",
       "      <td>NaN</td>\n",
       "      <td>NaN</td>\n",
       "      <td>NaN</td>\n",
       "      <td>NaN</td>\n",
       "      <td>NaN</td>\n",
       "      <td>NaN</td>\n",
       "      <td>NaN</td>\n",
       "      <td>NaN</td>\n",
       "      <td>NaN</td>\n",
       "      <td>NaN</td>\n",
       "    </tr>\n",
       "    <tr>\n",
       "      <th>10103</th>\n",
       "      <td>201406</td>\n",
       "      <td>1000060517</td>\n",
       "      <td>NaN</td>\n",
       "      <td>NaN</td>\n",
       "      <td>NaN</td>\n",
       "      <td>NaN</td>\n",
       "      <td>NaN</td>\n",
       "      <td>NaN</td>\n",
       "      <td>NaN</td>\n",
       "      <td>NaN</td>\n",
       "      <td>...</td>\n",
       "      <td>NaN</td>\n",
       "      <td>NaN</td>\n",
       "      <td>NaN</td>\n",
       "      <td>NaN</td>\n",
       "      <td>NaN</td>\n",
       "      <td>NaN</td>\n",
       "      <td>NaN</td>\n",
       "      <td>NaN</td>\n",
       "      <td>NaN</td>\n",
       "      <td>NaN</td>\n",
       "    </tr>\n",
       "    <tr>\n",
       "      <th>10104</th>\n",
       "      <td>201406</td>\n",
       "      <td>1000034898</td>\n",
       "      <td>NaN</td>\n",
       "      <td>NaN</td>\n",
       "      <td>NaN</td>\n",
       "      <td>NaN</td>\n",
       "      <td>NaN</td>\n",
       "      <td>NaN</td>\n",
       "      <td>NaN</td>\n",
       "      <td>NaN</td>\n",
       "      <td>...</td>\n",
       "      <td>NaN</td>\n",
       "      <td>NaN</td>\n",
       "      <td>NaN</td>\n",
       "      <td>NaN</td>\n",
       "      <td>NaN</td>\n",
       "      <td>NaN</td>\n",
       "      <td>NaN</td>\n",
       "      <td>NaN</td>\n",
       "      <td>NaN</td>\n",
       "      <td>NaN</td>\n",
       "    </tr>\n",
       "    <tr>\n",
       "      <th>10105</th>\n",
       "      <td>201406</td>\n",
       "      <td>1000050094</td>\n",
       "      <td>NaN</td>\n",
       "      <td>NaN</td>\n",
       "      <td>NaN</td>\n",
       "      <td>NaN</td>\n",
       "      <td>NaN</td>\n",
       "      <td>NaN</td>\n",
       "      <td>NaN</td>\n",
       "      <td>NaN</td>\n",
       "      <td>...</td>\n",
       "      <td>NaN</td>\n",
       "      <td>NaN</td>\n",
       "      <td>NaN</td>\n",
       "      <td>NaN</td>\n",
       "      <td>NaN</td>\n",
       "      <td>NaN</td>\n",
       "      <td>NaN</td>\n",
       "      <td>NaN</td>\n",
       "      <td>NaN</td>\n",
       "      <td>NaN</td>\n",
       "    </tr>\n",
       "    <tr>\n",
       "      <th>10106</th>\n",
       "      <td>201406</td>\n",
       "      <td>1000062165</td>\n",
       "      <td>NaN</td>\n",
       "      <td>NaN</td>\n",
       "      <td>NaN</td>\n",
       "      <td>NaN</td>\n",
       "      <td>NaN</td>\n",
       "      <td>NaN</td>\n",
       "      <td>NaN</td>\n",
       "      <td>NaN</td>\n",
       "      <td>...</td>\n",
       "      <td>NaN</td>\n",
       "      <td>NaN</td>\n",
       "      <td>NaN</td>\n",
       "      <td>NaN</td>\n",
       "      <td>NaN</td>\n",
       "      <td>NaN</td>\n",
       "      <td>NaN</td>\n",
       "      <td>NaN</td>\n",
       "      <td>NaN</td>\n",
       "      <td>NaN</td>\n",
       "    </tr>\n",
       "    <tr>\n",
       "      <th>10107</th>\n",
       "      <td>201406</td>\n",
       "      <td>1000039850</td>\n",
       "      <td>NaN</td>\n",
       "      <td>NaN</td>\n",
       "      <td>NaN</td>\n",
       "      <td>NaN</td>\n",
       "      <td>NaN</td>\n",
       "      <td>NaN</td>\n",
       "      <td>NaN</td>\n",
       "      <td>NaN</td>\n",
       "      <td>...</td>\n",
       "      <td>NaN</td>\n",
       "      <td>NaN</td>\n",
       "      <td>NaN</td>\n",
       "      <td>NaN</td>\n",
       "      <td>NaN</td>\n",
       "      <td>NaN</td>\n",
       "      <td>NaN</td>\n",
       "      <td>NaN</td>\n",
       "      <td>NaN</td>\n",
       "      <td>NaN</td>\n",
       "    </tr>\n",
       "    <tr>\n",
       "      <th>10108</th>\n",
       "      <td>201406</td>\n",
       "      <td>1000043052</td>\n",
       "      <td>NaN</td>\n",
       "      <td>NaN</td>\n",
       "      <td>NaN</td>\n",
       "      <td>NaN</td>\n",
       "      <td>NaN</td>\n",
       "      <td>NaN</td>\n",
       "      <td>NaN</td>\n",
       "      <td>NaN</td>\n",
       "      <td>...</td>\n",
       "      <td>NaN</td>\n",
       "      <td>NaN</td>\n",
       "      <td>NaN</td>\n",
       "      <td>NaN</td>\n",
       "      <td>NaN</td>\n",
       "      <td>NaN</td>\n",
       "      <td>NaN</td>\n",
       "      <td>NaN</td>\n",
       "      <td>NaN</td>\n",
       "      <td>NaN</td>\n",
       "    </tr>\n",
       "    <tr>\n",
       "      <th>10109</th>\n",
       "      <td>201406</td>\n",
       "      <td>1000038561</td>\n",
       "      <td>NaN</td>\n",
       "      <td>NaN</td>\n",
       "      <td>NaN</td>\n",
       "      <td>NaN</td>\n",
       "      <td>NaN</td>\n",
       "      <td>NaN</td>\n",
       "      <td>NaN</td>\n",
       "      <td>NaN</td>\n",
       "      <td>...</td>\n",
       "      <td>NaN</td>\n",
       "      <td>NaN</td>\n",
       "      <td>NaN</td>\n",
       "      <td>NaN</td>\n",
       "      <td>NaN</td>\n",
       "      <td>NaN</td>\n",
       "      <td>NaN</td>\n",
       "      <td>NaN</td>\n",
       "      <td>NaN</td>\n",
       "      <td>NaN</td>\n",
       "    </tr>\n",
       "  </tbody>\n",
       "</table>\n",
       "<p>10110 rows × 50 columns</p>\n",
       "</div>"
      ],
      "text/plain": [
       "       STD_YM      ID_300  FLOW_POP_CNT_00TMST  FLOW_POP_CNT_01TMST  \\\n",
       "0      201406  1000031709           312.947980           263.972057   \n",
       "1      201406  1000030747                  NaN                  NaN   \n",
       "2      201406  1000031707           229.957330           194.422903   \n",
       "3      201406  1000031388                  NaN                  NaN   \n",
       "4      201406  1000031708           384.201369           320.784622   \n",
       "5      201406  1000030741                  NaN                  NaN   \n",
       "6      201406  1000032349           203.903159           164.497839   \n",
       "7      201406  1000032027           236.215989           193.343749   \n",
       "8      201406  1000031390                  NaN                  NaN   \n",
       "9      201406  1000029783                  NaN                  NaN   \n",
       "10     201406  1000031384                  NaN                  NaN   \n",
       "11     201406  1000032028           290.680033           239.531440   \n",
       "12     201406  1000031706           198.493194           167.362223   \n",
       "13     201406  1000031705                  NaN                  NaN   \n",
       "14     201406  1000031387                  NaN                  NaN   \n",
       "15     201406  1000031389                  NaN                  NaN   \n",
       "16     201406  1000031067                  NaN                  NaN   \n",
       "17     201406  1000032026                  NaN                  NaN   \n",
       "18     201406  1000031064                  NaN                  NaN   \n",
       "19     201406  1000031386                  NaN                  NaN   \n",
       "20     201406  1000031068                  NaN                  NaN   \n",
       "21     201406  1000031062                  NaN                  NaN   \n",
       "22     201406  1000030426                  NaN                  NaN   \n",
       "23     201406  1000032668                  NaN                  NaN   \n",
       "24     201406  1000030740                  NaN                  NaN   \n",
       "25     201406  1000030748                  NaN                  NaN   \n",
       "26     201406  1000030743                  NaN                  NaN   \n",
       "27     201406  1000029776                  NaN                  NaN   \n",
       "28     201406  1000031385                  NaN                  NaN   \n",
       "29     201406  1000032029           330.171191           270.769124   \n",
       "...       ...         ...                  ...                  ...   \n",
       "10080  201406  1000044802                  NaN                  NaN   \n",
       "10081  201406  1000028297                  NaN                  NaN   \n",
       "10082  201406  1000041147                  NaN                  NaN   \n",
       "10083  201406  1000051371                  NaN                  NaN   \n",
       "10084  201406  1000050408                  NaN                  NaN   \n",
       "10085  201406  1000034250                  NaN                  NaN   \n",
       "10086  201406  1000062137                  NaN                  NaN   \n",
       "10087  201406  1000048195                  NaN                  NaN   \n",
       "10088  201406  1000042731                  NaN                  NaN   \n",
       "10089  201406  1000041773                  NaN                  NaN   \n",
       "10090  201406  1000036177                  NaN                  NaN   \n",
       "10091  201406  1000033936                  NaN                  NaN   \n",
       "10092  201406  1000057351                  NaN                  NaN   \n",
       "10093  201406  1000051692                  NaN                  NaN   \n",
       "10094  201406  1000058706                  NaN                  NaN   \n",
       "10095  201406  1000033619                  NaN                  NaN   \n",
       "10096  201406  1000034248                  NaN                  NaN   \n",
       "10097  201406  1000033927                  NaN                  NaN   \n",
       "10098  201406  1000042411                  NaN                  NaN   \n",
       "10099  201406  1000041466                  NaN                  NaN   \n",
       "10100  201406  1000060237                  NaN                  NaN   \n",
       "10101  201406  1000027975                  NaN                  NaN   \n",
       "10102  201406  1000052670                  NaN                  NaN   \n",
       "10103  201406  1000060517                  NaN                  NaN   \n",
       "10104  201406  1000034898                  NaN                  NaN   \n",
       "10105  201406  1000050094                  NaN                  NaN   \n",
       "10106  201406  1000062165                  NaN                  NaN   \n",
       "10107  201406  1000039850                  NaN                  NaN   \n",
       "10108  201406  1000043052                  NaN                  NaN   \n",
       "10109  201406  1000038561                  NaN                  NaN   \n",
       "\n",
       "       FLOW_POP_CNT_02TMST  FLOW_POP_CNT_03TMST  FLOW_POP_CNT_04TMST  \\\n",
       "0               227.917759           205.601048           185.977212   \n",
       "1                      NaN                  NaN                  NaN   \n",
       "2               171.347177           156.791958                  NaN   \n",
       "3                      NaN                  NaN                  NaN   \n",
       "4               278.623635           248.432039           224.149070   \n",
       "5                      NaN                  NaN                  NaN   \n",
       "6                      NaN                  NaN                  NaN   \n",
       "7               166.153644                  NaN                  NaN   \n",
       "8                      NaN                  NaN                  NaN   \n",
       "9                      NaN                  NaN                  NaN   \n",
       "10                     NaN                  NaN                  NaN   \n",
       "11              205.811635           179.965713           163.688223   \n",
       "12                     NaN                  NaN                  NaN   \n",
       "13                     NaN                  NaN                  NaN   \n",
       "14                     NaN                  NaN                  NaN   \n",
       "15                     NaN                  NaN                  NaN   \n",
       "16                     NaN                  NaN                  NaN   \n",
       "17                     NaN                  NaN                  NaN   \n",
       "18                     NaN                  NaN                  NaN   \n",
       "19                     NaN                  NaN                  NaN   \n",
       "20                     NaN                  NaN                  NaN   \n",
       "21                     NaN                  NaN                  NaN   \n",
       "22                     NaN                  NaN                  NaN   \n",
       "23                     NaN                  NaN                  NaN   \n",
       "24                     NaN                  NaN                  NaN   \n",
       "25                     NaN                  NaN                  NaN   \n",
       "26                     NaN                  NaN                  NaN   \n",
       "27                     NaN                  NaN                  NaN   \n",
       "28                     NaN                  NaN                  NaN   \n",
       "29              230.724194           198.578698           172.605522   \n",
       "...                    ...                  ...                  ...   \n",
       "10080                  NaN                  NaN                  NaN   \n",
       "10081                  NaN                  NaN                  NaN   \n",
       "10082                  NaN                  NaN                  NaN   \n",
       "10083                  NaN                  NaN                  NaN   \n",
       "10084                  NaN                  NaN                  NaN   \n",
       "10085                  NaN                  NaN                  NaN   \n",
       "10086                  NaN                  NaN                  NaN   \n",
       "10087                  NaN                  NaN                  NaN   \n",
       "10088                  NaN                  NaN                  NaN   \n",
       "10089                  NaN                  NaN                  NaN   \n",
       "10090                  NaN                  NaN                  NaN   \n",
       "10091                  NaN                  NaN                  NaN   \n",
       "10092                  NaN                  NaN                  NaN   \n",
       "10093                  NaN                  NaN                  NaN   \n",
       "10094                  NaN                  NaN                  NaN   \n",
       "10095                  NaN                  NaN                  NaN   \n",
       "10096                  NaN                  NaN                  NaN   \n",
       "10097                  NaN                  NaN                  NaN   \n",
       "10098                  NaN                  NaN                  NaN   \n",
       "10099                  NaN                  NaN                  NaN   \n",
       "10100                  NaN                  NaN                  NaN   \n",
       "10101                  NaN                  NaN                  NaN   \n",
       "10102                  NaN                  NaN                  NaN   \n",
       "10103                  NaN                  NaN                  NaN   \n",
       "10104                  NaN                  NaN                  NaN   \n",
       "10105                  NaN                  NaN                  NaN   \n",
       "10106                  NaN                  NaN                  NaN   \n",
       "10107                  NaN                  NaN                  NaN   \n",
       "10108                  NaN                  NaN                  NaN   \n",
       "10109                  NaN                  NaN                  NaN   \n",
       "\n",
       "       FLOW_POP_CNT_05TMST  FLOW_POP_CNT_06TMST  FLOW_POP_CNT_07TMST  \\\n",
       "0               191.715499           247.301449           442.487208   \n",
       "1                      NaN                  NaN                  NaN   \n",
       "2               152.302163           179.773830           246.357064   \n",
       "3                      NaN                  NaN           183.529660   \n",
       "4               222.451515           258.032368           347.026334   \n",
       "5                      NaN                  NaN                  NaN   \n",
       "6                      NaN                  NaN           194.413885   \n",
       "7                      NaN           185.725042           264.442162   \n",
       "8                      NaN                  NaN                  NaN   \n",
       "9                      NaN                  NaN                  NaN   \n",
       "10                     NaN                  NaN                  NaN   \n",
       "11              164.270719           190.419078           248.770715   \n",
       "12                     NaN           158.997026           227.081256   \n",
       "13                     NaN                  NaN                  NaN   \n",
       "14                     NaN                  NaN                  NaN   \n",
       "15                     NaN                  NaN                  NaN   \n",
       "16                     NaN                  NaN                  NaN   \n",
       "17                     NaN                  NaN                  NaN   \n",
       "18                     NaN                  NaN                  NaN   \n",
       "19                     NaN                  NaN                  NaN   \n",
       "20                     NaN                  NaN                  NaN   \n",
       "21                     NaN                  NaN                  NaN   \n",
       "22                     NaN                  NaN                  NaN   \n",
       "23                     NaN                  NaN                  NaN   \n",
       "24                     NaN                  NaN                  NaN   \n",
       "25                     NaN                  NaN                  NaN   \n",
       "26                     NaN                  NaN                  NaN   \n",
       "27                     NaN                  NaN                  NaN   \n",
       "28                     NaN                  NaN                  NaN   \n",
       "29              168.776379           193.338238           247.989489   \n",
       "...                    ...                  ...                  ...   \n",
       "10080                  NaN                  NaN                  NaN   \n",
       "10081                  NaN                  NaN                  NaN   \n",
       "10082                  NaN                  NaN                  NaN   \n",
       "10083                  NaN                  NaN                  NaN   \n",
       "10084                  NaN                  NaN                  NaN   \n",
       "10085                  NaN                  NaN                  NaN   \n",
       "10086                  NaN                  NaN                  NaN   \n",
       "10087                  NaN                  NaN                  NaN   \n",
       "10088                  NaN                  NaN                  NaN   \n",
       "10089                  NaN                  NaN                  NaN   \n",
       "10090                  NaN                  NaN                  NaN   \n",
       "10091                  NaN                  NaN                  NaN   \n",
       "10092                  NaN                  NaN                  NaN   \n",
       "10093                  NaN                  NaN                  NaN   \n",
       "10094                  NaN                  NaN                  NaN   \n",
       "10095                  NaN                  NaN                  NaN   \n",
       "10096                  NaN                  NaN                  NaN   \n",
       "10097                  NaN                  NaN                  NaN   \n",
       "10098                  NaN                  NaN                  NaN   \n",
       "10099                  NaN                  NaN                  NaN   \n",
       "10100                  NaN                  NaN                  NaN   \n",
       "10101                  NaN                  NaN                  NaN   \n",
       "10102                  NaN                  NaN                  NaN   \n",
       "10103                  NaN                  NaN                  NaN   \n",
       "10104                  NaN                  NaN                  NaN   \n",
       "10105                  NaN                  NaN                  NaN   \n",
       "10106                  NaN                  NaN                  NaN   \n",
       "10107                  NaN                  NaN                  NaN   \n",
       "10108                  NaN                  NaN                  NaN   \n",
       "10109                  NaN                  NaN                  NaN   \n",
       "\n",
       "          ...       TMST14_PROP  TMST15_PROP  TMST16_PROP  TMST17_PROP  \\\n",
       "0         ...               NaN          NaN          NaN          NaN   \n",
       "1         ...               NaN          NaN          NaN          NaN   \n",
       "2         ...               NaN          NaN          NaN          NaN   \n",
       "3         ...               NaN          NaN          NaN          NaN   \n",
       "4         ...               NaN          NaN          NaN          NaN   \n",
       "5         ...               NaN          NaN          NaN          NaN   \n",
       "6         ...               NaN          NaN          NaN          NaN   \n",
       "7         ...               NaN          NaN          NaN          NaN   \n",
       "8         ...               NaN          NaN          NaN          NaN   \n",
       "9         ...               NaN          NaN          NaN          NaN   \n",
       "10        ...               NaN          NaN          NaN          NaN   \n",
       "11        ...               NaN          NaN          NaN          NaN   \n",
       "12        ...               NaN          NaN          NaN          NaN   \n",
       "13        ...               NaN          NaN          NaN          NaN   \n",
       "14        ...               NaN          NaN          NaN          NaN   \n",
       "15        ...               NaN          NaN          NaN          NaN   \n",
       "16        ...               NaN          NaN          NaN          NaN   \n",
       "17        ...               NaN          NaN          NaN          NaN   \n",
       "18        ...               NaN          NaN          NaN          NaN   \n",
       "19        ...               NaN          NaN          NaN          NaN   \n",
       "20        ...               NaN          NaN          NaN          NaN   \n",
       "21        ...               NaN          NaN          NaN          NaN   \n",
       "22        ...               NaN          NaN          NaN          NaN   \n",
       "23        ...               NaN          NaN          NaN          NaN   \n",
       "24        ...               NaN          NaN          NaN          NaN   \n",
       "25        ...               NaN          NaN          NaN          NaN   \n",
       "26        ...               NaN          NaN          NaN          NaN   \n",
       "27        ...               NaN          NaN          NaN          NaN   \n",
       "28        ...               NaN          NaN          NaN          NaN   \n",
       "29        ...               NaN          NaN          NaN          NaN   \n",
       "...       ...               ...          ...          ...          ...   \n",
       "10080     ...               NaN          NaN          NaN          NaN   \n",
       "10081     ...               NaN          NaN          NaN          NaN   \n",
       "10082     ...               NaN          NaN          NaN          NaN   \n",
       "10083     ...               NaN          NaN          NaN          NaN   \n",
       "10084     ...               NaN          NaN          NaN          NaN   \n",
       "10085     ...               NaN          NaN          NaN          NaN   \n",
       "10086     ...               NaN          NaN          NaN          NaN   \n",
       "10087     ...               NaN          NaN          NaN          NaN   \n",
       "10088     ...               NaN          NaN          NaN          NaN   \n",
       "10089     ...               NaN          NaN          NaN          NaN   \n",
       "10090     ...               NaN          NaN          NaN          NaN   \n",
       "10091     ...               NaN          NaN          NaN          NaN   \n",
       "10092     ...               NaN          NaN          NaN          NaN   \n",
       "10093     ...               NaN          NaN          NaN          NaN   \n",
       "10094     ...               NaN          NaN          NaN          NaN   \n",
       "10095     ...               NaN          NaN          NaN          NaN   \n",
       "10096     ...               NaN          NaN          NaN          NaN   \n",
       "10097     ...               NaN          NaN          NaN          NaN   \n",
       "10098     ...               NaN          NaN          NaN          NaN   \n",
       "10099     ...               NaN          NaN          NaN          NaN   \n",
       "10100     ...               NaN          NaN          NaN          NaN   \n",
       "10101     ...               NaN          NaN          NaN          NaN   \n",
       "10102     ...               NaN          NaN          NaN          NaN   \n",
       "10103     ...               NaN          NaN          NaN          NaN   \n",
       "10104     ...               NaN          NaN          NaN          NaN   \n",
       "10105     ...               NaN          NaN          NaN          NaN   \n",
       "10106     ...               NaN          NaN          NaN          NaN   \n",
       "10107     ...               NaN          NaN          NaN          NaN   \n",
       "10108     ...               NaN          NaN          NaN          NaN   \n",
       "10109     ...               NaN          NaN          NaN          NaN   \n",
       "\n",
       "       TMST18_PROP  TMST19_PROP  TMST20_PROP  TMST21_PROP  TMST22_PROP  \\\n",
       "0              NaN          NaN          NaN          NaN          NaN   \n",
       "1              NaN          NaN          NaN          NaN          NaN   \n",
       "2              NaN          NaN          NaN          NaN          NaN   \n",
       "3              NaN          NaN          NaN          NaN          NaN   \n",
       "4              NaN          NaN          NaN          NaN          NaN   \n",
       "5              NaN          NaN          NaN          NaN          NaN   \n",
       "6              NaN          NaN          NaN          NaN          NaN   \n",
       "7              NaN          NaN          NaN          NaN          NaN   \n",
       "8              NaN          NaN          NaN          NaN          NaN   \n",
       "9              NaN          NaN          NaN          NaN          NaN   \n",
       "10             NaN          NaN          NaN          NaN          NaN   \n",
       "11             NaN          NaN          NaN          NaN          NaN   \n",
       "12             NaN          NaN          NaN          NaN          NaN   \n",
       "13             NaN          NaN          NaN          NaN          NaN   \n",
       "14             NaN          NaN          NaN          NaN          NaN   \n",
       "15             NaN          NaN          NaN          NaN          NaN   \n",
       "16             NaN          NaN          NaN          NaN          NaN   \n",
       "17             NaN          NaN          NaN          NaN          NaN   \n",
       "18             NaN          NaN          NaN          NaN          NaN   \n",
       "19             NaN          NaN          NaN          NaN          NaN   \n",
       "20             NaN          NaN          NaN          NaN          NaN   \n",
       "21             NaN          NaN          NaN          NaN          NaN   \n",
       "22             NaN          NaN          NaN          NaN          NaN   \n",
       "23             NaN          NaN          NaN          NaN          NaN   \n",
       "24             NaN          NaN          NaN          NaN          NaN   \n",
       "25             NaN          NaN          NaN          NaN          NaN   \n",
       "26             NaN          NaN          NaN          NaN          NaN   \n",
       "27             NaN          NaN          NaN          NaN          NaN   \n",
       "28             NaN          NaN          NaN          NaN          NaN   \n",
       "29             NaN          NaN          NaN          NaN          NaN   \n",
       "...            ...          ...          ...          ...          ...   \n",
       "10080          NaN          NaN          NaN          NaN          NaN   \n",
       "10081          NaN          NaN          NaN          NaN          NaN   \n",
       "10082          NaN          NaN          NaN          NaN          NaN   \n",
       "10083          NaN          NaN          NaN          NaN          NaN   \n",
       "10084          NaN          NaN          NaN          NaN          NaN   \n",
       "10085          NaN          NaN          NaN          NaN          NaN   \n",
       "10086          NaN          NaN          NaN          NaN          NaN   \n",
       "10087          NaN          NaN          NaN          NaN          NaN   \n",
       "10088          NaN          NaN          NaN          NaN          NaN   \n",
       "10089          NaN          NaN          NaN          NaN          NaN   \n",
       "10090          NaN          NaN          NaN          NaN          NaN   \n",
       "10091          NaN          NaN          NaN          NaN          NaN   \n",
       "10092          NaN          NaN          NaN          NaN          NaN   \n",
       "10093          NaN          NaN          NaN          NaN          NaN   \n",
       "10094          NaN          NaN          NaN          NaN          NaN   \n",
       "10095          NaN          NaN          NaN          NaN          NaN   \n",
       "10096          NaN          NaN          NaN          NaN          NaN   \n",
       "10097          NaN          NaN          NaN          NaN          NaN   \n",
       "10098          NaN          NaN          NaN          NaN          NaN   \n",
       "10099          NaN          NaN          NaN          NaN          NaN   \n",
       "10100          NaN          NaN          NaN          NaN          NaN   \n",
       "10101          NaN          NaN          NaN          NaN          NaN   \n",
       "10102          NaN          NaN          NaN          NaN          NaN   \n",
       "10103          NaN          NaN          NaN          NaN          NaN   \n",
       "10104          NaN          NaN          NaN          NaN          NaN   \n",
       "10105          NaN          NaN          NaN          NaN          NaN   \n",
       "10106          NaN          NaN          NaN          NaN          NaN   \n",
       "10107          NaN          NaN          NaN          NaN          NaN   \n",
       "10108          NaN          NaN          NaN          NaN          NaN   \n",
       "10109          NaN          NaN          NaN          NaN          NaN   \n",
       "\n",
       "       TMST23_PROP  \n",
       "0              NaN  \n",
       "1              NaN  \n",
       "2              NaN  \n",
       "3              NaN  \n",
       "4              NaN  \n",
       "5              NaN  \n",
       "6              NaN  \n",
       "7              NaN  \n",
       "8              NaN  \n",
       "9              NaN  \n",
       "10             NaN  \n",
       "11             NaN  \n",
       "12             NaN  \n",
       "13             NaN  \n",
       "14             NaN  \n",
       "15             NaN  \n",
       "16             NaN  \n",
       "17             NaN  \n",
       "18             NaN  \n",
       "19             NaN  \n",
       "20             NaN  \n",
       "21             NaN  \n",
       "22             NaN  \n",
       "23             NaN  \n",
       "24             NaN  \n",
       "25             NaN  \n",
       "26             NaN  \n",
       "27             NaN  \n",
       "28             NaN  \n",
       "29             NaN  \n",
       "...            ...  \n",
       "10080          NaN  \n",
       "10081          NaN  \n",
       "10082          NaN  \n",
       "10083          NaN  \n",
       "10084          NaN  \n",
       "10085          NaN  \n",
       "10086          NaN  \n",
       "10087          NaN  \n",
       "10088          NaN  \n",
       "10089          NaN  \n",
       "10090          NaN  \n",
       "10091          NaN  \n",
       "10092          NaN  \n",
       "10093          NaN  \n",
       "10094          NaN  \n",
       "10095          NaN  \n",
       "10096          NaN  \n",
       "10097          NaN  \n",
       "10098          NaN  \n",
       "10099          NaN  \n",
       "10100          NaN  \n",
       "10101          NaN  \n",
       "10102          NaN  \n",
       "10103          NaN  \n",
       "10104          NaN  \n",
       "10105          NaN  \n",
       "10106          NaN  \n",
       "10107          NaN  \n",
       "10108          NaN  \n",
       "10109          NaN  \n",
       "\n",
       "[10110 rows x 50 columns]"
      ]
     },
     "execution_count": 200,
     "metadata": {},
     "output_type": "execute_result"
    }
   ],
   "source": []
  },
  {
   "cell_type": "code",
   "execution_count": 201,
   "metadata": {
    "collapsed": true
   },
   "outputs": [],
   "source": [
    "text = 'abcdefg'"
   ]
  },
  {
   "cell_type": "code",
   "execution_count": 202,
   "metadata": {
    "collapsed": false
   },
   "outputs": [
    {
     "data": {
      "text/plain": [
       "True"
      ]
     },
     "execution_count": 202,
     "metadata": {},
     "output_type": "execute_result"
    }
   ],
   "source": [
    "'f' in text"
   ]
  },
  {
   "cell_type": "code",
   "execution_count": 203,
   "metadata": {
    "collapsed": false
   },
   "outputs": [
    {
     "data": {
      "text/plain": [
       "False"
      ]
     },
     "execution_count": 203,
     "metadata": {},
     "output_type": "execute_result"
    }
   ],
   "source": [
    "'z' in text"
   ]
  },
  {
   "cell_type": "code",
   "execution_count": 204,
   "metadata": {
    "collapsed": true
   },
   "outputs": [],
   "source": [
    "column_title = 'FLOW_ADBD_@#SD'"
   ]
  },
  {
   "cell_type": "code",
   "execution_count": 205,
   "metadata": {
    "collapsed": false
   },
   "outputs": [
    {
     "data": {
      "text/plain": [
       "True"
      ]
     },
     "execution_count": 205,
     "metadata": {},
     "output_type": "execute_result"
    }
   ],
   "source": [
    "'FLOW' in column_title"
   ]
  },
  {
   "cell_type": "code",
   "execution_count": 206,
   "metadata": {
    "collapsed": false
   },
   "outputs": [
    {
     "data": {
      "text/plain": [
       "True"
      ]
     },
     "execution_count": 206,
     "metadata": {},
     "output_type": "execute_result"
    }
   ],
   "source": [
    "column_title.startswith('FLOW')"
   ]
  },
  {
   "cell_type": "code",
   "execution_count": 207,
   "metadata": {
    "collapsed": false
   },
   "outputs": [
    {
     "data": {
      "text/plain": [
       "False"
      ]
     },
     "execution_count": 207,
     "metadata": {},
     "output_type": "execute_result"
    }
   ],
   "source": [
    "text.startswith('FLOW')"
   ]
  },
  {
   "cell_type": "code",
   "execution_count": 211,
   "metadata": {
    "collapsed": true
   },
   "outputs": [
    {
     "data": {
      "text/html": [
       "<div style=\"max-height:1000px;max-width:1500px;overflow:auto;\">\n",
       "<table border=\"1\" class=\"dataframe\">\n",
       "  <thead>\n",
       "    <tr style=\"text-align: right;\">\n",
       "      <th></th>\n",
       "      <th>FLOW_POP_CNT_00TMST</th>\n",
       "      <th>FLOW_POP_CNT_01TMST</th>\n",
       "      <th>FLOW_POP_CNT_02TMST</th>\n",
       "      <th>FLOW_POP_CNT_03TMST</th>\n",
       "      <th>FLOW_POP_CNT_04TMST</th>\n",
       "      <th>FLOW_POP_CNT_05TMST</th>\n",
       "      <th>FLOW_POP_CNT_06TMST</th>\n",
       "      <th>FLOW_POP_CNT_07TMST</th>\n",
       "      <th>FLOW_POP_CNT_08TMST</th>\n",
       "      <th>FLOW_POP_CNT_09TMST</th>\n",
       "      <th>...</th>\n",
       "      <th>FLOW_POP_CNT_14TMST</th>\n",
       "      <th>FLOW_POP_CNT_15TMST</th>\n",
       "      <th>FLOW_POP_CNT_16TMST</th>\n",
       "      <th>FLOW_POP_CNT_17TMST</th>\n",
       "      <th>FLOW_POP_CNT_18TMST</th>\n",
       "      <th>FLOW_POP_CNT_19TMST</th>\n",
       "      <th>FLOW_POP_CNT_20TMST</th>\n",
       "      <th>FLOW_POP_CNT_21TMST</th>\n",
       "      <th>FLOW_POP_CNT_22TMST</th>\n",
       "      <th>FLOW_POP_CNT_23TMST</th>\n",
       "    </tr>\n",
       "  </thead>\n",
       "  <tbody>\n",
       "    <tr>\n",
       "      <th>0</th>\n",
       "      <td>312.947980</td>\n",
       "      <td>263.972057</td>\n",
       "      <td>227.917759</td>\n",
       "      <td>205.601048</td>\n",
       "      <td>185.977212</td>\n",
       "      <td>191.715499</td>\n",
       "      <td>247.301449</td>\n",
       "      <td>442.487208</td>\n",
       "      <td>688.423933</td>\n",
       "      <td>888.531516</td>\n",
       "      <td>...</td>\n",
       "      <td>1138.312915</td>\n",
       "      <td>1184.986910</td>\n",
       "      <td>1245.823507</td>\n",
       "      <td>1258.707056</td>\n",
       "      <td>1144.729222</td>\n",
       "      <td>1226.610491</td>\n",
       "      <td>1138.467891</td>\n",
       "      <td>744.187404</td>\n",
       "      <td>489.890158</td>\n",
       "      <td>397.322058</td>\n",
       "    </tr>\n",
       "    <tr>\n",
       "      <th>1</th>\n",
       "      <td>18.193314</td>\n",
       "      <td>15.509624</td>\n",
       "      <td>13.867847</td>\n",
       "      <td>13.212539</td>\n",
       "      <td>13.960532</td>\n",
       "      <td>18.830753</td>\n",
       "      <td>25.140180</td>\n",
       "      <td>46.738624</td>\n",
       "      <td>76.003871</td>\n",
       "      <td>110.992041</td>\n",
       "      <td>...</td>\n",
       "      <td>117.977985</td>\n",
       "      <td>117.473812</td>\n",
       "      <td>111.585392</td>\n",
       "      <td>115.557487</td>\n",
       "      <td>116.414865</td>\n",
       "      <td>115.656518</td>\n",
       "      <td>101.270971</td>\n",
       "      <td>76.442413</td>\n",
       "      <td>42.730958</td>\n",
       "      <td>24.130665</td>\n",
       "    </tr>\n",
       "    <tr>\n",
       "      <th>2</th>\n",
       "      <td>229.957330</td>\n",
       "      <td>194.422903</td>\n",
       "      <td>171.347177</td>\n",
       "      <td>156.791958</td>\n",
       "      <td>148.733874</td>\n",
       "      <td>152.302163</td>\n",
       "      <td>179.773830</td>\n",
       "      <td>246.357064</td>\n",
       "      <td>300.115032</td>\n",
       "      <td>364.484013</td>\n",
       "      <td>...</td>\n",
       "      <td>411.619763</td>\n",
       "      <td>429.540700</td>\n",
       "      <td>443.005242</td>\n",
       "      <td>482.816205</td>\n",
       "      <td>498.294433</td>\n",
       "      <td>487.882150</td>\n",
       "      <td>473.621185</td>\n",
       "      <td>420.960741</td>\n",
       "      <td>342.322612</td>\n",
       "      <td>289.288422</td>\n",
       "    </tr>\n",
       "    <tr>\n",
       "      <th>3</th>\n",
       "      <td>94.882052</td>\n",
       "      <td>82.826656</td>\n",
       "      <td>72.077200</td>\n",
       "      <td>66.594590</td>\n",
       "      <td>63.615477</td>\n",
       "      <td>67.900363</td>\n",
       "      <td>92.345489</td>\n",
       "      <td>183.529660</td>\n",
       "      <td>310.078252</td>\n",
       "      <td>412.194076</td>\n",
       "      <td>...</td>\n",
       "      <td>510.937001</td>\n",
       "      <td>529.686592</td>\n",
       "      <td>556.417113</td>\n",
       "      <td>555.533683</td>\n",
       "      <td>490.051814</td>\n",
       "      <td>515.724891</td>\n",
       "      <td>463.026371</td>\n",
       "      <td>270.919758</td>\n",
       "      <td>150.530293</td>\n",
       "      <td>116.990681</td>\n",
       "    </tr>\n",
       "    <tr>\n",
       "      <th>4</th>\n",
       "      <td>384.201369</td>\n",
       "      <td>320.784622</td>\n",
       "      <td>278.623635</td>\n",
       "      <td>248.432039</td>\n",
       "      <td>224.149070</td>\n",
       "      <td>222.451515</td>\n",
       "      <td>258.032368</td>\n",
       "      <td>347.026334</td>\n",
       "      <td>426.719569</td>\n",
       "      <td>521.279478</td>\n",
       "      <td>...</td>\n",
       "      <td>607.059362</td>\n",
       "      <td>633.787879</td>\n",
       "      <td>652.958477</td>\n",
       "      <td>721.976905</td>\n",
       "      <td>756.216414</td>\n",
       "      <td>765.123693</td>\n",
       "      <td>756.533046</td>\n",
       "      <td>684.120176</td>\n",
       "      <td>571.412544</td>\n",
       "      <td>483.642521</td>\n",
       "    </tr>\n",
       "    <tr>\n",
       "      <th>5</th>\n",
       "      <td>8.431997</td>\n",
       "      <td>6.973419</td>\n",
       "      <td>6.201712</td>\n",
       "      <td>5.813938</td>\n",
       "      <td>5.822956</td>\n",
       "      <td>6.486948</td>\n",
       "      <td>7.738446</td>\n",
       "      <td>11.151926</td>\n",
       "      <td>14.857656</td>\n",
       "      <td>20.618822</td>\n",
       "      <td>...</td>\n",
       "      <td>23.451977</td>\n",
       "      <td>24.103110</td>\n",
       "      <td>24.446629</td>\n",
       "      <td>26.361284</td>\n",
       "      <td>26.822037</td>\n",
       "      <td>24.792152</td>\n",
       "      <td>22.984711</td>\n",
       "      <td>19.672767</td>\n",
       "      <td>14.025662</td>\n",
       "      <td>10.702028</td>\n",
       "    </tr>\n",
       "    <tr>\n",
       "      <th>6</th>\n",
       "      <td>203.903159</td>\n",
       "      <td>164.497839</td>\n",
       "      <td>136.066924</td>\n",
       "      <td>118.704268</td>\n",
       "      <td>107.511427</td>\n",
       "      <td>114.021087</td>\n",
       "      <td>143.363488</td>\n",
       "      <td>194.413885</td>\n",
       "      <td>240.185412</td>\n",
       "      <td>286.868425</td>\n",
       "      <td>...</td>\n",
       "      <td>327.865088</td>\n",
       "      <td>344.315423</td>\n",
       "      <td>362.400354</td>\n",
       "      <td>398.187619</td>\n",
       "      <td>425.294558</td>\n",
       "      <td>422.745637</td>\n",
       "      <td>418.659648</td>\n",
       "      <td>376.761185</td>\n",
       "      <td>317.054844</td>\n",
       "      <td>262.566919</td>\n",
       "    </tr>\n",
       "    <tr>\n",
       "      <th>7</th>\n",
       "      <td>236.215989</td>\n",
       "      <td>193.343749</td>\n",
       "      <td>166.153644</td>\n",
       "      <td>148.948135</td>\n",
       "      <td>141.319408</td>\n",
       "      <td>149.243558</td>\n",
       "      <td>185.725042</td>\n",
       "      <td>264.442162</td>\n",
       "      <td>350.547028</td>\n",
       "      <td>448.065342</td>\n",
       "      <td>...</td>\n",
       "      <td>510.865692</td>\n",
       "      <td>533.066171</td>\n",
       "      <td>557.648738</td>\n",
       "      <td>600.816735</td>\n",
       "      <td>617.647997</td>\n",
       "      <td>596.711708</td>\n",
       "      <td>569.497889</td>\n",
       "      <td>476.589109</td>\n",
       "      <td>370.980647</td>\n",
       "      <td>299.577459</td>\n",
       "    </tr>\n",
       "    <tr>\n",
       "      <th>8</th>\n",
       "      <td>51.910113</td>\n",
       "      <td>44.783555</td>\n",
       "      <td>40.537079</td>\n",
       "      <td>37.007534</td>\n",
       "      <td>34.810983</td>\n",
       "      <td>38.414008</td>\n",
       "      <td>46.559767</td>\n",
       "      <td>70.005064</td>\n",
       "      <td>101.333429</td>\n",
       "      <td>128.684355</td>\n",
       "      <td>...</td>\n",
       "      <td>151.107779</td>\n",
       "      <td>152.635662</td>\n",
       "      <td>155.787286</td>\n",
       "      <td>160.313487</td>\n",
       "      <td>161.588699</td>\n",
       "      <td>158.374784</td>\n",
       "      <td>141.840782</td>\n",
       "      <td>104.845940</td>\n",
       "      <td>75.573345</td>\n",
       "      <td>61.390202</td>\n",
       "    </tr>\n",
       "    <tr>\n",
       "      <th>9</th>\n",
       "      <td>37.495007</td>\n",
       "      <td>29.403356</td>\n",
       "      <td>24.888177</td>\n",
       "      <td>23.084243</td>\n",
       "      <td>24.883334</td>\n",
       "      <td>37.626603</td>\n",
       "      <td>57.908085</td>\n",
       "      <td>125.309786</td>\n",
       "      <td>216.890582</td>\n",
       "      <td>314.122491</td>\n",
       "      <td>...</td>\n",
       "      <td>353.008942</td>\n",
       "      <td>355.158232</td>\n",
       "      <td>348.272989</td>\n",
       "      <td>356.739722</td>\n",
       "      <td>343.878885</td>\n",
       "      <td>350.073249</td>\n",
       "      <td>305.973726</td>\n",
       "      <td>207.315136</td>\n",
       "      <td>105.267281</td>\n",
       "      <td>55.562403</td>\n",
       "    </tr>\n",
       "    <tr>\n",
       "      <th>10</th>\n",
       "      <td>53.102493</td>\n",
       "      <td>44.402127</td>\n",
       "      <td>39.036083</td>\n",
       "      <td>36.442573</td>\n",
       "      <td>35.781587</td>\n",
       "      <td>37.697077</td>\n",
       "      <td>44.857870</td>\n",
       "      <td>62.449650</td>\n",
       "      <td>81.604884</td>\n",
       "      <td>107.008924</td>\n",
       "      <td>...</td>\n",
       "      <td>120.461943</td>\n",
       "      <td>124.930529</td>\n",
       "      <td>129.454559</td>\n",
       "      <td>141.759954</td>\n",
       "      <td>142.773811</td>\n",
       "      <td>131.113871</td>\n",
       "      <td>122.998840</td>\n",
       "      <td>106.161900</td>\n",
       "      <td>80.335851</td>\n",
       "      <td>65.894025</td>\n",
       "    </tr>\n",
       "    <tr>\n",
       "      <th>11</th>\n",
       "      <td>290.680033</td>\n",
       "      <td>239.531440</td>\n",
       "      <td>205.811635</td>\n",
       "      <td>179.965713</td>\n",
       "      <td>163.688223</td>\n",
       "      <td>164.270719</td>\n",
       "      <td>190.419078</td>\n",
       "      <td>248.770715</td>\n",
       "      <td>292.937873</td>\n",
       "      <td>352.813218</td>\n",
       "      <td>...</td>\n",
       "      <td>418.765526</td>\n",
       "      <td>443.944450</td>\n",
       "      <td>462.173001</td>\n",
       "      <td>505.513342</td>\n",
       "      <td>532.842391</td>\n",
       "      <td>530.489027</td>\n",
       "      <td>534.719471</td>\n",
       "      <td>492.833366</td>\n",
       "      <td>421.488461</td>\n",
       "      <td>361.427913</td>\n",
       "    </tr>\n",
       "    <tr>\n",
       "      <th>12</th>\n",
       "      <td>198.493194</td>\n",
       "      <td>167.362223</td>\n",
       "      <td>146.138694</td>\n",
       "      <td>132.989281</td>\n",
       "      <td>126.580155</td>\n",
       "      <td>131.182174</td>\n",
       "      <td>158.997026</td>\n",
       "      <td>227.081256</td>\n",
       "      <td>294.550425</td>\n",
       "      <td>368.274746</td>\n",
       "      <td>...</td>\n",
       "      <td>415.270884</td>\n",
       "      <td>432.608657</td>\n",
       "      <td>449.627460</td>\n",
       "      <td>482.116642</td>\n",
       "      <td>486.033460</td>\n",
       "      <td>478.771131</td>\n",
       "      <td>458.555113</td>\n",
       "      <td>383.543890</td>\n",
       "      <td>298.779533</td>\n",
       "      <td>247.652817</td>\n",
       "    </tr>\n",
       "    <tr>\n",
       "      <th>13</th>\n",
       "      <td>76.138139</td>\n",
       "      <td>62.224367</td>\n",
       "      <td>54.357331</td>\n",
       "      <td>50.780525</td>\n",
       "      <td>50.185003</td>\n",
       "      <td>54.095141</td>\n",
       "      <td>66.537977</td>\n",
       "      <td>103.351958</td>\n",
       "      <td>153.835724</td>\n",
       "      <td>208.700234</td>\n",
       "      <td>...</td>\n",
       "      <td>242.949262</td>\n",
       "      <td>249.692555</td>\n",
       "      <td>255.643767</td>\n",
       "      <td>271.771792</td>\n",
       "      <td>264.483578</td>\n",
       "      <td>239.152183</td>\n",
       "      <td>216.335140</td>\n",
       "      <td>172.731774</td>\n",
       "      <td>121.431712</td>\n",
       "      <td>96.171960</td>\n",
       "    </tr>\n",
       "    <tr>\n",
       "      <th>14</th>\n",
       "      <td>90.234275</td>\n",
       "      <td>78.440401</td>\n",
       "      <td>69.464986</td>\n",
       "      <td>64.103284</td>\n",
       "      <td>61.086596</td>\n",
       "      <td>62.267787</td>\n",
       "      <td>73.445431</td>\n",
       "      <td>101.826413</td>\n",
       "      <td>133.859351</td>\n",
       "      <td>169.281554</td>\n",
       "      <td>...</td>\n",
       "      <td>175.841481</td>\n",
       "      <td>181.203183</td>\n",
       "      <td>184.677952</td>\n",
       "      <td>203.994341</td>\n",
       "      <td>210.198892</td>\n",
       "      <td>204.475134</td>\n",
       "      <td>193.678083</td>\n",
       "      <td>168.714422</td>\n",
       "      <td>132.122384</td>\n",
       "      <td>110.067362</td>\n",
       "    </tr>\n",
       "    <tr>\n",
       "      <th>15</th>\n",
       "      <td>86.399788</td>\n",
       "      <td>75.414361</td>\n",
       "      <td>67.676082</td>\n",
       "      <td>62.596443</td>\n",
       "      <td>59.706675</td>\n",
       "      <td>64.421252</td>\n",
       "      <td>78.752023</td>\n",
       "      <td>124.839013</td>\n",
       "      <td>187.388696</td>\n",
       "      <td>242.239345</td>\n",
       "      <td>...</td>\n",
       "      <td>281.567177</td>\n",
       "      <td>287.404996</td>\n",
       "      <td>295.553594</td>\n",
       "      <td>303.667122</td>\n",
       "      <td>292.976617</td>\n",
       "      <td>291.376256</td>\n",
       "      <td>262.192338</td>\n",
       "      <td>185.029153</td>\n",
       "      <td>126.207411</td>\n",
       "      <td>102.245750</td>\n",
       "    </tr>\n",
       "    <tr>\n",
       "      <th>16</th>\n",
       "      <td>16.192821</td>\n",
       "      <td>14.774156</td>\n",
       "      <td>13.421957</td>\n",
       "      <td>12.779508</td>\n",
       "      <td>12.465047</td>\n",
       "      <td>12.481747</td>\n",
       "      <td>13.637721</td>\n",
       "      <td>17.759281</td>\n",
       "      <td>22.243732</td>\n",
       "      <td>27.813850</td>\n",
       "      <td>...</td>\n",
       "      <td>26.968997</td>\n",
       "      <td>27.911879</td>\n",
       "      <td>28.187930</td>\n",
       "      <td>31.598404</td>\n",
       "      <td>32.244360</td>\n",
       "      <td>31.156856</td>\n",
       "      <td>29.764744</td>\n",
       "      <td>26.618130</td>\n",
       "      <td>21.144538</td>\n",
       "      <td>18.511616</td>\n",
       "    </tr>\n",
       "    <tr>\n",
       "      <th>17</th>\n",
       "      <td>124.639615</td>\n",
       "      <td>96.210871</td>\n",
       "      <td>81.740989</td>\n",
       "      <td>73.236514</td>\n",
       "      <td>71.689426</td>\n",
       "      <td>78.998849</td>\n",
       "      <td>100.558883</td>\n",
       "      <td>145.837760</td>\n",
       "      <td>202.991673</td>\n",
       "      <td>276.467999</td>\n",
       "      <td>...</td>\n",
       "      <td>340.267343</td>\n",
       "      <td>357.081237</td>\n",
       "      <td>373.297605</td>\n",
       "      <td>400.557850</td>\n",
       "      <td>405.248212</td>\n",
       "      <td>365.579366</td>\n",
       "      <td>341.234774</td>\n",
       "      <td>288.579340</td>\n",
       "      <td>217.876884</td>\n",
       "      <td>167.895454</td>\n",
       "    </tr>\n",
       "    <tr>\n",
       "      <th>18</th>\n",
       "      <td>16.610321</td>\n",
       "      <td>14.390724</td>\n",
       "      <td>12.804391</td>\n",
       "      <td>11.893573</td>\n",
       "      <td>11.408104</td>\n",
       "      <td>11.784522</td>\n",
       "      <td>14.135715</td>\n",
       "      <td>21.266281</td>\n",
       "      <td>31.105587</td>\n",
       "      <td>40.873751</td>\n",
       "      <td>...</td>\n",
       "      <td>43.580988</td>\n",
       "      <td>44.606201</td>\n",
       "      <td>45.086660</td>\n",
       "      <td>48.863031</td>\n",
       "      <td>48.473086</td>\n",
       "      <td>46.109535</td>\n",
       "      <td>42.155476</td>\n",
       "      <td>34.371272</td>\n",
       "      <td>25.084068</td>\n",
       "      <td>20.344274</td>\n",
       "    </tr>\n",
       "    <tr>\n",
       "      <th>19</th>\n",
       "      <td>100.817733</td>\n",
       "      <td>85.175177</td>\n",
       "      <td>74.586041</td>\n",
       "      <td>67.529456</td>\n",
       "      <td>63.489559</td>\n",
       "      <td>65.306686</td>\n",
       "      <td>79.982980</td>\n",
       "      <td>113.156528</td>\n",
       "      <td>148.322553</td>\n",
       "      <td>186.526976</td>\n",
       "      <td>...</td>\n",
       "      <td>202.530252</td>\n",
       "      <td>208.537409</td>\n",
       "      <td>213.748978</td>\n",
       "      <td>234.279624</td>\n",
       "      <td>243.230156</td>\n",
       "      <td>237.395343</td>\n",
       "      <td>225.371844</td>\n",
       "      <td>195.956798</td>\n",
       "      <td>154.718653</td>\n",
       "      <td>127.041910</td>\n",
       "    </tr>\n",
       "    <tr>\n",
       "      <th>20</th>\n",
       "      <td>10.974405</td>\n",
       "      <td>9.711384</td>\n",
       "      <td>8.824614</td>\n",
       "      <td>8.330962</td>\n",
       "      <td>8.171811</td>\n",
       "      <td>8.938508</td>\n",
       "      <td>10.623037</td>\n",
       "      <td>16.925283</td>\n",
       "      <td>25.886336</td>\n",
       "      <td>35.070334</td>\n",
       "      <td>...</td>\n",
       "      <td>36.925036</td>\n",
       "      <td>37.343705</td>\n",
       "      <td>36.663347</td>\n",
       "      <td>38.794601</td>\n",
       "      <td>38.506526</td>\n",
       "      <td>37.311140</td>\n",
       "      <td>33.438911</td>\n",
       "      <td>26.042982</td>\n",
       "      <td>17.312222</td>\n",
       "      <td>13.077937</td>\n",
       "    </tr>\n",
       "    <tr>\n",
       "      <th>21</th>\n",
       "      <td>15.956015</td>\n",
       "      <td>13.022493</td>\n",
       "      <td>11.428144</td>\n",
       "      <td>10.645749</td>\n",
       "      <td>10.376879</td>\n",
       "      <td>11.080450</td>\n",
       "      <td>13.537688</td>\n",
       "      <td>20.615816</td>\n",
       "      <td>30.163707</td>\n",
       "      <td>40.746664</td>\n",
       "      <td>...</td>\n",
       "      <td>47.397105</td>\n",
       "      <td>48.829297</td>\n",
       "      <td>50.235771</td>\n",
       "      <td>53.723566</td>\n",
       "      <td>52.543711</td>\n",
       "      <td>47.846502</td>\n",
       "      <td>43.520701</td>\n",
       "      <td>35.326345</td>\n",
       "      <td>25.361622</td>\n",
       "      <td>20.182284</td>\n",
       "    </tr>\n",
       "    <tr>\n",
       "      <th>22</th>\n",
       "      <td>2.560444</td>\n",
       "      <td>2.149290</td>\n",
       "      <td>1.917661</td>\n",
       "      <td>1.825644</td>\n",
       "      <td>2.024374</td>\n",
       "      <td>3.063782</td>\n",
       "      <td>4.229609</td>\n",
       "      <td>7.784705</td>\n",
       "      <td>12.072263</td>\n",
       "      <td>18.039340</td>\n",
       "      <td>...</td>\n",
       "      <td>19.117325</td>\n",
       "      <td>18.902730</td>\n",
       "      <td>17.671272</td>\n",
       "      <td>18.312552</td>\n",
       "      <td>18.985729</td>\n",
       "      <td>19.165421</td>\n",
       "      <td>16.915597</td>\n",
       "      <td>13.229740</td>\n",
       "      <td>7.275522</td>\n",
       "      <td>3.682517</td>\n",
       "    </tr>\n",
       "    <tr>\n",
       "      <th>23</th>\n",
       "      <td>92.995119</td>\n",
       "      <td>73.742357</td>\n",
       "      <td>63.657060</td>\n",
       "      <td>59.189142</td>\n",
       "      <td>57.928125</td>\n",
       "      <td>63.392866</td>\n",
       "      <td>80.956423</td>\n",
       "      <td>118.834194</td>\n",
       "      <td>167.353205</td>\n",
       "      <td>227.615990</td>\n",
       "      <td>...</td>\n",
       "      <td>264.249110</td>\n",
       "      <td>273.659226</td>\n",
       "      <td>296.694705</td>\n",
       "      <td>323.377965</td>\n",
       "      <td>344.326946</td>\n",
       "      <td>312.208671</td>\n",
       "      <td>277.377982</td>\n",
       "      <td>228.535993</td>\n",
       "      <td>169.611713</td>\n",
       "      <td>125.192719</td>\n",
       "    </tr>\n",
       "    <tr>\n",
       "      <th>24</th>\n",
       "      <td>11.784689</td>\n",
       "      <td>9.839640</td>\n",
       "      <td>8.848829</td>\n",
       "      <td>8.369038</td>\n",
       "      <td>8.279192</td>\n",
       "      <td>8.717734</td>\n",
       "      <td>10.114355</td>\n",
       "      <td>14.563736</td>\n",
       "      <td>20.473031</td>\n",
       "      <td>27.431420</td>\n",
       "      <td>...</td>\n",
       "      <td>31.212133</td>\n",
       "      <td>32.323852</td>\n",
       "      <td>33.236841</td>\n",
       "      <td>35.678882</td>\n",
       "      <td>34.984329</td>\n",
       "      <td>31.609927</td>\n",
       "      <td>29.116450</td>\n",
       "      <td>23.916237</td>\n",
       "      <td>17.522141</td>\n",
       "      <td>14.350644</td>\n",
       "    </tr>\n",
       "    <tr>\n",
       "      <th>25</th>\n",
       "      <td>6.846833</td>\n",
       "      <td>5.638254</td>\n",
       "      <td>5.024362</td>\n",
       "      <td>4.792232</td>\n",
       "      <td>5.309598</td>\n",
       "      <td>7.371714</td>\n",
       "      <td>9.880221</td>\n",
       "      <td>18.717861</td>\n",
       "      <td>30.558328</td>\n",
       "      <td>44.970094</td>\n",
       "      <td>...</td>\n",
       "      <td>47.770851</td>\n",
       "      <td>47.545234</td>\n",
       "      <td>45.068290</td>\n",
       "      <td>46.539894</td>\n",
       "      <td>46.836319</td>\n",
       "      <td>46.640595</td>\n",
       "      <td>40.864065</td>\n",
       "      <td>30.653351</td>\n",
       "      <td>16.894722</td>\n",
       "      <td>9.189175</td>\n",
       "    </tr>\n",
       "    <tr>\n",
       "      <th>26</th>\n",
       "      <td>2.633757</td>\n",
       "      <td>2.260846</td>\n",
       "      <td>2.022704</td>\n",
       "      <td>1.929017</td>\n",
       "      <td>1.942210</td>\n",
       "      <td>2.024541</td>\n",
       "      <td>2.210913</td>\n",
       "      <td>2.884257</td>\n",
       "      <td>3.743305</td>\n",
       "      <td>4.866213</td>\n",
       "      <td>...</td>\n",
       "      <td>5.439524</td>\n",
       "      <td>5.761667</td>\n",
       "      <td>6.024859</td>\n",
       "      <td>6.594162</td>\n",
       "      <td>6.493795</td>\n",
       "      <td>5.769182</td>\n",
       "      <td>5.507159</td>\n",
       "      <td>4.758665</td>\n",
       "      <td>3.651455</td>\n",
       "      <td>3.150956</td>\n",
       "    </tr>\n",
       "    <tr>\n",
       "      <th>27</th>\n",
       "      <td>0.914158</td>\n",
       "      <td>0.742983</td>\n",
       "      <td>0.639276</td>\n",
       "      <td>0.600365</td>\n",
       "      <td>0.600198</td>\n",
       "      <td>0.666664</td>\n",
       "      <td>0.923009</td>\n",
       "      <td>1.534730</td>\n",
       "      <td>2.085162</td>\n",
       "      <td>2.703730</td>\n",
       "      <td>...</td>\n",
       "      <td>2.678680</td>\n",
       "      <td>2.778713</td>\n",
       "      <td>2.840169</td>\n",
       "      <td>3.401623</td>\n",
       "      <td>3.549418</td>\n",
       "      <td>3.608703</td>\n",
       "      <td>3.347849</td>\n",
       "      <td>2.677845</td>\n",
       "      <td>1.718764</td>\n",
       "      <td>1.238639</td>\n",
       "    </tr>\n",
       "    <tr>\n",
       "      <th>28</th>\n",
       "      <td>54.428974</td>\n",
       "      <td>44.782052</td>\n",
       "      <td>38.575497</td>\n",
       "      <td>34.385801</td>\n",
       "      <td>32.313164</td>\n",
       "      <td>33.626953</td>\n",
       "      <td>43.516025</td>\n",
       "      <td>65.276125</td>\n",
       "      <td>91.353175</td>\n",
       "      <td>119.709775</td>\n",
       "      <td>...</td>\n",
       "      <td>130.890926</td>\n",
       "      <td>133.673480</td>\n",
       "      <td>137.228409</td>\n",
       "      <td>150.125986</td>\n",
       "      <td>154.819855</td>\n",
       "      <td>147.931439</td>\n",
       "      <td>137.437493</td>\n",
       "      <td>117.558982</td>\n",
       "      <td>89.079303</td>\n",
       "      <td>70.058838</td>\n",
       "    </tr>\n",
       "    <tr>\n",
       "      <th>29</th>\n",
       "      <td>330.171191</td>\n",
       "      <td>270.769124</td>\n",
       "      <td>230.724194</td>\n",
       "      <td>198.578698</td>\n",
       "      <td>172.605522</td>\n",
       "      <td>168.776379</td>\n",
       "      <td>193.338238</td>\n",
       "      <td>247.989489</td>\n",
       "      <td>283.678558</td>\n",
       "      <td>330.915677</td>\n",
       "      <td>...</td>\n",
       "      <td>414.507527</td>\n",
       "      <td>437.341103</td>\n",
       "      <td>454.005699</td>\n",
       "      <td>499.232138</td>\n",
       "      <td>535.205107</td>\n",
       "      <td>556.528168</td>\n",
       "      <td>571.672897</td>\n",
       "      <td>539.939724</td>\n",
       "      <td>477.455505</td>\n",
       "      <td>411.361247</td>\n",
       "    </tr>\n",
       "    <tr>\n",
       "      <th>...</th>\n",
       "      <td>...</td>\n",
       "      <td>...</td>\n",
       "      <td>...</td>\n",
       "      <td>...</td>\n",
       "      <td>...</td>\n",
       "      <td>...</td>\n",
       "      <td>...</td>\n",
       "      <td>...</td>\n",
       "      <td>...</td>\n",
       "      <td>...</td>\n",
       "      <td>...</td>\n",
       "      <td>...</td>\n",
       "      <td>...</td>\n",
       "      <td>...</td>\n",
       "      <td>...</td>\n",
       "      <td>...</td>\n",
       "      <td>...</td>\n",
       "      <td>...</td>\n",
       "      <td>...</td>\n",
       "      <td>...</td>\n",
       "      <td>...</td>\n",
       "    </tr>\n",
       "    <tr>\n",
       "      <th>10080</th>\n",
       "      <td>0.044923</td>\n",
       "      <td>0.041917</td>\n",
       "      <td>0.040581</td>\n",
       "      <td>0.043587</td>\n",
       "      <td>0.043420</td>\n",
       "      <td>0.048263</td>\n",
       "      <td>0.051937</td>\n",
       "      <td>0.059285</td>\n",
       "      <td>0.053440</td>\n",
       "      <td>0.053941</td>\n",
       "      <td>...</td>\n",
       "      <td>0.052939</td>\n",
       "      <td>0.062124</td>\n",
       "      <td>0.065798</td>\n",
       "      <td>0.060955</td>\n",
       "      <td>0.061790</td>\n",
       "      <td>0.068637</td>\n",
       "      <td>0.060621</td>\n",
       "      <td>0.051937</td>\n",
       "      <td>0.046426</td>\n",
       "      <td>0.050100</td>\n",
       "    </tr>\n",
       "    <tr>\n",
       "      <th>10081</th>\n",
       "      <td>0.042919</td>\n",
       "      <td>0.036573</td>\n",
       "      <td>0.035571</td>\n",
       "      <td>0.034903</td>\n",
       "      <td>0.039913</td>\n",
       "      <td>0.044756</td>\n",
       "      <td>0.048764</td>\n",
       "      <td>0.058617</td>\n",
       "      <td>0.062959</td>\n",
       "      <td>0.074649</td>\n",
       "      <td>...</td>\n",
       "      <td>0.072812</td>\n",
       "      <td>0.068804</td>\n",
       "      <td>0.073313</td>\n",
       "      <td>0.070140</td>\n",
       "      <td>0.076820</td>\n",
       "      <td>0.066800</td>\n",
       "      <td>0.063293</td>\n",
       "      <td>0.051436</td>\n",
       "      <td>0.045090</td>\n",
       "      <td>0.041750</td>\n",
       "    </tr>\n",
       "    <tr>\n",
       "      <th>10082</th>\n",
       "      <td>0.046426</td>\n",
       "      <td>0.040748</td>\n",
       "      <td>0.040581</td>\n",
       "      <td>0.041583</td>\n",
       "      <td>0.044589</td>\n",
       "      <td>0.047762</td>\n",
       "      <td>0.057615</td>\n",
       "      <td>0.068971</td>\n",
       "      <td>0.094856</td>\n",
       "      <td>0.142618</td>\n",
       "      <td>...</td>\n",
       "      <td>0.148797</td>\n",
       "      <td>0.149131</td>\n",
       "      <td>0.139946</td>\n",
       "      <td>0.121075</td>\n",
       "      <td>0.104542</td>\n",
       "      <td>0.089178</td>\n",
       "      <td>0.080661</td>\n",
       "      <td>0.065798</td>\n",
       "      <td>0.053273</td>\n",
       "      <td>0.053607</td>\n",
       "    </tr>\n",
       "    <tr>\n",
       "      <th>10083</th>\n",
       "      <td>0.089846</td>\n",
       "      <td>0.088343</td>\n",
       "      <td>0.089345</td>\n",
       "      <td>0.083333</td>\n",
       "      <td>0.090180</td>\n",
       "      <td>0.094355</td>\n",
       "      <td>0.104041</td>\n",
       "      <td>0.123079</td>\n",
       "      <td>0.138777</td>\n",
       "      <td>0.156312</td>\n",
       "      <td>...</td>\n",
       "      <td>0.151135</td>\n",
       "      <td>0.143119</td>\n",
       "      <td>0.144956</td>\n",
       "      <td>0.154642</td>\n",
       "      <td>0.142451</td>\n",
       "      <td>0.129592</td>\n",
       "      <td>0.119906</td>\n",
       "      <td>0.101870</td>\n",
       "      <td>0.092518</td>\n",
       "      <td>0.091516</td>\n",
       "    </tr>\n",
       "    <tr>\n",
       "      <th>10084</th>\n",
       "      <td>0.052104</td>\n",
       "      <td>0.050100</td>\n",
       "      <td>0.049933</td>\n",
       "      <td>0.047595</td>\n",
       "      <td>0.052104</td>\n",
       "      <td>0.053941</td>\n",
       "      <td>0.059285</td>\n",
       "      <td>0.069639</td>\n",
       "      <td>0.077655</td>\n",
       "      <td>0.089011</td>\n",
       "      <td>...</td>\n",
       "      <td>0.084669</td>\n",
       "      <td>0.081663</td>\n",
       "      <td>0.082331</td>\n",
       "      <td>0.087174</td>\n",
       "      <td>0.078657</td>\n",
       "      <td>0.073146</td>\n",
       "      <td>0.066299</td>\n",
       "      <td>0.057448</td>\n",
       "      <td>0.051603</td>\n",
       "      <td>0.052271</td>\n",
       "    </tr>\n",
       "    <tr>\n",
       "      <th>10085</th>\n",
       "      <td>0.129425</td>\n",
       "      <td>0.142618</td>\n",
       "      <td>0.140280</td>\n",
       "      <td>0.140948</td>\n",
       "      <td>0.146793</td>\n",
       "      <td>0.166332</td>\n",
       "      <td>0.139612</td>\n",
       "      <td>0.143453</td>\n",
       "      <td>0.179692</td>\n",
       "      <td>0.156980</td>\n",
       "      <td>...</td>\n",
       "      <td>0.120908</td>\n",
       "      <td>0.124081</td>\n",
       "      <td>0.122745</td>\n",
       "      <td>0.137775</td>\n",
       "      <td>0.135604</td>\n",
       "      <td>0.123747</td>\n",
       "      <td>0.175350</td>\n",
       "      <td>0.145290</td>\n",
       "      <td>0.153640</td>\n",
       "      <td>0.158650</td>\n",
       "    </tr>\n",
       "    <tr>\n",
       "      <th>10086</th>\n",
       "      <td>0.058951</td>\n",
       "      <td>0.052271</td>\n",
       "      <td>0.050601</td>\n",
       "      <td>0.051269</td>\n",
       "      <td>0.053273</td>\n",
       "      <td>0.055110</td>\n",
       "      <td>0.070641</td>\n",
       "      <td>0.085838</td>\n",
       "      <td>0.104876</td>\n",
       "      <td>0.134602</td>\n",
       "      <td>...</td>\n",
       "      <td>0.139111</td>\n",
       "      <td>0.144455</td>\n",
       "      <td>0.137942</td>\n",
       "      <td>0.131429</td>\n",
       "      <td>0.140280</td>\n",
       "      <td>0.128423</td>\n",
       "      <td>0.112892</td>\n",
       "      <td>0.090848</td>\n",
       "      <td>0.070808</td>\n",
       "      <td>0.065464</td>\n",
       "    </tr>\n",
       "    <tr>\n",
       "      <th>10087</th>\n",
       "      <td>0.087675</td>\n",
       "      <td>0.090514</td>\n",
       "      <td>0.090848</td>\n",
       "      <td>0.092184</td>\n",
       "      <td>0.094188</td>\n",
       "      <td>0.097528</td>\n",
       "      <td>0.103707</td>\n",
       "      <td>0.116566</td>\n",
       "      <td>0.124081</td>\n",
       "      <td>0.142785</td>\n",
       "      <td>...</td>\n",
       "      <td>0.158817</td>\n",
       "      <td>0.161155</td>\n",
       "      <td>0.159318</td>\n",
       "      <td>0.147962</td>\n",
       "      <td>0.139779</td>\n",
       "      <td>0.126753</td>\n",
       "      <td>0.120407</td>\n",
       "      <td>0.102371</td>\n",
       "      <td>0.096192</td>\n",
       "      <td>0.090347</td>\n",
       "    </tr>\n",
       "    <tr>\n",
       "      <th>10088</th>\n",
       "      <td>0.064128</td>\n",
       "      <td>0.066466</td>\n",
       "      <td>0.063293</td>\n",
       "      <td>0.065631</td>\n",
       "      <td>0.066800</td>\n",
       "      <td>0.067802</td>\n",
       "      <td>0.074148</td>\n",
       "      <td>0.081162</td>\n",
       "      <td>0.088510</td>\n",
       "      <td>0.101035</td>\n",
       "      <td>...</td>\n",
       "      <td>0.111222</td>\n",
       "      <td>0.113393</td>\n",
       "      <td>0.111723</td>\n",
       "      <td>0.104876</td>\n",
       "      <td>0.099532</td>\n",
       "      <td>0.089846</td>\n",
       "      <td>0.084836</td>\n",
       "      <td>0.072144</td>\n",
       "      <td>0.068136</td>\n",
       "      <td>0.064128</td>\n",
       "    </tr>\n",
       "    <tr>\n",
       "      <th>10089</th>\n",
       "      <td>0.088009</td>\n",
       "      <td>0.090848</td>\n",
       "      <td>0.091182</td>\n",
       "      <td>0.092518</td>\n",
       "      <td>0.094689</td>\n",
       "      <td>0.098029</td>\n",
       "      <td>0.103874</td>\n",
       "      <td>0.117735</td>\n",
       "      <td>0.125584</td>\n",
       "      <td>0.143787</td>\n",
       "      <td>...</td>\n",
       "      <td>0.160320</td>\n",
       "      <td>0.163159</td>\n",
       "      <td>0.160654</td>\n",
       "      <td>0.151135</td>\n",
       "      <td>0.142117</td>\n",
       "      <td>0.128089</td>\n",
       "      <td>0.122244</td>\n",
       "      <td>0.102872</td>\n",
       "      <td>0.096693</td>\n",
       "      <td>0.090347</td>\n",
       "    </tr>\n",
       "    <tr>\n",
       "      <th>10090</th>\n",
       "      <td>0.057281</td>\n",
       "      <td>0.050267</td>\n",
       "      <td>0.048931</td>\n",
       "      <td>0.045758</td>\n",
       "      <td>0.048764</td>\n",
       "      <td>0.051937</td>\n",
       "      <td>0.057615</td>\n",
       "      <td>0.065631</td>\n",
       "      <td>0.087174</td>\n",
       "      <td>0.061957</td>\n",
       "      <td>...</td>\n",
       "      <td>0.058784</td>\n",
       "      <td>0.059953</td>\n",
       "      <td>0.070641</td>\n",
       "      <td>0.072812</td>\n",
       "      <td>0.067301</td>\n",
       "      <td>0.044923</td>\n",
       "      <td>0.053440</td>\n",
       "      <td>0.053106</td>\n",
       "      <td>0.048430</td>\n",
       "      <td>0.055778</td>\n",
       "    </tr>\n",
       "    <tr>\n",
       "      <th>10091</th>\n",
       "      <td>0.062959</td>\n",
       "      <td>0.055778</td>\n",
       "      <td>0.053941</td>\n",
       "      <td>0.051102</td>\n",
       "      <td>0.054609</td>\n",
       "      <td>0.058617</td>\n",
       "      <td>0.063794</td>\n",
       "      <td>0.071643</td>\n",
       "      <td>0.094021</td>\n",
       "      <td>0.067969</td>\n",
       "      <td>...</td>\n",
       "      <td>0.062124</td>\n",
       "      <td>0.065798</td>\n",
       "      <td>0.077154</td>\n",
       "      <td>0.079826</td>\n",
       "      <td>0.072979</td>\n",
       "      <td>0.050267</td>\n",
       "      <td>0.059953</td>\n",
       "      <td>0.057448</td>\n",
       "      <td>0.052772</td>\n",
       "      <td>0.061456</td>\n",
       "    </tr>\n",
       "    <tr>\n",
       "      <th>10092</th>\n",
       "      <td>0.041583</td>\n",
       "      <td>0.041082</td>\n",
       "      <td>0.041416</td>\n",
       "      <td>0.044255</td>\n",
       "      <td>0.043587</td>\n",
       "      <td>0.041249</td>\n",
       "      <td>0.051269</td>\n",
       "      <td>0.064963</td>\n",
       "      <td>0.077822</td>\n",
       "      <td>0.097862</td>\n",
       "      <td>...</td>\n",
       "      <td>0.105544</td>\n",
       "      <td>0.108717</td>\n",
       "      <td>0.108717</td>\n",
       "      <td>0.100868</td>\n",
       "      <td>0.112057</td>\n",
       "      <td>0.082498</td>\n",
       "      <td>0.071309</td>\n",
       "      <td>0.055444</td>\n",
       "      <td>0.049766</td>\n",
       "      <td>0.045257</td>\n",
       "    </tr>\n",
       "    <tr>\n",
       "      <th>10093</th>\n",
       "      <td>0.058617</td>\n",
       "      <td>0.055778</td>\n",
       "      <td>0.055611</td>\n",
       "      <td>0.052772</td>\n",
       "      <td>0.056780</td>\n",
       "      <td>0.059452</td>\n",
       "      <td>0.065130</td>\n",
       "      <td>0.076152</td>\n",
       "      <td>0.087341</td>\n",
       "      <td>0.100200</td>\n",
       "      <td>...</td>\n",
       "      <td>0.096025</td>\n",
       "      <td>0.090180</td>\n",
       "      <td>0.091850</td>\n",
       "      <td>0.097695</td>\n",
       "      <td>0.090013</td>\n",
       "      <td>0.082164</td>\n",
       "      <td>0.074816</td>\n",
       "      <td>0.063460</td>\n",
       "      <td>0.057448</td>\n",
       "      <td>0.057448</td>\n",
       "    </tr>\n",
       "    <tr>\n",
       "      <th>10094</th>\n",
       "      <td>0.000167</td>\n",
       "      <td>0.000000</td>\n",
       "      <td>0.000000</td>\n",
       "      <td>0.000000</td>\n",
       "      <td>0.000000</td>\n",
       "      <td>0.000000</td>\n",
       "      <td>0.000167</td>\n",
       "      <td>0.000167</td>\n",
       "      <td>0.003841</td>\n",
       "      <td>0.011690</td>\n",
       "      <td>...</td>\n",
       "      <td>0.017535</td>\n",
       "      <td>0.012191</td>\n",
       "      <td>0.014863</td>\n",
       "      <td>0.013861</td>\n",
       "      <td>0.009018</td>\n",
       "      <td>0.004843</td>\n",
       "      <td>0.002839</td>\n",
       "      <td>0.001670</td>\n",
       "      <td>0.000167</td>\n",
       "      <td>0.000000</td>\n",
       "    </tr>\n",
       "    <tr>\n",
       "      <th>10095</th>\n",
       "      <td>0.079993</td>\n",
       "      <td>0.071977</td>\n",
       "      <td>0.069806</td>\n",
       "      <td>0.065464</td>\n",
       "      <td>0.068470</td>\n",
       "      <td>0.074983</td>\n",
       "      <td>0.082164</td>\n",
       "      <td>0.092685</td>\n",
       "      <td>0.121242</td>\n",
       "      <td>0.085838</td>\n",
       "      <td>...</td>\n",
       "      <td>0.080327</td>\n",
       "      <td>0.085504</td>\n",
       "      <td>0.098530</td>\n",
       "      <td>0.103707</td>\n",
       "      <td>0.094856</td>\n",
       "      <td>0.064295</td>\n",
       "      <td>0.077822</td>\n",
       "      <td>0.072645</td>\n",
       "      <td>0.066132</td>\n",
       "      <td>0.079158</td>\n",
       "    </tr>\n",
       "    <tr>\n",
       "      <th>10096</th>\n",
       "      <td>0.082164</td>\n",
       "      <td>0.089011</td>\n",
       "      <td>0.087508</td>\n",
       "      <td>0.090180</td>\n",
       "      <td>0.092685</td>\n",
       "      <td>0.105210</td>\n",
       "      <td>0.085337</td>\n",
       "      <td>0.089679</td>\n",
       "      <td>0.112391</td>\n",
       "      <td>0.097361</td>\n",
       "      <td>...</td>\n",
       "      <td>0.072979</td>\n",
       "      <td>0.077989</td>\n",
       "      <td>0.075150</td>\n",
       "      <td>0.085003</td>\n",
       "      <td>0.080160</td>\n",
       "      <td>0.076653</td>\n",
       "      <td>0.109051</td>\n",
       "      <td>0.089846</td>\n",
       "      <td>0.097194</td>\n",
       "      <td>0.099198</td>\n",
       "    </tr>\n",
       "    <tr>\n",
       "      <th>10097</th>\n",
       "      <td>0.106379</td>\n",
       "      <td>0.115397</td>\n",
       "      <td>0.112725</td>\n",
       "      <td>0.114896</td>\n",
       "      <td>0.119572</td>\n",
       "      <td>0.133600</td>\n",
       "      <td>0.114562</td>\n",
       "      <td>0.117902</td>\n",
       "      <td>0.144956</td>\n",
       "      <td>0.130427</td>\n",
       "      <td>...</td>\n",
       "      <td>0.100868</td>\n",
       "      <td>0.102705</td>\n",
       "      <td>0.100868</td>\n",
       "      <td>0.110888</td>\n",
       "      <td>0.109218</td>\n",
       "      <td>0.102705</td>\n",
       "      <td>0.143453</td>\n",
       "      <td>0.118403</td>\n",
       "      <td>0.125751</td>\n",
       "      <td>0.128423</td>\n",
       "    </tr>\n",
       "    <tr>\n",
       "      <th>10098</th>\n",
       "      <td>0.055611</td>\n",
       "      <td>0.058116</td>\n",
       "      <td>0.054943</td>\n",
       "      <td>0.056112</td>\n",
       "      <td>0.059118</td>\n",
       "      <td>0.059118</td>\n",
       "      <td>0.063961</td>\n",
       "      <td>0.071309</td>\n",
       "      <td>0.074482</td>\n",
       "      <td>0.087007</td>\n",
       "      <td>...</td>\n",
       "      <td>0.094856</td>\n",
       "      <td>0.097862</td>\n",
       "      <td>0.095858</td>\n",
       "      <td>0.090848</td>\n",
       "      <td>0.085671</td>\n",
       "      <td>0.077321</td>\n",
       "      <td>0.073647</td>\n",
       "      <td>0.061456</td>\n",
       "      <td>0.059285</td>\n",
       "      <td>0.055945</td>\n",
       "    </tr>\n",
       "    <tr>\n",
       "      <th>10099</th>\n",
       "      <td>0.034736</td>\n",
       "      <td>0.029726</td>\n",
       "      <td>0.029392</td>\n",
       "      <td>0.031563</td>\n",
       "      <td>0.034068</td>\n",
       "      <td>0.036573</td>\n",
       "      <td>0.045257</td>\n",
       "      <td>0.053273</td>\n",
       "      <td>0.072311</td>\n",
       "      <td>0.107882</td>\n",
       "      <td>...</td>\n",
       "      <td>0.113226</td>\n",
       "      <td>0.115564</td>\n",
       "      <td>0.105377</td>\n",
       "      <td>0.092351</td>\n",
       "      <td>0.080661</td>\n",
       "      <td>0.068136</td>\n",
       "      <td>0.062625</td>\n",
       "      <td>0.049599</td>\n",
       "      <td>0.042084</td>\n",
       "      <td>0.039913</td>\n",
       "    </tr>\n",
       "    <tr>\n",
       "      <th>10100</th>\n",
       "      <td>0.025050</td>\n",
       "      <td>0.023881</td>\n",
       "      <td>0.023380</td>\n",
       "      <td>0.025217</td>\n",
       "      <td>0.024716</td>\n",
       "      <td>0.025050</td>\n",
       "      <td>0.030561</td>\n",
       "      <td>0.036740</td>\n",
       "      <td>0.046092</td>\n",
       "      <td>0.056613</td>\n",
       "      <td>...</td>\n",
       "      <td>0.061122</td>\n",
       "      <td>0.063794</td>\n",
       "      <td>0.061790</td>\n",
       "      <td>0.057782</td>\n",
       "      <td>0.065464</td>\n",
       "      <td>0.049933</td>\n",
       "      <td>0.043587</td>\n",
       "      <td>0.034068</td>\n",
       "      <td>0.029058</td>\n",
       "      <td>0.027054</td>\n",
       "    </tr>\n",
       "    <tr>\n",
       "      <th>10101</th>\n",
       "      <td>0.068971</td>\n",
       "      <td>0.058450</td>\n",
       "      <td>0.058283</td>\n",
       "      <td>0.058283</td>\n",
       "      <td>0.062124</td>\n",
       "      <td>0.070307</td>\n",
       "      <td>0.081162</td>\n",
       "      <td>0.093687</td>\n",
       "      <td>0.105043</td>\n",
       "      <td>0.123747</td>\n",
       "      <td>...</td>\n",
       "      <td>0.120073</td>\n",
       "      <td>0.116232</td>\n",
       "      <td>0.123079</td>\n",
       "      <td>0.116399</td>\n",
       "      <td>0.126252</td>\n",
       "      <td>0.112558</td>\n",
       "      <td>0.104876</td>\n",
       "      <td>0.085337</td>\n",
       "      <td>0.072812</td>\n",
       "      <td>0.067301</td>\n",
       "    </tr>\n",
       "    <tr>\n",
       "      <th>10102</th>\n",
       "      <td>0.064796</td>\n",
       "      <td>0.062792</td>\n",
       "      <td>0.061456</td>\n",
       "      <td>0.058951</td>\n",
       "      <td>0.063293</td>\n",
       "      <td>0.065631</td>\n",
       "      <td>0.072311</td>\n",
       "      <td>0.085003</td>\n",
       "      <td>0.097194</td>\n",
       "      <td>0.111055</td>\n",
       "      <td>...</td>\n",
       "      <td>0.106713</td>\n",
       "      <td>0.101202</td>\n",
       "      <td>0.101369</td>\n",
       "      <td>0.110053</td>\n",
       "      <td>0.101035</td>\n",
       "      <td>0.091349</td>\n",
       "      <td>0.084335</td>\n",
       "      <td>0.071810</td>\n",
       "      <td>0.063460</td>\n",
       "      <td>0.064462</td>\n",
       "    </tr>\n",
       "    <tr>\n",
       "      <th>10103</th>\n",
       "      <td>0.018036</td>\n",
       "      <td>0.016366</td>\n",
       "      <td>0.015531</td>\n",
       "      <td>0.015531</td>\n",
       "      <td>0.015197</td>\n",
       "      <td>0.015531</td>\n",
       "      <td>0.020040</td>\n",
       "      <td>0.030227</td>\n",
       "      <td>0.035070</td>\n",
       "      <td>0.044422</td>\n",
       "      <td>...</td>\n",
       "      <td>0.047094</td>\n",
       "      <td>0.047094</td>\n",
       "      <td>0.046092</td>\n",
       "      <td>0.045758</td>\n",
       "      <td>0.048096</td>\n",
       "      <td>0.044756</td>\n",
       "      <td>0.039078</td>\n",
       "      <td>0.030227</td>\n",
       "      <td>0.023380</td>\n",
       "      <td>0.019873</td>\n",
       "    </tr>\n",
       "    <tr>\n",
       "      <th>10104</th>\n",
       "      <td>0.195724</td>\n",
       "      <td>0.175851</td>\n",
       "      <td>0.166833</td>\n",
       "      <td>0.164829</td>\n",
       "      <td>0.168336</td>\n",
       "      <td>0.186372</td>\n",
       "      <td>0.197561</td>\n",
       "      <td>0.225116</td>\n",
       "      <td>0.290914</td>\n",
       "      <td>0.215597</td>\n",
       "      <td>...</td>\n",
       "      <td>0.202905</td>\n",
       "      <td>0.218770</td>\n",
       "      <td>0.251836</td>\n",
       "      <td>0.262190</td>\n",
       "      <td>0.233466</td>\n",
       "      <td>0.161990</td>\n",
       "      <td>0.193386</td>\n",
       "      <td>0.183032</td>\n",
       "      <td>0.161823</td>\n",
       "      <td>0.186706</td>\n",
       "    </tr>\n",
       "    <tr>\n",
       "      <th>10105</th>\n",
       "      <td>0.062291</td>\n",
       "      <td>0.059786</td>\n",
       "      <td>0.058784</td>\n",
       "      <td>0.055611</td>\n",
       "      <td>0.060454</td>\n",
       "      <td>0.062959</td>\n",
       "      <td>0.068971</td>\n",
       "      <td>0.081329</td>\n",
       "      <td>0.091349</td>\n",
       "      <td>0.105377</td>\n",
       "      <td>...</td>\n",
       "      <td>0.101369</td>\n",
       "      <td>0.095691</td>\n",
       "      <td>0.096359</td>\n",
       "      <td>0.104041</td>\n",
       "      <td>0.094856</td>\n",
       "      <td>0.086840</td>\n",
       "      <td>0.079325</td>\n",
       "      <td>0.068804</td>\n",
       "      <td>0.061289</td>\n",
       "      <td>0.061957</td>\n",
       "    </tr>\n",
       "    <tr>\n",
       "      <th>10106</th>\n",
       "      <td>0.020040</td>\n",
       "      <td>0.018370</td>\n",
       "      <td>0.018370</td>\n",
       "      <td>0.018871</td>\n",
       "      <td>0.019038</td>\n",
       "      <td>0.018036</td>\n",
       "      <td>0.022879</td>\n",
       "      <td>0.029559</td>\n",
       "      <td>0.036573</td>\n",
       "      <td>0.046593</td>\n",
       "      <td>...</td>\n",
       "      <td>0.048096</td>\n",
       "      <td>0.048263</td>\n",
       "      <td>0.049766</td>\n",
       "      <td>0.045758</td>\n",
       "      <td>0.052271</td>\n",
       "      <td>0.041082</td>\n",
       "      <td>0.033901</td>\n",
       "      <td>0.025217</td>\n",
       "      <td>0.022211</td>\n",
       "      <td>0.020875</td>\n",
       "    </tr>\n",
       "    <tr>\n",
       "      <th>10107</th>\n",
       "      <td>0.023714</td>\n",
       "      <td>0.024549</td>\n",
       "      <td>0.025551</td>\n",
       "      <td>0.025050</td>\n",
       "      <td>0.025050</td>\n",
       "      <td>0.026052</td>\n",
       "      <td>0.029058</td>\n",
       "      <td>0.032565</td>\n",
       "      <td>0.035237</td>\n",
       "      <td>0.042585</td>\n",
       "      <td>...</td>\n",
       "      <td>0.045257</td>\n",
       "      <td>0.045591</td>\n",
       "      <td>0.045758</td>\n",
       "      <td>0.043587</td>\n",
       "      <td>0.040581</td>\n",
       "      <td>0.036072</td>\n",
       "      <td>0.035404</td>\n",
       "      <td>0.030227</td>\n",
       "      <td>0.027054</td>\n",
       "      <td>0.024382</td>\n",
       "    </tr>\n",
       "    <tr>\n",
       "      <th>10108</th>\n",
       "      <td>0.063794</td>\n",
       "      <td>0.066466</td>\n",
       "      <td>0.062458</td>\n",
       "      <td>0.065130</td>\n",
       "      <td>0.066800</td>\n",
       "      <td>0.067468</td>\n",
       "      <td>0.073981</td>\n",
       "      <td>0.080828</td>\n",
       "      <td>0.088009</td>\n",
       "      <td>0.100367</td>\n",
       "      <td>...</td>\n",
       "      <td>0.109719</td>\n",
       "      <td>0.112391</td>\n",
       "      <td>0.110554</td>\n",
       "      <td>0.104041</td>\n",
       "      <td>0.098530</td>\n",
       "      <td>0.089345</td>\n",
       "      <td>0.084001</td>\n",
       "      <td>0.071643</td>\n",
       "      <td>0.067969</td>\n",
       "      <td>0.063627</td>\n",
       "    </tr>\n",
       "    <tr>\n",
       "      <th>10109</th>\n",
       "      <td>0.043253</td>\n",
       "      <td>0.037909</td>\n",
       "      <td>0.038076</td>\n",
       "      <td>0.038243</td>\n",
       "      <td>0.040748</td>\n",
       "      <td>0.044756</td>\n",
       "      <td>0.052939</td>\n",
       "      <td>0.064128</td>\n",
       "      <td>0.087508</td>\n",
       "      <td>0.130427</td>\n",
       "      <td>...</td>\n",
       "      <td>0.137441</td>\n",
       "      <td>0.137942</td>\n",
       "      <td>0.129091</td>\n",
       "      <td>0.110721</td>\n",
       "      <td>0.095357</td>\n",
       "      <td>0.082498</td>\n",
       "      <td>0.074482</td>\n",
       "      <td>0.059452</td>\n",
       "      <td>0.048931</td>\n",
       "      <td>0.049432</td>\n",
       "    </tr>\n",
       "  </tbody>\n",
       "</table>\n",
       "<p>10110 rows × 24 columns</p>\n",
       "</div>"
      ],
      "text/plain": [
       "       FLOW_POP_CNT_00TMST  FLOW_POP_CNT_01TMST  FLOW_POP_CNT_02TMST  \\\n",
       "0               312.947980           263.972057           227.917759   \n",
       "1                18.193314            15.509624            13.867847   \n",
       "2               229.957330           194.422903           171.347177   \n",
       "3                94.882052            82.826656            72.077200   \n",
       "4               384.201369           320.784622           278.623635   \n",
       "5                 8.431997             6.973419             6.201712   \n",
       "6               203.903159           164.497839           136.066924   \n",
       "7               236.215989           193.343749           166.153644   \n",
       "8                51.910113            44.783555            40.537079   \n",
       "9                37.495007            29.403356            24.888177   \n",
       "10               53.102493            44.402127            39.036083   \n",
       "11              290.680033           239.531440           205.811635   \n",
       "12              198.493194           167.362223           146.138694   \n",
       "13               76.138139            62.224367            54.357331   \n",
       "14               90.234275            78.440401            69.464986   \n",
       "15               86.399788            75.414361            67.676082   \n",
       "16               16.192821            14.774156            13.421957   \n",
       "17              124.639615            96.210871            81.740989   \n",
       "18               16.610321            14.390724            12.804391   \n",
       "19              100.817733            85.175177            74.586041   \n",
       "20               10.974405             9.711384             8.824614   \n",
       "21               15.956015            13.022493            11.428144   \n",
       "22                2.560444             2.149290             1.917661   \n",
       "23               92.995119            73.742357            63.657060   \n",
       "24               11.784689             9.839640             8.848829   \n",
       "25                6.846833             5.638254             5.024362   \n",
       "26                2.633757             2.260846             2.022704   \n",
       "27                0.914158             0.742983             0.639276   \n",
       "28               54.428974            44.782052            38.575497   \n",
       "29              330.171191           270.769124           230.724194   \n",
       "...                    ...                  ...                  ...   \n",
       "10080             0.044923             0.041917             0.040581   \n",
       "10081             0.042919             0.036573             0.035571   \n",
       "10082             0.046426             0.040748             0.040581   \n",
       "10083             0.089846             0.088343             0.089345   \n",
       "10084             0.052104             0.050100             0.049933   \n",
       "10085             0.129425             0.142618             0.140280   \n",
       "10086             0.058951             0.052271             0.050601   \n",
       "10087             0.087675             0.090514             0.090848   \n",
       "10088             0.064128             0.066466             0.063293   \n",
       "10089             0.088009             0.090848             0.091182   \n",
       "10090             0.057281             0.050267             0.048931   \n",
       "10091             0.062959             0.055778             0.053941   \n",
       "10092             0.041583             0.041082             0.041416   \n",
       "10093             0.058617             0.055778             0.055611   \n",
       "10094             0.000167             0.000000             0.000000   \n",
       "10095             0.079993             0.071977             0.069806   \n",
       "10096             0.082164             0.089011             0.087508   \n",
       "10097             0.106379             0.115397             0.112725   \n",
       "10098             0.055611             0.058116             0.054943   \n",
       "10099             0.034736             0.029726             0.029392   \n",
       "10100             0.025050             0.023881             0.023380   \n",
       "10101             0.068971             0.058450             0.058283   \n",
       "10102             0.064796             0.062792             0.061456   \n",
       "10103             0.018036             0.016366             0.015531   \n",
       "10104             0.195724             0.175851             0.166833   \n",
       "10105             0.062291             0.059786             0.058784   \n",
       "10106             0.020040             0.018370             0.018370   \n",
       "10107             0.023714             0.024549             0.025551   \n",
       "10108             0.063794             0.066466             0.062458   \n",
       "10109             0.043253             0.037909             0.038076   \n",
       "\n",
       "       FLOW_POP_CNT_03TMST  FLOW_POP_CNT_04TMST  FLOW_POP_CNT_05TMST  \\\n",
       "0               205.601048           185.977212           191.715499   \n",
       "1                13.212539            13.960532            18.830753   \n",
       "2               156.791958           148.733874           152.302163   \n",
       "3                66.594590            63.615477            67.900363   \n",
       "4               248.432039           224.149070           222.451515   \n",
       "5                 5.813938             5.822956             6.486948   \n",
       "6               118.704268           107.511427           114.021087   \n",
       "7               148.948135           141.319408           149.243558   \n",
       "8                37.007534            34.810983            38.414008   \n",
       "9                23.084243            24.883334            37.626603   \n",
       "10               36.442573            35.781587            37.697077   \n",
       "11              179.965713           163.688223           164.270719   \n",
       "12              132.989281           126.580155           131.182174   \n",
       "13               50.780525            50.185003            54.095141   \n",
       "14               64.103284            61.086596            62.267787   \n",
       "15               62.596443            59.706675            64.421252   \n",
       "16               12.779508            12.465047            12.481747   \n",
       "17               73.236514            71.689426            78.998849   \n",
       "18               11.893573            11.408104            11.784522   \n",
       "19               67.529456            63.489559            65.306686   \n",
       "20                8.330962             8.171811             8.938508   \n",
       "21               10.645749            10.376879            11.080450   \n",
       "22                1.825644             2.024374             3.063782   \n",
       "23               59.189142            57.928125            63.392866   \n",
       "24                8.369038             8.279192             8.717734   \n",
       "25                4.792232             5.309598             7.371714   \n",
       "26                1.929017             1.942210             2.024541   \n",
       "27                0.600365             0.600198             0.666664   \n",
       "28               34.385801            32.313164            33.626953   \n",
       "29              198.578698           172.605522           168.776379   \n",
       "...                    ...                  ...                  ...   \n",
       "10080             0.043587             0.043420             0.048263   \n",
       "10081             0.034903             0.039913             0.044756   \n",
       "10082             0.041583             0.044589             0.047762   \n",
       "10083             0.083333             0.090180             0.094355   \n",
       "10084             0.047595             0.052104             0.053941   \n",
       "10085             0.140948             0.146793             0.166332   \n",
       "10086             0.051269             0.053273             0.055110   \n",
       "10087             0.092184             0.094188             0.097528   \n",
       "10088             0.065631             0.066800             0.067802   \n",
       "10089             0.092518             0.094689             0.098029   \n",
       "10090             0.045758             0.048764             0.051937   \n",
       "10091             0.051102             0.054609             0.058617   \n",
       "10092             0.044255             0.043587             0.041249   \n",
       "10093             0.052772             0.056780             0.059452   \n",
       "10094             0.000000             0.000000             0.000000   \n",
       "10095             0.065464             0.068470             0.074983   \n",
       "10096             0.090180             0.092685             0.105210   \n",
       "10097             0.114896             0.119572             0.133600   \n",
       "10098             0.056112             0.059118             0.059118   \n",
       "10099             0.031563             0.034068             0.036573   \n",
       "10100             0.025217             0.024716             0.025050   \n",
       "10101             0.058283             0.062124             0.070307   \n",
       "10102             0.058951             0.063293             0.065631   \n",
       "10103             0.015531             0.015197             0.015531   \n",
       "10104             0.164829             0.168336             0.186372   \n",
       "10105             0.055611             0.060454             0.062959   \n",
       "10106             0.018871             0.019038             0.018036   \n",
       "10107             0.025050             0.025050             0.026052   \n",
       "10108             0.065130             0.066800             0.067468   \n",
       "10109             0.038243             0.040748             0.044756   \n",
       "\n",
       "       FLOW_POP_CNT_06TMST  FLOW_POP_CNT_07TMST  FLOW_POP_CNT_08TMST  \\\n",
       "0               247.301449           442.487208           688.423933   \n",
       "1                25.140180            46.738624            76.003871   \n",
       "2               179.773830           246.357064           300.115032   \n",
       "3                92.345489           183.529660           310.078252   \n",
       "4               258.032368           347.026334           426.719569   \n",
       "5                 7.738446            11.151926            14.857656   \n",
       "6               143.363488           194.413885           240.185412   \n",
       "7               185.725042           264.442162           350.547028   \n",
       "8                46.559767            70.005064           101.333429   \n",
       "9                57.908085           125.309786           216.890582   \n",
       "10               44.857870            62.449650            81.604884   \n",
       "11              190.419078           248.770715           292.937873   \n",
       "12              158.997026           227.081256           294.550425   \n",
       "13               66.537977           103.351958           153.835724   \n",
       "14               73.445431           101.826413           133.859351   \n",
       "15               78.752023           124.839013           187.388696   \n",
       "16               13.637721            17.759281            22.243732   \n",
       "17              100.558883           145.837760           202.991673   \n",
       "18               14.135715            21.266281            31.105587   \n",
       "19               79.982980           113.156528           148.322553   \n",
       "20               10.623037            16.925283            25.886336   \n",
       "21               13.537688            20.615816            30.163707   \n",
       "22                4.229609             7.784705            12.072263   \n",
       "23               80.956423           118.834194           167.353205   \n",
       "24               10.114355            14.563736            20.473031   \n",
       "25                9.880221            18.717861            30.558328   \n",
       "26                2.210913             2.884257             3.743305   \n",
       "27                0.923009             1.534730             2.085162   \n",
       "28               43.516025            65.276125            91.353175   \n",
       "29              193.338238           247.989489           283.678558   \n",
       "...                    ...                  ...                  ...   \n",
       "10080             0.051937             0.059285             0.053440   \n",
       "10081             0.048764             0.058617             0.062959   \n",
       "10082             0.057615             0.068971             0.094856   \n",
       "10083             0.104041             0.123079             0.138777   \n",
       "10084             0.059285             0.069639             0.077655   \n",
       "10085             0.139612             0.143453             0.179692   \n",
       "10086             0.070641             0.085838             0.104876   \n",
       "10087             0.103707             0.116566             0.124081   \n",
       "10088             0.074148             0.081162             0.088510   \n",
       "10089             0.103874             0.117735             0.125584   \n",
       "10090             0.057615             0.065631             0.087174   \n",
       "10091             0.063794             0.071643             0.094021   \n",
       "10092             0.051269             0.064963             0.077822   \n",
       "10093             0.065130             0.076152             0.087341   \n",
       "10094             0.000167             0.000167             0.003841   \n",
       "10095             0.082164             0.092685             0.121242   \n",
       "10096             0.085337             0.089679             0.112391   \n",
       "10097             0.114562             0.117902             0.144956   \n",
       "10098             0.063961             0.071309             0.074482   \n",
       "10099             0.045257             0.053273             0.072311   \n",
       "10100             0.030561             0.036740             0.046092   \n",
       "10101             0.081162             0.093687             0.105043   \n",
       "10102             0.072311             0.085003             0.097194   \n",
       "10103             0.020040             0.030227             0.035070   \n",
       "10104             0.197561             0.225116             0.290914   \n",
       "10105             0.068971             0.081329             0.091349   \n",
       "10106             0.022879             0.029559             0.036573   \n",
       "10107             0.029058             0.032565             0.035237   \n",
       "10108             0.073981             0.080828             0.088009   \n",
       "10109             0.052939             0.064128             0.087508   \n",
       "\n",
       "       FLOW_POP_CNT_09TMST         ...           FLOW_POP_CNT_14TMST  \\\n",
       "0               888.531516         ...                   1138.312915   \n",
       "1               110.992041         ...                    117.977985   \n",
       "2               364.484013         ...                    411.619763   \n",
       "3               412.194076         ...                    510.937001   \n",
       "4               521.279478         ...                    607.059362   \n",
       "5                20.618822         ...                     23.451977   \n",
       "6               286.868425         ...                    327.865088   \n",
       "7               448.065342         ...                    510.865692   \n",
       "8               128.684355         ...                    151.107779   \n",
       "9               314.122491         ...                    353.008942   \n",
       "10              107.008924         ...                    120.461943   \n",
       "11              352.813218         ...                    418.765526   \n",
       "12              368.274746         ...                    415.270884   \n",
       "13              208.700234         ...                    242.949262   \n",
       "14              169.281554         ...                    175.841481   \n",
       "15              242.239345         ...                    281.567177   \n",
       "16               27.813850         ...                     26.968997   \n",
       "17              276.467999         ...                    340.267343   \n",
       "18               40.873751         ...                     43.580988   \n",
       "19              186.526976         ...                    202.530252   \n",
       "20               35.070334         ...                     36.925036   \n",
       "21               40.746664         ...                     47.397105   \n",
       "22               18.039340         ...                     19.117325   \n",
       "23              227.615990         ...                    264.249110   \n",
       "24               27.431420         ...                     31.212133   \n",
       "25               44.970094         ...                     47.770851   \n",
       "26                4.866213         ...                      5.439524   \n",
       "27                2.703730         ...                      2.678680   \n",
       "28              119.709775         ...                    130.890926   \n",
       "29              330.915677         ...                    414.507527   \n",
       "...                    ...         ...                           ...   \n",
       "10080             0.053941         ...                      0.052939   \n",
       "10081             0.074649         ...                      0.072812   \n",
       "10082             0.142618         ...                      0.148797   \n",
       "10083             0.156312         ...                      0.151135   \n",
       "10084             0.089011         ...                      0.084669   \n",
       "10085             0.156980         ...                      0.120908   \n",
       "10086             0.134602         ...                      0.139111   \n",
       "10087             0.142785         ...                      0.158817   \n",
       "10088             0.101035         ...                      0.111222   \n",
       "10089             0.143787         ...                      0.160320   \n",
       "10090             0.061957         ...                      0.058784   \n",
       "10091             0.067969         ...                      0.062124   \n",
       "10092             0.097862         ...                      0.105544   \n",
       "10093             0.100200         ...                      0.096025   \n",
       "10094             0.011690         ...                      0.017535   \n",
       "10095             0.085838         ...                      0.080327   \n",
       "10096             0.097361         ...                      0.072979   \n",
       "10097             0.130427         ...                      0.100868   \n",
       "10098             0.087007         ...                      0.094856   \n",
       "10099             0.107882         ...                      0.113226   \n",
       "10100             0.056613         ...                      0.061122   \n",
       "10101             0.123747         ...                      0.120073   \n",
       "10102             0.111055         ...                      0.106713   \n",
       "10103             0.044422         ...                      0.047094   \n",
       "10104             0.215597         ...                      0.202905   \n",
       "10105             0.105377         ...                      0.101369   \n",
       "10106             0.046593         ...                      0.048096   \n",
       "10107             0.042585         ...                      0.045257   \n",
       "10108             0.100367         ...                      0.109719   \n",
       "10109             0.130427         ...                      0.137441   \n",
       "\n",
       "       FLOW_POP_CNT_15TMST  FLOW_POP_CNT_16TMST  FLOW_POP_CNT_17TMST  \\\n",
       "0              1184.986910          1245.823507          1258.707056   \n",
       "1               117.473812           111.585392           115.557487   \n",
       "2               429.540700           443.005242           482.816205   \n",
       "3               529.686592           556.417113           555.533683   \n",
       "4               633.787879           652.958477           721.976905   \n",
       "5                24.103110            24.446629            26.361284   \n",
       "6               344.315423           362.400354           398.187619   \n",
       "7               533.066171           557.648738           600.816735   \n",
       "8               152.635662           155.787286           160.313487   \n",
       "9               355.158232           348.272989           356.739722   \n",
       "10              124.930529           129.454559           141.759954   \n",
       "11              443.944450           462.173001           505.513342   \n",
       "12              432.608657           449.627460           482.116642   \n",
       "13              249.692555           255.643767           271.771792   \n",
       "14              181.203183           184.677952           203.994341   \n",
       "15              287.404996           295.553594           303.667122   \n",
       "16               27.911879            28.187930            31.598404   \n",
       "17              357.081237           373.297605           400.557850   \n",
       "18               44.606201            45.086660            48.863031   \n",
       "19              208.537409           213.748978           234.279624   \n",
       "20               37.343705            36.663347            38.794601   \n",
       "21               48.829297            50.235771            53.723566   \n",
       "22               18.902730            17.671272            18.312552   \n",
       "23              273.659226           296.694705           323.377965   \n",
       "24               32.323852            33.236841            35.678882   \n",
       "25               47.545234            45.068290            46.539894   \n",
       "26                5.761667             6.024859             6.594162   \n",
       "27                2.778713             2.840169             3.401623   \n",
       "28              133.673480           137.228409           150.125986   \n",
       "29              437.341103           454.005699           499.232138   \n",
       "...                    ...                  ...                  ...   \n",
       "10080             0.062124             0.065798             0.060955   \n",
       "10081             0.068804             0.073313             0.070140   \n",
       "10082             0.149131             0.139946             0.121075   \n",
       "10083             0.143119             0.144956             0.154642   \n",
       "10084             0.081663             0.082331             0.087174   \n",
       "10085             0.124081             0.122745             0.137775   \n",
       "10086             0.144455             0.137942             0.131429   \n",
       "10087             0.161155             0.159318             0.147962   \n",
       "10088             0.113393             0.111723             0.104876   \n",
       "10089             0.163159             0.160654             0.151135   \n",
       "10090             0.059953             0.070641             0.072812   \n",
       "10091             0.065798             0.077154             0.079826   \n",
       "10092             0.108717             0.108717             0.100868   \n",
       "10093             0.090180             0.091850             0.097695   \n",
       "10094             0.012191             0.014863             0.013861   \n",
       "10095             0.085504             0.098530             0.103707   \n",
       "10096             0.077989             0.075150             0.085003   \n",
       "10097             0.102705             0.100868             0.110888   \n",
       "10098             0.097862             0.095858             0.090848   \n",
       "10099             0.115564             0.105377             0.092351   \n",
       "10100             0.063794             0.061790             0.057782   \n",
       "10101             0.116232             0.123079             0.116399   \n",
       "10102             0.101202             0.101369             0.110053   \n",
       "10103             0.047094             0.046092             0.045758   \n",
       "10104             0.218770             0.251836             0.262190   \n",
       "10105             0.095691             0.096359             0.104041   \n",
       "10106             0.048263             0.049766             0.045758   \n",
       "10107             0.045591             0.045758             0.043587   \n",
       "10108             0.112391             0.110554             0.104041   \n",
       "10109             0.137942             0.129091             0.110721   \n",
       "\n",
       "       FLOW_POP_CNT_18TMST  FLOW_POP_CNT_19TMST  FLOW_POP_CNT_20TMST  \\\n",
       "0              1144.729222          1226.610491          1138.467891   \n",
       "1               116.414865           115.656518           101.270971   \n",
       "2               498.294433           487.882150           473.621185   \n",
       "3               490.051814           515.724891           463.026371   \n",
       "4               756.216414           765.123693           756.533046   \n",
       "5                26.822037            24.792152            22.984711   \n",
       "6               425.294558           422.745637           418.659648   \n",
       "7               617.647997           596.711708           569.497889   \n",
       "8               161.588699           158.374784           141.840782   \n",
       "9               343.878885           350.073249           305.973726   \n",
       "10              142.773811           131.113871           122.998840   \n",
       "11              532.842391           530.489027           534.719471   \n",
       "12              486.033460           478.771131           458.555113   \n",
       "13              264.483578           239.152183           216.335140   \n",
       "14              210.198892           204.475134           193.678083   \n",
       "15              292.976617           291.376256           262.192338   \n",
       "16               32.244360            31.156856            29.764744   \n",
       "17              405.248212           365.579366           341.234774   \n",
       "18               48.473086            46.109535            42.155476   \n",
       "19              243.230156           237.395343           225.371844   \n",
       "20               38.506526            37.311140            33.438911   \n",
       "21               52.543711            47.846502            43.520701   \n",
       "22               18.985729            19.165421            16.915597   \n",
       "23              344.326946           312.208671           277.377982   \n",
       "24               34.984329            31.609927            29.116450   \n",
       "25               46.836319            46.640595            40.864065   \n",
       "26                6.493795             5.769182             5.507159   \n",
       "27                3.549418             3.608703             3.347849   \n",
       "28              154.819855           147.931439           137.437493   \n",
       "29              535.205107           556.528168           571.672897   \n",
       "...                    ...                  ...                  ...   \n",
       "10080             0.061790             0.068637             0.060621   \n",
       "10081             0.076820             0.066800             0.063293   \n",
       "10082             0.104542             0.089178             0.080661   \n",
       "10083             0.142451             0.129592             0.119906   \n",
       "10084             0.078657             0.073146             0.066299   \n",
       "10085             0.135604             0.123747             0.175350   \n",
       "10086             0.140280             0.128423             0.112892   \n",
       "10087             0.139779             0.126753             0.120407   \n",
       "10088             0.099532             0.089846             0.084836   \n",
       "10089             0.142117             0.128089             0.122244   \n",
       "10090             0.067301             0.044923             0.053440   \n",
       "10091             0.072979             0.050267             0.059953   \n",
       "10092             0.112057             0.082498             0.071309   \n",
       "10093             0.090013             0.082164             0.074816   \n",
       "10094             0.009018             0.004843             0.002839   \n",
       "10095             0.094856             0.064295             0.077822   \n",
       "10096             0.080160             0.076653             0.109051   \n",
       "10097             0.109218             0.102705             0.143453   \n",
       "10098             0.085671             0.077321             0.073647   \n",
       "10099             0.080661             0.068136             0.062625   \n",
       "10100             0.065464             0.049933             0.043587   \n",
       "10101             0.126252             0.112558             0.104876   \n",
       "10102             0.101035             0.091349             0.084335   \n",
       "10103             0.048096             0.044756             0.039078   \n",
       "10104             0.233466             0.161990             0.193386   \n",
       "10105             0.094856             0.086840             0.079325   \n",
       "10106             0.052271             0.041082             0.033901   \n",
       "10107             0.040581             0.036072             0.035404   \n",
       "10108             0.098530             0.089345             0.084001   \n",
       "10109             0.095357             0.082498             0.074482   \n",
       "\n",
       "       FLOW_POP_CNT_21TMST  FLOW_POP_CNT_22TMST  FLOW_POP_CNT_23TMST  \n",
       "0               744.187404           489.890158           397.322058  \n",
       "1                76.442413            42.730958            24.130665  \n",
       "2               420.960741           342.322612           289.288422  \n",
       "3               270.919758           150.530293           116.990681  \n",
       "4               684.120176           571.412544           483.642521  \n",
       "5                19.672767            14.025662            10.702028  \n",
       "6               376.761185           317.054844           262.566919  \n",
       "7               476.589109           370.980647           299.577459  \n",
       "8               104.845940            75.573345            61.390202  \n",
       "9               207.315136           105.267281            55.562403  \n",
       "10              106.161900            80.335851            65.894025  \n",
       "11              492.833366           421.488461           361.427913  \n",
       "12              383.543890           298.779533           247.652817  \n",
       "13              172.731774           121.431712            96.171960  \n",
       "14              168.714422           132.122384           110.067362  \n",
       "15              185.029153           126.207411           102.245750  \n",
       "16               26.618130            21.144538            18.511616  \n",
       "17              288.579340           217.876884           167.895454  \n",
       "18               34.371272            25.084068            20.344274  \n",
       "19              195.956798           154.718653           127.041910  \n",
       "20               26.042982            17.312222            13.077937  \n",
       "21               35.326345            25.361622            20.182284  \n",
       "22               13.229740             7.275522             3.682517  \n",
       "23              228.535993           169.611713           125.192719  \n",
       "24               23.916237            17.522141            14.350644  \n",
       "25               30.653351            16.894722             9.189175  \n",
       "26                4.758665             3.651455             3.150956  \n",
       "27                2.677845             1.718764             1.238639  \n",
       "28              117.558982            89.079303            70.058838  \n",
       "29              539.939724           477.455505           411.361247  \n",
       "...                    ...                  ...                  ...  \n",
       "10080             0.051937             0.046426             0.050100  \n",
       "10081             0.051436             0.045090             0.041750  \n",
       "10082             0.065798             0.053273             0.053607  \n",
       "10083             0.101870             0.092518             0.091516  \n",
       "10084             0.057448             0.051603             0.052271  \n",
       "10085             0.145290             0.153640             0.158650  \n",
       "10086             0.090848             0.070808             0.065464  \n",
       "10087             0.102371             0.096192             0.090347  \n",
       "10088             0.072144             0.068136             0.064128  \n",
       "10089             0.102872             0.096693             0.090347  \n",
       "10090             0.053106             0.048430             0.055778  \n",
       "10091             0.057448             0.052772             0.061456  \n",
       "10092             0.055444             0.049766             0.045257  \n",
       "10093             0.063460             0.057448             0.057448  \n",
       "10094             0.001670             0.000167             0.000000  \n",
       "10095             0.072645             0.066132             0.079158  \n",
       "10096             0.089846             0.097194             0.099198  \n",
       "10097             0.118403             0.125751             0.128423  \n",
       "10098             0.061456             0.059285             0.055945  \n",
       "10099             0.049599             0.042084             0.039913  \n",
       "10100             0.034068             0.029058             0.027054  \n",
       "10101             0.085337             0.072812             0.067301  \n",
       "10102             0.071810             0.063460             0.064462  \n",
       "10103             0.030227             0.023380             0.019873  \n",
       "10104             0.183032             0.161823             0.186706  \n",
       "10105             0.068804             0.061289             0.061957  \n",
       "10106             0.025217             0.022211             0.020875  \n",
       "10107             0.030227             0.027054             0.024382  \n",
       "10108             0.071643             0.067969             0.063627  \n",
       "10109             0.059452             0.048931             0.049432  \n",
       "\n",
       "[10110 rows x 24 columns]"
      ]
     },
     "execution_count": 211,
     "metadata": {},
     "output_type": "execute_result"
    }
   ],
   "source": [
    "df.ix[:, 2:26]"
   ]
  },
  {
   "cell_type": "markdown",
   "metadata": {},
   "source": [
    "## 계층 색인"
   ]
  },
  {
   "cell_type": "code",
   "execution_count": 461,
   "metadata": {
    "collapsed": false
   },
   "outputs": [
    {
     "data": {
      "text/plain": [
       "a  1    0.729613\n",
       "   2    0.362837\n",
       "   3    1.388591\n",
       "b  1   -0.825556\n",
       "   2    1.581476\n",
       "   3   -2.297921\n",
       "c  1    0.886037\n",
       "   2    0.504794\n",
       "d  2   -1.898794\n",
       "   3    0.127336\n",
       "dtype: float64"
      ]
     },
     "execution_count": 461,
     "metadata": {},
     "output_type": "execute_result"
    }
   ],
   "source": [
    "data = Series(np.random.randn(10),\n",
    "             index=[['a','a','a', 'b','b','b','c','c','d','d'],\n",
    "                   [1,2,3,1,2,3,1,2,2,3]])\n",
    "data"
   ]
  },
  {
   "cell_type": "code",
   "execution_count": 215,
   "metadata": {
    "collapsed": false
   },
   "outputs": [
    {
     "data": {
      "text/plain": [
       "MultiIndex(levels=[[u'a', u'b', u'c', u'd'], [1, 2, 3]],\n",
       "           labels=[[0, 0, 0, 1, 1, 1, 2, 2, 3, 3], [0, 1, 2, 0, 1, 2, 0, 1, 1, 2]])"
      ]
     },
     "execution_count": 215,
     "metadata": {},
     "output_type": "execute_result"
    }
   ],
   "source": [
    "data.index"
   ]
  },
  {
   "cell_type": "code",
   "execution_count": 214,
   "metadata": {
    "collapsed": false
   },
   "outputs": [
    {
     "data": {
      "text/plain": [
       "pandas.core.index.MultiIndex"
      ]
     },
     "execution_count": 214,
     "metadata": {},
     "output_type": "execute_result"
    }
   ],
   "source": [
    "type(data.index)"
   ]
  },
  {
   "cell_type": "code",
   "execution_count": 216,
   "metadata": {
    "collapsed": false
   },
   "outputs": [
    {
     "data": {
      "text/plain": [
       "1    0.442951\n",
       "2   -1.133848\n",
       "3   -0.625826\n",
       "dtype: float64"
      ]
     },
     "execution_count": 216,
     "metadata": {},
     "output_type": "execute_result"
    }
   ],
   "source": [
    "data['b']"
   ]
  },
  {
   "cell_type": "code",
   "execution_count": 217,
   "metadata": {
    "collapsed": false
   },
   "outputs": [
    {
     "data": {
      "text/plain": [
       "pandas.core.series.Series"
      ]
     },
     "execution_count": 217,
     "metadata": {},
     "output_type": "execute_result"
    }
   ],
   "source": [
    "type(data['b'])"
   ]
  },
  {
   "cell_type": "code",
   "execution_count": 218,
   "metadata": {
    "collapsed": false
   },
   "outputs": [
    {
     "data": {
      "text/plain": [
       "b  1    0.442951\n",
       "   2   -1.133848\n",
       "   3   -0.625826\n",
       "c  1   -2.355475\n",
       "   2    0.176855\n",
       "dtype: float64"
      ]
     },
     "execution_count": 218,
     "metadata": {},
     "output_type": "execute_result"
    }
   ],
   "source": [
    "data['b':'c']"
   ]
  },
  {
   "cell_type": "code",
   "execution_count": 219,
   "metadata": {
    "collapsed": false
   },
   "outputs": [
    {
     "data": {
      "text/plain": [
       "b  1    0.442951\n",
       "   2   -1.133848\n",
       "   3   -0.625826\n",
       "d  2    0.714299\n",
       "   3   -0.341819\n",
       "dtype: float64"
      ]
     },
     "execution_count": 219,
     "metadata": {},
     "output_type": "execute_result"
    }
   ],
   "source": [
    "data.ix[['b','d']]"
   ]
  },
  {
   "cell_type": "code",
   "execution_count": 223,
   "metadata": {
    "collapsed": false
   },
   "outputs": [
    {
     "data": {
      "text/plain": [
       "a   -0.176001\n",
       "b   -0.625826\n",
       "d   -0.341819\n",
       "dtype: float64"
      ]
     },
     "execution_count": 223,
     "metadata": {},
     "output_type": "execute_result"
    }
   ],
   "source": [
    "data[:,2] # 첫 번째 인덱스 하위의 2 인덱스 출력"
   ]
  },
  {
   "cell_type": "code",
   "execution_count": 462,
   "metadata": {
    "collapsed": false
   },
   "outputs": [
    {
     "data": {
      "text/html": [
       "<div style=\"max-height:1000px;max-width:1500px;overflow:auto;\">\n",
       "<table border=\"1\" class=\"dataframe\">\n",
       "  <thead>\n",
       "    <tr style=\"text-align: right;\">\n",
       "      <th></th>\n",
       "      <th>1</th>\n",
       "      <th>2</th>\n",
       "      <th>3</th>\n",
       "    </tr>\n",
       "  </thead>\n",
       "  <tbody>\n",
       "    <tr>\n",
       "      <th>a</th>\n",
       "      <td>0.729613</td>\n",
       "      <td>0.362837</td>\n",
       "      <td>1.388591</td>\n",
       "    </tr>\n",
       "    <tr>\n",
       "      <th>b</th>\n",
       "      <td>-0.825556</td>\n",
       "      <td>1.581476</td>\n",
       "      <td>-2.297921</td>\n",
       "    </tr>\n",
       "    <tr>\n",
       "      <th>c</th>\n",
       "      <td>0.886037</td>\n",
       "      <td>0.504794</td>\n",
       "      <td>NaN</td>\n",
       "    </tr>\n",
       "    <tr>\n",
       "      <th>d</th>\n",
       "      <td>NaN</td>\n",
       "      <td>-1.898794</td>\n",
       "      <td>0.127336</td>\n",
       "    </tr>\n",
       "  </tbody>\n",
       "</table>\n",
       "</div>"
      ],
      "text/plain": [
       "          1         2         3\n",
       "a  0.729613  0.362837  1.388591\n",
       "b -0.825556  1.581476 -2.297921\n",
       "c  0.886037  0.504794       NaN\n",
       "d       NaN -1.898794  0.127336"
      ]
     },
     "execution_count": 462,
     "metadata": {},
     "output_type": "execute_result"
    }
   ],
   "source": [
    "data.unstack()"
   ]
  },
  {
   "cell_type": "code",
   "execution_count": 228,
   "metadata": {
    "collapsed": false
   },
   "outputs": [
    {
     "data": {
      "text/plain": [
       "pandas.core.frame.DataFrame"
      ]
     },
     "execution_count": 228,
     "metadata": {},
     "output_type": "execute_result"
    }
   ],
   "source": [
    "type(data.unstack())"
   ]
  },
  {
   "cell_type": "code",
   "execution_count": 229,
   "metadata": {
    "collapsed": false
   },
   "outputs": [
    {
     "data": {
      "text/plain": [
       "a  1    0.263428\n",
       "   2    0.008796\n",
       "   3   -0.176001\n",
       "b  1    0.442951\n",
       "   2   -1.133848\n",
       "   3   -0.625826\n",
       "c  1   -2.355475\n",
       "   2    0.176855\n",
       "d  2    0.714299\n",
       "   3   -0.341819\n",
       "dtype: float64"
      ]
     },
     "execution_count": 229,
     "metadata": {},
     "output_type": "execute_result"
    }
   ],
   "source": [
    "data.unstack().stack() # 원래대로 돌아온다. 아무것도 안 한 것과 마찬가지."
   ]
  },
  {
   "cell_type": "code",
   "execution_count": 464,
   "metadata": {
    "collapsed": false
   },
   "outputs": [
    {
     "data": {
      "text/html": [
       "<div style=\"max-height:1000px;max-width:1500px;overflow:auto;\">\n",
       "<table border=\"1\" class=\"dataframe\">\n",
       "  <thead>\n",
       "    <tr>\n",
       "      <th></th>\n",
       "      <th></th>\n",
       "      <th colspan=\"2\" halign=\"left\">Ohio</th>\n",
       "      <th>Colorado</th>\n",
       "    </tr>\n",
       "    <tr>\n",
       "      <th></th>\n",
       "      <th></th>\n",
       "      <th>Green</th>\n",
       "      <th>Red</th>\n",
       "      <th>Green</th>\n",
       "    </tr>\n",
       "  </thead>\n",
       "  <tbody>\n",
       "    <tr>\n",
       "      <th rowspan=\"2\" valign=\"top\">a</th>\n",
       "      <th>1</th>\n",
       "      <td>0</td>\n",
       "      <td>1</td>\n",
       "      <td>2</td>\n",
       "    </tr>\n",
       "    <tr>\n",
       "      <th>2</th>\n",
       "      <td>3</td>\n",
       "      <td>4</td>\n",
       "      <td>5</td>\n",
       "    </tr>\n",
       "    <tr>\n",
       "      <th rowspan=\"2\" valign=\"top\">b</th>\n",
       "      <th>1</th>\n",
       "      <td>6</td>\n",
       "      <td>7</td>\n",
       "      <td>8</td>\n",
       "    </tr>\n",
       "    <tr>\n",
       "      <th>2</th>\n",
       "      <td>9</td>\n",
       "      <td>10</td>\n",
       "      <td>11</td>\n",
       "    </tr>\n",
       "  </tbody>\n",
       "</table>\n",
       "</div>"
      ],
      "text/plain": [
       "     Ohio     Colorado\n",
       "    Green Red    Green\n",
       "a 1     0   1        2\n",
       "  2     3   4        5\n",
       "b 1     6   7        8\n",
       "  2     9  10       11"
      ]
     },
     "execution_count": 464,
     "metadata": {},
     "output_type": "execute_result"
    }
   ],
   "source": [
    "frame = DataFrame(np.arange(12).reshape((4,3)),\n",
    "                 index=[['a','a','b','b'], [1,2,1,2]],\n",
    "                 columns=[['Ohio','Ohio', 'Colorado'],\n",
    "                         ['Green','Red','Green']])\n",
    "frame"
   ]
  },
  {
   "cell_type": "code",
   "execution_count": 465,
   "metadata": {
    "collapsed": false
   },
   "outputs": [
    {
     "data": {
      "text/html": [
       "<div style=\"max-height:1000px;max-width:1500px;overflow:auto;\">\n",
       "<table border=\"1\" class=\"dataframe\">\n",
       "  <thead>\n",
       "    <tr>\n",
       "      <th></th>\n",
       "      <th>state</th>\n",
       "      <th colspan=\"2\" halign=\"left\">Ohio</th>\n",
       "      <th>Colorado</th>\n",
       "    </tr>\n",
       "    <tr>\n",
       "      <th></th>\n",
       "      <th>color</th>\n",
       "      <th>Green</th>\n",
       "      <th>Red</th>\n",
       "      <th>Green</th>\n",
       "    </tr>\n",
       "    <tr>\n",
       "      <th>key1</th>\n",
       "      <th>key2</th>\n",
       "      <th></th>\n",
       "      <th></th>\n",
       "      <th></th>\n",
       "    </tr>\n",
       "  </thead>\n",
       "  <tbody>\n",
       "    <tr>\n",
       "      <th rowspan=\"2\" valign=\"top\">a</th>\n",
       "      <th>1</th>\n",
       "      <td>0</td>\n",
       "      <td>1</td>\n",
       "      <td>2</td>\n",
       "    </tr>\n",
       "    <tr>\n",
       "      <th>2</th>\n",
       "      <td>3</td>\n",
       "      <td>4</td>\n",
       "      <td>5</td>\n",
       "    </tr>\n",
       "    <tr>\n",
       "      <th rowspan=\"2\" valign=\"top\">b</th>\n",
       "      <th>1</th>\n",
       "      <td>6</td>\n",
       "      <td>7</td>\n",
       "      <td>8</td>\n",
       "    </tr>\n",
       "    <tr>\n",
       "      <th>2</th>\n",
       "      <td>9</td>\n",
       "      <td>10</td>\n",
       "      <td>11</td>\n",
       "    </tr>\n",
       "  </tbody>\n",
       "</table>\n",
       "</div>"
      ],
      "text/plain": [
       "state      Ohio     Colorado\n",
       "color     Green Red    Green\n",
       "key1 key2                   \n",
       "a    1        0   1        2\n",
       "     2        3   4        5\n",
       "b    1        6   7        8\n",
       "     2        9  10       11"
      ]
     },
     "execution_count": 465,
     "metadata": {},
     "output_type": "execute_result"
    }
   ],
   "source": [
    "frame.index.names = ['key1', 'key2']\n",
    "frame.columns.names = ['state', 'color']\n",
    "frame"
   ]
  },
  {
   "cell_type": "code",
   "execution_count": 469,
   "metadata": {
    "collapsed": false
   },
   "outputs": [
    {
     "data": {
      "text/html": [
       "<div style=\"max-height:1000px;max-width:1500px;overflow:auto;\">\n",
       "<table border=\"1\" class=\"dataframe\">\n",
       "  <thead>\n",
       "    <tr style=\"text-align: right;\">\n",
       "      <th></th>\n",
       "      <th>color</th>\n",
       "      <th>Green</th>\n",
       "      <th>Red</th>\n",
       "    </tr>\n",
       "    <tr>\n",
       "      <th>key1</th>\n",
       "      <th>key2</th>\n",
       "      <th></th>\n",
       "      <th></th>\n",
       "    </tr>\n",
       "  </thead>\n",
       "  <tbody>\n",
       "    <tr>\n",
       "      <th rowspan=\"2\" valign=\"top\">a</th>\n",
       "      <th>1</th>\n",
       "      <td>0</td>\n",
       "      <td>1</td>\n",
       "    </tr>\n",
       "    <tr>\n",
       "      <th>2</th>\n",
       "      <td>3</td>\n",
       "      <td>4</td>\n",
       "    </tr>\n",
       "    <tr>\n",
       "      <th rowspan=\"2\" valign=\"top\">b</th>\n",
       "      <th>1</th>\n",
       "      <td>6</td>\n",
       "      <td>7</td>\n",
       "    </tr>\n",
       "    <tr>\n",
       "      <th>2</th>\n",
       "      <td>9</td>\n",
       "      <td>10</td>\n",
       "    </tr>\n",
       "  </tbody>\n",
       "</table>\n",
       "</div>"
      ],
      "text/plain": [
       "color      Green  Red\n",
       "key1 key2            \n",
       "a    1         0    1\n",
       "     2         3    4\n",
       "b    1         6    7\n",
       "     2         9   10"
      ]
     },
     "execution_count": 469,
     "metadata": {},
     "output_type": "execute_result"
    }
   ],
   "source": [
    "frame['Ohio']"
   ]
  },
  {
   "cell_type": "code",
   "execution_count": 237,
   "metadata": {
    "collapsed": false
   },
   "outputs": [
    {
     "data": {
      "text/html": [
       "<div style=\"max-height:1000px;max-width:1500px;overflow:auto;\">\n",
       "<table border=\"1\" class=\"dataframe\">\n",
       "  <thead>\n",
       "    <tr>\n",
       "      <th></th>\n",
       "      <th>state</th>\n",
       "      <th colspan=\"2\" halign=\"left\">Ohio</th>\n",
       "      <th>Colorado</th>\n",
       "    </tr>\n",
       "    <tr>\n",
       "      <th></th>\n",
       "      <th>color</th>\n",
       "      <th>Green</th>\n",
       "      <th>Red</th>\n",
       "      <th>Green</th>\n",
       "    </tr>\n",
       "    <tr>\n",
       "      <th>key2</th>\n",
       "      <th>key1</th>\n",
       "      <th></th>\n",
       "      <th></th>\n",
       "      <th></th>\n",
       "    </tr>\n",
       "  </thead>\n",
       "  <tbody>\n",
       "    <tr>\n",
       "      <th>1</th>\n",
       "      <th>a</th>\n",
       "      <td>0</td>\n",
       "      <td>1</td>\n",
       "      <td>2</td>\n",
       "    </tr>\n",
       "    <tr>\n",
       "      <th>2</th>\n",
       "      <th>a</th>\n",
       "      <td>3</td>\n",
       "      <td>4</td>\n",
       "      <td>5</td>\n",
       "    </tr>\n",
       "    <tr>\n",
       "      <th>1</th>\n",
       "      <th>b</th>\n",
       "      <td>6</td>\n",
       "      <td>7</td>\n",
       "      <td>8</td>\n",
       "    </tr>\n",
       "    <tr>\n",
       "      <th>2</th>\n",
       "      <th>b</th>\n",
       "      <td>9</td>\n",
       "      <td>10</td>\n",
       "      <td>11</td>\n",
       "    </tr>\n",
       "  </tbody>\n",
       "</table>\n",
       "</div>"
      ],
      "text/plain": [
       "state      Ohio     Colorado\n",
       "color     Green Red    Green\n",
       "key2 key1                   \n",
       "1    a        0   1        2\n",
       "2    a        3   4        5\n",
       "1    b        6   7        8\n",
       "2    b        9  10       11"
      ]
     },
     "execution_count": 237,
     "metadata": {},
     "output_type": "execute_result"
    }
   ],
   "source": [
    "frame.swaplevel('key1','key2')"
   ]
  },
  {
   "cell_type": "code",
   "execution_count": 242,
   "metadata": {
    "collapsed": false,
    "scrolled": true
   },
   "outputs": [
    {
     "data": {
      "text/html": [
       "<div style=\"max-height:1000px;max-width:1500px;overflow:auto;\">\n",
       "<table border=\"1\" class=\"dataframe\">\n",
       "  <thead>\n",
       "    <tr>\n",
       "      <th></th>\n",
       "      <th>state</th>\n",
       "      <th colspan=\"2\" halign=\"left\">Ohio</th>\n",
       "      <th>Colorado</th>\n",
       "    </tr>\n",
       "    <tr>\n",
       "      <th></th>\n",
       "      <th>color</th>\n",
       "      <th>Green</th>\n",
       "      <th>Red</th>\n",
       "      <th>Green</th>\n",
       "    </tr>\n",
       "    <tr>\n",
       "      <th>key1</th>\n",
       "      <th>key2</th>\n",
       "      <th></th>\n",
       "      <th></th>\n",
       "      <th></th>\n",
       "    </tr>\n",
       "  </thead>\n",
       "  <tbody>\n",
       "    <tr>\n",
       "      <th>a</th>\n",
       "      <th>1</th>\n",
       "      <td>0</td>\n",
       "      <td>1</td>\n",
       "      <td>2</td>\n",
       "    </tr>\n",
       "    <tr>\n",
       "      <th>b</th>\n",
       "      <th>1</th>\n",
       "      <td>6</td>\n",
       "      <td>7</td>\n",
       "      <td>8</td>\n",
       "    </tr>\n",
       "    <tr>\n",
       "      <th>a</th>\n",
       "      <th>2</th>\n",
       "      <td>3</td>\n",
       "      <td>4</td>\n",
       "      <td>5</td>\n",
       "    </tr>\n",
       "    <tr>\n",
       "      <th>b</th>\n",
       "      <th>2</th>\n",
       "      <td>9</td>\n",
       "      <td>10</td>\n",
       "      <td>11</td>\n",
       "    </tr>\n",
       "  </tbody>\n",
       "</table>\n",
       "</div>"
      ],
      "text/plain": [
       "state      Ohio     Colorado\n",
       "color     Green Red    Green\n",
       "key1 key2                   \n",
       "a    1        0   1        2\n",
       "b    1        6   7        8\n",
       "a    2        3   4        5\n",
       "b    2        9  10       11"
      ]
     },
     "execution_count": 242,
     "metadata": {},
     "output_type": "execute_result"
    }
   ],
   "source": [
    "frame.sortlevel(1)"
   ]
  },
  {
   "cell_type": "code",
   "execution_count": 470,
   "metadata": {
    "collapsed": false
   },
   "outputs": [
    {
     "data": {
      "text/html": [
       "<div style=\"max-height:1000px;max-width:1500px;overflow:auto;\">\n",
       "<table border=\"1\" class=\"dataframe\">\n",
       "  <thead>\n",
       "    <tr>\n",
       "      <th></th>\n",
       "      <th>state</th>\n",
       "      <th colspan=\"2\" halign=\"left\">Ohio</th>\n",
       "      <th>Colorado</th>\n",
       "    </tr>\n",
       "    <tr>\n",
       "      <th></th>\n",
       "      <th>color</th>\n",
       "      <th>Green</th>\n",
       "      <th>Red</th>\n",
       "      <th>Green</th>\n",
       "    </tr>\n",
       "    <tr>\n",
       "      <th>key2</th>\n",
       "      <th>key1</th>\n",
       "      <th></th>\n",
       "      <th></th>\n",
       "      <th></th>\n",
       "    </tr>\n",
       "  </thead>\n",
       "  <tbody>\n",
       "    <tr>\n",
       "      <th rowspan=\"2\" valign=\"top\">1</th>\n",
       "      <th>a</th>\n",
       "      <td>0</td>\n",
       "      <td>1</td>\n",
       "      <td>2</td>\n",
       "    </tr>\n",
       "    <tr>\n",
       "      <th>b</th>\n",
       "      <td>6</td>\n",
       "      <td>7</td>\n",
       "      <td>8</td>\n",
       "    </tr>\n",
       "    <tr>\n",
       "      <th rowspan=\"2\" valign=\"top\">2</th>\n",
       "      <th>a</th>\n",
       "      <td>3</td>\n",
       "      <td>4</td>\n",
       "      <td>5</td>\n",
       "    </tr>\n",
       "    <tr>\n",
       "      <th>b</th>\n",
       "      <td>9</td>\n",
       "      <td>10</td>\n",
       "      <td>11</td>\n",
       "    </tr>\n",
       "  </tbody>\n",
       "</table>\n",
       "</div>"
      ],
      "text/plain": [
       "state      Ohio     Colorado\n",
       "color     Green Red    Green\n",
       "key2 key1                   \n",
       "1    a        0   1        2\n",
       "     b        6   7        8\n",
       "2    a        3   4        5\n",
       "     b        9  10       11"
      ]
     },
     "execution_count": 470,
     "metadata": {},
     "output_type": "execute_result"
    }
   ],
   "source": [
    "frame.swaplevel(0,1).sortlevel(0)"
   ]
  },
  {
   "cell_type": "code",
   "execution_count": 243,
   "metadata": {
    "collapsed": false
   },
   "outputs": [
    {
     "data": {
      "text/plain": [
       "state     color\n",
       "Ohio      Green    18\n",
       "          Red      22\n",
       "Colorado  Green    26\n",
       "dtype: int64"
      ]
     },
     "execution_count": 243,
     "metadata": {},
     "output_type": "execute_result"
    }
   ],
   "source": [
    "frame.sum()"
   ]
  },
  {
   "cell_type": "code",
   "execution_count": 471,
   "metadata": {
    "collapsed": false
   },
   "outputs": [
    {
     "data": {
      "text/html": [
       "<div style=\"max-height:1000px;max-width:1500px;overflow:auto;\">\n",
       "<table border=\"1\" class=\"dataframe\">\n",
       "  <thead>\n",
       "    <tr>\n",
       "      <th>state</th>\n",
       "      <th colspan=\"2\" halign=\"left\">Ohio</th>\n",
       "      <th>Colorado</th>\n",
       "    </tr>\n",
       "    <tr>\n",
       "      <th>color</th>\n",
       "      <th>Green</th>\n",
       "      <th>Red</th>\n",
       "      <th>Green</th>\n",
       "    </tr>\n",
       "    <tr>\n",
       "      <th>key2</th>\n",
       "      <th></th>\n",
       "      <th></th>\n",
       "      <th></th>\n",
       "    </tr>\n",
       "  </thead>\n",
       "  <tbody>\n",
       "    <tr>\n",
       "      <th>1</th>\n",
       "      <td>6</td>\n",
       "      <td>8</td>\n",
       "      <td>10</td>\n",
       "    </tr>\n",
       "    <tr>\n",
       "      <th>2</th>\n",
       "      <td>12</td>\n",
       "      <td>14</td>\n",
       "      <td>16</td>\n",
       "    </tr>\n",
       "  </tbody>\n",
       "</table>\n",
       "</div>"
      ],
      "text/plain": [
       "state  Ohio     Colorado\n",
       "color Green Red    Green\n",
       "key2                    \n",
       "1         6   8       10\n",
       "2        12  14       16"
      ]
     },
     "execution_count": 471,
     "metadata": {},
     "output_type": "execute_result"
    }
   ],
   "source": [
    "frame.sum(level='key2')"
   ]
  },
  {
   "cell_type": "code",
   "execution_count": 248,
   "metadata": {
    "collapsed": false
   },
   "outputs": [
    {
     "data": {
      "text/html": [
       "<div style=\"max-height:1000px;max-width:1500px;overflow:auto;\">\n",
       "<table border=\"1\" class=\"dataframe\">\n",
       "  <thead>\n",
       "    <tr style=\"text-align: right;\">\n",
       "      <th></th>\n",
       "      <th>color</th>\n",
       "      <th>Green</th>\n",
       "      <th>Red</th>\n",
       "    </tr>\n",
       "    <tr>\n",
       "      <th>key1</th>\n",
       "      <th>key2</th>\n",
       "      <th></th>\n",
       "      <th></th>\n",
       "    </tr>\n",
       "  </thead>\n",
       "  <tbody>\n",
       "    <tr>\n",
       "      <th rowspan=\"2\" valign=\"top\">a</th>\n",
       "      <th>1</th>\n",
       "      <td>2</td>\n",
       "      <td>1</td>\n",
       "    </tr>\n",
       "    <tr>\n",
       "      <th>2</th>\n",
       "      <td>8</td>\n",
       "      <td>4</td>\n",
       "    </tr>\n",
       "    <tr>\n",
       "      <th rowspan=\"2\" valign=\"top\">b</th>\n",
       "      <th>1</th>\n",
       "      <td>14</td>\n",
       "      <td>7</td>\n",
       "    </tr>\n",
       "    <tr>\n",
       "      <th>2</th>\n",
       "      <td>20</td>\n",
       "      <td>10</td>\n",
       "    </tr>\n",
       "  </tbody>\n",
       "</table>\n",
       "</div>"
      ],
      "text/plain": [
       "color      Green  Red\n",
       "key1 key2            \n",
       "a    1         2    1\n",
       "     2         8    4\n",
       "b    1        14    7\n",
       "     2        20   10"
      ]
     },
     "execution_count": 248,
     "metadata": {},
     "output_type": "execute_result"
    }
   ],
   "source": [
    "frame.sum(level='color', axis=1)"
   ]
  },
  {
   "cell_type": "code",
   "execution_count": 472,
   "metadata": {
    "collapsed": false
   },
   "outputs": [
    {
     "data": {
      "text/html": [
       "<div style=\"max-height:1000px;max-width:1500px;overflow:auto;\">\n",
       "<table border=\"1\" class=\"dataframe\">\n",
       "  <thead>\n",
       "    <tr style=\"text-align: right;\">\n",
       "      <th></th>\n",
       "      <th>a</th>\n",
       "      <th>b</th>\n",
       "      <th>c</th>\n",
       "      <th>d</th>\n",
       "    </tr>\n",
       "  </thead>\n",
       "  <tbody>\n",
       "    <tr>\n",
       "      <th>0</th>\n",
       "      <td>0</td>\n",
       "      <td>7</td>\n",
       "      <td>one</td>\n",
       "      <td>0</td>\n",
       "    </tr>\n",
       "    <tr>\n",
       "      <th>1</th>\n",
       "      <td>1</td>\n",
       "      <td>6</td>\n",
       "      <td>one</td>\n",
       "      <td>1</td>\n",
       "    </tr>\n",
       "    <tr>\n",
       "      <th>2</th>\n",
       "      <td>2</td>\n",
       "      <td>5</td>\n",
       "      <td>one</td>\n",
       "      <td>2</td>\n",
       "    </tr>\n",
       "    <tr>\n",
       "      <th>3</th>\n",
       "      <td>3</td>\n",
       "      <td>4</td>\n",
       "      <td>two</td>\n",
       "      <td>0</td>\n",
       "    </tr>\n",
       "    <tr>\n",
       "      <th>4</th>\n",
       "      <td>4</td>\n",
       "      <td>3</td>\n",
       "      <td>two</td>\n",
       "      <td>1</td>\n",
       "    </tr>\n",
       "    <tr>\n",
       "      <th>5</th>\n",
       "      <td>5</td>\n",
       "      <td>2</td>\n",
       "      <td>two</td>\n",
       "      <td>2</td>\n",
       "    </tr>\n",
       "    <tr>\n",
       "      <th>6</th>\n",
       "      <td>6</td>\n",
       "      <td>1</td>\n",
       "      <td>two</td>\n",
       "      <td>3</td>\n",
       "    </tr>\n",
       "  </tbody>\n",
       "</table>\n",
       "</div>"
      ],
      "text/plain": [
       "   a  b    c  d\n",
       "0  0  7  one  0\n",
       "1  1  6  one  1\n",
       "2  2  5  one  2\n",
       "3  3  4  two  0\n",
       "4  4  3  two  1\n",
       "5  5  2  two  2\n",
       "6  6  1  two  3"
      ]
     },
     "execution_count": 472,
     "metadata": {},
     "output_type": "execute_result"
    }
   ],
   "source": [
    "frame = DataFrame({'a': range(7),\n",
    "                  'b': range(7,0, -1),\n",
    "                  'c': ['one', 'one', 'one', 'two', 'two', 'two', 'two'],\n",
    "                  'd':[0,1,2,0,1,2,3]})\n",
    "frame"
   ]
  },
  {
   "cell_type": "code",
   "execution_count": 473,
   "metadata": {
    "collapsed": false
   },
   "outputs": [
    {
     "data": {
      "text/html": [
       "<div style=\"max-height:1000px;max-width:1500px;overflow:auto;\">\n",
       "<table border=\"1\" class=\"dataframe\">\n",
       "  <thead>\n",
       "    <tr style=\"text-align: right;\">\n",
       "      <th></th>\n",
       "      <th></th>\n",
       "      <th>a</th>\n",
       "      <th>b</th>\n",
       "    </tr>\n",
       "    <tr>\n",
       "      <th>c</th>\n",
       "      <th>d</th>\n",
       "      <th></th>\n",
       "      <th></th>\n",
       "    </tr>\n",
       "  </thead>\n",
       "  <tbody>\n",
       "    <tr>\n",
       "      <th rowspan=\"3\" valign=\"top\">one</th>\n",
       "      <th>0</th>\n",
       "      <td>0</td>\n",
       "      <td>7</td>\n",
       "    </tr>\n",
       "    <tr>\n",
       "      <th>1</th>\n",
       "      <td>1</td>\n",
       "      <td>6</td>\n",
       "    </tr>\n",
       "    <tr>\n",
       "      <th>2</th>\n",
       "      <td>2</td>\n",
       "      <td>5</td>\n",
       "    </tr>\n",
       "    <tr>\n",
       "      <th rowspan=\"4\" valign=\"top\">two</th>\n",
       "      <th>0</th>\n",
       "      <td>3</td>\n",
       "      <td>4</td>\n",
       "    </tr>\n",
       "    <tr>\n",
       "      <th>1</th>\n",
       "      <td>4</td>\n",
       "      <td>3</td>\n",
       "    </tr>\n",
       "    <tr>\n",
       "      <th>2</th>\n",
       "      <td>5</td>\n",
       "      <td>2</td>\n",
       "    </tr>\n",
       "    <tr>\n",
       "      <th>3</th>\n",
       "      <td>6</td>\n",
       "      <td>1</td>\n",
       "    </tr>\n",
       "  </tbody>\n",
       "</table>\n",
       "</div>"
      ],
      "text/plain": [
       "       a  b\n",
       "c   d      \n",
       "one 0  0  7\n",
       "    1  1  6\n",
       "    2  2  5\n",
       "two 0  3  4\n",
       "    1  4  3\n",
       "    2  5  2\n",
       "    3  6  1"
      ]
     },
     "execution_count": 473,
     "metadata": {},
     "output_type": "execute_result"
    }
   ],
   "source": [
    "frame2 = frame.set_index(['c','d'])\n",
    "frame2"
   ]
  },
  {
   "cell_type": "code",
   "execution_count": 476,
   "metadata": {
    "collapsed": false
   },
   "outputs": [
    {
     "data": {
      "text/html": [
       "<div style=\"max-height:1000px;max-width:1500px;overflow:auto;\">\n",
       "<table border=\"1\" class=\"dataframe\">\n",
       "  <thead>\n",
       "    <tr style=\"text-align: right;\">\n",
       "      <th></th>\n",
       "      <th></th>\n",
       "      <th>a</th>\n",
       "      <th>b</th>\n",
       "      <th>c</th>\n",
       "      <th>d</th>\n",
       "    </tr>\n",
       "    <tr>\n",
       "      <th>c</th>\n",
       "      <th>d</th>\n",
       "      <th></th>\n",
       "      <th></th>\n",
       "      <th></th>\n",
       "      <th></th>\n",
       "    </tr>\n",
       "  </thead>\n",
       "  <tbody>\n",
       "    <tr>\n",
       "      <th rowspan=\"3\" valign=\"top\">one</th>\n",
       "      <th>0</th>\n",
       "      <td>0</td>\n",
       "      <td>7</td>\n",
       "      <td>one</td>\n",
       "      <td>0</td>\n",
       "    </tr>\n",
       "    <tr>\n",
       "      <th>1</th>\n",
       "      <td>1</td>\n",
       "      <td>6</td>\n",
       "      <td>one</td>\n",
       "      <td>1</td>\n",
       "    </tr>\n",
       "    <tr>\n",
       "      <th>2</th>\n",
       "      <td>2</td>\n",
       "      <td>5</td>\n",
       "      <td>one</td>\n",
       "      <td>2</td>\n",
       "    </tr>\n",
       "    <tr>\n",
       "      <th rowspan=\"4\" valign=\"top\">two</th>\n",
       "      <th>0</th>\n",
       "      <td>3</td>\n",
       "      <td>4</td>\n",
       "      <td>two</td>\n",
       "      <td>0</td>\n",
       "    </tr>\n",
       "    <tr>\n",
       "      <th>1</th>\n",
       "      <td>4</td>\n",
       "      <td>3</td>\n",
       "      <td>two</td>\n",
       "      <td>1</td>\n",
       "    </tr>\n",
       "    <tr>\n",
       "      <th>2</th>\n",
       "      <td>5</td>\n",
       "      <td>2</td>\n",
       "      <td>two</td>\n",
       "      <td>2</td>\n",
       "    </tr>\n",
       "    <tr>\n",
       "      <th>3</th>\n",
       "      <td>6</td>\n",
       "      <td>1</td>\n",
       "      <td>two</td>\n",
       "      <td>3</td>\n",
       "    </tr>\n",
       "  </tbody>\n",
       "</table>\n",
       "</div>"
      ],
      "text/plain": [
       "       a  b    c  d\n",
       "c   d              \n",
       "one 0  0  7  one  0\n",
       "    1  1  6  one  1\n",
       "    2  2  5  one  2\n",
       "two 0  3  4  two  0\n",
       "    1  4  3  two  1\n",
       "    2  5  2  two  2\n",
       "    3  6  1  two  3"
      ]
     },
     "execution_count": 476,
     "metadata": {},
     "output_type": "execute_result"
    }
   ],
   "source": [
    "frame.set_index(['c','d'], drop=False)"
   ]
  },
  {
   "cell_type": "code",
   "execution_count": 252,
   "metadata": {
    "collapsed": false
   },
   "outputs": [
    {
     "data": {
      "text/html": [
       "<div style=\"max-height:1000px;max-width:1500px;overflow:auto;\">\n",
       "<table border=\"1\" class=\"dataframe\">\n",
       "  <thead>\n",
       "    <tr style=\"text-align: right;\">\n",
       "      <th></th>\n",
       "      <th>c</th>\n",
       "      <th>d</th>\n",
       "      <th>a</th>\n",
       "      <th>b</th>\n",
       "    </tr>\n",
       "  </thead>\n",
       "  <tbody>\n",
       "    <tr>\n",
       "      <th>0</th>\n",
       "      <td>one</td>\n",
       "      <td>0</td>\n",
       "      <td>0</td>\n",
       "      <td>7</td>\n",
       "    </tr>\n",
       "    <tr>\n",
       "      <th>1</th>\n",
       "      <td>one</td>\n",
       "      <td>1</td>\n",
       "      <td>1</td>\n",
       "      <td>6</td>\n",
       "    </tr>\n",
       "    <tr>\n",
       "      <th>2</th>\n",
       "      <td>one</td>\n",
       "      <td>2</td>\n",
       "      <td>2</td>\n",
       "      <td>5</td>\n",
       "    </tr>\n",
       "    <tr>\n",
       "      <th>3</th>\n",
       "      <td>two</td>\n",
       "      <td>0</td>\n",
       "      <td>3</td>\n",
       "      <td>4</td>\n",
       "    </tr>\n",
       "    <tr>\n",
       "      <th>4</th>\n",
       "      <td>two</td>\n",
       "      <td>1</td>\n",
       "      <td>4</td>\n",
       "      <td>3</td>\n",
       "    </tr>\n",
       "    <tr>\n",
       "      <th>5</th>\n",
       "      <td>two</td>\n",
       "      <td>2</td>\n",
       "      <td>5</td>\n",
       "      <td>2</td>\n",
       "    </tr>\n",
       "    <tr>\n",
       "      <th>6</th>\n",
       "      <td>two</td>\n",
       "      <td>3</td>\n",
       "      <td>6</td>\n",
       "      <td>1</td>\n",
       "    </tr>\n",
       "  </tbody>\n",
       "</table>\n",
       "</div>"
      ],
      "text/plain": [
       "     c  d  a  b\n",
       "0  one  0  0  7\n",
       "1  one  1  1  6\n",
       "2  one  2  2  5\n",
       "3  two  0  3  4\n",
       "4  two  1  4  3\n",
       "5  two  2  5  2\n",
       "6  two  3  6  1"
      ]
     },
     "execution_count": 252,
     "metadata": {},
     "output_type": "execute_result"
    }
   ],
   "source": [
    "frame2.reset_index()"
   ]
  },
  {
   "cell_type": "code",
   "execution_count": 276,
   "metadata": {
    "collapsed": false
   },
   "outputs": [
    {
     "data": {
      "text/html": [
       "<div style=\"max-height:1000px;max-width:1500px;overflow:auto;\">\n",
       "<table border=\"1\" class=\"dataframe\">\n",
       "  <thead>\n",
       "    <tr style=\"text-align: right;\">\n",
       "      <th></th>\n",
       "      <th>one</th>\n",
       "      <th>two</th>\n",
       "    </tr>\n",
       "  </thead>\n",
       "  <tbody>\n",
       "    <tr>\n",
       "      <th>a</th>\n",
       "      <td>0</td>\n",
       "      <td>1</td>\n",
       "    </tr>\n",
       "    <tr>\n",
       "      <th>b</th>\n",
       "      <td>2</td>\n",
       "      <td>3</td>\n",
       "    </tr>\n",
       "    <tr>\n",
       "      <th>c</th>\n",
       "      <td>4</td>\n",
       "      <td>5</td>\n",
       "    </tr>\n",
       "  </tbody>\n",
       "</table>\n",
       "</div>"
      ],
      "text/plain": [
       "   one  two\n",
       "a    0    1\n",
       "b    2    3\n",
       "c    4    5"
      ]
     },
     "execution_count": 276,
     "metadata": {},
     "output_type": "execute_result"
    }
   ],
   "source": [
    "df1"
   ]
  },
  {
   "cell_type": "code",
   "execution_count": 277,
   "metadata": {
    "collapsed": false
   },
   "outputs": [
    {
     "data": {
      "text/html": [
       "<div style=\"max-height:1000px;max-width:1500px;overflow:auto;\">\n",
       "<table border=\"1\" class=\"dataframe\">\n",
       "  <thead>\n",
       "    <tr style=\"text-align: right;\">\n",
       "      <th></th>\n",
       "      <th>three</th>\n",
       "      <th>four</th>\n",
       "    </tr>\n",
       "  </thead>\n",
       "  <tbody>\n",
       "    <tr>\n",
       "      <th>a</th>\n",
       "      <td>0</td>\n",
       "      <td>1</td>\n",
       "    </tr>\n",
       "    <tr>\n",
       "      <th>c</th>\n",
       "      <td>2</td>\n",
       "      <td>3</td>\n",
       "    </tr>\n",
       "  </tbody>\n",
       "</table>\n",
       "</div>"
      ],
      "text/plain": [
       "   three  four\n",
       "a      0     1\n",
       "c      2     3"
      ]
     },
     "execution_count": 277,
     "metadata": {},
     "output_type": "execute_result"
    }
   ],
   "source": [
    "df2"
   ]
  },
  {
   "cell_type": "code",
   "execution_count": 280,
   "metadata": {
    "collapsed": false
   },
   "outputs": [
    {
     "data": {
      "text/html": [
       "<div style=\"max-height:1000px;max-width:1500px;overflow:auto;\">\n",
       "<table border=\"1\" class=\"dataframe\">\n",
       "  <thead>\n",
       "    <tr style=\"text-align: right;\">\n",
       "      <th></th>\n",
       "      <th>one</th>\n",
       "      <th>two</th>\n",
       "      <th>three</th>\n",
       "      <th>four</th>\n",
       "    </tr>\n",
       "  </thead>\n",
       "  <tbody>\n",
       "    <tr>\n",
       "      <th>a</th>\n",
       "      <td>0</td>\n",
       "      <td>1</td>\n",
       "      <td>0</td>\n",
       "      <td>1</td>\n",
       "    </tr>\n",
       "    <tr>\n",
       "      <th>b</th>\n",
       "      <td>2</td>\n",
       "      <td>3</td>\n",
       "      <td>NaN</td>\n",
       "      <td>NaN</td>\n",
       "    </tr>\n",
       "    <tr>\n",
       "      <th>c</th>\n",
       "      <td>4</td>\n",
       "      <td>5</td>\n",
       "      <td>2</td>\n",
       "      <td>3</td>\n",
       "    </tr>\n",
       "  </tbody>\n",
       "</table>\n",
       "</div>"
      ],
      "text/plain": [
       "   one  two  three  four\n",
       "a    0    1      0     1\n",
       "b    2    3    NaN   NaN\n",
       "c    4    5      2     3"
      ]
     },
     "execution_count": 280,
     "metadata": {},
     "output_type": "execute_result"
    }
   ],
   "source": [
    "pd.concat([df1, df2], axis=1)"
   ]
  },
  {
   "cell_type": "code",
   "execution_count": 281,
   "metadata": {
    "collapsed": true
   },
   "outputs": [],
   "source": [
    "a = Series([np.nan, 2.5, np.nan, 3.5, 4.5, np.nan],\n",
    "          index=['f', 'e', 'd', 'c', 'b', 'a'])\n",
    "b = Series(np.arange(len(a), dtype=np.float64),\n",
    "          index=['f', 'e', 'd', 'c', 'b', 'a'])"
   ]
  },
  {
   "cell_type": "code",
   "execution_count": 282,
   "metadata": {
    "collapsed": false
   },
   "outputs": [
    {
     "data": {
      "text/plain": [
       "f    NaN\n",
       "e    2.5\n",
       "d    NaN\n",
       "c    3.5\n",
       "b    4.5\n",
       "a    NaN\n",
       "dtype: float64"
      ]
     },
     "execution_count": 282,
     "metadata": {},
     "output_type": "execute_result"
    }
   ],
   "source": [
    "a"
   ]
  },
  {
   "cell_type": "code",
   "execution_count": 286,
   "metadata": {
    "collapsed": false
   },
   "outputs": [
    {
     "data": {
      "text/plain": [
       "f     0\n",
       "e     1\n",
       "d     2\n",
       "c     3\n",
       "b     4\n",
       "a   NaN\n",
       "dtype: float64"
      ]
     },
     "execution_count": 286,
     "metadata": {},
     "output_type": "execute_result"
    }
   ],
   "source": [
    "b"
   ]
  },
  {
   "cell_type": "code",
   "execution_count": 285,
   "metadata": {
    "collapsed": false
   },
   "outputs": [],
   "source": [
    "b[-1]=np.nan"
   ]
  },
  {
   "cell_type": "code",
   "execution_count": 289,
   "metadata": {
    "collapsed": false
   },
   "outputs": [
    {
     "data": {
      "text/plain": [
       "array([ 0. ,  2.5,  2. ,  3.5,  4.5,  nan])"
      ]
     },
     "execution_count": 289,
     "metadata": {},
     "output_type": "execute_result"
    }
   ],
   "source": [
    "# 각 인덱스에서, a의 값이 없는 경우는 b의 해당 인덱스의 값을 가져온다\n",
    "np.where(pd.isnull(a), b, a)"
   ]
  },
  {
   "cell_type": "code",
   "execution_count": 288,
   "metadata": {
    "collapsed": false
   },
   "outputs": [
    {
     "data": {
      "text/plain": [
       "f     True\n",
       "e    False\n",
       "d     True\n",
       "c    False\n",
       "b    False\n",
       "a     True\n",
       "dtype: bool"
      ]
     },
     "execution_count": 288,
     "metadata": {},
     "output_type": "execute_result"
    }
   ],
   "source": [
    "pd.isnull(a)"
   ]
  },
  {
   "cell_type": "code",
   "execution_count": null,
   "metadata": {
    "collapsed": true
   },
   "outputs": [],
   "source": []
  }
 ],
 "metadata": {
  "kernelspec": {
   "display_name": "Python 2",
   "language": "python",
   "name": "python2"
  },
  "language_info": {
   "codemirror_mode": {
    "name": "ipython",
    "version": 2
   },
   "file_extension": ".py",
   "mimetype": "text/x-python",
   "name": "python",
   "nbconvert_exporter": "python",
   "pygments_lexer": "ipython2",
   "version": "2.7.10"
  }
 },
 "nbformat": 4,
 "nbformat_minor": 0
}
