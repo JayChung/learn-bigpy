{
 "cells": [
  {
   "cell_type": "markdown",
   "metadata": {},
   "source": [
    "# 데이터 조합과 Group 연산"
   ]
  },
  {
   "cell_type": "code",
   "execution_count": 1,
   "metadata": {
    "collapsed": false
   },
   "outputs": [],
   "source": [
    "from __future__ import division\n",
    "from numpy.random import randn\n",
    "import numpy as np\n",
    "import os\n",
    "import matplotlib.pyplot as plt\n",
    "np.random.seed(12345)\n",
    "plt.rc('figure', figsize=(10, 6))\n",
    "from pandas import Series, DataFrame\n",
    "import pandas as pd\n",
    "np.set_printoptions(precision=4)"
   ]
  },
  {
   "cell_type": "code",
   "execution_count": null,
   "metadata": {
    "collapsed": false
   },
   "outputs": [],
   "source": [
    "pd.options.display.notebook_repr_html = False"
   ]
  },
  {
   "cell_type": "code",
   "execution_count": 2,
   "metadata": {
    "collapsed": false
   },
   "outputs": [],
   "source": [
    "%matplotlib inline"
   ]
  },
  {
   "cell_type": "markdown",
   "metadata": {},
   "source": [
    "## GroupBy"
   ]
  },
  {
   "cell_type": "code",
   "execution_count": 31,
   "metadata": {
    "collapsed": false
   },
   "outputs": [
    {
     "data": {
      "text/html": [
       "<div style=\"max-height:1000px;max-width:1500px;overflow:auto;\">\n",
       "<table border=\"1\" class=\"dataframe\">\n",
       "  <thead>\n",
       "    <tr style=\"text-align: right;\">\n",
       "      <th></th>\n",
       "      <th>data1</th>\n",
       "      <th>data2</th>\n",
       "      <th>key1</th>\n",
       "      <th>key2</th>\n",
       "    </tr>\n",
       "  </thead>\n",
       "  <tbody>\n",
       "    <tr>\n",
       "      <th>0</th>\n",
       "      <td>2.455095</td>\n",
       "      <td>-0.289889</td>\n",
       "      <td>a</td>\n",
       "      <td>one</td>\n",
       "    </tr>\n",
       "    <tr>\n",
       "      <th>1</th>\n",
       "      <td>1.557408</td>\n",
       "      <td>-0.590688</td>\n",
       "      <td>a</td>\n",
       "      <td>two</td>\n",
       "    </tr>\n",
       "    <tr>\n",
       "      <th>2</th>\n",
       "      <td>-0.780897</td>\n",
       "      <td>-1.877893</td>\n",
       "      <td>b</td>\n",
       "      <td>one</td>\n",
       "    </tr>\n",
       "    <tr>\n",
       "      <th>3</th>\n",
       "      <td>-0.923289</td>\n",
       "      <td>-0.522037</td>\n",
       "      <td>b</td>\n",
       "      <td>two</td>\n",
       "    </tr>\n",
       "    <tr>\n",
       "      <th>4</th>\n",
       "      <td>-0.046537</td>\n",
       "      <td>-0.870842</td>\n",
       "      <td>a</td>\n",
       "      <td>one</td>\n",
       "    </tr>\n",
       "  </tbody>\n",
       "</table>\n",
       "</div>"
      ],
      "text/plain": [
       "      data1     data2 key1 key2\n",
       "0  2.455095 -0.289889    a  one\n",
       "1  1.557408 -0.590688    a  two\n",
       "2 -0.780897 -1.877893    b  one\n",
       "3 -0.923289 -0.522037    b  two\n",
       "4 -0.046537 -0.870842    a  one"
      ]
     },
     "execution_count": 31,
     "metadata": {},
     "output_type": "execute_result"
    }
   ],
   "source": [
    "df = DataFrame({'key1' : ['a', 'a', 'b', 'b', 'a'],\n",
    "                'key2' : ['one', 'two', 'one', 'two', 'one'],\n",
    "                'data1' : np.random.randn(5),\n",
    "                'data2' : np.random.randn(5)})\n",
    "df"
   ]
  },
  {
   "cell_type": "code",
   "execution_count": 32,
   "metadata": {
    "collapsed": false
   },
   "outputs": [
    {
     "data": {
      "text/plain": [
       "<pandas.core.groupby.SeriesGroupBy object at 0x107559bd0>"
      ]
     },
     "execution_count": 32,
     "metadata": {},
     "output_type": "execute_result"
    }
   ],
   "source": [
    "grouped = df['data1'].groupby(df['key1'])\n",
    "grouped"
   ]
  },
  {
   "cell_type": "code",
   "execution_count": 33,
   "metadata": {
    "collapsed": false
   },
   "outputs": [
    {
     "data": {
      "text/plain": [
       "key1\n",
       "a    1.321989\n",
       "b   -0.852093\n",
       "Name: data1, dtype: float64"
      ]
     },
     "execution_count": 33,
     "metadata": {},
     "output_type": "execute_result"
    }
   ],
   "source": [
    "grouped.mean()"
   ]
  },
  {
   "cell_type": "markdown",
   "metadata": {},
   "source": [
    "#### 연습문제\n",
    "\n",
    "10명의 학생이 세 과목 점수를 갖는다.\n",
    "\n",
    "a. 점수 구간별로 학생을 분류하고, 각 구간의 평균을 구하시오.\n",
    "\n",
    "b. 남자와 여자 학생들의 점수 평균을 구하시오."
   ]
  },
  {
   "cell_type": "code",
   "execution_count": 26,
   "metadata": {
    "collapsed": false
   },
   "outputs": [
    {
     "data": {
      "text/html": [
       "<div style=\"max-height:1000px;max-width:1500px;overflow:auto;\">\n",
       "<table border=\"1\" class=\"dataframe\">\n",
       "  <thead>\n",
       "    <tr style=\"text-align: right;\">\n",
       "      <th></th>\n",
       "      <th>100</th>\n",
       "      <th>101</th>\n",
       "      <th>102</th>\n",
       "      <th>여자</th>\n",
       "    </tr>\n",
       "  </thead>\n",
       "  <tbody>\n",
       "    <tr>\n",
       "      <th>0</th>\n",
       "      <td>30</td>\n",
       "      <td>83</td>\n",
       "      <td>89</td>\n",
       "      <td>False</td>\n",
       "    </tr>\n",
       "    <tr>\n",
       "      <th>1</th>\n",
       "      <td>14</td>\n",
       "      <td>80</td>\n",
       "      <td>80</td>\n",
       "      <td>False</td>\n",
       "    </tr>\n",
       "    <tr>\n",
       "      <th>2</th>\n",
       "      <td>67</td>\n",
       "      <td>96</td>\n",
       "      <td>96</td>\n",
       "      <td>True</td>\n",
       "    </tr>\n",
       "    <tr>\n",
       "      <th>3</th>\n",
       "      <td>16</td>\n",
       "      <td>17</td>\n",
       "      <td>4</td>\n",
       "      <td>False</td>\n",
       "    </tr>\n",
       "    <tr>\n",
       "      <th>4</th>\n",
       "      <td>14</td>\n",
       "      <td>33</td>\n",
       "      <td>54</td>\n",
       "      <td>True</td>\n",
       "    </tr>\n",
       "    <tr>\n",
       "      <th>5</th>\n",
       "      <td>85</td>\n",
       "      <td>33</td>\n",
       "      <td>5</td>\n",
       "      <td>True</td>\n",
       "    </tr>\n",
       "    <tr>\n",
       "      <th>6</th>\n",
       "      <td>83</td>\n",
       "      <td>57</td>\n",
       "      <td>39</td>\n",
       "      <td>True</td>\n",
       "    </tr>\n",
       "    <tr>\n",
       "      <th>7</th>\n",
       "      <td>5</td>\n",
       "      <td>61</td>\n",
       "      <td>88</td>\n",
       "      <td>True</td>\n",
       "    </tr>\n",
       "    <tr>\n",
       "      <th>8</th>\n",
       "      <td>34</td>\n",
       "      <td>39</td>\n",
       "      <td>83</td>\n",
       "      <td>False</td>\n",
       "    </tr>\n",
       "    <tr>\n",
       "      <th>9</th>\n",
       "      <td>51</td>\n",
       "      <td>37</td>\n",
       "      <td>53</td>\n",
       "      <td>True</td>\n",
       "    </tr>\n",
       "  </tbody>\n",
       "</table>\n",
       "</div>"
      ],
      "text/plain": [
       "   100  101  102     여자\n",
       "0   30   83   89  False\n",
       "1   14   80   80  False\n",
       "2   67   96   96   True\n",
       "3   16   17    4  False\n",
       "4   14   33   54   True\n",
       "5   85   33    5   True\n",
       "6   83   57   39   True\n",
       "7    5   61   88   True\n",
       "8   34   39   83  False\n",
       "9   51   37   53   True"
      ]
     },
     "execution_count": 26,
     "metadata": {},
     "output_type": "execute_result"
    }
   ],
   "source": [
    "scores = DataFrame(np.random.randint(0,100, size=(10,3)),\n",
    "                    columns=range(100,103))\n",
    "# 성별 정보 설정\n",
    "gender = []\n",
    "for i in np.random.randint(0,2, size=10):\n",
    "    if i:\n",
    "        gender.append(True)\n",
    "    else:\n",
    "        gender.append(False)\n",
    "scores[u'여자']=gender\n",
    "scores"
   ]
  },
  {
   "cell_type": "code",
   "execution_count": 29,
   "metadata": {
    "collapsed": false
   },
   "outputs": [
    {
     "data": {
      "text/plain": [
       "(0, 10]      9\n",
       "(10, 20]     4\n",
       "(20, 30]     1\n",
       "(30, 40]     6\n",
       "(40, 50]     0\n",
       "(50, 60]     4\n",
       "(60, 70]     2\n",
       "(70, 80]     2\n",
       "(80, 90]     6\n",
       "(90, 100]    2\n",
       "dtype: int64"
      ]
     },
     "execution_count": 29,
     "metadata": {},
     "output_type": "execute_result"
    }
   ],
   "source": [
    "pd.cut(scores, range(0, 110, 10)).value_counts()"
   ]
  },
  {
   "cell_type": "code",
   "execution_count": 27,
   "metadata": {
    "collapsed": false
   },
   "outputs": [
    {
     "data": {
      "text/html": [
       "<div style=\"max-height:1000px;max-width:1500px;overflow:auto;\">\n",
       "<table border=\"1\" class=\"dataframe\">\n",
       "  <thead>\n",
       "    <tr style=\"text-align: right;\">\n",
       "      <th></th>\n",
       "      <th>100</th>\n",
       "      <th>101</th>\n",
       "      <th>102</th>\n",
       "    </tr>\n",
       "    <tr>\n",
       "      <th>여자</th>\n",
       "      <th></th>\n",
       "      <th></th>\n",
       "      <th></th>\n",
       "    </tr>\n",
       "  </thead>\n",
       "  <tbody>\n",
       "    <tr>\n",
       "      <th>False</th>\n",
       "      <td>23.500000</td>\n",
       "      <td>54.750000</td>\n",
       "      <td>64.000000</td>\n",
       "    </tr>\n",
       "    <tr>\n",
       "      <th>True</th>\n",
       "      <td>50.833333</td>\n",
       "      <td>52.833333</td>\n",
       "      <td>55.833333</td>\n",
       "    </tr>\n",
       "  </tbody>\n",
       "</table>\n",
       "</div>"
      ],
      "text/plain": [
       "             100        101        102\n",
       "여자                                    \n",
       "False  23.500000  54.750000  64.000000\n",
       "True   50.833333  52.833333  55.833333"
      ]
     },
     "execution_count": 27,
     "metadata": {},
     "output_type": "execute_result"
    }
   ],
   "source": [
    "scores.groupby(u'여자').mean()"
   ]
  },
  {
   "cell_type": "code",
   "execution_count": 34,
   "metadata": {
    "collapsed": false
   },
   "outputs": [
    {
     "data": {
      "text/plain": [
       "key1  key2\n",
       "a     one     1.204279\n",
       "      two     1.557408\n",
       "b     one    -0.780897\n",
       "      two    -0.923289\n",
       "Name: data1, dtype: float64"
      ]
     },
     "execution_count": 34,
     "metadata": {},
     "output_type": "execute_result"
    }
   ],
   "source": [
    "means = df['data1'].groupby([df['key1'], df['key2']]).mean()\n",
    "means"
   ]
  },
  {
   "cell_type": "code",
   "execution_count": 35,
   "metadata": {
    "collapsed": false
   },
   "outputs": [
    {
     "data": {
      "text/html": [
       "<div style=\"max-height:1000px;max-width:1500px;overflow:auto;\">\n",
       "<table border=\"1\" class=\"dataframe\">\n",
       "  <thead>\n",
       "    <tr style=\"text-align: right;\">\n",
       "      <th>key2</th>\n",
       "      <th>one</th>\n",
       "      <th>two</th>\n",
       "    </tr>\n",
       "    <tr>\n",
       "      <th>key1</th>\n",
       "      <th></th>\n",
       "      <th></th>\n",
       "    </tr>\n",
       "  </thead>\n",
       "  <tbody>\n",
       "    <tr>\n",
       "      <th>a</th>\n",
       "      <td>1.204279</td>\n",
       "      <td>1.557408</td>\n",
       "    </tr>\n",
       "    <tr>\n",
       "      <th>b</th>\n",
       "      <td>-0.780897</td>\n",
       "      <td>-0.923289</td>\n",
       "    </tr>\n",
       "  </tbody>\n",
       "</table>\n",
       "</div>"
      ],
      "text/plain": [
       "key2       one       two\n",
       "key1                    \n",
       "a     1.204279  1.557408\n",
       "b    -0.780897 -0.923289"
      ]
     },
     "execution_count": 35,
     "metadata": {},
     "output_type": "execute_result"
    }
   ],
   "source": [
    "means.unstack()"
   ]
  },
  {
   "cell_type": "code",
   "execution_count": 36,
   "metadata": {
    "collapsed": false
   },
   "outputs": [
    {
     "data": {
      "text/plain": [
       "California  2005    1.557408\n",
       "            2006   -0.780897\n",
       "Ohio        2005    0.765903\n",
       "            2006   -0.046537\n",
       "Name: data1, dtype: float64"
      ]
     },
     "execution_count": 36,
     "metadata": {},
     "output_type": "execute_result"
    }
   ],
   "source": [
    "states = np.array(['Ohio', 'California', 'California', 'Ohio', 'Ohio'])\n",
    "years = np.array([2005, 2005, 2006, 2005, 2006])\n",
    "df['data1'].groupby([states, years]).mean()"
   ]
  },
  {
   "cell_type": "code",
   "execution_count": 37,
   "metadata": {
    "collapsed": false
   },
   "outputs": [
    {
     "data": {
      "text/html": [
       "<div style=\"max-height:1000px;max-width:1500px;overflow:auto;\">\n",
       "<table border=\"1\" class=\"dataframe\">\n",
       "  <thead>\n",
       "    <tr style=\"text-align: right;\">\n",
       "      <th></th>\n",
       "      <th>data1</th>\n",
       "      <th>data2</th>\n",
       "    </tr>\n",
       "    <tr>\n",
       "      <th>key1</th>\n",
       "      <th></th>\n",
       "      <th></th>\n",
       "    </tr>\n",
       "  </thead>\n",
       "  <tbody>\n",
       "    <tr>\n",
       "      <th>a</th>\n",
       "      <td>1.321989</td>\n",
       "      <td>-0.583807</td>\n",
       "    </tr>\n",
       "    <tr>\n",
       "      <th>b</th>\n",
       "      <td>-0.852093</td>\n",
       "      <td>-1.199965</td>\n",
       "    </tr>\n",
       "  </tbody>\n",
       "</table>\n",
       "</div>"
      ],
      "text/plain": [
       "         data1     data2\n",
       "key1                    \n",
       "a     1.321989 -0.583807\n",
       "b    -0.852093 -1.199965"
      ]
     },
     "execution_count": 37,
     "metadata": {},
     "output_type": "execute_result"
    }
   ],
   "source": [
    "df.groupby('key1').mean()"
   ]
  },
  {
   "cell_type": "code",
   "execution_count": 38,
   "metadata": {
    "collapsed": false
   },
   "outputs": [
    {
     "data": {
      "text/html": [
       "<div style=\"max-height:1000px;max-width:1500px;overflow:auto;\">\n",
       "<table border=\"1\" class=\"dataframe\">\n",
       "  <thead>\n",
       "    <tr style=\"text-align: right;\">\n",
       "      <th></th>\n",
       "      <th></th>\n",
       "      <th>data1</th>\n",
       "      <th>data2</th>\n",
       "    </tr>\n",
       "    <tr>\n",
       "      <th>key1</th>\n",
       "      <th>key2</th>\n",
       "      <th></th>\n",
       "      <th></th>\n",
       "    </tr>\n",
       "  </thead>\n",
       "  <tbody>\n",
       "    <tr>\n",
       "      <th rowspan=\"2\" valign=\"top\">a</th>\n",
       "      <th>one</th>\n",
       "      <td>1.204279</td>\n",
       "      <td>-0.580366</td>\n",
       "    </tr>\n",
       "    <tr>\n",
       "      <th>two</th>\n",
       "      <td>1.557408</td>\n",
       "      <td>-0.590688</td>\n",
       "    </tr>\n",
       "    <tr>\n",
       "      <th rowspan=\"2\" valign=\"top\">b</th>\n",
       "      <th>one</th>\n",
       "      <td>-0.780897</td>\n",
       "      <td>-1.877893</td>\n",
       "    </tr>\n",
       "    <tr>\n",
       "      <th>two</th>\n",
       "      <td>-0.923289</td>\n",
       "      <td>-0.522037</td>\n",
       "    </tr>\n",
       "  </tbody>\n",
       "</table>\n",
       "</div>"
      ],
      "text/plain": [
       "              data1     data2\n",
       "key1 key2                    \n",
       "a    one   1.204279 -0.580366\n",
       "     two   1.557408 -0.590688\n",
       "b    one  -0.780897 -1.877893\n",
       "     two  -0.923289 -0.522037"
      ]
     },
     "execution_count": 38,
     "metadata": {},
     "output_type": "execute_result"
    }
   ],
   "source": [
    "df.groupby(['key1', 'key2']).mean()"
   ]
  },
  {
   "cell_type": "code",
   "execution_count": 39,
   "metadata": {
    "collapsed": false
   },
   "outputs": [
    {
     "data": {
      "text/plain": [
       "key1  key2\n",
       "a     one     2\n",
       "      two     1\n",
       "b     one     1\n",
       "      two     1\n",
       "dtype: int64"
      ]
     },
     "execution_count": 39,
     "metadata": {},
     "output_type": "execute_result"
    }
   ],
   "source": [
    "df.groupby(['key1', 'key2']).size()"
   ]
  },
  {
   "cell_type": "markdown",
   "metadata": {},
   "source": [
    "### 그룹의 개별 항목 반복"
   ]
  },
  {
   "cell_type": "code",
   "execution_count": 42,
   "metadata": {
    "collapsed": false
   },
   "outputs": [
    {
     "data": {
      "text/plain": [
       "<pandas.core.groupby.DataFrameGroupBy object at 0x107673490>"
      ]
     },
     "execution_count": 42,
     "metadata": {},
     "output_type": "execute_result"
    }
   ],
   "source": [
    "df.groupby('key1')"
   ]
  },
  {
   "cell_type": "code",
   "execution_count": 43,
   "metadata": {
    "collapsed": false
   },
   "outputs": [
    {
     "data": {
      "text/plain": [
       "[('a',       data1     data2 key1 key2\n",
       "  0  2.455095 -0.289889    a  one\n",
       "  1  1.557408 -0.590688    a  two\n",
       "  4 -0.046537 -0.870842    a  one), ('b',       data1     data2 key1 key2\n",
       "  2 -0.780897 -1.877893    b  one\n",
       "  3 -0.923289 -0.522037    b  two)]"
      ]
     },
     "execution_count": 43,
     "metadata": {},
     "output_type": "execute_result"
    }
   ],
   "source": [
    "list(df.groupby('key1'))"
   ]
  },
  {
   "cell_type": "code",
   "execution_count": 44,
   "metadata": {
    "collapsed": false
   },
   "outputs": [
    {
     "ename": "TypeError",
     "evalue": "attribute of type 'str' is not callable",
     "output_type": "error",
     "traceback": [
      "\u001b[0;31m---------------------------------------------------------------------------\u001b[0m",
      "\u001b[0;31mTypeError\u001b[0m                                 Traceback (most recent call last)",
      "\u001b[0;32m<ipython-input-44-02b9ca220d58>\u001b[0m in \u001b[0;36m<module>\u001b[0;34m()\u001b[0m\n\u001b[0;32m----> 1\u001b[0;31m \u001b[0mdict\u001b[0m\u001b[0;34m(\u001b[0m\u001b[0mdf\u001b[0m\u001b[0;34m.\u001b[0m\u001b[0mgroupby\u001b[0m\u001b[0;34m(\u001b[0m\u001b[0;34m'key1'\u001b[0m\u001b[0;34m)\u001b[0m\u001b[0;34m)\u001b[0m\u001b[0;34m\u001b[0m\u001b[0m\n\u001b[0m",
      "\u001b[0;31mTypeError\u001b[0m: attribute of type 'str' is not callable"
     ]
    }
   ],
   "source": [
    "dict(df.groupby('key1'))"
   ]
  },
  {
   "cell_type": "code",
   "execution_count": 40,
   "metadata": {
    "collapsed": false
   },
   "outputs": [
    {
     "name": "stdout",
     "output_type": "stream",
     "text": [
      "a\n",
      "      data1     data2 key1 key2\n",
      "0  2.455095 -0.289889    a  one\n",
      "1  1.557408 -0.590688    a  two\n",
      "4 -0.046537 -0.870842    a  one\n",
      "b\n",
      "      data1     data2 key1 key2\n",
      "2 -0.780897 -1.877893    b  one\n",
      "3 -0.923289 -0.522037    b  two\n"
     ]
    }
   ],
   "source": [
    "for name, group in df.groupby('key1'):\n",
    "    print(name)\n",
    "    print(group)"
   ]
  },
  {
   "cell_type": "code",
   "execution_count": null,
   "metadata": {
    "collapsed": true
   },
   "outputs": [],
   "source": []
  },
  {
   "cell_type": "code",
   "execution_count": 49,
   "metadata": {
    "collapsed": false
   },
   "outputs": [
    {
     "name": "stdout",
     "output_type": "stream",
     "text": [
      "a one\n",
      "      data1     data2 key1 key2\n",
      "0  2.455095 -0.289889    a  one\n",
      "4 -0.046537 -0.870842    a  one\n",
      "a two\n",
      "      data1     data2 key1 key2\n",
      "1  1.557408 -0.590688    a  two\n",
      "b one\n",
      "      data1     data2 key1 key2\n",
      "2 -0.780897 -1.877893    b  one\n",
      "b two\n",
      "      data1     data2 key1 key2\n",
      "3 -0.923289 -0.522037    b  two\n"
     ]
    }
   ],
   "source": [
    "from __future__ import print_function # 3버전 print 함수 사용\n",
    "\n",
    "# for name, group in df.groupby(['key1', 'key2']):\n",
    "for (k1, k2), group in df.groupby(['key1', 'key2']):\n",
    "#     print(name)\n",
    "    print(k1, k2)\n",
    "    print(group)"
   ]
  },
  {
   "cell_type": "code",
   "execution_count": 50,
   "metadata": {
    "collapsed": false
   },
   "outputs": [
    {
     "data": {
      "text/html": [
       "<div style=\"max-height:1000px;max-width:1500px;overflow:auto;\">\n",
       "<table border=\"1\" class=\"dataframe\">\n",
       "  <thead>\n",
       "    <tr style=\"text-align: right;\">\n",
       "      <th></th>\n",
       "      <th>data1</th>\n",
       "      <th>data2</th>\n",
       "      <th>key1</th>\n",
       "      <th>key2</th>\n",
       "    </tr>\n",
       "  </thead>\n",
       "  <tbody>\n",
       "    <tr>\n",
       "      <th>2</th>\n",
       "      <td>-0.780897</td>\n",
       "      <td>-1.877893</td>\n",
       "      <td>b</td>\n",
       "      <td>one</td>\n",
       "    </tr>\n",
       "    <tr>\n",
       "      <th>3</th>\n",
       "      <td>-0.923289</td>\n",
       "      <td>-0.522037</td>\n",
       "      <td>b</td>\n",
       "      <td>two</td>\n",
       "    </tr>\n",
       "  </tbody>\n",
       "</table>\n",
       "</div>"
      ],
      "text/plain": [
       "      data1     data2 key1 key2\n",
       "2 -0.780897 -1.877893    b  one\n",
       "3 -0.923289 -0.522037    b  two"
      ]
     },
     "execution_count": 50,
     "metadata": {},
     "output_type": "execute_result"
    }
   ],
   "source": [
    "pieces = dict(list(df.groupby('key1')))\n",
    "pieces['b']"
   ]
  },
  {
   "cell_type": "code",
   "execution_count": null,
   "metadata": {
    "collapsed": false
   },
   "outputs": [],
   "source": [
    "df.dtypes"
   ]
  },
  {
   "cell_type": "code",
   "execution_count": null,
   "metadata": {
    "collapsed": false
   },
   "outputs": [],
   "source": [
    "grouped = df.groupby(df.dtypes, axis=1)\n",
    "dict(list(grouped))"
   ]
  },
  {
   "cell_type": "markdown",
   "metadata": {},
   "source": [
    "### 열 선택"
   ]
  },
  {
   "cell_type": "raw",
   "metadata": {},
   "source": [
    "df.groupby('key1')['data1']"
   ]
  },
  {
   "cell_type": "raw",
   "metadata": {},
   "source": [
    "df['data1'].groupby(df['key1'])"
   ]
  },
  {
   "cell_type": "raw",
   "metadata": {},
   "source": [
    "df.groupby('key1')[['data2']]"
   ]
  },
  {
   "cell_type": "raw",
   "metadata": {},
   "source": [
    "df[['data2']].groupby(df['key1'])"
   ]
  },
  {
   "cell_type": "code",
   "execution_count": 56,
   "metadata": {
    "collapsed": false
   },
   "outputs": [
    {
     "data": {
      "text/html": [
       "<div style=\"max-height:1000px;max-width:1500px;overflow:auto;\">\n",
       "<table border=\"1\" class=\"dataframe\">\n",
       "  <thead>\n",
       "    <tr style=\"text-align: right;\">\n",
       "      <th></th>\n",
       "      <th></th>\n",
       "      <th>data2</th>\n",
       "    </tr>\n",
       "    <tr>\n",
       "      <th>key1</th>\n",
       "      <th>key2</th>\n",
       "      <th></th>\n",
       "    </tr>\n",
       "  </thead>\n",
       "  <tbody>\n",
       "    <tr>\n",
       "      <th rowspan=\"2\" valign=\"top\">a</th>\n",
       "      <th>one</th>\n",
       "      <td>-0.580366</td>\n",
       "    </tr>\n",
       "    <tr>\n",
       "      <th>two</th>\n",
       "      <td>-0.590688</td>\n",
       "    </tr>\n",
       "    <tr>\n",
       "      <th rowspan=\"2\" valign=\"top\">b</th>\n",
       "      <th>one</th>\n",
       "      <td>-1.877893</td>\n",
       "    </tr>\n",
       "    <tr>\n",
       "      <th>two</th>\n",
       "      <td>-0.522037</td>\n",
       "    </tr>\n",
       "  </tbody>\n",
       "</table>\n",
       "</div>"
      ],
      "text/plain": [
       "              data2\n",
       "key1 key2          \n",
       "a    one  -0.580366\n",
       "     two  -0.590688\n",
       "b    one  -1.877893\n",
       "     two  -0.522037"
      ]
     },
     "execution_count": 56,
     "metadata": {},
     "output_type": "execute_result"
    }
   ],
   "source": [
    "df.groupby(['key1', 'key2'])[['data2']].mean()"
   ]
  },
  {
   "cell_type": "code",
   "execution_count": 57,
   "metadata": {
    "collapsed": false
   },
   "outputs": [
    {
     "data": {
      "text/plain": [
       "key1  key2\n",
       "a     one    -0.580366\n",
       "      two    -0.590688\n",
       "b     one    -1.877893\n",
       "      two    -0.522037\n",
       "Name: data2, dtype: float64"
      ]
     },
     "execution_count": 57,
     "metadata": {},
     "output_type": "execute_result"
    }
   ],
   "source": [
    "df.groupby(['key1', 'key2'])['data2'].mean()"
   ]
  },
  {
   "cell_type": "markdown",
   "metadata": {},
   "source": [
    "### 사전과 Series에서 분류"
   ]
  },
  {
   "cell_type": "code",
   "execution_count": 59,
   "metadata": {
    "collapsed": false
   },
   "outputs": [
    {
     "data": {
      "text/html": [
       "<div style=\"max-height:1000px;max-width:1500px;overflow:auto;\">\n",
       "<table border=\"1\" class=\"dataframe\">\n",
       "  <thead>\n",
       "    <tr style=\"text-align: right;\">\n",
       "      <th></th>\n",
       "      <th>a</th>\n",
       "      <th>b</th>\n",
       "      <th>c</th>\n",
       "      <th>d</th>\n",
       "      <th>e</th>\n",
       "    </tr>\n",
       "  </thead>\n",
       "  <tbody>\n",
       "    <tr>\n",
       "      <th>Joe</th>\n",
       "      <td>2.602352</td>\n",
       "      <td>-0.263671</td>\n",
       "      <td>-0.578371</td>\n",
       "      <td>-0.553437</td>\n",
       "      <td>0.121153</td>\n",
       "    </tr>\n",
       "    <tr>\n",
       "      <th>Steve</th>\n",
       "      <td>-0.917439</td>\n",
       "      <td>-0.325788</td>\n",
       "      <td>0.897779</td>\n",
       "      <td>-1.005297</td>\n",
       "      <td>0.975437</td>\n",
       "    </tr>\n",
       "    <tr>\n",
       "      <th>Wes</th>\n",
       "      <td>0.539778</td>\n",
       "      <td>NaN</td>\n",
       "      <td>NaN</td>\n",
       "      <td>-2.805646</td>\n",
       "      <td>0.162064</td>\n",
       "    </tr>\n",
       "    <tr>\n",
       "      <th>Jim</th>\n",
       "      <td>-0.031984</td>\n",
       "      <td>-0.947469</td>\n",
       "      <td>1.518477</td>\n",
       "      <td>-1.735067</td>\n",
       "      <td>-1.527835</td>\n",
       "    </tr>\n",
       "    <tr>\n",
       "      <th>Travis</th>\n",
       "      <td>-0.320644</td>\n",
       "      <td>-1.271528</td>\n",
       "      <td>0.630260</td>\n",
       "      <td>-0.814195</td>\n",
       "      <td>-0.103733</td>\n",
       "    </tr>\n",
       "  </tbody>\n",
       "</table>\n",
       "</div>"
      ],
      "text/plain": [
       "               a         b         c         d         e\n",
       "Joe     2.602352 -0.263671 -0.578371 -0.553437  0.121153\n",
       "Steve  -0.917439 -0.325788  0.897779 -1.005297  0.975437\n",
       "Wes     0.539778       NaN       NaN -2.805646  0.162064\n",
       "Jim    -0.031984 -0.947469  1.518477 -1.735067 -1.527835\n",
       "Travis -0.320644 -1.271528  0.630260 -0.814195 -0.103733"
      ]
     },
     "execution_count": 59,
     "metadata": {},
     "output_type": "execute_result"
    }
   ],
   "source": [
    "people = DataFrame(np.random.randn(5, 5),\n",
    "                   columns=['a', 'b', 'c', 'd', 'e'],\n",
    "                   index=['Joe', 'Steve', 'Wes', 'Jim', 'Travis'])\n",
    "people.ix[2:3, ['b', 'c']] = np.nan\n",
    "people"
   ]
  },
  {
   "cell_type": "code",
   "execution_count": null,
   "metadata": {
    "collapsed": false
   },
   "outputs": [],
   "source": [
    "mapping = {'a': 'red', 'b': 'red', 'c': 'blue',\n",
    "           'd': 'blue', 'e': 'red', 'f' : 'orange'}"
   ]
  },
  {
   "cell_type": "code",
   "execution_count": null,
   "metadata": {
    "collapsed": false
   },
   "outputs": [],
   "source": [
    "by_column = people.groupby(mapping, axis=1)\n",
    "by_column.sum()"
   ]
  },
  {
   "cell_type": "code",
   "execution_count": null,
   "metadata": {
    "collapsed": false
   },
   "outputs": [],
   "source": [
    "map_series = Series(mapping)\n",
    "map_series"
   ]
  },
  {
   "cell_type": "code",
   "execution_count": null,
   "metadata": {
    "collapsed": false
   },
   "outputs": [],
   "source": [
    "people.groupby(map_series, axis=1).count()"
   ]
  },
  {
   "cell_type": "markdown",
   "metadata": {},
   "source": [
    "### Grouping with functions"
   ]
  },
  {
   "cell_type": "code",
   "execution_count": null,
   "metadata": {
    "collapsed": false
   },
   "outputs": [],
   "source": [
    "people.groupby(len).sum()"
   ]
  },
  {
   "cell_type": "code",
   "execution_count": null,
   "metadata": {
    "collapsed": false
   },
   "outputs": [],
   "source": [
    "key_list = ['one', 'one', 'one', 'two', 'two']\n",
    "people.groupby([len, key_list]).min()"
   ]
  },
  {
   "cell_type": "markdown",
   "metadata": {},
   "source": [
    "### Grouping by index levels"
   ]
  },
  {
   "cell_type": "code",
   "execution_count": null,
   "metadata": {
    "collapsed": false
   },
   "outputs": [],
   "source": [
    "columns = pd.MultiIndex.from_arrays([['US', 'US', 'US', 'JP', 'JP'],\n",
    "                                    [1, 3, 5, 1, 3]], names=['cty', 'tenor'])\n",
    "hier_df = DataFrame(np.random.randn(4, 5), columns=columns)\n",
    "hier_df"
   ]
  },
  {
   "cell_type": "code",
   "execution_count": null,
   "metadata": {
    "collapsed": false
   },
   "outputs": [],
   "source": [
    "hier_df.groupby(level='cty', axis=1).count()"
   ]
  },
  {
   "cell_type": "markdown",
   "metadata": {},
   "source": [
    "## Data aggregation"
   ]
  },
  {
   "cell_type": "code",
   "execution_count": null,
   "metadata": {
    "collapsed": false
   },
   "outputs": [],
   "source": [
    "df"
   ]
  },
  {
   "cell_type": "code",
   "execution_count": null,
   "metadata": {
    "collapsed": false
   },
   "outputs": [],
   "source": [
    "grouped = df.groupby('key1')\n",
    "grouped['data1'].quantile(0.9)"
   ]
  },
  {
   "cell_type": "code",
   "execution_count": null,
   "metadata": {
    "collapsed": false
   },
   "outputs": [],
   "source": [
    "def peak_to_peak(arr):\n",
    "    return arr.max() - arr.min()\n",
    "grouped.agg(peak_to_peak)"
   ]
  },
  {
   "cell_type": "code",
   "execution_count": null,
   "metadata": {
    "collapsed": false
   },
   "outputs": [],
   "source": [
    "grouped.describe()"
   ]
  },
  {
   "cell_type": "code",
   "execution_count": null,
   "metadata": {
    "collapsed": false
   },
   "outputs": [],
   "source": [
    "tips = pd.read_csv('ch08/tips.csv')\n",
    "# Add tip percentage of total bill\n",
    "tips['tip_pct'] = tips['tip'] / tips['total_bill']\n",
    "tips[:6]"
   ]
  },
  {
   "cell_type": "markdown",
   "metadata": {},
   "source": [
    "### Column-wise and multiple function application"
   ]
  },
  {
   "cell_type": "code",
   "execution_count": null,
   "metadata": {
    "collapsed": false
   },
   "outputs": [],
   "source": [
    "grouped = tips.groupby(['sex', 'smoker'])"
   ]
  },
  {
   "cell_type": "code",
   "execution_count": null,
   "metadata": {
    "collapsed": false
   },
   "outputs": [],
   "source": [
    "grouped_pct = grouped['tip_pct']\n",
    "grouped_pct.agg('mean')"
   ]
  },
  {
   "cell_type": "code",
   "execution_count": null,
   "metadata": {
    "collapsed": false
   },
   "outputs": [],
   "source": [
    "grouped_pct.agg(['mean', 'std', peak_to_peak])"
   ]
  },
  {
   "cell_type": "code",
   "execution_count": null,
   "metadata": {
    "collapsed": false
   },
   "outputs": [],
   "source": [
    "grouped_pct.agg([('foo', 'mean'), ('bar', np.std)])"
   ]
  },
  {
   "cell_type": "code",
   "execution_count": null,
   "metadata": {
    "collapsed": false
   },
   "outputs": [],
   "source": [
    "functions = ['count', 'mean', 'max']\n",
    "result = grouped['tip_pct', 'total_bill'].agg(functions)\n",
    "result"
   ]
  },
  {
   "cell_type": "code",
   "execution_count": null,
   "metadata": {
    "collapsed": false
   },
   "outputs": [],
   "source": [
    "result['tip_pct']"
   ]
  },
  {
   "cell_type": "code",
   "execution_count": null,
   "metadata": {
    "collapsed": false
   },
   "outputs": [],
   "source": [
    "ftuples = [('Durchschnitt', 'mean'), ('Abweichung', np.var)]\n",
    "grouped['tip_pct', 'total_bill'].agg(ftuples)"
   ]
  },
  {
   "cell_type": "code",
   "execution_count": null,
   "metadata": {
    "collapsed": false
   },
   "outputs": [],
   "source": [
    "grouped.agg({'tip' : np.max, 'size' : 'sum'})"
   ]
  },
  {
   "cell_type": "code",
   "execution_count": null,
   "metadata": {
    "collapsed": false
   },
   "outputs": [],
   "source": [
    "grouped.agg({'tip_pct' : ['min', 'max', 'mean', 'std'],\n",
    "             'size' : 'sum'})"
   ]
  },
  {
   "cell_type": "markdown",
   "metadata": {},
   "source": [
    "### Returning aggregated data in \"unindexed\" form"
   ]
  },
  {
   "cell_type": "code",
   "execution_count": null,
   "metadata": {
    "collapsed": false
   },
   "outputs": [],
   "source": [
    "tips.groupby(['sex', 'smoker'], as_index=False).mean()"
   ]
  },
  {
   "cell_type": "markdown",
   "metadata": {},
   "source": [
    "## Group-wise operations and transformations"
   ]
  },
  {
   "cell_type": "code",
   "execution_count": null,
   "metadata": {
    "collapsed": false
   },
   "outputs": [],
   "source": [
    "df"
   ]
  },
  {
   "cell_type": "code",
   "execution_count": null,
   "metadata": {
    "collapsed": false
   },
   "outputs": [],
   "source": [
    "k1_means = df.groupby('key1').mean().add_prefix('mean_')\n",
    "k1_means"
   ]
  },
  {
   "cell_type": "code",
   "execution_count": null,
   "metadata": {
    "collapsed": false
   },
   "outputs": [],
   "source": [
    "pd.merge(df, k1_means, left_on='key1', right_index=True)"
   ]
  },
  {
   "cell_type": "code",
   "execution_count": null,
   "metadata": {
    "collapsed": false
   },
   "outputs": [],
   "source": [
    "key = ['one', 'two', 'one', 'two', 'one']\n",
    "people.groupby(key).mean()"
   ]
  },
  {
   "cell_type": "code",
   "execution_count": null,
   "metadata": {
    "collapsed": false
   },
   "outputs": [],
   "source": [
    "people.groupby(key).transform(np.mean)"
   ]
  },
  {
   "cell_type": "code",
   "execution_count": null,
   "metadata": {
    "collapsed": false
   },
   "outputs": [],
   "source": [
    "def demean(arr):\n",
    "    return arr - arr.mean()\n",
    "demeaned = people.groupby(key).transform(demean)\n",
    "demeaned"
   ]
  },
  {
   "cell_type": "code",
   "execution_count": null,
   "metadata": {
    "collapsed": false
   },
   "outputs": [],
   "source": [
    "demeaned.groupby(key).mean()"
   ]
  },
  {
   "cell_type": "markdown",
   "metadata": {},
   "source": [
    "### Apply: General split-apply-combine"
   ]
  },
  {
   "cell_type": "code",
   "execution_count": null,
   "metadata": {
    "collapsed": false
   },
   "outputs": [],
   "source": [
    "def top(df, n=5, column='tip_pct'):\n",
    "    return df.sort_index(by=column)[-n:]\n",
    "top(tips, n=6)"
   ]
  },
  {
   "cell_type": "code",
   "execution_count": null,
   "metadata": {
    "collapsed": false
   },
   "outputs": [],
   "source": [
    "tips.groupby('smoker').apply(top)"
   ]
  },
  {
   "cell_type": "code",
   "execution_count": null,
   "metadata": {
    "collapsed": false
   },
   "outputs": [],
   "source": [
    "tips.groupby(['smoker', 'day']).apply(top, n=1, column='total_bill')"
   ]
  },
  {
   "cell_type": "code",
   "execution_count": null,
   "metadata": {
    "collapsed": false
   },
   "outputs": [],
   "source": [
    "result = tips.groupby('smoker')['tip_pct'].describe()\n",
    "result"
   ]
  },
  {
   "cell_type": "code",
   "execution_count": null,
   "metadata": {
    "collapsed": false
   },
   "outputs": [],
   "source": [
    "result.unstack('smoker')"
   ]
  },
  {
   "cell_type": "raw",
   "metadata": {},
   "source": [
    "f = lambda x: x.describe()\n",
    "grouped.apply(f)"
   ]
  },
  {
   "cell_type": "markdown",
   "metadata": {},
   "source": [
    "#### Suppressing the group keys"
   ]
  },
  {
   "cell_type": "code",
   "execution_count": null,
   "metadata": {
    "collapsed": false
   },
   "outputs": [],
   "source": [
    "tips.groupby('smoker', group_keys=False).apply(top)"
   ]
  },
  {
   "cell_type": "markdown",
   "metadata": {},
   "source": [
    "### Quantile and bucket analysis"
   ]
  },
  {
   "cell_type": "code",
   "execution_count": null,
   "metadata": {
    "collapsed": false
   },
   "outputs": [],
   "source": [
    "frame = DataFrame({'data1': np.random.randn(1000),\n",
    "                   'data2': np.random.randn(1000)})\n",
    "factor = pd.cut(frame.data1, 4)\n",
    "factor[:10]"
   ]
  },
  {
   "cell_type": "code",
   "execution_count": null,
   "metadata": {
    "collapsed": false
   },
   "outputs": [],
   "source": [
    "def get_stats(group):\n",
    "    return {'min': group.min(), 'max': group.max(),\n",
    "            'count': group.count(), 'mean': group.mean()}\n",
    "\n",
    "grouped = frame.data2.groupby(factor)\n",
    "grouped.apply(get_stats).unstack()\n",
    "\n",
    "#ADAPT the output is not sorted in the book while this is the case now (swap first two lines)"
   ]
  },
  {
   "cell_type": "code",
   "execution_count": null,
   "metadata": {
    "collapsed": false
   },
   "outputs": [],
   "source": [
    "# Return quantile numbers\n",
    "grouping = pd.qcut(frame.data1, 10, labels=False)\n",
    "\n",
    "grouped = frame.data2.groupby(grouping)\n",
    "grouped.apply(get_stats).unstack()"
   ]
  },
  {
   "cell_type": "markdown",
   "metadata": {},
   "source": [
    "###  예제: 그룹 내 값으로 누락된 값 채우기"
   ]
  },
  {
   "cell_type": "code",
   "execution_count": 60,
   "metadata": {
    "collapsed": false
   },
   "outputs": [
    {
     "data": {
      "text/plain": [
       "0         NaN\n",
       "1   -1.032627\n",
       "2         NaN\n",
       "3    1.358752\n",
       "4         NaN\n",
       "5    0.508276\n",
       "dtype: float64"
      ]
     },
     "execution_count": 60,
     "metadata": {},
     "output_type": "execute_result"
    }
   ],
   "source": [
    "s = Series(np.random.randn(6))\n",
    "s[::2] = np.nan\n",
    "s"
   ]
  },
  {
   "cell_type": "code",
   "execution_count": 61,
   "metadata": {
    "collapsed": false
   },
   "outputs": [
    {
     "data": {
      "text/plain": [
       "0    0.278134\n",
       "1   -1.032627\n",
       "2    0.278134\n",
       "3    1.358752\n",
       "4    0.278134\n",
       "5    0.508276\n",
       "dtype: float64"
      ]
     },
     "execution_count": 61,
     "metadata": {},
     "output_type": "execute_result"
    }
   ],
   "source": [
    "s.fillna(s.mean())"
   ]
  },
  {
   "cell_type": "code",
   "execution_count": 3,
   "metadata": {
    "collapsed": false
   },
   "outputs": [
    {
     "data": {
      "text/plain": [
       "Ohio         -0.204708\n",
       "New York      0.478943\n",
       "Vermont            NaN\n",
       "Florida      -0.555730\n",
       "Oregon        1.965781\n",
       "Nevada             NaN\n",
       "California    0.092908\n",
       "Idaho              NaN\n",
       "dtype: float64"
      ]
     },
     "execution_count": 3,
     "metadata": {},
     "output_type": "execute_result"
    }
   ],
   "source": [
    "states = ['Ohio', 'New York', 'Vermont', 'Florida',\n",
    "          'Oregon', 'Nevada', 'California', 'Idaho']\n",
    "group_key = ['East'] * 4 + ['West'] * 4\n",
    "data = Series(np.random.randn(8), index=states)\n",
    "data[['Vermont', 'Nevada', 'Idaho']] = np.nan\n",
    "data"
   ]
  },
  {
   "cell_type": "code",
   "execution_count": 4,
   "metadata": {
    "collapsed": false
   },
   "outputs": [
    {
     "data": {
      "text/plain": [
       "['East', 'East', 'East', 'East', 'West', 'West', 'West', 'West']"
      ]
     },
     "execution_count": 4,
     "metadata": {},
     "output_type": "execute_result"
    }
   ],
   "source": [
    "group_key"
   ]
  },
  {
   "cell_type": "code",
   "execution_count": 63,
   "metadata": {
    "collapsed": false
   },
   "outputs": [
    {
     "data": {
      "text/plain": [
       "East    0.178411\n",
       "West    0.509050\n",
       "dtype: float64"
      ]
     },
     "execution_count": 63,
     "metadata": {},
     "output_type": "execute_result"
    }
   ],
   "source": [
    "data.groupby(group_key).mean()"
   ]
  },
  {
   "cell_type": "code",
   "execution_count": 64,
   "metadata": {
    "collapsed": false
   },
   "outputs": [
    {
     "data": {
      "text/plain": [
       "Ohio         -0.557217\n",
       "New York     -0.006565\n",
       "Vermont       0.178411\n",
       "Florida       1.099015\n",
       "Oregon        0.901692\n",
       "Nevada        0.509050\n",
       "California    0.116408\n",
       "Idaho         0.509050\n",
       "dtype: float64"
      ]
     },
     "execution_count": 64,
     "metadata": {},
     "output_type": "execute_result"
    }
   ],
   "source": [
    "fill_mean = lambda g: g.fillna(g.mean())\n",
    "data.groupby(group_key).apply(fill_mean)"
   ]
  },
  {
   "cell_type": "code",
   "execution_count": 65,
   "metadata": {
    "collapsed": false
   },
   "outputs": [
    {
     "data": {
      "text/plain": [
       "Ohio         -0.557217\n",
       "New York     -0.006565\n",
       "Vermont       0.500000\n",
       "Florida       1.099015\n",
       "Oregon        0.901692\n",
       "Nevada       -1.000000\n",
       "California    0.116408\n",
       "Idaho        -1.000000\n",
       "dtype: float64"
      ]
     },
     "execution_count": 65,
     "metadata": {},
     "output_type": "execute_result"
    }
   ],
   "source": [
    "fill_values = {'East': 0.5, 'West': -1}\n",
    "fill_func = lambda g: g.fillna(fill_values[g.name])\n",
    "\n",
    "data.groupby(group_key).apply(fill_func)"
   ]
  },
  {
   "cell_type": "markdown",
   "metadata": {},
   "source": [
    "### 예제: 랜더 표본과 순열"
   ]
  },
  {
   "cell_type": "code",
   "execution_count": 5,
   "metadata": {
    "collapsed": true
   },
   "outputs": [],
   "source": [
    "# 포커카드 52장 생성\n",
    "suits = ['H', 'S', 'C', 'D']\n",
    "card_val = (range(1, 11) + [10] * 3) * 4\n",
    "base_names = ['A'] + range(2, 11) + ['J', 'K', 'Q']"
   ]
  },
  {
   "cell_type": "code",
   "execution_count": 12,
   "metadata": {
    "collapsed": false
   },
   "outputs": [
    {
     "data": {
      "text/plain": [
       "[1, 2, 3, 4, 5, 6, 7, 8, 9, 10, 10, 10, 10]"
      ]
     },
     "execution_count": 12,
     "metadata": {},
     "output_type": "execute_result"
    }
   ],
   "source": [
    "card_val[:13]"
   ]
  },
  {
   "cell_type": "code",
   "execution_count": 6,
   "metadata": {
    "collapsed": false
   },
   "outputs": [
    {
     "data": {
      "text/plain": [
       "['A', 2, 3, 4, 5, 6, 7, 8, 9, 10, 'J', 'K', 'Q']"
      ]
     },
     "execution_count": 6,
     "metadata": {},
     "output_type": "execute_result"
    }
   ],
   "source": [
    "base_names"
   ]
  },
  {
   "cell_type": "code",
   "execution_count": 13,
   "metadata": {
    "collapsed": true
   },
   "outputs": [
    {
     "data": {
      "text/plain": [
       "AH      1\n",
       "2H      2\n",
       "3H      3\n",
       "4H      4\n",
       "5H      5\n",
       "6H      6\n",
       "7H      7\n",
       "8H      8\n",
       "9H      9\n",
       "10H    10\n",
       "JH     10\n",
       "KH     10\n",
       "QH     10\n",
       "dtype: int64"
      ]
     },
     "execution_count": 13,
     "metadata": {},
     "output_type": "execute_result"
    }
   ],
   "source": [
    "cards = []\n",
    "for suit in ['H', 'S', 'C', 'D']:\n",
    "    cards.extend(str(num) + suit for num in base_names)\n",
    "\n",
    "deck = Series(card_val, index=cards)\n",
    "deck[:13]"
   ]
  },
  {
   "cell_type": "code",
   "execution_count": 16,
   "metadata": {
    "collapsed": true
   },
   "outputs": [
    {
     "data": {
      "text/plain": [
       "4S    4\n",
       "3S    3\n",
       "5H    5\n",
       "3C    3\n",
       "2D    2\n",
       "dtype: int64"
      ]
     },
     "execution_count": 16,
     "metadata": {},
     "output_type": "execute_result"
    }
   ],
   "source": [
    "# 무작위로 카드 추출\n",
    "def draw(deck, n=5):\n",
    "    return deck.take(np.random.permutation(len(deck))[:n])\n",
    "draw(deck)"
   ]
  },
  {
   "cell_type": "code",
   "execution_count": 69,
   "metadata": {
    "collapsed": false
   },
   "outputs": [
    {
     "data": {
      "text/plain": [
       "C  10C    10\n",
       "   QC     10\n",
       "D  7D      7\n",
       "   2D      2\n",
       "H  2H      2\n",
       "   7H      7\n",
       "S  KS     10\n",
       "   QS     10\n",
       "dtype: int64"
      ]
     },
     "execution_count": 69,
     "metadata": {},
     "output_type": "execute_result"
    }
   ],
   "source": [
    "get_suit = lambda card: card[-1] # 카드 문양 추출\n",
    "# 각 무늬별 카드 2장 무작위로 추출\n",
    "deck.groupby(get_suit).apply(draw, n=2)"
   ]
  },
  {
   "cell_type": "code",
   "execution_count": null,
   "metadata": {
    "collapsed": false
   },
   "outputs": [],
   "source": [
    "# 같은 작업, 다른 스타일\n",
    "deck.groupby(get_suit, group_keys=False).apply(draw, n=2)"
   ]
  },
  {
   "cell_type": "markdown",
   "metadata": {},
   "source": [
    "### 예제: 그룹 가중 평균과 상관관계"
   ]
  },
  {
   "cell_type": "code",
   "execution_count": 17,
   "metadata": {
    "collapsed": false
   },
   "outputs": [
    {
     "data": {
      "text/html": [
       "<div style=\"max-height:1000px;max-width:1500px;overflow:auto;\">\n",
       "<table border=\"1\" class=\"dataframe\">\n",
       "  <thead>\n",
       "    <tr style=\"text-align: right;\">\n",
       "      <th></th>\n",
       "      <th>category</th>\n",
       "      <th>data</th>\n",
       "      <th>weights</th>\n",
       "    </tr>\n",
       "  </thead>\n",
       "  <tbody>\n",
       "    <tr>\n",
       "      <th>0</th>\n",
       "      <td>a</td>\n",
       "      <td>-0.024116</td>\n",
       "      <td>0.353566</td>\n",
       "    </tr>\n",
       "    <tr>\n",
       "      <th>1</th>\n",
       "      <td>a</td>\n",
       "      <td>1.462648</td>\n",
       "      <td>0.650852</td>\n",
       "    </tr>\n",
       "    <tr>\n",
       "      <th>2</th>\n",
       "      <td>a</td>\n",
       "      <td>-1.651593</td>\n",
       "      <td>0.312933</td>\n",
       "    </tr>\n",
       "    <tr>\n",
       "      <th>3</th>\n",
       "      <td>a</td>\n",
       "      <td>0.221755</td>\n",
       "      <td>0.768735</td>\n",
       "    </tr>\n",
       "    <tr>\n",
       "      <th>4</th>\n",
       "      <td>b</td>\n",
       "      <td>-0.838210</td>\n",
       "      <td>0.781837</td>\n",
       "    </tr>\n",
       "    <tr>\n",
       "      <th>5</th>\n",
       "      <td>b</td>\n",
       "      <td>1.396553</td>\n",
       "      <td>0.852409</td>\n",
       "    </tr>\n",
       "    <tr>\n",
       "      <th>6</th>\n",
       "      <td>b</td>\n",
       "      <td>-1.553775</td>\n",
       "      <td>0.949906</td>\n",
       "    </tr>\n",
       "    <tr>\n",
       "      <th>7</th>\n",
       "      <td>b</td>\n",
       "      <td>-0.007680</td>\n",
       "      <td>0.107323</td>\n",
       "    </tr>\n",
       "  </tbody>\n",
       "</table>\n",
       "</div>"
      ],
      "text/plain": [
       "  category      data   weights\n",
       "0        a -0.024116  0.353566\n",
       "1        a  1.462648  0.650852\n",
       "2        a -1.651593  0.312933\n",
       "3        a  0.221755  0.768735\n",
       "4        b -0.838210  0.781837\n",
       "5        b  1.396553  0.852409\n",
       "6        b -1.553775  0.949906\n",
       "7        b -0.007680  0.107323"
      ]
     },
     "execution_count": 17,
     "metadata": {},
     "output_type": "execute_result"
    }
   ],
   "source": [
    "df = DataFrame({'category': ['a', 'a', 'a', 'a', 'b', 'b', 'b', 'b'],\n",
    "                'data': np.random.randn(8),\n",
    "                'weights': np.random.rand(8)})\n",
    "df"
   ]
  },
  {
   "cell_type": "code",
   "execution_count": 18,
   "metadata": {
    "collapsed": true
   },
   "outputs": [],
   "source": [
    "np.average? # 가중평균"
   ]
  },
  {
   "cell_type": "code",
   "execution_count": 19,
   "metadata": {
    "collapsed": true
   },
   "outputs": [
    {
     "data": {
      "text/plain": [
       "category\n",
       "a    0.286217\n",
       "b   -0.349872\n",
       "dtype: float64"
      ]
     },
     "execution_count": 19,
     "metadata": {},
     "output_type": "execute_result"
    }
   ],
   "source": [
    "grouped = df.groupby('category')\n",
    "# 각 그룹에서 'data'열을 추출해 np.average의 weights를 \n",
    "# 해당 그룹의 'weights' 값으로 선택해 연산 수행\n",
    "get_wavg = lambda g: np.average(g['data'], weights=g['weights'])\n",
    "grouped.apply(get_wavg)"
   ]
  },
  {
   "cell_type": "markdown",
   "metadata": {},
   "source": [
    "S&P 500 지수 종가 데이터 분석"
   ]
  },
  {
   "cell_type": "code",
   "execution_count": 27,
   "metadata": {
    "collapsed": true
   },
   "outputs": [
    {
     "data": {
      "text/html": [
       "<div style=\"max-height:1000px;max-width:1500px;overflow:auto;\">\n",
       "<table border=\"1\" class=\"dataframe\">\n",
       "  <thead>\n",
       "    <tr style=\"text-align: right;\">\n",
       "      <th></th>\n",
       "      <th>AAPL</th>\n",
       "      <th>MSFT</th>\n",
       "      <th>XOM</th>\n",
       "      <th>SPX</th>\n",
       "    </tr>\n",
       "  </thead>\n",
       "  <tbody>\n",
       "    <tr>\n",
       "      <th>2003-01-02</th>\n",
       "      <td>7.40</td>\n",
       "      <td>21.11</td>\n",
       "      <td>29.22</td>\n",
       "      <td>909.03</td>\n",
       "    </tr>\n",
       "    <tr>\n",
       "      <th>2003-01-03</th>\n",
       "      <td>7.45</td>\n",
       "      <td>21.14</td>\n",
       "      <td>29.24</td>\n",
       "      <td>908.59</td>\n",
       "    </tr>\n",
       "    <tr>\n",
       "      <th>2003-01-06</th>\n",
       "      <td>7.45</td>\n",
       "      <td>21.52</td>\n",
       "      <td>29.96</td>\n",
       "      <td>929.01</td>\n",
       "    </tr>\n",
       "    <tr>\n",
       "      <th>2003-01-07</th>\n",
       "      <td>7.43</td>\n",
       "      <td>21.93</td>\n",
       "      <td>28.95</td>\n",
       "      <td>922.93</td>\n",
       "    </tr>\n",
       "    <tr>\n",
       "      <th>2003-01-08</th>\n",
       "      <td>7.28</td>\n",
       "      <td>21.31</td>\n",
       "      <td>28.83</td>\n",
       "      <td>909.93</td>\n",
       "    </tr>\n",
       "    <tr>\n",
       "      <th>2003-01-09</th>\n",
       "      <td>7.34</td>\n",
       "      <td>21.93</td>\n",
       "      <td>29.44</td>\n",
       "      <td>927.57</td>\n",
       "    </tr>\n",
       "    <tr>\n",
       "      <th>2003-01-10</th>\n",
       "      <td>7.36</td>\n",
       "      <td>21.97</td>\n",
       "      <td>29.03</td>\n",
       "      <td>927.57</td>\n",
       "    </tr>\n",
       "    <tr>\n",
       "      <th>2003-01-13</th>\n",
       "      <td>7.32</td>\n",
       "      <td>22.16</td>\n",
       "      <td>28.91</td>\n",
       "      <td>926.26</td>\n",
       "    </tr>\n",
       "    <tr>\n",
       "      <th>2003-01-14</th>\n",
       "      <td>7.30</td>\n",
       "      <td>22.39</td>\n",
       "      <td>29.17</td>\n",
       "      <td>931.66</td>\n",
       "    </tr>\n",
       "    <tr>\n",
       "      <th>2003-01-15</th>\n",
       "      <td>7.22</td>\n",
       "      <td>22.11</td>\n",
       "      <td>28.77</td>\n",
       "      <td>918.22</td>\n",
       "    </tr>\n",
       "    <tr>\n",
       "      <th>2003-01-16</th>\n",
       "      <td>7.31</td>\n",
       "      <td>21.75</td>\n",
       "      <td>28.90</td>\n",
       "      <td>914.60</td>\n",
       "    </tr>\n",
       "    <tr>\n",
       "      <th>2003-01-17</th>\n",
       "      <td>7.05</td>\n",
       "      <td>20.22</td>\n",
       "      <td>28.60</td>\n",
       "      <td>901.78</td>\n",
       "    </tr>\n",
       "    <tr>\n",
       "      <th>2003-01-21</th>\n",
       "      <td>7.01</td>\n",
       "      <td>20.17</td>\n",
       "      <td>27.94</td>\n",
       "      <td>887.62</td>\n",
       "    </tr>\n",
       "    <tr>\n",
       "      <th>2003-01-22</th>\n",
       "      <td>6.94</td>\n",
       "      <td>20.04</td>\n",
       "      <td>27.58</td>\n",
       "      <td>878.36</td>\n",
       "    </tr>\n",
       "    <tr>\n",
       "      <th>2003-01-23</th>\n",
       "      <td>7.09</td>\n",
       "      <td>20.54</td>\n",
       "      <td>27.52</td>\n",
       "      <td>887.34</td>\n",
       "    </tr>\n",
       "    <tr>\n",
       "      <th>2003-01-24</th>\n",
       "      <td>6.90</td>\n",
       "      <td>19.59</td>\n",
       "      <td>26.93</td>\n",
       "      <td>861.40</td>\n",
       "    </tr>\n",
       "    <tr>\n",
       "      <th>2003-01-27</th>\n",
       "      <td>7.07</td>\n",
       "      <td>19.32</td>\n",
       "      <td>26.21</td>\n",
       "      <td>847.48</td>\n",
       "    </tr>\n",
       "    <tr>\n",
       "      <th>2003-01-28</th>\n",
       "      <td>7.29</td>\n",
       "      <td>19.18</td>\n",
       "      <td>26.90</td>\n",
       "      <td>858.54</td>\n",
       "    </tr>\n",
       "    <tr>\n",
       "      <th>2003-01-29</th>\n",
       "      <td>7.47</td>\n",
       "      <td>19.61</td>\n",
       "      <td>27.88</td>\n",
       "      <td>864.36</td>\n",
       "    </tr>\n",
       "    <tr>\n",
       "      <th>2003-01-30</th>\n",
       "      <td>7.16</td>\n",
       "      <td>18.95</td>\n",
       "      <td>27.37</td>\n",
       "      <td>844.61</td>\n",
       "    </tr>\n",
       "    <tr>\n",
       "      <th>2003-01-31</th>\n",
       "      <td>7.18</td>\n",
       "      <td>18.65</td>\n",
       "      <td>28.13</td>\n",
       "      <td>855.70</td>\n",
       "    </tr>\n",
       "    <tr>\n",
       "      <th>2003-02-03</th>\n",
       "      <td>7.33</td>\n",
       "      <td>19.08</td>\n",
       "      <td>28.52</td>\n",
       "      <td>860.32</td>\n",
       "    </tr>\n",
       "    <tr>\n",
       "      <th>2003-02-04</th>\n",
       "      <td>7.30</td>\n",
       "      <td>18.59</td>\n",
       "      <td>28.52</td>\n",
       "      <td>848.20</td>\n",
       "    </tr>\n",
       "    <tr>\n",
       "      <th>2003-02-05</th>\n",
       "      <td>7.22</td>\n",
       "      <td>18.45</td>\n",
       "      <td>28.11</td>\n",
       "      <td>843.59</td>\n",
       "    </tr>\n",
       "    <tr>\n",
       "      <th>2003-02-06</th>\n",
       "      <td>7.22</td>\n",
       "      <td>18.63</td>\n",
       "      <td>27.87</td>\n",
       "      <td>838.15</td>\n",
       "    </tr>\n",
       "    <tr>\n",
       "      <th>2003-02-07</th>\n",
       "      <td>7.07</td>\n",
       "      <td>18.30</td>\n",
       "      <td>27.66</td>\n",
       "      <td>829.69</td>\n",
       "    </tr>\n",
       "    <tr>\n",
       "      <th>2003-02-10</th>\n",
       "      <td>7.18</td>\n",
       "      <td>18.62</td>\n",
       "      <td>27.87</td>\n",
       "      <td>835.97</td>\n",
       "    </tr>\n",
       "    <tr>\n",
       "      <th>2003-02-11</th>\n",
       "      <td>7.18</td>\n",
       "      <td>18.25</td>\n",
       "      <td>27.67</td>\n",
       "      <td>829.20</td>\n",
       "    </tr>\n",
       "    <tr>\n",
       "      <th>2003-02-12</th>\n",
       "      <td>7.20</td>\n",
       "      <td>18.25</td>\n",
       "      <td>27.12</td>\n",
       "      <td>818.68</td>\n",
       "    </tr>\n",
       "    <tr>\n",
       "      <th>2003-02-13</th>\n",
       "      <td>7.27</td>\n",
       "      <td>18.46</td>\n",
       "      <td>27.47</td>\n",
       "      <td>817.37</td>\n",
       "    </tr>\n",
       "    <tr>\n",
       "      <th>...</th>\n",
       "      <td>...</td>\n",
       "      <td>...</td>\n",
       "      <td>...</td>\n",
       "      <td>...</td>\n",
       "    </tr>\n",
       "    <tr>\n",
       "      <th>2011-09-02</th>\n",
       "      <td>374.05</td>\n",
       "      <td>25.80</td>\n",
       "      <td>72.14</td>\n",
       "      <td>1173.97</td>\n",
       "    </tr>\n",
       "    <tr>\n",
       "      <th>2011-09-06</th>\n",
       "      <td>379.74</td>\n",
       "      <td>25.51</td>\n",
       "      <td>71.15</td>\n",
       "      <td>1165.24</td>\n",
       "    </tr>\n",
       "    <tr>\n",
       "      <th>2011-09-07</th>\n",
       "      <td>383.93</td>\n",
       "      <td>26.00</td>\n",
       "      <td>73.65</td>\n",
       "      <td>1198.62</td>\n",
       "    </tr>\n",
       "    <tr>\n",
       "      <th>2011-09-08</th>\n",
       "      <td>384.14</td>\n",
       "      <td>26.22</td>\n",
       "      <td>72.82</td>\n",
       "      <td>1185.90</td>\n",
       "    </tr>\n",
       "    <tr>\n",
       "      <th>2011-09-09</th>\n",
       "      <td>377.48</td>\n",
       "      <td>25.74</td>\n",
       "      <td>71.01</td>\n",
       "      <td>1154.23</td>\n",
       "    </tr>\n",
       "    <tr>\n",
       "      <th>2011-09-12</th>\n",
       "      <td>379.94</td>\n",
       "      <td>25.89</td>\n",
       "      <td>71.84</td>\n",
       "      <td>1162.27</td>\n",
       "    </tr>\n",
       "    <tr>\n",
       "      <th>2011-09-13</th>\n",
       "      <td>384.62</td>\n",
       "      <td>26.04</td>\n",
       "      <td>71.65</td>\n",
       "      <td>1172.87</td>\n",
       "    </tr>\n",
       "    <tr>\n",
       "      <th>2011-09-14</th>\n",
       "      <td>389.30</td>\n",
       "      <td>26.50</td>\n",
       "      <td>72.64</td>\n",
       "      <td>1188.68</td>\n",
       "    </tr>\n",
       "    <tr>\n",
       "      <th>2011-09-15</th>\n",
       "      <td>392.96</td>\n",
       "      <td>26.99</td>\n",
       "      <td>74.01</td>\n",
       "      <td>1209.11</td>\n",
       "    </tr>\n",
       "    <tr>\n",
       "      <th>2011-09-16</th>\n",
       "      <td>400.50</td>\n",
       "      <td>27.12</td>\n",
       "      <td>74.55</td>\n",
       "      <td>1216.01</td>\n",
       "    </tr>\n",
       "    <tr>\n",
       "      <th>2011-09-19</th>\n",
       "      <td>411.63</td>\n",
       "      <td>27.21</td>\n",
       "      <td>73.70</td>\n",
       "      <td>1204.09</td>\n",
       "    </tr>\n",
       "    <tr>\n",
       "      <th>2011-09-20</th>\n",
       "      <td>413.45</td>\n",
       "      <td>26.98</td>\n",
       "      <td>74.01</td>\n",
       "      <td>1202.09</td>\n",
       "    </tr>\n",
       "    <tr>\n",
       "      <th>2011-09-21</th>\n",
       "      <td>412.14</td>\n",
       "      <td>25.99</td>\n",
       "      <td>71.97</td>\n",
       "      <td>1166.76</td>\n",
       "    </tr>\n",
       "    <tr>\n",
       "      <th>2011-09-22</th>\n",
       "      <td>401.82</td>\n",
       "      <td>25.06</td>\n",
       "      <td>69.24</td>\n",
       "      <td>1129.56</td>\n",
       "    </tr>\n",
       "    <tr>\n",
       "      <th>2011-09-23</th>\n",
       "      <td>404.30</td>\n",
       "      <td>25.06</td>\n",
       "      <td>69.31</td>\n",
       "      <td>1136.43</td>\n",
       "    </tr>\n",
       "    <tr>\n",
       "      <th>2011-09-26</th>\n",
       "      <td>403.17</td>\n",
       "      <td>25.44</td>\n",
       "      <td>71.72</td>\n",
       "      <td>1162.95</td>\n",
       "    </tr>\n",
       "    <tr>\n",
       "      <th>2011-09-27</th>\n",
       "      <td>399.26</td>\n",
       "      <td>25.67</td>\n",
       "      <td>72.91</td>\n",
       "      <td>1175.38</td>\n",
       "    </tr>\n",
       "    <tr>\n",
       "      <th>2011-09-28</th>\n",
       "      <td>397.01</td>\n",
       "      <td>25.58</td>\n",
       "      <td>72.07</td>\n",
       "      <td>1151.06</td>\n",
       "    </tr>\n",
       "    <tr>\n",
       "      <th>2011-09-29</th>\n",
       "      <td>390.57</td>\n",
       "      <td>25.45</td>\n",
       "      <td>73.88</td>\n",
       "      <td>1160.40</td>\n",
       "    </tr>\n",
       "    <tr>\n",
       "      <th>2011-09-30</th>\n",
       "      <td>381.32</td>\n",
       "      <td>24.89</td>\n",
       "      <td>72.63</td>\n",
       "      <td>1131.42</td>\n",
       "    </tr>\n",
       "    <tr>\n",
       "      <th>2011-10-03</th>\n",
       "      <td>374.60</td>\n",
       "      <td>24.53</td>\n",
       "      <td>71.15</td>\n",
       "      <td>1099.23</td>\n",
       "    </tr>\n",
       "    <tr>\n",
       "      <th>2011-10-04</th>\n",
       "      <td>372.50</td>\n",
       "      <td>25.34</td>\n",
       "      <td>72.83</td>\n",
       "      <td>1123.95</td>\n",
       "    </tr>\n",
       "    <tr>\n",
       "      <th>2011-10-05</th>\n",
       "      <td>378.25</td>\n",
       "      <td>25.89</td>\n",
       "      <td>73.95</td>\n",
       "      <td>1144.03</td>\n",
       "    </tr>\n",
       "    <tr>\n",
       "      <th>2011-10-06</th>\n",
       "      <td>377.37</td>\n",
       "      <td>26.34</td>\n",
       "      <td>73.89</td>\n",
       "      <td>1164.97</td>\n",
       "    </tr>\n",
       "    <tr>\n",
       "      <th>2011-10-07</th>\n",
       "      <td>369.80</td>\n",
       "      <td>26.25</td>\n",
       "      <td>73.56</td>\n",
       "      <td>1155.46</td>\n",
       "    </tr>\n",
       "    <tr>\n",
       "      <th>2011-10-10</th>\n",
       "      <td>388.81</td>\n",
       "      <td>26.94</td>\n",
       "      <td>76.28</td>\n",
       "      <td>1194.89</td>\n",
       "    </tr>\n",
       "    <tr>\n",
       "      <th>2011-10-11</th>\n",
       "      <td>400.29</td>\n",
       "      <td>27.00</td>\n",
       "      <td>76.27</td>\n",
       "      <td>1195.54</td>\n",
       "    </tr>\n",
       "    <tr>\n",
       "      <th>2011-10-12</th>\n",
       "      <td>402.19</td>\n",
       "      <td>26.96</td>\n",
       "      <td>77.16</td>\n",
       "      <td>1207.25</td>\n",
       "    </tr>\n",
       "    <tr>\n",
       "      <th>2011-10-13</th>\n",
       "      <td>408.43</td>\n",
       "      <td>27.18</td>\n",
       "      <td>76.37</td>\n",
       "      <td>1203.66</td>\n",
       "    </tr>\n",
       "    <tr>\n",
       "      <th>2011-10-14</th>\n",
       "      <td>422.00</td>\n",
       "      <td>27.27</td>\n",
       "      <td>78.11</td>\n",
       "      <td>1224.58</td>\n",
       "    </tr>\n",
       "  </tbody>\n",
       "</table>\n",
       "<p>2214 rows × 4 columns</p>\n",
       "</div>"
      ],
      "text/plain": [
       "              AAPL   MSFT    XOM      SPX\n",
       "2003-01-02    7.40  21.11  29.22   909.03\n",
       "2003-01-03    7.45  21.14  29.24   908.59\n",
       "2003-01-06    7.45  21.52  29.96   929.01\n",
       "2003-01-07    7.43  21.93  28.95   922.93\n",
       "2003-01-08    7.28  21.31  28.83   909.93\n",
       "2003-01-09    7.34  21.93  29.44   927.57\n",
       "2003-01-10    7.36  21.97  29.03   927.57\n",
       "2003-01-13    7.32  22.16  28.91   926.26\n",
       "2003-01-14    7.30  22.39  29.17   931.66\n",
       "2003-01-15    7.22  22.11  28.77   918.22\n",
       "2003-01-16    7.31  21.75  28.90   914.60\n",
       "2003-01-17    7.05  20.22  28.60   901.78\n",
       "2003-01-21    7.01  20.17  27.94   887.62\n",
       "2003-01-22    6.94  20.04  27.58   878.36\n",
       "2003-01-23    7.09  20.54  27.52   887.34\n",
       "2003-01-24    6.90  19.59  26.93   861.40\n",
       "2003-01-27    7.07  19.32  26.21   847.48\n",
       "2003-01-28    7.29  19.18  26.90   858.54\n",
       "2003-01-29    7.47  19.61  27.88   864.36\n",
       "2003-01-30    7.16  18.95  27.37   844.61\n",
       "2003-01-31    7.18  18.65  28.13   855.70\n",
       "2003-02-03    7.33  19.08  28.52   860.32\n",
       "2003-02-04    7.30  18.59  28.52   848.20\n",
       "2003-02-05    7.22  18.45  28.11   843.59\n",
       "2003-02-06    7.22  18.63  27.87   838.15\n",
       "2003-02-07    7.07  18.30  27.66   829.69\n",
       "2003-02-10    7.18  18.62  27.87   835.97\n",
       "2003-02-11    7.18  18.25  27.67   829.20\n",
       "2003-02-12    7.20  18.25  27.12   818.68\n",
       "2003-02-13    7.27  18.46  27.47   817.37\n",
       "...            ...    ...    ...      ...\n",
       "2011-09-02  374.05  25.80  72.14  1173.97\n",
       "2011-09-06  379.74  25.51  71.15  1165.24\n",
       "2011-09-07  383.93  26.00  73.65  1198.62\n",
       "2011-09-08  384.14  26.22  72.82  1185.90\n",
       "2011-09-09  377.48  25.74  71.01  1154.23\n",
       "2011-09-12  379.94  25.89  71.84  1162.27\n",
       "2011-09-13  384.62  26.04  71.65  1172.87\n",
       "2011-09-14  389.30  26.50  72.64  1188.68\n",
       "2011-09-15  392.96  26.99  74.01  1209.11\n",
       "2011-09-16  400.50  27.12  74.55  1216.01\n",
       "2011-09-19  411.63  27.21  73.70  1204.09\n",
       "2011-09-20  413.45  26.98  74.01  1202.09\n",
       "2011-09-21  412.14  25.99  71.97  1166.76\n",
       "2011-09-22  401.82  25.06  69.24  1129.56\n",
       "2011-09-23  404.30  25.06  69.31  1136.43\n",
       "2011-09-26  403.17  25.44  71.72  1162.95\n",
       "2011-09-27  399.26  25.67  72.91  1175.38\n",
       "2011-09-28  397.01  25.58  72.07  1151.06\n",
       "2011-09-29  390.57  25.45  73.88  1160.40\n",
       "2011-09-30  381.32  24.89  72.63  1131.42\n",
       "2011-10-03  374.60  24.53  71.15  1099.23\n",
       "2011-10-04  372.50  25.34  72.83  1123.95\n",
       "2011-10-05  378.25  25.89  73.95  1144.03\n",
       "2011-10-06  377.37  26.34  73.89  1164.97\n",
       "2011-10-07  369.80  26.25  73.56  1155.46\n",
       "2011-10-10  388.81  26.94  76.28  1194.89\n",
       "2011-10-11  400.29  27.00  76.27  1195.54\n",
       "2011-10-12  402.19  26.96  77.16  1207.25\n",
       "2011-10-13  408.43  27.18  76.37  1203.66\n",
       "2011-10-14  422.00  27.27  78.11  1224.58\n",
       "\n",
       "[2214 rows x 4 columns]"
      ]
     },
     "execution_count": 27,
     "metadata": {},
     "output_type": "execute_result"
    }
   ],
   "source": [
    "close_px = pd.read_csv('pydata/ch09/stock_px.csv',\n",
    "                      index_col=0, parse_dates=True)\n",
    "close_px"
   ]
  },
  {
   "cell_type": "code",
   "execution_count": 21,
   "metadata": {
    "collapsed": false
   },
   "outputs": [
    {
     "data": {
      "text/html": [
       "<div style=\"max-height:1000px;max-width:1500px;overflow:auto;\">\n",
       "<table border=\"1\" class=\"dataframe\">\n",
       "  <thead>\n",
       "    <tr style=\"text-align: right;\">\n",
       "      <th></th>\n",
       "      <th>AAPL</th>\n",
       "      <th>MSFT</th>\n",
       "      <th>XOM</th>\n",
       "      <th>SPX</th>\n",
       "    </tr>\n",
       "  </thead>\n",
       "  <tbody>\n",
       "    <tr>\n",
       "      <th>2011-10-11</th>\n",
       "      <td>400.29</td>\n",
       "      <td>27.00</td>\n",
       "      <td>76.27</td>\n",
       "      <td>1195.54</td>\n",
       "    </tr>\n",
       "    <tr>\n",
       "      <th>2011-10-12</th>\n",
       "      <td>402.19</td>\n",
       "      <td>26.96</td>\n",
       "      <td>77.16</td>\n",
       "      <td>1207.25</td>\n",
       "    </tr>\n",
       "    <tr>\n",
       "      <th>2011-10-13</th>\n",
       "      <td>408.43</td>\n",
       "      <td>27.18</td>\n",
       "      <td>76.37</td>\n",
       "      <td>1203.66</td>\n",
       "    </tr>\n",
       "    <tr>\n",
       "      <th>2011-10-14</th>\n",
       "      <td>422.00</td>\n",
       "      <td>27.27</td>\n",
       "      <td>78.11</td>\n",
       "      <td>1224.58</td>\n",
       "    </tr>\n",
       "  </tbody>\n",
       "</table>\n",
       "</div>"
      ],
      "text/plain": [
       "              AAPL   MSFT    XOM      SPX\n",
       "2011-10-11  400.29  27.00  76.27  1195.54\n",
       "2011-10-12  402.19  26.96  77.16  1207.25\n",
       "2011-10-13  408.43  27.18  76.37  1203.66\n",
       "2011-10-14  422.00  27.27  78.11  1224.58"
      ]
     },
     "execution_count": 21,
     "metadata": {},
     "output_type": "execute_result"
    }
   ],
   "source": [
    "close_px[-4:]"
   ]
  },
  {
   "cell_type": "code",
   "execution_count": 28,
   "metadata": {
    "collapsed": false
   },
   "outputs": [
    {
     "data": {
      "text/html": [
       "<div style=\"max-height:1000px;max-width:1500px;overflow:auto;\">\n",
       "<table border=\"1\" class=\"dataframe\">\n",
       "  <thead>\n",
       "    <tr style=\"text-align: right;\">\n",
       "      <th></th>\n",
       "      <th>AAPL</th>\n",
       "      <th>MSFT</th>\n",
       "      <th>XOM</th>\n",
       "      <th>SPX</th>\n",
       "    </tr>\n",
       "  </thead>\n",
       "  <tbody>\n",
       "    <tr>\n",
       "      <th>2003-01-03</th>\n",
       "      <td>0.006757</td>\n",
       "      <td>0.001421</td>\n",
       "      <td>0.000684</td>\n",
       "      <td>-0.000484</td>\n",
       "    </tr>\n",
       "    <tr>\n",
       "      <th>2003-01-06</th>\n",
       "      <td>0.000000</td>\n",
       "      <td>0.017975</td>\n",
       "      <td>0.024624</td>\n",
       "      <td>0.022474</td>\n",
       "    </tr>\n",
       "    <tr>\n",
       "      <th>2003-01-07</th>\n",
       "      <td>-0.002685</td>\n",
       "      <td>0.019052</td>\n",
       "      <td>-0.033712</td>\n",
       "      <td>-0.006545</td>\n",
       "    </tr>\n",
       "  </tbody>\n",
       "</table>\n",
       "</div>"
      ],
      "text/plain": [
       "                AAPL      MSFT       XOM       SPX\n",
       "2003-01-03  0.006757  0.001421  0.000684 -0.000484\n",
       "2003-01-06  0.000000  0.017975  0.024624  0.022474\n",
       "2003-01-07 -0.002685  0.019052 -0.033712 -0.006545"
      ]
     },
     "execution_count": 28,
     "metadata": {},
     "output_type": "execute_result"
    }
   ],
   "source": [
    "rets = close_px.pct_change().dropna()\n",
    "rets[:3]"
   ]
  },
  {
   "cell_type": "markdown",
   "metadata": {},
   "source": [
    "groupby의 그룹 기준을 함수로 하는 경우"
   ]
  },
  {
   "cell_type": "code",
   "execution_count": 29,
   "metadata": {
    "collapsed": true
   },
   "outputs": [],
   "source": [
    "# 연도별로 데이터 분류\n",
    "by_year = rets.groupby(lambda idx: idx.year)"
   ]
  },
  {
   "cell_type": "code",
   "execution_count": 31,
   "metadata": {
    "collapsed": true
   },
   "outputs": [
    {
     "data": {
      "text/html": [
       "<div style=\"max-height:1000px;max-width:1500px;overflow:auto;\">\n",
       "<table border=\"1\" class=\"dataframe\">\n",
       "  <thead>\n",
       "    <tr style=\"text-align: right;\">\n",
       "      <th></th>\n",
       "      <th>AAPL</th>\n",
       "      <th>MSFT</th>\n",
       "      <th>XOM</th>\n",
       "      <th>SPX</th>\n",
       "    </tr>\n",
       "  </thead>\n",
       "  <tbody>\n",
       "    <tr>\n",
       "      <th>2003</th>\n",
       "      <td>0.541124</td>\n",
       "      <td>0.745174</td>\n",
       "      <td>0.661265</td>\n",
       "      <td>1</td>\n",
       "    </tr>\n",
       "    <tr>\n",
       "      <th>2004</th>\n",
       "      <td>0.374283</td>\n",
       "      <td>0.588531</td>\n",
       "      <td>0.557742</td>\n",
       "      <td>1</td>\n",
       "    </tr>\n",
       "    <tr>\n",
       "      <th>2005</th>\n",
       "      <td>0.467540</td>\n",
       "      <td>0.562374</td>\n",
       "      <td>0.631010</td>\n",
       "      <td>1</td>\n",
       "    </tr>\n",
       "    <tr>\n",
       "      <th>2006</th>\n",
       "      <td>0.428267</td>\n",
       "      <td>0.406126</td>\n",
       "      <td>0.518514</td>\n",
       "      <td>1</td>\n",
       "    </tr>\n",
       "    <tr>\n",
       "      <th>2007</th>\n",
       "      <td>0.508118</td>\n",
       "      <td>0.658770</td>\n",
       "      <td>0.786264</td>\n",
       "      <td>1</td>\n",
       "    </tr>\n",
       "    <tr>\n",
       "      <th>2008</th>\n",
       "      <td>0.681434</td>\n",
       "      <td>0.804626</td>\n",
       "      <td>0.828303</td>\n",
       "      <td>1</td>\n",
       "    </tr>\n",
       "    <tr>\n",
       "      <th>2009</th>\n",
       "      <td>0.707103</td>\n",
       "      <td>0.654902</td>\n",
       "      <td>0.797921</td>\n",
       "      <td>1</td>\n",
       "    </tr>\n",
       "    <tr>\n",
       "      <th>2010</th>\n",
       "      <td>0.710105</td>\n",
       "      <td>0.730118</td>\n",
       "      <td>0.839057</td>\n",
       "      <td>1</td>\n",
       "    </tr>\n",
       "    <tr>\n",
       "      <th>2011</th>\n",
       "      <td>0.691931</td>\n",
       "      <td>0.800996</td>\n",
       "      <td>0.859975</td>\n",
       "      <td>1</td>\n",
       "    </tr>\n",
       "  </tbody>\n",
       "</table>\n",
       "</div>"
      ],
      "text/plain": [
       "          AAPL      MSFT       XOM  SPX\n",
       "2003  0.541124  0.745174  0.661265    1\n",
       "2004  0.374283  0.588531  0.557742    1\n",
       "2005  0.467540  0.562374  0.631010    1\n",
       "2006  0.428267  0.406126  0.518514    1\n",
       "2007  0.508118  0.658770  0.786264    1\n",
       "2008  0.681434  0.804626  0.828303    1\n",
       "2009  0.707103  0.654902  0.797921    1\n",
       "2010  0.710105  0.730118  0.839057    1\n",
       "2011  0.691931  0.800996  0.859975    1"
      ]
     },
     "execution_count": 31,
     "metadata": {},
     "output_type": "execute_result"
    }
   ],
   "source": [
    "# 연도별 분류에 분석 함수 적용\n",
    "spx_corr = lambda g: g.corrwith(g['SPX'])\n",
    "by_year.apply(spx_corr)"
   ]
  },
  {
   "cell_type": "code",
   "execution_count": 23,
   "metadata": {
    "collapsed": false
   },
   "outputs": [
    {
     "data": {
      "text/plain": [
       "2003    0.480868\n",
       "2004    0.259024\n",
       "2005    0.300093\n",
       "2006    0.161735\n",
       "2007    0.417738\n",
       "2008    0.611901\n",
       "2009    0.432738\n",
       "2010    0.571946\n",
       "2011    0.581987\n",
       "dtype: float64"
      ]
     },
     "execution_count": 23,
     "metadata": {},
     "output_type": "execute_result"
    }
   ],
   "source": [
    "by_year.apply(lambda g: g['AAPL'].corr(g['MSFT']))"
   ]
  },
  {
   "cell_type": "markdown",
   "metadata": {},
   "source": [
    "### 예제: 그룹 간 선형회기"
   ]
  },
  {
   "cell_type": "code",
   "execution_count": null,
   "metadata": {
    "collapsed": false
   },
   "outputs": [],
   "source": [
    "import statsmodels.api as sm\n",
    "def regress(data, yvar, xvars):\n",
    "    Y = data[yvar]\n",
    "    X = data[xvars]\n",
    "    X['intercept'] = 1.\n",
    "    result = sm.OLS(Y, X).fit()\n",
    "    return result.params"
   ]
  },
  {
   "cell_type": "code",
   "execution_count": null,
   "metadata": {
    "collapsed": false
   },
   "outputs": [],
   "source": [
    "by_year.apply(regress, 'AAPL', ['SPX'])"
   ]
  },
  {
   "cell_type": "markdown",
   "metadata": {},
   "source": [
    "### 피벗테이블"
   ]
  },
  {
   "cell_type": "code",
   "execution_count": 32,
   "metadata": {
    "collapsed": true
   },
   "outputs": [
    {
     "data": {
      "text/html": [
       "<div style=\"max-height:1000px;max-width:1500px;overflow:auto;\">\n",
       "<table border=\"1\" class=\"dataframe\">\n",
       "  <thead>\n",
       "    <tr style=\"text-align: right;\">\n",
       "      <th></th>\n",
       "      <th>total_bill</th>\n",
       "      <th>tip</th>\n",
       "      <th>sex</th>\n",
       "      <th>smoker</th>\n",
       "      <th>day</th>\n",
       "      <th>time</th>\n",
       "      <th>size</th>\n",
       "    </tr>\n",
       "  </thead>\n",
       "  <tbody>\n",
       "    <tr>\n",
       "      <th>0</th>\n",
       "      <td>16.99</td>\n",
       "      <td>1.01</td>\n",
       "      <td>Female</td>\n",
       "      <td>No</td>\n",
       "      <td>Sun</td>\n",
       "      <td>Dinner</td>\n",
       "      <td>2</td>\n",
       "    </tr>\n",
       "    <tr>\n",
       "      <th>1</th>\n",
       "      <td>10.34</td>\n",
       "      <td>1.66</td>\n",
       "      <td>Male</td>\n",
       "      <td>No</td>\n",
       "      <td>Sun</td>\n",
       "      <td>Dinner</td>\n",
       "      <td>3</td>\n",
       "    </tr>\n",
       "    <tr>\n",
       "      <th>2</th>\n",
       "      <td>21.01</td>\n",
       "      <td>3.50</td>\n",
       "      <td>Male</td>\n",
       "      <td>No</td>\n",
       "      <td>Sun</td>\n",
       "      <td>Dinner</td>\n",
       "      <td>3</td>\n",
       "    </tr>\n",
       "    <tr>\n",
       "      <th>3</th>\n",
       "      <td>23.68</td>\n",
       "      <td>3.31</td>\n",
       "      <td>Male</td>\n",
       "      <td>No</td>\n",
       "      <td>Sun</td>\n",
       "      <td>Dinner</td>\n",
       "      <td>2</td>\n",
       "    </tr>\n",
       "    <tr>\n",
       "      <th>4</th>\n",
       "      <td>24.59</td>\n",
       "      <td>3.61</td>\n",
       "      <td>Female</td>\n",
       "      <td>No</td>\n",
       "      <td>Sun</td>\n",
       "      <td>Dinner</td>\n",
       "      <td>4</td>\n",
       "    </tr>\n",
       "    <tr>\n",
       "      <th>5</th>\n",
       "      <td>25.29</td>\n",
       "      <td>4.71</td>\n",
       "      <td>Male</td>\n",
       "      <td>No</td>\n",
       "      <td>Sun</td>\n",
       "      <td>Dinner</td>\n",
       "      <td>4</td>\n",
       "    </tr>\n",
       "    <tr>\n",
       "      <th>6</th>\n",
       "      <td>8.77</td>\n",
       "      <td>2.00</td>\n",
       "      <td>Male</td>\n",
       "      <td>No</td>\n",
       "      <td>Sun</td>\n",
       "      <td>Dinner</td>\n",
       "      <td>2</td>\n",
       "    </tr>\n",
       "    <tr>\n",
       "      <th>7</th>\n",
       "      <td>26.88</td>\n",
       "      <td>3.12</td>\n",
       "      <td>Male</td>\n",
       "      <td>No</td>\n",
       "      <td>Sun</td>\n",
       "      <td>Dinner</td>\n",
       "      <td>4</td>\n",
       "    </tr>\n",
       "    <tr>\n",
       "      <th>8</th>\n",
       "      <td>15.04</td>\n",
       "      <td>1.96</td>\n",
       "      <td>Male</td>\n",
       "      <td>No</td>\n",
       "      <td>Sun</td>\n",
       "      <td>Dinner</td>\n",
       "      <td>2</td>\n",
       "    </tr>\n",
       "    <tr>\n",
       "      <th>9</th>\n",
       "      <td>14.78</td>\n",
       "      <td>3.23</td>\n",
       "      <td>Male</td>\n",
       "      <td>No</td>\n",
       "      <td>Sun</td>\n",
       "      <td>Dinner</td>\n",
       "      <td>2</td>\n",
       "    </tr>\n",
       "    <tr>\n",
       "      <th>10</th>\n",
       "      <td>10.27</td>\n",
       "      <td>1.71</td>\n",
       "      <td>Male</td>\n",
       "      <td>No</td>\n",
       "      <td>Sun</td>\n",
       "      <td>Dinner</td>\n",
       "      <td>2</td>\n",
       "    </tr>\n",
       "    <tr>\n",
       "      <th>11</th>\n",
       "      <td>35.26</td>\n",
       "      <td>5.00</td>\n",
       "      <td>Female</td>\n",
       "      <td>No</td>\n",
       "      <td>Sun</td>\n",
       "      <td>Dinner</td>\n",
       "      <td>4</td>\n",
       "    </tr>\n",
       "    <tr>\n",
       "      <th>12</th>\n",
       "      <td>15.42</td>\n",
       "      <td>1.57</td>\n",
       "      <td>Male</td>\n",
       "      <td>No</td>\n",
       "      <td>Sun</td>\n",
       "      <td>Dinner</td>\n",
       "      <td>2</td>\n",
       "    </tr>\n",
       "    <tr>\n",
       "      <th>13</th>\n",
       "      <td>18.43</td>\n",
       "      <td>3.00</td>\n",
       "      <td>Male</td>\n",
       "      <td>No</td>\n",
       "      <td>Sun</td>\n",
       "      <td>Dinner</td>\n",
       "      <td>4</td>\n",
       "    </tr>\n",
       "    <tr>\n",
       "      <th>14</th>\n",
       "      <td>14.83</td>\n",
       "      <td>3.02</td>\n",
       "      <td>Female</td>\n",
       "      <td>No</td>\n",
       "      <td>Sun</td>\n",
       "      <td>Dinner</td>\n",
       "      <td>2</td>\n",
       "    </tr>\n",
       "    <tr>\n",
       "      <th>15</th>\n",
       "      <td>21.58</td>\n",
       "      <td>3.92</td>\n",
       "      <td>Male</td>\n",
       "      <td>No</td>\n",
       "      <td>Sun</td>\n",
       "      <td>Dinner</td>\n",
       "      <td>2</td>\n",
       "    </tr>\n",
       "    <tr>\n",
       "      <th>16</th>\n",
       "      <td>10.33</td>\n",
       "      <td>1.67</td>\n",
       "      <td>Female</td>\n",
       "      <td>No</td>\n",
       "      <td>Sun</td>\n",
       "      <td>Dinner</td>\n",
       "      <td>3</td>\n",
       "    </tr>\n",
       "    <tr>\n",
       "      <th>17</th>\n",
       "      <td>16.29</td>\n",
       "      <td>3.71</td>\n",
       "      <td>Male</td>\n",
       "      <td>No</td>\n",
       "      <td>Sun</td>\n",
       "      <td>Dinner</td>\n",
       "      <td>3</td>\n",
       "    </tr>\n",
       "    <tr>\n",
       "      <th>18</th>\n",
       "      <td>16.97</td>\n",
       "      <td>3.50</td>\n",
       "      <td>Female</td>\n",
       "      <td>No</td>\n",
       "      <td>Sun</td>\n",
       "      <td>Dinner</td>\n",
       "      <td>3</td>\n",
       "    </tr>\n",
       "    <tr>\n",
       "      <th>19</th>\n",
       "      <td>20.65</td>\n",
       "      <td>3.35</td>\n",
       "      <td>Male</td>\n",
       "      <td>No</td>\n",
       "      <td>Sat</td>\n",
       "      <td>Dinner</td>\n",
       "      <td>3</td>\n",
       "    </tr>\n",
       "    <tr>\n",
       "      <th>20</th>\n",
       "      <td>17.92</td>\n",
       "      <td>4.08</td>\n",
       "      <td>Male</td>\n",
       "      <td>No</td>\n",
       "      <td>Sat</td>\n",
       "      <td>Dinner</td>\n",
       "      <td>2</td>\n",
       "    </tr>\n",
       "    <tr>\n",
       "      <th>21</th>\n",
       "      <td>20.29</td>\n",
       "      <td>2.75</td>\n",
       "      <td>Female</td>\n",
       "      <td>No</td>\n",
       "      <td>Sat</td>\n",
       "      <td>Dinner</td>\n",
       "      <td>2</td>\n",
       "    </tr>\n",
       "    <tr>\n",
       "      <th>22</th>\n",
       "      <td>15.77</td>\n",
       "      <td>2.23</td>\n",
       "      <td>Female</td>\n",
       "      <td>No</td>\n",
       "      <td>Sat</td>\n",
       "      <td>Dinner</td>\n",
       "      <td>2</td>\n",
       "    </tr>\n",
       "    <tr>\n",
       "      <th>23</th>\n",
       "      <td>39.42</td>\n",
       "      <td>7.58</td>\n",
       "      <td>Male</td>\n",
       "      <td>No</td>\n",
       "      <td>Sat</td>\n",
       "      <td>Dinner</td>\n",
       "      <td>4</td>\n",
       "    </tr>\n",
       "    <tr>\n",
       "      <th>24</th>\n",
       "      <td>19.82</td>\n",
       "      <td>3.18</td>\n",
       "      <td>Male</td>\n",
       "      <td>No</td>\n",
       "      <td>Sat</td>\n",
       "      <td>Dinner</td>\n",
       "      <td>2</td>\n",
       "    </tr>\n",
       "    <tr>\n",
       "      <th>25</th>\n",
       "      <td>17.81</td>\n",
       "      <td>2.34</td>\n",
       "      <td>Male</td>\n",
       "      <td>No</td>\n",
       "      <td>Sat</td>\n",
       "      <td>Dinner</td>\n",
       "      <td>4</td>\n",
       "    </tr>\n",
       "    <tr>\n",
       "      <th>26</th>\n",
       "      <td>13.37</td>\n",
       "      <td>2.00</td>\n",
       "      <td>Male</td>\n",
       "      <td>No</td>\n",
       "      <td>Sat</td>\n",
       "      <td>Dinner</td>\n",
       "      <td>2</td>\n",
       "    </tr>\n",
       "    <tr>\n",
       "      <th>27</th>\n",
       "      <td>12.69</td>\n",
       "      <td>2.00</td>\n",
       "      <td>Male</td>\n",
       "      <td>No</td>\n",
       "      <td>Sat</td>\n",
       "      <td>Dinner</td>\n",
       "      <td>2</td>\n",
       "    </tr>\n",
       "    <tr>\n",
       "      <th>28</th>\n",
       "      <td>21.70</td>\n",
       "      <td>4.30</td>\n",
       "      <td>Male</td>\n",
       "      <td>No</td>\n",
       "      <td>Sat</td>\n",
       "      <td>Dinner</td>\n",
       "      <td>2</td>\n",
       "    </tr>\n",
       "    <tr>\n",
       "      <th>29</th>\n",
       "      <td>19.65</td>\n",
       "      <td>3.00</td>\n",
       "      <td>Female</td>\n",
       "      <td>No</td>\n",
       "      <td>Sat</td>\n",
       "      <td>Dinner</td>\n",
       "      <td>2</td>\n",
       "    </tr>\n",
       "    <tr>\n",
       "      <th>...</th>\n",
       "      <td>...</td>\n",
       "      <td>...</td>\n",
       "      <td>...</td>\n",
       "      <td>...</td>\n",
       "      <td>...</td>\n",
       "      <td>...</td>\n",
       "      <td>...</td>\n",
       "    </tr>\n",
       "    <tr>\n",
       "      <th>214</th>\n",
       "      <td>28.17</td>\n",
       "      <td>6.50</td>\n",
       "      <td>Female</td>\n",
       "      <td>Yes</td>\n",
       "      <td>Sat</td>\n",
       "      <td>Dinner</td>\n",
       "      <td>3</td>\n",
       "    </tr>\n",
       "    <tr>\n",
       "      <th>215</th>\n",
       "      <td>12.90</td>\n",
       "      <td>1.10</td>\n",
       "      <td>Female</td>\n",
       "      <td>Yes</td>\n",
       "      <td>Sat</td>\n",
       "      <td>Dinner</td>\n",
       "      <td>2</td>\n",
       "    </tr>\n",
       "    <tr>\n",
       "      <th>216</th>\n",
       "      <td>28.15</td>\n",
       "      <td>3.00</td>\n",
       "      <td>Male</td>\n",
       "      <td>Yes</td>\n",
       "      <td>Sat</td>\n",
       "      <td>Dinner</td>\n",
       "      <td>5</td>\n",
       "    </tr>\n",
       "    <tr>\n",
       "      <th>217</th>\n",
       "      <td>11.59</td>\n",
       "      <td>1.50</td>\n",
       "      <td>Male</td>\n",
       "      <td>Yes</td>\n",
       "      <td>Sat</td>\n",
       "      <td>Dinner</td>\n",
       "      <td>2</td>\n",
       "    </tr>\n",
       "    <tr>\n",
       "      <th>218</th>\n",
       "      <td>7.74</td>\n",
       "      <td>1.44</td>\n",
       "      <td>Male</td>\n",
       "      <td>Yes</td>\n",
       "      <td>Sat</td>\n",
       "      <td>Dinner</td>\n",
       "      <td>2</td>\n",
       "    </tr>\n",
       "    <tr>\n",
       "      <th>219</th>\n",
       "      <td>30.14</td>\n",
       "      <td>3.09</td>\n",
       "      <td>Female</td>\n",
       "      <td>Yes</td>\n",
       "      <td>Sat</td>\n",
       "      <td>Dinner</td>\n",
       "      <td>4</td>\n",
       "    </tr>\n",
       "    <tr>\n",
       "      <th>220</th>\n",
       "      <td>12.16</td>\n",
       "      <td>2.20</td>\n",
       "      <td>Male</td>\n",
       "      <td>Yes</td>\n",
       "      <td>Fri</td>\n",
       "      <td>Lunch</td>\n",
       "      <td>2</td>\n",
       "    </tr>\n",
       "    <tr>\n",
       "      <th>221</th>\n",
       "      <td>13.42</td>\n",
       "      <td>3.48</td>\n",
       "      <td>Female</td>\n",
       "      <td>Yes</td>\n",
       "      <td>Fri</td>\n",
       "      <td>Lunch</td>\n",
       "      <td>2</td>\n",
       "    </tr>\n",
       "    <tr>\n",
       "      <th>222</th>\n",
       "      <td>8.58</td>\n",
       "      <td>1.92</td>\n",
       "      <td>Male</td>\n",
       "      <td>Yes</td>\n",
       "      <td>Fri</td>\n",
       "      <td>Lunch</td>\n",
       "      <td>1</td>\n",
       "    </tr>\n",
       "    <tr>\n",
       "      <th>223</th>\n",
       "      <td>15.98</td>\n",
       "      <td>3.00</td>\n",
       "      <td>Female</td>\n",
       "      <td>No</td>\n",
       "      <td>Fri</td>\n",
       "      <td>Lunch</td>\n",
       "      <td>3</td>\n",
       "    </tr>\n",
       "    <tr>\n",
       "      <th>224</th>\n",
       "      <td>13.42</td>\n",
       "      <td>1.58</td>\n",
       "      <td>Male</td>\n",
       "      <td>Yes</td>\n",
       "      <td>Fri</td>\n",
       "      <td>Lunch</td>\n",
       "      <td>2</td>\n",
       "    </tr>\n",
       "    <tr>\n",
       "      <th>225</th>\n",
       "      <td>16.27</td>\n",
       "      <td>2.50</td>\n",
       "      <td>Female</td>\n",
       "      <td>Yes</td>\n",
       "      <td>Fri</td>\n",
       "      <td>Lunch</td>\n",
       "      <td>2</td>\n",
       "    </tr>\n",
       "    <tr>\n",
       "      <th>226</th>\n",
       "      <td>10.09</td>\n",
       "      <td>2.00</td>\n",
       "      <td>Female</td>\n",
       "      <td>Yes</td>\n",
       "      <td>Fri</td>\n",
       "      <td>Lunch</td>\n",
       "      <td>2</td>\n",
       "    </tr>\n",
       "    <tr>\n",
       "      <th>227</th>\n",
       "      <td>20.45</td>\n",
       "      <td>3.00</td>\n",
       "      <td>Male</td>\n",
       "      <td>No</td>\n",
       "      <td>Sat</td>\n",
       "      <td>Dinner</td>\n",
       "      <td>4</td>\n",
       "    </tr>\n",
       "    <tr>\n",
       "      <th>228</th>\n",
       "      <td>13.28</td>\n",
       "      <td>2.72</td>\n",
       "      <td>Male</td>\n",
       "      <td>No</td>\n",
       "      <td>Sat</td>\n",
       "      <td>Dinner</td>\n",
       "      <td>2</td>\n",
       "    </tr>\n",
       "    <tr>\n",
       "      <th>229</th>\n",
       "      <td>22.12</td>\n",
       "      <td>2.88</td>\n",
       "      <td>Female</td>\n",
       "      <td>Yes</td>\n",
       "      <td>Sat</td>\n",
       "      <td>Dinner</td>\n",
       "      <td>2</td>\n",
       "    </tr>\n",
       "    <tr>\n",
       "      <th>230</th>\n",
       "      <td>24.01</td>\n",
       "      <td>2.00</td>\n",
       "      <td>Male</td>\n",
       "      <td>Yes</td>\n",
       "      <td>Sat</td>\n",
       "      <td>Dinner</td>\n",
       "      <td>4</td>\n",
       "    </tr>\n",
       "    <tr>\n",
       "      <th>231</th>\n",
       "      <td>15.69</td>\n",
       "      <td>3.00</td>\n",
       "      <td>Male</td>\n",
       "      <td>Yes</td>\n",
       "      <td>Sat</td>\n",
       "      <td>Dinner</td>\n",
       "      <td>3</td>\n",
       "    </tr>\n",
       "    <tr>\n",
       "      <th>232</th>\n",
       "      <td>11.61</td>\n",
       "      <td>3.39</td>\n",
       "      <td>Male</td>\n",
       "      <td>No</td>\n",
       "      <td>Sat</td>\n",
       "      <td>Dinner</td>\n",
       "      <td>2</td>\n",
       "    </tr>\n",
       "    <tr>\n",
       "      <th>233</th>\n",
       "      <td>10.77</td>\n",
       "      <td>1.47</td>\n",
       "      <td>Male</td>\n",
       "      <td>No</td>\n",
       "      <td>Sat</td>\n",
       "      <td>Dinner</td>\n",
       "      <td>2</td>\n",
       "    </tr>\n",
       "    <tr>\n",
       "      <th>234</th>\n",
       "      <td>15.53</td>\n",
       "      <td>3.00</td>\n",
       "      <td>Male</td>\n",
       "      <td>Yes</td>\n",
       "      <td>Sat</td>\n",
       "      <td>Dinner</td>\n",
       "      <td>2</td>\n",
       "    </tr>\n",
       "    <tr>\n",
       "      <th>235</th>\n",
       "      <td>10.07</td>\n",
       "      <td>1.25</td>\n",
       "      <td>Male</td>\n",
       "      <td>No</td>\n",
       "      <td>Sat</td>\n",
       "      <td>Dinner</td>\n",
       "      <td>2</td>\n",
       "    </tr>\n",
       "    <tr>\n",
       "      <th>236</th>\n",
       "      <td>12.60</td>\n",
       "      <td>1.00</td>\n",
       "      <td>Male</td>\n",
       "      <td>Yes</td>\n",
       "      <td>Sat</td>\n",
       "      <td>Dinner</td>\n",
       "      <td>2</td>\n",
       "    </tr>\n",
       "    <tr>\n",
       "      <th>237</th>\n",
       "      <td>32.83</td>\n",
       "      <td>1.17</td>\n",
       "      <td>Male</td>\n",
       "      <td>Yes</td>\n",
       "      <td>Sat</td>\n",
       "      <td>Dinner</td>\n",
       "      <td>2</td>\n",
       "    </tr>\n",
       "    <tr>\n",
       "      <th>238</th>\n",
       "      <td>35.83</td>\n",
       "      <td>4.67</td>\n",
       "      <td>Female</td>\n",
       "      <td>No</td>\n",
       "      <td>Sat</td>\n",
       "      <td>Dinner</td>\n",
       "      <td>3</td>\n",
       "    </tr>\n",
       "    <tr>\n",
       "      <th>239</th>\n",
       "      <td>29.03</td>\n",
       "      <td>5.92</td>\n",
       "      <td>Male</td>\n",
       "      <td>No</td>\n",
       "      <td>Sat</td>\n",
       "      <td>Dinner</td>\n",
       "      <td>3</td>\n",
       "    </tr>\n",
       "    <tr>\n",
       "      <th>240</th>\n",
       "      <td>27.18</td>\n",
       "      <td>2.00</td>\n",
       "      <td>Female</td>\n",
       "      <td>Yes</td>\n",
       "      <td>Sat</td>\n",
       "      <td>Dinner</td>\n",
       "      <td>2</td>\n",
       "    </tr>\n",
       "    <tr>\n",
       "      <th>241</th>\n",
       "      <td>22.67</td>\n",
       "      <td>2.00</td>\n",
       "      <td>Male</td>\n",
       "      <td>Yes</td>\n",
       "      <td>Sat</td>\n",
       "      <td>Dinner</td>\n",
       "      <td>2</td>\n",
       "    </tr>\n",
       "    <tr>\n",
       "      <th>242</th>\n",
       "      <td>17.82</td>\n",
       "      <td>1.75</td>\n",
       "      <td>Male</td>\n",
       "      <td>No</td>\n",
       "      <td>Sat</td>\n",
       "      <td>Dinner</td>\n",
       "      <td>2</td>\n",
       "    </tr>\n",
       "    <tr>\n",
       "      <th>243</th>\n",
       "      <td>18.78</td>\n",
       "      <td>3.00</td>\n",
       "      <td>Female</td>\n",
       "      <td>No</td>\n",
       "      <td>Thur</td>\n",
       "      <td>Dinner</td>\n",
       "      <td>2</td>\n",
       "    </tr>\n",
       "  </tbody>\n",
       "</table>\n",
       "<p>244 rows × 7 columns</p>\n",
       "</div>"
      ],
      "text/plain": [
       "     total_bill   tip     sex smoker   day    time  size\n",
       "0         16.99  1.01  Female     No   Sun  Dinner     2\n",
       "1         10.34  1.66    Male     No   Sun  Dinner     3\n",
       "2         21.01  3.50    Male     No   Sun  Dinner     3\n",
       "3         23.68  3.31    Male     No   Sun  Dinner     2\n",
       "4         24.59  3.61  Female     No   Sun  Dinner     4\n",
       "5         25.29  4.71    Male     No   Sun  Dinner     4\n",
       "6          8.77  2.00    Male     No   Sun  Dinner     2\n",
       "7         26.88  3.12    Male     No   Sun  Dinner     4\n",
       "8         15.04  1.96    Male     No   Sun  Dinner     2\n",
       "9         14.78  3.23    Male     No   Sun  Dinner     2\n",
       "10        10.27  1.71    Male     No   Sun  Dinner     2\n",
       "11        35.26  5.00  Female     No   Sun  Dinner     4\n",
       "12        15.42  1.57    Male     No   Sun  Dinner     2\n",
       "13        18.43  3.00    Male     No   Sun  Dinner     4\n",
       "14        14.83  3.02  Female     No   Sun  Dinner     2\n",
       "15        21.58  3.92    Male     No   Sun  Dinner     2\n",
       "16        10.33  1.67  Female     No   Sun  Dinner     3\n",
       "17        16.29  3.71    Male     No   Sun  Dinner     3\n",
       "18        16.97  3.50  Female     No   Sun  Dinner     3\n",
       "19        20.65  3.35    Male     No   Sat  Dinner     3\n",
       "20        17.92  4.08    Male     No   Sat  Dinner     2\n",
       "21        20.29  2.75  Female     No   Sat  Dinner     2\n",
       "22        15.77  2.23  Female     No   Sat  Dinner     2\n",
       "23        39.42  7.58    Male     No   Sat  Dinner     4\n",
       "24        19.82  3.18    Male     No   Sat  Dinner     2\n",
       "25        17.81  2.34    Male     No   Sat  Dinner     4\n",
       "26        13.37  2.00    Male     No   Sat  Dinner     2\n",
       "27        12.69  2.00    Male     No   Sat  Dinner     2\n",
       "28        21.70  4.30    Male     No   Sat  Dinner     2\n",
       "29        19.65  3.00  Female     No   Sat  Dinner     2\n",
       "..          ...   ...     ...    ...   ...     ...   ...\n",
       "214       28.17  6.50  Female    Yes   Sat  Dinner     3\n",
       "215       12.90  1.10  Female    Yes   Sat  Dinner     2\n",
       "216       28.15  3.00    Male    Yes   Sat  Dinner     5\n",
       "217       11.59  1.50    Male    Yes   Sat  Dinner     2\n",
       "218        7.74  1.44    Male    Yes   Sat  Dinner     2\n",
       "219       30.14  3.09  Female    Yes   Sat  Dinner     4\n",
       "220       12.16  2.20    Male    Yes   Fri   Lunch     2\n",
       "221       13.42  3.48  Female    Yes   Fri   Lunch     2\n",
       "222        8.58  1.92    Male    Yes   Fri   Lunch     1\n",
       "223       15.98  3.00  Female     No   Fri   Lunch     3\n",
       "224       13.42  1.58    Male    Yes   Fri   Lunch     2\n",
       "225       16.27  2.50  Female    Yes   Fri   Lunch     2\n",
       "226       10.09  2.00  Female    Yes   Fri   Lunch     2\n",
       "227       20.45  3.00    Male     No   Sat  Dinner     4\n",
       "228       13.28  2.72    Male     No   Sat  Dinner     2\n",
       "229       22.12  2.88  Female    Yes   Sat  Dinner     2\n",
       "230       24.01  2.00    Male    Yes   Sat  Dinner     4\n",
       "231       15.69  3.00    Male    Yes   Sat  Dinner     3\n",
       "232       11.61  3.39    Male     No   Sat  Dinner     2\n",
       "233       10.77  1.47    Male     No   Sat  Dinner     2\n",
       "234       15.53  3.00    Male    Yes   Sat  Dinner     2\n",
       "235       10.07  1.25    Male     No   Sat  Dinner     2\n",
       "236       12.60  1.00    Male    Yes   Sat  Dinner     2\n",
       "237       32.83  1.17    Male    Yes   Sat  Dinner     2\n",
       "238       35.83  4.67  Female     No   Sat  Dinner     3\n",
       "239       29.03  5.92    Male     No   Sat  Dinner     3\n",
       "240       27.18  2.00  Female    Yes   Sat  Dinner     2\n",
       "241       22.67  2.00    Male    Yes   Sat  Dinner     2\n",
       "242       17.82  1.75    Male     No   Sat  Dinner     2\n",
       "243       18.78  3.00  Female     No  Thur  Dinner     2\n",
       "\n",
       "[244 rows x 7 columns]"
      ]
     },
     "execution_count": 32,
     "metadata": {},
     "output_type": "execute_result"
    }
   ],
   "source": [
    "tips = pd.read_csv('pydata/ch08/tips.csv') # p.363\n",
    "tips"
   ]
  },
  {
   "cell_type": "code",
   "execution_count": 33,
   "metadata": {
    "collapsed": true
   },
   "outputs": [
    {
     "data": {
      "text/html": [
       "<div style=\"max-height:1000px;max-width:1500px;overflow:auto;\">\n",
       "<table border=\"1\" class=\"dataframe\">\n",
       "  <thead>\n",
       "    <tr style=\"text-align: right;\">\n",
       "      <th></th>\n",
       "      <th></th>\n",
       "      <th>size</th>\n",
       "      <th>tip</th>\n",
       "      <th>total_bill</th>\n",
       "    </tr>\n",
       "    <tr>\n",
       "      <th>sex</th>\n",
       "      <th>smoker</th>\n",
       "      <th></th>\n",
       "      <th></th>\n",
       "      <th></th>\n",
       "    </tr>\n",
       "  </thead>\n",
       "  <tbody>\n",
       "    <tr>\n",
       "      <th rowspan=\"2\" valign=\"top\">Female</th>\n",
       "      <th>No</th>\n",
       "      <td>2.592593</td>\n",
       "      <td>2.773519</td>\n",
       "      <td>18.105185</td>\n",
       "    </tr>\n",
       "    <tr>\n",
       "      <th>Yes</th>\n",
       "      <td>2.242424</td>\n",
       "      <td>2.931515</td>\n",
       "      <td>17.977879</td>\n",
       "    </tr>\n",
       "    <tr>\n",
       "      <th rowspan=\"2\" valign=\"top\">Male</th>\n",
       "      <th>No</th>\n",
       "      <td>2.711340</td>\n",
       "      <td>3.113402</td>\n",
       "      <td>19.791237</td>\n",
       "    </tr>\n",
       "    <tr>\n",
       "      <th>Yes</th>\n",
       "      <td>2.500000</td>\n",
       "      <td>3.051167</td>\n",
       "      <td>22.284500</td>\n",
       "    </tr>\n",
       "  </tbody>\n",
       "</table>\n",
       "</div>"
      ],
      "text/plain": [
       "                   size       tip  total_bill\n",
       "sex    smoker                                \n",
       "Female No      2.592593  2.773519   18.105185\n",
       "       Yes     2.242424  2.931515   17.977879\n",
       "Male   No      2.711340  3.113402   19.791237\n",
       "       Yes     2.500000  3.051167   22.284500"
      ]
     },
     "execution_count": 33,
     "metadata": {},
     "output_type": "execute_result"
    }
   ],
   "source": [
    "tips.pivot_table(index=['sex', 'smoker'])"
   ]
  },
  {
   "cell_type": "markdown",
   "metadata": {},
   "source": [
    "pivot_table은 groupby를 편리하게 수행해 주는 인터페이스일 뿐"
   ]
  },
  {
   "cell_type": "code",
   "execution_count": 34,
   "metadata": {
    "collapsed": true
   },
   "outputs": [
    {
     "data": {
      "text/html": [
       "<div style=\"max-height:1000px;max-width:1500px;overflow:auto;\">\n",
       "<table border=\"1\" class=\"dataframe\">\n",
       "  <thead>\n",
       "    <tr style=\"text-align: right;\">\n",
       "      <th></th>\n",
       "      <th></th>\n",
       "      <th>total_bill</th>\n",
       "      <th>tip</th>\n",
       "      <th>size</th>\n",
       "    </tr>\n",
       "    <tr>\n",
       "      <th>sex</th>\n",
       "      <th>smoker</th>\n",
       "      <th></th>\n",
       "      <th></th>\n",
       "      <th></th>\n",
       "    </tr>\n",
       "  </thead>\n",
       "  <tbody>\n",
       "    <tr>\n",
       "      <th rowspan=\"2\" valign=\"top\">Female</th>\n",
       "      <th>No</th>\n",
       "      <td>18.105185</td>\n",
       "      <td>2.773519</td>\n",
       "      <td>2.592593</td>\n",
       "    </tr>\n",
       "    <tr>\n",
       "      <th>Yes</th>\n",
       "      <td>17.977879</td>\n",
       "      <td>2.931515</td>\n",
       "      <td>2.242424</td>\n",
       "    </tr>\n",
       "    <tr>\n",
       "      <th rowspan=\"2\" valign=\"top\">Male</th>\n",
       "      <th>No</th>\n",
       "      <td>19.791237</td>\n",
       "      <td>3.113402</td>\n",
       "      <td>2.711340</td>\n",
       "    </tr>\n",
       "    <tr>\n",
       "      <th>Yes</th>\n",
       "      <td>22.284500</td>\n",
       "      <td>3.051167</td>\n",
       "      <td>2.500000</td>\n",
       "    </tr>\n",
       "  </tbody>\n",
       "</table>\n",
       "</div>"
      ],
      "text/plain": [
       "               total_bill       tip      size\n",
       "sex    smoker                                \n",
       "Female No       18.105185  2.773519  2.592593\n",
       "       Yes      17.977879  2.931515  2.242424\n",
       "Male   No       19.791237  3.113402  2.711340\n",
       "       Yes      22.284500  3.051167  2.500000"
      ]
     },
     "execution_count": 34,
     "metadata": {},
     "output_type": "execute_result"
    }
   ],
   "source": [
    "tips.groupby(['sex', 'smoker']).mean()"
   ]
  },
  {
   "cell_type": "markdown",
   "metadata": {},
   "source": [
    "팁의 비율을 계산해 새로운 열 tip_pct 추가하기"
   ]
  },
  {
   "cell_type": "code",
   "execution_count": 37,
   "metadata": {
    "collapsed": false
   },
   "outputs": [
    {
     "data": {
      "text/html": [
       "<div style=\"max-height:1000px;max-width:1500px;overflow:auto;\">\n",
       "<table border=\"1\" class=\"dataframe\">\n",
       "  <thead>\n",
       "    <tr style=\"text-align: right;\">\n",
       "      <th></th>\n",
       "      <th>total_bill</th>\n",
       "      <th>tip</th>\n",
       "      <th>sex</th>\n",
       "      <th>smoker</th>\n",
       "      <th>day</th>\n",
       "      <th>time</th>\n",
       "      <th>size</th>\n",
       "      <th>tip_pct</th>\n",
       "    </tr>\n",
       "  </thead>\n",
       "  <tbody>\n",
       "    <tr>\n",
       "      <th>0</th>\n",
       "      <td>16.99</td>\n",
       "      <td>1.01</td>\n",
       "      <td>Female</td>\n",
       "      <td>No</td>\n",
       "      <td>Sun</td>\n",
       "      <td>Dinner</td>\n",
       "      <td>2</td>\n",
       "      <td>0.059447</td>\n",
       "    </tr>\n",
       "    <tr>\n",
       "      <th>1</th>\n",
       "      <td>10.34</td>\n",
       "      <td>1.66</td>\n",
       "      <td>Male</td>\n",
       "      <td>No</td>\n",
       "      <td>Sun</td>\n",
       "      <td>Dinner</td>\n",
       "      <td>3</td>\n",
       "      <td>0.160542</td>\n",
       "    </tr>\n",
       "    <tr>\n",
       "      <th>2</th>\n",
       "      <td>21.01</td>\n",
       "      <td>3.50</td>\n",
       "      <td>Male</td>\n",
       "      <td>No</td>\n",
       "      <td>Sun</td>\n",
       "      <td>Dinner</td>\n",
       "      <td>3</td>\n",
       "      <td>0.166587</td>\n",
       "    </tr>\n",
       "  </tbody>\n",
       "</table>\n",
       "</div>"
      ],
      "text/plain": [
       "   total_bill   tip     sex smoker  day    time  size   tip_pct\n",
       "0       16.99  1.01  Female     No  Sun  Dinner     2  0.059447\n",
       "1       10.34  1.66    Male     No  Sun  Dinner     3  0.160542\n",
       "2       21.01  3.50    Male     No  Sun  Dinner     3  0.166587"
      ]
     },
     "execution_count": 37,
     "metadata": {},
     "output_type": "execute_result"
    }
   ],
   "source": [
    "tips['tip_pct'] = tips['tip'] / tips['total_bill']\n",
    "tips[:3]"
   ]
  },
  {
   "cell_type": "code",
   "execution_count": 40,
   "metadata": {
    "collapsed": false
   },
   "outputs": [
    {
     "data": {
      "text/html": [
       "<div style=\"max-height:1000px;max-width:1500px;overflow:auto;\">\n",
       "<table border=\"1\" class=\"dataframe\">\n",
       "  <thead>\n",
       "    <tr style=\"text-align: right;\">\n",
       "      <th></th>\n",
       "      <th></th>\n",
       "      <th>tip_pct</th>\n",
       "      <th>size</th>\n",
       "    </tr>\n",
       "    <tr>\n",
       "      <th>sex</th>\n",
       "      <th>day</th>\n",
       "      <th></th>\n",
       "      <th></th>\n",
       "    </tr>\n",
       "  </thead>\n",
       "  <tbody>\n",
       "    <tr>\n",
       "      <th rowspan=\"4\" valign=\"top\">Female</th>\n",
       "      <th>Fri</th>\n",
       "      <td>0.199388</td>\n",
       "      <td>2.111111</td>\n",
       "    </tr>\n",
       "    <tr>\n",
       "      <th>Sat</th>\n",
       "      <td>0.156470</td>\n",
       "      <td>2.250000</td>\n",
       "    </tr>\n",
       "    <tr>\n",
       "      <th>Sun</th>\n",
       "      <td>0.181569</td>\n",
       "      <td>2.944444</td>\n",
       "    </tr>\n",
       "    <tr>\n",
       "      <th>Thur</th>\n",
       "      <td>0.157525</td>\n",
       "      <td>2.468750</td>\n",
       "    </tr>\n",
       "    <tr>\n",
       "      <th rowspan=\"4\" valign=\"top\">Male</th>\n",
       "      <th>Fri</th>\n",
       "      <td>0.143385</td>\n",
       "      <td>2.100000</td>\n",
       "    </tr>\n",
       "    <tr>\n",
       "      <th>Sat</th>\n",
       "      <td>0.151577</td>\n",
       "      <td>2.644068</td>\n",
       "    </tr>\n",
       "    <tr>\n",
       "      <th>Sun</th>\n",
       "      <td>0.162344</td>\n",
       "      <td>2.810345</td>\n",
       "    </tr>\n",
       "    <tr>\n",
       "      <th>Thur</th>\n",
       "      <td>0.165276</td>\n",
       "      <td>2.433333</td>\n",
       "    </tr>\n",
       "  </tbody>\n",
       "</table>\n",
       "</div>"
      ],
      "text/plain": [
       "              tip_pct      size\n",
       "sex    day                     \n",
       "Female Fri   0.199388  2.111111\n",
       "       Sat   0.156470  2.250000\n",
       "       Sun   0.181569  2.944444\n",
       "       Thur  0.157525  2.468750\n",
       "Male   Fri   0.143385  2.100000\n",
       "       Sat   0.151577  2.644068\n",
       "       Sun   0.162344  2.810345\n",
       "       Thur  0.165276  2.433333"
      ]
     },
     "execution_count": 40,
     "metadata": {},
     "output_type": "execute_result"
    }
   ],
   "source": [
    "tips.groupby(['sex', 'day'])['tip_pct', 'size'].mean()"
   ]
  },
  {
   "cell_type": "code",
   "execution_count": 38,
   "metadata": {
    "collapsed": false
   },
   "outputs": [
    {
     "data": {
      "text/html": [
       "<div style=\"max-height:1000px;max-width:1500px;overflow:auto;\">\n",
       "<table border=\"1\" class=\"dataframe\">\n",
       "  <thead>\n",
       "    <tr>\n",
       "      <th></th>\n",
       "      <th></th>\n",
       "      <th colspan=\"2\" halign=\"left\">tip_pct</th>\n",
       "      <th colspan=\"2\" halign=\"left\">size</th>\n",
       "    </tr>\n",
       "    <tr>\n",
       "      <th></th>\n",
       "      <th>smoker</th>\n",
       "      <th>No</th>\n",
       "      <th>Yes</th>\n",
       "      <th>No</th>\n",
       "      <th>Yes</th>\n",
       "    </tr>\n",
       "    <tr>\n",
       "      <th>sex</th>\n",
       "      <th>day</th>\n",
       "      <th></th>\n",
       "      <th></th>\n",
       "      <th></th>\n",
       "      <th></th>\n",
       "    </tr>\n",
       "  </thead>\n",
       "  <tbody>\n",
       "    <tr>\n",
       "      <th rowspan=\"4\" valign=\"top\">Female</th>\n",
       "      <th>Fri</th>\n",
       "      <td>0.165296</td>\n",
       "      <td>0.209129</td>\n",
       "      <td>2.500000</td>\n",
       "      <td>2.000000</td>\n",
       "    </tr>\n",
       "    <tr>\n",
       "      <th>Sat</th>\n",
       "      <td>0.147993</td>\n",
       "      <td>0.163817</td>\n",
       "      <td>2.307692</td>\n",
       "      <td>2.200000</td>\n",
       "    </tr>\n",
       "    <tr>\n",
       "      <th>Sun</th>\n",
       "      <td>0.165710</td>\n",
       "      <td>0.237075</td>\n",
       "      <td>3.071429</td>\n",
       "      <td>2.500000</td>\n",
       "    </tr>\n",
       "    <tr>\n",
       "      <th>Thur</th>\n",
       "      <td>0.155971</td>\n",
       "      <td>0.163073</td>\n",
       "      <td>2.480000</td>\n",
       "      <td>2.428571</td>\n",
       "    </tr>\n",
       "    <tr>\n",
       "      <th rowspan=\"4\" valign=\"top\">Male</th>\n",
       "      <th>Fri</th>\n",
       "      <td>0.138005</td>\n",
       "      <td>0.144730</td>\n",
       "      <td>2.000000</td>\n",
       "      <td>2.125000</td>\n",
       "    </tr>\n",
       "    <tr>\n",
       "      <th>Sat</th>\n",
       "      <td>0.162132</td>\n",
       "      <td>0.139067</td>\n",
       "      <td>2.656250</td>\n",
       "      <td>2.629630</td>\n",
       "    </tr>\n",
       "    <tr>\n",
       "      <th>Sun</th>\n",
       "      <td>0.158291</td>\n",
       "      <td>0.173964</td>\n",
       "      <td>2.883721</td>\n",
       "      <td>2.600000</td>\n",
       "    </tr>\n",
       "    <tr>\n",
       "      <th>Thur</th>\n",
       "      <td>0.165706</td>\n",
       "      <td>0.164417</td>\n",
       "      <td>2.500000</td>\n",
       "      <td>2.300000</td>\n",
       "    </tr>\n",
       "  </tbody>\n",
       "</table>\n",
       "</div>"
      ],
      "text/plain": [
       "              tip_pct                size          \n",
       "smoker             No       Yes        No       Yes\n",
       "sex    day                                         \n",
       "Female Fri   0.165296  0.209129  2.500000  2.000000\n",
       "       Sat   0.147993  0.163817  2.307692  2.200000\n",
       "       Sun   0.165710  0.237075  3.071429  2.500000\n",
       "       Thur  0.155971  0.163073  2.480000  2.428571\n",
       "Male   Fri   0.138005  0.144730  2.000000  2.125000\n",
       "       Sat   0.162132  0.139067  2.656250  2.629630\n",
       "       Sun   0.158291  0.173964  2.883721  2.600000\n",
       "       Thur  0.165706  0.164417  2.500000  2.300000"
      ]
     },
     "execution_count": 38,
     "metadata": {},
     "output_type": "execute_result"
    }
   ],
   "source": [
    "tips.pivot_table(['tip_pct', 'size'], \n",
    "                 index=['sex', 'day'],\n",
    "                 columns='smoker')"
   ]
  },
  {
   "cell_type": "code",
   "execution_count": 43,
   "metadata": {
    "collapsed": true
   },
   "outputs": [
    {
     "data": {
      "text/html": [
       "<div style=\"max-height:1000px;max-width:1500px;overflow:auto;\">\n",
       "<table border=\"1\" class=\"dataframe\">\n",
       "  <thead>\n",
       "    <tr>\n",
       "      <th></th>\n",
       "      <th></th>\n",
       "      <th colspan=\"3\" halign=\"left\">tip_pct</th>\n",
       "      <th colspan=\"3\" halign=\"left\">size</th>\n",
       "    </tr>\n",
       "    <tr>\n",
       "      <th></th>\n",
       "      <th>smoker</th>\n",
       "      <th>No</th>\n",
       "      <th>Yes</th>\n",
       "      <th>All</th>\n",
       "      <th>No</th>\n",
       "      <th>Yes</th>\n",
       "      <th>All</th>\n",
       "    </tr>\n",
       "    <tr>\n",
       "      <th>sex</th>\n",
       "      <th>day</th>\n",
       "      <th></th>\n",
       "      <th></th>\n",
       "      <th></th>\n",
       "      <th></th>\n",
       "      <th></th>\n",
       "      <th></th>\n",
       "    </tr>\n",
       "  </thead>\n",
       "  <tbody>\n",
       "    <tr>\n",
       "      <th rowspan=\"4\" valign=\"top\">Female</th>\n",
       "      <th>Fri</th>\n",
       "      <td>0.165296</td>\n",
       "      <td>0.209129</td>\n",
       "      <td>0.199388</td>\n",
       "      <td>2.500000</td>\n",
       "      <td>2.000000</td>\n",
       "      <td>2.111111</td>\n",
       "    </tr>\n",
       "    <tr>\n",
       "      <th>Sat</th>\n",
       "      <td>0.147993</td>\n",
       "      <td>0.163817</td>\n",
       "      <td>0.156470</td>\n",
       "      <td>2.307692</td>\n",
       "      <td>2.200000</td>\n",
       "      <td>2.250000</td>\n",
       "    </tr>\n",
       "    <tr>\n",
       "      <th>Sun</th>\n",
       "      <td>0.165710</td>\n",
       "      <td>0.237075</td>\n",
       "      <td>0.181569</td>\n",
       "      <td>3.071429</td>\n",
       "      <td>2.500000</td>\n",
       "      <td>2.944444</td>\n",
       "    </tr>\n",
       "    <tr>\n",
       "      <th>Thur</th>\n",
       "      <td>0.155971</td>\n",
       "      <td>0.163073</td>\n",
       "      <td>0.157525</td>\n",
       "      <td>2.480000</td>\n",
       "      <td>2.428571</td>\n",
       "      <td>2.468750</td>\n",
       "    </tr>\n",
       "    <tr>\n",
       "      <th rowspan=\"4\" valign=\"top\">Male</th>\n",
       "      <th>Fri</th>\n",
       "      <td>0.138005</td>\n",
       "      <td>0.144730</td>\n",
       "      <td>0.143385</td>\n",
       "      <td>2.000000</td>\n",
       "      <td>2.125000</td>\n",
       "      <td>2.100000</td>\n",
       "    </tr>\n",
       "    <tr>\n",
       "      <th>Sat</th>\n",
       "      <td>0.162132</td>\n",
       "      <td>0.139067</td>\n",
       "      <td>0.151577</td>\n",
       "      <td>2.656250</td>\n",
       "      <td>2.629630</td>\n",
       "      <td>2.644068</td>\n",
       "    </tr>\n",
       "    <tr>\n",
       "      <th>Sun</th>\n",
       "      <td>0.158291</td>\n",
       "      <td>0.173964</td>\n",
       "      <td>0.162344</td>\n",
       "      <td>2.883721</td>\n",
       "      <td>2.600000</td>\n",
       "      <td>2.810345</td>\n",
       "    </tr>\n",
       "    <tr>\n",
       "      <th>Thur</th>\n",
       "      <td>0.165706</td>\n",
       "      <td>0.164417</td>\n",
       "      <td>0.165276</td>\n",
       "      <td>2.500000</td>\n",
       "      <td>2.300000</td>\n",
       "      <td>2.433333</td>\n",
       "    </tr>\n",
       "    <tr>\n",
       "      <th>All</th>\n",
       "      <th></th>\n",
       "      <td>0.159328</td>\n",
       "      <td>0.163196</td>\n",
       "      <td>0.160803</td>\n",
       "      <td>2.668874</td>\n",
       "      <td>2.408602</td>\n",
       "      <td>2.569672</td>\n",
       "    </tr>\n",
       "  </tbody>\n",
       "</table>\n",
       "</div>"
      ],
      "text/plain": [
       "              tip_pct                          size                    \n",
       "smoker             No       Yes       All        No       Yes       All\n",
       "sex    day                                                             \n",
       "Female Fri   0.165296  0.209129  0.199388  2.500000  2.000000  2.111111\n",
       "       Sat   0.147993  0.163817  0.156470  2.307692  2.200000  2.250000\n",
       "       Sun   0.165710  0.237075  0.181569  3.071429  2.500000  2.944444\n",
       "       Thur  0.155971  0.163073  0.157525  2.480000  2.428571  2.468750\n",
       "Male   Fri   0.138005  0.144730  0.143385  2.000000  2.125000  2.100000\n",
       "       Sat   0.162132  0.139067  0.151577  2.656250  2.629630  2.644068\n",
       "       Sun   0.158291  0.173964  0.162344  2.883721  2.600000  2.810345\n",
       "       Thur  0.165706  0.164417  0.165276  2.500000  2.300000  2.433333\n",
       "All          0.159328  0.163196  0.160803  2.668874  2.408602  2.569672"
      ]
     },
     "execution_count": 43,
     "metadata": {},
     "output_type": "execute_result"
    }
   ],
   "source": [
    "tips.pivot_table(['tip_pct', 'size'], \n",
    "                 index=['sex', 'day'],\n",
    "                 columns='smoker', \n",
    "                 margins=True)"
   ]
  },
  {
   "cell_type": "code",
   "execution_count": 42,
   "metadata": {
    "collapsed": false
   },
   "outputs": [
    {
     "data": {
      "text/html": [
       "<div style=\"max-height:1000px;max-width:1500px;overflow:auto;\">\n",
       "<table border=\"1\" class=\"dataframe\">\n",
       "  <thead>\n",
       "    <tr style=\"text-align: right;\">\n",
       "      <th></th>\n",
       "      <th>day</th>\n",
       "      <th>Fri</th>\n",
       "      <th>Sat</th>\n",
       "      <th>Sun</th>\n",
       "      <th>Thur</th>\n",
       "      <th>All</th>\n",
       "    </tr>\n",
       "    <tr>\n",
       "      <th>sex</th>\n",
       "      <th>smoker</th>\n",
       "      <th></th>\n",
       "      <th></th>\n",
       "      <th></th>\n",
       "      <th></th>\n",
       "      <th></th>\n",
       "    </tr>\n",
       "  </thead>\n",
       "  <tbody>\n",
       "    <tr>\n",
       "      <th rowspan=\"2\" valign=\"top\">Female</th>\n",
       "      <th>No</th>\n",
       "      <td>2</td>\n",
       "      <td>13</td>\n",
       "      <td>14</td>\n",
       "      <td>25</td>\n",
       "      <td>54</td>\n",
       "    </tr>\n",
       "    <tr>\n",
       "      <th>Yes</th>\n",
       "      <td>7</td>\n",
       "      <td>15</td>\n",
       "      <td>4</td>\n",
       "      <td>7</td>\n",
       "      <td>33</td>\n",
       "    </tr>\n",
       "    <tr>\n",
       "      <th rowspan=\"2\" valign=\"top\">Male</th>\n",
       "      <th>No</th>\n",
       "      <td>2</td>\n",
       "      <td>32</td>\n",
       "      <td>43</td>\n",
       "      <td>20</td>\n",
       "      <td>97</td>\n",
       "    </tr>\n",
       "    <tr>\n",
       "      <th>Yes</th>\n",
       "      <td>8</td>\n",
       "      <td>27</td>\n",
       "      <td>15</td>\n",
       "      <td>10</td>\n",
       "      <td>60</td>\n",
       "    </tr>\n",
       "    <tr>\n",
       "      <th>All</th>\n",
       "      <th></th>\n",
       "      <td>19</td>\n",
       "      <td>87</td>\n",
       "      <td>76</td>\n",
       "      <td>62</td>\n",
       "      <td>244</td>\n",
       "    </tr>\n",
       "  </tbody>\n",
       "</table>\n",
       "</div>"
      ],
      "text/plain": [
       "day            Fri  Sat  Sun  Thur  All\n",
       "sex    smoker                          \n",
       "Female No        2   13   14    25   54\n",
       "       Yes       7   15    4     7   33\n",
       "Male   No        2   32   43    20   97\n",
       "       Yes       8   27   15    10   60\n",
       "All             19   87   76    62  244"
      ]
     },
     "execution_count": 42,
     "metadata": {},
     "output_type": "execute_result"
    }
   ],
   "source": [
    "tips.pivot_table('tip_pct', index=['sex', 'smoker'], columns='day',\n",
    "                 aggfunc=len, margins=True)"
   ]
  },
  {
   "cell_type": "code",
   "execution_count": 41,
   "metadata": {
    "collapsed": true
   },
   "outputs": [
    {
     "data": {
      "text/html": [
       "<div style=\"max-height:1000px;max-width:1500px;overflow:auto;\">\n",
       "<table border=\"1\" class=\"dataframe\">\n",
       "  <thead>\n",
       "    <tr style=\"text-align: right;\">\n",
       "      <th></th>\n",
       "      <th></th>\n",
       "      <th>day</th>\n",
       "      <th>Fri</th>\n",
       "      <th>Sat</th>\n",
       "      <th>Sun</th>\n",
       "      <th>Thur</th>\n",
       "    </tr>\n",
       "    <tr>\n",
       "      <th>time</th>\n",
       "      <th>sex</th>\n",
       "      <th>smoker</th>\n",
       "      <th></th>\n",
       "      <th></th>\n",
       "      <th></th>\n",
       "      <th></th>\n",
       "    </tr>\n",
       "  </thead>\n",
       "  <tbody>\n",
       "    <tr>\n",
       "      <th rowspan=\"4\" valign=\"top\">Dinner</th>\n",
       "      <th rowspan=\"2\" valign=\"top\">Female</th>\n",
       "      <th>No</th>\n",
       "      <td>2</td>\n",
       "      <td>30</td>\n",
       "      <td>43</td>\n",
       "      <td>2</td>\n",
       "    </tr>\n",
       "    <tr>\n",
       "      <th>Yes</th>\n",
       "      <td>8</td>\n",
       "      <td>33</td>\n",
       "      <td>10</td>\n",
       "      <td>0</td>\n",
       "    </tr>\n",
       "    <tr>\n",
       "      <th rowspan=\"2\" valign=\"top\">Male</th>\n",
       "      <th>No</th>\n",
       "      <td>4</td>\n",
       "      <td>85</td>\n",
       "      <td>124</td>\n",
       "      <td>0</td>\n",
       "    </tr>\n",
       "    <tr>\n",
       "      <th>Yes</th>\n",
       "      <td>12</td>\n",
       "      <td>71</td>\n",
       "      <td>39</td>\n",
       "      <td>0</td>\n",
       "    </tr>\n",
       "    <tr>\n",
       "      <th rowspan=\"4\" valign=\"top\">Lunch</th>\n",
       "      <th rowspan=\"2\" valign=\"top\">Female</th>\n",
       "      <th>No</th>\n",
       "      <td>3</td>\n",
       "      <td>0</td>\n",
       "      <td>0</td>\n",
       "      <td>60</td>\n",
       "    </tr>\n",
       "    <tr>\n",
       "      <th>Yes</th>\n",
       "      <td>6</td>\n",
       "      <td>0</td>\n",
       "      <td>0</td>\n",
       "      <td>17</td>\n",
       "    </tr>\n",
       "    <tr>\n",
       "      <th rowspan=\"2\" valign=\"top\">Male</th>\n",
       "      <th>No</th>\n",
       "      <td>0</td>\n",
       "      <td>0</td>\n",
       "      <td>0</td>\n",
       "      <td>50</td>\n",
       "    </tr>\n",
       "    <tr>\n",
       "      <th>Yes</th>\n",
       "      <td>5</td>\n",
       "      <td>0</td>\n",
       "      <td>0</td>\n",
       "      <td>23</td>\n",
       "    </tr>\n",
       "  </tbody>\n",
       "</table>\n",
       "</div>"
      ],
      "text/plain": [
       "day                   Fri  Sat  Sun  Thur\n",
       "time   sex    smoker                     \n",
       "Dinner Female No        2   30   43     2\n",
       "              Yes       8   33   10     0\n",
       "       Male   No        4   85  124     0\n",
       "              Yes      12   71   39     0\n",
       "Lunch  Female No        3    0    0    60\n",
       "              Yes       6    0    0    17\n",
       "       Male   No        0    0    0    50\n",
       "              Yes       5    0    0    23"
      ]
     },
     "execution_count": 41,
     "metadata": {},
     "output_type": "execute_result"
    }
   ],
   "source": [
    "tips.pivot_table('size', \n",
    "                 index=['time', 'sex', 'smoker'],\n",
    "                 columns='day', \n",
    "                 aggfunc='sum', \n",
    "                 fill_value=0)"
   ]
  },
  {
   "cell_type": "markdown",
   "metadata": {},
   "source": [
    "### 교차일람표"
   ]
  },
  {
   "cell_type": "code",
   "execution_count": null,
   "metadata": {
    "collapsed": false
   },
   "outputs": [],
   "source": [
    "from StringIO import StringIO\n",
    "data = \"\"\"\\\n",
    "Sample    Gender    Handedness\n",
    "1    Female    Right-handed\n",
    "2    Male    Left-handed\n",
    "3    Female    Right-handed\n",
    "4    Male    Right-handed\n",
    "5    Male    Left-handed\n",
    "6    Male    Right-handed\n",
    "7    Female    Right-handed\n",
    "8    Female    Left-handed\n",
    "9    Male    Right-handed\n",
    "10    Female    Right-handed\"\"\"\n",
    "data = pd.read_table(StringIO(data), sep='\\s+')"
   ]
  },
  {
   "cell_type": "code",
   "execution_count": null,
   "metadata": {
    "collapsed": false
   },
   "outputs": [],
   "source": [
    "data"
   ]
  },
  {
   "cell_type": "code",
   "execution_count": null,
   "metadata": {
    "collapsed": false
   },
   "outputs": [],
   "source": [
    "pd.crosstab(data.Gender, data.Handedness, margins=True)"
   ]
  },
  {
   "cell_type": "code",
   "execution_count": null,
   "metadata": {
    "collapsed": false
   },
   "outputs": [],
   "source": [
    "pd.crosstab([tips.time, tips.day], tips.smoker, margins=True)"
   ]
  },
  {
   "cell_type": "markdown",
   "metadata": {},
   "source": [
    "## 예제: 미국 선거 데이터"
   ]
  },
  {
   "cell_type": "code",
   "execution_count": 46,
   "metadata": {
    "collapsed": true
   },
   "outputs": [
    {
     "name": "stderr",
     "output_type": "stream",
     "text": [
      "/Users/seongjoo/anaconda/lib/python2.7/site-packages/pandas/io/parsers.py:1164: DtypeWarning: Columns (6) have mixed types. Specify dtype option on import or set low_memory=False.\n",
      "  data = self._reader.read(nrows)\n"
     ]
    },
    {
     "data": {
      "text/html": [
       "<div style=\"max-height:1000px;max-width:1500px;overflow:auto;\">\n",
       "<table border=\"1\" class=\"dataframe\">\n",
       "  <thead>\n",
       "    <tr style=\"text-align: right;\">\n",
       "      <th></th>\n",
       "      <th>cmte_id</th>\n",
       "      <th>cand_id</th>\n",
       "      <th>cand_nm</th>\n",
       "      <th>contbr_nm</th>\n",
       "      <th>contbr_city</th>\n",
       "      <th>contbr_st</th>\n",
       "      <th>contbr_zip</th>\n",
       "      <th>contbr_employer</th>\n",
       "      <th>contbr_occupation</th>\n",
       "      <th>contb_receipt_amt</th>\n",
       "      <th>contb_receipt_dt</th>\n",
       "      <th>receipt_desc</th>\n",
       "      <th>memo_cd</th>\n",
       "      <th>memo_text</th>\n",
       "      <th>form_tp</th>\n",
       "      <th>file_num</th>\n",
       "    </tr>\n",
       "  </thead>\n",
       "  <tbody>\n",
       "    <tr>\n",
       "      <th>0</th>\n",
       "      <td>C00410118</td>\n",
       "      <td>P20002978</td>\n",
       "      <td>Bachmann, Michelle</td>\n",
       "      <td>HARVEY, WILLIAM</td>\n",
       "      <td>MOBILE</td>\n",
       "      <td>AL</td>\n",
       "      <td>3.660103e+08</td>\n",
       "      <td>RETIRED</td>\n",
       "      <td>RETIRED</td>\n",
       "      <td>250</td>\n",
       "      <td>20-JUN-11</td>\n",
       "      <td>NaN</td>\n",
       "      <td>NaN</td>\n",
       "      <td>NaN</td>\n",
       "      <td>SA17A</td>\n",
       "      <td>736166</td>\n",
       "    </tr>\n",
       "    <tr>\n",
       "      <th>1</th>\n",
       "      <td>C00410118</td>\n",
       "      <td>P20002978</td>\n",
       "      <td>Bachmann, Michelle</td>\n",
       "      <td>HARVEY, WILLIAM</td>\n",
       "      <td>MOBILE</td>\n",
       "      <td>AL</td>\n",
       "      <td>3.660103e+08</td>\n",
       "      <td>RETIRED</td>\n",
       "      <td>RETIRED</td>\n",
       "      <td>50</td>\n",
       "      <td>23-JUN-11</td>\n",
       "      <td>NaN</td>\n",
       "      <td>NaN</td>\n",
       "      <td>NaN</td>\n",
       "      <td>SA17A</td>\n",
       "      <td>736166</td>\n",
       "    </tr>\n",
       "    <tr>\n",
       "      <th>2</th>\n",
       "      <td>C00410118</td>\n",
       "      <td>P20002978</td>\n",
       "      <td>Bachmann, Michelle</td>\n",
       "      <td>SMITH, LANIER</td>\n",
       "      <td>LANETT</td>\n",
       "      <td>AL</td>\n",
       "      <td>3.686334e+08</td>\n",
       "      <td>INFORMATION REQUESTED</td>\n",
       "      <td>INFORMATION REQUESTED</td>\n",
       "      <td>250</td>\n",
       "      <td>05-JUL-11</td>\n",
       "      <td>NaN</td>\n",
       "      <td>NaN</td>\n",
       "      <td>NaN</td>\n",
       "      <td>SA17A</td>\n",
       "      <td>749073</td>\n",
       "    </tr>\n",
       "  </tbody>\n",
       "</table>\n",
       "</div>"
      ],
      "text/plain": [
       "     cmte_id    cand_id             cand_nm        contbr_nm contbr_city  \\\n",
       "0  C00410118  P20002978  Bachmann, Michelle  HARVEY, WILLIAM      MOBILE   \n",
       "1  C00410118  P20002978  Bachmann, Michelle  HARVEY, WILLIAM      MOBILE   \n",
       "2  C00410118  P20002978  Bachmann, Michelle    SMITH, LANIER      LANETT   \n",
       "\n",
       "  contbr_st    contbr_zip        contbr_employer      contbr_occupation  \\\n",
       "0        AL  3.660103e+08                RETIRED                RETIRED   \n",
       "1        AL  3.660103e+08                RETIRED                RETIRED   \n",
       "2        AL  3.686334e+08  INFORMATION REQUESTED  INFORMATION REQUESTED   \n",
       "\n",
       "   contb_receipt_amt contb_receipt_dt receipt_desc memo_cd memo_text form_tp  \\\n",
       "0                250        20-JUN-11          NaN     NaN       NaN   SA17A   \n",
       "1                 50        23-JUN-11          NaN     NaN       NaN   SA17A   \n",
       "2                250        05-JUL-11          NaN     NaN       NaN   SA17A   \n",
       "\n",
       "   file_num  \n",
       "0    736166  \n",
       "1    736166  \n",
       "2    749073  "
      ]
     },
     "execution_count": 46,
     "metadata": {},
     "output_type": "execute_result"
    }
   ],
   "source": [
    "fec = pd.read_csv('pydata/ch09/P00000001-ALL.csv')\n",
    "fec[:3]"
   ]
  },
  {
   "cell_type": "code",
   "execution_count": 47,
   "metadata": {
    "collapsed": true
   },
   "outputs": [
    {
     "data": {
      "text/plain": [
       "cmte_id                             C00431445\n",
       "cand_id                             P80003338\n",
       "cand_nm                         Obama, Barack\n",
       "contbr_nm                         ELLMAN, IRA\n",
       "contbr_city                             TEMPE\n",
       "contbr_st                                  AZ\n",
       "contbr_zip                          852816719\n",
       "contbr_employer      ARIZONA STATE UNIVERSITY\n",
       "contbr_occupation                   PROFESSOR\n",
       "contb_receipt_amt                          50\n",
       "contb_receipt_dt                    01-DEC-11\n",
       "receipt_desc                              NaN\n",
       "memo_cd                                   NaN\n",
       "memo_text                                 NaN\n",
       "form_tp                                 SA17A\n",
       "file_num                               772372\n",
       "Name: 123456, dtype: object"
      ]
     },
     "execution_count": 47,
     "metadata": {},
     "output_type": "execute_result"
    }
   ],
   "source": [
    "fec.ix[123456]"
   ]
  },
  {
   "cell_type": "code",
   "execution_count": 48,
   "metadata": {
    "collapsed": false
   },
   "outputs": [
    {
     "data": {
      "text/plain": [
       "array(['Bachmann, Michelle', 'Romney, Mitt', 'Obama, Barack',\n",
       "       \"Roemer, Charles E. 'Buddy' III\", 'Pawlenty, Timothy',\n",
       "       'Johnson, Gary Earl', 'Paul, Ron', 'Santorum, Rick', 'Cain, Herman',\n",
       "       'Gingrich, Newt', 'McCotter, Thaddeus G', 'Huntsman, Jon',\n",
       "       'Perry, Rick'], dtype=object)"
      ]
     },
     "execution_count": 48,
     "metadata": {},
     "output_type": "execute_result"
    }
   ],
   "source": [
    "unique_cands = fec.cand_nm.unique()\n",
    "unique_cands"
   ]
  },
  {
   "cell_type": "code",
   "execution_count": 49,
   "metadata": {
    "collapsed": false
   },
   "outputs": [
    {
     "data": {
      "text/plain": [
       "'Obama, Barack'"
      ]
     },
     "execution_count": 49,
     "metadata": {},
     "output_type": "execute_result"
    }
   ],
   "source": [
    "unique_cands[2]"
   ]
  },
  {
   "cell_type": "code",
   "execution_count": 50,
   "metadata": {
    "collapsed": false
   },
   "outputs": [],
   "source": [
    "parties = {'Bachmann, Michelle': 'Republican',\n",
    "           'Cain, Herman': 'Republican',\n",
    "           'Gingrich, Newt': 'Republican',\n",
    "           'Huntsman, Jon': 'Republican',\n",
    "           'Johnson, Gary Earl': 'Republican',\n",
    "           'McCotter, Thaddeus G': 'Republican',\n",
    "           'Obama, Barack': 'Democrat',\n",
    "           'Paul, Ron': 'Republican',\n",
    "           'Pawlenty, Timothy': 'Republican',\n",
    "           'Perry, Rick': 'Republican',\n",
    "           \"Roemer, Charles E. 'Buddy' III\": 'Republican',\n",
    "           'Romney, Mitt': 'Republican',\n",
    "           'Santorum, Rick': 'Republican'}"
   ]
  },
  {
   "cell_type": "code",
   "execution_count": 51,
   "metadata": {
    "collapsed": false
   },
   "outputs": [
    {
     "data": {
      "text/plain": [
       "123456    Obama, Barack\n",
       "123457    Obama, Barack\n",
       "123458    Obama, Barack\n",
       "123459    Obama, Barack\n",
       "123460    Obama, Barack\n",
       "Name: cand_nm, dtype: object"
      ]
     },
     "execution_count": 51,
     "metadata": {},
     "output_type": "execute_result"
    }
   ],
   "source": [
    "fec.cand_nm[123456:123461]"
   ]
  },
  {
   "cell_type": "code",
   "execution_count": 52,
   "metadata": {
    "collapsed": false
   },
   "outputs": [
    {
     "data": {
      "text/plain": [
       "123456    Democrat\n",
       "123457    Democrat\n",
       "123458    Democrat\n",
       "123459    Democrat\n",
       "123460    Democrat\n",
       "Name: cand_nm, dtype: object"
      ]
     },
     "execution_count": 52,
     "metadata": {},
     "output_type": "execute_result"
    }
   ],
   "source": [
    "fec.cand_nm[123456:123461].map(parties)"
   ]
  },
  {
   "cell_type": "markdown",
   "metadata": {},
   "source": [
    "각 후보별 정당 정보를 새로운 열로 추가"
   ]
  },
  {
   "cell_type": "code",
   "execution_count": 55,
   "metadata": {
    "collapsed": false
   },
   "outputs": [
    {
     "data": {
      "text/html": [
       "<div style=\"max-height:1000px;max-width:1500px;overflow:auto;\">\n",
       "<table border=\"1\" class=\"dataframe\">\n",
       "  <thead>\n",
       "    <tr style=\"text-align: right;\">\n",
       "      <th></th>\n",
       "      <th>cand_nm</th>\n",
       "      <th>party</th>\n",
       "    </tr>\n",
       "  </thead>\n",
       "  <tbody>\n",
       "    <tr>\n",
       "      <th>0</th>\n",
       "      <td>Bachmann, Michelle</td>\n",
       "      <td>Republican</td>\n",
       "    </tr>\n",
       "    <tr>\n",
       "      <th>1</th>\n",
       "      <td>Bachmann, Michelle</td>\n",
       "      <td>Republican</td>\n",
       "    </tr>\n",
       "    <tr>\n",
       "      <th>2</th>\n",
       "      <td>Bachmann, Michelle</td>\n",
       "      <td>Republican</td>\n",
       "    </tr>\n",
       "    <tr>\n",
       "      <th>3</th>\n",
       "      <td>Bachmann, Michelle</td>\n",
       "      <td>Republican</td>\n",
       "    </tr>\n",
       "    <tr>\n",
       "      <th>4</th>\n",
       "      <td>Bachmann, Michelle</td>\n",
       "      <td>Republican</td>\n",
       "    </tr>\n",
       "  </tbody>\n",
       "</table>\n",
       "</div>"
      ],
      "text/plain": [
       "              cand_nm       party\n",
       "0  Bachmann, Michelle  Republican\n",
       "1  Bachmann, Michelle  Republican\n",
       "2  Bachmann, Michelle  Republican\n",
       "3  Bachmann, Michelle  Republican\n",
       "4  Bachmann, Michelle  Republican"
      ]
     },
     "execution_count": 55,
     "metadata": {},
     "output_type": "execute_result"
    }
   ],
   "source": [
    "fec['party'] = fec.cand_nm.map(parties)\n",
    "fec[:5][['cand_nm','party']]"
   ]
  },
  {
   "cell_type": "markdown",
   "metadata": {},
   "source": [
    "후보자 정당별 합계"
   ]
  },
  {
   "cell_type": "code",
   "execution_count": 56,
   "metadata": {
    "collapsed": false
   },
   "outputs": [
    {
     "data": {
      "text/plain": [
       "Democrat      593746\n",
       "Republican    407985\n",
       "dtype: int64"
      ]
     },
     "execution_count": 56,
     "metadata": {},
     "output_type": "execute_result"
    }
   ],
   "source": [
    "fec['party'].value_counts()"
   ]
  },
  {
   "cell_type": "markdown",
   "metadata": {},
   "source": [
    "데이터 다듬기"
   ]
  },
  {
   "cell_type": "code",
   "execution_count": 58,
   "metadata": {
    "collapsed": false
   },
   "outputs": [
    {
     "data": {
      "text/plain": [
       "0    250\n",
       "1     50\n",
       "2    250\n",
       "Name: contb_receipt_amt, dtype: float64"
      ]
     },
     "execution_count": 58,
     "metadata": {},
     "output_type": "execute_result"
    }
   ],
   "source": [
    "fec.contb_receipt_amt[:3]"
   ]
  },
  {
   "cell_type": "code",
   "execution_count": 59,
   "metadata": {
    "collapsed": false
   },
   "outputs": [
    {
     "data": {
      "text/plain": [
       "True     991475\n",
       "False     10256\n",
       "dtype: int64"
      ]
     },
     "execution_count": 59,
     "metadata": {},
     "output_type": "execute_result"
    }
   ],
   "source": [
    "(fec.contb_receipt_amt > 0).value_counts()"
   ]
  },
  {
   "cell_type": "markdown",
   "metadata": {},
   "source": [
    "기부금이 양수인 데이터만 추출하기"
   ]
  },
  {
   "cell_type": "code",
   "execution_count": 62,
   "metadata": {
    "collapsed": false
   },
   "outputs": [
    {
     "data": {
      "text/plain": [
       "0    250\n",
       "1     50\n",
       "2    250\n",
       "3    250\n",
       "4    300\n",
       "Name: contb_receipt_amt, dtype: float64"
      ]
     },
     "execution_count": 62,
     "metadata": {},
     "output_type": "execute_result"
    }
   ],
   "source": [
    "fec = fec[fec.contb_receipt_amt > 0]\n",
    "fec[:5]['contb_receipt_amt']"
   ]
  },
  {
   "cell_type": "markdown",
   "metadata": {},
   "source": [
    "주요 후보만 선정"
   ]
  },
  {
   "cell_type": "code",
   "execution_count": 63,
   "metadata": {
    "collapsed": true
   },
   "outputs": [
    {
     "data": {
      "text/html": [
       "<div style=\"max-height:1000px;max-width:1500px;overflow:auto;\">\n",
       "<table border=\"1\" class=\"dataframe\">\n",
       "  <thead>\n",
       "    <tr style=\"text-align: right;\">\n",
       "      <th></th>\n",
       "      <th>cmte_id</th>\n",
       "      <th>cand_id</th>\n",
       "      <th>cand_nm</th>\n",
       "      <th>contbr_nm</th>\n",
       "      <th>contbr_city</th>\n",
       "      <th>contbr_st</th>\n",
       "      <th>contbr_zip</th>\n",
       "      <th>contbr_employer</th>\n",
       "      <th>contbr_occupation</th>\n",
       "      <th>contb_receipt_amt</th>\n",
       "      <th>contb_receipt_dt</th>\n",
       "      <th>receipt_desc</th>\n",
       "      <th>memo_cd</th>\n",
       "      <th>memo_text</th>\n",
       "      <th>form_tp</th>\n",
       "      <th>file_num</th>\n",
       "      <th>party</th>\n",
       "    </tr>\n",
       "  </thead>\n",
       "  <tbody>\n",
       "    <tr>\n",
       "      <th>411</th>\n",
       "      <td>C00431171</td>\n",
       "      <td>P80003353</td>\n",
       "      <td>Romney, Mitt</td>\n",
       "      <td>ELDERBAUM, WILLIAM</td>\n",
       "      <td>DPO</td>\n",
       "      <td>AA</td>\n",
       "      <td>3.402302e+08</td>\n",
       "      <td>US GOVERNMENT</td>\n",
       "      <td>FOREIGN SERVICE OFFICER</td>\n",
       "      <td>25</td>\n",
       "      <td>01-FEB-12</td>\n",
       "      <td>NaN</td>\n",
       "      <td>NaN</td>\n",
       "      <td>NaN</td>\n",
       "      <td>SA17A</td>\n",
       "      <td>780124</td>\n",
       "      <td>Republican</td>\n",
       "    </tr>\n",
       "    <tr>\n",
       "      <th>412</th>\n",
       "      <td>C00431171</td>\n",
       "      <td>P80003353</td>\n",
       "      <td>Romney, Mitt</td>\n",
       "      <td>ELDERBAUM, WILLIAM</td>\n",
       "      <td>DPO</td>\n",
       "      <td>AA</td>\n",
       "      <td>3.402302e+08</td>\n",
       "      <td>US GOVERNMENT</td>\n",
       "      <td>FOREIGN SERVICE OFFICER</td>\n",
       "      <td>110</td>\n",
       "      <td>01-FEB-12</td>\n",
       "      <td>NaN</td>\n",
       "      <td>NaN</td>\n",
       "      <td>NaN</td>\n",
       "      <td>SA17A</td>\n",
       "      <td>780124</td>\n",
       "      <td>Republican</td>\n",
       "    </tr>\n",
       "    <tr>\n",
       "      <th>413</th>\n",
       "      <td>C00431171</td>\n",
       "      <td>P80003353</td>\n",
       "      <td>Romney, Mitt</td>\n",
       "      <td>CARLSEN, RICHARD</td>\n",
       "      <td>APO</td>\n",
       "      <td>AE</td>\n",
       "      <td>9.128002e+07</td>\n",
       "      <td>DEFENSE INTELLIGENCE AGENCY</td>\n",
       "      <td>INTELLIGENCE ANALYST</td>\n",
       "      <td>250</td>\n",
       "      <td>13-APR-12</td>\n",
       "      <td>NaN</td>\n",
       "      <td>NaN</td>\n",
       "      <td>NaN</td>\n",
       "      <td>SA17A</td>\n",
       "      <td>785689</td>\n",
       "      <td>Republican</td>\n",
       "    </tr>\n",
       "    <tr>\n",
       "      <th>414</th>\n",
       "      <td>C00431171</td>\n",
       "      <td>P80003353</td>\n",
       "      <td>Romney, Mitt</td>\n",
       "      <td>DELUCA, PIERRE</td>\n",
       "      <td>APO</td>\n",
       "      <td>AE</td>\n",
       "      <td>9.128000e+07</td>\n",
       "      <td>CISCO</td>\n",
       "      <td>ENGINEER</td>\n",
       "      <td>30</td>\n",
       "      <td>21-AUG-11</td>\n",
       "      <td>NaN</td>\n",
       "      <td>NaN</td>\n",
       "      <td>NaN</td>\n",
       "      <td>SA17A</td>\n",
       "      <td>760261</td>\n",
       "      <td>Republican</td>\n",
       "    </tr>\n",
       "    <tr>\n",
       "      <th>415</th>\n",
       "      <td>C00431171</td>\n",
       "      <td>P80003353</td>\n",
       "      <td>Romney, Mitt</td>\n",
       "      <td>SARGENT, MICHAEL</td>\n",
       "      <td>APO</td>\n",
       "      <td>AE</td>\n",
       "      <td>9.012009e+07</td>\n",
       "      <td>RAYTHEON TECHNICAL SERVICES CORP</td>\n",
       "      <td>COMPUTER SYSTEMS ENGINEER</td>\n",
       "      <td>100</td>\n",
       "      <td>07-MAR-12</td>\n",
       "      <td>NaN</td>\n",
       "      <td>NaN</td>\n",
       "      <td>NaN</td>\n",
       "      <td>SA17A</td>\n",
       "      <td>780128</td>\n",
       "      <td>Republican</td>\n",
       "    </tr>\n",
       "    <tr>\n",
       "      <th>416</th>\n",
       "      <td>C00431171</td>\n",
       "      <td>P80003353</td>\n",
       "      <td>Romney, Mitt</td>\n",
       "      <td>WILSON, ANDREW C. MR.</td>\n",
       "      <td>DPO</td>\n",
       "      <td>AE</td>\n",
       "      <td>9.870002e+07</td>\n",
       "      <td>US DEPT OF STATE</td>\n",
       "      <td>FOREIGN SERVICE OFFICER</td>\n",
       "      <td>50</td>\n",
       "      <td>17-MAR-12</td>\n",
       "      <td>NaN</td>\n",
       "      <td>NaN</td>\n",
       "      <td>NaN</td>\n",
       "      <td>SA17A</td>\n",
       "      <td>780128</td>\n",
       "      <td>Republican</td>\n",
       "    </tr>\n",
       "    <tr>\n",
       "      <th>417</th>\n",
       "      <td>C00431171</td>\n",
       "      <td>P80003353</td>\n",
       "      <td>Romney, Mitt</td>\n",
       "      <td>GRIFFIS, JOHN</td>\n",
       "      <td>APO</td>\n",
       "      <td>AE</td>\n",
       "      <td>9.128001e+07</td>\n",
       "      <td>US ARMY</td>\n",
       "      <td>MILITARY OFFICER</td>\n",
       "      <td>250</td>\n",
       "      <td>20-MAR-12</td>\n",
       "      <td>NaN</td>\n",
       "      <td>NaN</td>\n",
       "      <td>NaN</td>\n",
       "      <td>SA17A</td>\n",
       "      <td>780128</td>\n",
       "      <td>Republican</td>\n",
       "    </tr>\n",
       "    <tr>\n",
       "      <th>418</th>\n",
       "      <td>C00431171</td>\n",
       "      <td>P80003353</td>\n",
       "      <td>Romney, Mitt</td>\n",
       "      <td>SARGENT, MICHAEL</td>\n",
       "      <td>APO</td>\n",
       "      <td>AE</td>\n",
       "      <td>9.012009e+07</td>\n",
       "      <td>RAYTHEON TECHNICAL SERVICES CORP</td>\n",
       "      <td>COMPUTER SYSTEMS ENGINEER</td>\n",
       "      <td>100</td>\n",
       "      <td>09-APR-12</td>\n",
       "      <td>NaN</td>\n",
       "      <td>NaN</td>\n",
       "      <td>NaN</td>\n",
       "      <td>SA17A</td>\n",
       "      <td>785689</td>\n",
       "      <td>Republican</td>\n",
       "    </tr>\n",
       "    <tr>\n",
       "      <th>419</th>\n",
       "      <td>C00431171</td>\n",
       "      <td>P80003353</td>\n",
       "      <td>Romney, Mitt</td>\n",
       "      <td>GRIFFIS, JOHN</td>\n",
       "      <td>APO</td>\n",
       "      <td>AE</td>\n",
       "      <td>9.128001e+07</td>\n",
       "      <td>US ARMY</td>\n",
       "      <td>MILITARY OFFICER</td>\n",
       "      <td>250</td>\n",
       "      <td>28-JAN-12</td>\n",
       "      <td>NaN</td>\n",
       "      <td>NaN</td>\n",
       "      <td>NaN</td>\n",
       "      <td>SA17A</td>\n",
       "      <td>771933</td>\n",
       "      <td>Republican</td>\n",
       "    </tr>\n",
       "    <tr>\n",
       "      <th>420</th>\n",
       "      <td>C00431171</td>\n",
       "      <td>P80003353</td>\n",
       "      <td>Romney, Mitt</td>\n",
       "      <td>DELUCA, PIERRE MR.</td>\n",
       "      <td>APO</td>\n",
       "      <td>AE</td>\n",
       "      <td>9.128000e+07</td>\n",
       "      <td>US ARMY</td>\n",
       "      <td>ENGINEER</td>\n",
       "      <td>50</td>\n",
       "      <td>01-FEB-12</td>\n",
       "      <td>NaN</td>\n",
       "      <td>NaN</td>\n",
       "      <td>NaN</td>\n",
       "      <td>SA17A</td>\n",
       "      <td>780124</td>\n",
       "      <td>Republican</td>\n",
       "    </tr>\n",
       "    <tr>\n",
       "      <th>421</th>\n",
       "      <td>C00431171</td>\n",
       "      <td>P80003353</td>\n",
       "      <td>Romney, Mitt</td>\n",
       "      <td>CLAUDE, FOUKS</td>\n",
       "      <td>PARIS FRANCE</td>\n",
       "      <td>AE</td>\n",
       "      <td>75011</td>\n",
       "      <td>PALPATINE</td>\n",
       "      <td>SECRET</td>\n",
       "      <td>100</td>\n",
       "      <td>29-NOV-11</td>\n",
       "      <td>NaN</td>\n",
       "      <td>NaN</td>\n",
       "      <td>NaN</td>\n",
       "      <td>SA17A</td>\n",
       "      <td>771927</td>\n",
       "      <td>Republican</td>\n",
       "    </tr>\n",
       "    <tr>\n",
       "      <th>422</th>\n",
       "      <td>C00431171</td>\n",
       "      <td>P80003353</td>\n",
       "      <td>Romney, Mitt</td>\n",
       "      <td>CLAUDE, FOUKS</td>\n",
       "      <td>PARIS FRANCE</td>\n",
       "      <td>AE</td>\n",
       "      <td>75011</td>\n",
       "      <td>PALPATINE</td>\n",
       "      <td>SECRET</td>\n",
       "      <td>250</td>\n",
       "      <td>29-DEC-11</td>\n",
       "      <td>NaN</td>\n",
       "      <td>NaN</td>\n",
       "      <td>NaN</td>\n",
       "      <td>SA17A</td>\n",
       "      <td>771927</td>\n",
       "      <td>Republican</td>\n",
       "    </tr>\n",
       "    <tr>\n",
       "      <th>423</th>\n",
       "      <td>C00431171</td>\n",
       "      <td>P80003353</td>\n",
       "      <td>Romney, Mitt</td>\n",
       "      <td>JONES, BRENDON</td>\n",
       "      <td>QATAR</td>\n",
       "      <td>AE</td>\n",
       "      <td>9898</td>\n",
       "      <td>OSC</td>\n",
       "      <td>MEDIA ANALYST</td>\n",
       "      <td>250</td>\n",
       "      <td>22-NOV-11</td>\n",
       "      <td>NaN</td>\n",
       "      <td>NaN</td>\n",
       "      <td>NaN</td>\n",
       "      <td>SA17A</td>\n",
       "      <td>771927</td>\n",
       "      <td>Republican</td>\n",
       "    </tr>\n",
       "    <tr>\n",
       "      <th>424</th>\n",
       "      <td>C00431171</td>\n",
       "      <td>P80003353</td>\n",
       "      <td>Romney, Mitt</td>\n",
       "      <td>KAMMER, DONALD</td>\n",
       "      <td>APO</td>\n",
       "      <td>AE</td>\n",
       "      <td>9267</td>\n",
       "      <td>US</td>\n",
       "      <td>MILITARY</td>\n",
       "      <td>500</td>\n",
       "      <td>31-DEC-11</td>\n",
       "      <td>NaN</td>\n",
       "      <td>NaN</td>\n",
       "      <td>NaN</td>\n",
       "      <td>SA17A</td>\n",
       "      <td>771927</td>\n",
       "      <td>Republican</td>\n",
       "    </tr>\n",
       "    <tr>\n",
       "      <th>425</th>\n",
       "      <td>C00431171</td>\n",
       "      <td>P80003353</td>\n",
       "      <td>Romney, Mitt</td>\n",
       "      <td>DELUCA, PIERRE</td>\n",
       "      <td>APO</td>\n",
       "      <td>AE</td>\n",
       "      <td>9.128000e+07</td>\n",
       "      <td>CISCO</td>\n",
       "      <td>ENGINEER</td>\n",
       "      <td>250</td>\n",
       "      <td>28-APR-11</td>\n",
       "      <td>NaN</td>\n",
       "      <td>NaN</td>\n",
       "      <td>NaN</td>\n",
       "      <td>SA17A</td>\n",
       "      <td>760248</td>\n",
       "      <td>Republican</td>\n",
       "    </tr>\n",
       "    <tr>\n",
       "      <th>426</th>\n",
       "      <td>C00431171</td>\n",
       "      <td>P80003353</td>\n",
       "      <td>Romney, Mitt</td>\n",
       "      <td>DELUCA, PIERRE</td>\n",
       "      <td>APO</td>\n",
       "      <td>AE</td>\n",
       "      <td>9.128000e+07</td>\n",
       "      <td>CISCO</td>\n",
       "      <td>ENGINEER</td>\n",
       "      <td>250</td>\n",
       "      <td>27-JUN-11</td>\n",
       "      <td>NaN</td>\n",
       "      <td>NaN</td>\n",
       "      <td>NaN</td>\n",
       "      <td>SA17A</td>\n",
       "      <td>760248</td>\n",
       "      <td>Republican</td>\n",
       "    </tr>\n",
       "    <tr>\n",
       "      <th>427</th>\n",
       "      <td>C00431171</td>\n",
       "      <td>P80003353</td>\n",
       "      <td>Romney, Mitt</td>\n",
       "      <td>EDWARDS, BRYANT MR.</td>\n",
       "      <td>LONDON UK</td>\n",
       "      <td>AE</td>\n",
       "      <td>90071</td>\n",
       "      <td>LATHAM &amp; WATKINS</td>\n",
       "      <td>ATTORNEY</td>\n",
       "      <td>2500</td>\n",
       "      <td>20-JUN-11</td>\n",
       "      <td>NaN</td>\n",
       "      <td>NaN</td>\n",
       "      <td>NaN</td>\n",
       "      <td>SA17A</td>\n",
       "      <td>760248</td>\n",
       "      <td>Republican</td>\n",
       "    </tr>\n",
       "    <tr>\n",
       "      <th>428</th>\n",
       "      <td>C00431171</td>\n",
       "      <td>P80003353</td>\n",
       "      <td>Romney, Mitt</td>\n",
       "      <td>SANTALIZ, RAFAEL MR. JR.</td>\n",
       "      <td>APO</td>\n",
       "      <td>AE</td>\n",
       "      <td>9.102001e+07</td>\n",
       "      <td>INFORMATION REQUESTED PER BEST EFFORTS</td>\n",
       "      <td>INFORMATION REQUESTED PER BEST EFFORTS</td>\n",
       "      <td>500</td>\n",
       "      <td>14-FEB-12</td>\n",
       "      <td>NaN</td>\n",
       "      <td>NaN</td>\n",
       "      <td>NaN</td>\n",
       "      <td>SA17A</td>\n",
       "      <td>780124</td>\n",
       "      <td>Republican</td>\n",
       "    </tr>\n",
       "    <tr>\n",
       "      <th>429</th>\n",
       "      <td>C00431171</td>\n",
       "      <td>P80003353</td>\n",
       "      <td>Romney, Mitt</td>\n",
       "      <td>DICKSON, ROBERT J. MR.</td>\n",
       "      <td>ANCHORAGE</td>\n",
       "      <td>AK</td>\n",
       "      <td>9.951661e+08</td>\n",
       "      <td>ATKINSON CONWAY &amp; GOGVOR</td>\n",
       "      <td>ATTORNEY</td>\n",
       "      <td>250</td>\n",
       "      <td>27-APR-12</td>\n",
       "      <td>NaN</td>\n",
       "      <td>NaN</td>\n",
       "      <td>NaN</td>\n",
       "      <td>SA17A</td>\n",
       "      <td>785689</td>\n",
       "      <td>Republican</td>\n",
       "    </tr>\n",
       "    <tr>\n",
       "      <th>430</th>\n",
       "      <td>C00431171</td>\n",
       "      <td>P80003353</td>\n",
       "      <td>Romney, Mitt</td>\n",
       "      <td>CARROLL, ART MR.</td>\n",
       "      <td>FAIRBANKS</td>\n",
       "      <td>AK</td>\n",
       "      <td>9.97014e+08</td>\n",
       "      <td>RETIRED</td>\n",
       "      <td>RETIRED</td>\n",
       "      <td>100</td>\n",
       "      <td>09-APR-12</td>\n",
       "      <td>NaN</td>\n",
       "      <td>NaN</td>\n",
       "      <td>NaN</td>\n",
       "      <td>SA17A</td>\n",
       "      <td>785689</td>\n",
       "      <td>Republican</td>\n",
       "    </tr>\n",
       "    <tr>\n",
       "      <th>431</th>\n",
       "      <td>C00431171</td>\n",
       "      <td>P80003353</td>\n",
       "      <td>Romney, Mitt</td>\n",
       "      <td>NELDNER, RICHARD E. MR.</td>\n",
       "      <td>FAIRBANKS</td>\n",
       "      <td>AK</td>\n",
       "      <td>9.970725e+08</td>\n",
       "      <td>RETIRED</td>\n",
       "      <td>RETIRED</td>\n",
       "      <td>2500</td>\n",
       "      <td>23-APR-12</td>\n",
       "      <td>NaN</td>\n",
       "      <td>NaN</td>\n",
       "      <td>NaN</td>\n",
       "      <td>SA17A</td>\n",
       "      <td>785689</td>\n",
       "      <td>Republican</td>\n",
       "    </tr>\n",
       "    <tr>\n",
       "      <th>432</th>\n",
       "      <td>C00431171</td>\n",
       "      <td>P80003353</td>\n",
       "      <td>Romney, Mitt</td>\n",
       "      <td>MCGUIRE, PATTI S. MRS.</td>\n",
       "      <td>ANCHORAGE</td>\n",
       "      <td>AK</td>\n",
       "      <td>9.950219e+08</td>\n",
       "      <td>BRIDGECARE HOSPITALS</td>\n",
       "      <td>VICE PRESIDENT</td>\n",
       "      <td>1000</td>\n",
       "      <td>12-APR-12</td>\n",
       "      <td>NaN</td>\n",
       "      <td>NaN</td>\n",
       "      <td>NaN</td>\n",
       "      <td>SA17A</td>\n",
       "      <td>785689</td>\n",
       "      <td>Republican</td>\n",
       "    </tr>\n",
       "    <tr>\n",
       "      <th>433</th>\n",
       "      <td>C00431171</td>\n",
       "      <td>P80003353</td>\n",
       "      <td>Romney, Mitt</td>\n",
       "      <td>WENZELL, DOMINIC S. DR.</td>\n",
       "      <td>ANCHORAGE</td>\n",
       "      <td>AK</td>\n",
       "      <td>9.951733e+08</td>\n",
       "      <td>SELF-EMPLOYED</td>\n",
       "      <td>DENTIST</td>\n",
       "      <td>250</td>\n",
       "      <td>30-APR-12</td>\n",
       "      <td>NaN</td>\n",
       "      <td>NaN</td>\n",
       "      <td>NaN</td>\n",
       "      <td>SA17A</td>\n",
       "      <td>785689</td>\n",
       "      <td>Republican</td>\n",
       "    </tr>\n",
       "    <tr>\n",
       "      <th>434</th>\n",
       "      <td>C00431171</td>\n",
       "      <td>P80003353</td>\n",
       "      <td>Romney, Mitt</td>\n",
       "      <td>DIXON, JANET</td>\n",
       "      <td>FAIRBANKS</td>\n",
       "      <td>AK</td>\n",
       "      <td>9.970966e+08</td>\n",
       "      <td>SELF-EMPLOYED</td>\n",
       "      <td>CONSULTANT</td>\n",
       "      <td>110</td>\n",
       "      <td>23-APR-12</td>\n",
       "      <td>NaN</td>\n",
       "      <td>NaN</td>\n",
       "      <td>NaN</td>\n",
       "      <td>SA17A</td>\n",
       "      <td>785689</td>\n",
       "      <td>Republican</td>\n",
       "    </tr>\n",
       "    <tr>\n",
       "      <th>435</th>\n",
       "      <td>C00431171</td>\n",
       "      <td>P80003353</td>\n",
       "      <td>Romney, Mitt</td>\n",
       "      <td>HOVE, BRIAN MR.</td>\n",
       "      <td>ANCHORAGE</td>\n",
       "      <td>AK</td>\n",
       "      <td>9.951727e+08</td>\n",
       "      <td>SELF-EMPLOYED</td>\n",
       "      <td>PHOTOGRAPHER</td>\n",
       "      <td>250</td>\n",
       "      <td>24-APR-12</td>\n",
       "      <td>NaN</td>\n",
       "      <td>NaN</td>\n",
       "      <td>NaN</td>\n",
       "      <td>SA17A</td>\n",
       "      <td>785689</td>\n",
       "      <td>Republican</td>\n",
       "    </tr>\n",
       "    <tr>\n",
       "      <th>436</th>\n",
       "      <td>C00431171</td>\n",
       "      <td>P80003353</td>\n",
       "      <td>Romney, Mitt</td>\n",
       "      <td>FRAHM, MIKE</td>\n",
       "      <td>WILLOW</td>\n",
       "      <td>AK</td>\n",
       "      <td>9.968811e+08</td>\n",
       "      <td>ALASKA AIRLINES</td>\n",
       "      <td>PILOT</td>\n",
       "      <td>250</td>\n",
       "      <td>20-APR-12</td>\n",
       "      <td>NaN</td>\n",
       "      <td>NaN</td>\n",
       "      <td>NaN</td>\n",
       "      <td>SA17A</td>\n",
       "      <td>785689</td>\n",
       "      <td>Republican</td>\n",
       "    </tr>\n",
       "    <tr>\n",
       "      <th>437</th>\n",
       "      <td>C00431171</td>\n",
       "      <td>P80003353</td>\n",
       "      <td>Romney, Mitt</td>\n",
       "      <td>POWERS, SANDRA L.</td>\n",
       "      <td>ANCHORAGE</td>\n",
       "      <td>AK</td>\n",
       "      <td>9.950725e+08</td>\n",
       "      <td>POWERS BROTHERS INC.</td>\n",
       "      <td>VICE PRESIDENT</td>\n",
       "      <td>25</td>\n",
       "      <td>24-APR-12</td>\n",
       "      <td>NaN</td>\n",
       "      <td>NaN</td>\n",
       "      <td>NaN</td>\n",
       "      <td>SA17A</td>\n",
       "      <td>785689</td>\n",
       "      <td>Republican</td>\n",
       "    </tr>\n",
       "    <tr>\n",
       "      <th>438</th>\n",
       "      <td>C00431171</td>\n",
       "      <td>P80003353</td>\n",
       "      <td>Romney, Mitt</td>\n",
       "      <td>SNODGRASS, JEANNIE</td>\n",
       "      <td>PALMER</td>\n",
       "      <td>AK</td>\n",
       "      <td>9.964519e+08</td>\n",
       "      <td>STUDENT</td>\n",
       "      <td>STUDENT</td>\n",
       "      <td>250</td>\n",
       "      <td>21-APR-12</td>\n",
       "      <td>NaN</td>\n",
       "      <td>NaN</td>\n",
       "      <td>NaN</td>\n",
       "      <td>SA17A</td>\n",
       "      <td>785689</td>\n",
       "      <td>Republican</td>\n",
       "    </tr>\n",
       "    <tr>\n",
       "      <th>439</th>\n",
       "      <td>C00431171</td>\n",
       "      <td>P80003353</td>\n",
       "      <td>Romney, Mitt</td>\n",
       "      <td>POWELL, J. FRANCES MR.</td>\n",
       "      <td>KODIAK</td>\n",
       "      <td>AK</td>\n",
       "      <td>9.961506e+08</td>\n",
       "      <td>INFORMATION REQUESTED PER BEST EFFORTS</td>\n",
       "      <td>INFORMATION REQUESTED PER BEST EFFORTS</td>\n",
       "      <td>250</td>\n",
       "      <td>09-APR-12</td>\n",
       "      <td>NaN</td>\n",
       "      <td>NaN</td>\n",
       "      <td>NaN</td>\n",
       "      <td>SA17A</td>\n",
       "      <td>785689</td>\n",
       "      <td>Republican</td>\n",
       "    </tr>\n",
       "    <tr>\n",
       "      <th>440</th>\n",
       "      <td>C00431171</td>\n",
       "      <td>P80003353</td>\n",
       "      <td>Romney, Mitt</td>\n",
       "      <td>MCQUEEN, DENNIS L. MR.</td>\n",
       "      <td>FAIRBANKS</td>\n",
       "      <td>AK</td>\n",
       "      <td>9.970115e+08</td>\n",
       "      <td>RETIRED</td>\n",
       "      <td>RETIRED</td>\n",
       "      <td>50</td>\n",
       "      <td>16-APR-12</td>\n",
       "      <td>NaN</td>\n",
       "      <td>NaN</td>\n",
       "      <td>NaN</td>\n",
       "      <td>SA17A</td>\n",
       "      <td>785689</td>\n",
       "      <td>Republican</td>\n",
       "    </tr>\n",
       "    <tr>\n",
       "      <th>...</th>\n",
       "      <td>...</td>\n",
       "      <td>...</td>\n",
       "      <td>...</td>\n",
       "      <td>...</td>\n",
       "      <td>...</td>\n",
       "      <td>...</td>\n",
       "      <td>...</td>\n",
       "      <td>...</td>\n",
       "      <td>...</td>\n",
       "      <td>...</td>\n",
       "      <td>...</td>\n",
       "      <td>...</td>\n",
       "      <td>...</td>\n",
       "      <td>...</td>\n",
       "      <td>...</td>\n",
       "      <td>...</td>\n",
       "      <td>...</td>\n",
       "    </tr>\n",
       "    <tr>\n",
       "      <th>701356</th>\n",
       "      <td>C00431445</td>\n",
       "      <td>P80003338</td>\n",
       "      <td>Obama, Barack</td>\n",
       "      <td>WOODS, WILLIAM</td>\n",
       "      <td>BAR NUNN</td>\n",
       "      <td>WY</td>\n",
       "      <td>826019485</td>\n",
       "      <td>WAL-MART</td>\n",
       "      <td>ASSOCIATE</td>\n",
       "      <td>20</td>\n",
       "      <td>31-MAR-12</td>\n",
       "      <td>NaN</td>\n",
       "      <td>NaN</td>\n",
       "      <td>NaN</td>\n",
       "      <td>SA17A</td>\n",
       "      <td>780234</td>\n",
       "      <td>Democrat</td>\n",
       "    </tr>\n",
       "    <tr>\n",
       "      <th>701357</th>\n",
       "      <td>C00431445</td>\n",
       "      <td>P80003338</td>\n",
       "      <td>Obama, Barack</td>\n",
       "      <td>STOVAL, LINDA</td>\n",
       "      <td>CASPER</td>\n",
       "      <td>WY</td>\n",
       "      <td>826013324</td>\n",
       "      <td>SELF-EMPLOYED</td>\n",
       "      <td>POLITICAL CONSULTANT AND COACH</td>\n",
       "      <td>10</td>\n",
       "      <td>28-MAR-12</td>\n",
       "      <td>NaN</td>\n",
       "      <td>NaN</td>\n",
       "      <td>NaN</td>\n",
       "      <td>SA17A</td>\n",
       "      <td>780234</td>\n",
       "      <td>Democrat</td>\n",
       "    </tr>\n",
       "    <tr>\n",
       "      <th>701358</th>\n",
       "      <td>C00431445</td>\n",
       "      <td>P80003338</td>\n",
       "      <td>Obama, Barack</td>\n",
       "      <td>HAGEN, MARTIN</td>\n",
       "      <td>JACKSON</td>\n",
       "      <td>WY</td>\n",
       "      <td>83002</td>\n",
       "      <td>TETON COUNTY SCHOOL DIST. #1</td>\n",
       "      <td>BUS DRIVER</td>\n",
       "      <td>25</td>\n",
       "      <td>17-MAR-12</td>\n",
       "      <td>NaN</td>\n",
       "      <td>NaN</td>\n",
       "      <td>NaN</td>\n",
       "      <td>SA17A</td>\n",
       "      <td>780234</td>\n",
       "      <td>Democrat</td>\n",
       "    </tr>\n",
       "    <tr>\n",
       "      <th>701359</th>\n",
       "      <td>C00431445</td>\n",
       "      <td>P80003338</td>\n",
       "      <td>Obama, Barack</td>\n",
       "      <td>MILLS, DAVID</td>\n",
       "      <td>JACKSON</td>\n",
       "      <td>WY</td>\n",
       "      <td>830010452</td>\n",
       "      <td>RETIRED</td>\n",
       "      <td>RETIRED</td>\n",
       "      <td>75</td>\n",
       "      <td>31-MAR-12</td>\n",
       "      <td>NaN</td>\n",
       "      <td>NaN</td>\n",
       "      <td>NaN</td>\n",
       "      <td>SA17A</td>\n",
       "      <td>780234</td>\n",
       "      <td>Democrat</td>\n",
       "    </tr>\n",
       "    <tr>\n",
       "      <th>701360</th>\n",
       "      <td>C00431445</td>\n",
       "      <td>P80003338</td>\n",
       "      <td>Obama, Barack</td>\n",
       "      <td>PHELPS, WILLIAM</td>\n",
       "      <td>JACKSON</td>\n",
       "      <td>WY</td>\n",
       "      <td>830012585</td>\n",
       "      <td>SELF-EMPLOYED</td>\n",
       "      <td>SELF-EMPLOYED</td>\n",
       "      <td>100</td>\n",
       "      <td>02-MAR-12</td>\n",
       "      <td>NaN</td>\n",
       "      <td>NaN</td>\n",
       "      <td>NaN</td>\n",
       "      <td>SA17A</td>\n",
       "      <td>780234</td>\n",
       "      <td>Democrat</td>\n",
       "    </tr>\n",
       "    <tr>\n",
       "      <th>701361</th>\n",
       "      <td>C00431445</td>\n",
       "      <td>P80003338</td>\n",
       "      <td>Obama, Barack</td>\n",
       "      <td>MARLATT, GORDON</td>\n",
       "      <td>LARAMIE</td>\n",
       "      <td>WY</td>\n",
       "      <td>82070</td>\n",
       "      <td>SELF-EMPLOYED</td>\n",
       "      <td>GEOLOGIST</td>\n",
       "      <td>25</td>\n",
       "      <td>07-MAR-12</td>\n",
       "      <td>NaN</td>\n",
       "      <td>NaN</td>\n",
       "      <td>NaN</td>\n",
       "      <td>SA17A</td>\n",
       "      <td>780234</td>\n",
       "      <td>Democrat</td>\n",
       "    </tr>\n",
       "    <tr>\n",
       "      <th>701362</th>\n",
       "      <td>C00431445</td>\n",
       "      <td>P80003338</td>\n",
       "      <td>Obama, Barack</td>\n",
       "      <td>GOTTFRIED, BETTE</td>\n",
       "      <td>CASPER</td>\n",
       "      <td>WY</td>\n",
       "      <td>826043172</td>\n",
       "      <td>RETIRED</td>\n",
       "      <td>RETIRED</td>\n",
       "      <td>200</td>\n",
       "      <td>25-APR-12</td>\n",
       "      <td>NaN</td>\n",
       "      <td>NaN</td>\n",
       "      <td>NaN</td>\n",
       "      <td>SA17A</td>\n",
       "      <td>785239</td>\n",
       "      <td>Democrat</td>\n",
       "    </tr>\n",
       "    <tr>\n",
       "      <th>701363</th>\n",
       "      <td>C00431445</td>\n",
       "      <td>P80003338</td>\n",
       "      <td>Obama, Barack</td>\n",
       "      <td>STOVAL, LINDA</td>\n",
       "      <td>CASPER</td>\n",
       "      <td>WY</td>\n",
       "      <td>826013324</td>\n",
       "      <td>SELF-EMPLOYED</td>\n",
       "      <td>POLITICAL CONSULTANT AND COACH</td>\n",
       "      <td>25</td>\n",
       "      <td>23-APR-12</td>\n",
       "      <td>NaN</td>\n",
       "      <td>NaN</td>\n",
       "      <td>NaN</td>\n",
       "      <td>SA17A</td>\n",
       "      <td>785239</td>\n",
       "      <td>Democrat</td>\n",
       "    </tr>\n",
       "    <tr>\n",
       "      <th>701364</th>\n",
       "      <td>C00431445</td>\n",
       "      <td>P80003338</td>\n",
       "      <td>Obama, Barack</td>\n",
       "      <td>MILES, MATTHEW</td>\n",
       "      <td>ALPINE</td>\n",
       "      <td>WY</td>\n",
       "      <td>831280665</td>\n",
       "      <td>SELF-EMPLOYED</td>\n",
       "      <td>BUSINESS MANAGEMENT</td>\n",
       "      <td>50</td>\n",
       "      <td>20-APR-12</td>\n",
       "      <td>NaN</td>\n",
       "      <td>NaN</td>\n",
       "      <td>NaN</td>\n",
       "      <td>SA17A</td>\n",
       "      <td>785239</td>\n",
       "      <td>Democrat</td>\n",
       "    </tr>\n",
       "    <tr>\n",
       "      <th>701365</th>\n",
       "      <td>C00431445</td>\n",
       "      <td>P80003338</td>\n",
       "      <td>Obama, Barack</td>\n",
       "      <td>NELSON, JANE B.</td>\n",
       "      <td>CHEYENNE</td>\n",
       "      <td>WY</td>\n",
       "      <td>820098901</td>\n",
       "      <td>RETIRED</td>\n",
       "      <td>RETIRED</td>\n",
       "      <td>50</td>\n",
       "      <td>30-APR-12</td>\n",
       "      <td>NaN</td>\n",
       "      <td>NaN</td>\n",
       "      <td>NaN</td>\n",
       "      <td>SA17A</td>\n",
       "      <td>785239</td>\n",
       "      <td>Democrat</td>\n",
       "    </tr>\n",
       "    <tr>\n",
       "      <th>701366</th>\n",
       "      <td>C00431445</td>\n",
       "      <td>P80003338</td>\n",
       "      <td>Obama, Barack</td>\n",
       "      <td>HAGEN, MARTIN</td>\n",
       "      <td>JACKSON</td>\n",
       "      <td>WY</td>\n",
       "      <td>83002</td>\n",
       "      <td>TETON COUNTY SCHOOL DIST. #1</td>\n",
       "      <td>BUS DRIVER</td>\n",
       "      <td>19</td>\n",
       "      <td>26-APR-12</td>\n",
       "      <td>NaN</td>\n",
       "      <td>NaN</td>\n",
       "      <td>NaN</td>\n",
       "      <td>SA17A</td>\n",
       "      <td>785239</td>\n",
       "      <td>Democrat</td>\n",
       "    </tr>\n",
       "    <tr>\n",
       "      <th>701367</th>\n",
       "      <td>C00431445</td>\n",
       "      <td>P80003338</td>\n",
       "      <td>Obama, Barack</td>\n",
       "      <td>EMORY, DENNIS S</td>\n",
       "      <td>WILSON</td>\n",
       "      <td>WY</td>\n",
       "      <td>830140190</td>\n",
       "      <td>SELF-EMPLOYED</td>\n",
       "      <td>CONSULTANT</td>\n",
       "      <td>100</td>\n",
       "      <td>19-APR-12</td>\n",
       "      <td>NaN</td>\n",
       "      <td>NaN</td>\n",
       "      <td>NaN</td>\n",
       "      <td>SA17A</td>\n",
       "      <td>785239</td>\n",
       "      <td>Democrat</td>\n",
       "    </tr>\n",
       "    <tr>\n",
       "      <th>701368</th>\n",
       "      <td>C00431445</td>\n",
       "      <td>P80003338</td>\n",
       "      <td>Obama, Barack</td>\n",
       "      <td>IRWIN, C. DON</td>\n",
       "      <td>DOUGLAS</td>\n",
       "      <td>WY</td>\n",
       "      <td>826339515</td>\n",
       "      <td>INFORMATION REQUESTED</td>\n",
       "      <td>INFORMATION REQUESTED</td>\n",
       "      <td>150</td>\n",
       "      <td>05-APR-12</td>\n",
       "      <td>NaN</td>\n",
       "      <td>NaN</td>\n",
       "      <td>NaN</td>\n",
       "      <td>SA17A</td>\n",
       "      <td>785239</td>\n",
       "      <td>Democrat</td>\n",
       "    </tr>\n",
       "    <tr>\n",
       "      <th>701369</th>\n",
       "      <td>C00431445</td>\n",
       "      <td>P80003338</td>\n",
       "      <td>Obama, Barack</td>\n",
       "      <td>LIU, FREDERICK</td>\n",
       "      <td>JACKSON</td>\n",
       "      <td>WY</td>\n",
       "      <td>830010788</td>\n",
       "      <td>NOT EMPLOYED</td>\n",
       "      <td>RETIRED</td>\n",
       "      <td>56</td>\n",
       "      <td>26-APR-12</td>\n",
       "      <td>NaN</td>\n",
       "      <td>NaN</td>\n",
       "      <td>NaN</td>\n",
       "      <td>SA17A</td>\n",
       "      <td>785239</td>\n",
       "      <td>Democrat</td>\n",
       "    </tr>\n",
       "    <tr>\n",
       "      <th>701370</th>\n",
       "      <td>C00431445</td>\n",
       "      <td>P80003338</td>\n",
       "      <td>Obama, Barack</td>\n",
       "      <td>KNIGHT, CINDY</td>\n",
       "      <td>JACKSON</td>\n",
       "      <td>WY</td>\n",
       "      <td>830012194</td>\n",
       "      <td>TETON YOUTH AND FAMILY SERVICES</td>\n",
       "      <td>PROGRAM DIRECTOR</td>\n",
       "      <td>100</td>\n",
       "      <td>19-APR-12</td>\n",
       "      <td>NaN</td>\n",
       "      <td>NaN</td>\n",
       "      <td>NaN</td>\n",
       "      <td>SA17A</td>\n",
       "      <td>785239</td>\n",
       "      <td>Democrat</td>\n",
       "    </tr>\n",
       "    <tr>\n",
       "      <th>701371</th>\n",
       "      <td>C00431445</td>\n",
       "      <td>P80003338</td>\n",
       "      <td>Obama, Barack</td>\n",
       "      <td>NEAL, AMBER</td>\n",
       "      <td>APO</td>\n",
       "      <td>ZZ</td>\n",
       "      <td>091022065</td>\n",
       "      <td>THE DEPARTMENT OF DEFENSE EDUCATION AC</td>\n",
       "      <td>TEACHER</td>\n",
       "      <td>50</td>\n",
       "      <td>04-SEP-11</td>\n",
       "      <td>NaN</td>\n",
       "      <td>NaN</td>\n",
       "      <td>NaN</td>\n",
       "      <td>SA17A</td>\n",
       "      <td>756218</td>\n",
       "      <td>Democrat</td>\n",
       "    </tr>\n",
       "    <tr>\n",
       "      <th>701372</th>\n",
       "      <td>C00431445</td>\n",
       "      <td>P80003338</td>\n",
       "      <td>Obama, Barack</td>\n",
       "      <td>MOUNTS, ROBERT</td>\n",
       "      <td>APO</td>\n",
       "      <td>ZZ</td>\n",
       "      <td>962043077</td>\n",
       "      <td>HQ USFK (FKDC-SA)</td>\n",
       "      <td>GS-15 INTERNATIONAL RELATIONS OFFICER</td>\n",
       "      <td>25</td>\n",
       "      <td>26-MAR-12</td>\n",
       "      <td>NaN</td>\n",
       "      <td>NaN</td>\n",
       "      <td>NaN</td>\n",
       "      <td>SA17A</td>\n",
       "      <td>780234</td>\n",
       "      <td>Democrat</td>\n",
       "    </tr>\n",
       "    <tr>\n",
       "      <th>701373</th>\n",
       "      <td>C00431445</td>\n",
       "      <td>P80003338</td>\n",
       "      <td>Obama, Barack</td>\n",
       "      <td>MOUNTS, ROBERT</td>\n",
       "      <td>APO</td>\n",
       "      <td>ZZ</td>\n",
       "      <td>962043077</td>\n",
       "      <td>HQ USFK (FKDC-SA)</td>\n",
       "      <td>GS-15 INTERNATIONAL RELATIONS OFFICER</td>\n",
       "      <td>25</td>\n",
       "      <td>26-OCT-11</td>\n",
       "      <td>NaN</td>\n",
       "      <td>NaN</td>\n",
       "      <td>NaN</td>\n",
       "      <td>SA17A</td>\n",
       "      <td>772372</td>\n",
       "      <td>Democrat</td>\n",
       "    </tr>\n",
       "    <tr>\n",
       "      <th>701374</th>\n",
       "      <td>C00431445</td>\n",
       "      <td>P80003338</td>\n",
       "      <td>Obama, Barack</td>\n",
       "      <td>TUCKER, PAMELA</td>\n",
       "      <td>APO</td>\n",
       "      <td>ZZ</td>\n",
       "      <td>963190030</td>\n",
       "      <td>DODEA</td>\n",
       "      <td>EDUCATOR</td>\n",
       "      <td>100</td>\n",
       "      <td>31-DEC-11</td>\n",
       "      <td>NaN</td>\n",
       "      <td>NaN</td>\n",
       "      <td>NaN</td>\n",
       "      <td>SA17A</td>\n",
       "      <td>772372</td>\n",
       "      <td>Democrat</td>\n",
       "    </tr>\n",
       "    <tr>\n",
       "      <th>701375</th>\n",
       "      <td>C00431445</td>\n",
       "      <td>P80003338</td>\n",
       "      <td>Obama, Barack</td>\n",
       "      <td>MOUNTS, ROBERT</td>\n",
       "      <td>APO</td>\n",
       "      <td>ZZ</td>\n",
       "      <td>962043077</td>\n",
       "      <td>HQ USFK (FKDC-SA)</td>\n",
       "      <td>GS-15 INTERNATIONAL RELATIONS OFFICER</td>\n",
       "      <td>25</td>\n",
       "      <td>26-DEC-11</td>\n",
       "      <td>NaN</td>\n",
       "      <td>NaN</td>\n",
       "      <td>NaN</td>\n",
       "      <td>SA17A</td>\n",
       "      <td>772372</td>\n",
       "      <td>Democrat</td>\n",
       "    </tr>\n",
       "    <tr>\n",
       "      <th>701376</th>\n",
       "      <td>C00431445</td>\n",
       "      <td>P80003338</td>\n",
       "      <td>Obama, Barack</td>\n",
       "      <td>JONES, LESLIE</td>\n",
       "      <td>HAMILTON PARISH</td>\n",
       "      <td>ZZ</td>\n",
       "      <td>0CR04</td>\n",
       "      <td>SELF-EMPLOYED</td>\n",
       "      <td>ATTORNEY</td>\n",
       "      <td>2500</td>\n",
       "      <td>30-DEC-11</td>\n",
       "      <td>NaN</td>\n",
       "      <td>X</td>\n",
       "      <td>* OBAMA VICTORY FUND 2012</td>\n",
       "      <td>SA18</td>\n",
       "      <td>772372</td>\n",
       "      <td>Democrat</td>\n",
       "    </tr>\n",
       "    <tr>\n",
       "      <th>701377</th>\n",
       "      <td>C00431445</td>\n",
       "      <td>P80003338</td>\n",
       "      <td>Obama, Barack</td>\n",
       "      <td>MOUNTS, ROBERT</td>\n",
       "      <td>APO</td>\n",
       "      <td>ZZ</td>\n",
       "      <td>962043077</td>\n",
       "      <td>HQ USFK (FKDC-SA)</td>\n",
       "      <td>GS-15 INTERNATIONAL RELATIONS OFFICER</td>\n",
       "      <td>25</td>\n",
       "      <td>26-NOV-11</td>\n",
       "      <td>NaN</td>\n",
       "      <td>NaN</td>\n",
       "      <td>NaN</td>\n",
       "      <td>SA17A</td>\n",
       "      <td>772372</td>\n",
       "      <td>Democrat</td>\n",
       "    </tr>\n",
       "    <tr>\n",
       "      <th>701378</th>\n",
       "      <td>C00431445</td>\n",
       "      <td>P80003338</td>\n",
       "      <td>Obama, Barack</td>\n",
       "      <td>MOUNTS, ROBERT</td>\n",
       "      <td>APO</td>\n",
       "      <td>ZZ</td>\n",
       "      <td>962043077</td>\n",
       "      <td>HQ USFK (FKDC-SA)</td>\n",
       "      <td>GS-15 INTERNATIONAL RELATIONS OFFICER</td>\n",
       "      <td>25</td>\n",
       "      <td>26-JAN-12</td>\n",
       "      <td>NaN</td>\n",
       "      <td>NaN</td>\n",
       "      <td>NaN</td>\n",
       "      <td>SA17A</td>\n",
       "      <td>775668</td>\n",
       "      <td>Democrat</td>\n",
       "    </tr>\n",
       "    <tr>\n",
       "      <th>701379</th>\n",
       "      <td>C00431445</td>\n",
       "      <td>P80003338</td>\n",
       "      <td>Obama, Barack</td>\n",
       "      <td>GOLDSTINE, RAYMOND</td>\n",
       "      <td>APO</td>\n",
       "      <td>ZZ</td>\n",
       "      <td>09831</td>\n",
       "      <td>CDC</td>\n",
       "      <td>PUBLIC HEALTH ADVISOR</td>\n",
       "      <td>250</td>\n",
       "      <td>02-FEB-12</td>\n",
       "      <td>NaN</td>\n",
       "      <td>NaN</td>\n",
       "      <td>NaN</td>\n",
       "      <td>SA17A</td>\n",
       "      <td>787803</td>\n",
       "      <td>Democrat</td>\n",
       "    </tr>\n",
       "    <tr>\n",
       "      <th>701380</th>\n",
       "      <td>C00431445</td>\n",
       "      <td>P80003338</td>\n",
       "      <td>Obama, Barack</td>\n",
       "      <td>JONES, LESLIE</td>\n",
       "      <td>HAMILTON PARISH</td>\n",
       "      <td>ZZ</td>\n",
       "      <td>0CR04</td>\n",
       "      <td>SELF-EMPLOYED</td>\n",
       "      <td>ATTORNEY</td>\n",
       "      <td>2500</td>\n",
       "      <td>30-DEC-11</td>\n",
       "      <td>NaN</td>\n",
       "      <td>X</td>\n",
       "      <td>* OBAMA VICTORY FUND 2012</td>\n",
       "      <td>SA18</td>\n",
       "      <td>772372</td>\n",
       "      <td>Democrat</td>\n",
       "    </tr>\n",
       "    <tr>\n",
       "      <th>701381</th>\n",
       "      <td>C00431445</td>\n",
       "      <td>P80003338</td>\n",
       "      <td>Obama, Barack</td>\n",
       "      <td>MOUNTS, ROBERT</td>\n",
       "      <td>APO</td>\n",
       "      <td>ZZ</td>\n",
       "      <td>962043077</td>\n",
       "      <td>HQ USFK (FKDC-SA)</td>\n",
       "      <td>GS-15 INTERNATIONAL RELATIONS OFFICER</td>\n",
       "      <td>25</td>\n",
       "      <td>26-FEB-12</td>\n",
       "      <td>NaN</td>\n",
       "      <td>NaN</td>\n",
       "      <td>NaN</td>\n",
       "      <td>SA17A</td>\n",
       "      <td>787803</td>\n",
       "      <td>Democrat</td>\n",
       "    </tr>\n",
       "    <tr>\n",
       "      <th>701382</th>\n",
       "      <td>C00431445</td>\n",
       "      <td>P80003338</td>\n",
       "      <td>Obama, Barack</td>\n",
       "      <td>TAITANO, TYRONE</td>\n",
       "      <td>HAGATNA</td>\n",
       "      <td>ZZ</td>\n",
       "      <td>969323373</td>\n",
       "      <td>NOT EMPLOYED</td>\n",
       "      <td>RETIRED</td>\n",
       "      <td>250</td>\n",
       "      <td>20-JAN-12</td>\n",
       "      <td>NaN</td>\n",
       "      <td>NaN</td>\n",
       "      <td>NaN</td>\n",
       "      <td>SA17A</td>\n",
       "      <td>775668</td>\n",
       "      <td>Democrat</td>\n",
       "    </tr>\n",
       "    <tr>\n",
       "      <th>701383</th>\n",
       "      <td>C00431445</td>\n",
       "      <td>P80003338</td>\n",
       "      <td>Obama, Barack</td>\n",
       "      <td>TUCKER, PAMELA</td>\n",
       "      <td>APO</td>\n",
       "      <td>ZZ</td>\n",
       "      <td>963190030</td>\n",
       "      <td>DODEA</td>\n",
       "      <td>EDUCATOR</td>\n",
       "      <td>3</td>\n",
       "      <td>20-JAN-12</td>\n",
       "      <td>NaN</td>\n",
       "      <td>NaN</td>\n",
       "      <td>NaN</td>\n",
       "      <td>SA17A</td>\n",
       "      <td>775668</td>\n",
       "      <td>Democrat</td>\n",
       "    </tr>\n",
       "    <tr>\n",
       "      <th>701384</th>\n",
       "      <td>C00431445</td>\n",
       "      <td>P80003338</td>\n",
       "      <td>Obama, Barack</td>\n",
       "      <td>MOUNTS, ROBERT</td>\n",
       "      <td>APO</td>\n",
       "      <td>ZZ</td>\n",
       "      <td>962043077</td>\n",
       "      <td>HQ USFK (FKDC-SA)</td>\n",
       "      <td>GS-15 INTERNATIONAL RELATIONS OFFICER</td>\n",
       "      <td>25</td>\n",
       "      <td>26-APR-12</td>\n",
       "      <td>NaN</td>\n",
       "      <td>NaN</td>\n",
       "      <td>NaN</td>\n",
       "      <td>SA17A</td>\n",
       "      <td>785239</td>\n",
       "      <td>Democrat</td>\n",
       "    </tr>\n",
       "    <tr>\n",
       "      <th>701385</th>\n",
       "      <td>C00431445</td>\n",
       "      <td>P80003338</td>\n",
       "      <td>Obama, Barack</td>\n",
       "      <td>NEAL, AMBER</td>\n",
       "      <td>APO</td>\n",
       "      <td>ZZ</td>\n",
       "      <td>091022065</td>\n",
       "      <td>THE DEPARTMENT OF DEFENSE EDUCATION AC</td>\n",
       "      <td>TEACHER</td>\n",
       "      <td>135</td>\n",
       "      <td>04-SEP-11</td>\n",
       "      <td>NaN</td>\n",
       "      <td>X</td>\n",
       "      <td>* OBAMA VICTORY FUND 2012</td>\n",
       "      <td>SA18</td>\n",
       "      <td>756218</td>\n",
       "      <td>Democrat</td>\n",
       "    </tr>\n",
       "  </tbody>\n",
       "</table>\n",
       "<p>694282 rows × 17 columns</p>\n",
       "</div>"
      ],
      "text/plain": [
       "          cmte_id    cand_id        cand_nm                 contbr_nm  \\\n",
       "411     C00431171  P80003353   Romney, Mitt        ELDERBAUM, WILLIAM   \n",
       "412     C00431171  P80003353   Romney, Mitt        ELDERBAUM, WILLIAM   \n",
       "413     C00431171  P80003353   Romney, Mitt          CARLSEN, RICHARD   \n",
       "414     C00431171  P80003353   Romney, Mitt            DELUCA, PIERRE   \n",
       "415     C00431171  P80003353   Romney, Mitt          SARGENT, MICHAEL   \n",
       "416     C00431171  P80003353   Romney, Mitt     WILSON, ANDREW C. MR.   \n",
       "417     C00431171  P80003353   Romney, Mitt             GRIFFIS, JOHN   \n",
       "418     C00431171  P80003353   Romney, Mitt          SARGENT, MICHAEL   \n",
       "419     C00431171  P80003353   Romney, Mitt             GRIFFIS, JOHN   \n",
       "420     C00431171  P80003353   Romney, Mitt        DELUCA, PIERRE MR.   \n",
       "421     C00431171  P80003353   Romney, Mitt             CLAUDE, FOUKS   \n",
       "422     C00431171  P80003353   Romney, Mitt             CLAUDE, FOUKS   \n",
       "423     C00431171  P80003353   Romney, Mitt            JONES, BRENDON   \n",
       "424     C00431171  P80003353   Romney, Mitt            KAMMER, DONALD   \n",
       "425     C00431171  P80003353   Romney, Mitt            DELUCA, PIERRE   \n",
       "426     C00431171  P80003353   Romney, Mitt            DELUCA, PIERRE   \n",
       "427     C00431171  P80003353   Romney, Mitt       EDWARDS, BRYANT MR.   \n",
       "428     C00431171  P80003353   Romney, Mitt  SANTALIZ, RAFAEL MR. JR.   \n",
       "429     C00431171  P80003353   Romney, Mitt    DICKSON, ROBERT J. MR.   \n",
       "430     C00431171  P80003353   Romney, Mitt          CARROLL, ART MR.   \n",
       "431     C00431171  P80003353   Romney, Mitt   NELDNER, RICHARD E. MR.   \n",
       "432     C00431171  P80003353   Romney, Mitt    MCGUIRE, PATTI S. MRS.   \n",
       "433     C00431171  P80003353   Romney, Mitt   WENZELL, DOMINIC S. DR.   \n",
       "434     C00431171  P80003353   Romney, Mitt              DIXON, JANET   \n",
       "435     C00431171  P80003353   Romney, Mitt           HOVE, BRIAN MR.   \n",
       "436     C00431171  P80003353   Romney, Mitt               FRAHM, MIKE   \n",
       "437     C00431171  P80003353   Romney, Mitt         POWERS, SANDRA L.   \n",
       "438     C00431171  P80003353   Romney, Mitt        SNODGRASS, JEANNIE   \n",
       "439     C00431171  P80003353   Romney, Mitt    POWELL, J. FRANCES MR.   \n",
       "440     C00431171  P80003353   Romney, Mitt    MCQUEEN, DENNIS L. MR.   \n",
       "...           ...        ...            ...                       ...   \n",
       "701356  C00431445  P80003338  Obama, Barack            WOODS, WILLIAM   \n",
       "701357  C00431445  P80003338  Obama, Barack             STOVAL, LINDA   \n",
       "701358  C00431445  P80003338  Obama, Barack             HAGEN, MARTIN   \n",
       "701359  C00431445  P80003338  Obama, Barack              MILLS, DAVID   \n",
       "701360  C00431445  P80003338  Obama, Barack           PHELPS, WILLIAM   \n",
       "701361  C00431445  P80003338  Obama, Barack           MARLATT, GORDON   \n",
       "701362  C00431445  P80003338  Obama, Barack          GOTTFRIED, BETTE   \n",
       "701363  C00431445  P80003338  Obama, Barack             STOVAL, LINDA   \n",
       "701364  C00431445  P80003338  Obama, Barack            MILES, MATTHEW   \n",
       "701365  C00431445  P80003338  Obama, Barack           NELSON, JANE B.   \n",
       "701366  C00431445  P80003338  Obama, Barack             HAGEN, MARTIN   \n",
       "701367  C00431445  P80003338  Obama, Barack           EMORY, DENNIS S   \n",
       "701368  C00431445  P80003338  Obama, Barack             IRWIN, C. DON   \n",
       "701369  C00431445  P80003338  Obama, Barack            LIU, FREDERICK   \n",
       "701370  C00431445  P80003338  Obama, Barack             KNIGHT, CINDY   \n",
       "701371  C00431445  P80003338  Obama, Barack               NEAL, AMBER   \n",
       "701372  C00431445  P80003338  Obama, Barack            MOUNTS, ROBERT   \n",
       "701373  C00431445  P80003338  Obama, Barack            MOUNTS, ROBERT   \n",
       "701374  C00431445  P80003338  Obama, Barack            TUCKER, PAMELA   \n",
       "701375  C00431445  P80003338  Obama, Barack            MOUNTS, ROBERT   \n",
       "701376  C00431445  P80003338  Obama, Barack             JONES, LESLIE   \n",
       "701377  C00431445  P80003338  Obama, Barack            MOUNTS, ROBERT   \n",
       "701378  C00431445  P80003338  Obama, Barack            MOUNTS, ROBERT   \n",
       "701379  C00431445  P80003338  Obama, Barack        GOLDSTINE, RAYMOND   \n",
       "701380  C00431445  P80003338  Obama, Barack             JONES, LESLIE   \n",
       "701381  C00431445  P80003338  Obama, Barack            MOUNTS, ROBERT   \n",
       "701382  C00431445  P80003338  Obama, Barack           TAITANO, TYRONE   \n",
       "701383  C00431445  P80003338  Obama, Barack            TUCKER, PAMELA   \n",
       "701384  C00431445  P80003338  Obama, Barack            MOUNTS, ROBERT   \n",
       "701385  C00431445  P80003338  Obama, Barack               NEAL, AMBER   \n",
       "\n",
       "            contbr_city contbr_st    contbr_zip  \\\n",
       "411                 DPO        AA  3.402302e+08   \n",
       "412                 DPO        AA  3.402302e+08   \n",
       "413                 APO        AE  9.128002e+07   \n",
       "414                 APO        AE  9.128000e+07   \n",
       "415                 APO        AE  9.012009e+07   \n",
       "416                 DPO        AE  9.870002e+07   \n",
       "417                 APO        AE  9.128001e+07   \n",
       "418                 APO        AE  9.012009e+07   \n",
       "419                 APO        AE  9.128001e+07   \n",
       "420                 APO        AE  9.128000e+07   \n",
       "421        PARIS FRANCE        AE         75011   \n",
       "422        PARIS FRANCE        AE         75011   \n",
       "423               QATAR        AE          9898   \n",
       "424                 APO        AE          9267   \n",
       "425                 APO        AE  9.128000e+07   \n",
       "426                 APO        AE  9.128000e+07   \n",
       "427           LONDON UK        AE         90071   \n",
       "428                 APO        AE  9.102001e+07   \n",
       "429           ANCHORAGE        AK  9.951661e+08   \n",
       "430           FAIRBANKS        AK   9.97014e+08   \n",
       "431           FAIRBANKS        AK  9.970725e+08   \n",
       "432           ANCHORAGE        AK  9.950219e+08   \n",
       "433           ANCHORAGE        AK  9.951733e+08   \n",
       "434           FAIRBANKS        AK  9.970966e+08   \n",
       "435           ANCHORAGE        AK  9.951727e+08   \n",
       "436              WILLOW        AK  9.968811e+08   \n",
       "437           ANCHORAGE        AK  9.950725e+08   \n",
       "438              PALMER        AK  9.964519e+08   \n",
       "439              KODIAK        AK  9.961506e+08   \n",
       "440           FAIRBANKS        AK  9.970115e+08   \n",
       "...                 ...       ...           ...   \n",
       "701356         BAR NUNN        WY     826019485   \n",
       "701357           CASPER        WY     826013324   \n",
       "701358          JACKSON        WY         83002   \n",
       "701359          JACKSON        WY     830010452   \n",
       "701360          JACKSON        WY     830012585   \n",
       "701361          LARAMIE        WY         82070   \n",
       "701362           CASPER        WY     826043172   \n",
       "701363           CASPER        WY     826013324   \n",
       "701364           ALPINE        WY     831280665   \n",
       "701365         CHEYENNE        WY     820098901   \n",
       "701366          JACKSON        WY         83002   \n",
       "701367           WILSON        WY     830140190   \n",
       "701368          DOUGLAS        WY     826339515   \n",
       "701369          JACKSON        WY     830010788   \n",
       "701370          JACKSON        WY     830012194   \n",
       "701371              APO        ZZ     091022065   \n",
       "701372              APO        ZZ     962043077   \n",
       "701373              APO        ZZ     962043077   \n",
       "701374              APO        ZZ     963190030   \n",
       "701375              APO        ZZ     962043077   \n",
       "701376  HAMILTON PARISH        ZZ         0CR04   \n",
       "701377              APO        ZZ     962043077   \n",
       "701378              APO        ZZ     962043077   \n",
       "701379              APO        ZZ         09831   \n",
       "701380  HAMILTON PARISH        ZZ         0CR04   \n",
       "701381              APO        ZZ     962043077   \n",
       "701382          HAGATNA        ZZ     969323373   \n",
       "701383              APO        ZZ     963190030   \n",
       "701384              APO        ZZ     962043077   \n",
       "701385              APO        ZZ     091022065   \n",
       "\n",
       "                               contbr_employer  \\\n",
       "411                              US GOVERNMENT   \n",
       "412                              US GOVERNMENT   \n",
       "413                DEFENSE INTELLIGENCE AGENCY   \n",
       "414                                      CISCO   \n",
       "415           RAYTHEON TECHNICAL SERVICES CORP   \n",
       "416                           US DEPT OF STATE   \n",
       "417                                    US ARMY   \n",
       "418           RAYTHEON TECHNICAL SERVICES CORP   \n",
       "419                                    US ARMY   \n",
       "420                                    US ARMY   \n",
       "421                                  PALPATINE   \n",
       "422                                  PALPATINE   \n",
       "423                                        OSC   \n",
       "424                                         US   \n",
       "425                                      CISCO   \n",
       "426                                      CISCO   \n",
       "427                           LATHAM & WATKINS   \n",
       "428     INFORMATION REQUESTED PER BEST EFFORTS   \n",
       "429                   ATKINSON CONWAY & GOGVOR   \n",
       "430                                    RETIRED   \n",
       "431                                    RETIRED   \n",
       "432                       BRIDGECARE HOSPITALS   \n",
       "433                              SELF-EMPLOYED   \n",
       "434                              SELF-EMPLOYED   \n",
       "435                              SELF-EMPLOYED   \n",
       "436                            ALASKA AIRLINES   \n",
       "437                       POWERS BROTHERS INC.   \n",
       "438                                    STUDENT   \n",
       "439     INFORMATION REQUESTED PER BEST EFFORTS   \n",
       "440                                    RETIRED   \n",
       "...                                        ...   \n",
       "701356                                WAL-MART   \n",
       "701357                           SELF-EMPLOYED   \n",
       "701358            TETON COUNTY SCHOOL DIST. #1   \n",
       "701359                                 RETIRED   \n",
       "701360                           SELF-EMPLOYED   \n",
       "701361                           SELF-EMPLOYED   \n",
       "701362                                 RETIRED   \n",
       "701363                           SELF-EMPLOYED   \n",
       "701364                           SELF-EMPLOYED   \n",
       "701365                                 RETIRED   \n",
       "701366            TETON COUNTY SCHOOL DIST. #1   \n",
       "701367                           SELF-EMPLOYED   \n",
       "701368                   INFORMATION REQUESTED   \n",
       "701369                            NOT EMPLOYED   \n",
       "701370         TETON YOUTH AND FAMILY SERVICES   \n",
       "701371  THE DEPARTMENT OF DEFENSE EDUCATION AC   \n",
       "701372                       HQ USFK (FKDC-SA)   \n",
       "701373                       HQ USFK (FKDC-SA)   \n",
       "701374                                   DODEA   \n",
       "701375                       HQ USFK (FKDC-SA)   \n",
       "701376                           SELF-EMPLOYED   \n",
       "701377                       HQ USFK (FKDC-SA)   \n",
       "701378                       HQ USFK (FKDC-SA)   \n",
       "701379                                     CDC   \n",
       "701380                           SELF-EMPLOYED   \n",
       "701381                       HQ USFK (FKDC-SA)   \n",
       "701382                            NOT EMPLOYED   \n",
       "701383                                   DODEA   \n",
       "701384                       HQ USFK (FKDC-SA)   \n",
       "701385  THE DEPARTMENT OF DEFENSE EDUCATION AC   \n",
       "\n",
       "                             contbr_occupation  contb_receipt_amt  \\\n",
       "411                    FOREIGN SERVICE OFFICER                 25   \n",
       "412                    FOREIGN SERVICE OFFICER                110   \n",
       "413                       INTELLIGENCE ANALYST                250   \n",
       "414                                   ENGINEER                 30   \n",
       "415                  COMPUTER SYSTEMS ENGINEER                100   \n",
       "416                    FOREIGN SERVICE OFFICER                 50   \n",
       "417                           MILITARY OFFICER                250   \n",
       "418                  COMPUTER SYSTEMS ENGINEER                100   \n",
       "419                           MILITARY OFFICER                250   \n",
       "420                                   ENGINEER                 50   \n",
       "421                                     SECRET                100   \n",
       "422                                     SECRET                250   \n",
       "423                              MEDIA ANALYST                250   \n",
       "424                                   MILITARY                500   \n",
       "425                                   ENGINEER                250   \n",
       "426                                   ENGINEER                250   \n",
       "427                                   ATTORNEY               2500   \n",
       "428     INFORMATION REQUESTED PER BEST EFFORTS                500   \n",
       "429                                   ATTORNEY                250   \n",
       "430                                    RETIRED                100   \n",
       "431                                    RETIRED               2500   \n",
       "432                             VICE PRESIDENT               1000   \n",
       "433                                    DENTIST                250   \n",
       "434                                 CONSULTANT                110   \n",
       "435                               PHOTOGRAPHER                250   \n",
       "436                                      PILOT                250   \n",
       "437                             VICE PRESIDENT                 25   \n",
       "438                                    STUDENT                250   \n",
       "439     INFORMATION REQUESTED PER BEST EFFORTS                250   \n",
       "440                                    RETIRED                 50   \n",
       "...                                        ...                ...   \n",
       "701356                               ASSOCIATE                 20   \n",
       "701357          POLITICAL CONSULTANT AND COACH                 10   \n",
       "701358                              BUS DRIVER                 25   \n",
       "701359                                 RETIRED                 75   \n",
       "701360                           SELF-EMPLOYED                100   \n",
       "701361                               GEOLOGIST                 25   \n",
       "701362                                 RETIRED                200   \n",
       "701363          POLITICAL CONSULTANT AND COACH                 25   \n",
       "701364                     BUSINESS MANAGEMENT                 50   \n",
       "701365                                 RETIRED                 50   \n",
       "701366                              BUS DRIVER                 19   \n",
       "701367                              CONSULTANT                100   \n",
       "701368                   INFORMATION REQUESTED                150   \n",
       "701369                                 RETIRED                 56   \n",
       "701370                        PROGRAM DIRECTOR                100   \n",
       "701371                                 TEACHER                 50   \n",
       "701372   GS-15 INTERNATIONAL RELATIONS OFFICER                 25   \n",
       "701373   GS-15 INTERNATIONAL RELATIONS OFFICER                 25   \n",
       "701374                                EDUCATOR                100   \n",
       "701375   GS-15 INTERNATIONAL RELATIONS OFFICER                 25   \n",
       "701376                                ATTORNEY               2500   \n",
       "701377   GS-15 INTERNATIONAL RELATIONS OFFICER                 25   \n",
       "701378   GS-15 INTERNATIONAL RELATIONS OFFICER                 25   \n",
       "701379                   PUBLIC HEALTH ADVISOR                250   \n",
       "701380                                ATTORNEY               2500   \n",
       "701381   GS-15 INTERNATIONAL RELATIONS OFFICER                 25   \n",
       "701382                                 RETIRED                250   \n",
       "701383                                EDUCATOR                  3   \n",
       "701384   GS-15 INTERNATIONAL RELATIONS OFFICER                 25   \n",
       "701385                                 TEACHER                135   \n",
       "\n",
       "       contb_receipt_dt receipt_desc memo_cd                  memo_text  \\\n",
       "411           01-FEB-12          NaN     NaN                        NaN   \n",
       "412           01-FEB-12          NaN     NaN                        NaN   \n",
       "413           13-APR-12          NaN     NaN                        NaN   \n",
       "414           21-AUG-11          NaN     NaN                        NaN   \n",
       "415           07-MAR-12          NaN     NaN                        NaN   \n",
       "416           17-MAR-12          NaN     NaN                        NaN   \n",
       "417           20-MAR-12          NaN     NaN                        NaN   \n",
       "418           09-APR-12          NaN     NaN                        NaN   \n",
       "419           28-JAN-12          NaN     NaN                        NaN   \n",
       "420           01-FEB-12          NaN     NaN                        NaN   \n",
       "421           29-NOV-11          NaN     NaN                        NaN   \n",
       "422           29-DEC-11          NaN     NaN                        NaN   \n",
       "423           22-NOV-11          NaN     NaN                        NaN   \n",
       "424           31-DEC-11          NaN     NaN                        NaN   \n",
       "425           28-APR-11          NaN     NaN                        NaN   \n",
       "426           27-JUN-11          NaN     NaN                        NaN   \n",
       "427           20-JUN-11          NaN     NaN                        NaN   \n",
       "428           14-FEB-12          NaN     NaN                        NaN   \n",
       "429           27-APR-12          NaN     NaN                        NaN   \n",
       "430           09-APR-12          NaN     NaN                        NaN   \n",
       "431           23-APR-12          NaN     NaN                        NaN   \n",
       "432           12-APR-12          NaN     NaN                        NaN   \n",
       "433           30-APR-12          NaN     NaN                        NaN   \n",
       "434           23-APR-12          NaN     NaN                        NaN   \n",
       "435           24-APR-12          NaN     NaN                        NaN   \n",
       "436           20-APR-12          NaN     NaN                        NaN   \n",
       "437           24-APR-12          NaN     NaN                        NaN   \n",
       "438           21-APR-12          NaN     NaN                        NaN   \n",
       "439           09-APR-12          NaN     NaN                        NaN   \n",
       "440           16-APR-12          NaN     NaN                        NaN   \n",
       "...                 ...          ...     ...                        ...   \n",
       "701356        31-MAR-12          NaN     NaN                        NaN   \n",
       "701357        28-MAR-12          NaN     NaN                        NaN   \n",
       "701358        17-MAR-12          NaN     NaN                        NaN   \n",
       "701359        31-MAR-12          NaN     NaN                        NaN   \n",
       "701360        02-MAR-12          NaN     NaN                        NaN   \n",
       "701361        07-MAR-12          NaN     NaN                        NaN   \n",
       "701362        25-APR-12          NaN     NaN                        NaN   \n",
       "701363        23-APR-12          NaN     NaN                        NaN   \n",
       "701364        20-APR-12          NaN     NaN                        NaN   \n",
       "701365        30-APR-12          NaN     NaN                        NaN   \n",
       "701366        26-APR-12          NaN     NaN                        NaN   \n",
       "701367        19-APR-12          NaN     NaN                        NaN   \n",
       "701368        05-APR-12          NaN     NaN                        NaN   \n",
       "701369        26-APR-12          NaN     NaN                        NaN   \n",
       "701370        19-APR-12          NaN     NaN                        NaN   \n",
       "701371        04-SEP-11          NaN     NaN                        NaN   \n",
       "701372        26-MAR-12          NaN     NaN                        NaN   \n",
       "701373        26-OCT-11          NaN     NaN                        NaN   \n",
       "701374        31-DEC-11          NaN     NaN                        NaN   \n",
       "701375        26-DEC-11          NaN     NaN                        NaN   \n",
       "701376        30-DEC-11          NaN       X  * OBAMA VICTORY FUND 2012   \n",
       "701377        26-NOV-11          NaN     NaN                        NaN   \n",
       "701378        26-JAN-12          NaN     NaN                        NaN   \n",
       "701379        02-FEB-12          NaN     NaN                        NaN   \n",
       "701380        30-DEC-11          NaN       X  * OBAMA VICTORY FUND 2012   \n",
       "701381        26-FEB-12          NaN     NaN                        NaN   \n",
       "701382        20-JAN-12          NaN     NaN                        NaN   \n",
       "701383        20-JAN-12          NaN     NaN                        NaN   \n",
       "701384        26-APR-12          NaN     NaN                        NaN   \n",
       "701385        04-SEP-11          NaN       X  * OBAMA VICTORY FUND 2012   \n",
       "\n",
       "       form_tp  file_num       party  \n",
       "411      SA17A    780124  Republican  \n",
       "412      SA17A    780124  Republican  \n",
       "413      SA17A    785689  Republican  \n",
       "414      SA17A    760261  Republican  \n",
       "415      SA17A    780128  Republican  \n",
       "416      SA17A    780128  Republican  \n",
       "417      SA17A    780128  Republican  \n",
       "418      SA17A    785689  Republican  \n",
       "419      SA17A    771933  Republican  \n",
       "420      SA17A    780124  Republican  \n",
       "421      SA17A    771927  Republican  \n",
       "422      SA17A    771927  Republican  \n",
       "423      SA17A    771927  Republican  \n",
       "424      SA17A    771927  Republican  \n",
       "425      SA17A    760248  Republican  \n",
       "426      SA17A    760248  Republican  \n",
       "427      SA17A    760248  Republican  \n",
       "428      SA17A    780124  Republican  \n",
       "429      SA17A    785689  Republican  \n",
       "430      SA17A    785689  Republican  \n",
       "431      SA17A    785689  Republican  \n",
       "432      SA17A    785689  Republican  \n",
       "433      SA17A    785689  Republican  \n",
       "434      SA17A    785689  Republican  \n",
       "435      SA17A    785689  Republican  \n",
       "436      SA17A    785689  Republican  \n",
       "437      SA17A    785689  Republican  \n",
       "438      SA17A    785689  Republican  \n",
       "439      SA17A    785689  Republican  \n",
       "440      SA17A    785689  Republican  \n",
       "...        ...       ...         ...  \n",
       "701356   SA17A    780234    Democrat  \n",
       "701357   SA17A    780234    Democrat  \n",
       "701358   SA17A    780234    Democrat  \n",
       "701359   SA17A    780234    Democrat  \n",
       "701360   SA17A    780234    Democrat  \n",
       "701361   SA17A    780234    Democrat  \n",
       "701362   SA17A    785239    Democrat  \n",
       "701363   SA17A    785239    Democrat  \n",
       "701364   SA17A    785239    Democrat  \n",
       "701365   SA17A    785239    Democrat  \n",
       "701366   SA17A    785239    Democrat  \n",
       "701367   SA17A    785239    Democrat  \n",
       "701368   SA17A    785239    Democrat  \n",
       "701369   SA17A    785239    Democrat  \n",
       "701370   SA17A    785239    Democrat  \n",
       "701371   SA17A    756218    Democrat  \n",
       "701372   SA17A    780234    Democrat  \n",
       "701373   SA17A    772372    Democrat  \n",
       "701374   SA17A    772372    Democrat  \n",
       "701375   SA17A    772372    Democrat  \n",
       "701376    SA18    772372    Democrat  \n",
       "701377   SA17A    772372    Democrat  \n",
       "701378   SA17A    775668    Democrat  \n",
       "701379   SA17A    787803    Democrat  \n",
       "701380    SA18    772372    Democrat  \n",
       "701381   SA17A    787803    Democrat  \n",
       "701382   SA17A    775668    Democrat  \n",
       "701383   SA17A    775668    Democrat  \n",
       "701384   SA17A    785239    Democrat  \n",
       "701385    SA18    756218    Democrat  \n",
       "\n",
       "[694282 rows x 17 columns]"
      ]
     },
     "execution_count": 63,
     "metadata": {},
     "output_type": "execute_result"
    }
   ],
   "source": [
    "fec_mrbo = fec[fec.cand_nm.isin(['Obama, Barack', 'Romney, Mitt'])]\n",
    "fec_mrbo"
   ]
  },
  {
   "cell_type": "markdown",
   "metadata": {},
   "source": [
    "### 기부 통계"
   ]
  },
  {
   "cell_type": "code",
   "execution_count": null,
   "metadata": {
    "collapsed": false
   },
   "outputs": [],
   "source": [
    "fec.contbr_occupation.value_counts()[:10]"
   ]
  },
  {
   "cell_type": "code",
   "execution_count": null,
   "metadata": {
    "collapsed": false
   },
   "outputs": [],
   "source": [
    "occ_mapping = {\n",
    "   'INFORMATION REQUESTED PER BEST EFFORTS' : 'NOT PROVIDED',\n",
    "   'INFORMATION REQUESTED' : 'NOT PROVIDED',\n",
    "   'INFORMATION REQUESTED (BEST EFFORTS)' : 'NOT PROVIDED',\n",
    "   'C.E.O.': 'CEO'\n",
    "}\n",
    "\n",
    "# If no mapping provided, return x\n",
    "f = lambda x: occ_mapping.get(x, x)\n",
    "fec.contbr_occupation = fec.contbr_occupation.map(f)"
   ]
  },
  {
   "cell_type": "code",
   "execution_count": null,
   "metadata": {
    "collapsed": false
   },
   "outputs": [],
   "source": [
    "emp_mapping = {\n",
    "   'INFORMATION REQUESTED PER BEST EFFORTS' : 'NOT PROVIDED',\n",
    "   'INFORMATION REQUESTED' : 'NOT PROVIDED',\n",
    "   'SELF' : 'SELF-EMPLOYED',\n",
    "   'SELF EMPLOYED' : 'SELF-EMPLOYED',\n",
    "}\n",
    "\n",
    "# If no mapping provided, return x\n",
    "f = lambda x: emp_mapping.get(x, x)\n",
    "fec.contbr_employer = fec.contbr_employer.map(f)"
   ]
  },
  {
   "cell_type": "code",
   "execution_count": null,
   "metadata": {
    "collapsed": false
   },
   "outputs": [],
   "source": [
    "by_occupation = fec.pivot_table('contb_receipt_amt',\n",
    "                                index='contbr_occupation',\n",
    "                                columns='party', aggfunc='sum')"
   ]
  },
  {
   "cell_type": "code",
   "execution_count": null,
   "metadata": {
    "collapsed": false
   },
   "outputs": [],
   "source": [
    "over_2mm = by_occupation[by_occupation.sum(1) > 2000000]\n",
    "over_2mm"
   ]
  },
  {
   "cell_type": "code",
   "execution_count": null,
   "metadata": {
    "collapsed": false
   },
   "outputs": [],
   "source": [
    "over_2mm.plot(kind='barh')"
   ]
  },
  {
   "cell_type": "code",
   "execution_count": null,
   "metadata": {
    "collapsed": false
   },
   "outputs": [],
   "source": [
    "def get_top_amounts(group, key, n=5):\n",
    "    totals = group.groupby(key)['contb_receipt_amt'].sum()\n",
    "\n",
    "    # Order totals by key in descending order\n",
    "    return totals.order(ascending=False)[-n:]"
   ]
  },
  {
   "cell_type": "code",
   "execution_count": null,
   "metadata": {
    "collapsed": false
   },
   "outputs": [],
   "source": [
    "grouped = fec_mrbo.groupby('cand_nm')\n",
    "grouped.apply(get_top_amounts, 'contbr_occupation', n=7)"
   ]
  },
  {
   "cell_type": "code",
   "execution_count": null,
   "metadata": {
    "collapsed": false
   },
   "outputs": [],
   "source": [
    "grouped.apply(get_top_amounts, 'contbr_employer', n=10)"
   ]
  },
  {
   "cell_type": "markdown",
   "metadata": {},
   "source": [
    "### Bucketing donation amounts"
   ]
  },
  {
   "cell_type": "code",
   "execution_count": null,
   "metadata": {
    "collapsed": false
   },
   "outputs": [],
   "source": [
    "bins = np.array([0, 1, 10, 100, 1000, 10000, 100000, 1000000, 10000000])\n",
    "labels = pd.cut(fec_mrbo.contb_receipt_amt, bins)\n",
    "labels"
   ]
  },
  {
   "cell_type": "code",
   "execution_count": null,
   "metadata": {
    "collapsed": false
   },
   "outputs": [],
   "source": [
    "grouped = fec_mrbo.groupby(['cand_nm', labels])\n",
    "grouped.size().unstack(0)"
   ]
  },
  {
   "cell_type": "code",
   "execution_count": null,
   "metadata": {
    "collapsed": false
   },
   "outputs": [],
   "source": [
    "bucket_sums = grouped.contb_receipt_amt.sum().unstack(0)\n",
    "bucket_sums"
   ]
  },
  {
   "cell_type": "code",
   "execution_count": null,
   "metadata": {
    "collapsed": false
   },
   "outputs": [],
   "source": [
    "normed_sums = bucket_sums.div(bucket_sums.sum(axis=1), axis=0)\n",
    "normed_sums"
   ]
  },
  {
   "cell_type": "code",
   "execution_count": null,
   "metadata": {
    "collapsed": false
   },
   "outputs": [],
   "source": [
    "normed_sums[:-2].plot(kind='barh', stacked=True)"
   ]
  },
  {
   "cell_type": "markdown",
   "metadata": {},
   "source": [
    "### Donation statistics by state"
   ]
  },
  {
   "cell_type": "code",
   "execution_count": null,
   "metadata": {
    "collapsed": false
   },
   "outputs": [],
   "source": [
    "grouped = fec_mrbo.groupby(['cand_nm', 'contbr_st'])\n",
    "totals = grouped.contb_receipt_amt.sum().unstack(0).fillna(0)\n",
    "totals = totals[totals.sum(1) > 100000]\n",
    "totals[:10]"
   ]
  },
  {
   "cell_type": "code",
   "execution_count": null,
   "metadata": {
    "collapsed": false
   },
   "outputs": [],
   "source": [
    "percent = totals.div(totals.sum(1), axis=0)\n",
    "percent[:10]"
   ]
  }
 ],
 "metadata": {
  "kernelspec": {
   "display_name": "Python 2",
   "language": "python",
   "name": "python2"
  },
  "language_info": {
   "codemirror_mode": {
    "name": "ipython",
    "version": 2
   },
   "file_extension": ".py",
   "mimetype": "text/x-python",
   "name": "python",
   "nbconvert_exporter": "python",
   "pygments_lexer": "ipython2",
   "version": "2.7.10"
  }
 },
 "nbformat": 4,
 "nbformat_minor": 0
}
